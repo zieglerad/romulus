{
 "cells": [
  {
   "cell_type": "code",
   "execution_count": null,
   "id": "clinical-clinton",
   "metadata": {},
   "outputs": [],
   "source": [
    "import numpy as np\n",
    "import scipy.signal as signal\n",
    "import matplotlib.pyplot as plt"
   ]
  },
  {
   "cell_type": "code",
   "execution_count": null,
   "id": "premium-programmer",
   "metadata": {},
   "outputs": [],
   "source": [
    "dt = 5e-9\n",
    "time = np.arange(0,8192,1) * dt\n",
    "A = 1e-7\n",
    "var = 1.38e-12\n",
    "F = 25e6\n",
    "#noise = np.random.normal(0, np.sqrt(var), 8192)\n",
    "signal = A * np.cos(2 * np.pi * F * time)\n",
    "#y = signal + noise\n",
    "h = signal * np.sqrt(1/(var * np.dot(signal, signal)))\n",
    "\n",
    "trials = 1000\n",
    "noise_only = []\n",
    "signal_plus_noise = []\n",
    "SNR = []\n",
    "for t in range(trials):\n",
    "    noise = np.random.normal(0, np.sqrt(var), 8192)\n",
    "    y = signal + noise\n",
    "    noise_only.append(np.dot(h, noise))\n",
    "    signal_plus_noise.append(np.dot(h, y))\n",
    "plt.figure(figsize=(8,6))\n",
    "plt.hist(noise_only, 42)\n",
    "plt.hist(signal_plus_noise, 42)\n",
    "\n",
    "    "
   ]
  },
  {
   "cell_type": "code",
   "execution_count": null,
   "id": "increasing-renaissance",
   "metadata": {},
   "outputs": [],
   "source": []
  }
 ],
 "metadata": {
  "kernelspec": {
   "display_name": "Python 3",
   "language": "python",
   "name": "python3"
  },
  "language_info": {
   "codemirror_mode": {
    "name": "ipython",
    "version": 3
   },
   "file_extension": ".py",
   "mimetype": "text/x-python",
   "name": "python",
   "nbconvert_exporter": "python",
   "pygments_lexer": "ipython3",
   "version": "3.9.1"
  }
 },
 "nbformat": 4,
 "nbformat_minor": 5
}
