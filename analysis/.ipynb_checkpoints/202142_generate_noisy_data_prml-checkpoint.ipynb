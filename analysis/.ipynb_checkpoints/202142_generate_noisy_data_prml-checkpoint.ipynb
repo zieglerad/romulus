{
 "cells": [
  {
   "cell_type": "code",
   "execution_count": null,
   "id": "driven-blanket",
   "metadata": {},
   "outputs": [],
   "source": [
    "import pickle as pkl\n",
    "import numpy as np\n",
    "import matplotlib.pyplot as plt\n",
    "import math\n",
    "\n",
    "raw_data_all_path = '/Users/ziegler/Documents/data/202142_raw_data_all_prml.pkl'\n",
    "\n",
    "with open(raw_data_all_path, 'rb') as infile:\n",
    "    raw_data_all = pkl.load(infile)"
   ]
  },
  {
   "cell_type": "code",
   "execution_count": null,
   "id": "legislative-birmingham",
   "metadata": {},
   "outputs": [],
   "source": [
    "names = raw_data_all['sims']\n",
    "x = raw_data_all['x']"
   ]
  },
  {
   "cell_type": "code",
   "execution_count": null,
   "id": "textile-carbon",
   "metadata": {},
   "outputs": [],
   "source": [
    "# define noise variance\n",
    "temp = 10\n",
    "bandwidth = 200e6\n",
    "kB = 1.38e-23\n",
    "R = 50\n",
    "\n",
    "noise_var = kB * temp * bandwidth * R\n",
    "\n",
    "#random_data = rng.multivariate_normal([0., 0.], np.eye(2) * noise_var / 2, N)\n",
    "\n",
    "# pitch angles\n",
    "pitch_angles = []\n",
    "for name in names:\n",
    "    pitch_angles.append(float(name.split('Angle')[-1].split('_Pos')[0]))\n",
    "\n",
    "pitch_angles = np.array(pitch_angles)\n",
    "train_pitch_angle = np.arange(87., 90.005, 0.005)\n",
    "test_pitch_angle = np.arange(87.0025, 90., 0.005)\n"
   ]
  },
  {
   "cell_type": "code",
   "execution_count": null,
   "id": "accessible-noise",
   "metadata": {},
   "outputs": [],
   "source": [
    "# random number generation\n",
    "seed_random = 666\n",
    "N = 8192\n",
    "rng = np.random.default_rng(seed = seed_random)\n",
    "\n",
    "# make data\n",
    "\n",
    "unsorted_train_pitch_angle = []\n",
    "unsorted_train_time_series = []\n",
    "\n",
    "unsorted_test_pitch_angle = []\n",
    "unsorted_test_time_series = []\n",
    "\n",
    "unsorted_val_pitch_angle = []\n",
    "unsorted_val_time_series = []\n",
    "\n",
    "n_train = 100 # number of train example per pitch angle.\n",
    "n_test = 10 # number of test example per pitch angle.\n",
    "\n",
    "for i, pa in enumerate(pitch_angles):\n",
    "    \n",
    "    if len(np.argwhere(abs(train_pitch_angle - pa) < 1e-3)) > 0:\n",
    "        for k in range(n_train):\n",
    "            unsorted_train_pitch_angle.append(pa)\n",
    "            noise = rng.multivariate_normal([0., 0.], np.eye(2) * noise_var / 2, N)\n",
    "            noise = noise[:, 0] + 1j * noise[:, 1]\n",
    "            \n",
    "            unsorted_train_time_series.append(np.complex64(noise + x[i, :]))\n",
    "            \n",
    "    elif len(np.argwhere(abs(test_pitch_angle - pa) < 1e-3)) > 0:\n",
    "        for k in range(n_test):\n",
    "            unsorted_test_pitch_angle.append(pa)\n",
    "            unsorted_val_pitch_angle.append(pa)\n",
    "            \n",
    "            noise = rng.multivariate_normal([0., 0.], np.eye(2) * noise_var / 2, N)\n",
    "            noise = noise[:, 0] + 1j * noise[:, 1]\n",
    "            \n",
    "            unsorted_test_time_series.append(np.complex64(noise + x[i, :]))\n",
    "            \n",
    "            noise = rng.multivariate_normal([0., 0.], np.eye(2) * noise_var / 2, N)\n",
    "            noise = noise[:, 0] + 1j * noise[:, 1]\n",
    "            \n",
    "            unsorted_val_time_series.append(np.complex64(noise + x[i, :]))\n",
    "            \n",
    "    if i % 100 == 99:\n",
    "        print('Done with %.2d' % (i + 1))\n",
    "        \n",
    "unsorted_train_time_series = np.array(unsorted_train_time_series)\n",
    "unsorted_test_time_series = np.array(unsorted_test_time_series)\n",
    "unsorted_val_time_series = np.array(unsorted_val_time_series)"
   ]
  },
  {
   "cell_type": "code",
   "execution_count": null,
   "id": "powerful-celtic",
   "metadata": {},
   "outputs": [],
   "source": [
    "print(unsorted_time_series.shape)"
   ]
  },
  {
   "cell_type": "code",
   "execution_count": null,
   "id": "documented-hands",
   "metadata": {},
   "outputs": [],
   "source": []
  }
 ],
 "metadata": {
  "kernelspec": {
   "display_name": "Python 3",
   "language": "python",
   "name": "python3"
  },
  "language_info": {
   "codemirror_mode": {
    "name": "ipython",
    "version": 3
   },
   "file_extension": ".py",
   "mimetype": "text/x-python",
   "name": "python",
   "nbconvert_exporter": "python",
   "pygments_lexer": "ipython3",
   "version": "3.9.1"
  }
 },
 "nbformat": 4,
 "nbformat_minor": 5
}
