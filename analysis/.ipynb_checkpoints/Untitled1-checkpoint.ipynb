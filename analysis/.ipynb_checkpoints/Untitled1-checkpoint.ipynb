{
 "cells": [
  {
   "cell_type": "code",
   "execution_count": null,
   "id": "declared-candidate",
   "metadata": {},
   "outputs": [],
   "source": [
    "import numpy as np\n",
    "import matplotlib.pyplot as plt\n",
    "import csv"
   ]
  },
  {
   "cell_type": "code",
   "execution_count": null,
   "id": "entertaining-analysis",
   "metadata": {},
   "outputs": [],
   "source": [
    "confMatrix=np.zeros((17,17));\n",
    "with open('/Users/ziegler/confmatrix.csv','r') as infile:\n",
    "    csvfile=csv.reader(infile)\n",
    "    for i,r in enumerate(csvfile):\n",
    "        confMatrix[i,:]=np.int64(r)\n",
    "print(confMatrix)"
   ]
  },
  {
   "cell_type": "code",
   "execution_count": null,
   "id": "respected-pastor",
   "metadata": {},
   "outputs": [],
   "source": [
    "matrix=np.int32(confMatrix)\n",
    "colorMatrix=np.zeros(matrix.shape)\n",
    "for i in range(matrix.shape[0]):\n",
    "    colorMatrix[i,:]=np.round(matrix[i,:]/sum(matrix[i,:]),2)\n",
    "print(matrix)"
   ]
  },
  {
   "cell_type": "code",
   "execution_count": null,
   "id": "jewish-letters",
   "metadata": {},
   "outputs": [],
   "source": [
    "plt.figure(figsize=(8,8))\n",
    "plt.imshow(colorMatrix,cmap='gray')\n",
    "for i in range(matrix.shape[0]):\n",
    "    for j in range(matrix.shape[1]):\n",
    "        plt.text(i,j,matrix[j,i],ha='center',va='center',color='r',size=12)\n",
    "        \n",
    "plt.xticks(ticks=np.arange(0,matrix.shape[1],1),labels=np.arange(1,matrix.shape[1]+1,1))\n",
    "plt.yticks(ticks=np.arange(0,matrix.shape[0],1),labels=np.arange(1,matrix.shape[0]+1,1))\n",
    "plt.xlabel('Predicted Class')\n",
    "plt.ylabel('Actual Class')\n",
    "plt.title('Confusion Matrix')\n",
    "plt.savefig('/Users/ziegler/classes/ee552/project2/plots/confMatrixWallTrain.png')\n",
    "\n",
    "plt.figure(figsize=(8,8))\n",
    "plt.imshow(colorMatrix,cmap='gray')\n",
    "for i in range(matrix.shape[0]):\n",
    "    for j in range(matrix.shape[1]):\n",
    "        plt.text(i,j,colorMatrix[j,i],ha='center',va='center',color='r',size=8)\n",
    "        \n",
    "plt.xticks(ticks=np.arange(0,matrix.shape[1],1),labels=np.arange(1,matrix.shape[1]+1,1))\n",
    "plt.yticks(ticks=np.arange(0,matrix.shape[0],1),labels=np.arange(1,matrix.shape[0]+1,1))\n",
    "plt.xlabel('Predicted Class')\n",
    "plt.ylabel('Actual Class')\n",
    "plt.title('Classification Matrix')\n",
    "plt.savefig('/Users/ziegler/classes/ee552/project2/plots/classMatrixWallTrain.png')"
   ]
  },
  {
   "cell_type": "code",
   "execution_count": null,
   "id": "neural-business",
   "metadata": {},
   "outputs": [],
   "source": []
  }
 ],
 "metadata": {
  "kernelspec": {
   "display_name": "Python 3",
   "language": "python",
   "name": "python3"
  },
  "language_info": {
   "codemirror_mode": {
    "name": "ipython",
    "version": 3
   },
   "file_extension": ".py",
   "mimetype": "text/x-python",
   "name": "python",
   "nbconvert_exporter": "python",
   "pygments_lexer": "ipython3",
   "version": "3.9.1"
  }
 },
 "nbformat": 4,
 "nbformat_minor": 5
}
