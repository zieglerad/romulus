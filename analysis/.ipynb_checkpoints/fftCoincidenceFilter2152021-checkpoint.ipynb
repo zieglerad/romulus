{
 "cells": [
  {
   "cell_type": "code",
   "execution_count": null,
   "id": "parental-continent",
   "metadata": {},
   "outputs": [],
   "source": [
    "## imports ##\n",
    "import numpy as np\n",
    "import matplotlib.pyplot as plt\n",
    "import scipy\n",
    "import os\n",
    "####\n",
    "\n",
    "## globals ##\n",
    "\n",
    "nSample=8192\n",
    "tSample=5e-9\n",
    "frequency=np.fft.fftshift(np.fft.fftfreq(nSample,1/tSample))\n",
    "samples=np.arange(0,nSample,1)\n",
    "time=samples*tSample\n",
    "noiseVar=1\n",
    "fLO=25e9\n",
    "doPlots=True\n",
    "\n",
    "##\n"
   ]
  },
  {
   "cell_type": "code",
   "execution_count": null,
   "id": "invisible-houston",
   "metadata": {},
   "outputs": [],
   "source": [
    "## define signal ##\n",
    "\n",
    "signalFreqs=np.array([30e6,10e6,50e6])\n",
    "signalPhases=np.array([.0,0.1,-0.4])\n",
    "signalAmps=[1,1,1]\n",
    "signalTime=np.zeros(time.size,dtype=np.complex128)\n",
    "for i in range(signalFreqs.size):\n",
    "    signalTime+=signalAmps[i]*np.exp(-1j*2*np.pi*(signalFreqs[i]*time-signalPhases[i]))\n",
    "\n",
    "\n",
    "if doPlots:\n",
    "    fig,axs=plt.subplots()\n",
    "    axs.plot(time,signalTime.real,'r')\n",
    "    axs.set_xlim(time[0],time[200])\n",
    "###\n",
    "\n",
    "## add noise ##\n",
    "\n",
    "noise=np.random.multivariate_normal(mean=[0,0],cov=np.eye(2)*noiseVar/2,size=nSample)\n",
    "noise=noise[:,0]+1j*noise[:,1]\n",
    "\n",
    "noisePower=np.mean(abs(noise)**2)\n",
    "signalPower=np.mean(abs(signalTime)**2)\n",
    "snr=signalPower/noisePower\n",
    "\n",
    "print('SNR is: ',snr)\n",
    "## fft ##\n",
    "\n",
    "signalFreq=np.fft.fftshift(np.fft.fft(signalTime))\n",
    "\n",
    "if doPlots:\n",
    "    fig,axs=plt.subplots()\n",
    "    axs.plot(frequency,signalFreq.imag/nSample,'r')\n",
    "    axs.plot(frequency,signalFreq.real/nSample,'b')\n",
    "    #axs.set_xlim(time[0],time[200])\n",
    "    \n",
    "    fig,axs=plt.subplots()\n",
    "    axs.plot(frequency,abs(signalFreq/nSample),'r')\n",
    "    #axs.set_xlim(time[0],time[200])\n",
    "    \n",
    "####\n",
    "\n",
    "## calculate signal power ##"
   ]
  },
  {
   "cell_type": "code",
   "execution_count": null,
   "id": "coastal-thumbnail",
   "metadata": {},
   "outputs": [],
   "source": []
  }
 ],
 "metadata": {
  "kernelspec": {
   "display_name": "Python 3",
   "language": "python",
   "name": "python3"
  },
  "language_info": {
   "codemirror_mode": {
    "name": "ipython",
    "version": 3
   },
   "file_extension": ".py",
   "mimetype": "text/x-python",
   "name": "python",
   "nbconvert_exporter": "python",
   "pygments_lexer": "ipython3",
   "version": "3.9.1"
  }
 },
 "nbformat": 4,
 "nbformat_minor": 5
}
