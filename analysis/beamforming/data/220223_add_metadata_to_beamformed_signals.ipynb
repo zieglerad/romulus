{
 "cells": [
  {
   "cell_type": "code",
   "execution_count": null,
   "id": "cc998418",
   "metadata": {},
   "outputs": [],
   "source": [
    "import numpy as np\n",
    "from pathlib import Path\n",
    "import mayfly as mf\n",
    "import pandas as pd"
   ]
  },
  {
   "cell_type": "code",
   "execution_count": null,
   "id": "205b6e22",
   "metadata": {},
   "outputs": [],
   "source": [
    "path = Path.home()/'group'/'project'/'datasets'/'data'/'bf'\n",
    "for i in path.iterdir(): print(i)"
   ]
  },
  {
   "cell_type": "code",
   "execution_count": null,
   "id": "70bd0917",
   "metadata": {},
   "outputs": [],
   "source": [
    "file_path = path/'220222_gradb_est_summed_data.npy'\n",
    "summed_data = np.load(file_path)\n",
    "print(summed_data.shape)"
   ]
  },
  {
   "cell_type": "code",
   "execution_count": null,
   "id": "aca0f0ef",
   "metadata": {},
   "outputs": [],
   "source": [
    "path = Path.home()/'group'/'project'/'datasets'/'data'\n",
    "for i in path.iterdir(): print(i)"
   ]
  },
  {
   "cell_type": "code",
   "execution_count": null,
   "id": "3b396f7c",
   "metadata": {},
   "outputs": [],
   "source": [
    "file_path = path/'211116_grad_b_est.h5'\n",
    "mfdata = mf.data.MFDataset(str(file_path))"
   ]
  },
  {
   "cell_type": "code",
   "execution_count": null,
   "id": "e756fa36",
   "metadata": {},
   "outputs": [],
   "source": [
    "df = pd.DataFrame(mfdata.metadata)"
   ]
  },
  {
   "cell_type": "code",
   "execution_count": null,
   "id": "7869ef47",
   "metadata": {},
   "outputs": [],
   "source": [
    "angles = np.array(df['theta_min'].array)\n",
    "radii = np.array(df['x_min'].array)"
   ]
  },
  {
   "cell_type": "code",
   "execution_count": null,
   "id": "0061c395",
   "metadata": {},
   "outputs": [],
   "source": [
    "path = Path.home()/'group'/'project'/'datasets'/'data'/'bf'\n",
    "file_path = path/'220223_gradb_est_summed_signals_with_pitch_rad.npz'\n",
    "\n",
    "np.savez(file_path, signal=summed_data, pitch=angles, radius=radii)"
   ]
  },
  {
   "cell_type": "code",
   "execution_count": null,
   "id": "a5f3dce6",
   "metadata": {},
   "outputs": [],
   "source": []
  }
 ],
 "metadata": {
  "kernelspec": {
   "display_name": "Python 3",
   "language": "python",
   "name": "python3"
  },
  "language_info": {
   "codemirror_mode": {
    "name": "ipython",
    "version": 3
   },
   "file_extension": ".py",
   "mimetype": "text/x-python",
   "name": "python",
   "nbconvert_exporter": "python",
   "pygments_lexer": "ipython3",
   "version": "3.8.10"
  }
 },
 "nbformat": 4,
 "nbformat_minor": 5
}
