{
 "cells": [
  {
   "cell_type": "code",
   "execution_count": null,
   "id": "7312efd1",
   "metadata": {},
   "outputs": [],
   "source": [
    "import numpy as np\n",
    "from pathlib import Path"
   ]
  },
  {
   "cell_type": "code",
   "execution_count": null,
   "id": "e10c6607",
   "metadata": {},
   "outputs": [],
   "source": [
    "for item in (Path.home()/'group'/'project'/'datasets'/'data'/'bf').iterdir(): print(item)"
   ]
  },
  {
   "cell_type": "code",
   "execution_count": null,
   "id": "754849d3",
   "metadata": {},
   "outputs": [],
   "source": [
    "path_list = [\n",
    "    '/storage/home/adz6/group/project/datasets/data/bf/220225_dense_grid_87.0deg_1cm_random.npy',\n",
    "    '/storage/home/adz6/group/project/datasets/data/bf/220301_dense_grid_87.0deg_2cm_random.npy',\n",
    "    '/storage/home/adz6/group/project/datasets/data/bf/220301_dense_grid_87.0deg_3cm_random.npy',\n",
    "    '/storage/home/adz6/group/project/datasets/data/bf/220301_dense_grid_87.0deg_4cm_random.npy',\n",
    "]\n",
    "\n",
    "for i, path in enumerate(path_list):\n",
    "    \n",
    "    if i == 0:\n",
    "        combined_array = np.load(path)\n",
    "    else:\n",
    "        combined_array = np.concatenate((combined_array, np.load(path)), axis=0)\n",
    "        \n",
    "    print(combined_array.shape)"
   ]
  },
  {
   "cell_type": "code",
   "execution_count": null,
   "id": "055d72da",
   "metadata": {},
   "outputs": [],
   "source": [
    "save_path = '/storage/home/adz6/group/project/datasets/data/bf/220301_dense_grid_87.0deg_1to4cm_random.npy'\n",
    "\n",
    "np.save(save_path, combined_array)"
   ]
  },
  {
   "cell_type": "code",
   "execution_count": null,
   "id": "8d945a7d",
   "metadata": {},
   "outputs": [],
   "source": []
  }
 ],
 "metadata": {
  "kernelspec": {
   "display_name": "Python 3",
   "language": "python",
   "name": "python3"
  },
  "language_info": {
   "codemirror_mode": {
    "name": "ipython",
    "version": 3
   },
   "file_extension": ".py",
   "mimetype": "text/x-python",
   "name": "python",
   "nbconvert_exporter": "python",
   "pygments_lexer": "ipython3",
   "version": "3.8.10"
  }
 },
 "nbformat": 4,
 "nbformat_minor": 5
}
