{
 "cells": [
  {
   "cell_type": "code",
   "execution_count": null,
   "id": "7312efd1",
   "metadata": {},
   "outputs": [],
   "source": [
    "import numpy as np\n",
    "from pathlib import Path\n",
    "import matplotlib.pyplot as plt"
   ]
  },
  {
   "cell_type": "code",
   "execution_count": null,
   "id": "e10c6607",
   "metadata": {},
   "outputs": [],
   "source": [
    "path_list = list(\n",
    "    (Path.home()/'group'/'project'/'results'/'beamforming'/\\\n",
    "    'time_dependent'/'beamforming_grids'/'220311_dl_87_test_signals'\n",
    ").iterdir())"
   ]
  },
  {
   "cell_type": "code",
   "execution_count": null,
   "id": "d0a284bd",
   "metadata": {},
   "outputs": [],
   "source": [
    "print(len(path_list))"
   ]
  },
  {
   "cell_type": "code",
   "execution_count": null,
   "id": "8656a8c6",
   "metadata": {},
   "outputs": [],
   "source": [
    "for i, path in enumerate(path_list):\n",
    "    if i == 0:\n",
    "        \n",
    "        signal = np.load(path)\n",
    "        \n",
    "        signal_array = np.zeros((len(path_list), signal.size), np.complex128)\n",
    "        signal_array[i, :] = signal\n",
    "    else:\n",
    "        signal_array[i, :] = np.load(path)\n",
    "    if i % 250 == 249:\n",
    "        print(i+1)"
   ]
  },
  {
   "cell_type": "code",
   "execution_count": null,
   "id": "d3000815",
   "metadata": {},
   "outputs": [],
   "source": [
    "save_path = Path.home()/'group'/'project'/'results'/'beamforming'/\\\n",
    "'time_dependent'/'beamform_signals'/'220315_dl_grid_87deg_100eV_3cm_range_test.npy'\n",
    "np.save(save_path, signal_array)"
   ]
  },
  {
   "cell_type": "code",
   "execution_count": null,
   "id": "0418091f",
   "metadata": {},
   "outputs": [],
   "source": [
    "plt.plot(np.fft.fft(signal_array[2500,  :]).real)"
   ]
  },
  {
   "cell_type": "code",
   "execution_count": null,
   "id": "055d72da",
   "metadata": {},
   "outputs": [],
   "source": [
    "save_path = '/storage/home/adz6/group/project/datasets/data/bf/220301_dense_grid_87.0deg_1to4cm_random.npy'\n",
    "\n",
    "np.save(save_path, combined_array)"
   ]
  },
  {
   "cell_type": "code",
   "execution_count": null,
   "id": "8d945a7d",
   "metadata": {},
   "outputs": [],
   "source": []
  }
 ],
 "metadata": {
  "kernelspec": {
   "display_name": "Python 3",
   "language": "python",
   "name": "python3"
  },
  "language_info": {
   "codemirror_mode": {
    "name": "ipython",
    "version": 3
   },
   "file_extension": ".py",
   "mimetype": "text/x-python",
   "name": "python",
   "nbconvert_exporter": "python",
   "pygments_lexer": "ipython3",
   "version": "3.8.10"
  }
 },
 "nbformat": 4,
 "nbformat_minor": 5
}
