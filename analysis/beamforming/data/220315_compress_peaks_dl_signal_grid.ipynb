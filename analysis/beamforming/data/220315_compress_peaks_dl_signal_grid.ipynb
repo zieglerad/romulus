{
 "cells": [
  {
   "cell_type": "code",
   "execution_count": null,
   "id": "13934a7a",
   "metadata": {},
   "outputs": [],
   "source": [
    "import numpy as np\n",
    "import pathlib\n",
    "import matplotlib.pyplot as plt\n",
    "import seaborn as sns\n",
    "\n"
   ]
  },
  {
   "cell_type": "code",
   "execution_count": null,
   "id": "ab747c31",
   "metadata": {},
   "outputs": [],
   "source": [
    "path2data = pathlib.Path.home()/'group'/'project'/'results'/'beamforming'/\\\n",
    "'time_dependent'/'beamform_signals'/'220311_dl_grid_87deg_100eV_3cm_range.npy'"
   ]
  },
  {
   "cell_type": "code",
   "execution_count": null,
   "id": "d164736c",
   "metadata": {},
   "outputs": [],
   "source": [
    "data = np.load(path2data)"
   ]
  },
  {
   "cell_type": "code",
   "execution_count": null,
   "id": "b654bb3f",
   "metadata": {},
   "outputs": [],
   "source": [
    "data.shape"
   ]
  },
  {
   "cell_type": "code",
   "execution_count": null,
   "id": "c30dc424",
   "metadata": {},
   "outputs": [],
   "source": [
    "fft_data = np.fft.fftshift(np.fft.fft(data, axis=-1) / 8192)"
   ]
  },
  {
   "cell_type": "code",
   "execution_count": null,
   "id": "2e600846",
   "metadata": {},
   "outputs": [],
   "source": [
    "mean_spectrum = np.mean(abs(fft_data), axis=0)"
   ]
  },
  {
   "cell_type": "code",
   "execution_count": null,
   "id": "11343ab5",
   "metadata": {},
   "outputs": [],
   "source": [
    "sns.set_theme(context='talk')\n",
    "fig = plt.figure(figsize=(13, 8))\n",
    "ax = fig.add_subplot(1,1,1)\n",
    "\n",
    "ax.plot(mean_spectrum ** 2)"
   ]
  },
  {
   "cell_type": "code",
   "execution_count": null,
   "id": "a65e5fc7",
   "metadata": {},
   "outputs": [],
   "source": [
    "from scipy import signal"
   ]
  },
  {
   "cell_type": "code",
   "execution_count": null,
   "id": "78b585a9",
   "metadata": {},
   "outputs": [],
   "source": [
    "peaks = signal.find_peaks(mean_spectrum ** 2, width=100, )\n",
    "#print(peaks)"
   ]
  },
  {
   "cell_type": "code",
   "execution_count": null,
   "id": "e2dc75e2",
   "metadata": {},
   "outputs": [],
   "source": [
    "sns.set_theme(context='talk')\n",
    "fig = plt.figure(figsize=(13, 8))\n",
    "ax = fig.add_subplot(1,1,1)\n",
    "\n",
    "ax.plot(mean_spectrum ** 2)\n",
    "\n",
    "ax.plot(peaks[0], (mean_spectrum ** 2)[peaks[0]], 'x')"
   ]
  },
  {
   "cell_type": "code",
   "execution_count": null,
   "id": "9fb5b939",
   "metadata": {},
   "outputs": [],
   "source": [
    "print(peaks[0])\n",
    "\n",
    "select_inds = []\n",
    "\n",
    "for peak_center in peaks[0][1:]:\n",
    "    \n",
    "    select_inds.extend(list(np.arange(peak_center-200, peak_center+200, 1)))\n",
    "    \n",
    "select_inds = np.array(select_inds) "
   ]
  },
  {
   "cell_type": "code",
   "execution_count": null,
   "id": "b5339c94",
   "metadata": {},
   "outputs": [],
   "source": [
    "sns.set_theme(context='talk')\n",
    "fig = plt.figure(figsize=(13, 8))\n",
    "ax = fig.add_subplot(1,1,1)\n",
    "\n",
    "ax.plot(mean_spectrum ** 2)\n",
    "\n",
    "ax.plot(select_inds, (mean_spectrum ** 2)[select_inds], 'x')"
   ]
  },
  {
   "cell_type": "code",
   "execution_count": null,
   "id": "2334377c",
   "metadata": {},
   "outputs": [],
   "source": [
    "select_fft_data = fft_data[:, select_inds]\n",
    "print(select_fft_data.shape)"
   ]
  },
  {
   "cell_type": "code",
   "execution_count": null,
   "id": "e77ab645",
   "metadata": {},
   "outputs": [],
   "source": [
    "path2save = pathlib.Path.home()/'group'/'project'/'results'/'beamforming'/\\\n",
    "'time_dependent'/'beamform_signals'/'220315_dl_grid_87deg_100eV_3cm_fft_downselect_inds.npy'"
   ]
  },
  {
   "cell_type": "code",
   "execution_count": null,
   "id": "42b2d1c3",
   "metadata": {},
   "outputs": [],
   "source": [
    "np.save(path2save, select_inds)"
   ]
  },
  {
   "cell_type": "code",
   "execution_count": null,
   "id": "5e3e6cbe",
   "metadata": {},
   "outputs": [],
   "source": []
  }
 ],
 "metadata": {
  "kernelspec": {
   "display_name": "Python 3",
   "language": "python",
   "name": "python3"
  },
  "language_info": {
   "codemirror_mode": {
    "name": "ipython",
    "version": 3
   },
   "file_extension": ".py",
   "mimetype": "text/x-python",
   "name": "python",
   "nbconvert_exporter": "python",
   "pygments_lexer": "ipython3",
   "version": "3.8.10"
  }
 },
 "nbformat": 4,
 "nbformat_minor": 5
}
