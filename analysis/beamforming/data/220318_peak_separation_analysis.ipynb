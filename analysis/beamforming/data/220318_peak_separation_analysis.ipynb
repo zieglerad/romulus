{
 "cells": [
  {
   "cell_type": "code",
   "execution_count": null,
   "id": "13934a7a",
   "metadata": {},
   "outputs": [],
   "source": [
    "import numpy as np\n",
    "import pathlib\n",
    "import matplotlib.pyplot as plt\n",
    "import seaborn as sns\n",
    "import scipy.signal as signal\n",
    "import h5py\n"
   ]
  },
  {
   "cell_type": "code",
   "execution_count": null,
   "id": "ab747c31",
   "metadata": {},
   "outputs": [],
   "source": [
    "path2data = pathlib.Path.home()/'group'/'project'/'results'/'beamforming'/\\\n",
    "'time_dependent'/'beamform_signals'/'220505_dl_grid_84to90deg_1to45mm.h5'\n",
    "\n",
    "path2save = pathlib.Path.home()/'group'/'project'/'results'/'beamforming'/\\\n",
    "'time_dependent'/'beamform_signals'/'220506_dl_grid_87.5to90deg_1to3mm_fftind.npy'\n",
    "\n",
    "#data = np.load(path2data)['x']\n",
    "file = h5py.File(path2data, 'r')\n",
    "#data = file['x'][:, 0:8192]\n",
    "\n",
    "signal_energy = file['energy'][:]\n",
    "signal_pitch = file['pitch'][:]\n",
    "signal_radius = file['radius'][:]\n",
    "\n",
    "select_energy = np.linspace(18545, 18555, 11)\n",
    "select_pitch = np.linspace(87.5, 90, 51)\n",
    "select_radius = np.array([0.001, 0.002, 0.003])\n",
    "\n",
    "energy_grid, pitch_grid, radius_grid = np.meshgrid(\n",
    "            select_energy,\n",
    "            select_pitch,\n",
    "            select_radius\n",
    "             )\n",
    "\n",
    "inds = []\n",
    "for i, pair in enumerate(zip(energy_grid.flatten(), pitch_grid.flatten(), radius_grid.flatten())):\n",
    "\n",
    "    #print(pair)\n",
    "    try:\n",
    "        index = np.argwhere(\n",
    "            np.logical_and(abs(pair[0] - signal_energy) < 1e-5, \n",
    "            np.logical_and(abs(pair[1] - signal_pitch) < 1e-5, abs(pair[2] - signal_radius) < 1e-5))\n",
    "        ).squeeze()\n",
    "        if index.size == 1:\n",
    "            inds.append(index)\n",
    "    except:\n",
    "        pass\n",
    "\n",
    "inds = np.sort(np.array(inds, dtype=np.int32))\n",
    "\n",
    "data = file['x'][inds, 0:8192]\n",
    "\n",
    "\n",
    "fft_data = np.fft.fftshift(np.fft.fft(data, axis=-1) / 8192)\n",
    "\n",
    "peak_list = []\n",
    "for n in range(data.shape[0]):\n",
    "    ex_spectrum = abs(fft_data[n, :])\n",
    "    peaks = signal.find_peaks(ex_spectrum ** 2, threshold = 0.06e-14)\n",
    "\n",
    "    peak_list.extend(list(peaks[0]))\n",
    "    #for i in range(peaks[0].size - 1):\n",
    "    #    dist = peaks[0][i+1] - peaks[0][i]\n",
    "    #    dist_list.append(dist)\n",
    "        \n",
    "peak_array = np.array(peak_list)\n",
    "\n",
    "N, bins = np.histogram(\n",
    "    peak_array, \n",
    "    bins=np.arange(1000, 8000, 1), \n",
    "    density=True\n",
    ")\n",
    "\n",
    "select_inds = np.argwhere(N >=0.000001).squeeze()\n",
    "select_bins = bins[1:][select_inds]\n",
    "print(select_bins.size)\n",
    "select_data = fft_data[:, select_bins]\n",
    "\n",
    "np.save(path2save, select_bins)\n",
    "\n",
    "\n",
    "#path2data =pathlib.Path.home()/'group'/'project'/'datasets'/'data'/\\\n",
    "#'bf'/'220301_dense_grid_87.0deg_2cm.npy'\n",
    "\n",
    "file.close()"
   ]
  },
  {
   "cell_type": "code",
   "execution_count": null,
   "id": "523f1b24",
   "metadata": {},
   "outputs": [],
   "source": [
    "plt.plot(bins[1:], N)"
   ]
  },
  {
   "cell_type": "code",
   "execution_count": null,
   "id": "d164736c",
   "metadata": {},
   "outputs": [],
   "source": [
    "data = np.load(path2data)"
   ]
  },
  {
   "cell_type": "code",
   "execution_count": null,
   "id": "b654bb3f",
   "metadata": {},
   "outputs": [],
   "source": [
    "data.shape"
   ]
  },
  {
   "cell_type": "code",
   "execution_count": null,
   "id": "cc1fd248",
   "metadata": {},
   "outputs": [],
   "source": [
    "sns.set_theme(context='talk')\n",
    "fig = plt.figure(figsize=(13, 8))\n",
    "ax = fig.add_subplot(1,1,1)\n",
    "\n",
    "ax.plot(data[0, :].real)\n",
    "ax.plot(data[0, :].imag)"
   ]
  },
  {
   "cell_type": "code",
   "execution_count": null,
   "id": "c30dc424",
   "metadata": {},
   "outputs": [],
   "source": [
    "fft_data = np.fft.fftshift(np.fft.fft(data, axis=-1) / 8192)"
   ]
  },
  {
   "cell_type": "code",
   "execution_count": null,
   "id": "2e600846",
   "metadata": {},
   "outputs": [],
   "source": [
    "ex_ind = 0\n",
    "ex_spectrum = abs(fft_data[ex_ind, :])"
   ]
  },
  {
   "cell_type": "code",
   "execution_count": null,
   "id": "232f38d0",
   "metadata": {},
   "outputs": [],
   "source": [
    "noise = np.random.multivariate_normal(\n",
    "    [0, 0], np.eye(2) * 10 * 50 * 60 * np.sqrt(1) * 1.38e-23 * 200e6 / (2 * 8192), 8192\n",
    ")\n",
    "noise = noise[:, 0] + 1j*noise[:, 1]"
   ]
  },
  {
   "cell_type": "code",
   "execution_count": null,
   "id": "11343ab5",
   "metadata": {},
   "outputs": [],
   "source": [
    "sns.set_theme(context='talk')\n",
    "fig = plt.figure(figsize=(13, 8))\n",
    "ax = fig.add_subplot(1,1,1)\n",
    "\n",
    "ax.plot(abs(noise) ** 2)\n",
    "ax.plot(ex_spectrum ** 2)"
   ]
  },
  {
   "cell_type": "code",
   "execution_count": null,
   "id": "a65e5fc7",
   "metadata": {},
   "outputs": [],
   "source": [
    "from scipy import signal"
   ]
  },
  {
   "cell_type": "code",
   "execution_count": null,
   "id": "78b585a9",
   "metadata": {},
   "outputs": [],
   "source": [
    "peaks = signal.find_peaks(ex_spectrum ** 2, threshold = 0.06e-14)\n",
    "print(peaks)"
   ]
  },
  {
   "cell_type": "code",
   "execution_count": null,
   "id": "f0d94768",
   "metadata": {},
   "outputs": [],
   "source": [
    "for i in range(peaks[0].size - 1):\n",
    "    print(peaks[0][i+1] - peaks[0][i])"
   ]
  },
  {
   "cell_type": "code",
   "execution_count": null,
   "id": "e2dc75e2",
   "metadata": {},
   "outputs": [],
   "source": [
    "dist_list = []\n",
    "for n in range(data.shape[0]):\n",
    "    ex_spectrum = abs(fft_data[n, :])\n",
    "    peaks = signal.find_peaks(ex_spectrum ** 2, threshold = 0.06e-14)\n",
    "    \n",
    "    for i in range(peaks[0].size - 1):\n",
    "        dist = peaks[0][i+1] - peaks[0][i]\n",
    "        dist_list.append(dist)\n",
    "        \n",
    "dist_array = np.array(dist_list)\n",
    "print(dist_array.mean(), dist_array.max(), dist_array.min())\n"
   ]
  },
  {
   "cell_type": "code",
   "execution_count": null,
   "id": "0ebbd748",
   "metadata": {},
   "outputs": [],
   "source": [
    "sns.set_theme(context='talk', style='whitegrid')\n",
    "fig = plt.figure(figsize=(13, 8))\n",
    "ax = fig.add_subplot(1,1,1)\n",
    "\n",
    "hist = ax.hist(dist_array, 256)"
   ]
  },
  {
   "cell_type": "markdown",
   "id": "4797cba8",
   "metadata": {},
   "source": [
    "# Downselect peak regions, then analyze peak separation"
   ]
  },
  {
   "cell_type": "code",
   "execution_count": null,
   "id": "785c63d1",
   "metadata": {},
   "outputs": [],
   "source": [
    "peak_list = []\n",
    "for n in range(data.shape[0]):\n",
    "    ex_spectrum = abs(fft_data[n, :])\n",
    "    peaks = signal.find_peaks(ex_spectrum ** 2, threshold = 0.06e-14)\n",
    "\n",
    "    peak_list.extend(list(peaks[0]))\n",
    "    #for i in range(peaks[0].size - 1):\n",
    "    #    dist = peaks[0][i+1] - peaks[0][i]\n",
    "    #    dist_list.append(dist)\n",
    "        \n",
    "peak_array = np.array(peak_list)\n",
    "#print(dist_array.mean(), dist_array.max(), dist_array.min())"
   ]
  },
  {
   "cell_type": "code",
   "execution_count": null,
   "id": "65a07c74",
   "metadata": {},
   "outputs": [],
   "source": [
    "sns.set_theme(context='talk', style='whitegrid')\n",
    "fig = plt.figure(figsize=(13, 8))\n",
    "ax = fig.add_subplot(1,1,1)\n",
    "\n",
    "hist = ax.hist(peak_array, bins=200, density=True)"
   ]
  },
  {
   "cell_type": "code",
   "execution_count": null,
   "id": "daf7751d",
   "metadata": {},
   "outputs": [],
   "source": [
    "N, bins = np.histogram(\n",
    "    peak_array, \n",
    "    bins=np.arange(1000, 8000, 1), \n",
    "    density=True\n",
    ")"
   ]
  },
  {
   "cell_type": "code",
   "execution_count": null,
   "id": "6517a2d0",
   "metadata": {},
   "outputs": [],
   "source": [
    "select_inds = np.argwhere(N >=0.000001).squeeze()\n",
    "select_bins = bins[1:][select_inds]"
   ]
  },
  {
   "cell_type": "code",
   "execution_count": null,
   "id": "40f95ab5",
   "metadata": {},
   "outputs": [],
   "source": [
    "sns.set_theme(context='talk', style='whitegrid')\n",
    "fig = plt.figure(figsize=(13, 8))\n",
    "ax = fig.add_subplot(1,1,1)\n",
    "\n",
    "ax.plot(bins[1:], N, )\n",
    "\n",
    "ax.plot(bins[1:][select_inds], N[select_inds], 'x')"
   ]
  },
  {
   "cell_type": "code",
   "execution_count": null,
   "id": "2fd7b9e7",
   "metadata": {},
   "outputs": [],
   "source": [
    "print(select_inds[0:100], select_bins[0:100], select_bins.size)"
   ]
  },
  {
   "cell_type": "code",
   "execution_count": null,
   "id": "7eba1858",
   "metadata": {},
   "outputs": [],
   "source": [
    "select_data = fft_data[:, select_bins]"
   ]
  },
  {
   "cell_type": "code",
   "execution_count": null,
   "id": "e706ac02",
   "metadata": {},
   "outputs": [],
   "source": [
    "ex_ind = 0\n",
    "ex_spectrum = abs(fft_data[ex_ind, :])\n",
    "#ex_spectrum = abs(select_data[ex_ind, :])\n",
    "\n",
    "sns.set_theme(context='talk', style='whitegrid')\n",
    "fig = plt.figure(figsize=(13, 8))\n",
    "ax = fig.add_subplot(1,1,1)\n",
    "\n",
    "#ax.plot(ex_spectrum ** 2)\n",
    "ax.plot(ex_spectrum[select_bins] ** 2)\n",
    "\n",
    "\n",
    "\n"
   ]
  },
  {
   "cell_type": "code",
   "execution_count": null,
   "id": "6da52d53",
   "metadata": {},
   "outputs": [],
   "source": [
    "dist_list = []\n",
    "for n in range(data.shape[0]):\n",
    "    ex_spectrum = abs(select_data[n, :])\n",
    "    peaks = signal.find_peaks(ex_spectrum ** 2, threshold = 0.5e-14)\n",
    "    \n",
    "    for i in range(peaks[0].size - 1):\n",
    "        dist = peaks[0][i+1] - peaks[0][i]\n",
    "        dist_list.append(dist)\n",
    "        \n",
    "dist_array = np.array(dist_list)\n",
    "print(dist_array.mean(), dist_array.max(), dist_array.min())"
   ]
  },
  {
   "cell_type": "code",
   "execution_count": null,
   "id": "5ca057f1",
   "metadata": {},
   "outputs": [],
   "source": []
  },
  {
   "cell_type": "code",
   "execution_count": null,
   "id": "e77ab645",
   "metadata": {},
   "outputs": [],
   "source": []
  },
  {
   "cell_type": "code",
   "execution_count": null,
   "id": "42b2d1c3",
   "metadata": {},
   "outputs": [],
   "source": [
    "np.save(path2save, select_bins)"
   ]
  },
  {
   "cell_type": "markdown",
   "id": "c12a933c",
   "metadata": {},
   "source": []
  }
 ],
 "metadata": {
  "kernelspec": {
   "display_name": "Python 3",
   "language": "python",
   "name": "python3"
  },
  "language_info": {
   "codemirror_mode": {
    "name": "ipython",
    "version": 3
   },
   "file_extension": ".py",
   "mimetype": "text/x-python",
   "name": "python",
   "nbconvert_exporter": "python",
   "pygments_lexer": "ipython3",
   "version": "3.8.10"
  }
 },
 "nbformat": 4,
 "nbformat_minor": 5
}
