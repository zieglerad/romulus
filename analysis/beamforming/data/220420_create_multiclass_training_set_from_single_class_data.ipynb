{
 "cells": [
  {
   "cell_type": "code",
   "execution_count": null,
   "id": "6df78e5e",
   "metadata": {},
   "outputs": [],
   "source": [
    "import numpy as np\n",
    "from pathlib import Path\n",
    "import h5py\n"
   ]
  },
  {
   "cell_type": "code",
   "execution_count": null,
   "id": "413d0516",
   "metadata": {},
   "outputs": [],
   "source": [
    "data_path = Path.home()/'group'/'project'/'results'/'beamforming'/\\\n",
    "'time_dependent'/'beamform_signals'\n",
    "\n",
    "file_list = [\n",
    "    '220420_86.0deg_250sec_range_17.5mm_2.5mm_range.npy',\n",
    "    '220420_86.5deg_250sec_range_17.5mm_2.5mm_range.npy',\n",
    "    '220420_87.0deg_250sec_range_17.5mm_2.5mm_range.npy',\n",
    "    '220420_87.5deg_250sec_range_17.5mm_2.5mm_range.npy',\n",
    "    '220420_88.0deg_250sec_range_17.5mm_2.5mm_range.npy',\n",
    "]\n",
    "\n",
    "combined_name = '220420_86to88_5class_17.5mm_2.5mm_range.npz'\n",
    "\n",
    "\n",
    "total_num_signals = 0\n",
    "for i, file in enumerate(file_list):\n",
    "    temp_shape = np.load(data_path/file).shape\n",
    "    total_num_signals += temp_shape[0]\n",
    "    signal_length = temp_shape[1]\n",
    "    \n",
    "    \n",
    "class_labels = np.zeros((total_num_signals, len(file_list)), dtype=np.int32)\n",
    "combined_data = np.zeros((total_num_signals, signal_length), dtype=np.complex128)\n",
    "\n",
    "signals_combined = 0\n",
    "for i, file in enumerate(file_list):\n",
    "    temp_shape = np.load(data_path/file).shape\n",
    "    \n",
    "    combined_data[signals_combined:signals_combined+temp_shape[0], :]\\\n",
    "    = np.load(data_path/file)\n",
    "    class_labels[signals_combined:signals_combined+temp_shape[0], i] = 1\n",
    "    \n",
    "    signals_combined += temp_shape[0]\n",
    "    \n",
    "    \n",
    "np.savez(data_path/combined_name, x=combined_data, t=class_labels)\n",
    "    "
   ]
  },
  {
   "cell_type": "code",
   "execution_count": null,
   "id": "4615d0f0",
   "metadata": {},
   "outputs": [],
   "source": [
    "class_labels"
   ]
  },
  {
   "cell_type": "code",
   "execution_count": null,
   "id": "a9f33248",
   "metadata": {},
   "outputs": [],
   "source": []
  }
 ],
 "metadata": {
  "kernelspec": {
   "display_name": "Python 3",
   "language": "python",
   "name": "python3"
  },
  "language_info": {
   "codemirror_mode": {
    "name": "ipython",
    "version": 3
   },
   "file_extension": ".py",
   "mimetype": "text/x-python",
   "name": "python",
   "nbconvert_exporter": "python",
   "pygments_lexer": "ipython3",
   "version": "3.8.10"
  }
 },
 "nbformat": 4,
 "nbformat_minor": 5
}
