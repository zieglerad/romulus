{
 "cells": [
  {
   "cell_type": "code",
   "execution_count": null,
   "id": "0101aa5e",
   "metadata": {},
   "outputs": [],
   "source": [
    "import numpy as np\n",
    "import seaborn as sns\n",
    "import matplotlib.pyplot as plt\n",
    "from pathlib import Path\n",
    "import pandas as pd\n",
    "import mayfly as mf\n",
    "\n",
    "result_path = Path.home()/'group'/'project'/'results'/'beamforming'\\\n",
    "/'static'/'beamforming_grids'/'220308_radius_pitch_grid_offaxis_static_beamforming'\n",
    "\n",
    "def SortMeta(metadata, radii, pitch):\n",
    "\n",
    "    sort_radius = []\n",
    "    sort_pitch = []\n",
    "    for i, pair in enumerate(zip(radii, pitch)):\n",
    "        #print(pair)\n",
    "        #print(metadata)\n",
    "        try:\n",
    "            index = np.int32(metadata[(metadata['x_min']==pair[0]) & (metadata['theta_min']==pair[1])].index[0])\n",
    "            #print(radii[index], pitch[index])\n",
    "            sort_radius.append(pair[0])\n",
    "            sort_pitch.append(pair[1])\n",
    "        except:\n",
    "            pass\n",
    "    return np.array(sort_radius), np.array(sort_pitch)"
   ]
  },
  {
   "cell_type": "code",
   "execution_count": null,
   "id": "11fe4daa",
   "metadata": {},
   "outputs": [],
   "source": [
    "print(np.load(result_path/'chunk0.npy').shape)"
   ]
  },
  {
   "cell_type": "code",
   "execution_count": null,
   "id": "f92b1dc8",
   "metadata": {},
   "outputs": [],
   "source": [
    "\n",
    "combined_signals = np.zeros((6070, 8192), np.complex128)\n",
    "counter = 0\n",
    "\n",
    "for i in range(len(np.arange(0, 300, 1))):\n",
    "    \n",
    "    chunk_name = f'chunk{i}.npy'\n",
    "    chunk = np.load(result_path/chunk_name)   \n",
    "    \n",
    "    for n in range(chunk.shape[0]):\n",
    "\n",
    "        signal_max = np.argmax(np.sum(abs(chunk[n, :, :]) ** 2, axis=-1), axis=-1).squeeze()\n",
    "        combined_signals[counter, :] = chunk[n, signal_max,  :]\n",
    "        counter += 1\n",
    "        \n",
    "    #print(chunk_name)\n",
    "    \n",
    "    if i % 25 == 24:\n",
    "        print(i + 1)\n"
   ]
  },
  {
   "cell_type": "code",
   "execution_count": null,
   "id": "a1d8e499",
   "metadata": {},
   "outputs": [],
   "source": [
    "combined_signals.shape"
   ]
  },
  {
   "cell_type": "code",
   "execution_count": null,
   "id": "ccbf7267",
   "metadata": {},
   "outputs": [],
   "source": []
  },
  {
   "cell_type": "code",
   "execution_count": null,
   "id": "bef7bac6",
   "metadata": {},
   "outputs": [],
   "source": [
    "data_path = Path.home()/'group'/'project'/'datasets'/'data'/'211116_grad_b_est.h5'\n",
    "freq_path = Path.home()/'group'/'project'/'results'/'mayfly'/'211129_grad_b_frequency_grid_radius_angle.npz'\n",
    "signal_metadata = pd.DataFrame(mf.data.MFDataset(str(data_path)).metadata)\n",
    "\n",
    "radii, pitch = np.load(freq_path)['radii'].flatten(), np.load(freq_path)['angles'].flatten()\n",
    "radii, pitch = np.meshgrid(radii, pitch)\n",
    "radii, pitch = radii.flatten(), pitch.flatten()\n",
    "\n",
    "print(radii.shape, pitch.shape)\n",
    "\n",
    "sort_radius, sort_pitch = SortMeta(signal_metadata, radii, pitch)\n",
    "print(sort_radius.shape, sort_pitch.shape)\n",
    "\n"
   ]
  },
  {
   "cell_type": "code",
   "execution_count": null,
   "id": "9d3521ce",
   "metadata": {},
   "outputs": [],
   "source": []
  },
  {
   "cell_type": "markdown",
   "id": "29b19bee",
   "metadata": {},
   "source": [
    "# save summed signal and rad, pitch info"
   ]
  },
  {
   "cell_type": "code",
   "execution_count": null,
   "id": "bd6a273e",
   "metadata": {},
   "outputs": [],
   "source": [
    "name = '220309_0to5cm_84to90_8192sample_static_bf_signals'\n",
    "result_path = Path.home()/'group'/'project'/'results'/'beamforming'\\\n",
    "/'static'/'beamform_signals'\n",
    "result_path.mkdir(parents=True, exist_ok=True)\n",
    "\n",
    "np.savez(\n",
    "    result_path/name,\n",
    "    signals=combined_signals,\n",
    "    radius=sort_radius,\n",
    "    pitch=sort_pitch\n",
    ")"
   ]
  },
  {
   "cell_type": "code",
   "execution_count": null,
   "id": "ae7daf52",
   "metadata": {},
   "outputs": [],
   "source": [
    "grid_shape = (51, 11)"
   ]
  },
  {
   "cell_type": "code",
   "execution_count": null,
   "id": "574a5695",
   "metadata": {},
   "outputs": [],
   "source": [
    "plt.imshow(np.mean(abs(array[0, :, :]) ** 2, axis=-1).reshape(grid_shape), aspect='auto')"
   ]
  },
  {
   "cell_type": "markdown",
   "id": "a8b32fc1",
   "metadata": {},
   "source": [
    "# plot maps"
   ]
  },
  {
   "cell_type": "code",
   "execution_count": null,
   "id": "6394fc14",
   "metadata": {},
   "outputs": [],
   "source": [
    "print(signals.shape)"
   ]
  },
  {
   "cell_type": "code",
   "execution_count": null,
   "id": "92c6f542",
   "metadata": {},
   "outputs": [],
   "source": [
    "chunk_name = f'chunk{100}.npy'\n",
    "chunk = np.load(result_path/chunk_name)\n",
    "#signals = chunk\n",
    "\n",
    "fig = plt.figure(figsize=(4, 4))\n",
    "ax = fig.add_subplot(1,1,1)\n",
    "img = ax.imshow(np.sum(abs(chunk[16, :, :]) ** 2, axis=-1).reshape((31, 31)), aspect='auto')\n",
    "fig.colorbar(img)\n",
    "plt.show()\n",
    "plt.close()\n"
   ]
  },
  {
   "cell_type": "code",
   "execution_count": null,
   "id": "4bc43b48",
   "metadata": {},
   "outputs": [],
   "source": [
    "freq_path = Path.home()/'group'/'project'/'results'/'mayfly'/'211129_grad_b_frequency_grid_radius_angle.npz'"
   ]
  },
  {
   "cell_type": "code",
   "execution_count": null,
   "id": "d1cbb1c7",
   "metadata": {},
   "outputs": [],
   "source": [
    "frequencies, radii, pitch = np.load(freq_path)['freq'].flatten(), np.load(freq_path)['radii'].flatten(), np.load(freq_path)['angles'].flatten()"
   ]
  },
  {
   "cell_type": "code",
   "execution_count": null,
   "id": "8aa82dd7",
   "metadata": {},
   "outputs": [],
   "source": [
    "radii, pitch = np.meshgrid(radii, pitch)\n",
    "radii, pitch = radii.flatten(), pitch.flatten()"
   ]
  },
  {
   "cell_type": "code",
   "execution_count": null,
   "id": "0fdd5944",
   "metadata": {},
   "outputs": [],
   "source": [
    "print(radii[0:50], pitch[0:50])"
   ]
  },
  {
   "cell_type": "code",
   "execution_count": null,
   "id": "12163247",
   "metadata": {},
   "outputs": [],
   "source": []
  }
 ],
 "metadata": {
  "kernelspec": {
   "display_name": "Python 3",
   "language": "python",
   "name": "python3"
  },
  "language_info": {
   "codemirror_mode": {
    "name": "ipython",
    "version": 3
   },
   "file_extension": ".py",
   "mimetype": "text/x-python",
   "name": "python",
   "nbconvert_exporter": "python",
   "pygments_lexer": "ipython3",
   "version": "3.8.10"
  }
 },
 "nbformat": 4,
 "nbformat_minor": 5
}
