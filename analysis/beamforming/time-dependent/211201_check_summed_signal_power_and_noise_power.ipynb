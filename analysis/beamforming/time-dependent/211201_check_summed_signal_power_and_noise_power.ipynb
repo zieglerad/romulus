{
 "cells": [
  {
   "cell_type": "code",
   "execution_count": null,
   "id": "14a213a2",
   "metadata": {},
   "outputs": [],
   "source": [
    "import numpy as np\n",
    "import matplotlib.pyplot as plt\n",
    "import seaborn as sns\n",
    "import pandas as pd\n",
    "import torch\n",
    "import h5py\n",
    "import os\n",
    "import sys\n",
    "import scipy\n",
    "import damselfly as df\n",
    "import mayfly as mf\n",
    "import scipy.signal\n",
    "import scipy.stats\n",
    "import scipy.interpolate\n",
    "\n",
    "PATH = '/storage/home/adz6/group/project'\n",
    "RESULTPATH = os.path.join(PATH, 'results/damselfly')\n",
    "PLOTPATH = os.path.join(PATH, 'plots/damselfly')\n",
    "DATAPATH = os.path.join(PATH, 'datasets/data')\n",
    "#SIMDATAPATH = os.path.join(PATH, 'damselfly/data/sim_data')\n",
    "\n",
    "\"\"\"\n",
    "Date: 6/25/2021\n",
    "Description: template\n",
    "\"\"\"\n",
    "\n",
    "def SaveSummedDataset(data, metadata, name):\n",
    "    \n",
    "    savefile = h5py.File(name, 'w')\n",
    "    \n",
    "    dataset = savefile.create_dataset('data', data=data)\n",
    "    \n",
    "    metagroup = savefile.create_group('meta')\n",
    "    \n",
    "    for i,key in enumerate(metadata.keys()):\n",
    "        \n",
    "        metagroup.create_dataset(key, data = np.array(metadata[key].array))\n",
    "        \n",
    "    savefile.close()\n",
    "    \n",
    "    \n",
    "\n",
    "def SumDataset(MFdata, radius, gradb_freq_grid):\n",
    "    \n",
    "    metadata = pd.DataFrame(MFdata.metadata)\n",
    "    data_shape = MFdata.data.shape\n",
    "    \n",
    "    summed_data = np.zeros((data_shape[0], data_shape[-1] // 60), dtype=np.complex64)\n",
    "    \n",
    "    summed_indexes = np.zeros(data_shape[0])\n",
    "    \n",
    "    pitch_angles = np.sort(metadata['theta_min'].unique())\n",
    "    #print(pitch_angles)\n",
    "    \n",
    "    total_num_summed = 0\n",
    "    \n",
    "    for i, angle in enumerate(pitch_angles):\n",
    "        \n",
    "        inds = np.array(metadata[metadata['theta_min'] == angle].index.array)\n",
    "\n",
    "        signal_subset = MFdata.data[inds, :]\n",
    "        \n",
    "        nsignal = signal_subset.shape[0]\n",
    "        \n",
    "        gradb_freq = InterpolateGradB(radius, angle, gradb_freq_grid)\n",
    "        \n",
    "        summed_signals = ShiftAndSum(signal_subset, radius, gradb_freq)\n",
    "        \n",
    "        summed_data[total_num_summed:total_num_summed+nsignal, :] = summed_signals\n",
    "        summed_indexes[total_num_summed:total_num_summed+nsignal] = inds\n",
    "        \n",
    "        total_num_summed += nsignal\n",
    "        \n",
    "        if i % 5 == 4:\n",
    "            print(f'{i+1}/{len(pitch_angles)}')\n",
    "        \n",
    "        \n",
    "    resorted_metadata = metadata.iloc[summed_indexes]\n",
    "    \n",
    "    \n",
    "        \n",
    "    return summed_data, resorted_metadata\n",
    "\n",
    "def InterpolateGradB(radius, pitch_angle, gradb_freq_grid):\n",
    "    \n",
    "    radii = gradb_freq_grid['radii']\n",
    "    angles = gradb_freq_grid['angles']\n",
    "    gradb_data = gradb_freq_grid['freq']\n",
    "    \n",
    "    interpolator = scipy.interpolate.interp2d(radii, angles, gradb_data)\n",
    "    \n",
    "    interpolated_freq = interpolator(radius, pitch_angle)\n",
    "    \n",
    "    return interpolated_freq\n",
    "\n",
    "def ShiftAndSum(signal_subset, radius, freq):\n",
    "    \n",
    "    nch = 60\n",
    "    signal_subset = signal_subset.reshape((signal_subset.shape[0], nch, signal_subset.shape[-1] // 60))\n",
    "    nsample = signal_subset.shape[-1]\n",
    "    angles = np.radians(np.arange(0, nch, 1) * 360 / nch)\n",
    "    r_array = 0.10\n",
    "    wavelength_lo = 3e8 / 25.86e9\n",
    "    fsample = 200e6\n",
    "    \n",
    "    grad_b_angles = 12 * 2 * np.pi * np.arange(0, nsample, 1) * freq / fsample\n",
    "    \n",
    "    x_antenna = r_array * np.cos(angles)\n",
    "    y_antenna = r_array * np.sin(angles)\n",
    "    \n",
    "    r_electron = radius\n",
    "    theta_electron = 0 + grad_b_angles\n",
    "    \n",
    "    x_electron = r_electron * np.cos(theta_electron)\n",
    "    y_electron = r_electron * np.sin(theta_electron)\n",
    "    \n",
    "    #print(x_grad_b.shape, y_grad_b.shape)\n",
    "    \n",
    "    d_grad_b = np.sqrt((x_antenna.reshape((x_antenna.size, 1)) - x_electron.reshape((1, x_electron.size))) ** 2 + (y_antenna.reshape((y_antenna.size, 1)) - y_electron.reshape((1, y_electron.size))) ** 2)\n",
    "    \n",
    "    phase_shift = 2 * np.pi * (d_grad_b) / wavelength_lo + angles.reshape((angles.size, 1))\n",
    "    \n",
    "    shifted_signal_subset = signal_subset * np.exp(-1j * phase_shift).reshape((1, *phase_shift.shape))\n",
    "    \n",
    "    \n",
    "    return shifted_signal_subset.sum(axis=1)\n",
    "    \n"
   ]
  },
  {
   "cell_type": "code",
   "execution_count": null,
   "id": "216c8b18",
   "metadata": {},
   "outputs": [],
   "source": [
    "os.listdir(os.path.join(DATAPATH))"
   ]
  },
  {
   "cell_type": "code",
   "execution_count": null,
   "id": "1a2c0426",
   "metadata": {},
   "outputs": [],
   "source": [
    "os.listdir(os.path.join(DATAPATH))"
   ]
  },
  {
   "cell_type": "markdown",
   "id": "4621d359",
   "metadata": {},
   "source": [
    "# load data"
   ]
  },
  {
   "cell_type": "code",
   "execution_count": null,
   "id": "723256a9",
   "metadata": {},
   "outputs": [],
   "source": [
    "# signal data\n",
    "data = mf.data.MFDataset(os.path.join(DATAPATH, '211116_grad_b_est.h5'))\n",
    "metadata = pd.DataFrame(data.metadata)\n",
    "\n",
    "# grad-b correction data\n",
    "gradb_freq_grid = np.load(os.path.join(PATH, 'results/mayfly', '211129_grad_b_frequency_grid_radius_angle.npz'))"
   ]
  },
  {
   "cell_type": "code",
   "execution_count": null,
   "id": "2a96d6e7",
   "metadata": {},
   "outputs": [],
   "source": [
    "60 * 8192"
   ]
  },
  {
   "cell_type": "code",
   "execution_count": null,
   "id": "188bd5c1",
   "metadata": {},
   "outputs": [],
   "source": [
    "data.data.shape"
   ]
  },
  {
   "cell_type": "code",
   "execution_count": null,
   "id": "888e2ccc",
   "metadata": {},
   "outputs": [],
   "source": [
    "rad = 0.01\n",
    "angle = 89.\n",
    "\n",
    "\n",
    "\n",
    "ind = metadata[(metadata['x_min'] == rad) & (metadata['theta_min'] == angle)].index[0]\n",
    "\n",
    "gradb_freq = InterpolateGradB(rad, angle, gradb_freq_grid)"
   ]
  },
  {
   "cell_type": "code",
   "execution_count": null,
   "id": "53ea2239",
   "metadata": {},
   "outputs": [],
   "source": [
    "signal = data.data[ind, :]\n",
    "\n",
    "sum_signal = ShiftAndSum(signal.reshape(1, signal.size), rad, gradb_freq)"
   ]
  },
  {
   "cell_type": "code",
   "execution_count": null,
   "id": "4ea7ff92",
   "metadata": {},
   "outputs": [],
   "source": [
    "var = 1.38e-23 * 10 * 200e6 * 50 # variance in V squared"
   ]
  },
  {
   "cell_type": "markdown",
   "id": "e301ac43",
   "metadata": {},
   "source": [
    "# analyze MF SNR for signal before summing"
   ]
  },
  {
   "cell_type": "code",
   "execution_count": null,
   "id": "3921d269",
   "metadata": {},
   "outputs": [],
   "source": [
    "norm = 1 / np.sqrt(var * np.vdot(signal, signal))\n",
    "\n",
    "template = norm * signal\n",
    "\n",
    "score = abs(np.vdot(template, signal))\n",
    "\n",
    "print(score)"
   ]
  },
  {
   "cell_type": "markdown",
   "id": "2fde1c3c",
   "metadata": {},
   "source": [
    "# analyze MF SNR for signal after sum"
   ]
  },
  {
   "cell_type": "code",
   "execution_count": null,
   "id": "a3900e5f",
   "metadata": {},
   "outputs": [],
   "source": [
    "norm = 1 / np.sqrt(var * np.vdot(sum_signal, sum_signal))\n",
    "\n",
    "template = norm * sum_signal\n",
    "\n",
    "score = abs(np.vdot(template, sum_signal))\n",
    "\n",
    "print(f'Score with wrong variance {score}')\n",
    "\n",
    "norm = 1 / np.sqrt(60 * var * np.vdot(sum_signal, sum_signal))\n",
    "\n",
    "template = norm * sum_signal\n",
    "\n",
    "score = abs(np.vdot(template, sum_signal))\n",
    "\n",
    "print(f'Score with correct variance {score}')"
   ]
  },
  {
   "cell_type": "code",
   "execution_count": null,
   "id": "4231a6cd",
   "metadata": {},
   "outputs": [],
   "source": [
    "noise = np.random.multivariate_normal([0, 0], np.eye(2) * var / 2, 8192)\n",
    "noise = noise[:, 0] + 1j * noise[:, 1]\n",
    "\n",
    "pow1 = np.mean(abs(noise) ** 2)\n",
    "\n",
    "noise = np.random.multivariate_normal([0, 0], np.eye(2) * var / 2, 8192 * 60)\n",
    "noise = noise[:, 0] + 1j * noise[:, 1]\n",
    "\n",
    "pow60 = np.mean(abs(noise.reshape((60, 8192)).sum(axis=0)) ** 2)\n",
    "                \n",
    "print(pow1, pow60, pow60 / pow1)"
   ]
  },
  {
   "cell_type": "code",
   "execution_count": null,
   "id": "62eb74af",
   "metadata": {},
   "outputs": [],
   "source": [
    "print(np.mean(abs(np.fft.fft(noise.reshape((60, 8192)).sum(axis=0)) / 8192) ** 2), pow60, pow60 / np.mean(abs(np.fft.fft(noise.reshape((60, 8192)).sum(axis=0)) / 8192) ** 2))"
   ]
  },
  {
   "cell_type": "code",
   "execution_count": null,
   "id": "a2e77f06",
   "metadata": {},
   "outputs": [],
   "source": [
    "60 * 1.38e-23 * 10 * 200e6 * 50 / 8192"
   ]
  },
  {
   "cell_type": "code",
   "execution_count": null,
   "id": "4d96c3db",
   "metadata": {},
   "outputs": [],
   "source": [
    "plt.plot(abs(np.fft.fft(sum_signal[0, :]) / 8192) ** 2)\n"
   ]
  },
  {
   "cell_type": "markdown",
   "id": "42098f66",
   "metadata": {},
   "source": [
    "# variance should include the number of channels for voltage signals"
   ]
  },
  {
   "cell_type": "code",
   "execution_count": null,
   "id": "209e143c",
   "metadata": {},
   "outputs": [],
   "source": [
    "sns.set_theme(context='poster')\n",
    "fig = plt.figure(figsize=(13,8))\n",
    "\n",
    "ax = fig.add_subplot(1,1,1)\n",
    "\n",
    "var =  1 * 1.38e-23 * 10 * 200e6 * 50 / 8192\n",
    "\n",
    "noise = np.random.multivariate_normal([0, 0], np.eye(2) * var / 2, 8192)\n",
    "noise = noise[:, 0] + 1j * noise[:, 1]\n",
    "\n",
    "fs = np.fft.fftshift(np.fft.fftfreq(8192, 1/200e6))\n",
    "ax.plot(fs, abs(noise) ** 2, label='noise')\n",
    "ax.plot(fs, abs(np.fft.fftshift(np.fft.fft(sum_signal[0, :])) / 8192) ** 2, label='signal')\n",
    "\n",
    "ax.set_xlabel('Frequency (Hz)')\n",
    "ax.set_ylabel(r'Power ($|V|^2$)')\n",
    "plt.legend(loc=2)\n",
    "plt.savefig(os.path.join(PATH, 'plots/mayfly', '220107_example_frequency_spectrum_low_noise'))\n",
    "\n",
    "print(10 * np.log10(np.max(abs(np.fft.fftshift(np.fft.fft(sum_signal[0, :])) / 8192) ** 2) / np.mean(abs(noise)) ** 2))\n",
    "\n"
   ]
  },
  {
   "cell_type": "code",
   "execution_count": null,
   "id": "0dcdda86",
   "metadata": {},
   "outputs": [],
   "source": [
    "summed_metadata['theta_min'].unique()"
   ]
  },
  {
   "cell_type": "code",
   "execution_count": null,
   "id": "3eac24ee",
   "metadata": {},
   "outputs": [],
   "source": []
  }
 ],
 "metadata": {
  "kernelspec": {
   "display_name": "Python 3",
   "language": "python",
   "name": "python3"
  },
  "language_info": {
   "codemirror_mode": {
    "name": "ipython",
    "version": 3
   },
   "file_extension": ".py",
   "mimetype": "text/x-python",
   "name": "python",
   "nbconvert_exporter": "python",
   "pygments_lexer": "ipython3",
   "version": "3.8.10"
  }
 },
 "nbformat": 4,
 "nbformat_minor": 5
}
