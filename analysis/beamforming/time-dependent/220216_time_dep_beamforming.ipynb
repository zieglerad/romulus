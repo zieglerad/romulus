{
 "cells": [
  {
   "cell_type": "code",
   "execution_count": null,
   "id": "6a4c4d1b",
   "metadata": {},
   "outputs": [],
   "source": [
    "import numpy as np\n",
    "import matplotlib.pyplot as plt\n",
    "import seaborn as sns\n",
    "import pandas as pd\n",
    "import torch\n",
    "import h5py\n",
    "import os\n",
    "import sys\n",
    "import scipy\n",
    "import damselfly as df\n",
    "import mayfly as mf\n",
    "import scipy.signal\n",
    "import scipy.stats\n",
    "import scipy.interpolate\n",
    "\n",
    "PATH = '/storage/home/adz6/group/project'\n",
    "RESULTPATH = os.path.join(PATH, 'results/damselfly')\n",
    "PLOTPATH = os.path.join(PATH, 'plots/damselfly')\n",
    "DATAPATH = os.path.join(PATH, 'datasets/data')\n",
    "#SIMDATAPATH = os.path.join(PATH, 'damselfly/data/sim_data')\n",
    "\n",
    "\"\"\"\n",
    "Date: 6/25/2021\n",
    "Description: template\n",
    "\"\"\"\n",
    "\n",
    "def SumSignal(signal, freq, radius):\n",
    "    \n",
    "    nch = 60\n",
    "    angles = np.radians(np.arange(0, nch, 1) * 360 / nch)\n",
    "    r_array = 0.10\n",
    "    nsample = signal.shape[-1] // nch\n",
    "    wavelength_lo = 3e8 / 25.86e9\n",
    "    fsample = 200e6\n",
    "    \n",
    "    grad_b_angles = 12 * 2 * np.pi * np.arange(0, nsample, 1) * freq / fsample\n",
    "    \n",
    "    x_antenna = r_array * np.cos(angles)\n",
    "    y_antenna = r_array * np.sin(angles)\n",
    "    \n",
    "    r_electron = radius\n",
    "    theta_electron = 0 + grad_b_angles\n",
    "    \n",
    "    x_electron = r_electron * np.cos(theta_electron)\n",
    "    y_electron = r_electron * np.sin(theta_electron)\n",
    "    \n",
    "    d_grad_b = np.sqrt(\n",
    "        (\n",
    "            x_antenna.reshape((x_antenna.size, 1))\n",
    "            - x_electron.reshape((1, x_electron.size))\n",
    "        ) ** 2\n",
    "        + (\n",
    "            y_antenna.reshape((y_antenna.size, 1))\n",
    "            - y_electron.reshape((1, y_electron.size))\n",
    "        ) ** 2\n",
    "    )\n",
    "    \n",
    "    correction = 1 * np.exp( 1j * 2 * np.pi * (d_grad_b) / wavelength_lo + AntispiralCorrectionSingle(x_electron, y_electron, x_antenna, y_antenna))\n",
    "\n",
    "    \n",
    "    return (signal.reshape(nch, signal.size // nch) * correction).sum(axis=0)\n",
    "    \n",
    "def SaveSummedDataset(data, metadata, name):\n",
    "    \n",
    "    savefile = h5py.File(name, 'w')\n",
    "    \n",
    "    dataset = savefile.create_dataset('data', data=data)\n",
    "    \n",
    "    metagroup = savefile.create_group('meta')\n",
    "    \n",
    "    for i,key in enumerate(metadata.keys()):\n",
    "        \n",
    "        metagroup.create_dataset(key, data = np.array(metadata[key].array))\n",
    "        \n",
    "    savefile.close()\n",
    "    \n",
    "def SumDataset2(MFdata, gradb_freq_grid, r_grid, theta_grid):\n",
    "    \n",
    "    metadata = pd.DataFrame(MFdata.metadata)\n",
    "    data_shape = MFdata.data.shape\n",
    "    nch = 60\n",
    "    angles = np.radians(np.arange(0, nch, 1) * 360 / nch)\n",
    "    r_array = 0.10\n",
    "    nsample = data_shape[-1] // nch\n",
    "    wavelength_lo = 3e8 / 25.86e9\n",
    "    fsample = 200e6\n",
    "    \n",
    "    #gradb_freq_grid = gradb_freq_grid.mean(axis = 0).reshape((1, gradb_freq_grid.shape[1])).repeat(gradb_freq_grid.shape[0], axis=0)\n",
    "    \n",
    "    grad_b_angles = 12 * 2 * np.pi * np.arange(0, nsample, 1).reshape((1, 1, nsample)) * gradb_freq_grid.reshape((*gradb_freq_grid.shape, 1)) / fsample\n",
    "    \n",
    "    x_antenna = r_array * np.cos(angles)\n",
    "    y_antenna = r_array * np.sin(angles)\n",
    "    \n",
    "    r_electron = r_grid\n",
    "    theta_electron = 0 + grad_b_angles\n",
    "    \n",
    "    x_electron = r_electron.reshape((*r_electron.shape, 1)) * np.cos(theta_electron)\n",
    "    y_electron = r_electron.reshape((*r_electron.shape, 1)) * np.sin(theta_electron)\n",
    "    \n",
    "    d_grad_b = np.sqrt(\n",
    "        (\n",
    "            x_antenna.reshape((x_antenna.size, 1, 1, 1))\n",
    "            - x_electron.reshape((1, x_electron.shape[0], x_electron.shape[1], x_electron.shape[2]))\n",
    "        ) ** 2\n",
    "        + (\n",
    "            y_antenna.reshape((y_antenna.size, 1, 1, 1))\n",
    "            - y_electron.reshape((1, y_electron.shape[0], y_electron.shape[1], y_electron.shape[2]))\n",
    "        ) ** 2\n",
    "    )\n",
    "    \n",
    "    correction = CalculateChannelWeights(d_grad_b, r_grid) * np.exp( -1j * 2 * np.pi * (d_grad_b) / wavelength_lo - AntispiralCorrection(x_electron, y_electron, x_antenna, y_antenna))\n",
    "    #correction = 1 * np.exp( -1j * 2 * np.pi * (d_grad_b) / wavelength_lo + AntispiralCorrection(x_electron, y_electron, x_antenna, y_antenna))\n",
    "    data = np.swapaxes(MFdata.data[:].reshape(data_shape[0], nch, data_shape[-1] // nch), 0, 1)\n",
    "    sort_correction = np.zeros(data.shape, dtype=np.complex64)\n",
    "    \n",
    "    for i, pair in enumerate(zip(metadata['x_min'].array, metadata['theta_min'].array)):\n",
    "        \n",
    "        index = np.argwhere(np.logical_and(r_grid == pair[0], theta_grid == pair[1])).squeeze()\n",
    "        sort_correction[:, i, :] = correction[:, index[0], index[1], :]\n",
    "    \n",
    "    return np.sum(sort_correction * data , axis=0)\n",
    "    \n",
    "    \n",
    "def SumDataset(MFdata, radius, gradb_freq_grid):\n",
    "    \n",
    "    metadata = pd.DataFrame(MFdata.metadata)\n",
    "    data_shape = MFdata.data.shape\n",
    "    \n",
    "    summed_data = np.zeros((data_shape[0], data_shape[-1] // 60), dtype=np.complex64)\n",
    "    \n",
    "    summed_indexes = np.zeros(data_shape[0])\n",
    "    \n",
    "    pitch_angles = np.sort(metadata['theta_min'].unique())\n",
    "    #print(pitch_angles)\n",
    "    \n",
    "    total_num_summed = 0\n",
    "    \n",
    "    for i, angle in enumerate(pitch_angles):\n",
    "        \n",
    "        inds = np.array(metadata[metadata['theta_min'] == angle].index.array)\n",
    "\n",
    "        signal_subset = MFdata.data[inds, :]\n",
    "        \n",
    "        nsignal = signal_subset.shape[0]\n",
    "        \n",
    "        gradb_freq = InterpolateGradB(radius, angle, gradb_freq_grid)\n",
    "        \n",
    "        summed_signals = ShiftAndSum(signal_subset, radius, gradb_freq)\n",
    "        \n",
    "        summed_data[total_num_summed:total_num_summed+nsignal, :] = summed_signals\n",
    "        summed_indexes[total_num_summed:total_num_summed+nsignal] = inds\n",
    "        \n",
    "        total_num_summed += nsignal\n",
    "        \n",
    "        if i % 5 == 4:\n",
    "            print(f'{i+1}/{len(pitch_angles)}')\n",
    "          \n",
    "    resorted_metadata = metadata.iloc[summed_indexes]\n",
    "    \n",
    "        \n",
    "    return summed_data, resorted_metadata\n",
    "\n",
    "def InterpolateGradB(radius, pitch_angle, gradb_freq_grid):\n",
    "    \n",
    "    radii = gradb_freq_grid['radii']\n",
    "    angles = gradb_freq_grid['angles']\n",
    "    gradb_data = gradb_freq_grid['freq']\n",
    "    \n",
    "    interpolator = scipy.interpolate.interp2d(radii, angles, gradb_data)\n",
    "    \n",
    "    interpolated_freq = interpolator(radius, pitch_angle)\n",
    "    \n",
    "    return interpolated_freq\n",
    "\n",
    "def ShiftAndSum(signal_subset, radius, freq):\n",
    "    \n",
    "    nch = 60\n",
    "    signal_subset = signal_subset.reshape((signal_subset.shape[0], nch, signal_subset.shape[-1] // 60))\n",
    "    nsample = signal_subset.shape[-1]\n",
    "    angles = np.radians(np.arange(0, nch, 1) * 360 / nch)\n",
    "    r_array = 0.10\n",
    "    wavelength_lo = 3e8 / 25.86e9\n",
    "    fsample = 200e6\n",
    "    \n",
    "    grad_b_angles = 1 * 2 * np.pi * np.arange(0, nsample, 1) * freq / fsample\n",
    "    \n",
    "    x_antenna = r_array * np.cos(angles)\n",
    "    y_antenna = r_array * np.sin(angles)\n",
    "    \n",
    "    r_electron = radius\n",
    "    theta_electron = 0 + grad_b_angles\n",
    "    \n",
    "    x_electron = r_electron * np.cos(theta_electron)\n",
    "    y_electron = r_electron * np.sin(theta_electron)\n",
    "    \n",
    "    d_grad_b = np.sqrt((x_antenna.reshape((x_antenna.size, 1)) - x_electron.reshape((1, x_electron.size))) ** 2 + (y_antenna.reshape((y_antenna.size, 1)) - y_electron.reshape((1, y_electron.size))) ** 2)\n",
    "    phase_shift = -2 * np.pi * (d_grad_b) / wavelength_lo + AntispiralCorrection(x_electron, y_electron, x_antenna, y_antenna)\n",
    "    \n",
    "    shifted_signal_subset = signal_subset * np.exp(-1j * phase_shift).reshape((1, *phase_shift.shape))\n",
    "    \n",
    "    \n",
    "    return WeightedChannelSum(shifted_signal_subset, radius, d_grad_b)\n",
    "\n",
    "\n",
    "def AntispiralCorrection(x_electron, y_electron, x_antenna, y_antenna):\n",
    "    \n",
    "    angles = np.arctan2(\n",
    "        y_antenna.reshape((y_antenna.size, 1, 1, 1))\n",
    "        - y_electron.reshape((1, y_electron.shape[0], y_electron.shape[1], y_electron.shape[2])),\n",
    "        x_antenna.reshape((x_antenna.size, 1, 1, 1))\n",
    "        - x_electron.reshape((1, x_electron.shape[0], x_electron.shape[1], x_electron.shape[2]))\n",
    "    )\n",
    "    \n",
    "    return angles\n",
    "\n",
    "def AntispiralCorrectionSingle(x_electron, y_electron, x_antenna, y_antenna):\n",
    "    \n",
    "    angles = np.arctan2(\n",
    "        y_antenna.reshape((y_antenna.size, 1,))\n",
    "        - y_electron.reshape((1, y_electron.size)),\n",
    "        x_antenna.reshape((x_antenna.size, 1,))\n",
    "        - x_electron.reshape((1, x_electron.size))\n",
    "    )\n",
    "    \n",
    "    return angles\n",
    "\n",
    "def WeightedChannelSum(shifted_signals, radius, d_grad_b):\n",
    "    \n",
    "    if radius == 0:\n",
    "        weights = weights_norm = np.ones(d_grad_b.shape)\n",
    "        normed_weights = weights\n",
    "    else:\n",
    "        weights = (radius / (d_grad_b)) \n",
    "        weights_norm = 60 / weights.sum(axis=0) # normalization, previously all weights were 1 and thus would've summed to 60\n",
    "        normed_weights = weights_norm.reshape((1, weights_norm.size)) * weights\n",
    "        #normed_weights = weights\n",
    "    \n",
    "    return (shifted_signals * normed_weights.reshape(1, *normed_weights.shape)).sum(axis=1)\n",
    "    \n",
    "def CalculateChannelWeights(d_grad_b, r_grid):\n",
    "    \n",
    "    channel_weights = np.ones(d_grad_b.shape)\n",
    "    \n",
    "    r_grid_is_not_zero = r_grid != 0\n",
    "    \n",
    "    weights = r_grid[r_grid_is_not_zero].reshape((1, r_grid_is_not_zero.sum(), 1)) / d_grad_b[:, r_grid_is_not_zero, : ]\n",
    "    weights_norm = 60 / weights.sum(axis=0)\n",
    "    normed_weights = weights_norm.reshape((1, *weights_norm.shape)) * weights\n",
    "\n",
    "    counter = 0\n",
    "    #print(normed_weights.shape)\n",
    "    for i in range(r_grid_is_not_zero.shape[0]):\n",
    "        for j in range(r_grid_is_not_zero.shape[1]):\n",
    "            if r_grid_is_not_zero[i, j]:\n",
    "                channel_weights[:, i, j, :] = normed_weights[:, counter, :]\n",
    "                counter += 1\n",
    "                #print(counter)\n",
    "                \n",
    "    return channel_weights\n",
    "    \n",
    "    \n",
    "    "
   ]
  },
  {
   "cell_type": "code",
   "execution_count": null,
   "id": "7b5f17fa",
   "metadata": {},
   "outputs": [],
   "source": [
    "os.listdir(os.path.join(DATAPATH))"
   ]
  },
  {
   "cell_type": "markdown",
   "id": "f23fdf81",
   "metadata": {},
   "source": [
    "# load data"
   ]
  },
  {
   "cell_type": "code",
   "execution_count": null,
   "id": "28868572",
   "metadata": {},
   "outputs": [],
   "source": [
    "# signal data\n",
    "h5file = h5py.File(os.path.join(DATAPATH, '211116_grad_b_est.h5'), 'r')\n",
    "data = mf.data.MFDataset(os.path.join(DATAPATH, '211116_grad_b_est.h5'))\n",
    "metadata = pd.DataFrame(data.metadata)\n",
    "\n",
    "# grad-b correction data\n",
    "gradb_freq_grid = np.load(os.path.join(PATH, 'results/mayfly', '211129_grad_b_frequency_grid_radius_angle.npz'))"
   ]
  },
  {
   "cell_type": "code",
   "execution_count": null,
   "id": "2fbe7f9b",
   "metadata": {},
   "outputs": [],
   "source": [
    "data.data.shape"
   ]
  },
  {
   "cell_type": "code",
   "execution_count": null,
   "id": "84032fea",
   "metadata": {},
   "outputs": [],
   "source": [
    "print(np.argwhere(metadata['theta_min'].array == 88))\n",
    "print(np.argwhere(metadata['x_min'].array == 0.00))"
   ]
  },
  {
   "cell_type": "code",
   "execution_count": null,
   "id": "cfb7929e",
   "metadata": {},
   "outputs": [],
   "source": []
  },
  {
   "cell_type": "code",
   "execution_count": null,
   "id": "61a89963",
   "metadata": {},
   "outputs": [],
   "source": [
    "gradb_freq_grid['freq'].shape"
   ]
  },
  {
   "cell_type": "code",
   "execution_count": null,
   "id": "8423b2f6",
   "metadata": {},
   "outputs": [],
   "source": [
    "signal = data.data[1450, :]"
   ]
  },
  {
   "cell_type": "code",
   "execution_count": null,
   "id": "554e5d2d",
   "metadata": {},
   "outputs": [],
   "source": [
    "r_grid, theta_grid = np.meshgrid(gradb_freq_grid['radii'], gradb_freq_grid['angles'])\n",
    "\n",
    "theta_signal = metadata['theta_min'].iloc[1450]\n",
    "r_signal = metadata['x_min'].iloc[1450]\n",
    "\n",
    "idx = np.argwhere(np.logical_and(r_grid.flatten() == r_signal, theta_grid.flatten() == theta_signal)).squeeze()\n",
    "freq = gradb_freq_grid['freq'].flatten()[idx]\n",
    "\n",
    "sum_signal = SumSignal(signal, freq, r_signal)"
   ]
  },
  {
   "cell_type": "code",
   "execution_count": null,
   "id": "28667a0e",
   "metadata": {},
   "outputs": [],
   "source": [
    "#no_sum_signal = no_sum_data[6039, :, :].flatten()\n",
    "var = 1.38e-23 * 10 * 50 * 200e6\n",
    "norm = 1 / np.sqrt(var * np.vdot(signal, signal))\n",
    "\n",
    "score = abs(np.vdot(signal, signal) * norm)\n",
    "print(score)"
   ]
  },
  {
   "cell_type": "code",
   "execution_count": null,
   "id": "429bd831",
   "metadata": {},
   "outputs": [],
   "source": [
    "var = 1.38e-23 * 10 * 50 * 200e6 * 60 * np.sqrt(60)\n",
    "\n",
    "norm = 1 / np.sqrt(var * np.vdot(sum_signal, sum_signal))\n",
    "\n",
    "score = abs(np.vdot(sum_signal, sum_signal) * norm)\n",
    "print(score)"
   ]
  },
  {
   "cell_type": "code",
   "execution_count": null,
   "id": "db6202ee",
   "metadata": {},
   "outputs": [],
   "source": [
    "fig = plt.figure(figsize=(13, 8))\n",
    "ax = fig.add_subplot(1,1,1)\n",
    "\n",
    "ax.plot((abs(np.fft.fft(sum_signal) / (60 * 8192))))\n",
    "#ax.plot(summed_data[6040, :].imag)\n",
    "\n",
    "#ax.set_xlim(0, 200)"
   ]
  },
  {
   "cell_type": "code",
   "execution_count": null,
   "id": "bd12c75b",
   "metadata": {},
   "outputs": [],
   "source": [
    "fig = plt.figure(figsize=(13, 8))\n",
    "ax = fig.add_subplot(1,1,1)\n",
    "\n",
    "ax.plot(abs(np.fft.fft(signal.reshape(60, 8192)[0, :]) / 8192))\n",
    "#ax.plot(no_sum_data[0, 0, :].imag)\n",
    "\n",
    "#ax.set_xlim(0, 200)"
   ]
  },
  {
   "cell_type": "code",
   "execution_count": null,
   "id": "0273786e",
   "metadata": {},
   "outputs": [],
   "source": [
    "\n",
    "\n",
    "summed_data = SumDataset2(data, gradb_freq_grid['freq'], r_grid, theta_grid)"
   ]
  },
  {
   "cell_type": "code",
   "execution_count": null,
   "id": "d0c49a04",
   "metadata": {},
   "outputs": [],
   "source": [
    "summed_data.shape"
   ]
  },
  {
   "cell_type": "code",
   "execution_count": null,
   "id": "b80be134",
   "metadata": {},
   "outputs": [],
   "source": [
    "norm_summed_data = 1 / np.sqrt(10 * np.sqrt(60) * 60 * 1.38e-23 * 50 * 200e6 * abs(summed_data.conjugate() * summed_data).sum(axis = -1))"
   ]
  },
  {
   "cell_type": "code",
   "execution_count": null,
   "id": "4b508650",
   "metadata": {},
   "outputs": [],
   "source": [
    "summed_scores = abs(norm_summed_data.reshape((6070, 1)) * summed_data.conjugate() * summed_data).sum(axis=-1)"
   ]
  },
  {
   "cell_type": "code",
   "execution_count": null,
   "id": "1df24bd7",
   "metadata": {},
   "outputs": [],
   "source": [
    "summed_scores"
   ]
  },
  {
   "cell_type": "code",
   "execution_count": null,
   "id": "7ad39939",
   "metadata": {},
   "outputs": [],
   "source": [
    "radial_positions = np.unique(metadata['x_min'][:])\n",
    "pitch_angles = np.unique(metadata['theta_min'][:])\n",
    "\n",
    "rad_grid, angle_grid = np.meshgrid(radial_positions, pitch_angles)\n",
    "    \n",
    "sorted_summed_scores = np.zeros(rad_grid.size)\n",
    "\n",
    "for i, pair in enumerate(zip(rad_grid.flatten(), angle_grid.flatten())):\n",
    "    #print(np.argwhere(h5file['meta']['x_min'][:].array == pair[0]))\n",
    "    #print(np.argwhere(h5file['meta']['theta_min'][:] == pair[1]))\n",
    "    try:\n",
    "        index = np.argwhere(np.logical_and(h5file['meta']['x_min'][:] == pair[0], h5file['meta']['theta_min'][:] == pair[1])).squeeze()\n",
    "        #print(index)\n",
    "        sorted_summed_scores[i] = summed_scores[index]\n",
    "    except BaseException as err:\n",
    "        #print(err)\n",
    "        pass"
   ]
  },
  {
   "cell_type": "code",
   "execution_count": null,
   "id": "99835496",
   "metadata": {},
   "outputs": [],
   "source": [
    "plt.imshow(sorted_summed_scores.reshape(rad_grid.shape), aspect='auto', interpolation='none')\n",
    "cbar = plt.colorbar()"
   ]
  },
  {
   "cell_type": "markdown",
   "id": "59b60467",
   "metadata": {},
   "source": [
    "# save the summed mf scores"
   ]
  },
  {
   "cell_type": "code",
   "execution_count": null,
   "id": "c013c90d",
   "metadata": {},
   "outputs": [],
   "source": [
    "save_path = '/storage/home/adz6/group/project/results/beamforming/time_dependent'\n",
    "name = '220218_time_dependent_bf_exact_correction_mf_scores'\n",
    "np.savez(\n",
    "    os.path.join(save_path, name),\n",
    "    power=sorted_summed_scores.reshape(rad_grid.shape),\n",
    "    radius = rad_grid,\n",
    "    pitch = angle_grid,\n",
    ")"
   ]
  },
  {
   "cell_type": "code",
   "execution_count": null,
   "id": "655ad064",
   "metadata": {},
   "outputs": [],
   "source": [
    "summed_power = (np.mean(abs(summed_data) ** 2, axis = -1) / (50 * 60 * np.sqrt(60))) \n",
    "#summed_power = (np.mean(abs(summed_data) ** 2, axis = -1) / (1)) "
   ]
  },
  {
   "cell_type": "markdown",
   "id": "b822a9f7",
   "metadata": {},
   "source": [
    "# sort the summed power"
   ]
  },
  {
   "cell_type": "code",
   "execution_count": null,
   "id": "9e7279a5",
   "metadata": {},
   "outputs": [],
   "source": [
    "radial_positions = np.unique(metadata['x_min'][:])\n",
    "pitch_angles = np.unique(metadata['theta_min'][:])\n",
    "\n",
    "rad_grid, angle_grid = np.meshgrid(radial_positions, pitch_angles)\n",
    "    \n",
    "sorted_summed_pow = np.zeros(rad_grid.size)\n",
    "\n",
    "for i, pair in enumerate(zip(rad_grid.flatten(), angle_grid.flatten())):\n",
    "    #print(np.argwhere(h5file['meta']['x_min'][:].array == pair[0]))\n",
    "    #print(np.argwhere(h5file['meta']['theta_min'][:] == pair[1]))\n",
    "    try:\n",
    "        index = np.argwhere(np.logical_and(h5file['meta']['x_min'][:] == pair[0], h5file['meta']['theta_min'][:] == pair[1])).squeeze()\n",
    "        #print(index)\n",
    "        sorted_summed_pow[i] = summed_power[index]\n",
    "    except BaseException as err:\n",
    "        #print(err)\n",
    "        pass"
   ]
  },
  {
   "cell_type": "code",
   "execution_count": null,
   "id": "20a67185",
   "metadata": {},
   "outputs": [],
   "source": [
    "plt.imshow(sorted_summed_pow.reshape(rad_grid.shape), aspect='auto', )\n",
    "cbar = plt.colorbar()"
   ]
  },
  {
   "cell_type": "markdown",
   "id": "d98c91a0",
   "metadata": {},
   "source": [
    "# save the summed signal powers"
   ]
  },
  {
   "cell_type": "code",
   "execution_count": null,
   "id": "904b9db4",
   "metadata": {},
   "outputs": [],
   "source": [
    "save_path = '/storage/home/adz6/group/project/results/beamforming/time_dependent'\n",
    "name = '220218_time_dependent_bf_ex_total_signal_power'\n",
    "np.savez(\n",
    "    os.path.join(save_path, name),\n",
    "    power=sorted_summed_pow.reshape(rad_grid.shape),\n",
    "    radius = rad_grid,\n",
    "    pitch = angle_grid,\n",
    ")"
   ]
  },
  {
   "cell_type": "code",
   "execution_count": null,
   "id": "a52b4ab1",
   "metadata": {},
   "outputs": [],
   "source": [
    "sum_data_fft = np.fft.fft(summed_data, axis=-1)\n",
    "\n",
    "#pow_spectrum = (abs(sum_data_fft / (8192)) ** 2) / (50 * 60 * np.sqrt(60))\n",
    "pow_spectrum = (abs(sum_data_fft / (8192)) ** 2) / (1)\n",
    "\n",
    "pow_spectrum_max = np.max(pow_spectrum, axis=-1)\n",
    "\n",
    "print(pow_spectrum_max.shape)"
   ]
  },
  {
   "cell_type": "markdown",
   "id": "9b1ccdce",
   "metadata": {},
   "source": [
    "# sort the power spectrum max"
   ]
  },
  {
   "cell_type": "code",
   "execution_count": null,
   "id": "bbb09b80",
   "metadata": {},
   "outputs": [],
   "source": [
    "radial_positions = np.unique(metadata['x_min'][:])\n",
    "pitch_angles = np.unique(metadata['theta_min'][:])\n",
    "\n",
    "rad_grid, angle_grid = np.meshgrid(radial_positions, pitch_angles)\n",
    "    \n",
    "sorted_summed_maxima = np.zeros(rad_grid.size)\n",
    "\n",
    "for i, pair in enumerate(zip(rad_grid.flatten(), angle_grid.flatten())):\n",
    "    #print(np.argwhere(h5file['meta']['x_min'][:].array == pair[0]))\n",
    "    #print(np.argwhere(h5file['meta']['theta_min'][:] == pair[1]))\n",
    "    try:\n",
    "        index = np.argwhere(np.logical_and(h5file['meta']['x_min'][:] == pair[0], h5file['meta']['theta_min'][:] == pair[1])).squeeze()\n",
    "        #print(index)\n",
    "        sorted_summed_maxima[i] = pow_spectrum_max[index]\n",
    "    except BaseException as err:\n",
    "        #print(err)\n",
    "        pass"
   ]
  },
  {
   "cell_type": "code",
   "execution_count": null,
   "id": "28b31c2f",
   "metadata": {},
   "outputs": [],
   "source": [
    "plt.imshow(sorted_summed_maxima.reshape(rad_grid.shape), aspect='auto', interpolation='none')\n",
    "cbar = plt.colorbar()"
   ]
  },
  {
   "cell_type": "markdown",
   "id": "c97b0ca5",
   "metadata": {},
   "source": [
    "# save summed maxima grid"
   ]
  },
  {
   "cell_type": "code",
   "execution_count": null,
   "id": "7cef87c1",
   "metadata": {},
   "outputs": [],
   "source": [
    "save_path = '/storage/home/adz6/group/project/results/beamforming/time_dependent'\n",
    "name = '220218_time_dependent_bf_pitch_average_fft_spetrum_max_voltage_square'\n",
    "np.savez(\n",
    "    os.path.join(save_path, name),\n",
    "    power=sorted_summed_maxima.reshape(rad_grid.shape),\n",
    "    radius = rad_grid,\n",
    "    pitch = angle_grid,\n",
    ")"
   ]
  },
  {
   "cell_type": "code",
   "execution_count": null,
   "id": "2781adf0",
   "metadata": {},
   "outputs": [],
   "source": [
    "carrier_power_grid = np.zeros(r_grid.shape).flatten()\n",
    "\n",
    "for i, pair in enumerate(zip(r_grid.flatten(), theta_grid.flatten())):\n",
    "    idx = np.argwhere(np.logical_and(metadata['theta_min'].array == pair[1], metadata['theta_min'].array == pair[1])).squeeze()\n",
    "    \n",
    "    carrier_power_grid[i] = pow_spectrum_max[idx[0]]\n"
   ]
  },
  {
   "cell_type": "code",
   "execution_count": null,
   "id": "8f5694fb",
   "metadata": {},
   "outputs": [],
   "source": [
    "# This looks different than the plots i've shown before, \n",
    "# I should check this using just the average grad-b frequency for a specific radius."
   ]
  },
  {
   "cell_type": "code",
   "execution_count": null,
   "id": "b3e4fff4",
   "metadata": {},
   "outputs": [],
   "source": [
    "plt.imshow(carrier_power_grid.reshape(r_grid.shape).T, aspect='auto', interpolation='none')\n",
    "plt.colorbar()\n"
   ]
  },
  {
   "cell_type": "code",
   "execution_count": null,
   "id": "45dd80f0",
   "metadata": {},
   "outputs": [],
   "source": [
    "print(carrier_power_grid.max())"
   ]
  },
  {
   "cell_type": "code",
   "execution_count": null,
   "id": "816362ed",
   "metadata": {},
   "outputs": [],
   "source": [
    "path_save = '/storage/home/adz6/group/project/datasets/data/bf/220216_gradb_est_summed_data_needs_check'"
   ]
  },
  {
   "cell_type": "code",
   "execution_count": null,
   "id": "13ec8175",
   "metadata": {},
   "outputs": [],
   "source": [
    "np.save(path_save, summed_data)"
   ]
  },
  {
   "cell_type": "code",
   "execution_count": null,
   "id": "cf78bf8f",
   "metadata": {},
   "outputs": [],
   "source": [
    "fig = plt.figure(figsize=(13, 8))\n",
    "ax = fig.add_subplot(1,1,1)\n",
    "\n",
    "ax.plot((np.fft.fftshift(abs(np.fft.fft(summed_data[135, :]) / (60 * 8192 * 50))) ** 2))\n",
    "#ax.plot(summed_data[6040, :].imag)\n",
    "\n",
    "#ax.set_xlim(0, 200)"
   ]
  },
  {
   "cell_type": "code",
   "execution_count": null,
   "id": "24744e72",
   "metadata": {},
   "outputs": [],
   "source": [
    "no_sum_data = data.data[:].reshape(6070, 60, 8192)"
   ]
  },
  {
   "cell_type": "code",
   "execution_count": null,
   "id": "55703e0a",
   "metadata": {},
   "outputs": [],
   "source": [
    "fig = plt.figure(figsize=(13, 8))\n",
    "ax = fig.add_subplot(1,1,1)\n",
    "\n",
    "ax.plot(np.fft.fftshift(abs(np.fft.fft(no_sum_data[135, 0, :]) / (8192*50)) ** 2))\n",
    "#ax.plot(no_sum_data[0, 0, :].imag)\n",
    "\n",
    "#ax.set_xlim(0, 200)"
   ]
  },
  {
   "cell_type": "code",
   "execution_count": null,
   "id": "a9b203d6",
   "metadata": {},
   "outputs": [],
   "source": [
    "np.sum(abs(no_sum_data[94, :, :] ** 2))"
   ]
  },
  {
   "cell_type": "code",
   "execution_count": null,
   "id": "f2f1f92c",
   "metadata": {},
   "outputs": [],
   "source": [
    "energy = np.sum(abs(summed_data[94, :]) ** 2)"
   ]
  },
  {
   "cell_type": "code",
   "execution_count": null,
   "id": "7a40fd3b",
   "metadata": {},
   "outputs": [],
   "source": [
    "energy / (50)"
   ]
  },
  {
   "cell_type": "code",
   "execution_count": null,
   "id": "d1a3d273",
   "metadata": {},
   "outputs": [],
   "source": [
    "no_sum_signal = no_sum_data[94, :, :].flatten()\n",
    "var = 1.38e-23 * 10 * 50 * 200e6\n",
    "norm = 1 / np.sqrt(var * np.vdot(no_sum_signal, no_sum_signal))\n",
    "\n",
    "score = abs(np.vdot(no_sum_signal, no_sum_signal) * norm)\n",
    "print(score)"
   ]
  },
  {
   "cell_type": "code",
   "execution_count": null,
   "id": "571d7f1c",
   "metadata": {},
   "outputs": [],
   "source": [
    "sum_signal = summed_data[94, :]\n",
    "var = 1.38e-23 * 10 * 50 * 200e6 * 60 * np.sqrt(60)\n",
    "\n",
    "norm = 1 / np.sqrt(var * np.vdot(sum_signal, sum_signal))\n",
    "\n",
    "score = abs(np.vdot(sum_signal, sum_signal) * norm)\n",
    "print(score)"
   ]
  },
  {
   "cell_type": "code",
   "execution_count": null,
   "id": "7aef31a1",
   "metadata": {},
   "outputs": [],
   "source": []
  }
 ],
 "metadata": {
  "kernelspec": {
   "display_name": "Python 3",
   "language": "python",
   "name": "python3"
  },
  "language_info": {
   "codemirror_mode": {
    "name": "ipython",
    "version": 3
   },
   "file_extension": ".py",
   "mimetype": "text/x-python",
   "name": "python",
   "nbconvert_exporter": "python",
   "pygments_lexer": "ipython3",
   "version": "3.8.10"
  }
 },
 "nbformat": 4,
 "nbformat_minor": 5
}
