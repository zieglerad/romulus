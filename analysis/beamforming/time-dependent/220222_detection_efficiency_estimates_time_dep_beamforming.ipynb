{
 "cells": [
  {
   "cell_type": "code",
   "execution_count": null,
   "id": "6a4c4d1b",
   "metadata": {},
   "outputs": [],
   "source": [
    "import numpy as np\n",
    "import matplotlib.pyplot as plt\n",
    "import seaborn as sns\n",
    "import pandas as pd\n",
    "import torch\n",
    "import h5py\n",
    "import os\n",
    "import sys\n",
    "import scipy\n",
    "import damselfly as df\n",
    "import mayfly as mf\n",
    "import scipy.signal\n",
    "import scipy.stats\n",
    "import scipy.interpolate\n",
    "from scipy import integrate\n",
    "from pathlib import Path\n",
    "\n",
    "PATH = '/storage/home/adz6/group/project'\n",
    "RESULTPATH = os.path.join(PATH, 'results/damselfly')\n",
    "PLOTPATH = os.path.join(PATH, 'plots/damselfly')\n",
    "DATAPATH = os.path.join(PATH, 'datasets/data')\n",
    "#SIMDATAPATH = os.path.join(PATH, 'damselfly/data/sim_data')\n",
    "\n",
    "\"\"\"\n",
    "Date: 6/25/2021\n",
    "Description: template\n",
    "\"\"\"\n",
    "    "
   ]
  },
  {
   "cell_type": "code",
   "execution_count": null,
   "id": "7b5f17fa",
   "metadata": {},
   "outputs": [],
   "source": [
    "os.listdir(os.path.join(DATAPATH))"
   ]
  },
  {
   "cell_type": "markdown",
   "id": "f23fdf81",
   "metadata": {},
   "source": [
    "# load data"
   ]
  },
  {
   "cell_type": "code",
   "execution_count": null,
   "id": "28868572",
   "metadata": {},
   "outputs": [],
   "source": [
    "# summed data\n",
    "data_path = Path.home()/'group'/'project'/'datasets'/'data'/'bf'\n",
    "data_list = list(data_path.iterdir())\n",
    "for i in data_list: print(i)\n",
    "\n",
    "data = data_list[1]\n",
    "data = np.load(data)"
   ]
  },
  {
   "cell_type": "code",
   "execution_count": null,
   "id": "2fbe7f9b",
   "metadata": {},
   "outputs": [],
   "source": [
    "signal = data[5690, :]\n",
    "\n",
    "var = 1.38e-23 * 10 * 50 * 200e6 * 60 * np.sqrt(60)\n",
    "noise = np.random.multivariate_normal(np.zeros(2), np.eye(2) * var / 2, 8192)\n",
    "noise = noise[:, 0] + 1j * noise[:, 1]\n",
    "\n"
   ]
  },
  {
   "cell_type": "code",
   "execution_count": null,
   "id": "cfb7929e",
   "metadata": {},
   "outputs": [],
   "source": [
    "noisy_spec = abs(np.fft.fft(signal + noise) / 8192) ** 2\n",
    "\n",
    "plt.plot(noisy_spec)\n",
    "print(var / 8192, np.mean(noisy_spec), 10 * np.log10(np.max(noisy_spec) / np.mean(noisy_spec)))"
   ]
  },
  {
   "cell_type": "code",
   "execution_count": null,
   "id": "bf941660",
   "metadata": {},
   "outputs": [],
   "source": [
    "x = np.linspace(0,10e-12, 201)\n",
    "\n",
    "pdf = scipy.stats.genextreme.pdf(x, -0.5, loc=3e-12, scale = 1e-12)"
   ]
  },
  {
   "cell_type": "code",
   "execution_count": null,
   "id": "4a1f3033",
   "metadata": {},
   "outputs": [],
   "source": [
    "plt.plot(x, pdf)"
   ]
  },
  {
   "cell_type": "code",
   "execution_count": null,
   "id": "1acc3860",
   "metadata": {},
   "outputs": [],
   "source": [
    "n_samples = 5000\n",
    "max_value = np.zeros(n_samples)\n",
    "for i in range(n_samples):\n",
    "    noise = np.random.multivariate_normal(np.zeros(2), np.eye(2) * var / 2, 8192)\n",
    "    noise = noise[:, 0] + 1j * noise[:, 1]\n",
    "    \n",
    "    noisy_spec = abs(np.fft.fft(signal + noise) / 8192) ** 2\n",
    "    \n",
    "    max_value[i] = noisy_spec.max()\n",
    "    \n",
    "    "
   ]
  },
  {
   "cell_type": "code",
   "execution_count": null,
   "id": "0f975c18",
   "metadata": {},
   "outputs": [],
   "source": [
    "sns.set_theme()\n",
    "fig = plt.figure(figsize=(13, 8))\n",
    "\n",
    "ax = fig.add_subplot(1,1,1)\n",
    "hist = ax.hist(max_value, 50, density=True)\n",
    "\n",
    "x = np.linspace(0,4e-12, 201)\n",
    "pdf = scipy.stats.rice.pdf(x, 7.8e-13, loc=7.8e-13 / 2, scale = 7.8e-13 / 2)\n",
    "\n",
    "print(np.max(abs(np.fft.fft(signal ) / 8192) ** 2))\n",
    "\n",
    "ax.plot(x, pdf)"
   ]
  },
  {
   "cell_type": "code",
   "execution_count": null,
   "id": "b9cb9cdb",
   "metadata": {},
   "outputs": [],
   "source": [
    "n_samples = 5000\n",
    "max_value_noise = np.zeros(n_samples)\n",
    "for i in range(n_samples):\n",
    "    noise = np.random.multivariate_normal(np.zeros(2), np.eye(2) * var / 2, 8192)\n",
    "    noise = noise[:, 0] + 1j * noise[:, 1]\n",
    "    \n",
    "    noisy_spec = abs(np.fft.fft(signal + noise) / 8192) ** 2\n",
    "    \n",
    "    max_value_noise[i] = noisy_spec.max()\n",
    "    \n",
    "    "
   ]
  },
  {
   "cell_type": "code",
   "execution_count": null,
   "id": "3fa0c41e",
   "metadata": {},
   "outputs": [],
   "source": [
    "sns.set_theme()\n",
    "fig = plt.figure(figsize=(13, 8))\n",
    "\n",
    "ax = fig.add_subplot(1,1,1)\n",
    "hist = ax.hist(max_value_noise, 50, density=True)\n",
    "\n",
    "x = np.linspace(0,4e-12, 201)\n",
    "pdf = scipy.stats.rayleigh.pdf(x, loc=1e-12/1.8, scale=1.06e-12/2.5)\n",
    "\n",
    "#print(np.max(abs(np.fft.fft(signal ) / 8192) ** 2))\n",
    "print(np.mean(max_value_noise))\n",
    "ax.plot(x, pdf)"
   ]
  },
  {
   "cell_type": "code",
   "execution_count": null,
   "id": "0cd89cd5",
   "metadata": {},
   "outputs": [],
   "source": [
    "data_fft = np.fft.fft(data, axis=-1) / data.shape[-1]"
   ]
  },
  {
   "cell_type": "code",
   "execution_count": null,
   "id": "7cd1c5e7",
   "metadata": {},
   "outputs": [],
   "source": [
    "var_fft = 1.38e-23 * 10 * 50 * 200e6 * 60 / 8192"
   ]
  },
  {
   "cell_type": "code",
   "execution_count": null,
   "id": "2483d755",
   "metadata": {},
   "outputs": [],
   "source": [
    "n_samples = 10\n",
    "max_value_noise = np.zeros((n_samples, data_fft.shape[0]))\n",
    "for i in range(n_samples):\n",
    "    noise = np.random.multivariate_normal(np.zeros(2), np.eye(2) * var_fft / 2, data_fft.size)\n",
    "    noise = (noise[:, 0] + 1j * noise[:, 1]).reshape(data_fft.shape)\n",
    "    \n",
    "    noisy_spec = abs(data_fft + noise) ** 2\n",
    "    \n",
    "    max_value_noise[i, :] = noisy_spec.max(axis = -1)\n",
    "    \n",
    "    \n",
    "    print(i + 1)"
   ]
  },
  {
   "cell_type": "markdown",
   "id": "9e22225d",
   "metadata": {},
   "source": [
    "# down-select data"
   ]
  },
  {
   "cell_type": "code",
   "execution_count": null,
   "id": "1ec84b7c",
   "metadata": {},
   "outputs": [],
   "source": [
    "h5file = h5py.File(os.path.join(DATAPATH, '211116_grad_b_est.h5'), 'r')\n",
    "data = mf.data.MFDataset(os.path.join(DATAPATH, '211116_grad_b_est.h5'))\n",
    "metadata = pd.DataFrame(data.metadata)"
   ]
  },
  {
   "cell_type": "code",
   "execution_count": null,
   "id": "5fc4286e",
   "metadata": {},
   "outputs": [],
   "source": [
    "radial_positions = np.unique(metadata['x_min'][:])\n",
    "pitch_angles = np.unique(metadata['theta_min'][:])\n",
    "\n",
    "print(radial_positions[0:51], pitch_angles[20:101])"
   ]
  },
  {
   "cell_type": "code",
   "execution_count": null,
   "id": "ef560ef5",
   "metadata": {},
   "outputs": [],
   "source": [
    "radial_positions = np.unique(metadata['x_min'][:])\n",
    "pitch_angles = np.unique(metadata['theta_min'][:])\n",
    "\n",
    "radial_positions = radial_positions[np.arange(10, 41, 2)]\n",
    "pitch_angles = pitch_angles[np.arange(20, 101, 2)]\n",
    "\n",
    "\n",
    "#print(radial_positions[np.arange(0, 51, 3)], radial_positions[np.arange(0, 51, 3)].size)\n",
    "#print(pitch_angles[np.arange(0, 121, 3)], pitch_angles[np.arange(0, 121, 3)].size)\n",
    "rad_grid, angle_grid = np.meshgrid(radial_positions, pitch_angles)\n",
    "    \n",
    "sorted_signals = np.zeros((rad_grid.size, data_fft.shape[-1]), dtype=np.complex64)\n",
    "\n",
    "for i, pair in enumerate(zip(rad_grid.flatten(), angle_grid.flatten())):\n",
    "    #print(np.argwhere(h5file['meta']['x_min'][:].array == pair[0]))\n",
    "    #print(np.argwhere(h5file['meta']['theta_min'][:] == pair[1]))\n",
    "    try:\n",
    "        index = np.argwhere(np.logical_and(h5file['meta']['x_min'][:] == pair[0], h5file['meta']['theta_min'][:] == pair[1])).squeeze()\n",
    "        #print(index)\n",
    "        sorted_signals[i, :] = data_fft[index, :]\n",
    "    except BaseException as err:\n",
    "        #print(err)\n",
    "        pass\n",
    "    \n",
    "print(sorted_signals.shape)"
   ]
  },
  {
   "cell_type": "code",
   "execution_count": null,
   "id": "fabcfbdd",
   "metadata": {},
   "outputs": [],
   "source": [
    "n_samples = 1000\n",
    "max_value_noise = np.zeros((n_samples, sorted_signals.shape[0]))\n",
    "for i in range(n_samples):\n",
    "    noise = np.random.multivariate_normal(np.zeros(2), np.eye(2) * var_fft / 2, sorted_signals.size)\n",
    "    noise = (noise[:, 0] + 1j * noise[:, 1]).reshape(sorted_signals.shape)\n",
    "    \n",
    "    noisy_spec = abs(sorted_signals + noise) ** 2\n",
    "    \n",
    "    max_value_noise[i, :] = noisy_spec.max(axis = -1)\n",
    "    \n",
    "    \n",
    "    print(i + 1)"
   ]
  },
  {
   "cell_type": "code",
   "execution_count": null,
   "id": "d43c405f",
   "metadata": {},
   "outputs": [],
   "source": [
    "max_value_noise.shape"
   ]
  },
  {
   "cell_type": "code",
   "execution_count": null,
   "id": "f30d9678",
   "metadata": {},
   "outputs": [],
   "source": [
    "hist = np.histogram(max_value_noise[:, 100], bins=50, density=True)"
   ]
  },
  {
   "cell_type": "code",
   "execution_count": null,
   "id": "55890a13",
   "metadata": {},
   "outputs": [],
   "source": [
    "plt.plot(hist[1][1:], hist[0],)"
   ]
  },
  {
   "cell_type": "code",
   "execution_count": null,
   "id": "5e3607f5",
   "metadata": {},
   "outputs": [],
   "source": [
    "var_fft = 1.38e-23 * 10 * 50 * 200e6 * 60 / 8192\n",
    "\n",
    "n_samples = 1000000\n",
    "max_value_noise_only = np.zeros((n_samples))\n",
    "for i in range(n_samples):\n",
    "    noise = np.random.multivariate_normal(np.zeros(2), np.eye(2) * var_fft / 2, 8192)\n",
    "    noise = (noise[:, 0] + 1j * noise[:, 1])\n",
    "    \n",
    "    noisy_spec = abs(noise) ** 2\n",
    "    #print(noisy_spec.shape)\n",
    "    \n",
    "    max_value_noise_only[i] = noisy_spec.max()\n",
    "    \n",
    "    \n",
    "#print(i + 1)"
   ]
  },
  {
   "cell_type": "code",
   "execution_count": null,
   "id": "e0874d40",
   "metadata": {},
   "outputs": [],
   "source": [
    "np.save(Path.home()/'group'/'project'/'results'/'beamforming'/'pdf'/'220304_10K_noise_only_Vsquared_power_spectra_max.npy', max_value_noise_only)"
   ]
  },
  {
   "cell_type": "code",
   "execution_count": null,
   "id": "4a93d7ce",
   "metadata": {},
   "outputs": [],
   "source": []
  },
  {
   "cell_type": "code",
   "execution_count": null,
   "id": "fc74dcd6",
   "metadata": {},
   "outputs": [],
   "source": [
    "#hist = np.histogram(max_value_noise[:, 6], bins=np.linspace(0, 6e-12, 128), density=True)\n",
    "#plt.plot(hist[1][1:], hist[0],)\n",
    "hist = np.histogram(max_value_noise_only, bins=np.linspace(0, 0.2e-12, 128), density=True)\n",
    "plt.plot(hist[1][1:], hist[0],)"
   ]
  },
  {
   "cell_type": "markdown",
   "id": "76a50c72",
   "metadata": {},
   "source": [
    "# estimate pdf"
   ]
  },
  {
   "cell_type": "code",
   "execution_count": null,
   "id": "a47bd3c3",
   "metadata": {},
   "outputs": [],
   "source": [
    "pdf_estimates = np.zeros((max_value_noise.shape[-1], 2, 1024-1))\n",
    "\n",
    "for i in range(max_value_noise.shape[-1]):\n",
    "    \n",
    "    hist = np.histogram(max_value_noise[:, i], bins=np.linspace(0, 6e-12, 1024), density=True)\n",
    "    \n",
    "    pdf_estimates[i, 0, :] = hist[0]\n",
    "    pdf_estimates[i, 1, :] = hist[1][1:]"
   ]
  },
  {
   "cell_type": "markdown",
   "id": "6ad4540a",
   "metadata": {},
   "source": [
    "# estimate cdf"
   ]
  },
  {
   "cell_type": "code",
   "execution_count": null,
   "id": "7a38971c",
   "metadata": {},
   "outputs": [],
   "source": [
    "plt.plot(pdf_estimates[0,1,:], pdf_estimates[0,0,:])\n",
    "\n",
    "print(integrate.simpson(pdf_estimates[0,0,:], x=pdf_estimates[0, 1, :]))"
   ]
  },
  {
   "cell_type": "code",
   "execution_count": null,
   "id": "8397cb6e",
   "metadata": {},
   "outputs": [],
   "source": [
    "cdf_estimates = np.zeros((pdf_estimates.shape))\n",
    "for n in range(pdf_estimates.shape[-1]):\n",
    "    cdf_estimates[:, 0, n] = integrate.trapezoid(pdf_estimates[:,0,0:(n + 1)], x=pdf_estimates[:, 1, 0:(n+1)], axis=-1)\n",
    "cdf_estimates[:, 1, :] = pdf_estimates[:, 1, :]"
   ]
  },
  {
   "cell_type": "code",
   "execution_count": null,
   "id": "33bc1a64",
   "metadata": {},
   "outputs": [],
   "source": [
    "plt.plot(cdf_estimates[600,1,:], 1-cdf_estimates[600, 0, :])"
   ]
  },
  {
   "cell_type": "markdown",
   "id": "ffcae55c",
   "metadata": {},
   "source": [
    "# estimate noise only cdf"
   ]
  },
  {
   "cell_type": "code",
   "execution_count": null,
   "id": "6b28e77b",
   "metadata": {},
   "outputs": [],
   "source": [
    "pdf_noise = np.zeros((2, 1024-1))\n",
    "cdf_noise = np.zeros(pdf_noise.shape)\n",
    "\n",
    "hist = np.histogram(max_value_noise_only, bins=np.linspace(0, 6e-12, 1024), density=True)\n",
    "    \n",
    "pdf_noise[0, :] = hist[0]\n",
    "pdf_noise[1, :] = hist[1][1:]\n",
    "\n",
    "for n in range(pdf_noise.shape[-1]):\n",
    "    cdf_noise[0, n] = integrate.trapezoid(pdf_noise[0, 0:n+1], x=pdf_noise[1, 0:n+1],)\n",
    "cdf_noise[1, :] = pdf_noise[1, :]\n",
    "\n",
    "plt.plot(cdf_estimates[60,1,:], 1-cdf_estimates[60, 0, :])\n",
    "plt.plot(cdf_noise[1, :], 1-cdf_noise[0, :])\n"
   ]
  },
  {
   "cell_type": "code",
   "execution_count": null,
   "id": "1063895a",
   "metadata": {},
   "outputs": [],
   "source": [
    "plt.plot(1-cdf_noise[0, :], 1-cdf_estimates[500, 0, :])\n",
    "\n",
    "plt.plot(np.linspace(0, 1, 10), np.linspace(0, 1, 10), color='grey', linestyle='--')"
   ]
  },
  {
   "cell_type": "code",
   "execution_count": null,
   "id": "25270d31",
   "metadata": {},
   "outputs": [],
   "source": [
    "plt.plot(1-cdf_noise[0, :], 1-np.mean(cdf_estimates[:, 0, :], axis=0), '-')\n",
    "\n",
    "plt.plot(np.linspace(0, 1, 401), np.linspace(0, 1, 401), color='grey', linestyle='--')\n",
    "\n",
    "plt.xscale('log')\n",
    "plt.xlim(1e-8, 1)"
   ]
  },
  {
   "cell_type": "markdown",
   "id": "55ad3160",
   "metadata": {},
   "source": [
    "# save the roc curve data"
   ]
  },
  {
   "cell_type": "code",
   "execution_count": null,
   "id": "19e36967",
   "metadata": {},
   "outputs": [],
   "source": [
    "save_path = Path.home()/'group'/'project'/'results'/'beamforming'/'roc_curve'/'220223_time_dep_beamforming_roc_curve_estimate_restricted_params.npz'\n",
    "np.savez(save_path, fpr=1-cdf_noise[0, :], tpr=1-np.mean(cdf_estimates[:, 0, :], axis=0))"
   ]
  },
  {
   "cell_type": "code",
   "execution_count": null,
   "id": "9dc591d4",
   "metadata": {},
   "outputs": [],
   "source": []
  }
 ],
 "metadata": {
  "kernelspec": {
   "display_name": "Python 3",
   "language": "python",
   "name": "python3"
  },
  "language_info": {
   "codemirror_mode": {
    "name": "ipython",
    "version": 3
   },
   "file_extension": ".py",
   "mimetype": "text/x-python",
   "name": "python",
   "nbconvert_exporter": "python",
   "pygments_lexer": "ipython3",
   "version": "3.8.10"
  }
 },
 "nbformat": 4,
 "nbformat_minor": 5
}
