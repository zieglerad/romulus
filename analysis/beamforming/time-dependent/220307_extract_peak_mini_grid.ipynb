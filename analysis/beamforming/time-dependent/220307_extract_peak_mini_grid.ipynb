{
 "cells": [
  {
   "cell_type": "code",
   "execution_count": null,
   "id": "0101aa5e",
   "metadata": {},
   "outputs": [],
   "source": [
    "import numpy as np\n",
    "import seaborn as sns\n",
    "import matplotlib.pyplot as plt\n",
    "from pathlib import Path\n",
    "import h5py\n",
    "\n",
    "result_path = Path.home()/'group'/'project'/'results'/'beamforming'\\\n",
    "/'time_dependent'/'beamforming_grids'/'220421_dl_grid_84to90_1to45mm'"
   ]
  },
  {
   "cell_type": "code",
   "execution_count": null,
   "id": "11fe4daa",
   "metadata": {},
   "outputs": [],
   "source": [
    "for i, key in enumerate(np.load(result_path/f'220416_dl_grid_84to90_gradb_sum_rad1mm_0.npz')):\n",
    "    print(key)"
   ]
  },
  {
   "cell_type": "code",
   "execution_count": null,
   "id": "68fc4313",
   "metadata": {},
   "outputs": [],
   "source": [
    "x = np.load(result_path/f'220416_dl_grid_84to90_gradb_sum_rad1mm_0.npz')\n",
    "\n",
    "print(x['signals'].shape)\n",
    "print(x['radius'])\n",
    "print(x['pitch'])\n",
    "print(x['energy'])\n",
    "print(x['freq'])"
   ]
  },
  {
   "cell_type": "code",
   "execution_count": null,
   "id": "e920cd52",
   "metadata": {},
   "outputs": [],
   "source": [
    "index = 0\n",
    "\n",
    "grid = abs(x['signals'][index, :, :]).sum(-1).reshape((7,7))\n",
    "\n",
    "plt.imshow(grid)"
   ]
  },
  {
   "cell_type": "code",
   "execution_count": null,
   "id": "f92b1dc8",
   "metadata": {},
   "outputs": [],
   "source": [
    "save_name = '220505_dl_grid_84to90deg_1to45mm.h5'\n",
    "result_save_path = Path.home()/'group'/'project'/'results'/'beamforming'\\\n",
    "/'time_dependent'/'beamform_signals'\n",
    "\n",
    "#combined_signals = np.zeros((33450, 8192), np.complex128)\n",
    "combined_signals = []\n",
    "combined_radius = []\n",
    "combined_pitch = []\n",
    "combined_energy = []\n",
    "combined_freq = []\n",
    "counter = 0\n",
    "\n",
    "result_list = list(result_path.iterdir())\n",
    "\n",
    "number_of_signals = 0\n",
    "for i, item in enumerate(result_list):\n",
    "    file_name = item.name\n",
    "    chunk = np.load(result_path/item)\n",
    "    shape = chunk['signals'].shape\n",
    "    \n",
    "    number_of_signals += shape[0]\n",
    "    signal_length = shape[-1]\n",
    "    \n",
    "    if i % 10 == 9:\n",
    "        print(f'{i + 1} / {len(result_list)}')\n",
    "    \n",
    "print(number_of_signals)\n",
    "\n",
    "combined_shape = (number_of_signals, signal_length)\n",
    "\n",
    "metakeys = ['radius', 'pitch', 'energy', 'grad-b-freq']\n",
    "file = h5py.File(result_save_path/save_name, 'w')\n",
    "file.create_dataset('x', combined_shape, dtype='c16')\n",
    "for key in metakeys:\n",
    "    file.create_dataset(key, (combined_shape[0],), dtype='f8' )\n",
    "\n",
    "for i, item in enumerate(result_list):\n",
    "\n",
    "    file_name = item.name\n",
    "    chunk = np.load(result_path/item)\n",
    "    \n",
    "    signals = chunk['signals']\n",
    "    radius = chunk['radius']\n",
    "    pitch = chunk['pitch']\n",
    "    energy = chunk['energy']\n",
    "    freq = chunk['freq']\n",
    "\n",
    "    signals_max = np.argmax(np.sum(abs(signals) ** 2, axis=-1), axis=-1).squeeze()\n",
    "\n",
    "    for n in range(signals_max.size):\n",
    "        file['x'][counter] = signals[n, signals_max[n], :]\n",
    "        \n",
    "        file['radius'][counter] = radius\n",
    "        file['pitch'][counter] = pitch[n]\n",
    "        file['energy'][counter] = energy[n]\n",
    "        file['grad-b-freq'][counter] = freq[n]\n",
    "        #combined_signals.append(signals[n, signals_max[n], :])\n",
    "        #combined_radius.append(radius)\n",
    "        #combined_pitch.append(pitch[n])\n",
    "        #combined_energy.append(energy[n])\n",
    "        #combined_freq.append(freq[n])\n",
    "        counter += 1\n",
    "        \n",
    "    if counter % 100 == 99:\n",
    "        print(counter + 1)\n",
    "file.close()"
   ]
  },
  {
   "cell_type": "code",
   "execution_count": null,
   "id": "78f292e7",
   "metadata": {},
   "outputs": [],
   "source": [
    "file.close()"
   ]
  },
  {
   "cell_type": "code",
   "execution_count": null,
   "id": "781d881f",
   "metadata": {},
   "outputs": [],
   "source": [
    "file.keys()"
   ]
  },
  {
   "cell_type": "code",
   "execution_count": null,
   "id": "58403c4a",
   "metadata": {},
   "outputs": [],
   "source": [
    "print(np.unique(file['pitch'][:]))\n",
    "print(np.unique(file['energy'][:]))\n",
    "print(np.unique(file['radius']))"
   ]
  },
  {
   "cell_type": "code",
   "execution_count": null,
   "id": "e956a6d3",
   "metadata": {},
   "outputs": [],
   "source": [
    "fig = plt.figure(figsize=(13, 8))\n",
    "ax = fig.add_subplot(1,1,1)\n",
    "\n",
    "ax.plot(np.fft.fft(combined_signals[0]).real)"
   ]
  },
  {
   "cell_type": "markdown",
   "id": "29b19bee",
   "metadata": {},
   "source": [
    "# save summed signal and rad, pitch info"
   ]
  },
  {
   "cell_type": "code",
   "execution_count": null,
   "id": "bd6a273e",
   "metadata": {},
   "outputs": [],
   "source": [
    "name = '220322_dl_grid_87deg_100eV_2cm_2mm_range'\n",
    "result_path = Path.home()/'group'/'project'/'results'/'beamforming'\\\n",
    "/'time_dependent'/'beamform_signals'\n",
    "\n",
    "combined_signals = np.array(combined_signals)\n",
    "\n",
    "np.save(\n",
    "    result_path/name,\n",
    "    combined_signals\n",
    "    #radius=combined_radius,\n",
    "    #pitch=combined_pitch\n",
    ")"
   ]
  },
  {
   "cell_type": "code",
   "execution_count": null,
   "id": "ae7daf52",
   "metadata": {},
   "outputs": [],
   "source": [
    "grid_shape = (51, 11)"
   ]
  },
  {
   "cell_type": "code",
   "execution_count": null,
   "id": "574a5695",
   "metadata": {},
   "outputs": [],
   "source": [
    "plt.imshow(np.mean(abs(array[0, :, :]) ** 2, axis=-1).reshape(grid_shape), aspect='auto')"
   ]
  },
  {
   "cell_type": "markdown",
   "id": "a8b32fc1",
   "metadata": {},
   "source": [
    "# plot maps"
   ]
  },
  {
   "cell_type": "code",
   "execution_count": null,
   "id": "6394fc14",
   "metadata": {},
   "outputs": [],
   "source": [
    "print(signals.shape)"
   ]
  },
  {
   "cell_type": "code",
   "execution_count": null,
   "id": "92c6f542",
   "metadata": {},
   "outputs": [],
   "source": [
    "chunk_name = f'220310_dl_87deg_100ev_3cm_gradb_sum_rad24mm_0.npz'\n",
    "chunk = np.load(result_path/chunk_name)\n",
    "signals = chunk['signals']\n",
    "#radius = chunk['radius']\n",
    "#pitch = chunk['pitch']\n",
    "\n",
    "fig = plt.figure(figsize=(4, 4))\n",
    "ax = fig.add_subplot(1,1,1)\n",
    "img = ax.imshow(np.mean(abs(signals[50, :, :]) ** 2, axis=-1).reshape((7, 7)), aspect='auto')\n",
    "fig.colorbar(img)\n",
    "plt.show()\n",
    "plt.close()\n"
   ]
  },
  {
   "cell_type": "code",
   "execution_count": null,
   "id": "4bc43b48",
   "metadata": {},
   "outputs": [],
   "source": [
    "freq_path = Path.home()/'group'/'project'/'results'/'mayfly'/'211129_grad_b_frequency_grid_radius_angle.npz'"
   ]
  },
  {
   "cell_type": "code",
   "execution_count": null,
   "id": "d1cbb1c7",
   "metadata": {},
   "outputs": [],
   "source": [
    "frequencies, radii, pitch = np.load(freq_path)['freq'].flatten(), np.load(freq_path)['radii'].flatten(), np.load(freq_path)['angles'].flatten()"
   ]
  },
  {
   "cell_type": "code",
   "execution_count": null,
   "id": "8aa82dd7",
   "metadata": {},
   "outputs": [],
   "source": [
    "radii, pitch = np.meshgrid(radii, pitch)\n",
    "radii, pitch = radii.flatten(), pitch.flatten()"
   ]
  },
  {
   "cell_type": "code",
   "execution_count": null,
   "id": "0fdd5944",
   "metadata": {},
   "outputs": [],
   "source": [
    "print(radii[0:50], pitch[0:50])"
   ]
  },
  {
   "cell_type": "code",
   "execution_count": null,
   "id": "12163247",
   "metadata": {},
   "outputs": [],
   "source": []
  }
 ],
 "metadata": {
  "kernelspec": {
   "display_name": "Python 3",
   "language": "python",
   "name": "python3"
  },
  "language_info": {
   "codemirror_mode": {
    "name": "ipython",
    "version": 3
   },
   "file_extension": ".py",
   "mimetype": "text/x-python",
   "name": "python",
   "nbconvert_exporter": "python",
   "pygments_lexer": "ipython3",
   "version": "3.8.10"
  }
 },
 "nbformat": 4,
 "nbformat_minor": 5
}
