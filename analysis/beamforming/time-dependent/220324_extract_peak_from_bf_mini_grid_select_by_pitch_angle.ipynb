{
 "cells": [
  {
   "cell_type": "code",
   "execution_count": null,
   "id": "0101aa5e",
   "metadata": {},
   "outputs": [],
   "source": [
    "import numpy as np\n",
    "import seaborn as sns\n",
    "import matplotlib.pyplot as plt\n",
    "from pathlib import Path\n",
    "\n",
    "result_path = Path.home()/'group'/'project'/'results'/'beamforming'\\\n",
    "/'time_dependent'/'beamforming_grids'/'deep_learning'\n",
    "\n",
    "pitch_meta_path = Path.home()/'group'/'project'/'results'/'beamforming'\\\n",
    "/'time_dependent'/'metadata'/'deep_learning'"
   ]
  },
  {
   "cell_type": "code",
   "execution_count": null,
   "id": "11fe4daa",
   "metadata": {},
   "outputs": [],
   "source": [
    "for i, key in enumerate(np.load(result_path/f'220310_dl_87deg_100ev_3cm_gradb_sum_rad10mm_0.npz')):\n",
    "    print(key)"
   ]
  },
  {
   "cell_type": "code",
   "execution_count": null,
   "id": "f92b1dc8",
   "metadata": {},
   "outputs": [],
   "source": [
    "\n",
    "#combined_signals = np.zeros((33450, 8192), np.complex128)\n",
    "combined_signals = []\n",
    "combined_radius = []\n",
    "combined_pitch = []\n",
    "combined_energy = []\n",
    "counter = 0\n",
    "\n",
    "#for i in range(len(np.arange(0, 51, 1))):\n",
    "for i, item in enumerate(result_path.iterdir()):\n",
    "\n",
    "    file_name = item.name\n",
    "    if file_name.split('rad')[-1].split('mm')[0] in ['20', '22']:\n",
    "        print(file_name)\n",
    "        radius = file_name.split('rad')[-1].split('mm')[0]\n",
    "        index = file_name.split('.npz')[0].split('_')[-1]\n",
    "        pitch_angle_name = f'220324_dl_87deg_100ev_3cm_gradb_sum_'\\\n",
    "        + f'rad{radius}mm_pitch_angles{index}.npy'\n",
    "        energy_name = f'220324_dl_87deg_100ev_3cm_gradb_sum_'\\\n",
    "        + f'rad{radius}mm_energy{index}.npy'\n",
    "        \n",
    "        \n",
    "        chunk = np.load(result_path/item)\n",
    "        #print(chunk['signals'].shape)\n",
    "        signals = chunk['signals']\n",
    "        #radius = chunk['radius']\n",
    "        pitch = np.load(pitch_meta_path/pitch_angle_name)\n",
    "        energy = np.load(pitch_meta_path/energy_name)\n",
    "        \n",
    "        signals_max = np.argmax(np.sum(abs(signals) ** 2, axis=-1), axis=-1).squeeze()\n",
    "\n",
    "        for n in range(signals_max.size):\n",
    "            #print(chunk_max.shape)\n",
    "            #print(chunk[n, chunk_max[n], :].shape)\n",
    "            combined_signals.append(signals[n, signals_max[n], :])\n",
    "            #combined_radius.append(radius[n])\n",
    "            combined_pitch.append(pitch[n])\n",
    "            combined_energy.append(energy[n])\n",
    "            counter += 1\n",
    "    else:\n",
    "        continue\n",
    "        \n",
    "    #print(chunk_name)\n",
    "    if counter % 5000 == 4999:\n",
    "        print(counter + 1)\n",
    "print(counter)\n"
   ]
  },
  {
   "cell_type": "code",
   "execution_count": null,
   "id": "cb9b589b",
   "metadata": {},
   "outputs": [],
   "source": [
    "print(np.unique(combined_pitch))\n",
    "print(np.unique(combined_energy))"
   ]
  },
  {
   "cell_type": "code",
   "execution_count": null,
   "id": "6b00500d",
   "metadata": {},
   "outputs": [],
   "source": [
    "delta_pitch = 0.004\n",
    "center_pitch = 87.05\n",
    "\n",
    "delta_energy = 50\n",
    "center_energy = 18550\n",
    "\n",
    "#select_pitch = np.linspace(center_pitch-delta_pitch, center_pitch+delta_pitch, 5)\n",
    "#select_energy = np.linspace(center_energy-delta_energy, center_energy+delta_energy, 5)\n",
    "select_pitch = np.unique(combined_pitch)\n",
    "select_energy = np.unique(combined_energy)\n",
    "print(select_pitch, select_energy)"
   ]
  },
  {
   "cell_type": "code",
   "execution_count": null,
   "id": "9cd785c1",
   "metadata": {},
   "outputs": [],
   "source": [
    "pitch_grid, energy_grid = np.meshgrid(select_pitch, select_energy)\n",
    "combined_signals = np.array(combined_signals)\n",
    "\n",
    "select_signals = []\n",
    "for i, pair in enumerate(zip(pitch_grid.flatten(), energy_grid.flatten())):\n",
    "    temp = combined_signals[\n",
    "        np.argwhere(\n",
    "            np.logical_and(\n",
    "                np.array(combined_energy) == np.round(pair[1], 5),\n",
    "                np.array(combined_pitch) == np.round(pair[0], 5)\n",
    "            )\n",
    "        ).squeeze()\n",
    "    ]\n",
    "    #print(temp.shape)\n",
    "    if temp.ndim < 2:\n",
    "        temp = temp.reshape((1, temp.size))\n",
    "    select_signals.extend(temp)\n",
    "select_signals = np.array(select_signals)\n",
    "print(select_signals.shape)"
   ]
  },
  {
   "cell_type": "code",
   "execution_count": null,
   "id": "dacebd38",
   "metadata": {},
   "outputs": [],
   "source": [
    "combined_signals = np.array(combined_signals)\n",
    "select_signals = []\n",
    "for energy in select_energy:\n",
    "    temp = combined_signals[\n",
    "        np.argwhere(np.array(combined_energy) == np.round(energy, 5)).squeeze()\n",
    "    ]\n",
    "    \n",
    "    select_signals.extend(temp)\n",
    "select_signals = np.array(select_signals)\n",
    "print(select_signals.shape)"
   ]
  },
  {
   "cell_type": "code",
   "execution_count": null,
   "id": "e980582e",
   "metadata": {},
   "outputs": [],
   "source": [
    "combined_signals = np.array(combined_signals)\n",
    "select_signals = []\n",
    "for pitch in select_pitch:\n",
    "    temp = combined_signals[\n",
    "        np.argwhere(np.array(combined_pitch) == np.round(pitch, 5)).squeeze()\n",
    "    ]\n",
    "    \n",
    "    select_signals.extend(temp)\n",
    "select_signals = np.array(select_signals)\n",
    "print(select_signals.shape)"
   ]
  },
  {
   "cell_type": "markdown",
   "id": "29b19bee",
   "metadata": {},
   "source": [
    "# save summed signal and rad, pitch info"
   ]
  },
  {
   "cell_type": "code",
   "execution_count": null,
   "id": "bd6a273e",
   "metadata": {},
   "outputs": [],
   "source": [
    "name = '220326_dl_grid_87.0deg_100sec_range_18550eV_100eV_range_10to12mm_range'\n",
    "result_path = Path.home()/'group'/'project'/'results'/'beamforming'\\\n",
    "/'time_dependent'/'beamform_signals'\n",
    "\n",
    "combined_signals = np.array(combined_signals)\n",
    "\n",
    "np.save(\n",
    "    result_path/name,\n",
    "    select_signals\n",
    "    #combined_signals\n",
    "    #radius=combined_radius,\n",
    "    #pitch=combined_pitch\n",
    ")"
   ]
  },
  {
   "cell_type": "code",
   "execution_count": null,
   "id": "ae7daf52",
   "metadata": {},
   "outputs": [],
   "source": [
    "grid_shape = (51, 11)"
   ]
  },
  {
   "cell_type": "code",
   "execution_count": null,
   "id": "574a5695",
   "metadata": {},
   "outputs": [],
   "source": [
    "plt.imshow(np.mean(abs(array[0, :, :]) ** 2, axis=-1).reshape(grid_shape), aspect='auto')"
   ]
  },
  {
   "cell_type": "markdown",
   "id": "a8b32fc1",
   "metadata": {},
   "source": [
    "# plot maps"
   ]
  },
  {
   "cell_type": "code",
   "execution_count": null,
   "id": "6394fc14",
   "metadata": {},
   "outputs": [],
   "source": [
    "print(signals.shape)"
   ]
  },
  {
   "cell_type": "code",
   "execution_count": null,
   "id": "92c6f542",
   "metadata": {},
   "outputs": [],
   "source": [
    "chunk_name = f'220310_dl_87deg_100ev_3cm_gradb_sum_rad24mm_0.npz'\n",
    "chunk = np.load(result_path/chunk_name)\n",
    "signals = chunk['signals']\n",
    "#radius = chunk['radius']\n",
    "#pitch = chunk['pitch']\n",
    "\n",
    "fig = plt.figure(figsize=(4, 4))\n",
    "ax = fig.add_subplot(1,1,1)\n",
    "img = ax.imshow(np.mean(abs(signals[50, :, :]) ** 2, axis=-1).reshape((7, 7)), aspect='auto')\n",
    "fig.colorbar(img)\n",
    "plt.show()\n",
    "plt.close()\n"
   ]
  },
  {
   "cell_type": "code",
   "execution_count": null,
   "id": "4bc43b48",
   "metadata": {},
   "outputs": [],
   "source": [
    "freq_path = Path.home()/'group'/'project'/'results'/'mayfly'/'211129_grad_b_frequency_grid_radius_angle.npz'"
   ]
  },
  {
   "cell_type": "code",
   "execution_count": null,
   "id": "d1cbb1c7",
   "metadata": {},
   "outputs": [],
   "source": [
    "frequencies, radii, pitch = np.load(freq_path)['freq'].flatten(), np.load(freq_path)['radii'].flatten(), np.load(freq_path)['angles'].flatten()"
   ]
  },
  {
   "cell_type": "code",
   "execution_count": null,
   "id": "8aa82dd7",
   "metadata": {},
   "outputs": [],
   "source": [
    "radii, pitch = np.meshgrid(radii, pitch)\n",
    "radii, pitch = radii.flatten(), pitch.flatten()"
   ]
  },
  {
   "cell_type": "code",
   "execution_count": null,
   "id": "0fdd5944",
   "metadata": {},
   "outputs": [],
   "source": [
    "print(radii[0:50], pitch[0:50])"
   ]
  },
  {
   "cell_type": "code",
   "execution_count": null,
   "id": "12163247",
   "metadata": {},
   "outputs": [],
   "source": []
  }
 ],
 "metadata": {
  "kernelspec": {
   "display_name": "Python 3",
   "language": "python",
   "name": "python3"
  },
  "language_info": {
   "codemirror_mode": {
    "name": "ipython",
    "version": 3
   },
   "file_extension": ".py",
   "mimetype": "text/x-python",
   "name": "python",
   "nbconvert_exporter": "python",
   "pygments_lexer": "ipython3",
   "version": "3.8.10"
  }
 },
 "nbformat": 4,
 "nbformat_minor": 5
}
