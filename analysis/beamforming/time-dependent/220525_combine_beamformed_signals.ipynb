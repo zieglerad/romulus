{
 "cells": [
  {
   "cell_type": "code",
   "execution_count": null,
   "id": "c7995138",
   "metadata": {},
   "outputs": [],
   "source": [
    "from pathlib import Path\n",
    "import numpy as np\n",
    "import h5py\n",
    "import pandas\n",
    "import glob\n",
    "\n",
    "\n",
    "path2signal = Path.home()/'group'/'project'/'results'/'beamforming'/'time_dependent'/'deep_learning'\n",
    "\n",
    "path2combineddata = Path.home()/'group'/'project'/'results'/'beamforming'/'time_dependent'/'beamform_signals'\n",
    "\n",
    "testname = '220605_dl_grid_85to88_5mm_gradb_sum_0_0.npz'\n",
    "\n",
    "combined_data_name = '220606_dl_grid_85to88_5mm.h5'"
   ]
  },
  {
   "cell_type": "code",
   "execution_count": null,
   "id": "23f22656",
   "metadata": {},
   "outputs": [],
   "source": [
    "test_file = np.load(path2signal/testname)"
   ]
  },
  {
   "cell_type": "code",
   "execution_count": null,
   "id": "e9929608",
   "metadata": {},
   "outputs": [],
   "source": [
    "list(test_file.keys())"
   ]
  },
  {
   "cell_type": "code",
   "execution_count": null,
   "id": "b41d66ac",
   "metadata": {},
   "outputs": [],
   "source": [
    "list_of_summed_signals = sorted(path2signal.glob('220605_dl_grid_*'))"
   ]
  },
  {
   "cell_type": "code",
   "execution_count": null,
   "id": "7c676c6c",
   "metadata": {},
   "outputs": [],
   "source": [
    "print(len(list_of_summed_signals))"
   ]
  },
  {
   "cell_type": "code",
   "execution_count": null,
   "id": "8fd47ee8",
   "metadata": {},
   "outputs": [],
   "source": [
    "total_N_signal = 0\n",
    "signal_length = 0\n",
    "\n",
    "for ipath in list_of_summed_signals:\n",
    "    total_N_signal += np.load(ipath)['signals'].shape[0]\n",
    "    \n",
    "    #print(np.load(ipath)['signals'].shape[0])\n",
    "    signal_length = np.load(ipath)['signals'].shape[1]\n",
    "    \n",
    "print(total_N_signal, signal_length)"
   ]
  },
  {
   "cell_type": "code",
   "execution_count": null,
   "id": "17ac903e",
   "metadata": {},
   "outputs": [],
   "source": [
    "try:\n",
    "    h5file = h5py.File(path2combineddata/combined_data_name, 'w')\n",
    "\n",
    "    h5file.create_dataset('x', (total_N_signal, signal_length), dtype='c16')\n",
    "    h5file.create_dataset('radius', (total_N_signal,), dtype='f8')\n",
    "    h5file.create_dataset('pitch', (total_N_signal,), dtype='f8')\n",
    "    h5file.create_dataset('energy', (total_N_signal,), dtype='f8')\n",
    "    h5file.create_dataset('freq', (total_N_signal,), dtype='f8')\n",
    "\n",
    "    counter = 0\n",
    "    \n",
    "    print(h5file['radius'][10])\n",
    "\n",
    "    for ipath in list_of_summed_signals:\n",
    "\n",
    "        isignals = np.load(ipath)['signals'][:]\n",
    "        #h5file['x'][counter:counter+isignals.shape[0], :] = isignals\n",
    "        for n in range(isignals.shape[0]):\n",
    "            for i, key in enumerate(['signals', 'radius', 'pitch', 'energy', 'freq']):\n",
    "                #print(key)\n",
    "                if i == 0:\n",
    "                    h5file['x'][counter] = np.load(ipath)[key][n]\n",
    "                elif i == 1:\n",
    "                    h5file[key][counter] = np.load(ipath)[key]\n",
    "                else:\n",
    "                    h5file[key][counter] = np.load(ipath)[key][n]\n",
    "            counter += 1\n",
    "        \n",
    "finally:\n",
    "    h5file.close()"
   ]
  },
  {
   "cell_type": "code",
   "execution_count": null,
   "id": "b1064fc1",
   "metadata": {},
   "outputs": [],
   "source": [
    "h5file = h5py.File(path2combineddata/combined_data_name, 'r')\n",
    "\n",
    "num_0 = 0\n",
    "for i in range(h5file['x'].shape[0]):\n",
    "    \n",
    "    if abs(h5file['x'][i, :]).mean() < 5e-8:\n",
    "        num_0 += 1\n",
    "        \n",
    "        \n",
    "    if i % 5000 == 4999:\n",
    "        \n",
    "        print(i+1)\n",
    "    "
   ]
  },
  {
   "cell_type": "code",
   "execution_count": null,
   "id": "80ffcf1e",
   "metadata": {},
   "outputs": [],
   "source": [
    "print(num_0, np.unique(h5file['pitch']), np.unique(h5file['energy']), np.unique(h5file['radius']))"
   ]
  },
  {
   "cell_type": "code",
   "execution_count": null,
   "id": "bebc1068",
   "metadata": {},
   "outputs": [],
   "source": [
    "print(np.unique(h5file['pitch']).size, np.unique(h5file['energy']).size)\n",
    "\n",
    "\n"
   ]
  },
  {
   "cell_type": "code",
   "execution_count": null,
   "id": "6488c2b9",
   "metadata": {},
   "outputs": [],
   "source": []
  }
 ],
 "metadata": {
  "kernelspec": {
   "display_name": "Python 3",
   "language": "python",
   "name": "python3"
  },
  "language_info": {
   "codemirror_mode": {
    "name": "ipython",
    "version": 3
   },
   "file_extension": ".py",
   "mimetype": "text/x-python",
   "name": "python",
   "nbconvert_exporter": "python",
   "pygments_lexer": "ipython3",
   "version": "3.8.10"
  }
 },
 "nbformat": 4,
 "nbformat_minor": 5
}
