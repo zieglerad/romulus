{
 "cells": [
  {
   "cell_type": "code",
   "execution_count": null,
   "id": "1c5ecad4",
   "metadata": {},
   "outputs": [],
   "source": [
    "import numpy as np\n",
    "import math\n",
    "import matplotlib.pyplot as plt\n",
    "from pathlib import Path\n",
    "import seaborn as sns\n",
    "\n",
    "\n",
    "\n",
    "def Spiral(f, time, n):\n",
    "    \n",
    "    c = 2.998e8\n",
    "    theta = 2 * math.pi * f * time\n",
    "    k = 2 * math.pi * f / c\n",
    "    thetas = np.linspace(0, theta, n)\n",
    "    times = np.linspace(0, time, n)\n",
    "    \n",
    "    return (thetas, c * time - thetas / k)\n",
    "\n",
    "def draw_error_band(ax, x, y, err, **kwargs):\n",
    "    # Calculate normals via centered finite differences (except the first point\n",
    "    # which uses a forward difference and the last point which uses a backward\n",
    "    # difference).\n",
    "    dx = np.concatenate([[x[1] - x[0]], x[2:] - x[:-2], [x[-1] - x[-2]]])\n",
    "    dy = np.concatenate([[y[1] - y[0]], y[2:] - y[:-2], [y[-1] - y[-2]]])\n",
    "    l = np.hypot(dx, dy)\n",
    "    nx = dy / l\n",
    "    ny = -dx / l\n",
    "\n",
    "    # end points of errors\n",
    "    xp = x + nx * err\n",
    "    yp = y + ny * err\n",
    "    xn = x - nx * err\n",
    "    yn = y - ny * err\n",
    "\n",
    "    vertices = np.block([[xp, xn[::-1]],\n",
    "                         [yp, yn[::-1]]]).T\n",
    "    codes = np.full(len(vertices), Path.LINETO)\n",
    "    codes[0] = codes[len(xp)] = Path.MOVETO\n",
    "    path = Path(vertices, codes)\n",
    "    ax.add_patch(PathPatch(path, **kwargs))\n",
    "    \n",
    "home = Path.home()\n"
   ]
  },
  {
   "cell_type": "code",
   "execution_count": null,
   "id": "676f9f70",
   "metadata": {},
   "outputs": [],
   "source": [
    "list((home/'group'/'project'/'plots').iterdir())"
   ]
  },
  {
   "cell_type": "code",
   "execution_count": null,
   "id": "4c5f477e",
   "metadata": {},
   "outputs": [],
   "source": [
    "save_path = home/'group'/'project'/'plots'/'beamforming'/'visualization'\n",
    "save_path.mkdir(parents=True, exist_ok=True)\n"
   ]
  },
  {
   "cell_type": "code",
   "execution_count": null,
   "id": "0fde23bd",
   "metadata": {},
   "outputs": [],
   "source": [
    "\n",
    "\n",
    "time = 3e-10\n",
    "c = 2.998e8\n",
    "time_10cm = 0.12 / c\n",
    "f = 26e9\n",
    "wl = c / f\n",
    "N = 4001\n",
    "crest_width = wl / 5\n",
    "\n",
    "spiral = Spiral(f, time_10cm, N)"
   ]
  },
  {
   "cell_type": "code",
   "execution_count": null,
   "id": "1cf4f63e",
   "metadata": {},
   "outputs": [],
   "source": [
    "sns.set_theme(context='talk', style='whitegrid')\n",
    "\n",
    "fig = plt.figure(figsize=(8, 8))\n",
    "\n",
    "\n",
    "ax = fig.add_subplot(1,1,1, projection='polar')\n",
    "\n",
    "ax.plot(spiral[0], 100 * spiral[1])\n",
    "\n",
    "ax.set_xlabel('Circumpolar Angle (deg)')\n",
    "ax.set_ylabel('Radius (cm)', labelpad=28)\n",
    "\n",
    "#draw_error_band(ax, spiral[0], spiral[1], crest_width)"
   ]
  },
  {
   "cell_type": "code",
   "execution_count": null,
   "id": "1cda200f",
   "metadata": {},
   "outputs": [],
   "source": [
    "sns.set_theme(context='talk',style='whitegrid', font_scale=1.2 )\n",
    "fig = plt.figure(figsize=(10, 10))\n",
    "\n",
    "\n",
    "ax = fig.add_subplot(1,1,1, projection='polar')\n",
    "\n",
    "ax.plot(spiral[0], 100 * spiral[1], linewidth=2.5,)\n",
    "\n",
    "#ax.set_xlabel('Circumpolar Angle (deg)')\n",
    "#ax.set_ylabel('Radius (cm)', horizontalalignment='center', y=0.5, rotation=45)\n",
    "ax.set_title('Cyclotron Radiation Maxima Spiral'+'\\n'+r'vs. Azimuthal Angle $(\\phi)$')\n",
    "\n",
    "ax.text(math.pi/11, 11, 'Radius (cm)', rotation = -65)\n",
    "\n",
    "ax.plot(\n",
    "    np.radians(np.arange(0, 360, 6)),\n",
    "    np.ones(60) * 10, linewidth=2,\n",
    "    color='k',\n",
    "    linestyle='none',\n",
    "    marker='o',\n",
    "    fillstyle='none',\n",
    "    label='Antenna Array',\n",
    ")\n",
    "ax.legend(loc=(0.65,0.97))\n",
    "#ax.text(0 * math.pi, 14.5, r'$\\phi$')\n",
    "\n",
    "name = '221012_cyclotron_spiral_polar'\n",
    "\n",
    "plt.savefig(str(save_path/name), dpi=128)"
   ]
  },
  {
   "cell_type": "code",
   "execution_count": null,
   "id": "91a2ddc9",
   "metadata": {},
   "outputs": [],
   "source": [
    "sns.set_theme(context='talk',style='whitegrid', font_scale=1.2 )\n",
    "fig = plt.figure(figsize=(8, 8))\n",
    "\n",
    "ax = fig.add_subplot(1,1,1, projection='polar')\n",
    "\n",
    "ax.plot(-1*np.linspace(0, 2*np.pi, 4001), np.linspace(0, 2*np.pi, 4001))\n",
    "\n",
    "ax.plot(\n",
    "    np.radians(np.arange(0, 360, 6)),\n",
    "    np.ones(60) * 2*np.pi, linewidth=2,\n",
    "    color='k',\n",
    "    linestyle='none',\n",
    "    marker='o',\n",
    "    fillstyle='none',\n",
    "    label='Antenna Array',\n",
    ")\n"
   ]
  },
  {
   "cell_type": "code",
   "execution_count": null,
   "id": "c0bfbc76",
   "metadata": {},
   "outputs": [],
   "source": [
    "sns.set_theme(context='talk',style='whitegrid', font_scale=1.2 )\n",
    "fig = plt.figure(figsize=(10, 10))\n",
    "\n",
    "ax = fig.add_subplot(1,1,1, projection='polar')\n",
    "\n",
    "#ax.plot(-1*np.linspace(0, 2*np.pi, 4001), np.linspace(0, 2*np.pi, 4001))\n",
    "\n",
    "ax.plot(\n",
    "    np.radians(np.arange(0, 360, 6)),\n",
    "    np.ones(60) * 360 - np.arange(0, 360, 6), linewidth=2,\n",
    "    color='k',\n",
    "    linestyle='none',\n",
    "    marker='o',\n",
    "    fillstyle='none',\n",
    "    label='Antenna Array',\n",
    ")\n",
    "\n",
    "ax.set_rlabel_position(-22.5)\n",
    "#ax.set_ylabel('Phase')\n",
    "ax.set_title('Relative Phase of Cyclotron Radiation'+'\\n'+r'vs. Azimuthal Angle $(\\phi)$')\n",
    "ax.text(np.radians(-35), 420, 'Phase (deg)', rotation = 65)\n",
    "#plt.tight_layout()\n",
    "\n",
    "name = '221012_cyclotron_array_spiral_relative'\n",
    "plt.savefig(str(save_path/name), dpi=128)"
   ]
  },
  {
   "cell_type": "code",
   "execution_count": null,
   "id": "e5b38d06",
   "metadata": {},
   "outputs": [],
   "source": [
    "np.degrees(spiral[0][39])"
   ]
  },
  {
   "cell_type": "code",
   "execution_count": null,
   "id": "12a1a38e",
   "metadata": {},
   "outputs": [],
   "source": []
  }
 ],
 "metadata": {
  "kernelspec": {
   "display_name": "Python 3",
   "language": "python",
   "name": "python3"
  },
  "language_info": {
   "codemirror_mode": {
    "name": "ipython",
    "version": 3
   },
   "file_extension": ".py",
   "mimetype": "text/x-python",
   "name": "python",
   "nbconvert_exporter": "python",
   "pygments_lexer": "ipython3",
   "version": "3.8.10"
  }
 },
 "nbformat": 4,
 "nbformat_minor": 5
}
