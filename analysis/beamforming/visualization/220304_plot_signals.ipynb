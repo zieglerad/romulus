{
 "cells": [
  {
   "cell_type": "code",
   "execution_count": null,
   "id": "2a7f0339",
   "metadata": {},
   "outputs": [],
   "source": [
    "import matplotlib.pyplot as plt\n",
    "import numpy as np\n",
    "import seaborn as sns\n",
    "from pathlib import Path\n",
    "import math\n"
   ]
  },
  {
   "cell_type": "code",
   "execution_count": null,
   "id": "ad3c6088",
   "metadata": {},
   "outputs": [],
   "source": [
    "data_list = []\n",
    "for item in (Path.home()/'group'/'project'/'results'/\n",
    "             'beamforming'/'time_dependent'/'beamform_signals').iterdir():\n",
    "    if item.name.endswith('.npy') and item.name.split('_')[0] == '220304':\n",
    "        print(item)\n",
    "        data_list.append(np.load(item))"
   ]
  },
  {
   "cell_type": "code",
   "execution_count": null,
   "id": "1ad536af",
   "metadata": {},
   "outputs": [],
   "source": [
    "i_plot = 0\n",
    "\n",
    "signal = data_list[i_plot][0, 0, :]\n",
    "\n",
    "var = 1.38e-23 * 10 * 50 * 200e6\n",
    "\n",
    "noise = np.random.multivariate_normal([0,0], np.eye(2) * var/2, 8192 * 60)\n",
    "noise = noise[:, 0] + 1j * noise[:, 1]\n",
    "\n",
    "noise = noise.reshape((60, 8192)).sum(axis=0)\n",
    "\n",
    "\n",
    "\n",
    "plt.plot(abs(np.fft.fft(noise)/8192) ** 2)\n",
    "plt.plot((abs(np.fft.fftshift(np.fft.fft(signal)) / (8192)) ** 2 ) / 1)"
   ]
  },
  {
   "cell_type": "code",
   "execution_count": null,
   "id": "d8299530",
   "metadata": {},
   "outputs": [],
   "source": [
    "x1 = (abs(np.fft.fftshift(np.fft.fft(signal)) / (8192)) ** 2 ) / 1\n",
    "x2 = abs(noise) ** 2\n",
    "\n",
    "noise = np.random.multivariate_normal([0,0], np.eye(2) * (var * 8192) /2, 8192)\n",
    "noise = noise[:, 0] + 1j * noise[:, 1]\n",
    "\n",
    "x3 = abs(np.fft.fft(noise + signal)) ** 2\n",
    "\n",
    "\n",
    "\n",
    "print(10 * np.log10(np.max(x3) / np.mean(x3)))"
   ]
  },
  {
   "cell_type": "code",
   "execution_count": null,
   "id": "645ac7fb",
   "metadata": {},
   "outputs": [],
   "source": [
    "sns.set_theme(style='ticks', context='talk', )\n",
    "cmap = sns.color_palette('flare', as_cmap=True)\n",
    "fig = plt.figure(figsize=(10, 8))\n",
    "ax = fig.add_subplot(1,1,1)\n",
    "\n",
    "img = ax.imshow(\n",
    "    np.flip(image.T, axis=0),\n",
    "    aspect='auto',\n",
    "    cmap=cmap,\n",
    "    extent=(-0.05, 0.05, 0.05, -0.05)\n",
    "    \n",
    ")\n",
    "cbar = fig.colorbar(img, label=r'$|V^2_{rms}|$')\n",
    "ax.set_xlabel('X-Position')\n",
    "ax.set_ylabel('Y-Position')\n",
    "\n",
    "plt.tight_layout()\n",
    "save_path = Path.home()/'group'/'project'/'plots'/'analysis'/'beamforming'/'maps'\n",
    "name = '220304_88deg_electron_3cm_corrected'\n",
    "\n",
    "#plt.savefig(save_path/name)"
   ]
  },
  {
   "cell_type": "code",
   "execution_count": null,
   "id": "a96930c1",
   "metadata": {},
   "outputs": [],
   "source": [
    "print(np.argmax(image))\n",
    "\n",
    "i_max_correction = 11558\n",
    "i_max_no_correction = 10969"
   ]
  },
  {
   "cell_type": "code",
   "execution_count": null,
   "id": "5717a8b4",
   "metadata": {},
   "outputs": [],
   "source": [
    "var = 1.38e-23 * 10 * 50 * 60 * 200e6 / 8192\n",
    "\n",
    "noise = np.random.multivariate_normal([0,0], np.eye(2) * var/2, 8192)\n",
    "noise = noise[:, 0] + 1j * noise[:, 1]"
   ]
  },
  {
   "cell_type": "code",
   "execution_count": null,
   "id": "2036a40e",
   "metadata": {},
   "outputs": [],
   "source": [
    "#plt.plot(data_list[i_plot][0, 11558, :].real)\n",
    "plt.plot(abs(noise) ** 2)\n",
    "plt.plot(abs(np.fft.fftshift(np.fft.fft(data_list[3][0, i_max_correction, :])) / (8192)) ** 2 )\n",
    "#plt.plot(abs(np.fft.fftshift(np.fft.fft(data_list[5][0, i_max_no_correction, :])) / 8192) ** 2)\n"
   ]
  },
  {
   "cell_type": "code",
   "execution_count": null,
   "id": "f0124ef1",
   "metadata": {},
   "outputs": [],
   "source": [
    "x1 = abs(np.fft.fftshift(np.fft.fft(data_list[3][0, i_max_correction, :])) / (8192)) ** 2 \n",
    "x2 = abs(noise) ** 2\n",
    "\n",
    "print(10 * np.log10(np.max(x1) / np.mean(x2)))"
   ]
  },
  {
   "cell_type": "code",
   "execution_count": null,
   "id": "561ad4aa",
   "metadata": {},
   "outputs": [],
   "source": []
  }
 ],
 "metadata": {
  "kernelspec": {
   "display_name": "Python 3",
   "language": "python",
   "name": "python3"
  },
  "language_info": {
   "codemirror_mode": {
    "name": "ipython",
    "version": 3
   },
   "file_extension": ".py",
   "mimetype": "text/x-python",
   "name": "python",
   "nbconvert_exporter": "python",
   "pygments_lexer": "ipython3",
   "version": "3.8.10"
  }
 },
 "nbformat": 4,
 "nbformat_minor": 5
}
