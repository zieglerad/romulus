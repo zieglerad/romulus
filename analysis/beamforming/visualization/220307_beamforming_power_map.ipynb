{
 "cells": [
  {
   "cell_type": "code",
   "execution_count": null,
   "id": "f762fe5a",
   "metadata": {},
   "outputs": [],
   "source": [
    "import matplotlib.pyplot as plt\n",
    "import numpy as np\n",
    "import pathlib\n",
    "import seaborn as sns\n",
    "\n",
    "data_path = pathlib.Path().home()/'group'/'project'/'results'/'beamforming'\\\n",
    "/'static'/'beamform_signals'/'220309_0to5cm_84to90_8192sample_static_bf_signals.npz'\n",
    "\n",
    "#data_path = pathlib.Path().home()/'group'/'project'/'results'/'beamforming'\\\n",
    "#/'time_dependent'/'beamform_signals'/'220307_0to5cm_84to90_8192_gradb_corrected.npz'\n",
    "def interpolate(missing_inds, image):\n",
    "    \n",
    "    skipped_pixels = []\n",
    "    \n",
    "    for i in range(missing_inds.shape[0]):\n",
    "        \n",
    "        neighbor_x = []\n",
    "        neighbor_y = []\n",
    "        \n",
    "        missing_y = missing_inds[i, 0]\n",
    "        missing_x = missing_inds[i, 1]\n",
    "        \n",
    "        if missing_x + 1 < image.shape[1]:\n",
    "            neighbor_x.append(missing_x + 1)\n",
    "        if missing_x - 1 >= 0:\n",
    "            neighbor_x.append(missing_x - 1)\n",
    "        if missing_y + 1 < image.shape[0]:\n",
    "            neighbor_y.append(missing_y + 1)\n",
    "        if missing_y - 1 >= 0:\n",
    "            neighbor_y.append(missing_y - 1)\n",
    "            \n",
    "        neighbor_x.append(missing_x)\n",
    "        neighbor_y.append(missing_y)\n",
    "            \n",
    "        neighbor_grid_x, neighbor_grid_y = np.meshgrid(neighbor_x, neighbor_y)\n",
    "        \n",
    "        freq_list = []\n",
    "        \n",
    "        for j, pair in enumerate(zip(neighbor_grid_x.flatten(), neighbor_grid_y.flatten())):\n",
    "            #print(pair, missing_inds[:, 0], missing_inds[:, 1])\n",
    "            if not np.any(np.logical_and(missing_inds[:, 0] == pair[0], missing_inds[:, 1] == pair[1])):\n",
    "                freq_list.append(image[pair[1], pair[0]])\n",
    "                #print(freq_list)\n",
    "                #input()\n",
    "                \n",
    "        if len(freq_list) == 0:\n",
    "            skipped_pixels.append([missing_x, missing_y])\n",
    "        else:\n",
    "            image[missing_y, missing_x] = np.mean(freq_list)\n",
    "    skipped_pixels = np.array(skipped_pixels)\n",
    "    \n",
    "    if skipped_pixels.shape[0] == 0:\n",
    "        return image\n",
    "    else:\n",
    "        interpolate(skipped_pixels, image)"
   ]
  },
  {
   "cell_type": "code",
   "execution_count": null,
   "id": "b3473680",
   "metadata": {},
   "outputs": [],
   "source": [
    "data = np.load(data_path)\n",
    "for i, key in enumerate(data): print(key)"
   ]
  },
  {
   "cell_type": "code",
   "execution_count": null,
   "id": "d0083c11",
   "metadata": {},
   "outputs": [],
   "source": [
    "print(data['signals'].shape)"
   ]
  },
  {
   "cell_type": "code",
   "execution_count": null,
   "id": "a4f9d524",
   "metadata": {},
   "outputs": [],
   "source": [
    "print(data['radius'])"
   ]
  },
  {
   "cell_type": "code",
   "execution_count": null,
   "id": "514bfec7",
   "metadata": {},
   "outputs": [],
   "source": [
    "r_grid, pa_grid = np.meshgrid(\n",
    "    np.sort(np.unique(data['radius'])),\n",
    "    np.sort(np.unique(data['pitch'])),\n",
    "                              )\n",
    "\n",
    "print(r_grid.flatten())\n",
    "signals_sort = np.zeros((r_grid.size, data['signals'].shape[-1]), np.complex128)\n",
    "signals = data['signals'][:]\n",
    "for i, pair in enumerate(zip(r_grid.flatten(), pa_grid.flatten())):\n",
    "    \n",
    "    #print(i)\n",
    "    try:\n",
    "        ind = np.argwhere(np.logical_and(\n",
    "            data['radius'] == pair[0],\n",
    "            data['pitch'] == pair[1]\n",
    "        )).squeeze()\n",
    "        signals_sort[i, :] = signals[ind, :]\n",
    "        #print(i, ind)\n",
    "    except:\n",
    "        pass"
   ]
  },
  {
   "cell_type": "code",
   "execution_count": null,
   "id": "7ea6d5db",
   "metadata": {},
   "outputs": [],
   "source": [
    "print(pa_grid.flatten()[0:100], data['pitch'][0:100])"
   ]
  },
  {
   "cell_type": "code",
   "execution_count": null,
   "id": "56ddb5d8",
   "metadata": {},
   "outputs": [],
   "source": [
    "power_grid = np.mean(abs(signals_sort) ** 2, axis=-1).reshape((r_grid.shape))"
   ]
  },
  {
   "cell_type": "code",
   "execution_count": null,
   "id": "96ecf2f0",
   "metadata": {},
   "outputs": [],
   "source": [
    "ind_max = np.argmax(abs(np.fft.fft(signals_sort, axis=-1)), axis=-1)\n",
    "\n",
    "\n",
    "carrier_grid = abs(np.diag(np.fft.fft(signals_sort, axis=-1)[:, ind_max] / 8192)).reshape((r_grid.shape))"
   ]
  },
  {
   "cell_type": "code",
   "execution_count": null,
   "id": "2a12a2ab",
   "metadata": {},
   "outputs": [],
   "source": [
    "plt.imshow(power_grid , aspect='auto', )\n",
    "plt.colorbar()"
   ]
  },
  {
   "cell_type": "code",
   "execution_count": null,
   "id": "26d93681",
   "metadata": {},
   "outputs": [],
   "source": [
    "plt.imshow(carrier_grid ** 2  / (60*50), aspect='auto', )\n",
    "plt.colorbar()"
   ]
  },
  {
   "cell_type": "code",
   "execution_count": null,
   "id": "eab61dcb",
   "metadata": {},
   "outputs": [],
   "source": [
    "np.savez(\n",
    "    pathlib.Path().home()/'group'/'project'/'results'\\\n",
    "    /'beamforming'/'static'/'220329_static_bf_carrier_power_map',\n",
    "    carrier_power=(carrier_grid ** 2) / (60 * 50),\n",
    "    pitch_angle_grid=pa_grid,\n",
    "    radius_grid=r_grid\n",
    ")"
   ]
  },
  {
   "cell_type": "code",
   "execution_count": null,
   "id": "ab30db88",
   "metadata": {},
   "outputs": [],
   "source": [
    "np.savez(\n",
    "    pathlib.Path().home()/'group'/'project'/'results'\\\n",
    "    /'beamforming'/'static'/'220328_static_bf_power_map',\n",
    "    power=power_grid,\n",
    "    pitch_angle_grid=pa_grid,\n",
    "    radius_grid=r_grid\n",
    ")"
   ]
  },
  {
   "cell_type": "markdown",
   "id": "3002a6a5",
   "metadata": {},
   "source": [
    "# save the power grid image, if desired"
   ]
  },
  {
   "cell_type": "code",
   "execution_count": null,
   "id": "52bdbcf8",
   "metadata": {},
   "outputs": [],
   "source": [
    "missing_inds = np.argwhere(power_grid==0)\n",
    "\n",
    "power_grid_interpolate = interpolate(missing_inds, power_grid)"
   ]
  },
  {
   "cell_type": "code",
   "execution_count": null,
   "id": "46c72655",
   "metadata": {},
   "outputs": [],
   "source": [
    "sns.set_theme(context='talk', style='ticks')\n",
    "cmap = sns.color_palette('plasma', as_cmap=True)\n",
    "\n",
    "fig = plt.figure(figsize=(13, 8))\n",
    "ax = fig.add_subplot(1,1,1)\n",
    "\n",
    "img = ax.imshow(\n",
    "    power_grid_interpolate, \n",
    "    aspect='auto',\n",
    "    extent=(0, 0.05, 90, 84),\n",
    "    cmap=cmap,\n",
    ")\n",
    "cbar = fig.colorbar(img, label=r'$|V_{rms}^2|$')\n",
    "\n",
    "ax.set_xlabel('Radius (m)')\n",
    "ax.set_ylabel('Pitch Angle (deg)')\n",
    "\n",
    "plt.tight_layout()\n",
    "save_path = pathlib.Path.home()/'group'/'project'/'plots'/'analysis'/'beamforming'/'power_maps'\n",
    "name = '220318_static_beamforming_power_map'\n",
    "#plt.savefig(save_path/name)"
   ]
  },
  {
   "cell_type": "code",
   "execution_count": null,
   "id": "e1f73eff",
   "metadata": {},
   "outputs": [],
   "source": []
  },
  {
   "cell_type": "code",
   "execution_count": null,
   "id": "0db936b3",
   "metadata": {},
   "outputs": [],
   "source": [
    "print((10 * 50 * 60 * 200e6 * 1.38e-23) / 8192)"
   ]
  },
  {
   "cell_type": "code",
   "execution_count": null,
   "id": "73833ed7",
   "metadata": {},
   "outputs": [],
   "source": [
    "max_inds = np.argmax(abs(np.fft.fft(signals_sort)), axis=-1)"
   ]
  },
  {
   "cell_type": "code",
   "execution_count": null,
   "id": "571d2a86",
   "metadata": {},
   "outputs": [],
   "source": [
    "\n",
    "\n",
    "peak_grid = np.diag((abs(np.fft.fft(signals_sort) / 8192) ** 2)[:, max_inds])"
   ]
  },
  {
   "cell_type": "code",
   "execution_count": null,
   "id": "3e1aae40",
   "metadata": {},
   "outputs": [],
   "source": [
    "peak_grid.shape"
   ]
  },
  {
   "cell_type": "code",
   "execution_count": null,
   "id": "39ac1ee4",
   "metadata": {},
   "outputs": [],
   "source": [
    "plt.imshow(peak_grid.reshape((r_grid.shape)), aspect='auto', interpolation='none')\n",
    "plt.colorbar()"
   ]
  },
  {
   "cell_type": "code",
   "execution_count": null,
   "id": "a4cd30df",
   "metadata": {},
   "outputs": [],
   "source": [
    "threshold = 10 ** (5.0/5) * (10 * 50 * 60 * 200e6 * 1.38e-23) / 8192"
   ]
  },
  {
   "cell_type": "code",
   "execution_count": null,
   "id": "eeb8f5e4",
   "metadata": {},
   "outputs": [],
   "source": []
  },
  {
   "cell_type": "code",
   "execution_count": null,
   "id": "0c892b53",
   "metadata": {},
   "outputs": [],
   "source": [
    "inds_above_T = np.argwhere(peak_grid>= threshold).squeeze()"
   ]
  },
  {
   "cell_type": "code",
   "execution_count": null,
   "id": "217fd0c7",
   "metadata": {},
   "outputs": [],
   "source": [
    "radius_above_T = r_grid.flatten()[inds_above_T]\n",
    "pitch_above_T = pa_grid.flatten()[inds_above_T]"
   ]
  },
  {
   "cell_type": "code",
   "execution_count": null,
   "id": "9750aee8",
   "metadata": {},
   "outputs": [],
   "source": [
    "fig = plt.figure(figsize=(13, 8))\n",
    "ax = fig.add_subplot(1,1,1)\n",
    "ax.imshow(\n",
    "    peak_grid.reshape((r_grid.shape)),\n",
    "    aspect='auto',\n",
    "    interpolation='none',\n",
    "    extent=(0.0, 0.05, 90, 84)\n",
    ")\n",
    "\n",
    "ax.plot(radius_above_T, pitch_above_T, '.')"
   ]
  },
  {
   "cell_type": "markdown",
   "id": "98d83890",
   "metadata": {},
   "source": [
    "# select the boundary above threshold points"
   ]
  },
  {
   "cell_type": "code",
   "execution_count": null,
   "id": "62db8579",
   "metadata": {},
   "outputs": [],
   "source": [
    "unique_radius = np.sort(np.unique(radius_above_T))\n",
    "boundary_pitch = np.zeros(unique_radius.size)\n",
    "for i, iradius in enumerate(unique_radius):\n",
    "    \n",
    "    where_radius = np.argwhere(radius_above_T == iradius).squeeze()\n",
    "    \n",
    "    boundary_pitch[i] = np.min(pitch_above_T[where_radius])\n",
    "    "
   ]
  },
  {
   "cell_type": "code",
   "execution_count": null,
   "id": "b94afab7",
   "metadata": {},
   "outputs": [],
   "source": [
    "fig = plt.figure(figsize=(13, 8))\n",
    "ax = fig.add_subplot(1,1,1)\n",
    "ax.imshow(\n",
    "    peak_grid.reshape((r_grid.shape)),\n",
    "    aspect='auto',\n",
    "    interpolation='none',\n",
    "    extent=(0.0, 0.05, 90, 84)\n",
    ")\n",
    "\n",
    "ax.plot(unique_radius, boundary_pitch, '.')"
   ]
  },
  {
   "cell_type": "markdown",
   "id": "3ab85dd6",
   "metadata": {},
   "source": [
    "# save the coordinates for the boundary of the BF detection"
   ]
  },
  {
   "cell_type": "code",
   "execution_count": null,
   "id": "25f21b79",
   "metadata": {},
   "outputs": [],
   "source": [
    "save_path = pathlib.Path.home()/'group'/'project'/'results'/'beamforming'/\\\n",
    "'power_map_detection_boundary'\n",
    "name = '220309_static_bf_10db_threshold_boundary'\n",
    "\n",
    "np.savez(save_path/name, radius=unique_radius, pitch=boundary_pitch)"
   ]
  },
  {
   "cell_type": "markdown",
   "id": "8dffa159",
   "metadata": {},
   "source": [
    "# create the mf boundary"
   ]
  },
  {
   "cell_type": "code",
   "execution_count": null,
   "id": "fbd7ede5",
   "metadata": {},
   "outputs": [],
   "source": [
    "print(signals.shape)"
   ]
  },
  {
   "cell_type": "code",
   "execution_count": null,
   "id": "82f01210",
   "metadata": {},
   "outputs": [],
   "source": [
    "norm = 1 / abs(np.sqrt(10 * 50 * 60 * 200e6 * 1.38e-23 * (signals_sort.conjugate() * signals_sort).sum(-1)))"
   ]
  },
  {
   "cell_type": "code",
   "execution_count": null,
   "id": "24648397",
   "metadata": {},
   "outputs": [],
   "source": [
    "norm.shape"
   ]
  },
  {
   "cell_type": "code",
   "execution_count": null,
   "id": "9166ef10",
   "metadata": {},
   "outputs": [],
   "source": [
    "scores = norm * abs((signals_sort.conjugate() * signals_sort).sum(-1))"
   ]
  },
  {
   "cell_type": "code",
   "execution_count": null,
   "id": "6b5dbbc1",
   "metadata": {},
   "outputs": [],
   "source": [
    "fig = plt.figure(figsize=(13, 8))\n",
    "ax = fig.add_subplot(1,1,1)\n",
    "img = ax.imshow(\n",
    "    scores.reshape((r_grid.shape)),\n",
    "    aspect='auto',\n",
    "    interpolation='none',\n",
    "    extent=(0.0, 0.05, 90, 84)\n",
    ")\n",
    "cbar = fig.colorbar(img)\n"
   ]
  },
  {
   "cell_type": "code",
   "execution_count": null,
   "id": "410af6c7",
   "metadata": {},
   "outputs": [],
   "source": [
    "threshold = 2.\n",
    "\n",
    "inds_above_T = np.argwhere(scores>= threshold).squeeze()\n",
    "radius_above_T = r_grid.flatten()[inds_above_T]\n",
    "pitch_above_T = pa_grid.flatten()[inds_above_T]"
   ]
  },
  {
   "cell_type": "code",
   "execution_count": null,
   "id": "7afc9aac",
   "metadata": {},
   "outputs": [],
   "source": [
    "fig = plt.figure(figsize=(13, 8))\n",
    "ax = fig.add_subplot(1,1,1)\n",
    "ax.imshow(\n",
    "    scores.reshape((r_grid.shape)),\n",
    "    aspect='auto',\n",
    "    interpolation='none',\n",
    "    extent=(0.0, 0.05, 90, 84)\n",
    ")\n",
    "\n",
    "ax.plot(radius_above_T, pitch_above_T, '.')"
   ]
  },
  {
   "cell_type": "code",
   "execution_count": null,
   "id": "aed4413b",
   "metadata": {},
   "outputs": [],
   "source": [
    "unique_radius = np.sort(np.unique(radius_above_T))\n",
    "boundary_pitch = np.zeros(unique_radius.size)\n",
    "for i, iradius in enumerate(unique_radius):\n",
    "    \n",
    "    where_radius = np.argwhere(radius_above_T == iradius).squeeze()\n",
    "    \n",
    "    boundary_pitch[i] = np.min(pitch_above_T[where_radius])"
   ]
  },
  {
   "cell_type": "code",
   "execution_count": null,
   "id": "4b5ece70",
   "metadata": {},
   "outputs": [],
   "source": [
    "fig = plt.figure(figsize=(13, 8))\n",
    "ax = fig.add_subplot(1,1,1)\n",
    "ax.imshow(\n",
    "    scores.reshape((r_grid.shape)),\n",
    "    aspect='auto',\n",
    "    interpolation='none',\n",
    "    extent=(0.0, 0.05, 90, 84)\n",
    ")\n",
    "\n",
    "ax.plot(unique_radius, boundary_pitch, '.', color='red')"
   ]
  },
  {
   "cell_type": "code",
   "execution_count": null,
   "id": "017c3b8e",
   "metadata": {},
   "outputs": [],
   "source": [
    "save_path = pathlib.Path.home()/'group'/'project'/'results'/'beamforming'/\\\n",
    "'power_map_detection_boundary'\n",
    "name = '220308_mf_score2_threshold_boundary'\n",
    "\n",
    "np.savez(save_path/name, radius=unique_radius, pitch=boundary_pitch)"
   ]
  },
  {
   "cell_type": "code",
   "execution_count": null,
   "id": "22d2303c",
   "metadata": {},
   "outputs": [],
   "source": [
    "noise = np.random.multivariate_normal(\n",
    "    [0, 0], np.eye(2) * 5 * 50 * 60 * 1.38e-23 * 200e6 / 8192, 8192\n",
    ")\n",
    "noise = noise[:, 0] + 1j * noise[:, 1]"
   ]
  },
  {
   "cell_type": "code",
   "execution_count": null,
   "id": "60a1d77f",
   "metadata": {},
   "outputs": [],
   "source": [
    "fig = plt.figure(figsize=(13, 8))\n",
    "ax = fig.add_subplot(1,1,1)\n",
    "\n",
    "ax.plot(abs(noise) ** 2)\n",
    "ax.plot(abs(np.fft.fftshift(np.fft.fft(signals_sort[4000, :]) / 8192)) ** 2)"
   ]
  },
  {
   "cell_type": "code",
   "execution_count": null,
   "id": "be421d01",
   "metadata": {},
   "outputs": [],
   "source": []
  }
 ],
 "metadata": {
  "kernelspec": {
   "display_name": "Python 3",
   "language": "python",
   "name": "python3"
  },
  "language_info": {
   "codemirror_mode": {
    "name": "ipython",
    "version": 3
   },
   "file_extension": ".py",
   "mimetype": "text/x-python",
   "name": "python",
   "nbconvert_exporter": "python",
   "pygments_lexer": "ipython3",
   "version": "3.8.10"
  }
 },
 "nbformat": 4,
 "nbformat_minor": 5
}
