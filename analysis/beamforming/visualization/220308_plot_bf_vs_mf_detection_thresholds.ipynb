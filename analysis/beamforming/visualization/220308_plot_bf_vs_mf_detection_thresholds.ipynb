{
 "cells": [
  {
   "cell_type": "code",
   "execution_count": null,
   "id": "f762fe5a",
   "metadata": {},
   "outputs": [],
   "source": [
    "import matplotlib.pyplot as plt\n",
    "import numpy as np\n",
    "import pathlib\n",
    "import seaborn as sns\n",
    "\n",
    "data_path = pathlib.Path().home()/'group'/'project'/'results'/'beamforming'\\\n",
    "/'time_dependent'/'beamform_signals'/'220307_0to5cm_84to90_8192_gradb_corrected.npz'\n",
    "\n",
    "def interpolate(missing_inds, image):\n",
    "    \n",
    "    skipped_pixels = []\n",
    "    \n",
    "    for i in range(missing_inds.shape[0]):\n",
    "        \n",
    "        neighbor_x = []\n",
    "        neighbor_y = []\n",
    "        \n",
    "        missing_y = missing_inds[i, 0]\n",
    "        missing_x = missing_inds[i, 1]\n",
    "        \n",
    "        if missing_x + 1 < image.shape[1]:\n",
    "            neighbor_x.append(missing_x + 1)\n",
    "        if missing_x - 1 >= 0:\n",
    "            neighbor_x.append(missing_x - 1)\n",
    "        if missing_y + 1 < image.shape[0]:\n",
    "            neighbor_y.append(missing_y + 1)\n",
    "        if missing_y - 1 >= 0:\n",
    "            neighbor_y.append(missing_y - 1)\n",
    "            \n",
    "        neighbor_x.append(missing_x)\n",
    "        neighbor_y.append(missing_y)\n",
    "            \n",
    "        neighbor_grid_x, neighbor_grid_y = np.meshgrid(neighbor_x, neighbor_y)\n",
    "        \n",
    "        freq_list = []\n",
    "        \n",
    "        for j, pair in enumerate(zip(neighbor_grid_x.flatten(), neighbor_grid_y.flatten())):\n",
    "            #print(pair, missing_inds[:, 0], missing_inds[:, 1])\n",
    "            if not np.any(np.logical_and(missing_inds[:, 0] == pair[0], missing_inds[:, 1] == pair[1])):\n",
    "                freq_list.append(image[pair[1], pair[0]])\n",
    "                #print(freq_list)\n",
    "                #input()\n",
    "                \n",
    "        if len(freq_list) == 0:\n",
    "            skipped_pixels.append([missing_x, missing_y])\n",
    "        else:\n",
    "            image[missing_y, missing_x] = np.mean(freq_list)\n",
    "    skipped_pixels = np.array(skipped_pixels)\n",
    "    \n",
    "    if skipped_pixels.shape[0] == 0:\n",
    "        return image\n",
    "    else:\n",
    "        interpolate(skipped_pixels, image)"
   ]
  },
  {
   "cell_type": "code",
   "execution_count": null,
   "id": "b3473680",
   "metadata": {},
   "outputs": [],
   "source": [
    "data = np.load(data_path)\n",
    "for i, key in enumerate(data): print(key)"
   ]
  },
  {
   "cell_type": "code",
   "execution_count": null,
   "id": "d0083c11",
   "metadata": {},
   "outputs": [],
   "source": [
    "print(data['signals'].shape)"
   ]
  },
  {
   "cell_type": "code",
   "execution_count": null,
   "id": "514bfec7",
   "metadata": {},
   "outputs": [],
   "source": [
    "r_grid, pa_grid = np.meshgrid(np.sort(np.unique(data['radius'])),\n",
    "                              np.sort(np.unique(data['pitch'])))\n",
    "\n",
    "missing_inds = []\n",
    "signals_sort = np.zeros((r_grid.size, data['signals'].shape[-1]), np.complex128)\n",
    "signals = data['signals'][:]\n",
    "for i, pair in enumerate(zip(r_grid.flatten(), pa_grid.flatten())):\n",
    "    \n",
    "    #print(i)\n",
    "    try:\n",
    "        ind = np.argwhere(np.logical_and(\n",
    "            data['radius'] == pair[0],\n",
    "            data['pitch'] == pair[1]\n",
    "        )).squeeze()\n",
    "        signals_sort[i, :] = signals[ind, :]\n",
    "        #print(i, ind)\n",
    "    except:\n",
    "        missing_inds.append(i)"
   ]
  },
  {
   "cell_type": "code",
   "execution_count": null,
   "id": "7ea6d5db",
   "metadata": {},
   "outputs": [],
   "source": []
  },
  {
   "cell_type": "code",
   "execution_count": null,
   "id": "56ddb5d8",
   "metadata": {},
   "outputs": [],
   "source": [
    "energy_grid = np.mean(abs(signals_sort) ** 2, axis=-1).reshape((r_grid.shape))"
   ]
  },
  {
   "cell_type": "code",
   "execution_count": null,
   "id": "2a12a2ab",
   "metadata": {},
   "outputs": [],
   "source": [
    "fig = plt.figure(figsize=(13, 8))\n",
    "ax = fig.add_subplot(1,1,1)\n",
    "img = ax.imshow(\n",
    "    energy_grid,\n",
    "    aspect='auto',\n",
    "    interpolation='none',\n",
    "    extent = (0, 0.05, 84,90)\n",
    "               )\n",
    "\n",
    "cbar = fig.colorbar(img)"
   ]
  },
  {
   "cell_type": "markdown",
   "id": "fb8d1e90",
   "metadata": {},
   "source": [
    "# Interpolate the missing pixels"
   ]
  },
  {
   "cell_type": "code",
   "execution_count": null,
   "id": "6e50aa32",
   "metadata": {},
   "outputs": [],
   "source": [
    "missing_inds = np.argwhere(energy_grid==0).squeeze()"
   ]
  },
  {
   "cell_type": "code",
   "execution_count": null,
   "id": "ea4fcc24",
   "metadata": {},
   "outputs": [],
   "source": [
    "interpolated_energy_grid = np.array(energy_grid, copy=True)\n",
    "interpolated_energy_grid = interpolate(missing_inds, energy_grid)\n"
   ]
  },
  {
   "cell_type": "markdown",
   "id": "be439a4a",
   "metadata": {},
   "source": [
    "# plot the curves over the interpolated map"
   ]
  },
  {
   "cell_type": "code",
   "execution_count": null,
   "id": "1d64dd41",
   "metadata": {},
   "outputs": [],
   "source": [
    "curve_path = pathlib.Path.home()/'group'/'project'/'results'/'beamforming'/\\\n",
    "'power_map_detection_boundary'\n",
    "name_static = '220309_static_bf_10db_threshold_boundary.npz'\n",
    "name_bf = '220308_time_dependent_bf_10db_threshold_boundary.npz'\n",
    "name_mf = '220308_mf_score2_threshold_boundary.npz'\n",
    "name_dnn = '220308_time_dep_bf_dnn_detection_boundary.npz'\n",
    "\n",
    "curve_static = np.load(curve_path/name_static)\n",
    "curve_bf = np.load(curve_path/name_bf)\n",
    "curve_mf = np.load(curve_path/name_mf)\n",
    "curve_dnn = np.load(curve_path/name_dnn)"
   ]
  },
  {
   "cell_type": "code",
   "execution_count": null,
   "id": "760cc6e4",
   "metadata": {},
   "outputs": [],
   "source": [
    "sns.set_theme(context='talk', style='ticks')\n",
    "cmap = sns.color_palette('plasma', as_cmap=True)\n",
    "clist = sns.color_palette('bright', n_colors=15)\n",
    "\n",
    "fig = plt.figure(figsize=(13, 8))\n",
    "ax = fig.add_subplot(1,1,1)\n",
    "img = ax.imshow(\n",
    "    interpolated_energy_grid,\n",
    "    aspect='auto',\n",
    "    extent = (0, 0.05, 90,84),\n",
    "    cmap=cmap\n",
    "               )\n",
    "\n",
    "cbar = fig.colorbar(img, label=r'$|V_{rms}^2|$')\n",
    "\n",
    "#ax.plot(\n",
    "#    np.concatenate((curve_static['radius'][1:], [0.023])), \n",
    "#    np.concatenate((curve_static['pitch'][1:], [90])),\n",
    "#    color=clist[0], label='Static-BF', linewidth=4)\n",
    "#ax.plot(curve_bf['radius'], curve_bf['pitch'], color=clist[2], label='BF', linewidth=4)\n",
    "#ax.plot(curve_dnn['radius'], curve_dnn['pitch'], color=clist[9], label='DNN', linewidth=4)\n",
    "#ax.plot(curve_mf['radius'], curve_mf['pitch'], color=clist[3], label='MF', linewidth=4)\n",
    "\n",
    "#ax.legend(loc=1)\n",
    "#ax.set_title('Estimated Detection Theshold Boundaries')\n",
    "\n",
    "ax.set_ylabel('Pitch Angle (deg)')\n",
    "ax.set_xlabel('Radius (m)')\n",
    "plt.tight_layout()\n",
    "\n",
    "save_path = pathlib.Path.home()/'group'/'project'/'plots'/'analysis'/'beamforming'\\\n",
    "/'power_maps'\n",
    "#name='220318_static_vs_bf_vs_mf_vs_dnn_detection_threshold_electron_paramter_map'\n",
    "name='220318_summed_power_electron_paramter_map'\n",
    "\n",
    "#plt.savefig(save_path/name)"
   ]
  },
  {
   "cell_type": "code",
   "execution_count": null,
   "id": "d3716f87",
   "metadata": {},
   "outputs": [],
   "source": [
    "np.concatenate((curve_static['radius'], [0.023]))"
   ]
  },
  {
   "cell_type": "code",
   "execution_count": null,
   "id": "80e338b5",
   "metadata": {},
   "outputs": [],
   "source": [
    "max_inds = np.argmax(abs(np.fft.fft(signals_sort)), axis=-1)"
   ]
  },
  {
   "cell_type": "code",
   "execution_count": null,
   "id": "571d2a86",
   "metadata": {},
   "outputs": [],
   "source": [
    "\n",
    "\n",
    "peak_grid = np.diag((abs(np.fft.fft(signals_sort) / 8192) ** 2)[:, max_inds])"
   ]
  },
  {
   "cell_type": "code",
   "execution_count": null,
   "id": "f65a4ac9",
   "metadata": {},
   "outputs": [],
   "source": [
    "peak_grid.shape"
   ]
  }
 ],
 "metadata": {
  "kernelspec": {
   "display_name": "Python 3",
   "language": "python",
   "name": "python3"
  },
  "language_info": {
   "codemirror_mode": {
    "name": "ipython",
    "version": 3
   },
   "file_extension": ".py",
   "mimetype": "text/x-python",
   "name": "python",
   "nbconvert_exporter": "python",
   "pygments_lexer": "ipython3",
   "version": "3.8.10"
  }
 },
 "nbformat": 4,
 "nbformat_minor": 5
}
