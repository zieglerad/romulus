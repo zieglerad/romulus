{
 "cells": [
  {
   "cell_type": "code",
   "execution_count": null,
   "id": "98e8c740",
   "metadata": {},
   "outputs": [],
   "source": [
    "import numpy as np\n",
    "import matplotlib.pyplot as plt\n",
    "import seaborn as sns\n",
    "import pandas as pd\n",
    "import torch\n",
    "import h5py\n",
    "import os\n",
    "import sys\n",
    "import scipy\n",
    "import damselfly as df\n",
    "\n",
    "PATH = '/storage/home/adz6/group/project'\n",
    "RESULTPATH = os.path.join(PATH, 'results/damselfly')\n",
    "PLOTPATH = os.path.join(PATH, 'plots/damselfly')\n",
    "DATAPATH = os.path.join(PATH, 'damselfly/data/datasets')\n",
    "\n",
    "\"\"\"\n",
    "Date: 6/25/2021\n",
    "Description: template\n",
    "\"\"\"\n",
    "\n",
    "def CalculateROCMF(path):\n",
    "    \n",
    "    data = {}\n",
    "    for i, key in enumerate(np.load(path)):\n",
    "        data[key] = np.load(path)[key]\n",
    "        \n",
    "    nroc = 101\n",
    "    T_min = 0\n",
    "    T_max = 12\n",
    "    roc = np.ones((nroc, 2))\n",
    "\n",
    "    nsignal = data['signal'].size\n",
    "    nnoise = data['noise'].size\n",
    "    for i, T in enumerate(np.linspace(T_min, T_max, nroc)):\n",
    "        roc[i, 1], roc[i, 0] = np.argwhere(data['signal']>T).size / nsignal, np.argwhere(data['noise']>T).size / nnoise\n",
    "    \n",
    "    return roc"
   ]
  },
  {
   "cell_type": "code",
   "execution_count": null,
   "id": "7f9095e1",
   "metadata": {},
   "outputs": [],
   "source": [
    "mf_roc_curves = []\n",
    "\n",
    "for i, file in enumerate(os.listdir(os.path.join(RESULTPATH, 'distributions'))):\n",
    "    if file.find('mf_baseline_noise') > 0: \n",
    "        mf_roc_curves.append(os.path.join(RESULTPATH, 'distributions', file))\n",
    "        \n",
    "date = 210717\n",
    "for i, curve in enumerate(mf_roc_curves):\n",
    "    roc = CalculateROCMF(curve)\n",
    "    temp = curve.split('noise')[-1].split('K')[0]\n",
    "    np.savez(os.path.join(RESULTPATH, 'roc', f'{date}_mf_roc_curve_noise{temp}K.npz'), fpr=roc[:, 0], tpr=roc[:, 1])\n",
    "    "
   ]
  },
  {
   "cell_type": "code",
   "execution_count": null,
   "id": "db30b5f7",
   "metadata": {},
   "outputs": [],
   "source": [
    "filename = os.listdir(os.path.join(RESULTPATH, 'distributions'))[-9]"
   ]
  },
  {
   "cell_type": "code",
   "execution_count": null,
   "id": "d64423c1",
   "metadata": {},
   "outputs": [],
   "source": [
    "data = {}\n",
    "for i, key in enumerate(np.load(os.path.join(RESULTPATH, 'distributions', filename))):\n",
    "    data[key] = np.load(os.path.join(RESULTPATH, 'distributions', filename))[key]\n"
   ]
  },
  {
   "cell_type": "code",
   "execution_count": null,
   "id": "192922b7",
   "metadata": {},
   "outputs": [],
   "source": [
    "plt.hist(data['noise'])\n",
    "plt.hist(data['signal'])"
   ]
  },
  {
   "cell_type": "code",
   "execution_count": null,
   "id": "c6e0813b",
   "metadata": {},
   "outputs": [],
   "source": [
    "nroc = 101\n",
    "T_min = 0\n",
    "T_max = 12\n",
    "TPR = np.ones(nroc)\n",
    "FPR = np.ones(nroc)\n",
    "\n",
    "nsignal = data['signal'].size\n",
    "nnoise = data['noise'].size\n",
    "for i, T in enumerate(np.linspace(T_min, T_max, nroc)):\n",
    "    TPR[i], FPR[i] = np.argwhere(data['signal']>T).size / nsignal, np.argwhere(data['noise']>T).size / nnoise\n",
    "    "
   ]
  },
  {
   "cell_type": "code",
   "execution_count": null,
   "id": "bf1c01d7",
   "metadata": {},
   "outputs": [],
   "source": [
    "plt.plot(FPR, TPR)"
   ]
  },
  {
   "cell_type": "code",
   "execution_count": null,
   "id": "fe6875d0",
   "metadata": {},
   "outputs": [],
   "source": []
  }
 ],
 "metadata": {
  "kernelspec": {
   "display_name": "Python 3",
   "language": "python",
   "name": "python3"
  },
  "language_info": {
   "codemirror_mode": {
    "name": "ipython",
    "version": 3
   },
   "file_extension": ".py",
   "mimetype": "text/x-python",
   "name": "python",
   "nbconvert_exporter": "python",
   "pygments_lexer": "ipython3",
   "version": "3.8.10"
  }
 },
 "nbformat": 4,
 "nbformat_minor": 5
}
