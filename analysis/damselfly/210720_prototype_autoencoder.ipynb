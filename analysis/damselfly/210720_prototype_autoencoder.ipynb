{
 "cells": [
  {
   "cell_type": "code",
   "execution_count": null,
   "id": "98e8c740",
   "metadata": {},
   "outputs": [],
   "source": [
    "import numpy as np\n",
    "import matplotlib.pyplot as plt\n",
    "import seaborn as sns\n",
    "import pandas as pd\n",
    "import torch\n",
    "import torchvision\n",
    "import h5py\n",
    "import os\n",
    "import sys\n",
    "import scipy\n",
    "import damselfly as df\n",
    "\n",
    "PATH = '/storage/home/adz6/group/project'\n",
    "RESULTPATH = os.path.join(PATH, 'results/damselfly')\n",
    "PLOTPATH = os.path.join(PATH, 'plots/damselfly')\n",
    "DATAPATH = os.path.join(PATH, 'damselfly/data/datasets')\n",
    "\n",
    "\"\"\"\n",
    "Date: 7/20/2021\n",
    "Description: protoype autoencoder\n",
    "\"\"\""
   ]
  },
  {
   "cell_type": "code",
   "execution_count": null,
   "id": "7f9095e1",
   "metadata": {},
   "outputs": [],
   "source": [
    "class Encoder(torch.nn.Module):\n",
    "    \n",
    "    def __init__(self, layers):\n",
    "        super(Encoder, self).__init__()\n",
    "        \n",
    "        self.encoder = self._stack_layers(layers)\n",
    "        \n",
    "    def forward(self, x):\n",
    "        \n",
    "        return self.encoder(x)\n",
    "    \n",
    "    def _stack_layers(self, layers):\n",
    "        \n",
    "        stack = []\n",
    "        \n",
    "        for l in range(len(layers)-1):\n",
    "            stack.append(torch.nn.Linear(layers[l], layers[l + 1]))\n",
    "            if l < len(layers) - 2:\n",
    "                stack.append(torch.nn.ReLU(inplace=True))\n",
    "            \n",
    "        return torch.nn.Sequential(*stack)\n",
    "        \n",
    "    \n",
    "class Decoder(torch.nn.Module):\n",
    "    \n",
    "    def __init__(self, layers):\n",
    "        super(Decoder, self).__init__()\n",
    "        \n",
    "        self.decoder = self._stack_layers(layers)\n",
    "        \n",
    "    def forward(self, x):\n",
    "        \n",
    "        return self.decoder(x)\n",
    "    \n",
    "    def _stack_layers(self, layers):\n",
    "        \n",
    "        stack = []\n",
    "        \n",
    "        for l in range(len(layers)-1):\n",
    "            if l > 0:\n",
    "                stack.append(torch.nn.ReLU(inplace=True))\n",
    "            stack.append(torch.nn.Linear(layers[l], layers[l + 1]))\n",
    "            \n",
    "            \n",
    "        return torch.nn.Sequential(*stack)\n",
    "    \n",
    "    \n",
    "class autoencoder(torch.nn.Module):\n",
    "    \n",
    "    def __init__(self, enc_layers, dec_layers):\n",
    "        super(autoencoder, self).__init__()\n",
    "        \n",
    "        self.encoder = Encoder(enc_layers)\n",
    "        \n",
    "        #self.hidden = torch.nn.Linear(enc_layers[-1], dec_layers[0])\n",
    "        \n",
    "        self.decoder = Decoder(dec_layers)\n",
    "        \n",
    "        \n",
    "        \n",
    "    def forward(self, x):\n",
    "        \n",
    "        x = self.encoder(x)\n",
    "        \n",
    "        x = self.decoder(x)\n",
    "        \n",
    "        return x\n",
    "       "
   ]
  },
  {
   "cell_type": "code",
   "execution_count": null,
   "id": "5b51fd54",
   "metadata": {},
   "outputs": [],
   "source": [
    "enc_layers = [8192, 1024, 64, 32, 16]\n",
    "encoder = Encoder(enc_layers)"
   ]
  },
  {
   "cell_type": "code",
   "execution_count": null,
   "id": "834b3c3f",
   "metadata": {},
   "outputs": [],
   "source": [
    "encoder"
   ]
  },
  {
   "cell_type": "code",
   "execution_count": null,
   "id": "d82c1e3f",
   "metadata": {},
   "outputs": [],
   "source": [
    "dec_layers = [16, 32, 64, 1024, 8192]\n",
    "decoder = Decoder(dec_layers)"
   ]
  },
  {
   "cell_type": "code",
   "execution_count": null,
   "id": "799ec934",
   "metadata": {},
   "outputs": [],
   "source": [
    "decoder"
   ]
  },
  {
   "cell_type": "code",
   "execution_count": null,
   "id": "8e444e2b",
   "metadata": {},
   "outputs": [],
   "source": [
    "ae = autoencoder(enc_layers, dec_layers)"
   ]
  },
  {
   "cell_type": "code",
   "execution_count": null,
   "id": "1678f7af",
   "metadata": {},
   "outputs": [],
   "source": [
    "ae"
   ]
  },
  {
   "cell_type": "code",
   "execution_count": null,
   "id": "1275a4cf",
   "metadata": {},
   "outputs": [],
   "source": [
    "x = torch.randn((12, 3, ))"
   ]
  },
  {
   "cell_type": "code",
   "execution_count": null,
   "id": "a14be80d",
   "metadata": {},
   "outputs": [],
   "source": [
    "def norm1d(planes):\n",
    "    \n",
    "    return torch.nn.BatchNorm1d(planes)\n",
    "\n",
    "def conv1xn(in_planes, out_planes, kernel_size, stride = 1):\n",
    "\n",
    "    return torch.nn.Conv1d(in_planes, out_planes, kernel_size=kernel_size, stride=stride, dilation=1, padding_mode='circular', padding = kernel_size // 2, bias=False)\n",
    "\n",
    "def conv1x1(in_planes, out_planes, stride=1):\n",
    "    \n",
    "    return torch.nn.Conv1d(in_planes, out_planes, kernel_size=1, stride=stride, bias=False)\n",
    "\n",
    "def downsample(in_planes, out_planes, stride = 1):\n",
    "    \n",
    "    return torch.nn.Sequential(conv1x1(in_planes, out_planes, stride = stride), norm1d(out_planes))\n",
    "\n",
    "class ResBlock(torch.nn.Module):\n",
    "    \n",
    "    def __init__(self, inplanes, planes, in_kernel, out_kernel, stride=1):\n",
    "        \n",
    "        super(ResBlock, self).__init__()\n",
    "        \n",
    "        self.inplanes = inplanes\n",
    "        \n",
    "        self.planes = planes\n",
    "        \n",
    "        self.conv1 = conv1xn(self.inplanes, self.planes, in_kernel, stride=stride)\n",
    "        \n",
    "        self.bn1 = norm1d(self.planes)\n",
    "        \n",
    "        self.relu = torch.nn.ReLU(inplace=True)\n",
    "        \n",
    "        self.conv2 = conv1xn(self.planes, self.planes, out_kernel)\n",
    "        \n",
    "        self.bn2 = norm1d(self.planes)\n",
    "        \n",
    "        if self.inplanes != self.planes:\n",
    "        \n",
    "            self.downsample = downsample(self.inplanes, self.planes, stride=stride)\n",
    "        \n",
    "    def forward(self, x):\n",
    "        \n",
    "        identity = x\n",
    "        \n",
    "        out = self.conv1(x)\n",
    "        out = self.bn1(out)\n",
    "        out = self.relu(out)\n",
    "        \n",
    "        out = self.conv2(out)\n",
    "        out = self.bn2(out)\n",
    "        \n",
    "        #print(out.shape, identity.shape)\n",
    "        \n",
    "        if self.inplanes != self.planes:\n",
    "        \n",
    "            identity = self.downsample(x)\n",
    "            \n",
    "        #print(out.shape, identity.shape)\n",
    "        \n",
    "        out += identity\n",
    "        out = self.relu(out)\n",
    "        \n",
    "        return out\n",
    "        \n",
    "        "
   ]
  },
  {
   "cell_type": "code",
   "execution_count": null,
   "id": "67e943d9",
   "metadata": {},
   "outputs": [],
   "source": [
    "class resnet1d(torch.nn.Module):\n",
    "    \n",
    "    def __init__(self, block, block_list, stride=4, nclass = 2):\n",
    "        \n",
    "        super(resnet1d, self).__init__()\n",
    "        \n",
    "        self.inplanes = 64\n",
    "        self.kernel_size = 7\n",
    "        self.stride = stride\n",
    "        self.output_size = 4096 // 4 ** 3\n",
    "        \n",
    "        self.conv1 = conv1xn(2, self.inplanes, 7, stride=1)\n",
    "        self.bn1 = norm1d(self.inplanes)\n",
    "        self.relu = torch.nn.ReLU(inplace=True)\n",
    "        self.maxpool = torch.nn.MaxPool1d(2, padding = 0)\n",
    "        \n",
    "        self.layer1 = self._make_layer(block, self.inplanes, self.inplanes, self.kernel_size, block_list[0], self.stride)\n",
    "        self.layer2 = self._make_layer(block, self.inplanes, 2 * self.inplanes, self.kernel_size, block_list[1], self.stride)\n",
    "        self.layer3 = self._make_layer(block, 2 * self.inplanes, 4 * self.inplanes, self.kernel_size, block_list[2], self.stride)\n",
    "        self.layer4 = self._make_layer(block, 4 * self.inplanes, 8 * self.inplanes, self.kernel_size, block_list[3], self.stride)\n",
    "        \n",
    "        self.avgpool = torch.nn.AdaptiveAvgPool1d(1)\n",
    "        \n",
    "        self.fc = torch.nn.Linear(8 * self.inplanes, nclass)\n",
    "        \n",
    "    def _make_layer(self, block, inplanes, outplanes, kernel_size, blocks, stride):\n",
    "        \n",
    "        layers = []\n",
    "        layer_planes = inplanes\n",
    "        \n",
    "        if layer_planes == outplanes:\n",
    "            layers.append(block(layer_planes, outplanes, kernel_size, kernel_size))\n",
    "        else:\n",
    "            layers.append(block(layer_planes, outplanes, kernel_size, kernel_size, stride=stride))\n",
    "        \n",
    "        layer_planes = outplanes\n",
    "            \n",
    "        for _ in range(1, blocks):\n",
    "            layers.append(block(layer_planes, layer_planes, kernel_size, kernel_size))\n",
    "            \n",
    "        return torch.nn.Sequential(*layers)\n",
    "    \n",
    "    def forward(self, x):\n",
    "        \n",
    "        x = self.conv1(x)\n",
    "        x = self.bn1(x)\n",
    "        x = self.relu(x)\n",
    "        x = self.maxpool(x)\n",
    "        \n",
    "        x = self.layer1(x)\n",
    "        x = self.layer2(x)\n",
    "        x = self.layer3(x)\n",
    "        x = self.layer4(x)\n",
    "        \n",
    "        x = self.avgpool(x)\n",
    "        x = torch.flatten(x, start_dim=1)\n",
    "        x = self.fc(x)\n",
    "        \n",
    "        return x\n",
    "        \n",
    "        "
   ]
  },
  {
   "cell_type": "code",
   "execution_count": null,
   "id": "4078ebb1",
   "metadata": {},
   "outputs": [],
   "source": [
    "mymodel = resnet1d(ResBlock, [2,2,2,2])"
   ]
  },
  {
   "cell_type": "code",
   "execution_count": null,
   "id": "336cf15c",
   "metadata": {},
   "outputs": [],
   "source": [
    "x = torch.randn((10, 2, 8192))"
   ]
  },
  {
   "cell_type": "code",
   "execution_count": null,
   "id": "fccf0d1f",
   "metadata": {},
   "outputs": [],
   "source": [
    "mymodel.forward(x)"
   ]
  },
  {
   "cell_type": "code",
   "execution_count": null,
   "id": "d1a2c4e6",
   "metadata": {},
   "outputs": [],
   "source": [
    "maxpool = torch.nn.MaxPool1d(2, padding = 0)"
   ]
  },
  {
   "cell_type": "code",
   "execution_count": null,
   "id": "75ca3b23",
   "metadata": {},
   "outputs": [],
   "source": [
    "maxpool(x).shape"
   ]
  },
  {
   "cell_type": "code",
   "execution_count": null,
   "id": "72d1af10",
   "metadata": {},
   "outputs": [],
   "source": [
    "4096 // 4 ** 4"
   ]
  },
  {
   "cell_type": "code",
   "execution_count": null,
   "id": "1d5f36f7",
   "metadata": {},
   "outputs": [],
   "source": []
  }
 ],
 "metadata": {
  "kernelspec": {
   "display_name": "Python 3",
   "language": "python",
   "name": "python3"
  },
  "language_info": {
   "codemirror_mode": {
    "name": "ipython",
    "version": 3
   },
   "file_extension": ".py",
   "mimetype": "text/x-python",
   "name": "python",
   "nbconvert_exporter": "python",
   "pygments_lexer": "ipython3",
   "version": "3.8.10"
  }
 },
 "nbformat": 4,
 "nbformat_minor": 5
}
