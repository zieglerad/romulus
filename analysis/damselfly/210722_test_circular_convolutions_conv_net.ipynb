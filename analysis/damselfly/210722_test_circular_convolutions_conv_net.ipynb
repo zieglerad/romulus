{
 "cells": [
  {
   "cell_type": "code",
   "execution_count": null,
   "id": "98e8c740",
   "metadata": {},
   "outputs": [],
   "source": [
    "import numpy as np\n",
    "import matplotlib.pyplot as plt\n",
    "import seaborn as sns\n",
    "import pandas as pd\n",
    "import torch\n",
    "import torchvision\n",
    "import h5py\n",
    "import os\n",
    "import sys\n",
    "import scipy\n",
    "import damselfly as df\n",
    "\n",
    "PATH = '/storage/home/adz6/group/project'\n",
    "RESULTPATH = os.path.join(PATH, 'results/damselfly')\n",
    "PLOTPATH = os.path.join(PATH, 'plots/damselfly')\n",
    "DATAPATH = os.path.join(PATH, 'damselfly/data/datasets')\n",
    "\n",
    "\"\"\"\n",
    "Date: 7/20/2021\n",
    "Description: prototype autoencoder\n",
    "\"\"\""
   ]
  },
  {
   "cell_type": "code",
   "execution_count": null,
   "id": "94e1a610",
   "metadata": {},
   "outputs": [],
   "source": [
    "enc_conv_list = [\n",
    "                [\n",
    "                    [3, 20], # in_f \n",
    "                    [20, 20], # out_f\n",
    "                    [12, 12], # conv_kernels\n",
    "                    [1, 1], # dilations\n",
    "                    12 # maxpool_kernel + size\n",
    "                ],\n",
    "                [\n",
    "                    [20, 40],\n",
    "                    [40, 40],\n",
    "                    [6, 6],\n",
    "                    [1, 1],\n",
    "                    6\n",
    "                ],\n",
    "                [\n",
    "                    [40, 80],\n",
    "                    [80, 80],\n",
    "                    [3, 3],\n",
    "                    [1, 1],\n",
    "                    3\n",
    "                ]\n",
    "            ]\n",
    "\n",
    "enc_linear_list = [\n",
    "                [df.models.CalcConvMaxpoolOutputSize(enc_conv_list, 3, 8192), 416],\n",
    "                [416, 213],\n",
    "                [0.5, 0.5]\n",
    "            ]"
   ]
  },
  {
   "cell_type": "code",
   "execution_count": null,
   "id": "73f522c9",
   "metadata": {},
   "outputs": [],
   "source": [
    "convnet = df.models.DFCNN(2, 3, enc_conv_list, enc_linear_list)"
   ]
  },
  {
   "cell_type": "code",
   "execution_count": null,
   "id": "13f9bee5",
   "metadata": {},
   "outputs": [],
   "source": [
    "convnet"
   ]
  },
  {
   "cell_type": "code",
   "execution_count": null,
   "id": "309ce46c",
   "metadata": {},
   "outputs": [],
   "source": [
    "x = torch.randn((10, 3, 8192))"
   ]
  },
  {
   "cell_type": "code",
   "execution_count": null,
   "id": "a5fc2c5f",
   "metadata": {},
   "outputs": [],
   "source": [
    "convnet.forward(x)"
   ]
  },
  {
   "cell_type": "code",
   "execution_count": null,
   "id": "0f79b55f",
   "metadata": {},
   "outputs": [],
   "source": []
  }
 ],
 "metadata": {
  "kernelspec": {
   "display_name": "Python 3",
   "language": "python",
   "name": "python3"
  },
  "language_info": {
   "codemirror_mode": {
    "name": "ipython",
    "version": 3
   },
   "file_extension": ".py",
   "mimetype": "text/x-python",
   "name": "python",
   "nbconvert_exporter": "python",
   "pygments_lexer": "ipython3",
   "version": "3.8.10"
  }
 },
 "nbformat": 4,
 "nbformat_minor": 5
}
