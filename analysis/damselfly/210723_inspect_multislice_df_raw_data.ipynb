{
 "cells": [
  {
   "cell_type": "code",
   "execution_count": null,
   "id": "98e8c740",
   "metadata": {},
   "outputs": [],
   "source": [
    "import numpy as np\n",
    "import matplotlib.pyplot as plt\n",
    "import seaborn as sns\n",
    "import pandas as pd\n",
    "import torch\n",
    "import h5py\n",
    "import os\n",
    "import sys\n",
    "import scipy\n",
    "import damselfly as df\n",
    "import pyts \n",
    "\n",
    "PATH = '/storage/home/adz6/group/project'\n",
    "RESULTPATH = os.path.join(PATH, 'results/damselfly')\n",
    "PLOTPATH = os.path.join(PATH, 'plots/damselfly')\n",
    "DATAPATH = os.path.join(PATH, 'damselfly/data/datasets')\n",
    "SIMDATAPATH = os.path.join(PATH, 'sim_data/datasets')\n",
    "\n",
    "\"\"\"\n",
    "Date: 6/25/2021\n",
    "Description: template\n",
    "\"\"\""
   ]
  },
  {
   "cell_type": "code",
   "execution_count": null,
   "id": "7f9095e1",
   "metadata": {},
   "outputs": [],
   "source": [
    "os.listdir(os.path.join(SIMDATAPATH, '210715_df_3timeslice_unsummed_data'))"
   ]
  },
  {
   "cell_type": "code",
   "execution_count": null,
   "id": "1f723e3b",
   "metadata": {},
   "outputs": [],
   "source": [
    "file = h5py.File(os.path.join(SIMDATAPATH, '210715_df_3timeslice_unsummed_data', '210629_df1.h5'), 'r')"
   ]
  },
  {
   "cell_type": "code",
   "execution_count": null,
   "id": "ea5f9c41",
   "metadata": {},
   "outputs": [],
   "source": [
    "data = file['signal']['2']"
   ]
  },
  {
   "cell_type": "code",
   "execution_count": null,
   "id": "6cb5b3f6",
   "metadata": {},
   "outputs": [],
   "source": [
    "print(data[:].shape)\n",
    "for item in data.attrs:\n",
    "    print(item, data.attrs[item])"
   ]
  },
  {
   "cell_type": "code",
   "execution_count": null,
   "id": "b7cd4612",
   "metadata": {},
   "outputs": [],
   "source": [
    "fft1 = np.fft.fft(np.sum(data[:, 0:8192], axis=0)) / np.sqrt(8192)\n",
    "fft2 = np.fft.fft(np.sum(data[:, :], axis=0)) / np.sqrt(data.shape[-1])\n",
    "\n",
    "#print(np.mean(abs(fft1)**2))\n",
    "#print(np.mean(abs(data[0, 0:8192])**2 ))\n",
    "\n",
    "noise1 = np.random.multivariate_normal([0,0], np.eye(2) * 1.38e-23 * 10 * 50 * 200e6 / 2, 8192)\n",
    "noise1 = noise1[:, 0] + 1j * noise1[:, 1]\n",
    "noise1 = np.fft.fft(noise1)/np.sqrt(8192)\n",
    "\n",
    "noise2 = np.random.multivariate_normal([0,0], np.eye(2) * 1.38e-23 * 10 * 50 * 200e6 / 2, data.shape[-1])\n",
    "noise2 = noise2[:, 0] + 1j * noise2[:, 1]\n",
    "noise2 = np.fft.fft(noise2)/np.sqrt(data.shape[-1])"
   ]
  },
  {
   "cell_type": "code",
   "execution_count": null,
   "id": "a33959c2",
   "metadata": {},
   "outputs": [],
   "source": [
    "plt.plot(abs(noise1 + fft1)**2)\n",
    "plt.plot(abs(fft1)**2)"
   ]
  },
  {
   "cell_type": "code",
   "execution_count": null,
   "id": "fd624a1e",
   "metadata": {},
   "outputs": [],
   "source": [
    "\n",
    "plt.plot(abs(fft2 + noise2)**2)\n",
    "plt.plot(abs(fft2)**2)"
   ]
  },
  {
   "cell_type": "code",
   "execution_count": null,
   "id": "df8ab6d6",
   "metadata": {},
   "outputs": [],
   "source": [
    "from pyts.image import GramianAngularField\n",
    "from pyts.datasets import load_gunpoint\n",
    "\n",
    "#transformer = GramianAngularField()\n",
    "#fft1_new = transformer.transform(fft1.real)\n",
    "\n",
    "load_gunpoint()\n"
   ]
  },
  {
   "cell_type": "code",
   "execution_count": null,
   "id": "7fd93ee5",
   "metadata": {},
   "outputs": [],
   "source": [
    "plt.imshow(abs(fft1).reshape((8192 // 64, 64))**2, aspect='auto', interpolation='none')"
   ]
  },
  {
   "cell_type": "code",
   "execution_count": null,
   "id": "6e905754",
   "metadata": {},
   "outputs": [],
   "source": [
    "plt.imshow(abs(fft1 + noise1).reshape((8192 // 64, 64))**2, aspect='auto', interpolation='none')"
   ]
  },
  {
   "cell_type": "code",
   "execution_count": null,
   "id": "fb99ae23",
   "metadata": {},
   "outputs": [],
   "source": [
    "plt.imshow(abs(fft2).reshape(( data.shape[-1] // (36), (36)))**2, aspect='auto', interpolation='none')"
   ]
  },
  {
   "cell_type": "code",
   "execution_count": null,
   "id": "43961210",
   "metadata": {},
   "outputs": [],
   "source": [
    "plt.imshow(np.log10(abs(fft2 + noise2).reshape(( data.shape[-1] // (36), (36)))**2), aspect='auto', interpolation='none')"
   ]
  },
  {
   "cell_type": "code",
   "execution_count": null,
   "id": "6996a1d9",
   "metadata": {},
   "outputs": [],
   "source": [
    "8192 * 3 / 2"
   ]
  },
  {
   "cell_type": "code",
   "execution_count": null,
   "id": "caec5c52",
   "metadata": {},
   "outputs": [],
   "source": [
    "12288 / 4"
   ]
  },
  {
   "cell_type": "code",
   "execution_count": null,
   "id": "35c009f1",
   "metadata": {},
   "outputs": [],
   "source": [
    "12288 / 16"
   ]
  },
  {
   "cell_type": "code",
   "execution_count": null,
   "id": "c6a86440",
   "metadata": {},
   "outputs": [],
   "source": [
    "12288 / 32"
   ]
  },
  {
   "cell_type": "code",
   "execution_count": null,
   "id": "391ea6da",
   "metadata": {},
   "outputs": [],
   "source": [
    "12288 / 64"
   ]
  },
  {
   "cell_type": "code",
   "execution_count": null,
   "id": "7fb388be",
   "metadata": {},
   "outputs": [],
   "source": [
    "23076 / (36)"
   ]
  },
  {
   "cell_type": "code",
   "execution_count": null,
   "id": "d0095dfb",
   "metadata": {},
   "outputs": [],
   "source": []
  }
 ],
 "metadata": {
  "kernelspec": {
   "display_name": "Python 3",
   "language": "python",
   "name": "python3"
  },
  "language_info": {
   "codemirror_mode": {
    "name": "ipython",
    "version": 3
   },
   "file_extension": ".py",
   "mimetype": "text/x-python",
   "name": "python",
   "nbconvert_exporter": "python",
   "pygments_lexer": "ipython3",
   "version": "3.8.10"
  }
 },
 "nbformat": 4,
 "nbformat_minor": 5
}
