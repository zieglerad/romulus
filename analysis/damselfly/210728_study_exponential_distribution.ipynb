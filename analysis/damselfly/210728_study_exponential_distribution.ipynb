{
 "cells": [
  {
   "cell_type": "code",
   "execution_count": null,
   "id": "98e8c740",
   "metadata": {},
   "outputs": [],
   "source": [
    "import numpy as np\n",
    "import matplotlib.pyplot as plt\n",
    "import seaborn as sns\n",
    "import pandas as pd\n",
    "import torch\n",
    "import h5py\n",
    "import os\n",
    "import sys\n",
    "import scipy\n",
    "import damselfly as df\n",
    "\n",
    "PATH = '/storage/home/adz6/group/project'\n",
    "RESULTPATH = os.path.join(PATH, 'results/damselfly')\n",
    "PLOTPATH = os.path.join(PATH, 'plots/damselfly')\n",
    "DATAPATH = os.path.join(PATH, 'damselfly/data/datasets')\n",
    "\n",
    "\"\"\"\n",
    "Date: 6/25/2021\n",
    "Description: template\n",
    "\"\"\""
   ]
  },
  {
   "cell_type": "code",
   "execution_count": null,
   "id": "7f9095e1",
   "metadata": {},
   "outputs": [],
   "source": [
    "rng = np.random.default_rng()"
   ]
  },
  {
   "cell_type": "code",
   "execution_count": null,
   "id": "133cccf9",
   "metadata": {},
   "outputs": [],
   "source": [
    "y = rng.exponential(2, 100000)"
   ]
  },
  {
   "cell_type": "code",
   "execution_count": null,
   "id": "58340ba4",
   "metadata": {},
   "outputs": [],
   "source": [
    "fig = plt.figure()\n",
    "\n",
    "ax = fig.add_subplot(1,1,1)\n",
    "\n",
    "hist = ax.hist(y, 32)\n",
    "\n",
    "ax.set_yscale('log')"
   ]
  },
  {
   "cell_type": "code",
   "execution_count": null,
   "id": "f8fb9cc9",
   "metadata": {},
   "outputs": [],
   "source": [
    "print(np.mean(y))"
   ]
  },
  {
   "cell_type": "code",
   "execution_count": null,
   "id": "399d03b0",
   "metadata": {},
   "outputs": [],
   "source": [
    "print(len(np.argwhere(y<1).squeeze()), len(np.argwhere(y>=1).squeeze()))"
   ]
  },
  {
   "cell_type": "code",
   "execution_count": null,
   "id": "90af374b",
   "metadata": {},
   "outputs": [],
   "source": [
    "def GetTimeSliceWeightsFromExp(rng, nslice, mean=3, invert=False):\n",
    "    est_track_length = rng.exponential(mean)\n",
    "    \n",
    "    print(est_track_length, np.ceil(est_track_length), int(nslice - np.ceil(est_track_length)),1 - np.ceil(est_track_length) + est_track_length, nslice)\n",
    "    \n",
    "    slice_weights = np.ones(nslice)\n",
    "    \n",
    "    if est_track_length >= nslice:\n",
    "        return slice_weights\n",
    "    else:\n",
    "        N_empty_slice = int(nslice - np.ceil(est_track_length))\n",
    "        \n",
    "        partial_slice_weight = 1 - np.ceil(est_track_length) + est_track_length\n",
    "        \n",
    "        for n in range(N_empty_slice):\n",
    "            slice_weights[n] = 0.0\n",
    "            \n",
    "        slice_weights[N_empty_slice] = partial_slice_weight\n",
    "        \n",
    "        if rng.integers(0, 2) == 1 and invert:\n",
    "            slice_weights = np.flip(slice_weights)\n",
    "        \n",
    "        return slice_weights\n",
    "            \n",
    "        \n",
    "        "
   ]
  },
  {
   "cell_type": "code",
   "execution_count": null,
   "id": "369f864d",
   "metadata": {},
   "outputs": [],
   "source": [
    "GetTimeSliceWeightsFromExp(rng, 5, mean=5, invert=True)"
   ]
  },
  {
   "cell_type": "code",
   "execution_count": null,
   "id": "2448b71b",
   "metadata": {},
   "outputs": [],
   "source": [
    "rng.integers(0, 2)"
   ]
  },
  {
   "cell_type": "code",
   "execution_count": null,
   "id": "8c9e54fe",
   "metadata": {},
   "outputs": [],
   "source": []
  },
  {
   "cell_type": "code",
   "execution_count": null,
   "id": "122a90b8",
   "metadata": {},
   "outputs": [],
   "source": []
  }
 ],
 "metadata": {
  "kernelspec": {
   "display_name": "Python 3",
   "language": "python",
   "name": "python3"
  },
  "language_info": {
   "codemirror_mode": {
    "name": "ipython",
    "version": 3
   },
   "file_extension": ".py",
   "mimetype": "text/x-python",
   "name": "python",
   "nbconvert_exporter": "python",
   "pygments_lexer": "ipython3",
   "version": "3.8.10"
  }
 },
 "nbformat": 4,
 "nbformat_minor": 5
}
