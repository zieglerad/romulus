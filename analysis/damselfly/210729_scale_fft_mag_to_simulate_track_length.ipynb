{
 "cells": [
  {
   "cell_type": "code",
   "execution_count": null,
   "id": "98e8c740",
   "metadata": {},
   "outputs": [],
   "source": [
    "import numpy as np\n",
    "import matplotlib.pyplot as plt\n",
    "import seaborn as sns\n",
    "import pandas as pd\n",
    "import torch\n",
    "import h5py\n",
    "import os\n",
    "import sys\n",
    "import scipy\n",
    "import damselfly as df\n",
    "\n",
    "PATH = '/storage/home/adz6/group/project'\n",
    "RESULTPATH = os.path.join(PATH, 'results/damselfly')\n",
    "PLOTPATH = os.path.join(PATH, 'plots/damselfly')\n",
    "DATAPATH = os.path.join(PATH, 'damselfly/data/datasets')\n",
    "\n",
    "\"\"\"\n",
    "Date: 6/25/2021\n",
    "Description: template\n",
    "\"\"\""
   ]
  },
  {
   "cell_type": "code",
   "execution_count": null,
   "id": "7f9095e1",
   "metadata": {},
   "outputs": [],
   "source": [
    "fsamp = 10\n",
    "t = np.arange(0, 200, 1) * (1 / fsamp)\n",
    "f = 1\n",
    "A = 1\n",
    "\n",
    "x = A * np.exp(-1j * 2 * np.pi * f * t)\n",
    "\n",
    "X = np.fft.fft(x)\n",
    "\n",
    "fig = plt.figure(figsize=(13,8))\n",
    "\n",
    "ax = fig.add_subplot(1,1,1)\n",
    "\n",
    "ax.plot(.75 * X.real)\n",
    "ax.plot(.75 * X.imag)\n",
    "\n",
    "x_short = A * np.exp(-1j * 2 * np.pi * f * t)\n",
    "x_short[0:50] = 0\n",
    "\n",
    "X_short = np.fft.fft(x_short)\n",
    "\n",
    "fig = plt.figure(figsize=(13,8))\n",
    "\n",
    "ax = fig.add_subplot(1,1,1)\n",
    "\n",
    "ax.plot(X_short.real)\n",
    "ax.plot(X_short.imag)"
   ]
  },
  {
   "cell_type": "code",
   "execution_count": null,
   "id": "133cccf9",
   "metadata": {},
   "outputs": [],
   "source": [
    "y = rng.exponential(2, 100000)"
   ]
  },
  {
   "cell_type": "code",
   "execution_count": null,
   "id": "58340ba4",
   "metadata": {},
   "outputs": [],
   "source": [
    "fig = plt.figure()\n",
    "\n",
    "ax = fig.add_subplot(1,1,1)\n",
    "\n",
    "hist = ax.hist(y, 32)\n",
    "\n",
    "ax.set_yscale('log')"
   ]
  },
  {
   "cell_type": "code",
   "execution_count": null,
   "id": "29b00a3f",
   "metadata": {},
   "outputs": [],
   "source": [
    "print(np.mean(y))"
   ]
  },
  {
   "cell_type": "code",
   "execution_count": null,
   "id": "96b56ec7",
   "metadata": {},
   "outputs": [],
   "source": [
    "print(len(np.argwhere(y<1).squeeze()), len(np.argwhere(y>=1).squeeze()))"
   ]
  },
  {
   "cell_type": "code",
   "execution_count": null,
   "id": "772c525d",
   "metadata": {},
   "outputs": [],
   "source": []
  }
 ],
 "metadata": {
  "kernelspec": {
   "display_name": "Python 3",
   "language": "python",
   "name": "python3"
  },
  "language_info": {
   "codemirror_mode": {
    "name": "ipython",
    "version": 3
   },
   "file_extension": ".py",
   "mimetype": "text/x-python",
   "name": "python",
   "nbconvert_exporter": "python",
   "pygments_lexer": "ipython3",
   "version": "3.8.10"
  }
 },
 "nbformat": 4,
 "nbformat_minor": 5
}
