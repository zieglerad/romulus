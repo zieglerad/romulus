{
 "cells": [
  {
   "cell_type": "code",
   "execution_count": null,
   "id": "43e205c4",
   "metadata": {},
   "outputs": [],
   "source": [
    "###### import numpy as np\n",
    "import matplotlib.pyplot as plt\n",
    "import seaborn as sns\n",
    "import pandas as pd\n",
    "import torch\n",
    "import h5py\n",
    "import os\n",
    "import sys\n",
    "import scipy\n",
    "import damselfly as df\n",
    "import scipy.signal\n",
    "\n",
    "PATH = '/storage/home/adz6/group/project'\n",
    "RESULTPATH = os.path.join(PATH, 'results/damselfly')\n",
    "PLOTPATH = os.path.join(PATH, 'plots/damselfly')\n",
    "DATAPATH = os.path.join(PATH, 'damselfly/data/datasets')\n",
    "SIMDATAPATH = os.path.join(PATH, 'damselfly/data/sim_data')\n",
    "\n",
    "\"\"\"\n",
    "Date: 6/25/2021\n",
    "Description: template\n",
    "\"\"\"\n",
    "\n",
    "def GetTrackLength(rng, slicesize, mean=3, signal_length=8192 ):\n",
    "    est_track_length = int(slicesize * rng.exponential(mean))\n",
    "    if est_track_length >= signal_length:\n",
    "        return signal_length\n",
    "    else:\n",
    "        return est_track_length\n",
    "    \n",
    "def noise(rng, var, size, shape):\n",
    "    noise = rng.multivariate_normal([0,0], np.eye(2) * var / 2, size)\n",
    "    noise = noise[:, 0] + 1j * noise[:, 1]\n",
    "    \n",
    "    return noise.reshape(shape)\n",
    "\n",
    "dataset_file = '210730_84_1d2sl_eval.h5'\n",
    "h5datafile = h5py.File(os.path.join(SIMDATAPATH, dataset_file), 'r')\n",
    "\n",
    "var = 1.38e-23 * 10 * 50 * 200e6\n",
    "\n",
    "signals = h5datafile['data'][:]\n",
    "\n",
    "\n",
    "\n",
    "noise_samples = 1\n",
    "#shape = signals.shape\n",
    "#size = signals.size\n",
    "\n",
    "track_lengths = np.arange(256, 2*8192 + 256, 256)\n",
    "#track_lengths = np.arange()\n",
    "ntrack = track_lengths.size\n",
    "\n",
    "nsignals = signals.shape[0]\n",
    "\n",
    "noise_scores = np.zeros((ntrack, noise_samples, nsignals, nsignals))\n",
    "signal_scores = np.zeros((ntrack, noise_samples, nsignals, nsignals))\n",
    "\n",
    "for i, track_len in enumerate(track_lengths):\n",
    "    for n in range(noise_samples):\n",
    "        print(track_len)\n",
    "        aug_signals = np.zeros((signals.shape[0], track_len), dtype=np.complex64) \n",
    "            \n",
    "        aug_signals = signals[:, 0:track_len]\n",
    "        \n",
    "        norm = 1 / np.sqrt(var * np.diag(np.matmul(aug_signals, aug_signals.conjugate().T)))\n",
    "        \n",
    "        #print(norm.shape, aug_signals.shape, templates.shape)\n",
    "        \n",
    "        templates = aug_signals * norm.reshape((norm.size, 1)).repeat(track_len, axis=-1)\n",
    "        \n",
    "        noisy_data = aug_signals + noise(rng, var, aug_signals.size, aug_signals.shape)\n",
    "\n",
    "        #x = abs(scipy.signal.fftconvolve(noisy_data, templates, axes=-1, mode='valid'))\n",
    "        x = abs(np.matmul(noisy_data, templates.conjugate().T))\n",
    "        signal_scores[i, n, :] = x\n",
    "\n",
    "    \n",
    "        #x = abs(np.matmul(noise(rng, var, templates.size, templates.shape), templates.conjugate().T))\n",
    "        #x = abs(np.matmul(noise(rng, var, size, shape)[:,0:template_size], templates.conjugate().T))\n",
    "        #print(np.max(x, axis=-1), np.mean(x))\n",
    "        #print(x)\n",
    "        #noise_scores[i, n, :] = x\n",
    "        \n",
    "        #if i % 5 == 4:\n",
    "        #    print(f'{i + 1} / {ntrack * noise_samples}')\n",
    "\n",
    "result_name = '210731_matched_filter_scores_variable_track_length_10K.npz'\n",
    "\n",
    "np.savez(os.path.join(RESULTPATH, result_name), signal=signal_scores, noise=noise_scores, track_lengths=track_lengths, noise_samp=noise_samples)\n"
   ]
  },
  {
   "cell_type": "code",
   "execution_count": null,
   "id": "7f9095e1",
   "metadata": {},
   "outputs": [],
   "source": [
    "signal = signals[3489, 0:]\n",
    "\n",
    "n = noise(rng, var, 16384, 16384)\n",
    "print(signal.shape)\n",
    "template = signal * 1 / np.sqrt(var * np.vdot(signal, signal))\n",
    "\n",
    "#print(abs(np.vdot(signal[0:8192], template[0:8192])))\n",
    "\n",
    "print(abs(np.vdot(signal[0:], template[0:])))"
   ]
  },
  {
   "cell_type": "code",
   "execution_count": null,
   "id": "36a82266",
   "metadata": {},
   "outputs": [],
   "source": [
    "plt.plot(signals[0])"
   ]
  },
  {
   "cell_type": "code",
   "execution_count": null,
   "id": "b1bc2730",
   "metadata": {},
   "outputs": [],
   "source": [
    "signal = signals[3489, 0:4096]\n",
    "print(signal.shape)\n",
    "\n",
    "n = noise(rng, var, 8192, 8192)\n",
    "template = signal * 1 / np.sqrt(var * np.vdot(signal, signal))\n",
    "\n",
    "#print(abs(np.vdot(signal[0:4096], template[0:4096])))\n",
    "\n",
    "print(abs(np.vdot(signal[0:], template[0:])))"
   ]
  },
  {
   "cell_type": "code",
   "execution_count": null,
   "id": "a3f373f8",
   "metadata": {},
   "outputs": [],
   "source": [
    "rng = np.random.default_rng()"
   ]
  },
  {
   "cell_type": "code",
   "execution_count": null,
   "id": "1a42f228",
   "metadata": {},
   "outputs": [],
   "source": []
  },
  {
   "cell_type": "code",
   "execution_count": null,
   "id": "905eb256",
   "metadata": {},
   "outputs": [],
   "source": [
    "list1 = []\n",
    "for i in range(10000):\n",
    "    n_real = rng.normal(0, np.sqrt(var / 2), 8192)\n",
    "    h_n = np.dot(n_real, template.real)\n",
    "    list1.append(h_n)\n",
    "print(np.sqrt(template ** 2))\n",
    "print(np.std(list1))"
   ]
  },
  {
   "cell_type": "code",
   "execution_count": null,
   "id": "5aef2471",
   "metadata": {},
   "outputs": [],
   "source": [
    "plt.plot(template.imag)"
   ]
  },
  {
   "cell_type": "code",
   "execution_count": null,
   "id": "ccf35088",
   "metadata": {},
   "outputs": [],
   "source": [
    "metadata = {}\n",
    "for n, dset in enumerate(h5datafile['meta']):\n",
    "    metadata[dset] = h5datafile['meta'][dset][:]\n",
    "    \n",
    "metadata = pd.DataFrame(metadata)\n",
    "\n"
   ]
  },
  {
   "cell_type": "code",
   "execution_count": null,
   "id": "a41fb11c",
   "metadata": {},
   "outputs": [],
   "source": []
  },
  {
   "cell_type": "code",
   "execution_count": null,
   "id": "0337ccfb",
   "metadata": {},
   "outputs": [],
   "source": [
    "template_size = 8192\n",
    "\n",
    "norm = 1 / np.sqrt(var * np.diag(np.matmul(signals[:, 0:template_size], signals[:, 0:template_size].conjugate().T)))\n",
    "\n",
    "templates = signals[:, 0:template_size] * norm.reshape((norm.size, 1)).repeat(template_size, axis=-1)"
   ]
  },
  {
   "cell_type": "code",
   "execution_count": null,
   "id": "6f27e3c4",
   "metadata": {},
   "outputs": [],
   "source": [
    "print(abs(np.vdot(templates[0, :], signals[0, 0:template_size])))\n",
    "print(np.max(abs(scipy.signal.fftconvolve(templates[0, :], signals[0, :], mode='valid'))))\n",
    "\n",
    "track_len = 4096\n",
    "aug_signal = np.zeros(signals[0, :].shape, dtype=np.complex64) \n",
    "\n",
    "aug_signal[0:track_len] = signals[0, 0:track_len]\n",
    "\n",
    "print(np.max(abs(scipy.signal.fftconvolve(templates[0, :], aug_signal, mode='valid'))))"
   ]
  },
  {
   "cell_type": "code",
   "execution_count": null,
   "id": "7471b2bb",
   "metadata": {},
   "outputs": [],
   "source": [
    "rng = np.random.default_rng()\n",
    "slicesize = 8192\n",
    "ntrack = 1000\n",
    "mean_length = 3\n",
    "track_lengths = np.zeros(ntrack, dtype=np.int32)\n",
    "\n",
    "for n in range(ntrack):\n",
    "    track_lengths[n] = GetTrackLength(rng, slicesize, mean=mean_length, signal_length=signals.shape[-1])"
   ]
  },
  {
   "cell_type": "code",
   "execution_count": null,
   "id": "1fef57bb",
   "metadata": {},
   "outputs": [],
   "source": [
    "plt.hist(track_lengths, 32)"
   ]
  },
  {
   "cell_type": "code",
   "execution_count": null,
   "id": "84e661ba",
   "metadata": {},
   "outputs": [],
   "source": [
    "noise_samples = 5\n",
    "#shape = signals.shape\n",
    "#size = signals.size\n",
    "\n",
    "track_lengths = np.arange(512, 2*8192 + 512, 512)\n",
    "ntrack = track_lengths.size\n",
    "\n",
    "nsignals = signals.shape[0]\n",
    "\n",
    "noise_scores = np.zeros((ntrack * noise_samples, nsignals, nsignals))\n",
    "signal_scores = np.zeros((ntrack * noise_samples, nsignals, nsignals))\n",
    "\n",
    "for i, track_len in enumerate(track_lengths):\n",
    "    for n in range(noise_samples):\n",
    "        print(track_len)\n",
    "        aug_signals = np.zeros((signals.shape[0], track_len), dtype=np.complex64) \n",
    "            \n",
    "        aug_signals = signals[:, 0:track_len]\n",
    "        \n",
    "        norm = 1 / np.sqrt(var * np.diag(np.matmul(aug_signals, aug_signals.conjugate().T)))\n",
    "        \n",
    "        #print(norm.shape, aug_signals.shape, templates.shape)\n",
    "        \n",
    "        templates = aug_signals * norm.reshape((norm.size, 1)).repeat(track_len, axis=-1)\n",
    "        \n",
    "        noisy_data = aug_signals + noise(rng, var, aug_signals.size, aug_signals.shape)\n",
    "\n",
    "        #x = abs(scipy.signal.fftconvolve(noisy_data, templates, axes=-1, mode='valid'))\n",
    "        x = abs(np.matmul(noisy_data, templates.conjugate().T))\n",
    "        print(x)\n",
    "        signal_scores[i, :] = x\n",
    "\n",
    "    \n",
    "        x = abs(np.matmul(noise(rng, var, templates.size, templates.shape), templates.conjugate().T))\n",
    "        #x = abs(np.matmul(noise(rng, var, size, shape)[:,0:template_size], templates.conjugate().T))\n",
    "        #print(np.max(x, axis=-1), np.mean(x))\n",
    "        print(x)\n",
    "        noise_scores[i, :] = x\n",
    "        \n",
    "        if i % 10 == 9:\n",
    "            print(f'{i + 1} / {ntrack}')\n",
    "\n",
    "result_name = '210731_matched_filter_scores_mt3_10K.npz'\n",
    "\n",
    "np.savez(os.path.join(RESULTPATH, result_name), signal=signal_scores, noise=noise_scores, track_len=track_lengths)\n",
    "        "
   ]
  },
  {
   "cell_type": "code",
   "execution_count": null,
   "id": "b387fdc5",
   "metadata": {},
   "outputs": [],
   "source": []
  },
  {
   "cell_type": "code",
   "execution_count": null,
   "id": "6b609cd3",
   "metadata": {},
   "outputs": [],
   "source": [
    "print(track_lengths)"
   ]
  },
  {
   "cell_type": "code",
   "execution_count": null,
   "id": "3ab16153",
   "metadata": {},
   "outputs": [],
   "source": []
  }
 ],
 "metadata": {
  "kernelspec": {
   "display_name": "Python 3",
   "language": "python",
   "name": "python3"
  },
  "language_info": {
   "codemirror_mode": {
    "name": "ipython",
    "version": 3
   },
   "file_extension": ".py",
   "mimetype": "text/x-python",
   "name": "python",
   "nbconvert_exporter": "python",
   "pygments_lexer": "ipython3",
   "version": "3.8.10"
  }
 },
 "nbformat": 4,
 "nbformat_minor": 5
}
