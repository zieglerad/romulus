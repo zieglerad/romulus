{
 "cells": [
  {
   "cell_type": "code",
   "execution_count": null,
   "id": "6a4c4d1b",
   "metadata": {},
   "outputs": [],
   "source": [
    "import numpy as np\n",
    "import matplotlib.pyplot as plt\n",
    "import seaborn as sns\n",
    "import pandas as pd\n",
    "import torch\n",
    "import h5py\n",
    "import os\n",
    "import sys\n",
    "import scipy\n",
    "import damselfly as df\n",
    "import scipy.signal\n",
    "import scipy.stats\n",
    "\n",
    "PATH = '/storage/home/adz6/group/project'\n",
    "RESULTPATH = os.path.join(PATH, 'results/damselfly')\n",
    "PLOTPATH = os.path.join(PATH, 'plots/damselfly')\n",
    "DATAPATH = os.path.join(PATH, 'damselfly/data/datasets')\n",
    "SIMDATAPATH = os.path.join(PATH, 'damselfly/data/sim_data')\n",
    "\n",
    "\"\"\"\n",
    "Date: 6/25/2021\n",
    "Description: template\n",
    "\"\"\"\n",
    "\n",
    "\n",
    "dataset_file = '211015_84_1d2sl_eval.h5'\n",
    "h5datafile = h5py.File(os.path.join(SIMDATAPATH, dataset_file), 'r')\n",
    "\n",
    "var = 1.38e-23 * 10 * 50 * 200e6\n",
    "\n",
    "signals = h5datafile['data'][:]\n",
    "print(signals.shape)\n"
   ]
  },
  {
   "cell_type": "code",
   "execution_count": null,
   "id": "0c26aa1c",
   "metadata": {},
   "outputs": [],
   "source": [
    "signals = signals[:, 0:8192]"
   ]
  },
  {
   "cell_type": "markdown",
   "id": "9ec116ee",
   "metadata": {},
   "source": [
    "# compute analytical ROC curves for different mismatch"
   ]
  },
  {
   "cell_type": "code",
   "execution_count": null,
   "id": "95b4cb77",
   "metadata": {},
   "outputs": [],
   "source": [
    "x_rice = np.linspace(0, 20, 301)\n",
    "\n",
    "norm_mat = 1 / np.sqrt(var * np.diag(np.matmul(signals, signals.conjugate().T)))\n",
    "\n",
    "templates = norm_mat.reshape((*norm_mat.shape, 1)).repeat(signals.shape[-1], axis=-1) * signals\n",
    "\n",
    "mean_score_matrix = abs(np.matmul(templates, signals.conjugate().T))\n",
    "print('scores done')\n",
    "#length_fractions = np.arange(64, 16384 + 64, 64) / 16384 # track_len / signal_len\n",
    "length_fractions = np.arange(64, 8192 + 64, 64) / 8192 # track_len / signal_len\n",
    "\n",
    "# get scaled MF scores with sqrt(track_len/signal_len) * score_matrix\n",
    "scaled_b = np.diag(mean_score_matrix).reshape((mean_score_matrix.shape[0], 1)).repeat(length_fractions.size, axis=-1) * np.sqrt(length_fractions).reshape((1, length_fractions.size)).repeat(mean_score_matrix.shape[0], axis=0)\n",
    "\n",
    "print('b scaling done')\n"
   ]
  },
  {
   "cell_type": "code",
   "execution_count": null,
   "id": "497a288a",
   "metadata": {},
   "outputs": [],
   "source": [
    "np.arange(10, 4, -1) / 10"
   ]
  },
  {
   "cell_type": "code",
   "execution_count": null,
   "id": "d0912c8a",
   "metadata": {},
   "outputs": [],
   "source": [
    "import scipy.integrate\n",
    "#mismatch_array = np.arange(5, 11, 1) / 10\n",
    "mismatch_array = np.arange(10, 4, -1) / 10\n",
    "mean = 4\n",
    "#x_expon = np.arange(64, 16384 + 64, 64) / 16384\n",
    "x_expon = np.arange(64, 8192 + 64, 64) / 8192\n",
    "\n",
    "for mean_mismatch in mismatch_array:\n",
    "    b_scaled_test = mean_mismatch * scaled_b.reshape((*scaled_b.shape, 1)).repeat(x_rice.size, axis=2)\n",
    "\n",
    "    # TPR is the Rician CDF of the scaled mf score\n",
    "    test_cdf = scipy.stats.rice.cdf(x_rice.reshape(1,1,x_rice.size).repeat(scaled_b.shape[0],axis=0).repeat(scaled_b.shape[1],axis=1), b_scaled_test)\n",
    "\n",
    "    print('cdf done')\n",
    "\n",
    "    # weighted average of the CDF functions based on exponential distribution. \n",
    "    # Normalize probabilities to the max slice considered.\n",
    "    y_expon = scipy.stats.expon.pdf(x_expon, loc=0, scale=mean)\n",
    "\n",
    "    area = scipy.stats.expon.cdf(x_expon, loc=0, scale=mean)[-1]\n",
    "\n",
    "    exponential_weights = y_expon/area\n",
    "\n",
    "    weighted_cdf = np.average(test_cdf, axis=1, weights=exponential_weights)\n",
    "    mean_cdf = weighted_cdf.mean(axis=0)\n",
    "\n",
    "    # noise distribution\n",
    "    x_rayleigh = np.linspace(0, 20, 301)\n",
    "    y_rayleigh = scipy.stats.rice.cdf(x_rayleigh, 0)\n",
    "\n",
    "    np.savez(os.path.join(RESULTPATH, 'roc', f'211018_analytical_mf_roc_df84_mt{mean}_mismatch{mean_mismatch}'), fpr=1-y_rayleigh, tpr=1-mean_cdf)\n",
    "\n",
    "\n",
    "    \n",
    "    "
   ]
  },
  {
   "cell_type": "markdown",
   "id": "04f85502",
   "metadata": {},
   "source": [
    "# Assume Template Length Will Match Signal Length (score decreases by 1/sqrt(N))"
   ]
  },
  {
   "cell_type": "code",
   "execution_count": null,
   "id": "7f9095e1",
   "metadata": {},
   "outputs": [],
   "source": [
    "mean_assumed_mismatch = 0.5\n",
    "x_rice = np.linspace(0, 20, 301)\n",
    "\n",
    "norm_mat = 1 / np.sqrt(var * np.diag(np.matmul(signals, signals.conjugate().T)))\n",
    "\n",
    "templates = norm_mat.reshape((*norm_mat.shape, 1)).repeat(signals.shape[-1], axis=-1) * signals\n",
    "\n",
    "mean_score_matrix = abs(np.matmul(templates, signals.conjugate().T))\n",
    "print('scores done')\n",
    "length_fractions = np.arange(64, 16384 + 64, 64) / 16384 # track_len / signal_len\n",
    "\n",
    "# get scaled MF scores with sqrt(track_len/signal_len) * score_matrix\n",
    "scaled_b = np.diag(mean_score_matrix).reshape((mean_score_matrix.shape[0], 1)).repeat(length_fractions.size, axis=-1) * np.sqrt(length_fractions).reshape((1, length_fractions.size)).repeat(mean_score_matrix.shape[0], axis=0)\n",
    "\n",
    "print('b scaling done')\n",
    "\n"
   ]
  },
  {
   "cell_type": "code",
   "execution_count": null,
   "id": "7e625c3c",
   "metadata": {},
   "outputs": [],
   "source": [
    "b_scaled_test = mean_assumed_mismatch * scaled_b.reshape((*scaled_b.shape, 1)).repeat(x_rice.size, axis=2)\n",
    "\n",
    "# TPR is the Rician CDF of the scaled mf score\n",
    "test_cdf = scipy.stats.rice.cdf(x_rice.reshape(1,1,x_rice.size).repeat(scaled_b.shape[0],axis=0).repeat(scaled_b.shape[1],axis=1), b_scaled_test)\n",
    "\n",
    "print('cdf done')"
   ]
  },
  {
   "cell_type": "code",
   "execution_count": null,
   "id": "3077da00",
   "metadata": {},
   "outputs": [],
   "source": [
    "#test_cdf_with_mismatch = test_cdf\n",
    "#test_cdf_without_mismatch = test_cdf\n",
    "test_cdf_bigger_mismatch = test_cdf"
   ]
  },
  {
   "cell_type": "code",
   "execution_count": null,
   "id": "c85e7779",
   "metadata": {},
   "outputs": [],
   "source": [
    "import scipy.integrate\n",
    "x_expon = np.arange(64, 16384 + 64, 64) / 16384\n",
    "\n",
    "mean = 4\n",
    "\n",
    "# weighted average of the CDF functions based on exponential distribution. \n",
    "# Normalize probabilities to the max slice considered.\n",
    "y_expon = scipy.stats.expon.pdf(x_expon, loc=0, scale=mean)\n",
    "\n",
    "#plt.plot(x_expon, y_expon)\n",
    "#plt.yscale('log')\n",
    "\n",
    "area = scipy.stats.expon.cdf(x_expon, loc=0, scale=mean)[-1]\n",
    "\n",
    "#plt.plot(x_expon, y_expon/area)\n",
    "#plt.yscale('log')\n",
    "\n",
    "\n",
    "exponential_weights = y_expon/area\n",
    "\n",
    "#print(scipy.integrate.trapezoid(y_expon/area, x_expon))\n",
    "\n",
    "\n",
    "#weighted_cdf_no_mismatch = np.average(test_cdf_without_mismatch, axis=1, weights=exponential_weights)\n",
    "#mean_cdf_no_mismatch = weighted_cdf_no_mismatch.mean(axis=0)\n",
    "\n",
    "#weighted_cdf_mismatch = np.average(test_cdf_with_mismatch, axis=1, weights=exponential_weights)\n",
    "#mean_cdf_mismatch = weighted_cdf_mismatch.mean(axis=0)\n",
    "\n",
    "\n",
    "weighted_cdf_big_mismatch = np.average(test_cdf_bigger_mismatch, axis=1, weights=exponential_weights)\n",
    "mean_cdf_big_mismatch = weighted_cdf_big_mismatch.mean(axis=0)\n",
    "\n",
    "# noise distribution\n",
    "x_rayleigh = np.linspace(0, 20, 301)\n",
    "y_rayleigh = scipy.stats.rice.cdf(x_rayleigh, 0)\n",
    "\n",
    "#np.savez(os.path.join(RESULTPATH, 'roc', f'210803_analytical_mf_roc_df84_mt{mean}'), fpr=1-y_rayleigh, tpr=1-mean_cdf)\n",
    "\n",
    "\n",
    "sns.set_theme(style='whitegrid', context='talk')\n",
    "plt.figure(figsize=(8,5))\n",
    "\n",
    "#plt.plot(1-y_rayleigh, 1-mean_cdf_no_mismatch, label='mismatch=1.0')\n",
    "#plt.plot(1-y_rayleigh, 1-mean_cdf_mismatch, label='mismatch=0.9')\n",
    "plt.plot(1-y_rayleigh, 1-mean_cdf_big_mismatch, label='mismatch=0.8')\n",
    "\n",
    "plt.title(r'ROC Curve for MF with Mismatch, $\\mu_t=$' + f'{mean}')\n",
    "plt.xlabel('FPR')\n",
    "plt.ylabel('TPR')\n",
    "#plt.xscale('log')\n",
    "plt.tight_layout()\n",
    "plt.legend(loc=4)\n",
    "\n",
    "#plt.savefig(os.path.join(PLOTPATH, '210805_analytic_ROC_with_mismatch_zoom.png'))\n",
    "#print(-1 * scipy.integrate.trapezoid(1-mean_cdf_mismatch, 1-y_rayleigh))\n",
    "#print(-1 * scipy.integrate.trapezoid(1-mean_cdf_no_mismatch, 1-y_rayleigh))\n",
    "print(-1 * scipy.integrate.trapezoid(1-mean_cdf_big_mismatch, 1-y_rayleigh))"
   ]
  },
  {
   "cell_type": "markdown",
   "id": "645f0780",
   "metadata": {},
   "source": [
    "# use fixed template lengths (score decreases by 1/N)"
   ]
  },
  {
   "cell_type": "code",
   "execution_count": null,
   "id": "8dd21a6b",
   "metadata": {},
   "outputs": [],
   "source": [
    "template_len = 16384\n",
    "\n",
    "#signals = signals[:, 0:signal_len]\n",
    "\n",
    "norm_mat = 1 / np.sqrt(var * np.diag(np.matmul(signals[:, 0:template_len], signals[:, 0:template_len].conjugate().T)))\n",
    "\n",
    "templates = norm_mat.reshape((*norm_mat.shape, 1)).repeat(signals.shape[-1], axis=-1) * np.pad(signals[:, 0:template_len], ((0,0), (0, signals.shape[-1] - template_len)), mode='constant')\n",
    "\n",
    "mean_score_matrix = abs(np.matmul(templates, signals.conjugate().T))\n",
    "print('scores done')\n",
    "length_fractions = np.arange(64, 16384 + 64, 64) / 16384 # track_len / signal_len\n",
    "\n",
    "scaled_b = np.diag(mean_score_matrix).reshape((mean_score_matrix.shape[0], 1)).repeat(length_fractions.size, axis=-1) * length_fractions.reshape((1, length_fractions.size)).repeat(mean_score_matrix.shape[0], axis=0)\n",
    "\n",
    "\n",
    "b_scaled_test = scaled_b.reshape((*scaled_b.shape, 1)).repeat(x_rice.size, axis=2)\n",
    "\n",
    "# TPR is the Rician CDF of the scaled mf score\n",
    "test_cdf = scipy.stats.rice.cdf(x_rice.reshape(1,1,x_rice.size).repeat(scaled_b.shape[0],axis=0).repeat(scaled_b.shape[1],axis=1), b_scaled_test)\n",
    "\n",
    "print('cdf done')"
   ]
  },
  {
   "cell_type": "code",
   "execution_count": null,
   "id": "4a9c600b",
   "metadata": {},
   "outputs": [],
   "source": [
    "import scipy.integrate\n",
    "x_expon = np.arange(64, 16384 + 64, 64) / 16384\n",
    "\n",
    "mean = 6\n",
    "\n",
    "# weighted average of the CDF functions based on exponential distribution. \n",
    "# Normalize probabilities to the max slice considered.\n",
    "y_expon = scipy.stats.expon.pdf(x_expon, loc=0, scale=mean)\n",
    "\n",
    "#plt.plot(x_expon, y_expon)\n",
    "#plt.yscale('log')\n",
    "\n",
    "area = scipy.stats.expon.cdf(x_expon, loc=0, scale=mean)[-1]\n",
    "\n",
    "#plt.plot(x_expon, y_expon/area)\n",
    "#plt.yscale('log')\n",
    "\n",
    "\n",
    "exponential_weights = y_expon/area\n",
    "\n",
    "print(scipy.integrate.trapezoid(y_expon/area, x_expon))\n",
    "\n",
    "weighted_cdf = np.average(test_cdf, axis=1, weights=exponential_weights)\n",
    "mean_cdf = weighted_cdf.mean(axis=0)\n",
    "\n",
    "# noise distribution\n",
    "x_rayleigh = np.linspace(0, 20, 301)\n",
    "y_rayleigh = scipy.stats.rice.cdf(x_rayleigh, 0)\n",
    "\n",
    "np.savez(os.path.join(RESULTPATH, 'roc', f'210803_analytical_mf_roc_df84_mt{mean}_templatesize16384'), fpr=1-y_rayleigh, tpr=1-mean_cdf)\n",
    "\n",
    "\n",
    "sns.set_theme(style='whitegrid', context='talk')\n",
    "plt.figure(figsize=(8,5))\n",
    "\n",
    "plt.plot(1-y_rayleigh, 1-mean_cdf)\n",
    "\n",
    "plt.title(r'ROC Curve for Ideal MF, $\\mu_t=$' + f'{mean}')\n",
    "plt.xlabel('FPR')\n",
    "plt.ylabel('TPR')\n",
    "plt.tight_layout()\n",
    "\n",
    "print(-1 * scipy.integrate.trapezoid(1-mean_cdf, 1-y_rayleigh))"
   ]
  },
  {
   "cell_type": "code",
   "execution_count": null,
   "id": "a170eb4a",
   "metadata": {},
   "outputs": [],
   "source": [
    "\n",
    "print(abs(np.vdot(templates[0, :], np.pad(signals[0, 0:4096], (0, 8192 + 4096)))))\n",
    "print(abs(np.vdot(templates[0, :], np.pad(signals[0, 0:16384], (0, 0)))))\n",
    "plt.plot(templates[0, :].real)\n",
    "#plt.plot(signals[0, :].real)"
   ]
  },
  {
   "cell_type": "code",
   "execution_count": null,
   "id": "6191399d",
   "metadata": {},
   "outputs": [],
   "source": [
    "test_signal = signals[0, :]\n",
    "test_template = templates[0, :]"
   ]
  },
  {
   "cell_type": "code",
   "execution_count": null,
   "id": "0577a8c6",
   "metadata": {},
   "outputs": [],
   "source": [
    "sns.set_theme(style='whitegrid', context='talk')\n",
    "plt.figure(figsize=(8,5))\n",
    "b = scaled_b[0, 64]\n",
    "rice_dist = scipy.stats.rice(b)\n",
    "ray_dist = scipy.stats.rice(0)\n",
    "x_rice = np.linspace(0, 20, 301)\n",
    "y_rice = scipy.stats.rice.pdf(x_rice, b)\n",
    "\n",
    "x_rayleigh = np.linspace(0, 20, 301)\n",
    "y_rayleigh = scipy.stats.rice.pdf(x_rayleigh, 0)\n",
    "\n",
    "\n",
    "\n",
    "\n",
    "plt.plot(x_rice, y_rice, label='Rician')\n",
    "plt.plot(x_rayleigh, y_rayleigh, label='Rayleigh')\n",
    "plt.xlim(-1, 13)\n",
    "plt.legend(loc=0)\n",
    "plt.xlabel('Matched Filter Score')\n",
    "plt.ylabel('Probability Density')\n",
    "plt.tight_layout()\n",
    "#plt.savefig(os.path.join(PLOTPATH, '210803_mf_rician_short_track.png'))"
   ]
  },
  {
   "cell_type": "code",
   "execution_count": null,
   "id": "a697ab14",
   "metadata": {},
   "outputs": [],
   "source": [
    "b = scaled_b[0, 128]\n",
    "rice_dist = scipy.stats.rice(b)\n",
    "ray_dist = scipy.stats.rice(0)\n",
    "\n",
    "x_rice = np.linspace(0, 20, 301)\n",
    "y_rice = scipy.stats.rice.cdf(x_rice, b)\n",
    "\n",
    "x_rayleigh = np.linspace(0, 20, 301)\n",
    "y_rayleigh = scipy.stats.rice.cdf(x_rayleigh, 0)\n",
    "\n",
    "plt.plot(x_rice, 1-y_rice)\n",
    "\n",
    "plt.plot(x_rayleigh, 1-y_rayleigh)\n",
    "\n",
    "\n",
    "\n",
    "\n"
   ]
  },
  {
   "cell_type": "code",
   "execution_count": null,
   "id": "0c7a1f1b",
   "metadata": {},
   "outputs": [],
   "source": [
    "plt.plot(1-y_rayleigh, 1-y_rice)"
   ]
  },
  {
   "cell_type": "code",
   "execution_count": null,
   "id": "b1bc2730",
   "metadata": {},
   "outputs": [],
   "source": [
    "b_scaled_test = scaled_b.reshape((*scaled_b.shape, 1)).repeat(x_rice.size, axis=2)"
   ]
  },
  {
   "cell_type": "code",
   "execution_count": null,
   "id": "a3f373f8",
   "metadata": {},
   "outputs": [],
   "source": [
    "test_cdf = scipy.stats.rice.cdf(x_rice.reshape(1,1,x_rice.size).repeat(scaled_b.shape[0],axis=0).repeat(scaled_b.shape[1],axis=1), b_scaled_test)"
   ]
  },
  {
   "cell_type": "code",
   "execution_count": null,
   "id": "02228f81",
   "metadata": {},
   "outputs": [],
   "source": [
    "test_cdf.shape"
   ]
  },
  {
   "cell_type": "code",
   "execution_count": null,
   "id": "c4aef0e8",
   "metadata": {},
   "outputs": [],
   "source": [
    "plt.plot(x_rayleigh, y_rayleigh)\n",
    "plt.plot(x_rice, test_cdf[0, 128, :])"
   ]
  },
  {
   "cell_type": "code",
   "execution_count": null,
   "id": "d610f48f",
   "metadata": {},
   "outputs": [],
   "source": []
  },
  {
   "cell_type": "code",
   "execution_count": null,
   "id": "6d10bd3b",
   "metadata": {},
   "outputs": [],
   "source": [
    "weighted_cdf = np.average(test_cdf, axis=1, weights=exponential_weights)"
   ]
  },
  {
   "cell_type": "code",
   "execution_count": null,
   "id": "fbbbef62",
   "metadata": {},
   "outputs": [],
   "source": []
  },
  {
   "cell_type": "code",
   "execution_count": null,
   "id": "a7b61352",
   "metadata": {},
   "outputs": [],
   "source": [
    "sns.set_theme(style='whitegrid', context='talk')\n",
    "plt.figure(figsize=(8,5))\n",
    "\n",
    "plt.plot(1-y_rayleigh, 1-mean_cdf)\n",
    "\n",
    "plt.title(r'ROC Curve for Ideal MF, $\\mu_t=4$')\n",
    "plt.xlabel('FPR')\n",
    "plt.ylabel('TPR')\n",
    "plt.tight_layout()\n",
    "plt.savefig(os.path.join(PLOTPATH, '210803_ideal_mf_roc_curve.png'))"
   ]
  },
  {
   "cell_type": "code",
   "execution_count": null,
   "id": "2c8ffd85",
   "metadata": {},
   "outputs": [],
   "source": [
    "np.savez(os.path.join(RESULTPATH, 'roc', '210803_analytical_mf_roc_df84'), fpr=1-y_rayleigh, tpr=1-mean_cdf)"
   ]
  },
  {
   "cell_type": "code",
   "execution_count": null,
   "id": "8f00518e",
   "metadata": {},
   "outputs": [],
   "source": [
    "\n",
    "N = 1024\n",
    "\n",
    "Ntrial = 1000\n",
    "signal = signals[3489, 0:N]\n",
    "print(signal.shape)\n",
    "template = signal * 1 / np.sqrt(var * np.vdot(signal, signal))\n",
    "\n",
    "list1 = []\n",
    "for m in range(Ntrial):\n",
    "\n",
    "    n = noise(rng, var, N, N)\n",
    "    list1.append(abs(np.vdot(signal[0:N] + n, template[0:N])))\n",
    "    \n",
    "\n",
    "b = abs(np.vdot(signal[0:], template[0:]))\n",
    "rice_dist = scipy.stats.rice(b)\n",
    "\n",
    "print(abs(np.vdot(signal[0:N], template[0:N])))\n",
    "\n",
    "#print(abs(np.vdot(signal[0:], template[0:])))\n",
    "\n"
   ]
  },
  {
   "cell_type": "code",
   "execution_count": null,
   "id": "73923a48",
   "metadata": {},
   "outputs": [],
   "source": [
    "plt.plot(x, scipy.stats.rice.pdf(x, b))\n"
   ]
  },
  {
   "cell_type": "code",
   "execution_count": null,
   "id": "f9ef8fae",
   "metadata": {},
   "outputs": [],
   "source": [
    "hist = plt.hist(np.array(list1))"
   ]
  },
  {
   "cell_type": "code",
   "execution_count": null,
   "id": "ccf35088",
   "metadata": {},
   "outputs": [],
   "source": [
    "metadata = {}\n",
    "for n, dset in enumerate(h5datafile['meta']):\n",
    "    metadata[dset] = h5datafile['meta'][dset][:]\n",
    "    \n",
    "metadata = pd.DataFrame(metadata)\n",
    "\n"
   ]
  },
  {
   "cell_type": "code",
   "execution_count": null,
   "id": "a41fb11c",
   "metadata": {},
   "outputs": [],
   "source": []
  },
  {
   "cell_type": "code",
   "execution_count": null,
   "id": "0337ccfb",
   "metadata": {},
   "outputs": [],
   "source": [
    "template_size = 8192\n",
    "\n",
    "norm = 1 / np.sqrt(var * np.diag(np.matmul(signals[:, 0:template_size], signals[:, 0:template_size].conjugate().T)))\n",
    "\n",
    "templates = signals[:, 0:template_size] * norm.reshape((norm.size, 1)).repeat(template_size, axis=-1)"
   ]
  },
  {
   "cell_type": "code",
   "execution_count": null,
   "id": "6f27e3c4",
   "metadata": {},
   "outputs": [],
   "source": [
    "print(abs(np.vdot(templates[0, :], signals[0, 0:template_size])))\n",
    "print(np.max(abs(scipy.signal.fftconvolve(templates[0, :], signals[0, :], mode='valid'))))\n",
    "\n",
    "track_len = 4096\n",
    "aug_signal = np.zeros(signals[0, :].shape, dtype=np.complex64) \n",
    "\n",
    "aug_signal[0:track_len] = signals[0, 0:track_len]\n",
    "\n",
    "print(np.max(abs(scipy.signal.fftconvolve(templates[0, :], aug_signal, mode='valid'))))"
   ]
  },
  {
   "cell_type": "code",
   "execution_count": null,
   "id": "7471b2bb",
   "metadata": {},
   "outputs": [],
   "source": [
    "rng = np.random.default_rng()\n",
    "slicesize = 8192\n",
    "ntrack = 1000\n",
    "mean_length = 3\n",
    "track_lengths = np.zeros(ntrack, dtype=np.int32)\n",
    "\n",
    "for n in range(ntrack):\n",
    "    track_lengths[n] = GetTrackLength(rng, slicesize, mean=mean_length, signal_length=signals.shape[-1])"
   ]
  },
  {
   "cell_type": "code",
   "execution_count": null,
   "id": "1fef57bb",
   "metadata": {},
   "outputs": [],
   "source": [
    "plt.hist(track_lengths, 32)"
   ]
  },
  {
   "cell_type": "code",
   "execution_count": null,
   "id": "84e661ba",
   "metadata": {},
   "outputs": [],
   "source": [
    "noise_samples = 5\n",
    "#shape = signals.shape\n",
    "#size = signals.size\n",
    "\n",
    "track_lengths = np.arange(512, 2*8192 + 512, 512)\n",
    "ntrack = track_lengths.size\n",
    "\n",
    "nsignals = signals.shape[0]\n",
    "\n",
    "noise_scores = np.zeros((ntrack * noise_samples, nsignals, nsignals))\n",
    "signal_scores = np.zeros((ntrack * noise_samples, nsignals, nsignals))\n",
    "\n",
    "for i, track_len in enumerate(track_lengths):\n",
    "    for n in range(noise_samples):\n",
    "        print(track_len)\n",
    "        aug_signals = np.zeros((signals.shape[0], track_len), dtype=np.complex64) \n",
    "            \n",
    "        aug_signals = signals[:, 0:track_len]\n",
    "        \n",
    "        norm = 1 / np.sqrt(var * np.diag(np.matmul(aug_signals, aug_signals.conjugate().T)))\n",
    "        \n",
    "        #print(norm.shape, aug_signals.shape, templates.shape)\n",
    "        \n",
    "        templates = aug_signals * norm.reshape((norm.size, 1)).repeat(track_len, axis=-1)\n",
    "        \n",
    "        noisy_data = aug_signals + noise(rng, var, aug_signals.size, aug_signals.shape)\n",
    "\n",
    "        #x = abs(scipy.signal.fftconvolve(noisy_data, templates, axes=-1, mode='valid'))\n",
    "        x = abs(np.matmul(noisy_data, templates.conjugate().T))\n",
    "        print(x)\n",
    "        signal_scores[i, :] = x\n",
    "\n",
    "    \n",
    "        x = abs(np.matmul(noise(rng, var, templates.size, templates.shape), templates.conjugate().T))\n",
    "        #x = abs(np.matmul(noise(rng, var, size, shape)[:,0:template_size], templates.conjugate().T))\n",
    "        #print(np.max(x, axis=-1), np.mean(x))\n",
    "        print(x)\n",
    "        noise_scores[i, :] = x\n",
    "        \n",
    "        if i % 10 == 9:\n",
    "            print(f'{i + 1} / {ntrack}')\n",
    "\n",
    "result_name = '210731_matched_filter_scores_mt3_10K.npz'\n",
    "\n",
    "np.savez(os.path.join(RESULTPATH, result_name), signal=signal_scores, noise=noise_scores, track_len=track_lengths)\n",
    "        "
   ]
  },
  {
   "cell_type": "code",
   "execution_count": null,
   "id": "b387fdc5",
   "metadata": {},
   "outputs": [],
   "source": []
  },
  {
   "cell_type": "code",
   "execution_count": null,
   "id": "6b609cd3",
   "metadata": {},
   "outputs": [],
   "source": [
    "print(track_lengths)"
   ]
  },
  {
   "cell_type": "code",
   "execution_count": null,
   "id": "3ab16153",
   "metadata": {},
   "outputs": [],
   "source": []
  }
 ],
 "metadata": {
  "kernelspec": {
   "display_name": "Python 3",
   "language": "python",
   "name": "python3"
  },
  "language_info": {
   "codemirror_mode": {
    "name": "ipython",
    "version": 3
   },
   "file_extension": ".py",
   "mimetype": "text/x-python",
   "name": "python",
   "nbconvert_exporter": "python",
   "pygments_lexer": "ipython3",
   "version": "3.8.10"
  }
 },
 "nbformat": 4,
 "nbformat_minor": 5
}
