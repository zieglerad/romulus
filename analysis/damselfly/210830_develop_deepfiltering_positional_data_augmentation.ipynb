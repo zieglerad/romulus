{
 "cells": [
  {
   "cell_type": "code",
   "execution_count": null,
   "id": "33fc93a9",
   "metadata": {},
   "outputs": [],
   "source": [
    "# import numpy as np\n",
    "import matplotlib.pyplot as plt\n",
    "import seaborn as sns\n",
    "import pandas as pd\n",
    "import torch\n",
    "import h5py\n",
    "import os\n",
    "import sys\n",
    "import scipy\n",
    "import damselfly as df\n",
    "import scipy.signal\n",
    "import scipy.stats\n",
    "import pickle as pkl\n",
    "import scipy.interpolate\n",
    "\n",
    "PATH = '/storage/home/adz6/group/project'\n",
    "RESULTPATH = os.path.join(PATH, 'results/damselfly')\n",
    "PLOTPATH = os.path.join(PATH, 'plots/damselfly')\n",
    "DATAPATH = os.path.join(PATH, 'damselfly/data/datasets')\n",
    "SIMDATAPATH = os.path.join(PATH, 'damselfly/data/sim_data')\n",
    "RAWDATAPATH = os.path.join(PATH, 'sim_data')\n",
    "\n",
    "\"\"\"\n",
    "Date: 6/25/2021\n",
    "Description: template\n",
    "\"\"\"\n",
    "\n",
    "gradB_file = '210830_gradB_motion_Trap_V00_00_10.pkl'\n",
    "\n",
    "with open(os.path.join(RAWDATAPATH, gradB_file), 'rb') as infile:\n",
    "    gradB_data = pkl.load(infile)\n",
    "\n",
    "dataset_file = '210729_df_84/210726_df_84_1.h5'\n",
    "h5datafile = h5py.File(os.path.join(PATH, 'sim_data/datasets', dataset_file), 'r')\n",
    "\n",
    "var = 1.38e-23 * 10 * 50 * 200e6\n",
    "\n",
    "def SumDataLocust(array_data, xpos, ypos, r=0.1, f=25.86e9, antispiral=False, nch=60):\n",
    "    \n",
    "    angles = np.arange(0, nch, 1) * 360 // 60\n",
    "    xx, yy = np.meshgrid(xpos, ypos)\n",
    "    xx, yy = np.expand_dims(xx, axis=0).repeat(angles.size, axis=0), np.expand_dims(yy, axis=0).repeat(angles.size, axis=0)\n",
    "\n",
    "    xantenna = (r * np.cos(np.radians(-1 * angles))).reshape((angles.size, 1, 1)).repeat(xpos.size, axis=1).repeat(xpos.size, axis=2)\n",
    "    yantenna = (r * np.sin(np.radians(-1 * angles))).reshape((angles.size, 1, 1)).repeat(ypos.size, axis=1).repeat(ypos.size, axis=2)\n",
    "\n",
    "    xdist = xantenna - xx\n",
    "    ydist = yantenna - yy\n",
    "    \n",
    "    dist_grid = np.sqrt(xdist**2 + ydist**2)\n",
    "    \n",
    "    beamforming_phases = np.exp(-1j * 2 * np.pi * dist_grid * f / 3e8)\n",
    "    \n",
    "    if antispiral:\n",
    "        antispiral_phase = np.exp(1j * np.radians( 1 * angles)).reshape((angles.size, 1)).repeat(array_data.shape[-1], axis=-1)\n",
    "        return np.matmul(beamforming_phases.T, antispiral_phase * array_data)\n",
    "    else:\n",
    "        return np.matmul(beamforming_phases.T, array_data)\n",
    "\n",
    "    \n",
    "def ShiftSignalPosition(array_data, x_pos, y_pos, r=0.1, f=25.86e9, nch=60):\n",
    "    \n",
    "    angles = np.arange(0, nch, 1) * 360 // 60\n",
    "    xantenna = r * np.cos(np.radians(angles))\n",
    "    yantenna = r * np.sin(np.radians(angles))\n",
    "    \n",
    "    antenna_phase = 2 * np.pi * np.sqrt((xantenna - x_pos) ** 2 + (yantenna - y_pos) ** 2) / (3e8 / f)\n",
    "    \n",
    "    relative_amplitude = (r ** 2) / ((xantenna - x_pos) ** 2 + (yantenna - y_pos) ** 2)\n",
    "    \n",
    "    correction = relative_amplitude * np.exp(1j * antenna_phase)\n",
    "    \n",
    "    corrected_array_data = correction.reshape((1, correction.size, 1)).repeat(array_data.shape[0], axis=0).repeat(array_data.shape[-1], axis=-1) * array_data\n",
    "    \n",
    "    return corrected_array_data\n",
    "\n",
    "\n",
    "def ShiftSignalPositionGradB(array_data, angle, x_pos, y_pos, interpolator, r=0.1, f=25.86e9, nch=60, fsamp=200e6):\n",
    "    \n",
    "    nslice = array_data.shape[0]\n",
    "    nsamp = array_data.shape[-1]\n",
    "    nch = array_data.shape[1]\n",
    "    t = (np.arange(0, nslice * nsamp, 1) / fsamp).reshape(nslice, 1, nsamp).repeat(nch, axis=1)\n",
    "    \n",
    "    angles_antenna = np.arange(0, nch, 1) * 360 // 60\n",
    "    xantenna = r * np.cos(np.radians(angles_antenna)).reshape((1, nch, 1)).repeat(nslice, axis=0).repeat(nsamp, axis=-1)\n",
    "    yantenna = r * np.sin(np.radians(angles_antenna)).reshape((1, nch, 1)).repeat(nslice, axis=0).repeat(nsamp, axis=-1)\n",
    "    \n",
    "    rad_pos = np.sqrt(x_pos ** 2 + y_pos ** 2)\n",
    "    gradb_freq = 1 * interpolator(rad_pos, angle)\n",
    "    \n",
    "    gradb_angle_pos = gradb_freq * t + np.arctan2(y_pos, x_pos)# initial + time_dep\n",
    "    \n",
    "    x_t = rad_pos * np.cos(gradb_angle_pos)\n",
    "    y_t = rad_pos * np.sin(gradb_angle_pos)\n",
    "    \n",
    "    antenna_phase = 2 * np.pi * np.sqrt((xantenna - x_t) ** 2 + (yantenna - y_t) ** 2) / (3e8 / f)\n",
    "    \n",
    "    relative_amplitude = (r ** 2) / ((xantenna - x_t) ** 2 + (yantenna - y_t) ** 2)\n",
    "    \n",
    "    correction = relative_amplitude * np.exp(1j * antenna_phase)\n",
    "    \n",
    "    corrected_array_data = correction * array_data\n",
    "    \n",
    "    return corrected_array_data\n",
    "\n",
    "def CreateGradBInterpolator(path):\n",
    "    \n",
    "    with open(os.path.join(path), 'rb') as infile:\n",
    "        gradB_data = pkl.load(infile)\n",
    "        \n",
    "    gradb_pd = pd.DataFrame(gradB_data, columns = ['r', 'angle', 'freq'])\n",
    "        \n",
    "    angles = np.sort(np.unique(gradB_data[:, 1]))\n",
    "    rads = np.sort(np.unique(gradB_data[:, 0]))\n",
    "    rad_grid, angle_grid = np.meshgrid(rads, angles)\n",
    "\n",
    "    frequency_grid = np.zeros(rad_grid.shape)\n",
    "\n",
    "    for i in range(frequency_grid.shape[0]):\n",
    "        for j in range(frequency_grid.shape[1]):\n",
    "            frequency_grid[i, j] = gradb_pd[(gradb_pd['r'] == rad_grid[i, j]) & (gradb_pd['angle'] == angle_grid[i, j])]['freq']\n",
    "\n",
    "\n",
    "    gradb_interpolation = scipy.interpolate.interp2d(rads, angles, frequency_grid, kind='cubic')\n",
    "    \n",
    "    return gradb_interpolation\n"
   ]
  },
  {
   "cell_type": "code",
   "execution_count": null,
   "id": "7fed7809",
   "metadata": {},
   "outputs": [],
   "source": [
    "h5file = h5py.File(os.path.join(SIMDATAPATH, filename))"
   ]
  },
  {
   "cell_type": "code",
   "execution_count": null,
   "id": "5d80eb00",
   "metadata": {},
   "outputs": [],
   "source": [
    "signal = h5file['signal']['6'][:]"
   ]
  },
  {
   "cell_type": "code",
   "execution_count": null,
   "id": "511ffd15",
   "metadata": {},
   "outputs": [],
   "source": [
    "x_grid = np.linspace(-0.03, 0.03, 101)\n",
    "y_grid = np.linspace(-0.03, 0.03, 101)\n",
    "\n",
    "summed_signal = SumDataLocust(signal[0, :, :], x_grid, y_grid, antispiral=True, f=25.86e9)"
   ]
  },
  {
   "cell_type": "code",
   "execution_count": null,
   "id": "a9d35704",
   "metadata": {},
   "outputs": [],
   "source": [
    "plt.imshow(abs(summed_signal.sum(axis=-1)**2).T)"
   ]
  },
  {
   "cell_type": "code",
   "execution_count": null,
   "id": "5cfef316",
   "metadata": {},
   "outputs": [],
   "source": [
    "for i, item in enumerate(h5file['signal']['6'].attrs.items()):\n",
    "    print(item)"
   ]
  },
  {
   "cell_type": "code",
   "execution_count": null,
   "id": "16f42754",
   "metadata": {},
   "outputs": [],
   "source": [
    "interpolator = CreateGradBInterpolator(os.path.join(RAWDATAPATH, gradB_file))"
   ]
  },
  {
   "cell_type": "code",
   "execution_count": null,
   "id": "d86be2ac",
   "metadata": {},
   "outputs": [],
   "source": [
    "#shifted_signal = ShiftSignalPosition(signal, 0.01, 0.0)\n",
    "shifted_signal = ShiftSignalPositionGradB(signal, 89.02, 0.01, 0, interpolator)"
   ]
  },
  {
   "cell_type": "code",
   "execution_count": null,
   "id": "db41168a",
   "metadata": {},
   "outputs": [],
   "source": [
    "x_grid = np.linspace(-0.03, 0.03, 101)\n",
    "y_grid = np.linspace(-0.03, 0.03, 101)\n",
    "\n",
    "summed_shifted_signal = SumDataLocust(shifted_signal[0, :, :], x_grid, y_grid, antispiral=True, f=25.86e9)"
   ]
  },
  {
   "cell_type": "code",
   "execution_count": null,
   "id": "09fd3bcd",
   "metadata": {},
   "outputs": [],
   "source": [
    "summed_shifted_signal.shape"
   ]
  },
  {
   "cell_type": "code",
   "execution_count": null,
   "id": "bf4eae83",
   "metadata": {},
   "outputs": [],
   "source": [
    "plt.imshow(abs(summed_shifted_signal.sum(axis=-1)**2).T)"
   ]
  },
  {
   "cell_type": "code",
   "execution_count": null,
   "id": "db331918",
   "metadata": {},
   "outputs": [],
   "source": []
  }
 ],
 "metadata": {
  "kernelspec": {
   "display_name": "Python 3",
   "language": "python",
   "name": "python3"
  },
  "language_info": {
   "codemirror_mode": {
    "name": "ipython",
    "version": 3
   },
   "file_extension": ".py",
   "mimetype": "text/x-python",
   "name": "python",
   "nbconvert_exporter": "python",
   "pygments_lexer": "ipython3",
   "version": "3.8.10"
  }
 },
 "nbformat": 4,
 "nbformat_minor": 5
}
