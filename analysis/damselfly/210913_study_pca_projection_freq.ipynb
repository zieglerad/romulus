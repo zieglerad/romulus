{
 "cells": [
  {
   "cell_type": "code",
   "execution_count": null,
   "id": "6a4c4d1b",
   "metadata": {},
   "outputs": [],
   "source": [
    "import numpy as np\n",
    "import matplotlib.pyplot as plt\n",
    "import seaborn as sns\n",
    "import pandas as pd\n",
    "import torch\n",
    "import h5py\n",
    "import os\n",
    "import sys\n",
    "import scipy\n",
    "import damselfly as df\n",
    "import scipy.signal\n",
    "import scipy.stats\n",
    "\n",
    "PATH = '/storage/home/adz6/group/project'\n",
    "RESULTPATH = os.path.join(PATH, 'results/damselfly')\n",
    "PLOTPATH = os.path.join(PATH, 'plots/damselfly')\n",
    "DATAPATH = os.path.join(PATH, 'damselfly/data/datasets')\n",
    "SIMDATAPATH = os.path.join(PATH, 'damselfly/data/sim_data')\n",
    "\n",
    "\"\"\"\n",
    "Date: 6/25/2021\n",
    "Description: template\n",
    "\"\"\"\n",
    "\n",
    "data = os.path.join(SIMDATAPATH, '210729_df_84_1slice.h5')\n",
    "h5datafile = h5py.File(data, 'r')\n",
    "\n",
    "Nsignal = len(list(h5datafile['signal'].keys()))\n",
    "Nsample = h5datafile['signal']['0'].shape[-1]\n",
    "\n",
    "#pca_abs = np.load(os.path.join(PATH, 'damselfly', 'data/210910_frequency_spectra_abs_principle_components.npz'))\n",
    "#pca_real = np.load(os.path.join(PATH, 'damselfly', 'data/210910_frequency_spectra_real_principle_components.npz'))\n",
    "#pca_imag = np.load(os.path.join(PATH, 'damselfly', 'data/210910_frequency_spectra_imag_principle_components.npz'))\n",
    "\n",
    "pc = np.load(os.path.join(PATH, 'damselfly/data', '210914_frequency_spectra_imag_principle_components.npz'))\n"
   ]
  },
  {
   "cell_type": "code",
   "execution_count": null,
   "id": "e5c39ad5",
   "metadata": {},
   "outputs": [],
   "source": [
    "evecs = pc['evecs']\n",
    "evals = pc['evals']"
   ]
  },
  {
   "cell_type": "code",
   "execution_count": null,
   "id": "622fd530",
   "metadata": {},
   "outputs": [],
   "source": [
    "print(evecs.shape)"
   ]
  },
  {
   "cell_type": "code",
   "execution_count": null,
   "id": "0a137c27",
   "metadata": {},
   "outputs": [],
   "source": [
    "#plt.plot(evecs[:, 0])"
   ]
  },
  {
   "cell_type": "markdown",
   "id": "5c5aec0b",
   "metadata": {},
   "source": [
    "# use principle componenets to project noise"
   ]
  },
  {
   "cell_type": "code",
   "execution_count": null,
   "id": "0787ece0",
   "metadata": {},
   "outputs": [],
   "source": [
    "dataset = np.zeros((Nsignal, Nsample), dtype=np.complex64)\n",
    "\n",
    "for i in range(Nsignal):\n",
    "    dataset[i, :] = h5datafile['signal'][f'{i}'][0, :]\n"
   ]
  },
  {
   "cell_type": "code",
   "execution_count": null,
   "id": "75e06494",
   "metadata": {},
   "outputs": [],
   "source": [
    "var = 1 * 200e6 * 50 * 10 * 1.38e-23\n",
    "rng = np.random.default_rng()\n",
    "noise = rng.multivariate_normal([0, 0], np.eye(2) * var / 2, 8192)\n",
    "\n",
    "noise = noise[:, 0] + 1j * noise[:, 1]\n",
    "\n"
   ]
  },
  {
   "cell_type": "code",
   "execution_count": null,
   "id": "6c7857ab",
   "metadata": {},
   "outputs": [],
   "source": [
    "\n",
    "n_pc = 256\n",
    "noise_projection = np.zeros(n_pc * 30)\n",
    "\n",
    "for m in range(30):\n",
    "    noise = rng.multivariate_normal([0, 0], np.eye(2) * var / 2, 8192)\n",
    "\n",
    "    noise = noise[:, 0] + 1j * noise[:, 1]\n",
    "    for k in range(n_pc):\n",
    "        noise_projection[m * n_pc + k] = abs(scipy.signal.correlate(evecs[:, k], noise, mode='same')).max()\n",
    "    "
   ]
  },
  {
   "cell_type": "code",
   "execution_count": null,
   "id": "6c7b8d77",
   "metadata": {},
   "outputs": [],
   "source": [
    "sns.set_theme(context='talk')\n",
    "fig = plt.figure(figsize=(8,5))\n",
    "ax = fig.add_subplot(1,1,1)\n",
    "\n",
    "ax.plot(noise_projection)"
   ]
  },
  {
   "cell_type": "code",
   "execution_count": null,
   "id": "e2d8c0aa",
   "metadata": {},
   "outputs": [],
   "source": [
    "rice_fit = scipy.stats.rice.fit(noise_projection)\n",
    "ray_fit = scipy.stats.rayleigh.fit(noise_projection)\n",
    "wei_fit = scipy.stats.weibull_min.fit(noise_projection)\n",
    "gum_fit = scipy.stats.gumbel_r.fit(noise_projection)\n",
    "\n",
    "print(rice_fit)\n",
    "print(ray_fit)\n",
    "print(wei_fit)\n",
    "print(gum_fit)"
   ]
  },
  {
   "cell_type": "code",
   "execution_count": null,
   "id": "4dae6d78",
   "metadata": {},
   "outputs": [],
   "source": [
    "_x = np.linspace(2.8e-6, 5e-6, 200)\n",
    "\n",
    "_pdf = scipy.stats.gumbel_r.pdf(_x, loc = gum_fit[0], scale = gum_fit[1])\n",
    "\n",
    "sns.set_theme(context='talk')\n",
    "fig = plt.figure(figsize=(8,5))\n",
    "ax = fig.add_subplot(1,1,1)\n",
    "\n",
    "hist = ax.hist(noise_projection, 32, histtype='step')\n",
    "\n",
    "ax.plot(_x, (1 / 1700) * _pdf)\n",
    "\n",
    "\n",
    "hist = ax.hist(scipy.stats.gumbel_r.rvs(loc=gum_fit[0], scale = gum_fit[1], size=256 * 30), 32, histtype='step')"
   ]
  },
  {
   "cell_type": "markdown",
   "id": "8276fb67",
   "metadata": {},
   "source": [
    "# add noise to the projections of signals"
   ]
  },
  {
   "cell_type": "code",
   "execution_count": null,
   "id": "5617a3b1",
   "metadata": {},
   "outputs": [],
   "source": [
    "os.listdir(os.path.join(PATH, 'damselfly/data'))\n",
    "\n",
    "sig_projection = np.load(os.path.join(PATH, 'damselfly/data', '210915_pc_match_matrix_normalized.npy'))"
   ]
  },
  {
   "cell_type": "code",
   "execution_count": null,
   "id": "78e66a7e",
   "metadata": {},
   "outputs": [],
   "source": [
    "sig_projection.shape"
   ]
  },
  {
   "cell_type": "code",
   "execution_count": null,
   "id": "baffcf0c",
   "metadata": {},
   "outputs": [],
   "source": [
    "projection_scale = abs(dataset ** 2).sum(axis=-1).reshape((5492, 1)).repeat(256, axis=-1)\n",
    "print(projection_scale[4, 0])"
   ]
  },
  {
   "cell_type": "code",
   "execution_count": null,
   "id": "b153fa72",
   "metadata": {},
   "outputs": [],
   "source": [
    "sig_projection  *= projection_scale"
   ]
  },
  {
   "cell_type": "code",
   "execution_count": null,
   "id": "014eda00",
   "metadata": {},
   "outputs": [],
   "source": [
    "sns.set_theme(context='talk')\n",
    "fig = plt.figure(figsize=(8,5))\n",
    "ax = fig.add_subplot(1,1,1)\n",
    "\n",
    "ax.plot(sig_projection[0, :])"
   ]
  },
  {
   "cell_type": "code",
   "execution_count": null,
   "id": "76b55732",
   "metadata": {},
   "outputs": [],
   "source": [
    "n = 0\n",
    "m = 8\n",
    "\n",
    "print(sig_projection[m, n])\n",
    "\n",
    "pc = evecs[:, n]\n",
    "signal = dataset[m, :]\n",
    "\n",
    "N_trial = 2048\n",
    "proj = np.zeros(N_trial)\n",
    "\n",
    "proj_noise = np.zeros(N_trial)\n",
    "\n",
    "for k in range(N_trial):\n",
    "    \n",
    "    noise = rng.multivariate_normal([0, 0], np.eye(2) * var / 2, 8192) \n",
    "\n",
    "    noise = np.fft.fft(noise[:, 0] + 1j * noise[:, 1]) / 8192\n",
    "    \n",
    "    proj[k] = abs(scipy.signal.correlate(noise + signal, pc, mode='same')).max()\n",
    "    proj_noise[k] = abs(scipy.signal.correlate(noise , pc, mode='same')).max()\n",
    "    \n",
    "gum_fit_sig = scipy.stats.gumbel_r.fit(proj)\n",
    "rice_fit_sig = scipy.stats.rice.fit(proj)\n",
    "genex_fit_sig = scipy.stats.genextreme.fit(proj, loc=3e-8, scale=9e-9)\n",
    "\n",
    "\n",
    "gum_fit_noise = scipy.stats.gumbel_r.fit(proj_noise)\n",
    "\n",
    "#print(gum_fit_sig)\n",
    "print(gum_fit_noise)\n",
    "print(gum_fit_noise[0]**2)\n",
    "print(np.mean(abs(noise)**2))\n",
    "print\n",
    "#print(rice_fit_sig)\n",
    "print(genex_fit_sig)\n",
    "\n",
    "sns.set_theme(context='talk')\n",
    "fig = plt.figure(figsize=(8,5))\n",
    "ax = fig.add_subplot(1,1,1)\n",
    "\n",
    "hist = ax.hist(proj, 64, histtype='step')\n",
    "\n",
    "hist = ax.hist(scipy.stats.genextreme.rvs(genex_fit_sig[0], loc=genex_fit_sig[1], scale = genex_fit_sig[2], size=2048), 64, histtype='step')\n",
    "\n",
    "hist = ax.hist(proj_noise, 64, histtype='step')"
   ]
  },
  {
   "cell_type": "code",
   "execution_count": null,
   "id": "f48c7777",
   "metadata": {},
   "outputs": [],
   "source": [
    "sns.set_theme(context='talk')\n",
    "fig = plt.figure(figsize=(8,5))\n",
    "ax = fig.add_subplot(1,1,1)\n",
    "\n",
    "\n",
    "\n",
    "hist = ax.hist(proj, 64, histtype='step')\n",
    "\n",
    "norm_n = hist[0] / hist[0].sum()\n",
    "\n",
    "x_pdf = np.linspace(hist[1][0], hist[1][-1])\n",
    "\n",
    "#print(hist)\n",
    "#hist = ax.hist(proj_noise, 64, histtype='step')\n",
    "\n",
    "#hist = ax.hist(scipy.stats.gumbel_r.rvs(loc=gum_fit_noise[0], scale = gum_fit_noise[1], size=2048), 64, histtype='step')\n",
    "#hist = ax.hist(scipy.stats.gumbel_r.rvs(loc=gum_fit_sig[0], scale = gum_fit_sig[1], size=2048), 64, histtype='step')\n",
    "\n",
    "hist = ax.hist(scipy.stats.genextreme.rvs(genex_fit_sig[0], loc=genex_fit_sig[1], scale = genex_fit_sig[2], size=2048), 64, histtype='step')\n",
    "#plt.plot(abs(noise))\n",
    "#plt.plot(abs(signal))"
   ]
  },
  {
   "cell_type": "markdown",
   "id": "d4e86b6d",
   "metadata": {},
   "source": [
    "# fit generalized extreme distribution for each pair of signal and component"
   ]
  },
  {
   "cell_type": "code",
   "execution_count": null,
   "id": "fd089301",
   "metadata": {},
   "outputs": [],
   "source": [
    "\n",
    "\n",
    "n_signal = 5492\n",
    "n_pc = 256\n",
    "n_trial = 3000\n",
    "\n",
    "genex_fit_params = np.zeros((n_signal, n_pc, 3))\n",
    "\n",
    "for n in range(n_signal):\n",
    "    for m in range(n_pc):\n",
    "        _pc = evecs[:, n]\n",
    "        _signal = dataset[m, :]\n",
    "        _proj = np.zeros(n_trial)\n",
    "        for k in range(n_trial):\n",
    "            \n",
    "            noise = rng.multivariate_normal([0, 0], np.eye(2) * var / 2, 8192) \n",
    "            noise = np.fft.fft(noise[:, 0] + 1j * noise[:, 1]) / 8192\n",
    "            \n",
    "            _proj[k] = abs(scipy.signal.correlate(noise + _signal, _pc, mode='same')).max()\n",
    "            \n",
    "        genex_fit_sig = scipy.stats.genextreme.fit(_proj, loc=3e-8, scale=9e-9)\n",
    "        print(genex_fit_sig)\n",
    "        genex_fit_params[n, m, :] = genex_fit_sig\n",
    "        \n",
    "    if n % 500 == 499:\n",
    "        print(n+1)\n",
    "            \n",
    "            \n",
    "        "
   ]
  },
  {
   "cell_type": "code",
   "execution_count": null,
   "id": "b5bd98d5",
   "metadata": {},
   "outputs": [],
   "source": [
    "sns.set_theme(context='talk', style='ticks')\n",
    "#cmap = sns.color_palette('mako', as_cmap=True)\n",
    "\n",
    "freqs = np.fft.fftshift(np.fft.fftfreq(8192, 1/200e6))\n",
    "\n",
    "\n",
    "fig = plt.figure(figsize=(8,5))\n",
    "ax = fig.add_subplot(1,1,1)\n",
    "\n",
    "#ax.plot(dataset_real[:, 0])\n",
    "for i in range(10):\n",
    "    ax.plot(pca_real['evecs'][:, i].real)\n",
    "\n",
    "#img = ax.imshow(np.log(covariance), interpolation='none', cmap=cmap, extent=(freqs[0], freqs[-1], freqs[-1], freqs[0]))\n",
    "\n",
    "#ax.set_ylabel('Frequency (Hz)')\n",
    "#ax.set_xlabel('Frequency (Hz)')\n",
    "\n",
    "#ax.set_title('Log-Covariance Matrix for Sample Dataset', pad=20)\n",
    "\n",
    "#plt.tight_layout()\n",
    "#plt.savefig(os.path.join(PLOTPATH, '210910_log_covariance_matrix_dataset_imag_only'))"
   ]
  },
  {
   "cell_type": "code",
   "execution_count": null,
   "id": "ea0fce8f",
   "metadata": {},
   "outputs": [],
   "source": [
    "projection = np.matmul(dataset_real[:, 1], pca_real['evecs'][:, 0:8192].real)\n",
    "print(projection.shape)\n",
    "sns.set_theme(context='talk', style='ticks')\n",
    "#cmap = sns.color_palette('mako', as_cmap=True)\n",
    "\n",
    "fig = plt.figure(figsize=(8,5))\n",
    "ax = fig.add_subplot(1,1,1)\n",
    "\n",
    "ax.plot(projection)\n",
    "\n",
    "ax.plot(dataset_real[:, 1])\n"
   ]
  },
  {
   "cell_type": "code",
   "execution_count": null,
   "id": "92ec1cdd",
   "metadata": {},
   "outputs": [],
   "source": [
    "fig = plt.figure(figsize=(8,5))\n",
    "ax = fig.add_subplot(1,1,1)\n",
    "\n",
    "idata = 0\n",
    "signal = dataset_imag[:, idata].reshape((1, dataset_imag[:, 0].shape[0] )).repeat(256, axis=0)\n",
    "print(signal.shape)\n",
    "print(pca_real['evecs'][:, 0:256].shape)\n",
    "projection = np.max(abs(scipy.signal.fftconvolve(signal, pca_imag['evecs'][:, 0:256].real.T, axes=-1, mode='same')), axis=-1)\n",
    "print(projection.shape)\n",
    "ax.plot(projection)\n",
    "ax.plot(abs(dataset_imag[:, idata]))\n",
    "#for i in range(2048):\n",
    "    \n",
    "    #projection.append(np.max(abs(scipy.signal.convolve(dataset_real[:, 10], pca_real['evecs'][:, i].real, mode='same'))))\n",
    "    #ax.plot(abs(scipy.signal.convolve(dataset_real[:, 10], pca_real['evecs'][:, i].real, mode='same')))\n",
    "    #ax.plot(dataset_real[:, 10])"
   ]
  },
  {
   "cell_type": "code",
   "execution_count": null,
   "id": "12836100",
   "metadata": {},
   "outputs": [],
   "source": [
    "var = 1.38e-23 * 10 * 200e6 * 50\n",
    "#print(var / (np.sqrt(8192)))\n",
    "noise = np.random.multivariate_normal([0,0], np.eye(2) * var / 2, 8192) / np.sqrt(8192)\n",
    "noise_real = noise[:, 0]\n",
    "\n",
    "print(np.mean(abs(noise_real) ** 2))"
   ]
  },
  {
   "cell_type": "code",
   "execution_count": null,
   "id": "b1b99167",
   "metadata": {},
   "outputs": [],
   "source": [
    "fig = plt.figure(figsize=(8,5))\n",
    "ax = fig.add_subplot(1,1,1)\n",
    "\n",
    "ax.plot(abs(noise_real))\n",
    "ax.plot(abs(dataset_real[:, 1]))"
   ]
  },
  {
   "cell_type": "code",
   "execution_count": null,
   "id": "1a8b2b96",
   "metadata": {},
   "outputs": [],
   "source": [
    "fig = plt.figure(figsize=(8,5))\n",
    "ax = fig.add_subplot(1,1,1)\n",
    "\n",
    "idata = 3\n",
    "signal = (dataset_real[:, idata] + noise_real).reshape((1, dataset_real[:, 0].shape[0] )).repeat(1024, axis=0)\n",
    "noise_signal = (noise_real).reshape((1, dataset_real[:, 0].shape[0] )).repeat(1024, axis=0)\n",
    "\n",
    "projection = np.max(abs(scipy.signal.fftconvolve(signal, pca_real['evecs'][:, 0:1024].real.T, axes=-1, mode='same')), axis=-1)\n",
    "projection_noise = np.max(abs(scipy.signal.fftconvolve(noise_signal, pca_real['evecs'][:, 0:1024].real.T, axes=-1, mode='same')), axis=-1)\n",
    "ax.plot(projection)\n",
    "ax.plot(projection_noise)\n",
    "\n",
    "\n"
   ]
  },
  {
   "cell_type": "code",
   "execution_count": null,
   "id": "8c47960e",
   "metadata": {},
   "outputs": [],
   "source": [
    "evals, evecs = np.linalg.eig(covariance)\n",
    "\n",
    "np.savez(os.path.join(PATH, 'damselfly/data/210910_frequency_spectra_imag_principle_components'), evals=evals , evecs=evecs)"
   ]
  },
  {
   "cell_type": "code",
   "execution_count": null,
   "id": "79a0dffd",
   "metadata": {},
   "outputs": [],
   "source": [
    "sns.set_theme(context='talk', style='whitegrid')\n",
    "fig = plt.figure(figsize=(8,5))\n",
    "ax = fig.add_subplot(1,1,1)\n",
    "\n",
    "ax.plot(abs(evals))\n",
    "#ax.set_xlim(0,100)\n",
    "ax.set_yscale('log')\n",
    "ax.set_ylabel(r'$\\log{\\lambda}$')\n",
    "ax.set_xlabel('N')\n",
    "ax.set_title('Sorted Eigenvalues, Log-scale')\n",
    "\n",
    "plt.tight_layout()\n",
    "plt.savefig(os.path.join(PLOTPATH, '210910_log_eigenvalues_imag'))"
   ]
  },
  {
   "cell_type": "code",
   "execution_count": null,
   "id": "6ce1ec04",
   "metadata": {},
   "outputs": [],
   "source": [
    "fig = plt.figure(figsize=(8,5))\n",
    "ax = fig.add_subplot(1,1,1)\n",
    "for i in range(1):\n",
    "    ax.plot(freqs, evecs[:, 0].real)\n",
    "    \n",
    "ax.set_xlabel('Frequency (Hz)')\n",
    "ax.set_ylabel('Eigenvector Value (AU)')\n",
    "ax.set_title('First Principle Component')\n",
    "\n",
    "plt.tight_layout()\n",
    "plt.savefig(os.path.join(PLOTPATH, '210910_first_principle_component_imag'))\n",
    "\n",
    "#ax.plot(evecs[:, 0].imag)"
   ]
  },
  {
   "cell_type": "code",
   "execution_count": null,
   "id": "a6bc4486",
   "metadata": {},
   "outputs": [],
   "source": [
    "covariance_real = np.matmul(signal_real_norm.T, signal_real_norm)\n",
    "covariance_imag = np.matmul(signal_imag_norm.T, signal_imag_norm)\n",
    "plt.figure()\n",
    "plt.imshow(covariance_real, interpolation = 'none')\n",
    "#plt.xlim(0, 20)\n",
    "#plt.ylim(0, 20)\n",
    "plt.figure()\n",
    "plt.imshow(covariance_imag, interpolation = 'none')\n",
    "#plt.xlim(0, 20)\n",
    "#plt.ylim(0, 20)"
   ]
  },
  {
   "cell_type": "code",
   "execution_count": null,
   "id": "36879d2a",
   "metadata": {},
   "outputs": [],
   "source": [
    "print('real')\n",
    "real_evals, real_evecs = np.linalg.eig(covariance_real)\n",
    "print('imag')\n",
    "imag_evals, imag_evecs = np.linalg.eig(covariance_imag)"
   ]
  },
  {
   "cell_type": "code",
   "execution_count": null,
   "id": "96647acd",
   "metadata": {},
   "outputs": [],
   "source": [
    "print(real_evecs.shape)"
   ]
  },
  {
   "cell_type": "code",
   "execution_count": null,
   "id": "1da642f4",
   "metadata": {},
   "outputs": [],
   "source": [
    "plt.plot(real_evals)\n",
    "plt.plot(imag_evals)\n",
    "plt.xlim(0, 10)"
   ]
  },
  {
   "cell_type": "code",
   "execution_count": null,
   "id": "b08e270f",
   "metadata": {},
   "outputs": [],
   "source": [
    "plt.plot(real_evecs[1, :])\n",
    "#plt.plot(real_evecs[1, :])\n",
    "#plt.plot(real_evecs[2, :])\n",
    "#plt.plot(real_evecs[3, :])\n",
    "#plt.plot(real_evecs[4, :])\n",
    "#plt.plot(real_evecs[5, :])\n",
    "#plt.plot(real_evecs[6, :])\n",
    "plt.xlim(8000, 8192)"
   ]
  },
  {
   "cell_type": "markdown",
   "id": "35e8885f",
   "metadata": {},
   "source": [
    "# try 100 signals"
   ]
  },
  {
   "cell_type": "code",
   "execution_count": null,
   "id": "4eba3ded",
   "metadata": {},
   "outputs": [],
   "source": []
  },
  {
   "cell_type": "code",
   "execution_count": null,
   "id": "6d14ad48",
   "metadata": {},
   "outputs": [],
   "source": []
  }
 ],
 "metadata": {
  "kernelspec": {
   "display_name": "Python 3",
   "language": "python",
   "name": "python3"
  }
 },
 "nbformat": 4,
 "nbformat_minor": 5
}
