{
 "cells": [
  {
   "cell_type": "code",
   "execution_count": null,
   "id": "6a4c4d1b",
   "metadata": {},
   "outputs": [],
   "source": [
    "import numpy as np\n",
    "import matplotlib.pyplot as plt\n",
    "import seaborn as sns\n",
    "import pandas as pd\n",
    "import torch\n",
    "import h5py\n",
    "import os\n",
    "import sys\n",
    "import scipy\n",
    "import damselfly as df\n",
    "import scipy.signal\n",
    "import scipy.stats\n",
    "\n",
    "PATH = '/storage/home/adz6/group/project'\n",
    "RESULTPATH = os.path.join(PATH, 'results/damselfly')\n",
    "PLOTPATH = os.path.join(PATH, 'plots/damselfly')\n",
    "DATAPATH = os.path.join(PATH, 'damselfly/data/datasets')\n",
    "SIMDATAPATH = os.path.join(PATH, 'damselfly/data/sim_data')\n",
    "\n",
    "\"\"\"\n",
    "Date: 6/25/2021\n",
    "Description: template\n",
    "\"\"\"\n",
    "\n",
    "\n",
    "def MakeTemplates(signals, var =  1.38e-23 * 10 * 50 * 200e6):\n",
    "    norm_mat = 1 / np.sqrt(var * np.diag(np.matmul(signals, signals.conjugate().T)))\n",
    "\n",
    "    templates = norm_mat.reshape((*norm_mat.shape, 1)).repeat(signals.shape[-1], axis=-1) * signals\n",
    "    \n",
    "    return templates\n"
   ]
  },
  {
   "cell_type": "code",
   "execution_count": null,
   "id": "7b5f17fa",
   "metadata": {},
   "outputs": [],
   "source": [
    "os.listdir(os.path.join(PATH, 'mayfly/data/datasets'))"
   ]
  },
  {
   "cell_type": "code",
   "execution_count": null,
   "id": "799e14a5",
   "metadata": {},
   "outputs": [],
   "source": [
    "os.listdir(os.path.join(PATH, 'damselfly/data'))"
   ]
  },
  {
   "cell_type": "markdown",
   "id": "f23fdf81",
   "metadata": {},
   "source": [
    "# load pc's"
   ]
  },
  {
   "cell_type": "code",
   "execution_count": null,
   "id": "28868572",
   "metadata": {},
   "outputs": [],
   "source": [
    "#pca_all = np.load(os.path.join(PATH, 'damselfly/data', '210914_frequency_spectra_imag_principle_components.npz'))\n",
    "pca_all_evals = np.load(os.path.join(PATH, 'damselfly/data', '211007_principle_components_all_evals.npy'))\n",
    "pca_all_evecs = np.load(os.path.join(PATH, 'damselfly/data', '211007_principle_components_all_evecs.npy'))\n",
    "\n",
    "pca_range_evals = np.load(os.path.join(PATH, 'damselfly/data', '211007_principle_components_1deg_pitch_angle_range_evals.npy'))\n",
    "pca_range_evecs = np.load(os.path.join(PATH, 'damselfly/data', '211007_principle_components_1deg_pitch_angle_range_evecs.npy'))"
   ]
  },
  {
   "cell_type": "code",
   "execution_count": null,
   "id": "65936d93",
   "metadata": {},
   "outputs": [],
   "source": [
    "pca_all_evals.shape\n",
    "pca_range_evals.shape"
   ]
  },
  {
   "cell_type": "code",
   "execution_count": null,
   "id": "48d3699e",
   "metadata": {},
   "outputs": [],
   "source": [
    "sns.set_theme(context='talk', style='whitegrid')\n",
    "fig = plt.figure(figsize=(13,8))\n",
    "ax = fig.add_subplot(1,1,1)\n",
    "ax.set_yscale('log')\n",
    "ax.plot(abs(pca_all_evals))\n",
    "ax.set_xlim(0, 256)\n",
    "ax.set_ylim(1e-15, 1e-12)\n",
    "\n",
    "for i in range(pca_range_evals.shape[0]):\n",
    "    \n",
    "    ax.plot(abs(pca_range_evals[i, :]))"
   ]
  },
  {
   "cell_type": "code",
   "execution_count": null,
   "id": "89406c84",
   "metadata": {},
   "outputs": [],
   "source": [
    "m = 55\n",
    "k = 5\n",
    "\n",
    "sns.set_theme(context='talk', style='whitegrid')\n",
    "fig = plt.figure(figsize=(13,8))\n",
    "ax = fig.add_subplot(1,1,1)\n",
    "#ax.set_yscale('log')\n",
    "#ax.plot(pca_all_evecs[:, m].real)\n",
    "#ax.plot(pca_all_evecs[:, m].imag)\n",
    "\n",
    "ax.plot(pca_range_evecs[k, :, m].real)\n",
    "ax.plot(pca_range_evecs[k, :, m].imag)\n",
    "\n",
    "#ax.plot(abs(pca_range_evecs[k, :, :].max(axis=0)))\n",
    "\n",
    "#ax.set_xlim(0, 256)\n",
    "#ax.set_ylim(1e-15, 1e-12)"
   ]
  },
  {
   "cell_type": "markdown",
   "id": "6bde76b7",
   "metadata": {},
   "source": [
    "# load data"
   ]
  },
  {
   "cell_type": "code",
   "execution_count": null,
   "id": "80b3c5f2",
   "metadata": {},
   "outputs": [],
   "source": [
    "data = os.path.join(os.path.join(PATH, 'mayfly/data/datasets'), '211002_mf_84_100_slice8192.h5')\n",
    "h5datafile = h5py.File(data, 'r')\n",
    "\n",
    "Nsignal = h5datafile['data'].shape[0]\n",
    "Nsample = 8192\n",
    "\n",
    "dataset = np.zeros((Nsignal, Nsample), dtype=np.complex64)\n",
    "\n",
    "for i in range(Nsignal):\n",
    "    dataset[i, :] = np.fft.fftshift(np.fft.fft(h5datafile['data'][i, :].reshape(60, 8192).sum(axis=0))) / 8192"
   ]
  },
  {
   "cell_type": "markdown",
   "id": "c61170c8",
   "metadata": {},
   "source": [
    "# select pc's"
   ]
  },
  {
   "cell_type": "code",
   "execution_count": null,
   "id": "a3fe9c76",
   "metadata": {},
   "outputs": [],
   "source": [
    "pc_max_vals = abs(pca_range_evecs).max(axis=1)"
   ]
  },
  {
   "cell_type": "code",
   "execution_count": null,
   "id": "9042c7ea",
   "metadata": {},
   "outputs": [],
   "source": [
    "selected_pc_inds = np.argwhere(pc_max_vals >= 0.15)\n",
    "\n",
    "select_pc = pca_range_evecs[selected_pc_inds[:, 0], :, selected_pc_inds[:, 1]]\n",
    "\n",
    "print(select_pc.shape)\n"
   ]
  },
  {
   "cell_type": "code",
   "execution_count": null,
   "id": "fc655886",
   "metadata": {},
   "outputs": [],
   "source": [
    "n = 2\n",
    "m = 3\n",
    "\n",
    "var = 1.38e-23 * 10 * 200e6 * 50\n",
    "#print(var / (np.sqrt(8192)))\n",
    "noise = np.random.multivariate_normal([0,0], np.eye(2) * var / 2, 8192)\n",
    "\n",
    "noise = np.fft.fft(noise[:, 0] + 1j * noise[:, 1]) / 8192\n",
    "pc = select_pc[n, :]\n",
    "signal = dataset[m, :]\n",
    "\n",
    "fig = plt.figure(figsize=(8,5))\n",
    "ax = fig.add_subplot(1,1,1)\n",
    "\n",
    "#ax.plot(abs(dataset[m, :]))\n",
    "#ax.plot(abs(noise))\n",
    "\n",
    "#ax.plot(abs(scipy.signal.convolve(dataset[m, :], dataset[m, :], mode='full')))\n",
    "ax.plot(abs(scipy.signal.correlate(pc * np.sqrt((abs(dataset[m, :]) ** 2 ).sum()), signal, mode='full')))\n",
    "#ax.plot(abs(scipy.signal.convolve(noise, noise, mode='full')))\n",
    "\n",
    "fig = plt.figure(figsize=(8,5))\n",
    "ax = fig.add_subplot(1,1,1)\n",
    "\n",
    "norm_noise = noise / np.sqrt((abs(noise) ** 2).sum())\n",
    "norm_signal = dataset[m, :] / np.sqrt((abs(dataset[m, :]) ** 2 ).sum())\n",
    "\n",
    "ax.plot(abs(scipy.signal.convolve(pc * np.sqrt((abs(dataset[m, :]) ** 2 ).sum()), np.flip(signal), mode='full')))\n",
    "#ax.plot(abs(scipy.signal.convolve(signal, signal, mode='full')))"
   ]
  },
  {
   "cell_type": "code",
   "execution_count": null,
   "id": "356977b6",
   "metadata": {},
   "outputs": [],
   "source": [
    "#N_comp = 256\n",
    "m = 67\n",
    "projection_n, projection_noise, projection_signal = [], [], []\n",
    "\n",
    "for n in range(select_pc.shape[0]):\n",
    "    \n",
    "    noise = np.random.multivariate_normal([0,0], np.eye(2) * 0 / 2, 8192)\n",
    "\n",
    "    noise = np.fft.fft(noise[:, 0] + 1j * noise[:, 1]) / 8192\n",
    "    \n",
    "    pc = select_pc[n, :]\n",
    "    \n",
    "    projection_signal.append(abs(scipy.signal.convolve(noise + dataset[m, :], np.flip(dataset[m, :], axis=-1))).max())\n",
    "    projection_n.append(abs(scipy.signal.fftconvolve(pc * np.sqrt((abs(dataset[m, :]) ** 2 ).sum()), noise + np.flip(dataset[m, :], axis=-1), mode='full')).max())\n",
    "    #projection_n.append(abs(scipy.signal.correlate(pc * np.sqrt((abs(dataset[m, :]) ** 2 ).sum()), noise + dataset[m, :], mode='full')).max())\n",
    "    projection_noise.append(abs(scipy.signal.correlate(noise , pc * np.sqrt((abs(dataset[m, :]) ** 2 ).sum()), mode='full')).max())\n",
    "    \n",
    "projection_n = np.array(projection_n)\n",
    "projection_noise = np.array(projection_noise)\n",
    "projection_signal = np.array(projection_signal)\n",
    "\n",
    "print(projection_n.sum(), projection_signal.sum(), projection_noise.sum())\n",
    "\n",
    "fig = plt.figure(figsize=(8,5))\n",
    "ax = fig.add_subplot(1,1,1)\n",
    "\n",
    "ax.plot(projection_n, label='signal+noise')\n",
    "ax.plot(projection_noise, label='noise')\n",
    "ax.legend(loc=1)\n",
    "ax.set_xlabel('Principle Component')\n",
    "ax.set_ylabel('Correlation Max')\n",
    "ax.set_title('Correlation Using Principle Components',pad=20)\n",
    "\n",
    "plt.tight_layout()\n",
    "#plt.savefig(os.path.join(PLOTPATH, '210914_correlation_using_pc_hard'))\n",
    "\n",
    "\n",
    "fig = plt.figure(figsize=(8,5))\n",
    "ax = fig.add_subplot(1,1,1)\n",
    "\n",
    "\n",
    "ax.set_xlabel('Trial')\n",
    "ax.set_ylabel('Correlation Max')\n",
    "ax.set_title('Correlation Using Signal, N-Trials',pad=20)\n",
    "\n",
    "\n",
    "ax.plot(projection_signal, label='signal+noise')\n",
    "ax.plot(projection_noise,label='noise')\n",
    "\n",
    "ax.legend(loc=1)\n",
    "\n",
    "plt.tight_layout()\n",
    "#plt.savefig(os.path.join(PLOTPATH, '210914_correlation_using_signal_hard'))"
   ]
  },
  {
   "cell_type": "code",
   "execution_count": null,
   "id": "77f9b81c",
   "metadata": {},
   "outputs": [],
   "source": [
    "N_comp = 256\n",
    "N_trial = 50\n",
    "m = 1\n",
    "\n",
    "pc_max, signal_max, noise_max = [], [], []\n",
    "\n",
    "for k in range(N_trial):\n",
    "\n",
    "    projection_n, projection_noise, projection_signal = [], [], []\n",
    "\n",
    "    for n in range(N_comp):\n",
    "\n",
    "        noise = np.random.multivariate_normal([0,0], np.eye(2) * var / 2, 8192)\n",
    "\n",
    "        noise = np.fft.fft(noise[:, 0] + 1j * noise[:, 1]) / 8192\n",
    "\n",
    "        pc = evecs[:, n]\n",
    "\n",
    "        projection_signal.append(abs(scipy.signal.correlate(noise + dataset[m, :], dataset[m, :], mode='full')).max())\n",
    "        projection_n.append(abs(scipy.signal.correlate(pc * np.sqrt((abs(dataset[m, :]) ** 2 ).sum()), noise + dataset[m, :], mode='full')).max())\n",
    "        projection_noise.append(abs(scipy.signal.correlatet(noise , pc * np.sqrt((abs(dataset[m, :]) ** 2 ).sum()), mode='full')).max())\n",
    "\n",
    "    projection_n = np.array(projection_n)\n",
    "    projection_noise = np.array(projection_noise)\n",
    "    projection_signal = np.array(projection_signal)\n",
    "    \n",
    "    pc_max.append(projection_n.mean())\n",
    "    signal_max.append(projection_signal.mean())\n",
    "    noise_max.append(projection_noise.mean())\n",
    "    \n",
    "    \n",
    "\n",
    "    \n",
    "    \n",
    "\n"
   ]
  },
  {
   "cell_type": "code",
   "execution_count": null,
   "id": "482ff1f0",
   "metadata": {},
   "outputs": [],
   "source": [
    "pc_max = np.array(pc_max)\n",
    "signal_max = np.array(signal_max)\n",
    "noise_max = np.array(noise_max)\n",
    "\n",
    "fig = plt.figure(figsize=(8,5))\n",
    "ax = fig.add_subplot(1,1,1)\n",
    "\n",
    "\n",
    "hist1 = ax.hist(pc_max, histtype='step')\n",
    "hist2 = ax.hist(noise_max, histtype='step')\n",
    "hist3 = ax.hist(signal_max, histtype='step')\n"
   ]
  },
  {
   "cell_type": "code",
   "execution_count": null,
   "id": "2c784a23",
   "metadata": {},
   "outputs": [],
   "source": [
    "n = 5\n",
    "m = 6\n",
    "\n",
    "pc = evecs[:, n]\n",
    "signal = dataset[m, :]\n",
    "\n",
    "match_pc = abs(scipy.signal.correlate(pc, signal / np.sqrt((abs(dataset[m, :]) ** 2 ).sum()), mode='same')).max()\n",
    "match_sig = (abs(scipy.signal.correlate(signal / np.sqrt((abs(dataset[m, :]) ** 2 ).sum()), signal / np.sqrt((abs(dataset[m, :]) ** 2 ).sum()), mode='same')).max())\n",
    "\n",
    "\n",
    "print(match_pc, match_sig, match_pc / match_sig)"
   ]
  },
  {
   "cell_type": "code",
   "execution_count": null,
   "id": "13d58968",
   "metadata": {},
   "outputs": [],
   "source": [
    "sns.set_theme(context='talk', style='whitegrid')\n",
    "\n",
    "fig = plt.figure(figsize=(8,5))\n",
    "ax = fig.add_subplot(1,1,1)\n",
    "\n",
    "\n",
    "ax.plot(freqs, abs(pc), label='Principle Component')\n",
    "ax.plot(freqs, abs(signal / np.sqrt((abs(dataset[m, :]) ** 2 ).sum())), label='Signal')\n",
    "\n",
    "ax.set_ylabel('Amplitude')\n",
    "ax.set_xlabel('Frequency (Hz)')\n",
    "\n",
    "ax.legend(loc=2)\n",
    "\n",
    "plt.tight_layout()\n",
    "plt.savefig(os.path.join(PLOTPATH, '210914_normalized_signal_and_pc'))\n",
    "\n",
    "#print(np.vdot(pc, pc))\n",
    "#print(np.vdot(signal / np.sqrt((abs(dataset[m, :]) ** 2 ).sum()), signal / np.sqrt((abs(dataset[m, :]) ** 2 ).sum())))"
   ]
  },
  {
   "cell_type": "code",
   "execution_count": null,
   "id": "d5f02cd8",
   "metadata": {},
   "outputs": [],
   "source": [
    "x = scipy.signal.convolve(signal / np.sqrt((abs(signal) ** 2 ).sum()), signal / np.sqrt((abs(signal) ** 2 ).sum()), mode='same')\n",
    "print(np.vdot(x, x))\n",
    "plt.plot(abs(x))\n",
    "#plt.plot(scipy.signal.convolve(signal / np.sqrt((abs(signal) ** 2 ).sum()), signal / np.sqrt((abs(signal) ** 2 ).sum()), mode='same').imag)"
   ]
  },
  {
   "cell_type": "code",
   "execution_count": null,
   "id": "bc3fc168",
   "metadata": {},
   "outputs": [],
   "source": [
    "x = scipy.signal.convolve(pc, signal / np.sqrt((abs(signal) ** 2 ).sum()), mode='same')\n",
    "print(np.vdot(x,x))\n",
    "plt.plot(abs(x))"
   ]
  },
  {
   "cell_type": "code",
   "execution_count": null,
   "id": "1b0a2e70",
   "metadata": {},
   "outputs": [],
   "source": [
    "pc_match_matrix = np.zeros((dataset.shape[0], 256))\n",
    "\n",
    "norm_dataset = dataset / np.sqrt((abs(dataset) ** 2 ).sum(axis=-1)).reshape((dataset.shape[0], 1)).repeat(dataset.shape[-1], axis=-1)\n",
    "\n",
    "for k in range(dataset.shape[0]):\n",
    "    if k % 100 == 99:\n",
    "        print(k+1)\n",
    "    for i in range(256):\n",
    "        pc = evecs[:, i]\n",
    "\n",
    "        x = abs(scipy.signal.correlate(pc, dataset[k, :] / np.sqrt((abs(dataset[k, :]) ** 2 ).sum()), mode='same'))\n",
    "\n",
    "        pc_match_matrix[k, i] = x.max()\n",
    "\n",
    "        #if i % 10 == 9:\n",
    "        #    print(i + 1)\n",
    "\n"
   ]
  },
  {
   "cell_type": "code",
   "execution_count": null,
   "id": "1569a1cc",
   "metadata": {},
   "outputs": [],
   "source": [
    "np.save(os.path.join(PATH, 'damselfly/data', '210915_pc_match_matrix_normalized'), pc_match_matrix)"
   ]
  },
  {
   "cell_type": "code",
   "execution_count": null,
   "id": "bdd87654",
   "metadata": {},
   "outputs": [],
   "source": [
    "sig_match_matrix = ((abs(dataset ) ** 2).sum(axis=-1)).reshape((dataset.shape[0], 1)).repeat(256, axis=-1)"
   ]
  },
  {
   "cell_type": "code",
   "execution_count": null,
   "id": "e2c9fcd6",
   "metadata": {},
   "outputs": [],
   "source": [
    "sns.set_theme(style='ticks', context='talk')\n",
    "cmap = sns.color_palette('mako', as_cmap=True)\n",
    "\n",
    "fig = plt.figure(figsize=(8,6))\n",
    "ax = fig.add_subplot(1,1,1)\n",
    "\n",
    "img = ax.imshow((pc_match_matrix).T, aspect='auto', cmap=cmap, interpolation='none')\n",
    "\n",
    "fig.colorbar(img, label='Match Ratio')\n",
    "\n",
    "ax.set_xlabel('Signal Index')\n",
    "ax.set_ylabel('Principle Component')\n",
    "\n",
    "ax.set_title('Match Ratio')\n",
    "\n",
    "plt.tight_layout()\n",
    "plt.savefig(os.path.join(PLOTPATH, '210914_principle_components_match_ratio_matrix'))\n",
    "\n"
   ]
  },
  {
   "cell_type": "code",
   "execution_count": null,
   "id": "ab49485f",
   "metadata": {},
   "outputs": [],
   "source": [
    "sns.set_theme(style='whitegrid', context='talk')\n",
    "cmap = sns.color_palette('mako', as_cmap=True)\n",
    "\n",
    "fig = plt.figure(figsize=(8,5))\n",
    "ax = fig.add_subplot(1,1,1)\n",
    "\n",
    "\n",
    "\n",
    "ax.plot((pc_match_matrix).mean(axis=0))\n",
    "\n",
    "\n",
    "ax.set_ylabel('Mean Match')\n",
    "ax.set_xlabel('Principle Component')\n",
    "ax.set_title('Mean Match for Principle Component')\n",
    "\n",
    "plt.tight_layout()\n",
    "plt.savefig(os.path.join(PLOTPATH, '210914_mean_match_for_principle_component'))"
   ]
  },
  {
   "cell_type": "code",
   "execution_count": null,
   "id": "9e4da91c",
   "metadata": {},
   "outputs": [],
   "source": [
    "sns.set_theme(style='whitegrid', context='talk')\n",
    "cmap = sns.color_palette('mako', as_cmap=True)\n",
    "\n",
    "fig = plt.figure(figsize=(8,5))\n",
    "ax = fig.add_subplot(1,1,1)\n",
    "\n",
    "\n",
    "\n",
    "ax.plot(np.flip(np.sort((pc_match_matrix).mean(axis=0))))\n",
    "\n",
    "\n",
    "ax.set_ylabel('Mean Match')\n",
    "ax.set_xlabel('Principle Component')\n",
    "ax.set_title('Mean Match for Principle Component, Sorted')\n",
    "\n",
    "plt.tight_layout()\n",
    "plt.savefig(os.path.join(PLOTPATH, '210914_mean_match_for_principle_component_sorted'))"
   ]
  },
  {
   "cell_type": "code",
   "execution_count": null,
   "id": "bd1897ae",
   "metadata": {},
   "outputs": [],
   "source": [
    "sns.set_theme(style='whitegrid', context='talk')\n",
    "cmap = sns.color_palette('mako', as_cmap=True)\n",
    "\n",
    "fig = plt.figure(figsize=(8,5))\n",
    "ax = fig.add_subplot(1,1,1)\n",
    "\n",
    "\n",
    "hist = ax.hist(pc_match_matrix.max(axis=-1), 32)\n",
    "#ax.plot(np.mean(pc_match_matrix.max(axis=-1)) * np.ones(5492), '--' ,color='tab:red', label = f'Mean Match = {np.round(np.mean(pc_match_matrix.max(axis=-1)), 3)}')\n",
    "#ax.legend(loc=(0.3, 0.6))\n",
    "\n",
    "ax.set_ylabel('N')\n",
    "ax.set_xlabel('Match Ratio')\n",
    "ax.set_title('Best Principle Component Match Ratio per Signal')\n",
    "\n",
    "\n",
    "plt.tight_layout()\n",
    "plt.savefig(os.path.join(PLOTPATH, '210914_best_match_for_principle_component'))\n",
    "#print(np.mean(pc_match_matrix.max(axis=-1)))"
   ]
  },
  {
   "cell_type": "code",
   "execution_count": null,
   "id": "a6bc4486",
   "metadata": {},
   "outputs": [],
   "source": [
    "covariance_real = np.matmul(signal_real_norm.T, signal_real_norm)\n",
    "covariance_imag = np.matmul(signal_imag_norm.T, signal_imag_norm)\n",
    "plt.figure()\n",
    "plt.imshow(covariance_real, interpolation = 'none')\n",
    "#plt.xlim(0, 20)\n",
    "#plt.ylim(0, 20)\n",
    "plt.figure()\n",
    "plt.imshow(covariance_imag, interpolation = 'none')\n",
    "#plt.xlim(0, 20)\n",
    "#plt.ylim(0, 20)"
   ]
  },
  {
   "cell_type": "code",
   "execution_count": null,
   "id": "36879d2a",
   "metadata": {},
   "outputs": [],
   "source": [
    "print('real')\n",
    "real_evals, real_evecs = np.linalg.eig(covariance_real)\n",
    "print('imag')\n",
    "imag_evals, imag_evecs = np.linalg.eig(covariance_imag)"
   ]
  },
  {
   "cell_type": "code",
   "execution_count": null,
   "id": "96647acd",
   "metadata": {},
   "outputs": [],
   "source": [
    "print(real_evecs.shape)"
   ]
  },
  {
   "cell_type": "code",
   "execution_count": null,
   "id": "1da642f4",
   "metadata": {},
   "outputs": [],
   "source": [
    "plt.plot(real_evals)\n",
    "plt.plot(imag_evals)\n",
    "plt.xlim(0, 10)"
   ]
  },
  {
   "cell_type": "code",
   "execution_count": null,
   "id": "b08e270f",
   "metadata": {},
   "outputs": [],
   "source": [
    "plt.plot(real_evecs[1, :])\n",
    "#plt.plot(real_evecs[1, :])\n",
    "#plt.plot(real_evecs[2, :])\n",
    "#plt.plot(real_evecs[3, :])\n",
    "#plt.plot(real_evecs[4, :])\n",
    "#plt.plot(real_evecs[5, :])\n",
    "#plt.plot(real_evecs[6, :])\n",
    "plt.xlim(8000, 8192)"
   ]
  },
  {
   "cell_type": "markdown",
   "id": "35e8885f",
   "metadata": {},
   "source": [
    "# try 100 signals"
   ]
  },
  {
   "cell_type": "code",
   "execution_count": null,
   "id": "4eba3ded",
   "metadata": {},
   "outputs": [],
   "source": []
  },
  {
   "cell_type": "code",
   "execution_count": null,
   "id": "6d14ad48",
   "metadata": {},
   "outputs": [],
   "source": []
  }
 ],
 "metadata": {
  "kernelspec": {
   "display_name": "Python 3",
   "language": "python",
   "name": "python3"
  },
  "language_info": {
   "codemirror_mode": {
    "name": "ipython",
    "version": 3
   },
   "file_extension": ".py",
   "mimetype": "text/x-python",
   "name": "python",
   "nbconvert_exporter": "python",
   "pygments_lexer": "ipython3",
   "version": "3.8.10"
  }
 },
 "nbformat": 4,
 "nbformat_minor": 5
}
