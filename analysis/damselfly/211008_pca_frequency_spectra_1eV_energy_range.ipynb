{
 "cells": [
  {
   "cell_type": "code",
   "execution_count": null,
   "id": "6a4c4d1b",
   "metadata": {},
   "outputs": [],
   "source": [
    "import numpy as np\n",
    "import matplotlib.pyplot as plt\n",
    "import seaborn as sns\n",
    "import pandas as pd\n",
    "import torch\n",
    "import h5py\n",
    "import os\n",
    "import sys\n",
    "import scipy\n",
    "import damselfly as df\n",
    "import scipy.signal\n",
    "import scipy.stats\n",
    "\n",
    "PATH = '/storage/home/adz6/group/project'\n",
    "RESULTPATH = os.path.join(PATH, 'results/damselfly')\n",
    "PLOTPATH = os.path.join(PATH, 'plots/damselfly')\n",
    "DATAPATH = os.path.join(PATH, 'damselfly/data/datasets')\n",
    "SIMDATAPATH = os.path.join(PATH, 'damselfly/data/sim_data')\n",
    "\n",
    "\"\"\"\n",
    "Date: 6/25/2021\n",
    "Description: template\n",
    "\"\"\"\n",
    "\n",
    "\n",
    "def MakeTemplates(signals, var =  1.38e-23 * 10 * 50 * 200e6):\n",
    "    norm_mat = 1 / np.sqrt(var * np.diag(np.matmul(signals, signals.conjugate().T)))\n",
    "\n",
    "    templates = norm_mat.reshape((*norm_mat.shape, 1)).repeat(signals.shape[-1], axis=-1) * signals\n",
    "    \n",
    "    return templates\n"
   ]
  },
  {
   "cell_type": "code",
   "execution_count": null,
   "id": "7b5f17fa",
   "metadata": {},
   "outputs": [],
   "source": [
    "os.listdir(os.path.join(PATH, 'mayfly/data/datasets'))"
   ]
  },
  {
   "cell_type": "code",
   "execution_count": null,
   "id": "28868572",
   "metadata": {},
   "outputs": [],
   "source": [
    "data = os.path.join(os.path.join(PATH, 'mayfly/data/datasets'), '211002_mf_84_100_slice8192.h5')\n",
    "h5datafile = h5py.File(data, 'r')"
   ]
  },
  {
   "cell_type": "code",
   "execution_count": null,
   "id": "a82be40c",
   "metadata": {},
   "outputs": [],
   "source": [
    "h5datafile['data'].shape"
   ]
  },
  {
   "cell_type": "markdown",
   "id": "5c5aec0b",
   "metadata": {},
   "source": [
    "# use meta data to select a range of pitch angles"
   ]
  },
  {
   "cell_type": "code",
   "execution_count": null,
   "id": "80b3c5f2",
   "metadata": {},
   "outputs": [],
   "source": [
    "antispiral = np.exp(-1j * np.arange(0, 60, 1) * 2 * np.pi / 60)\n",
    "\n",
    "Nsignal = h5datafile['data'].shape[0]\n",
    "Nsample = 8192\n",
    "\n",
    "dataset = np.zeros((Nsignal, Nsample), dtype=np.complex64)\n",
    "\n",
    "for i in range(Nsignal):\n",
    "    dataset[i, :] = np.fft.fftshift(np.fft.fft(((h5datafile['data'][i, :].reshape(60, 8192).T * antispiral).T).sum(axis=0))) / 8192"
   ]
  },
  {
   "cell_type": "code",
   "execution_count": null,
   "id": "3a056d76",
   "metadata": {},
   "outputs": [],
   "source": [
    "plt.plot(abs(dataset[0, :]))"
   ]
  },
  {
   "cell_type": "code",
   "execution_count": null,
   "id": "0787ece0",
   "metadata": {},
   "outputs": [],
   "source": [
    "meta = {}\n",
    "\n",
    "for i, key in enumerate(h5datafile['meta'].keys()):\n",
    "    if h5datafile['meta'][key][:].ndim == 1:\n",
    "        meta[key] = h5datafile['meta'][key][:]\n",
    "    \n",
    "meta = pd.DataFrame.from_dict(meta, )"
   ]
  },
  {
   "cell_type": "code",
   "execution_count": null,
   "id": "e6f7a435",
   "metadata": {},
   "outputs": [],
   "source": [
    "angle_max = 90\n",
    "angle_min = 84\n",
    "\n",
    "energy_max = 18600\n",
    "energy_min = 18599\n",
    "#pitch_angle_inds = np.array(meta[( meta['theta_min'] <= angle_max ) & ( meta['theta_min'] >= angle_min )].index.array)\n",
    "\n",
    "energy_inds = np.array(meta[( meta['energy'] <= energy_max ) & ( meta['energy'] >= energy_min )].index.array)\n",
    "\n",
    "#data_subset = dataset[pitch_angle_inds, :]\n",
    "data_subset = dataset[energy_inds, :]\n",
    "print(data_subset.shape)\n",
    "\n",
    "covariance_subset = np.matmul(data_subset.T, data_subset)\n",
    "print(covariance_subset.shape)"
   ]
  },
  {
   "cell_type": "code",
   "execution_count": null,
   "id": "75e06494",
   "metadata": {},
   "outputs": [],
   "source": [
    "sns.set_theme(context='talk', style='ticks')\n",
    "cmap = sns.color_palette('mako', as_cmap=True)\n",
    "\n",
    "freqs = np.fft.fftshift(np.fft.fftfreq(8192, 1/200e6))\n",
    "\n",
    "\n",
    "fig = plt.figure(figsize=(8,8))\n",
    "ax = fig.add_subplot(1,1,1)\n",
    "\n",
    "img = ax.imshow(np.log(abs(covariance_subset)), interpolation='none', cmap=cmap, extent=(freqs[0], freqs[-1], freqs[-1], freqs[0]))"
   ]
  },
  {
   "cell_type": "code",
   "execution_count": null,
   "id": "f73f7b17",
   "metadata": {},
   "outputs": [],
   "source": [
    "evals, evecs = np.linalg.eig(covariance_subset)"
   ]
  },
  {
   "cell_type": "code",
   "execution_count": null,
   "id": "84ab24a4",
   "metadata": {},
   "outputs": [],
   "source": [
    "np.save(os.path.join(PATH, 'damselfly/data/211007_principle_components_all_cov_matrix'), covariance_subset)\n",
    "np.save(os.path.join(PATH, 'damselfly/data/211007_principle_components_all_evals'), evals)\n",
    "np.save(os.path.join(PATH, 'damselfly/data/211007_principle_components_all_evecs'), evecs)"
   ]
  },
  {
   "cell_type": "markdown",
   "id": "b37b41f7",
   "metadata": {},
   "source": [
    "# eigenvalue decomposition for each 1eV range of energies"
   ]
  },
  {
   "cell_type": "code",
   "execution_count": null,
   "id": "b5bd98d5",
   "metadata": {},
   "outputs": [],
   "source": [
    "\n",
    "energies = np.flip(np.int32(np.linspace(18501, 18600, 100)))\n",
    "covariance_matrices = np.zeros((101, 8192,  8192), dtype = np.complex64)\n",
    "evals_matrix = np.zeros((101, 8192), dtype = np.complex64)\n",
    "evecs_matrix = np.zeros((101, 8192,  8192), dtype = np.complex64)\n",
    "\n",
    "for k, energy in enumerate(energies):\n",
    "    \n",
    "    energy_max = energy\n",
    "    energy_min = energy - 1\n",
    "    \n",
    "    #print(energy_max, energy_min)\n",
    "\n",
    "    #pitch_angle_inds = np.array(meta[( meta['theta_min'] <= angle_max ) & ( meta['theta_min'] >= angle_min )].index.array)\n",
    "    energy_inds = np.array(meta[( meta['energy'] <= energy_max ) & ( meta['energy'] >= energy_min )].index.array)\n",
    "    \n",
    "    data_subset = dataset[energy_inds, :]\n",
    "\n",
    "    covariance_subset = np.matmul(data_subset.T, data_subset)\n",
    "    \n",
    "    covariance_matrices[k, :, :] = covariance_subset\n",
    "    \n",
    "    evals, evecs = np.linalg.eig(covariance_subset)\n",
    "    \n",
    "    evals_matrix[k, :], evecs_matrix[k, :, :] = evals, evecs\n",
    "    \n",
    "    print((energy_max, energy_min))\n",
    "    \n",
    "    \n",
    "    "
   ]
  },
  {
   "cell_type": "code",
   "execution_count": null,
   "id": "8c47960e",
   "metadata": {},
   "outputs": [],
   "source": [
    "\n",
    "np.save(os.path.join(PATH, 'damselfly/data/211022_principle_components_1ev_energy_range_cov_mat'), covariance_matrices)\n",
    "np.save(os.path.join(PATH, 'damselfly/data/211022_principle_components_1ev_energy_range_evals'), evals_matrix)\n",
    "np.save(os.path.join(PATH, 'damselfly/data/211022_principle_components_1ev_energy_range_evecs'), evecs_matrix)\n",
    "'''\n",
    "covariance_matrices = np.load(os.path.join(PATH, 'damselfly/data/210916_principle_components_1deg_pitch_angle_range_covariance.npy'), )\n",
    "evals_matrix = np.load(os.path.join(PATH, 'damselfly/data/210916_principle_components_1deg_pitch_angle_range_evals.npy'), )\n",
    "evecs_matrix = np.load(os.path.join(PATH, 'damselfly/data/210916_principle_components_1deg_pitch_angle_range_evecs.npy'), )\n",
    "'''"
   ]
  },
  {
   "cell_type": "code",
   "execution_count": null,
   "id": "79a0dffd",
   "metadata": {},
   "outputs": [],
   "source": [
    "sns.set_theme(context='talk', style='whitegrid')\n",
    "fig = plt.figure(figsize=(10,5))\n",
    "ax = fig.add_subplot(1,1,1)\n",
    "\n",
    "for i in range(6):\n",
    "    ax.plot(abs(evals_matrix[i]), label = f'{90 - i}-{90 - i - 1}')\n",
    "#ax.set_xlim(0,100)\n",
    "ax.set_yscale('log')\n",
    "ax.set_ylabel(r'$\\log{\\lambda}$')\n",
    "ax.set_xlabel('N')\n",
    "ax.set_title('Sorted Eigenvalues for Pitach, Log-scale')\n",
    "ax.legend(title='Pitch Angle [deg]', loc=(1.01,0.))\n",
    "\n",
    "ax.set_xlim(0, 1024)\n",
    "ax.set_ylim(1e-16, 1e-13)\n",
    "plt.tight_layout()\n",
    "#plt.savefig(os.path.join(PLOTPATH, '210916_log_eigenvalues_pitch_angle'))"
   ]
  },
  {
   "cell_type": "code",
   "execution_count": null,
   "id": "6ce1ec04",
   "metadata": {},
   "outputs": [],
   "source": [
    "\n",
    "n = 1\n",
    "m = 2\n",
    "\n",
    "for j in range(6):\n",
    "    for i in range(1):\n",
    "        fig = plt.figure(figsize=(8,5))\n",
    "        ax = fig.add_subplot(1,1,1)\n",
    "        ax.plot(freqs, evecs_matrix[j, :, n].real, label='real')\n",
    "        ax.plot(freqs, evecs_matrix[j, :, n].imag, label='imag')\n",
    "        #ax.plot(freqs, abs(evecs[:, n]))\n",
    "        #ax.plot(freqs, dataset[m, :].real*1e7)\n",
    "        #ax.plot(freqs, dataset[m, :].imag*1e7)\n",
    "    \n",
    "#ax.set_xlim(0,200)\n",
    "ax.set_xlabel('Frequency (Hz)')\n",
    "ax.set_ylabel('Eigenvector Value (AU)')\n",
    "ax.set_title('Third Principle Component')\n",
    "\n",
    "#ax.legend(loc=2)\n",
    "\n",
    "#plt.tight_layout()\n",
    "#plt.savefig(os.path.join(PLOTPATH, '210914_third_principle_component'))\n",
    "\n",
    "#ax.plot(evecs[:, 0].imag)"
   ]
  },
  {
   "cell_type": "code",
   "execution_count": null,
   "id": "a3fe9c76",
   "metadata": {},
   "outputs": [],
   "source": [
    "n = 3\n",
    "m = \n",
    "\n",
    "pc = evecs[:, n]\n",
    "\n",
    "signal = dataset[m, :] / np.sqrt((abs(dataset[m, :]) ** 2 ).sum())\n",
    "print((abs(signal) ** 2).sum())\n",
    "print((abs(pc) ** 2).sum())\n",
    "fig = plt.figure(figsize=(8,5))\n",
    "ax = fig.add_subplot(1,1,1)\n",
    "\n",
    "ax.plot(freqs, pc.real)\n",
    "#ax2 = ax.twinx()\n",
    "ax.plot(freqs, signal.real, color='tab:red')\n",
    "\n",
    "ax.plot(freqs, pc.imag)\n",
    "ax.plot(freqs, signal.imag, color='tab:green')\n",
    "\n",
    "\n",
    "fig = plt.figure(figsize=(8,5))\n",
    "ax = fig.add_subplot(1,1,1)\n",
    "\n",
    "#ax.plot((np.exp(1j * np.pi / 2) * pc).imag)\n",
    "#ax.plot((np.exp(1j * np.pi / 2) * pc).real)\n",
    "#ax.plot((np.exp(1j * np.pi / 2) * pc).imag)\n",
    "\n",
    "\n",
    "for n in range(1):\n",
    "\n",
    "    ax.plot(abs(scipy.signal.convolve(np.exp(-1j * (8) * np.pi / 16) * pc, signal, mode='full')))\n",
    "    ax.plot(abs(scipy.signal.convolve(signal, signal, mode='full')))\n",
    "    #print(abs(scipy.signal.convolve(signal, signal, mode='same')).max())\n",
    "    \n",
    "#ax.plot(abs(scipy.signal.fftconvolve(np.exp(1j * 1 * np.pi / 16) * pc, signal, mode='same')))"
   ]
  },
  {
   "cell_type": "code",
   "execution_count": null,
   "id": "fc655886",
   "metadata": {},
   "outputs": [],
   "source": [
    "n = 2\n",
    "m = 3\n",
    "\n",
    "var = 1.38e-23 * 10 * 200e6 * 50\n",
    "#print(var / (np.sqrt(8192)))\n",
    "noise = np.random.multivariate_normal([0,0], np.eye(2) * var / 2, 8192)\n",
    "\n",
    "noise = np.fft.fft(noise[:, 0] + 1j * noise[:, 1]) / 8192\n",
    "pc = evecs[:, n]\n",
    "signal = dataset[m, :]\n",
    "\n",
    "fig = plt.figure(figsize=(8,5))\n",
    "ax = fig.add_subplot(1,1,1)\n",
    "\n",
    "#ax.plot(abs(dataset[m, :]))\n",
    "#ax.plot(abs(noise))\n",
    "\n",
    "#ax.plot(abs(scipy.signal.convolve(dataset[m, :], dataset[m, :], mode='full')))\n",
    "ax.plot(abs(scipy.signal.convolve(noise + signal, signal, mode='full')))\n",
    "#ax.plot(abs(scipy.signal.convolve(noise, noise, mode='full')))\n",
    "\n",
    "fig = plt.figure(figsize=(8,5))\n",
    "ax = fig.add_subplot(1,1,1)\n",
    "\n",
    "norm_noise = noise / np.sqrt((abs(noise) ** 2).sum())\n",
    "norm_signal = dataset[m, :] / np.sqrt((abs(dataset[m, :]) ** 2 ).sum())\n",
    "\n",
    "ax.plot(abs(scipy.signal.convolve(noise + pc * np.sqrt((abs(dataset[m, :]) ** 2 ).sum()), signal, mode='full')))\n",
    "#ax.plot(abs(scipy.signal.convolve(signal, signal, mode='full')))"
   ]
  },
  {
   "cell_type": "code",
   "execution_count": null,
   "id": "356977b6",
   "metadata": {},
   "outputs": [],
   "source": [
    "N_comp = 256\n",
    "m = 2\n",
    "projection_n, projection_noise, projection_signal = [], [], []\n",
    "\n",
    "for n in range(N_comp):\n",
    "    \n",
    "    noise = np.random.multivariate_normal([0,0], np.eye(2) * var / 2, 8192)\n",
    "\n",
    "    noise = np.fft.fft(noise[:, 0] + 1j * noise[:, 1]) / 8192\n",
    "    \n",
    "    pc = evecs[:, n]\n",
    "    \n",
    "    projection_signal.append(abs(scipy.signal.correlate(noise + dataset[m, :], dataset[m, :], mode='full')).max())\n",
    "    projection_n.append(abs(scipy.signal.correlate(pc * np.sqrt((abs(dataset[m, :]) ** 2 ).sum()), noise + dataset[m, :], mode='full')).max())\n",
    "    projection_noise.append(abs(scipy.signal.correlate(noise , pc * np.sqrt((abs(dataset[m, :]) ** 2 ).sum()), mode='full')).max())\n",
    "    \n",
    "projection_n = np.array(projection_n)\n",
    "projection_noise = np.array(projection_noise)\n",
    "projection_signal = np.array(projection_signal)\n",
    "\n",
    "print(projection_n.sum(), projection_signal.sum(), projection_noise.sum())\n",
    "\n",
    "fig = plt.figure(figsize=(8,5))\n",
    "ax = fig.add_subplot(1,1,1)\n",
    "\n",
    "ax.plot(projection_n, label='signal+noise')\n",
    "ax.plot(projection_noise, label='noise')\n",
    "ax.legend(loc=1)\n",
    "ax.set_xlabel('Principle Component')\n",
    "ax.set_ylabel('Correlation Max')\n",
    "ax.set_title('Correlation Using Principle Components',pad=20)\n",
    "\n",
    "plt.tight_layout()\n",
    "plt.savefig(os.path.join(PLOTPATH, '210914_correlation_using_pc_hard'))\n",
    "\n",
    "\n",
    "fig = plt.figure(figsize=(8,5))\n",
    "ax = fig.add_subplot(1,1,1)\n",
    "\n",
    "\n",
    "ax.set_xlabel('Trial')\n",
    "ax.set_ylabel('Correlation Max')\n",
    "ax.set_title('Correlation Using Signal, N-Trials',pad=20)\n",
    "\n",
    "\n",
    "ax.plot(projection_signal, label='signal+noise')\n",
    "ax.plot(projection_noise,label='noise')\n",
    "\n",
    "ax.legend(loc=1)\n",
    "\n",
    "plt.tight_layout()\n",
    "plt.savefig(os.path.join(PLOTPATH, '210914_correlation_using_signal_hard'))"
   ]
  },
  {
   "cell_type": "code",
   "execution_count": null,
   "id": "77f9b81c",
   "metadata": {},
   "outputs": [],
   "source": [
    "N_comp = 256\n",
    "N_trial = 50\n",
    "m = 1\n",
    "\n",
    "pc_max, signal_max, noise_max = [], [], []\n",
    "\n",
    "for k in range(N_trial):\n",
    "\n",
    "    projection_n, projection_noise, projection_signal = [], [], []\n",
    "\n",
    "    for n in range(N_comp):\n",
    "\n",
    "        noise = np.random.multivariate_normal([0,0], np.eye(2) * var / 2, 8192)\n",
    "\n",
    "        noise = np.fft.fft(noise[:, 0] + 1j * noise[:, 1]) / 8192\n",
    "\n",
    "        pc = evecs[:, n]\n",
    "\n",
    "        projection_signal.append(abs(scipy.signal.correlate(noise + dataset[m, :], dataset[m, :], mode='full')).max())\n",
    "        projection_n.append(abs(scipy.signal.correlate(pc * np.sqrt((abs(dataset[m, :]) ** 2 ).sum()), noise + dataset[m, :], mode='full')).max())\n",
    "        projection_noise.append(abs(scipy.signal.correlatet(noise , pc * np.sqrt((abs(dataset[m, :]) ** 2 ).sum()), mode='full')).max())\n",
    "\n",
    "    projection_n = np.array(projection_n)\n",
    "    projection_noise = np.array(projection_noise)\n",
    "    projection_signal = np.array(projection_signal)\n",
    "    \n",
    "    pc_max.append(projection_n.mean())\n",
    "    signal_max.append(projection_signal.mean())\n",
    "    noise_max.append(projection_noise.mean())\n",
    "    \n",
    "    \n",
    "\n",
    "    \n",
    "    \n",
    "\n"
   ]
  },
  {
   "cell_type": "code",
   "execution_count": null,
   "id": "482ff1f0",
   "metadata": {},
   "outputs": [],
   "source": [
    "pc_max = np.array(pc_max)\n",
    "signal_max = np.array(signal_max)\n",
    "noise_max = np.array(noise_max)\n",
    "\n",
    "fig = plt.figure(figsize=(8,5))\n",
    "ax = fig.add_subplot(1,1,1)\n",
    "\n",
    "\n",
    "hist1 = ax.hist(pc_max, histtype='step')\n",
    "hist2 = ax.hist(noise_max, histtype='step')\n",
    "hist3 = ax.hist(signal_max, histtype='step')\n"
   ]
  },
  {
   "cell_type": "code",
   "execution_count": null,
   "id": "2c784a23",
   "metadata": {},
   "outputs": [],
   "source": [
    "n = 5\n",
    "m = 6\n",
    "\n",
    "pc = evecs[:, n]\n",
    "signal = dataset[m, :]\n",
    "\n",
    "match_pc = abs(scipy.signal.correlate(pc, signal / np.sqrt((abs(dataset[m, :]) ** 2 ).sum()), mode='same')).max()\n",
    "match_sig = (abs(scipy.signal.correlate(signal / np.sqrt((abs(dataset[m, :]) ** 2 ).sum()), signal / np.sqrt((abs(dataset[m, :]) ** 2 ).sum()), mode='same')).max())\n",
    "\n",
    "\n",
    "print(match_pc, match_sig, match_pc / match_sig)"
   ]
  },
  {
   "cell_type": "code",
   "execution_count": null,
   "id": "13d58968",
   "metadata": {},
   "outputs": [],
   "source": [
    "sns.set_theme(context='talk', style='whitegrid')\n",
    "\n",
    "fig = plt.figure(figsize=(8,5))\n",
    "ax = fig.add_subplot(1,1,1)\n",
    "\n",
    "\n",
    "ax.plot(freqs, abs(pc), label='Principle Component')\n",
    "ax.plot(freqs, abs(signal / np.sqrt((abs(dataset[m, :]) ** 2 ).sum())), label='Signal')\n",
    "\n",
    "ax.set_ylabel('Amplitude')\n",
    "ax.set_xlabel('Frequency (Hz)')\n",
    "\n",
    "ax.legend(loc=2)\n",
    "\n",
    "plt.tight_layout()\n",
    "plt.savefig(os.path.join(PLOTPATH, '210914_normalized_signal_and_pc'))\n",
    "\n",
    "#print(np.vdot(pc, pc))\n",
    "#print(np.vdot(signal / np.sqrt((abs(dataset[m, :]) ** 2 ).sum()), signal / np.sqrt((abs(dataset[m, :]) ** 2 ).sum())))"
   ]
  },
  {
   "cell_type": "code",
   "execution_count": null,
   "id": "d5f02cd8",
   "metadata": {},
   "outputs": [],
   "source": [
    "x = scipy.signal.convolve(signal / np.sqrt((abs(signal) ** 2 ).sum()), signal / np.sqrt((abs(signal) ** 2 ).sum()), mode='same')\n",
    "print(np.vdot(x, x))\n",
    "plt.plot(abs(x))\n",
    "#plt.plot(scipy.signal.convolve(signal / np.sqrt((abs(signal) ** 2 ).sum()), signal / np.sqrt((abs(signal) ** 2 ).sum()), mode='same').imag)"
   ]
  },
  {
   "cell_type": "code",
   "execution_count": null,
   "id": "bc3fc168",
   "metadata": {},
   "outputs": [],
   "source": [
    "x = scipy.signal.convolve(pc, signal / np.sqrt((abs(signal) ** 2 ).sum()), mode='same')\n",
    "print(np.vdot(x,x))\n",
    "plt.plot(abs(x))"
   ]
  },
  {
   "cell_type": "code",
   "execution_count": null,
   "id": "1b0a2e70",
   "metadata": {},
   "outputs": [],
   "source": [
    "pc_match_matrix = np.zeros((dataset.shape[0], 256))\n",
    "\n",
    "norm_dataset = dataset / np.sqrt((abs(dataset) ** 2 ).sum(axis=-1)).reshape((dataset.shape[0], 1)).repeat(dataset.shape[-1], axis=-1)\n",
    "\n",
    "for k in range(dataset.shape[0]):\n",
    "    if k % 100 == 99:\n",
    "        print(k+1)\n",
    "    for i in range(256):\n",
    "        pc = evecs[:, i]\n",
    "\n",
    "        x = abs(scipy.signal.correlate(pc, dataset[k, :] / np.sqrt((abs(dataset[k, :]) ** 2 ).sum()), mode='same'))\n",
    "\n",
    "        pc_match_matrix[k, i] = x.max()\n",
    "\n",
    "        #if i % 10 == 9:\n",
    "        #    print(i + 1)\n",
    "\n"
   ]
  },
  {
   "cell_type": "code",
   "execution_count": null,
   "id": "1569a1cc",
   "metadata": {},
   "outputs": [],
   "source": [
    "np.save(os.path.join(PATH, 'damselfly/data', '210915_pc_match_matrix_normalized'), pc_match_matrix)"
   ]
  },
  {
   "cell_type": "code",
   "execution_count": null,
   "id": "bdd87654",
   "metadata": {},
   "outputs": [],
   "source": [
    "sig_match_matrix = ((abs(dataset ) ** 2).sum(axis=-1)).reshape((dataset.shape[0], 1)).repeat(256, axis=-1)"
   ]
  },
  {
   "cell_type": "code",
   "execution_count": null,
   "id": "e2c9fcd6",
   "metadata": {},
   "outputs": [],
   "source": [
    "sns.set_theme(style='ticks', context='talk')\n",
    "cmap = sns.color_palette('mako', as_cmap=True)\n",
    "\n",
    "fig = plt.figure(figsize=(8,6))\n",
    "ax = fig.add_subplot(1,1,1)\n",
    "\n",
    "img = ax.imshow((pc_match_matrix).T, aspect='auto', cmap=cmap, interpolation='none')\n",
    "\n",
    "fig.colorbar(img, label='Match Ratio')\n",
    "\n",
    "ax.set_xlabel('Signal Index')\n",
    "ax.set_ylabel('Principle Component')\n",
    "\n",
    "ax.set_title('Match Ratio')\n",
    "\n",
    "plt.tight_layout()\n",
    "plt.savefig(os.path.join(PLOTPATH, '210914_principle_components_match_ratio_matrix'))\n",
    "\n"
   ]
  },
  {
   "cell_type": "code",
   "execution_count": null,
   "id": "ab49485f",
   "metadata": {},
   "outputs": [],
   "source": [
    "sns.set_theme(style='whitegrid', context='talk')\n",
    "cmap = sns.color_palette('mako', as_cmap=True)\n",
    "\n",
    "fig = plt.figure(figsize=(8,5))\n",
    "ax = fig.add_subplot(1,1,1)\n",
    "\n",
    "\n",
    "\n",
    "ax.plot((pc_match_matrix).mean(axis=0))\n",
    "\n",
    "\n",
    "ax.set_ylabel('Mean Match')\n",
    "ax.set_xlabel('Principle Component')\n",
    "ax.set_title('Mean Match for Principle Component')\n",
    "\n",
    "plt.tight_layout()\n",
    "plt.savefig(os.path.join(PLOTPATH, '210914_mean_match_for_principle_component'))"
   ]
  },
  {
   "cell_type": "code",
   "execution_count": null,
   "id": "9e4da91c",
   "metadata": {},
   "outputs": [],
   "source": [
    "sns.set_theme(style='whitegrid', context='talk')\n",
    "cmap = sns.color_palette('mako', as_cmap=True)\n",
    "\n",
    "fig = plt.figure(figsize=(8,5))\n",
    "ax = fig.add_subplot(1,1,1)\n",
    "\n",
    "\n",
    "\n",
    "ax.plot(np.flip(np.sort((pc_match_matrix).mean(axis=0))))\n",
    "\n",
    "\n",
    "ax.set_ylabel('Mean Match')\n",
    "ax.set_xlabel('Principle Component')\n",
    "ax.set_title('Mean Match for Principle Component, Sorted')\n",
    "\n",
    "plt.tight_layout()\n",
    "plt.savefig(os.path.join(PLOTPATH, '210914_mean_match_for_principle_component_sorted'))"
   ]
  },
  {
   "cell_type": "code",
   "execution_count": null,
   "id": "bd1897ae",
   "metadata": {},
   "outputs": [],
   "source": [
    "sns.set_theme(style='whitegrid', context='talk')\n",
    "cmap = sns.color_palette('mako', as_cmap=True)\n",
    "\n",
    "fig = plt.figure(figsize=(8,5))\n",
    "ax = fig.add_subplot(1,1,1)\n",
    "\n",
    "\n",
    "hist = ax.hist(pc_match_matrix.max(axis=-1), 32)\n",
    "#ax.plot(np.mean(pc_match_matrix.max(axis=-1)) * np.ones(5492), '--' ,color='tab:red', label = f'Mean Match = {np.round(np.mean(pc_match_matrix.max(axis=-1)), 3)}')\n",
    "#ax.legend(loc=(0.3, 0.6))\n",
    "\n",
    "ax.set_ylabel('N')\n",
    "ax.set_xlabel('Match Ratio')\n",
    "ax.set_title('Best Principle Component Match Ratio per Signal')\n",
    "\n",
    "\n",
    "plt.tight_layout()\n",
    "plt.savefig(os.path.join(PLOTPATH, '210914_best_match_for_principle_component'))\n",
    "#print(np.mean(pc_match_matrix.max(axis=-1)))"
   ]
  },
  {
   "cell_type": "code",
   "execution_count": null,
   "id": "a6bc4486",
   "metadata": {},
   "outputs": [],
   "source": [
    "covariance_real = np.matmul(signal_real_norm.T, signal_real_norm)\n",
    "covariance_imag = np.matmul(signal_imag_norm.T, signal_imag_norm)\n",
    "plt.figure()\n",
    "plt.imshow(covariance_real, interpolation = 'none')\n",
    "#plt.xlim(0, 20)\n",
    "#plt.ylim(0, 20)\n",
    "plt.figure()\n",
    "plt.imshow(covariance_imag, interpolation = 'none')\n",
    "#plt.xlim(0, 20)\n",
    "#plt.ylim(0, 20)"
   ]
  },
  {
   "cell_type": "code",
   "execution_count": null,
   "id": "36879d2a",
   "metadata": {},
   "outputs": [],
   "source": [
    "print('real')\n",
    "real_evals, real_evecs = np.linalg.eig(covariance_real)\n",
    "print('imag')\n",
    "imag_evals, imag_evecs = np.linalg.eig(covariance_imag)"
   ]
  },
  {
   "cell_type": "code",
   "execution_count": null,
   "id": "96647acd",
   "metadata": {},
   "outputs": [],
   "source": [
    "print(real_evecs.shape)"
   ]
  },
  {
   "cell_type": "code",
   "execution_count": null,
   "id": "1da642f4",
   "metadata": {},
   "outputs": [],
   "source": [
    "plt.plot(real_evals)\n",
    "plt.plot(imag_evals)\n",
    "plt.xlim(0, 10)"
   ]
  },
  {
   "cell_type": "code",
   "execution_count": null,
   "id": "b08e270f",
   "metadata": {},
   "outputs": [],
   "source": [
    "plt.plot(real_evecs[1, :])\n",
    "#plt.plot(real_evecs[1, :])\n",
    "#plt.plot(real_evecs[2, :])\n",
    "#plt.plot(real_evecs[3, :])\n",
    "#plt.plot(real_evecs[4, :])\n",
    "#plt.plot(real_evecs[5, :])\n",
    "#plt.plot(real_evecs[6, :])\n",
    "plt.xlim(8000, 8192)"
   ]
  },
  {
   "cell_type": "markdown",
   "id": "35e8885f",
   "metadata": {},
   "source": [
    "# try 100 signals"
   ]
  },
  {
   "cell_type": "code",
   "execution_count": null,
   "id": "4eba3ded",
   "metadata": {},
   "outputs": [],
   "source": []
  },
  {
   "cell_type": "code",
   "execution_count": null,
   "id": "6d14ad48",
   "metadata": {},
   "outputs": [],
   "source": []
  }
 ],
 "metadata": {
  "kernelspec": {
   "display_name": "Python 3",
   "language": "python",
   "name": "python3"
  },
  "language_info": {
   "codemirror_mode": {
    "name": "ipython",
    "version": 3
   },
   "file_extension": ".py",
   "mimetype": "text/x-python",
   "name": "python",
   "nbconvert_exporter": "python",
   "pygments_lexer": "ipython3",
   "version": "3.8.10"
  }
 },
 "nbformat": 4,
 "nbformat_minor": 5
}
