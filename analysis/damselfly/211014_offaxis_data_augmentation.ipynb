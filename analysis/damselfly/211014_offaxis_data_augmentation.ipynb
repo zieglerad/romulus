{
 "cells": [
  {
   "cell_type": "code",
   "execution_count": null,
   "id": "6a4c4d1b",
   "metadata": {},
   "outputs": [],
   "source": [
    "import numpy as np\n",
    "import matplotlib.pyplot as plt\n",
    "import seaborn as sns\n",
    "import pandas as pd\n",
    "import torch\n",
    "import h5py\n",
    "import os\n",
    "import sys\n",
    "import scipy\n",
    "import damselfly as df\n",
    "import scipy.signal\n",
    "import scipy.stats\n",
    "\n",
    "PATH = '/storage/home/adz6/group/project'\n",
    "RESULTPATH = os.path.join(PATH, 'results/damselfly')\n",
    "PLOTPATH = os.path.join(PATH, 'plots/damselfly')\n",
    "DATAPATH = os.path.join(PATH, 'damselfly/data/datasets')\n",
    "SIMDATAPATH = os.path.join(PATH, 'damselfly/data/sim_data')\n",
    "\n",
    "\"\"\"\n",
    "Date: 6/25/2021\n",
    "Description: template\n",
    "\"\"\"\n",
    "\n",
    "\n",
    "def shift_and_sum(signal, x_range, y_range, N):\n",
    "    \n",
    "    nch = signal.shape[0]\n",
    "    angles = np.radians(np.arange(0, nch, 1) * 360 / nch)\n",
    "    r_array = 0.10\n",
    "    wavelength_lo = 3e8 / 25.86e9\n",
    "    \n",
    "    x_antenna = r_array * np.cos(angles)\n",
    "    y_antenna = r_array * np.sin(angles)\n",
    "    x_antenna = x_antenna.reshape((1, x_antenna.size)).repeat(N ** 2, axis = 0)\n",
    "    y_antenna = y_antenna.reshape((1, y_antenna.size)).repeat(N ** 2, axis = 0)\n",
    "    \n",
    "    x_array = np.linspace(-x_range, x_range, N)\n",
    "    y_array = np.linspace(-y_range, y_range, N)\n",
    "    \n",
    "    x_grid, y_grid = np.meshgrid(x_array, y_array)\n",
    "    x_grid = x_grid.flatten().reshape((x_grid.size, 1)).repeat(nch, axis=-1)\n",
    "    y_grid = y_grid.flatten().reshape((y_grid.size, 1)).repeat(nch, axis=-1)\n",
    "    \n",
    "    #print(x_antenna.shape, x_grid.shape)\n",
    "    \n",
    "    phase_grid = 2 * np.pi * np.sqrt((x_grid - x_antenna) ** 2 + (y_grid - y_antenna) ** 2) / wavelength_lo\n",
    "    \n",
    "    anti_spiral = angles.reshape((1, angles.size)).repeat(N**2, axis=0)\n",
    "    \n",
    "    summed_signals = np.matmul(np.exp(1j * (phase_grid-anti_spiral)), signal)\n",
    "    \n",
    "    summed_signals = summed_signals.reshape((N, N, summed_signals.shape[-1]))\n",
    "    \n",
    "    return summed_signals\n",
    "\n",
    "\n",
    "def shift_signal(signal, x_new, y_new):\n",
    "    \n",
    "    nch = signal.shape[0]\n",
    "    angles = np.radians(np.arange(0, nch, 1) * 360 / nch)\n",
    "    r_array = 0.10\n",
    "    wavelength_lo = 3e8 / 25.86e9\n",
    "    \n",
    "    x_antenna = r_array * np.cos(angles)\n",
    "    y_antenna = r_array * np.sin(angles)\n",
    "    x_antenna = x_antenna.reshape((x_antenna.size, 1)).repeat(signal.shape[-1], axis = -1)\n",
    "    y_antenna = y_antenna.reshape((y_antenna.size, 1)).repeat(signal.shape[-1], axis = -1)\n",
    "    \n",
    "    d_old = np.sqrt(x_antenna ** 2 + y_antenna ** 2)\n",
    "    d_new = np.sqrt((x_new - x_antenna) ** 2 + (y_new - y_antenna) ** 2)\n",
    "    \n",
    "    \n",
    "    \n",
    "    phase_shift = 2 * np.pi * (d_new - d_old) / wavelength_lo\n",
    "    #print(phase_shift)\n",
    "    \n",
    "    shifted_signal = np.exp(-1j * phase_shift) * signal\n",
    "    \n",
    "    return shifted_signal\n",
    "    \n",
    "    \n",
    "def shift_signal_time(signal, x_new, y_new, freq):\n",
    "    \n",
    "    nch = signal.shape[0]\n",
    "    angles = np.radians(np.arange(0, nch, 1) * 360 / nch)\n",
    "    r_array = 0.10\n",
    "    wavelength_lo = 3e8 / 25.86e9\n",
    "    Nsample = 8192\n",
    "    fsample = 200e6\n",
    "    \n",
    "    x_antenna = r_array * np.cos(angles)\n",
    "    y_antenna = r_array * np.sin(angles)\n",
    "    \n",
    "    x_antenna = x_antenna.reshape((x_antenna.size, 1)).repeat(signal.shape[-1], axis = -1)\n",
    "    y_antenna = y_antenna.reshape((y_antenna.size, 1)).repeat(signal.shape[-1], axis = -1)\n",
    "    \n",
    "    source_angle = -1 * 2 * np.pi * np.arange(0, Nsample, 1) * freq / fsample\n",
    "    \n",
    "    r_new = np.sqrt(x_new ** 2 + y_new ** 2)\n",
    "    \n",
    "    x_new = r_new * np.cos(source_angle).reshape((1, Nsample)).repeat(nch, axis=0)\n",
    "    y_new = r_new * np.sin(source_angle).reshape((1, Nsample)).repeat(nch, axis=0)\n",
    "    \n",
    "    d_old = np.sqrt(x_antenna ** 2 + y_antenna ** 2)\n",
    "    d_new = np.sqrt((x_new - x_antenna) ** 2 + (y_new - y_antenna) ** 2)\n",
    "    \n",
    "    phase_shift = 2 * np.pi * (d_new - d_old) / wavelength_lo\n",
    "    print(phase_shift.shape)\n",
    "    \n",
    "    shifted_signal = np.exp(-1j * phase_shift) * signal\n",
    "    \n",
    "    return shifted_signal\n",
    "    \n",
    "    \n",
    "    "
   ]
  },
  {
   "cell_type": "code",
   "execution_count": null,
   "id": "c89dac12",
   "metadata": {},
   "outputs": [],
   "source": [
    "#shift_and_sum(np.zeros((60, 8192)), 0.03, 0.03, 51)"
   ]
  },
  {
   "cell_type": "code",
   "execution_count": null,
   "id": "7b5f17fa",
   "metadata": {},
   "outputs": [],
   "source": [
    "os.listdir(os.path.join(PATH, 'mayfly/data/datasets'))"
   ]
  },
  {
   "cell_type": "code",
   "execution_count": null,
   "id": "799e14a5",
   "metadata": {},
   "outputs": [],
   "source": [
    "os.listdir(os.path.join(PATH, 'damselfly/data/sim_data'))"
   ]
  },
  {
   "cell_type": "markdown",
   "id": "6bde76b7",
   "metadata": {},
   "source": [
    "# load data"
   ]
  },
  {
   "cell_type": "code",
   "execution_count": null,
   "id": "3768b2ab",
   "metadata": {},
   "outputs": [],
   "source": [
    "data = os.path.join(os.path.join(PATH, 'mayfly/data/datasets'), '211002_mf_84_100_slice8192.h5')\n",
    "#data = os.path.join(os.path.join(PATH, 'damselfly/data/sim_data'), '210729_df_84_1slice.h5')\n",
    "\n",
    "h5datafile = h5py.File(data, 'r')\n",
    "\n",
    "energies = h5datafile['meta']['energy'][:]\n",
    "\n",
    "select_energies = np.argwhere(abs(energies - 18550) <= 0.5).squeeze()"
   ]
  },
  {
   "cell_type": "code",
   "execution_count": null,
   "id": "80b3c5f2",
   "metadata": {},
   "outputs": [],
   "source": [
    "data = os.path.join(os.path.join(PATH, 'mayfly/data/datasets'), '211002_mf_84_100_slice8192.h5')\n",
    "#data = os.path.join(os.path.join(PATH, 'damselfly/data/sim_data'), '210729_df_84_1slice.h5')\n",
    "\n",
    "h5datafile = h5py.File(data, 'r')\n",
    "\n",
    "#print(h5datafile['data'].shape)\n",
    "\n",
    "Nsignal = h5datafile['data'].shape[0]\n",
    "\n",
    "#Nsignal = len(list(h5datafile['signal'].keys()))\n",
    "Nsample = 8192\n",
    "Nch = 60\n",
    "\n",
    "dataset = np.zeros((select_energies.size, Nch * Nsample), dtype=np.complex64)\n",
    "print(dataset.shape)\n",
    "\n",
    "for i, index in enumerate(select_energies):\n",
    "#    dataset[i, :] = np.fft.fftshift(np.fft.fft(h5datafile['data'][i, :].reshape(60, 8192).sum(axis=0))) / 8192\n",
    "#    dataset[i, :] = h5datafile['signal'][f'{i}'][0, :]\n",
    "    dataset[i, :] = (np.fft.fftshift((np.fft.fft(h5datafile['data'][index, :].reshape(60, 8192), axis=-1)), axes=-1) / 8192).flatten()"
   ]
  },
  {
   "cell_type": "markdown",
   "id": "f2165b7d",
   "metadata": {},
   "source": [
    "# beamforming"
   ]
  },
  {
   "cell_type": "code",
   "execution_count": null,
   "id": "faf7b688",
   "metadata": {},
   "outputs": [],
   "source": [
    "signal = dataset[0, :].reshape((60, 8192))\n",
    "\n",
    "summed_signal = shift_and_sum(signal, 0.03, 0.03, 101)"
   ]
  },
  {
   "cell_type": "code",
   "execution_count": null,
   "id": "c2ea0062",
   "metadata": {},
   "outputs": [],
   "source": [
    "plt.imshow(abs(summed_signal).sum(axis=-1) ** 2)"
   ]
  },
  {
   "cell_type": "markdown",
   "id": "70e08253",
   "metadata": {},
   "source": [
    "# augment position"
   ]
  },
  {
   "cell_type": "code",
   "execution_count": null,
   "id": "2e199b37",
   "metadata": {},
   "outputs": [],
   "source": [
    "signal = dataset[0, :].reshape((60, 8192))\n",
    "\n",
    "shifted_signal = shift_signal(signal, 0.001, 0.0)\n",
    "\n",
    "summed_shifted_signal = shift_and_sum(shifted_signal, 0.03, 0.03, 101)"
   ]
  },
  {
   "cell_type": "code",
   "execution_count": null,
   "id": "c3ef3228",
   "metadata": {},
   "outputs": [],
   "source": [
    "plt.imshow(abs(summed_shifted_signal).sum(axis=-1) ** 2)"
   ]
  },
  {
   "cell_type": "markdown",
   "id": "728938fd",
   "metadata": {},
   "source": [
    "# augment position time"
   ]
  },
  {
   "cell_type": "code",
   "execution_count": null,
   "id": "27065619",
   "metadata": {},
   "outputs": [],
   "source": [
    "data = os.path.join(os.path.join(PATH, 'mayfly/data/datasets'), '211002_mf_84_100_slice8192.h5')\n",
    "#data = os.path.join(os.path.join(PATH, 'damselfly/data/sim_data'), '210729_df_84_1slice.h5')\n",
    "\n",
    "h5datafile = h5py.File(data, 'r')\n",
    "\n",
    "#print(h5datafile['data'].shape)\n",
    "\n",
    "Nsignal = h5datafile['data'].shape[0]\n",
    "\n",
    "#Nsignal = len(list(h5datafile['signal'].keys()))\n",
    "Nsample = 8192\n",
    "Nch = 60\n",
    "\n",
    "dataset = np.zeros((select_energies.size, Nch * Nsample), dtype=np.complex64)\n",
    "print(dataset.shape)\n",
    "\n",
    "for i, index in enumerate(select_energies):\n",
    "#    dataset[i, :] = np.fft.fftshift(np.fft.fft(h5datafile['data'][i, :].reshape(60, 8192).sum(axis=0))) / 8192\n",
    "#    dataset[i, :] = h5datafile['signal'][f'{i}'][0, :]\n",
    "    dataset[i, :] = (h5datafile['data'][index, :])"
   ]
  },
  {
   "cell_type": "code",
   "execution_count": null,
   "id": "cccb1740",
   "metadata": {},
   "outputs": [],
   "source": [
    "signal = dataset[0, :].reshape((60, 8192))\n",
    "\n",
    "shifted_signal = shift_signal_time(signal, 0.02, 0.0, 5e3)\n",
    "\n",
    "summed_shifted_signal = shift_and_sum(shifted_signal, 0.03, 0.03, 101)"
   ]
  },
  {
   "cell_type": "code",
   "execution_count": null,
   "id": "cc417884",
   "metadata": {},
   "outputs": [],
   "source": [
    "plt.imshow(abs(summed_shifted_signal).sum(axis=-1) ** 2)"
   ]
  },
  {
   "cell_type": "code",
   "execution_count": null,
   "id": "d2dc6881",
   "metadata": {},
   "outputs": [],
   "source": [
    "transpose_matrix = np.matmul(dataset, dataset.T)\n",
    "\n",
    "evals, evecs = np.linalg.eig(transpose_matrix)"
   ]
  },
  {
   "cell_type": "code",
   "execution_count": null,
   "id": "5d37af20",
   "metadata": {},
   "outputs": [],
   "source": [
    "print(evecs[:, 1].shape, dataset.T.shape)"
   ]
  },
  {
   "cell_type": "code",
   "execution_count": null,
   "id": "d00df821",
   "metadata": {},
   "outputs": [],
   "source": [
    "dataset_evec = np.matmul(dataset.T, evecs[:, 1].reshape((305, 1)))"
   ]
  },
  {
   "cell_type": "code",
   "execution_count": null,
   "id": "414c8c2e",
   "metadata": {},
   "outputs": [],
   "source": [
    "plt.plot(abs(dataset_evec))\n",
    "plt.xlim(0, 2 * 8192)"
   ]
  },
  {
   "cell_type": "code",
   "execution_count": null,
   "id": "c1c8c974",
   "metadata": {},
   "outputs": [],
   "source": [
    "plt.plot(dataset_evec.real)\n",
    "plt.plot(dataset_evec.imag)\n",
    "plt.xlim(0, 8192)"
   ]
  },
  {
   "cell_type": "code",
   "execution_count": null,
   "id": "35a13d7f",
   "metadata": {},
   "outputs": [],
   "source": [
    "plt.plot(dataset_evec.real)\n",
    "plt.plot(dataset_evec.imag)\n",
    "plt.xlim(491520 - 14 * 8192, 491520 - 15 * 8192)"
   ]
  },
  {
   "cell_type": "markdown",
   "id": "c61170c8",
   "metadata": {},
   "source": [
    "# select pc's"
   ]
  },
  {
   "cell_type": "code",
   "execution_count": null,
   "id": "a3fe9c76",
   "metadata": {},
   "outputs": [],
   "source": [
    "pc_max_vals = abs(pca_range_evecs).max(axis=1)"
   ]
  },
  {
   "cell_type": "code",
   "execution_count": null,
   "id": "9042c7ea",
   "metadata": {},
   "outputs": [],
   "source": [
    "selected_pc_inds = np.argwhere(pc_max_vals >= 0.75)\n",
    "\n",
    "select_pc = pca_range_evecs[selected_pc_inds[:, 0], :, selected_pc_inds[:, 1]]\n",
    "\n",
    "print(select_pc.shape)\n"
   ]
  },
  {
   "cell_type": "code",
   "execution_count": null,
   "id": "fc655886",
   "metadata": {},
   "outputs": [],
   "source": [
    "n = 2\n",
    "m = 3\n",
    "\n",
    "ch = 1\n",
    "\n",
    "var = 1.38e-23 * 10 * 200e6 * 50\n",
    "#print(var / (np.sqrt(8192)))\n",
    "noise = np.random.multivariate_normal([0,0], np.eye(2) * var / 2, 8192)\n",
    "\n",
    "noise = np.fft.fft(noise[:, 0] + 1j * noise[:, 1]) / 8192\n",
    "pc = select_pc[n, :]\n",
    "signal = dataset[m, ch, :]\n",
    "\n",
    "fig = plt.figure(figsize=(8,5))\n",
    "ax = fig.add_subplot(1,1,1)\n",
    "\n",
    "#ax.plot(abs(dataset[m, :]))\n",
    "#ax.plot(abs(noise))\n",
    "\n",
    "#ax.plot(abs(scipy.signal.convolve(dataset[m, :], dataset[m, :], mode='full')))\n",
    "#ax.plot(abs(scipy.signal.correlate(pc * np.sqrt((abs(dataset[m, ch, :]) ** 2 ).sum()), signal, mode='full')))\n",
    "\n",
    "\n",
    "#ax.plot(abs(scipy.signal.convolve(noise, noise, mode='full')))\n",
    "\n",
    "#fig = plt.figure(figsize=(8,5))\n",
    "#ax = fig.add_subplot(1,1,1)\n",
    "\n",
    "#norm_noise = noise / np.sqrt((abs(noise) ** 2).sum())\n",
    "#norm_signal = dataset[m, :] / np.sqrt((abs(dataset[m, ch, :]) ** 2 ).sum())\n",
    "\n",
    "ax.plot(abs(scipy.signal.convolve(pc * np.sqrt((abs(dataset[m, ch, :]) ** 2 ).sum()), np.flip(signal), mode='full')))\n",
    "ax.plot(abs(scipy.signal.convolve(pc * np.sqrt((abs(dataset[m, ch, :]) ** 2 ).sum()), np.exp(-1j * 0 * np.pi / 4) * np.flip(signal), mode='full')))\n",
    "#ax.plot(abs(scipy.signal.convolve(signal, signal, mode='full')))"
   ]
  },
  {
   "cell_type": "markdown",
   "id": "191587e7",
   "metadata": {},
   "source": [
    "# do pc projection then sum, compare to sum before projection"
   ]
  },
  {
   "cell_type": "code",
   "execution_count": null,
   "id": "fc4832d8",
   "metadata": {},
   "outputs": [],
   "source": [
    "n = 2\n",
    "m = 3\n",
    "\n",
    "\n",
    "var = 1.38e-23 * 10 * 200e6 * 50\n",
    "#print(var / (np.sqrt(8192)))\n",
    "noise = np.random.multivariate_normal([0,0], np.eye(2) * var / 2, 8192)\n",
    "\n",
    "noise = np.fft.fft(noise[:, 0] + 1j * noise[:, 1]) / 8192\n",
    "pc = select_pc[n, :]\n",
    "\n",
    "signal = dataset[m, :, :]\n",
    "\n",
    "sum_signal = signal.sum(axis=0)\n",
    "print\n",
    "\n",
    "sum_proj_signal = abs(scipy.signal.fftconvolve(pc , np.flip(sum_signal), mode='full', axes=-1))\n",
    "\n",
    "proj_signal = abs(scipy.signal.fftconvolve(pc.reshape((1, pc.size)).repeat(60, axis=0) , np.flip(signal, axis=-1), mode='full', axes=-1))\n",
    "\n",
    "\n",
    "fig = plt.figure(figsize=(8,5))\n",
    "ax = fig.add_subplot(1,1,1)\n",
    "\n",
    "ax.plot(sum_signal.real)\n",
    "\n",
    "fig = plt.figure(figsize=(8,5))\n",
    "ax = fig.add_subplot(1,1,1)\n",
    "\n",
    "ax.plot(signal[0, :].real)\n",
    "\n",
    "fig = plt.figure(figsize=(8,5))\n",
    "ax = fig.add_subplot(1,1,1)\n",
    "\n",
    "ax.plot(proj_signal[0, :])\n",
    "#ax.plot(abs(noise))\n",
    "\n",
    "fig = plt.figure(figsize=(8,5))\n",
    "ax = fig.add_subplot(1,1,1)\n",
    "\n",
    "ax.plot(proj_signal.sum(axis=0))\n",
    "ax.plot(sum_proj_signal)"
   ]
  },
  {
   "cell_type": "markdown",
   "id": "46fdfb4d",
   "metadata": {},
   "source": [
    "# example multi-component projection with noise"
   ]
  },
  {
   "cell_type": "code",
   "execution_count": null,
   "id": "356977b6",
   "metadata": {},
   "outputs": [],
   "source": [
    "#N_comp = 256\n",
    "m = 0\n",
    "projection_n, projection_noise, projection_signal = [], [], []\n",
    "signal = dataset[m, :, :]\n",
    "\n",
    "for n in range(select_pc.shape[0]):\n",
    "    \n",
    "    var = 1.38e-23 * 10 * 200e6 * 50\n",
    "    #print(var / (np.sqrt(8192)))\n",
    "    noise = np.random.multivariate_normal([0,0], np.eye(2) * var / 2, 8192 * 60)\n",
    "    noise = np.fft.fft(((noise[:, 0] + 1j * noise[:, 1]) / 8192).reshape((60, 8192)), axis=-1)\n",
    "    \n",
    "    pc = select_pc[n, :]\n",
    "    \n",
    "    proj_signal = abs(scipy.signal.fftconvolve(pc.reshape((1, pc.size)).repeat(60, axis=0) , noise + np.flip(signal, axis=-1), mode='full', axes=-1))\n",
    "    proj_noise = abs(scipy.signal.fftconvolve(pc.reshape((1, pc.size)).repeat(60, axis=0) , noise , mode='full', axes=-1))\n",
    "    \n",
    "    projection_n.append(proj_signal.sum(axis=0).max() )\n",
    "    projection_noise.append(proj_noise.sum(axis=0).max())\n",
    "    \n",
    "    \n",
    "projection_n = np.array(projection_n)\n",
    "projection_noise = np.array(projection_noise)\n",
    "#projection_signal = np.array(projection_signal)\n",
    "\n",
    "#print(projection_n.mean(), projection_noise.mean(), projection_n.mean() - projection_noise.mean())\n",
    "\n",
    "fig = plt.figure(figsize=(8,5))\n",
    "ax = fig.add_subplot(1,1,1)\n",
    "\n",
    "hist = ax.plot(projection_n, label='signal+noise')\n",
    "hist = ax.plot(projection_noise, label='noise')\n",
    "ax.legend(loc=1)\n",
    "ax.set_xlabel('Principle Component')\n",
    "ax.set_ylabel('Correlation Max')\n",
    "ax.set_title('Correlation Using Principle Components',pad=20)\n",
    "'''\n",
    "plt.tight_layout()\n",
    "#plt.savefig(os.path.join(PLOTPATH, '210914_correlation_using_pc_hard'))\n",
    "\n",
    "\n",
    "fig = plt.figure(figsize=(8,5))\n",
    "ax = fig.add_subplot(1,1,1)\n",
    "\n",
    "\n",
    "ax.set_xlabel('Trial')\n",
    "ax.set_ylabel('Correlation Max')\n",
    "ax.set_title('Correlation Using Signal, N-Trials',pad=20)\n",
    "\n",
    "\n",
    "ax.plot(noise + np.flip(dataset[m, :]), label='signal+noise')\n",
    "ax.plot(np.flip(dataset[m, :]), label='signal+noise')\n",
    "#ax.plot(projection_noise,label='noise')\n",
    "\n",
    "ax.legend(loc=1)\n",
    "\n",
    "plt.tight_layout()\n",
    "#plt.savefig(os.path.join(PLOTPATH, '210914_correlation_using_signal_hard'))\n",
    "'''"
   ]
  },
  {
   "cell_type": "code",
   "execution_count": null,
   "id": "d049c213",
   "metadata": {},
   "outputs": [],
   "source": [
    "\n",
    "signal_noise_proj = []\n",
    "noise_only_proj = []\n",
    "\n",
    "for trial in range(25):\n",
    "    m = 0\n",
    "    projection_n, projection_noise, projection_signal = [], [], []\n",
    "\n",
    "    for n in range(select_pc.shape[0]):\n",
    "\n",
    "        noise = np.random.multivariate_normal([0,0], np.eye(2) * var / 2, 8192)\n",
    "\n",
    "        noise = np.fft.fft(noise[:, 0] + 1j * noise[:, 1]) / 8192\n",
    "\n",
    "        pc = select_pc[n, :]\n",
    "\n",
    "        #projection_signal.append(abs(scipy.signal.fftconvolve(noise + dataset[m, :], np.flip(dataset[m, :], axis=-1))).max())\n",
    "        projection_n.append(abs(scipy.signal.fftconvolve(pc * np.sqrt((abs(dataset[m, :]) ** 2 ).sum()), noise + np.flip(dataset[m, :], axis=-1), mode='full')).max())\n",
    "        #projection_n.append(abs(scipy.signal.correlate(pc * np.sqrt((abs(dataset[m, :]) ** 2 ).sum()), noise + dataset[m, :], mode='full')).max())\n",
    "        projection_noise.append(abs(scipy.signal.fftconvolve(noise , pc * np.sqrt((abs(dataset[m, :]) ** 2 ).sum()), mode='full')).max())\n",
    "\n",
    "        #projection_n.append(abs(np.vdot(pc * np.sqrt((abs(dataset[m, :]) ** 2 ).sum()), noise + dataset[m, :])))\n",
    "        #projection_noise.append(abs(np.vdot(noise, pc * np.sqrt((abs(dataset[m, :]) ** 2 ).sum()))))\n",
    "\n",
    "        #projection_n.append(abs(np.vdot(pc, noise + dataset[m, :])))\n",
    "        #projection_noise.append(abs(np.vdot(noise, pc )))\n",
    "        if n <= 10:\n",
    "            projection_signal.append(abs(np.vdot(dataset[m, :], dataset[m, :])))\n",
    "        if n % 1000 == 999:\n",
    "            print(n+1)\n",
    "\n",
    "    projection_n = np.array(projection_n)\n",
    "    projection_noise = np.array(projection_noise)\n",
    "    projection_signal = np.array(projection_signal)\n",
    "    \n",
    "    signal_noise_proj.append(projection_n.mean())\n",
    "    noise_only_proj.append(projection_noise.mean())\n",
    "    print(trial)"
   ]
  },
  {
   "cell_type": "code",
   "execution_count": null,
   "id": "90769b97",
   "metadata": {},
   "outputs": [],
   "source": [
    "fig = plt.figure(figsize=(8,5))\n",
    "#ax = fig.add_subplot(1,1,1)\n",
    "\n",
    "plt.hist(signal_noise_proj, label='signal+noise')\n",
    "plt.hist(noise_only_proj, label='noise')"
   ]
  },
  {
   "cell_type": "code",
   "execution_count": null,
   "id": "77f9b81c",
   "metadata": {},
   "outputs": [],
   "source": [
    "signal_noise_proj = []\n",
    "noise_only_proj = []\n",
    "\n",
    "for trial in range(256):\n",
    "    m = 1210\n",
    "    projection_n, projection_noise, projection_signal = [], [], []\n",
    "\n",
    "    for n in range(select_pc.shape[0]):\n",
    "\n",
    "        noise = np.random.multivariate_normal([0,0], np.eye(2) * var / 2, 8192)\n",
    "\n",
    "        noise = np.fft.fft(noise[:, 0] + 1j * noise[:, 1]) / 8192\n",
    "\n",
    "        pc = select_pc[n, :]\n",
    "\n",
    "        #projection_signal.append(abs(scipy.signal.fftconvolve(noise + dataset[m, :], np.flip(dataset[m, :], axis=-1))).max())\n",
    "        #projection_n.append(abs(scipy.signal.fftconvolve(pc * np.sqrt((abs(dataset[m, :]) ** 2 ).sum()), noise + np.flip(dataset[m, :], axis=-1), mode='full')).max())\n",
    "        #projection_n.append(abs(scipy.signal.correlate(pc * np.sqrt((abs(dataset[m, :]) ** 2 ).sum()), noise + dataset[m, :], mode='full')).max())\n",
    "        projection_noise.append(abs(scipy.signal.fftconvolve(noise , pc * np.sqrt((abs(dataset[m, :]) ** 2 ).sum()), mode='full')).max())\n",
    "\n",
    "        #projection_n.append(abs(np.vdot(pc * np.sqrt((abs(dataset[m, :]) ** 2 ).sum()), noise + dataset[m, :])))\n",
    "        #projection_noise.append(abs(np.vdot(noise, pc * np.sqrt((abs(dataset[m, :]) ** 2 ).sum()))))\n",
    "\n",
    "        #projection_n.append(abs(np.vdot(pc, noise + dataset[m, :])))\n",
    "        #projection_noise.append(abs(np.vdot(noise, pc )))\n",
    "        if n <= 10:\n",
    "            projection_signal.append(abs(np.vdot(dataset[m, :], dataset[m, :])))\n",
    "        if n % 1000 == 999:\n",
    "            print(n+1)\n",
    "\n",
    "    #projection_n = np.array(projection_n)\n",
    "    projection_noise = np.array(projection_noise)\n",
    "    #projection_signal = np.array(projection_signal)\n",
    "    \n",
    "    #signal_noise_proj.append(projection_n.mean())\n",
    "    noise_only_proj.append(projection_noise.mean())\n",
    "    if trial % 50 == 49:\n",
    "        print(trial + 1)\n",
    "    #print(trial)"
   ]
  },
  {
   "cell_type": "code",
   "execution_count": null,
   "id": "109071f8",
   "metadata": {},
   "outputs": [],
   "source": [
    "fig = plt.figure(figsize=(8,5))\n",
    "#ax = fig.add_subplot(1,1,1)\n",
    "\n",
    "#plt.hist(signal_noise_proj, label='signal+noise')\n",
    "plt.hist(noise_only_proj, 20, label='noise')\n",
    "\n",
    "plt.xlim(2.2e-15, 2.3e-15)"
   ]
  },
  {
   "cell_type": "code",
   "execution_count": null,
   "id": "482ff1f0",
   "metadata": {},
   "outputs": [],
   "source": [
    "pc_max = np.array(pc_max)\n",
    "signal_max = np.array(signal_max)\n",
    "noise_max = np.array(noise_max)\n",
    "\n",
    "fig = plt.figure(figsize=(8,5))\n",
    "ax = fig.add_subplot(1,1,1)\n",
    "\n",
    "\n",
    "hist1 = ax.hist(pc_max, histtype='step')\n",
    "hist2 = ax.hist(noise_max, histtype='step')\n",
    "hist3 = ax.hist(signal_max, histtype='step')\n"
   ]
  },
  {
   "cell_type": "code",
   "execution_count": null,
   "id": "2c784a23",
   "metadata": {},
   "outputs": [],
   "source": [
    "n = 5\n",
    "m = 6\n",
    "\n",
    "pc = evecs[:, n]\n",
    "signal = dataset[m, :]\n",
    "\n",
    "match_pc = abs(scipy.signal.correlate(pc, signal / np.sqrt((abs(dataset[m, :]) ** 2 ).sum()), mode='same')).max()\n",
    "match_sig = (abs(scipy.signal.correlate(signal / np.sqrt((abs(dataset[m, :]) ** 2 ).sum()), signal / np.sqrt((abs(dataset[m, :]) ** 2 ).sum()), mode='same')).max())\n",
    "\n",
    "\n",
    "print(match_pc, match_sig, match_pc / match_sig)"
   ]
  },
  {
   "cell_type": "code",
   "execution_count": null,
   "id": "13d58968",
   "metadata": {},
   "outputs": [],
   "source": [
    "sns.set_theme(context='talk', style='whitegrid')\n",
    "\n",
    "fig = plt.figure(figsize=(8,5))\n",
    "ax = fig.add_subplot(1,1,1)\n",
    "\n",
    "\n",
    "ax.plot(freqs, abs(pc), label='Principle Component')\n",
    "ax.plot(freqs, abs(signal / np.sqrt((abs(dataset[m, :]) ** 2 ).sum())), label='Signal')\n",
    "\n",
    "ax.set_ylabel('Amplitude')\n",
    "ax.set_xlabel('Frequency (Hz)')\n",
    "\n",
    "ax.legend(loc=2)\n",
    "\n",
    "plt.tight_layout()\n",
    "plt.savefig(os.path.join(PLOTPATH, '210914_normalized_signal_and_pc'))\n",
    "\n",
    "#print(np.vdot(pc, pc))\n",
    "#print(np.vdot(signal / np.sqrt((abs(dataset[m, :]) ** 2 ).sum()), signal / np.sqrt((abs(dataset[m, :]) ** 2 ).sum())))"
   ]
  },
  {
   "cell_type": "code",
   "execution_count": null,
   "id": "d5f02cd8",
   "metadata": {},
   "outputs": [],
   "source": [
    "x = scipy.signal.convolve(signal / np.sqrt((abs(signal) ** 2 ).sum()), signal / np.sqrt((abs(signal) ** 2 ).sum()), mode='same')\n",
    "print(np.vdot(x, x))\n",
    "plt.plot(abs(x))\n",
    "#plt.plot(scipy.signal.convolve(signal / np.sqrt((abs(signal) ** 2 ).sum()), signal / np.sqrt((abs(signal) ** 2 ).sum()), mode='same').imag)"
   ]
  },
  {
   "cell_type": "code",
   "execution_count": null,
   "id": "bc3fc168",
   "metadata": {},
   "outputs": [],
   "source": [
    "x = scipy.signal.convolve(pc, signal / np.sqrt((abs(signal) ** 2 ).sum()), mode='same')\n",
    "print(np.vdot(x,x))\n",
    "plt.plot(abs(x))"
   ]
  },
  {
   "cell_type": "code",
   "execution_count": null,
   "id": "1b0a2e70",
   "metadata": {},
   "outputs": [],
   "source": [
    "pc_match_matrix = np.zeros((dataset.shape[0], 256))\n",
    "\n",
    "norm_dataset = dataset / np.sqrt((abs(dataset) ** 2 ).sum(axis=-1)).reshape((dataset.shape[0], 1)).repeat(dataset.shape[-1], axis=-1)\n",
    "\n",
    "for k in range(dataset.shape[0]):\n",
    "    if k % 100 == 99:\n",
    "        print(k+1)\n",
    "    for i in range(256):\n",
    "        pc = evecs[:, i]\n",
    "\n",
    "        x = abs(scipy.signal.correlate(pc, dataset[k, :] / np.sqrt((abs(dataset[k, :]) ** 2 ).sum()), mode='same'))\n",
    "\n",
    "        pc_match_matrix[k, i] = x.max()\n",
    "\n",
    "        #if i % 10 == 9:\n",
    "        #    print(i + 1)\n",
    "\n"
   ]
  },
  {
   "cell_type": "code",
   "execution_count": null,
   "id": "1569a1cc",
   "metadata": {},
   "outputs": [],
   "source": [
    "np.save(os.path.join(PATH, 'damselfly/data', '210915_pc_match_matrix_normalized'), pc_match_matrix)"
   ]
  },
  {
   "cell_type": "code",
   "execution_count": null,
   "id": "bdd87654",
   "metadata": {},
   "outputs": [],
   "source": [
    "sig_match_matrix = ((abs(dataset ) ** 2).sum(axis=-1)).reshape((dataset.shape[0], 1)).repeat(256, axis=-1)"
   ]
  },
  {
   "cell_type": "code",
   "execution_count": null,
   "id": "e2c9fcd6",
   "metadata": {},
   "outputs": [],
   "source": [
    "sns.set_theme(style='ticks', context='talk')\n",
    "cmap = sns.color_palette('mako', as_cmap=True)\n",
    "\n",
    "fig = plt.figure(figsize=(8,6))\n",
    "ax = fig.add_subplot(1,1,1)\n",
    "\n",
    "img = ax.imshow((pc_match_matrix).T, aspect='auto', cmap=cmap, interpolation='none')\n",
    "\n",
    "fig.colorbar(img, label='Match Ratio')\n",
    "\n",
    "ax.set_xlabel('Signal Index')\n",
    "ax.set_ylabel('Principle Component')\n",
    "\n",
    "ax.set_title('Match Ratio')\n",
    "\n",
    "plt.tight_layout()\n",
    "plt.savefig(os.path.join(PLOTPATH, '210914_principle_components_match_ratio_matrix'))\n",
    "\n"
   ]
  },
  {
   "cell_type": "code",
   "execution_count": null,
   "id": "ab49485f",
   "metadata": {},
   "outputs": [],
   "source": [
    "sns.set_theme(style='whitegrid', context='talk')\n",
    "cmap = sns.color_palette('mako', as_cmap=True)\n",
    "\n",
    "fig = plt.figure(figsize=(8,5))\n",
    "ax = fig.add_subplot(1,1,1)\n",
    "\n",
    "\n",
    "\n",
    "ax.plot((pc_match_matrix).mean(axis=0))\n",
    "\n",
    "\n",
    "ax.set_ylabel('Mean Match')\n",
    "ax.set_xlabel('Principle Component')\n",
    "ax.set_title('Mean Match for Principle Component')\n",
    "\n",
    "plt.tight_layout()\n",
    "plt.savefig(os.path.join(PLOTPATH, '210914_mean_match_for_principle_component'))"
   ]
  },
  {
   "cell_type": "code",
   "execution_count": null,
   "id": "9e4da91c",
   "metadata": {},
   "outputs": [],
   "source": [
    "sns.set_theme(style='whitegrid', context='talk')\n",
    "cmap = sns.color_palette('mako', as_cmap=True)\n",
    "\n",
    "fig = plt.figure(figsize=(8,5))\n",
    "ax = fig.add_subplot(1,1,1)\n",
    "\n",
    "\n",
    "\n",
    "ax.plot(np.flip(np.sort((pc_match_matrix).mean(axis=0))))\n",
    "\n",
    "\n",
    "ax.set_ylabel('Mean Match')\n",
    "ax.set_xlabel('Principle Component')\n",
    "ax.set_title('Mean Match for Principle Component, Sorted')\n",
    "\n",
    "plt.tight_layout()\n",
    "plt.savefig(os.path.join(PLOTPATH, '210914_mean_match_for_principle_component_sorted'))"
   ]
  },
  {
   "cell_type": "code",
   "execution_count": null,
   "id": "bd1897ae",
   "metadata": {},
   "outputs": [],
   "source": [
    "sns.set_theme(style='whitegrid', context='talk')\n",
    "cmap = sns.color_palette('mako', as_cmap=True)\n",
    "\n",
    "fig = plt.figure(figsize=(8,5))\n",
    "ax = fig.add_subplot(1,1,1)\n",
    "\n",
    "\n",
    "hist = ax.hist(pc_match_matrix.max(axis=-1), 32)\n",
    "#ax.plot(np.mean(pc_match_matrix.max(axis=-1)) * np.ones(5492), '--' ,color='tab:red', label = f'Mean Match = {np.round(np.mean(pc_match_matrix.max(axis=-1)), 3)}')\n",
    "#ax.legend(loc=(0.3, 0.6))\n",
    "\n",
    "ax.set_ylabel('N')\n",
    "ax.set_xlabel('Match Ratio')\n",
    "ax.set_title('Best Principle Component Match Ratio per Signal')\n",
    "\n",
    "\n",
    "plt.tight_layout()\n",
    "plt.savefig(os.path.join(PLOTPATH, '210914_best_match_for_principle_component'))\n",
    "#print(np.mean(pc_match_matrix.max(axis=-1)))"
   ]
  },
  {
   "cell_type": "code",
   "execution_count": null,
   "id": "a6bc4486",
   "metadata": {},
   "outputs": [],
   "source": [
    "covariance_real = np.matmul(signal_real_norm.T, signal_real_norm)\n",
    "covariance_imag = np.matmul(signal_imag_norm.T, signal_imag_norm)\n",
    "plt.figure()\n",
    "plt.imshow(covariance_real, interpolation = 'none')\n",
    "#plt.xlim(0, 20)\n",
    "#plt.ylim(0, 20)\n",
    "plt.figure()\n",
    "plt.imshow(covariance_imag, interpolation = 'none')\n",
    "#plt.xlim(0, 20)\n",
    "#plt.ylim(0, 20)"
   ]
  },
  {
   "cell_type": "code",
   "execution_count": null,
   "id": "36879d2a",
   "metadata": {},
   "outputs": [],
   "source": [
    "print('real')\n",
    "real_evals, real_evecs = np.linalg.eig(covariance_real)\n",
    "print('imag')\n",
    "imag_evals, imag_evecs = np.linalg.eig(covariance_imag)"
   ]
  },
  {
   "cell_type": "code",
   "execution_count": null,
   "id": "96647acd",
   "metadata": {},
   "outputs": [],
   "source": [
    "print(real_evecs.shape)"
   ]
  },
  {
   "cell_type": "code",
   "execution_count": null,
   "id": "1da642f4",
   "metadata": {},
   "outputs": [],
   "source": [
    "plt.plot(real_evals)\n",
    "plt.plot(imag_evals)\n",
    "plt.xlim(0, 10)"
   ]
  },
  {
   "cell_type": "code",
   "execution_count": null,
   "id": "b08e270f",
   "metadata": {},
   "outputs": [],
   "source": [
    "plt.plot(real_evecs[1, :])\n",
    "#plt.plot(real_evecs[1, :])\n",
    "#plt.plot(real_evecs[2, :])\n",
    "#plt.plot(real_evecs[3, :])\n",
    "#plt.plot(real_evecs[4, :])\n",
    "#plt.plot(real_evecs[5, :])\n",
    "#plt.plot(real_evecs[6, :])\n",
    "plt.xlim(8000, 8192)"
   ]
  },
  {
   "cell_type": "markdown",
   "id": "35e8885f",
   "metadata": {},
   "source": [
    "# try 100 signals"
   ]
  },
  {
   "cell_type": "code",
   "execution_count": null,
   "id": "4eba3ded",
   "metadata": {},
   "outputs": [],
   "source": []
  },
  {
   "cell_type": "code",
   "execution_count": null,
   "id": "6d14ad48",
   "metadata": {},
   "outputs": [],
   "source": []
  }
 ],
 "metadata": {
  "kernelspec": {
   "display_name": "Python 3",
   "language": "python",
   "name": "python3"
  },
  "language_info": {
   "codemirror_mode": {
    "name": "ipython",
    "version": 3
   },
   "file_extension": ".py",
   "mimetype": "text/x-python",
   "name": "python",
   "nbconvert_exporter": "python",
   "pygments_lexer": "ipython3",
   "version": "3.8.10"
  }
 },
 "nbformat": 4,
 "nbformat_minor": 5
}
