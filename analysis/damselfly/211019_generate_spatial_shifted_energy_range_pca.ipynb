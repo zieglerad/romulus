{
 "cells": [
  {
   "cell_type": "code",
   "execution_count": null,
   "id": "6a4c4d1b",
   "metadata": {},
   "outputs": [],
   "source": [
    "import numpy as np\n",
    "import matplotlib.pyplot as plt\n",
    "import seaborn as sns\n",
    "import pandas as pd\n",
    "import torch\n",
    "import h5py\n",
    "import os\n",
    "import sys\n",
    "import scipy\n",
    "import damselfly as df\n",
    "import scipy.signal\n",
    "import scipy.stats\n",
    "\n",
    "PATH = '/storage/home/adz6/group/project'\n",
    "RESULTPATH = os.path.join(PATH, 'results/damselfly')\n",
    "PLOTPATH = os.path.join(PATH, 'plots/damselfly')\n",
    "DATAPATH = os.path.join(PATH, 'damselfly/data/datasets')\n",
    "SIMDATAPATH = os.path.join(PATH, 'damselfly/data/sim_data')\n",
    "\n",
    "\"\"\"\n",
    "Date: 6/25/2021\n",
    "Description: template\n",
    "\"\"\"\n",
    "\n",
    "\n",
    "def shift_and_sum(signal, x_range, y_range, N):\n",
    "    \n",
    "    nch = signal.shape[0]\n",
    "    angles = np.radians(np.arange(0, nch, 1) * 360 / nch)\n",
    "    r_array = 0.10\n",
    "    wavelength_lo = 3e8 / 25.86e9\n",
    "    \n",
    "    x_antenna = r_array * np.cos(angles)\n",
    "    y_antenna = r_array * np.sin(angles)\n",
    "    x_antenna = x_antenna.reshape((1, x_antenna.size)).repeat(N ** 2, axis = 0)\n",
    "    y_antenna = y_antenna.reshape((1, y_antenna.size)).repeat(N ** 2, axis = 0)\n",
    "    \n",
    "    x_array = np.linspace(-x_range, x_range, N)\n",
    "    y_array = np.linspace(-y_range, y_range, N)\n",
    "    \n",
    "    x_grid, y_grid = np.meshgrid(x_array, y_array)\n",
    "    x_grid = x_grid.flatten().reshape((x_grid.size, 1)).repeat(nch, axis=-1)\n",
    "    y_grid = y_grid.flatten().reshape((y_grid.size, 1)).repeat(nch, axis=-1)\n",
    "    \n",
    "    #print(x_antenna.shape, x_grid.shape)\n",
    "    \n",
    "    phase_grid = 2 * np.pi * np.sqrt((x_grid - x_antenna) ** 2 + (y_grid - y_antenna) ** 2) / wavelength_lo\n",
    "    \n",
    "    anti_spiral = angles.reshape((1, angles.size)).repeat(N**2, axis=0)\n",
    "    \n",
    "    summed_signals = np.matmul(np.exp(1j * (phase_grid-anti_spiral)), signal)\n",
    "    \n",
    "    summed_signals = summed_signals.reshape((N, N, summed_signals.shape[-1]))\n",
    "    \n",
    "    return summed_signals\n",
    "\n",
    "\n",
    "def shift_signal(signal, x_new, y_new):\n",
    "    \n",
    "    nch = signal.shape[0]\n",
    "    angles = np.radians(np.arange(0, nch, 1) * 360 / nch)\n",
    "    r_array = 0.10\n",
    "    wavelength_lo = 3e8 / 25.86e9\n",
    "    \n",
    "    x_antenna = r_array * np.cos(angles)\n",
    "    y_antenna = r_array * np.sin(angles)\n",
    "    x_antenna = x_antenna.reshape((x_antenna.size, 1)).repeat(signal.shape[-1], axis = -1)\n",
    "    y_antenna = y_antenna.reshape((y_antenna.size, 1)).repeat(signal.shape[-1], axis = -1)\n",
    "    \n",
    "    d_old = np.sqrt(x_antenna ** 2 + y_antenna ** 2)\n",
    "    d_new = np.sqrt((x_new - x_antenna) ** 2 + (y_new - y_antenna) ** 2)\n",
    "    \n",
    "\n",
    "    phase_shift = 2 * np.pi * (d_new - d_old) / wavelength_lo\n",
    "    #print(phase_shift)\n",
    "    \n",
    "    shifted_signal = np.exp(-1j * phase_shift) * signal\n",
    "    \n",
    "    return shifted_signal\n",
    "\n",
    "def shift_pc(pc, x_new, y_new):\n",
    "    \n",
    "    nch = 60\n",
    "    angles = np.radians(np.arange(0, nch, 1) * 360 / nch)\n",
    "    r_array = 0.10\n",
    "    wavelength_lo = 3e8 / 25.86e9\n",
    "    \n",
    "    shifted_pc = np.zeros(nch * pc.size, np.complex64)\n",
    "    \n",
    "    x_antenna = r_array * np.cos(angles)\n",
    "    y_antenna = r_array * np.sin(angles)\n",
    "\n",
    "    d_old = np.sqrt(x_antenna ** 2 + y_antenna ** 2)\n",
    "    d_new = np.sqrt((x_new - x_antenna) ** 2 + (y_new - y_antenna) ** 2)\n",
    "    \n",
    "\n",
    "    phase_shift = 2 * np.pi * (d_new - d_old) / wavelength_lo + angles\n",
    "    \n",
    "    for i, phase in enumerate(phase_shift):\n",
    "        shifted_pc[i * pc.size:(i + 1) * pc.size] = np.exp(-1j * phase) * pc\n",
    "    \n",
    "\n",
    "    return shifted_pc\n",
    "\n",
    "def tile_pc(pc):\n",
    "    \n",
    "    nch = 60\n",
    "    angles = np.radians(np.arange(0, nch, 1) * 360 / nch)\n",
    "    #r_array = 0.10\n",
    "    #wavelength_lo = 3e8 / 25.86e9\n",
    "    \n",
    "    tile_pc = np.zeros(nch * pc.size, np.complex64)\n",
    "    \n",
    "    phase_shift = angles\n",
    "    \n",
    "    for i, phase in enumerate(phase_shift):\n",
    "        tile_pc[i * pc.size:(i + 1) * pc.size] = np.exp(-1j * phase) * pc\n",
    "    \n",
    "\n",
    "    return tile_pc\n"
   ]
  },
  {
   "cell_type": "code",
   "execution_count": null,
   "id": "7b5f17fa",
   "metadata": {},
   "outputs": [],
   "source": [
    "os.listdir(os.path.join(PATH, 'mayfly/data/datasets'))"
   ]
  },
  {
   "cell_type": "code",
   "execution_count": null,
   "id": "799e14a5",
   "metadata": {},
   "outputs": [],
   "source": [
    "os.listdir(os.path.join(PATH, 'damselfly/data/sim_data'))"
   ]
  },
  {
   "cell_type": "markdown",
   "id": "f23fdf81",
   "metadata": {},
   "source": [
    "# load pc's"
   ]
  },
  {
   "cell_type": "code",
   "execution_count": null,
   "id": "28868572",
   "metadata": {},
   "outputs": [],
   "source": [
    "#pca_all = np.load(os.path.join(PATH, 'damselfly/data', '210914_frequency_spectra_imag_principle_components.npz'))\n",
    "#pca_all_evals = np.load(os.path.join(PATH, 'damselfly/data', '211007_principle_components_all_evals.npy'))\n",
    "#pca_all_evecs = np.load(os.path.join(PATH, 'damselfly/data', '211007_principle_components_all_evecs.npy'))\n",
    "\n",
    "pca_range_evals = np.load(os.path.join(PATH, 'damselfly/data', '211009_principle_components_1ev_energy_range_evals.npy'))\n",
    "pca_range_evecs = np.load(os.path.join(PATH, 'damselfly/data', '211009_principle_components_1ev_energy_range_evecs.npy'))"
   ]
  },
  {
   "cell_type": "code",
   "execution_count": null,
   "id": "65936d93",
   "metadata": {},
   "outputs": [],
   "source": [
    "print(pca_range_evals.shape, pca_range_evecs.shape)"
   ]
  },
  {
   "cell_type": "markdown",
   "id": "79c0b332",
   "metadata": {},
   "source": [
    "# load data"
   ]
  },
  {
   "cell_type": "code",
   "execution_count": null,
   "id": "6f529e6a",
   "metadata": {},
   "outputs": [],
   "source": [
    "data = os.path.join(os.path.join(PATH, 'mayfly/data/datasets'), '211002_mf_84_100_slice8192.h5')\n",
    "#data = os.path.join(os.path.join(PATH, 'damselfly/data/sim_data'), '210729_df_84_1slice.h5')\n",
    "\n",
    "h5datafile = h5py.File(data, 'r')\n",
    "\n",
    "energies = h5datafile['meta']['energy'][:]\n",
    "\n",
    "select_energies = np.argwhere(abs(energies - 18550) <= 0.5).squeeze()"
   ]
  },
  {
   "cell_type": "code",
   "execution_count": null,
   "id": "5e0b81d3",
   "metadata": {},
   "outputs": [],
   "source": [
    "data = os.path.join(os.path.join(PATH, 'mayfly/data/datasets'), '211002_mf_84_100_slice8192.h5')\n",
    "#data = os.path.join(os.path.join(PATH, 'damselfly/data/sim_data'), '210729_df_84_1slice.h5')\n",
    "\n",
    "h5datafile = h5py.File(data, 'r')\n",
    "\n",
    "#print(h5datafile['data'].shape)\n",
    "\n",
    "Nsignal = h5datafile['data'].shape[0]\n",
    "\n",
    "#Nsignal = len(list(h5datafile['signal'].keys()))\n",
    "Nsample = 8192\n",
    "Nch = 60\n",
    "\n",
    "dataset = np.zeros((select_energies.size, Nch * Nsample), dtype=np.complex64)\n",
    "print(dataset.shape)\n",
    "\n",
    "for i, index in enumerate(select_energies):\n",
    "#    dataset[i, :] = np.fft.fftshift(np.fft.fft(h5datafile['data'][i, :].reshape(60, 8192).sum(axis=0))) / 8192\n",
    "#    dataset[i, :] = h5datafile['signal'][f'{i}'][0, :]\n",
    "    dataset[i, :] = (np.fft.fftshift((np.fft.fft(h5datafile['data'][index, :].reshape(60, 8192), axis=-1)), axes=-1) / 8192).flatten()"
   ]
  },
  {
   "cell_type": "markdown",
   "id": "c61170c8",
   "metadata": {},
   "source": [
    "# select pc's"
   ]
  },
  {
   "cell_type": "code",
   "execution_count": null,
   "id": "a3fe9c76",
   "metadata": {},
   "outputs": [],
   "source": [
    "pc_max_vals = abs(pca_range_evecs).max(axis=1)"
   ]
  },
  {
   "cell_type": "code",
   "execution_count": null,
   "id": "9042c7ea",
   "metadata": {},
   "outputs": [],
   "source": [
    "selected_pc_inds = np.argwhere(pc_max_vals >= 0.75)\n",
    "\n",
    "select_pc = pca_range_evecs[selected_pc_inds[:, 0], :, selected_pc_inds[:, 1]]\n",
    "\n",
    "print(select_pc.shape)\n"
   ]
  },
  {
   "cell_type": "markdown",
   "id": "83d01af8",
   "metadata": {},
   "source": [
    "# generate shifted pc matrix"
   ]
  },
  {
   "cell_type": "code",
   "execution_count": null,
   "id": "69618ae1",
   "metadata": {},
   "outputs": [],
   "source": [
    "np.arange(0, 51, 1) * 1e-3"
   ]
  },
  {
   "cell_type": "code",
   "execution_count": null,
   "id": "3a841368",
   "metadata": {},
   "outputs": [],
   "source": [
    "d_shift = np.arange(0, 51, 1) * 1e-3 # shift distances in mm\n",
    "#m = 2\n",
    "#signal = dataset[m, :].reshape(60, 8192)\n",
    "#signal = shift_signal(signal, 0.01, 0.0).flatten()\n",
    "\n",
    "name = '211019_spatial_shift_pc_energy_range.h5'\n",
    "h5_shifted_pc = h5py.File(os.path.join(PATH, 'damselfly/data', name), 'w')\n",
    "\n",
    "h5dataset = h5_shifted_pc.create_dataset('pc_matrix', data=np.zeros((d_shift.size, select_pc.shape[0], 60 * 8192 ), np.complex64))\n",
    "#shifted_pc = np.zeros((d_shift.size, select_pc.shape[0], 60 * 8192 ), np.complex64)\n",
    "\n",
    "projection_matrix = np.zeros((51, 59))\n",
    "\n",
    "for i, shift in enumerate(d_shift):\n",
    "    for ipc in range(select_pc.shape[0]):\n",
    "        \n",
    "        pc = select_pc[ipc, :]\n",
    "        \n",
    "        shifted_pc = shift_pc(pc, shift, 0.0)\n",
    "        \n",
    "        h5dataset[i, ipc, :] = shifted_pc\n",
    "        \n",
    "        #circ_conv_max = abs(np.fft.ifft(np.fft.fft(np.flip(signal)) * np.fft.fft(shifted_pc))).max()\n",
    "        \n",
    "        #projection_matrix[i, ipc] = circ_conv_max\n",
    "        #if ipc % 10 == 9:\n",
    "        #    print(ipc + 1)\n",
    "    if i % 5 == 4:\n",
    "        print(i + 1)\n",
    "        \n",
    "h5_shifted_pc.close()"
   ]
  },
  {
   "cell_type": "code",
   "execution_count": null,
   "id": "774be2ef",
   "metadata": {},
   "outputs": [],
   "source": [
    "h5_shifted_pc.close()"
   ]
  },
  {
   "cell_type": "code",
   "execution_count": null,
   "id": "a3b917d6",
   "metadata": {},
   "outputs": [],
   "source": [
    "plt.imshow(projection_matrix)"
   ]
  },
  {
   "cell_type": "code",
   "execution_count": null,
   "id": "ee81bad4",
   "metadata": {},
   "outputs": [],
   "source": [
    "n = 2\n",
    "m = 3\n",
    "\n",
    "pc = select_pc[n, :]\n",
    "signal = dataset[m, :]\n",
    "\n",
    "fig = plt.figure(figsize=(8,5))\n",
    "ax = fig.add_subplot(1,1,1)\n",
    "ax.plot(signal.real)\n",
    "ax.plot(signal.imag)\n",
    "\n",
    "tiled_pc = tile_pc(pc)\n",
    "\n",
    "fig = plt.figure(figsize=(8,5))\n",
    "ax = fig.add_subplot(1,1,1)\n",
    "ax.plot(tiled_pc.real)\n",
    "ax.plot(tiled_pc.imag)\n",
    "\n",
    "\n"
   ]
  },
  {
   "cell_type": "markdown",
   "id": "3313ef7d",
   "metadata": {},
   "source": [
    "# correlation using unsummed signal and repeated pc"
   ]
  },
  {
   "cell_type": "code",
   "execution_count": null,
   "id": "20fb4f8d",
   "metadata": {},
   "outputs": [],
   "source": [
    "\n",
    "n = 2\n",
    "m = 3\n",
    "\n",
    "pc = select_pc[n, :]\n",
    "signal = dataset[m, :]\n",
    "\n",
    "tiled_pc = tile_pc(pc)\n",
    "\n",
    "fig = plt.figure(figsize=(8,5))\n",
    "ax = fig.add_subplot(1,1,1)\n",
    "ax.plot(abs(tiled_pc))\n",
    "ax.plot(abs(pc))\n",
    "\n",
    "fig = plt.figure(figsize=(8,5))\n",
    "ax = fig.add_subplot(1,1,1)\n",
    "ax.plot(abs(signal))\n",
    "ax.plot(abs(pc) / 1e8)"
   ]
  },
  {
   "cell_type": "code",
   "execution_count": null,
   "id": "3f88cc3f",
   "metadata": {},
   "outputs": [],
   "source": [
    "\n",
    "circ_conv = abs(np.fft.ifft(np.fft.fft(np.flip(signal)) * np.fft.fft(tiled_pc)))\n",
    "\n",
    "fig = plt.figure(figsize=(8,5))\n",
    "ax = fig.add_subplot(1,1,1)\n",
    "\n",
    "ax.plot(abs(circ_conv))\n",
    "ax.plot(abs(signal))\n",
    "#ax.set_xlim(0, 5*8192)"
   ]
  },
  {
   "cell_type": "markdown",
   "id": "a9c69ecb",
   "metadata": {},
   "source": [
    "# shift signal to x=1cm, correlate with unshifted pc"
   ]
  },
  {
   "cell_type": "code",
   "execution_count": null,
   "id": "6d32bb34",
   "metadata": {},
   "outputs": [],
   "source": [
    "n = 2\n",
    "m = 3\n",
    "\n",
    "pc = select_pc[n, :]\n",
    "signal = dataset[m, :].reshape(60, 8192)\n",
    "\n",
    "signal = shift_signal(signal, 0.01, 0.0).flatten()\n",
    "\n",
    "tiled_pc = tile_pc(pc)\n",
    "\n",
    "circ_conv = abs(np.fft.ifft(np.fft.fft(np.flip(signal)) * np.fft.fft(tiled_pc)))\n",
    "\n",
    "fig = plt.figure(figsize=(8,5))\n",
    "ax = fig.add_subplot(1,1,1)\n",
    "ax.plot(abs(circ_conv))\n",
    "ax.set_title('amplitude goes down')\n"
   ]
  },
  {
   "cell_type": "markdown",
   "id": "e9ea9eaa",
   "metadata": {},
   "source": [
    "# shift signal to x=1cm, correlate with shifted pc"
   ]
  },
  {
   "cell_type": "code",
   "execution_count": null,
   "id": "76b35867",
   "metadata": {},
   "outputs": [],
   "source": [
    "n = 2\n",
    "m = 3\n",
    "\n",
    "pc = select_pc[n, :]\n",
    "signal = dataset[m, :].reshape(60, 8192)\n",
    "\n",
    "signal = shift_signal(signal, 0.01, 0.0).flatten()\n",
    "\n",
    "pc = shift_pc(pc, 0.01, 0.0)\n",
    "\n",
    "#tile_pc = np.tile(pc, 60)\n",
    "\n",
    "circ_conv = abs(np.fft.ifft(np.fft.fft(np.flip(signal)) * np.fft.fft(pc)))\n",
    "\n",
    "fig = plt.figure(figsize=(8,5))\n",
    "ax = fig.add_subplot(1,1,1)\n",
    "ax.plot(abs(circ_conv))\n",
    "ax.set_title('amplitude back to previous peak, asymmetric convolution')\n"
   ]
  },
  {
   "cell_type": "markdown",
   "id": "48acb53e",
   "metadata": {},
   "source": [
    "# shift signal to y=1cm, correlate with shifted pc to x=1cm"
   ]
  },
  {
   "cell_type": "code",
   "execution_count": null,
   "id": "94bb6b40",
   "metadata": {},
   "outputs": [],
   "source": [
    "n = 2\n",
    "m = 3\n",
    "\n",
    "pc = select_pc[n, :]\n",
    "signal = dataset[m, :].reshape(60, 8192)\n",
    "\n",
    "signal = shift_signal(signal, 0.00, 0.01).flatten()\n",
    "\n",
    "pc = shift_pc(pc, 0.01, 0.00)\n",
    "\n",
    "#tile_pc = np.tile(pc, 60)\n",
    "\n",
    "circ_conv = abs(np.fft.ifft(np.fft.fft(np.flip(signal)) * np.fft.fft(pc)))\n",
    "\n",
    "fig = plt.figure(figsize=(8,5))\n",
    "ax = fig.add_subplot(1,1,1)\n",
    "ax.plot(abs(circ_conv))\n",
    "ax.set_title('different angular position just circular shifts the convolution')"
   ]
  },
  {
   "cell_type": "markdown",
   "id": "c2d0656f",
   "metadata": {},
   "source": [
    "# signal auto-correlation"
   ]
  },
  {
   "cell_type": "code",
   "execution_count": null,
   "id": "28b217e9",
   "metadata": {},
   "outputs": [],
   "source": [
    "n = 2\n",
    "m = 3\n",
    "\n",
    "#pc = select_pc[n, :]\n",
    "signal = dataset[m, :]\n",
    "\n",
    "norm_signal = signal / np.sqrt((abs(signal) ** 2).sum())\n",
    "\n",
    "#signal = shift_signal(signal, 0.00, 0.01).flatten()\n",
    "\n",
    "#pc = shift_pc(pc, 0.01, 0.00)\n",
    "\n",
    "#tile_pc = np.tile(pc, 60)\n",
    "\n",
    "circ_conv = abs(np.fft.ifft(np.fft.fft(np.flip(signal)) * np.fft.fft(signal)))\n",
    "\n",
    "fig = plt.figure(figsize=(8,5))\n",
    "ax = fig.add_subplot(1,1,1)\n",
    "ax.plot(abs(circ_conv))"
   ]
  },
  {
   "cell_type": "markdown",
   "id": "032f8548",
   "metadata": {},
   "source": [
    "# figure out noise"
   ]
  },
  {
   "cell_type": "code",
   "execution_count": null,
   "id": "f27af013",
   "metadata": {},
   "outputs": [],
   "source": [
    "# noise #\n",
    "var = 1.38e-23 * 10 * 200e6 * 50\n",
    "noise = np.random.multivariate_normal([0,0], np.eye(2) * var / 2, 60 * 8192)\n",
    "noise = noise[:, 0] + 1j * noise[:, 1]\n",
    "noise = (np.fft.fft(noise.reshape(60, 8192), axis=-1) / 8192).flatten()\n",
    "# noise #\n",
    "\n",
    "fig = plt.figure(figsize=(8,5))\n",
    "ax = fig.add_subplot(1,1,1)\n",
    "ax.plot(abs(noise))\n",
    "ax.plot(abs(signal))\n",
    "\n",
    "fig = plt.figure(figsize=(8,5))\n",
    "ax = fig.add_subplot(1,1,1)\n",
    "ax.plot(abs(scipy.signal.fftconvolve(noise + signal, signal)))"
   ]
  },
  {
   "cell_type": "markdown",
   "id": "adadd4eb",
   "metadata": {},
   "source": [
    "# signal auto-correlation with noise"
   ]
  },
  {
   "cell_type": "code",
   "execution_count": null,
   "id": "af0ff83a",
   "metadata": {},
   "outputs": [],
   "source": [
    "# noise #\n",
    "var = 1.38e-23 * 10 * 200e6 * 50\n",
    "noise = np.random.multivariate_normal([0,0], np.eye(2) * var / 2, 60 * 8192)\n",
    "noise = noise[:, 0] + 1j * noise[:, 1]\n",
    "noise = (np.fft.fft(noise.reshape(60, 8192), axis=-1) / 8192).flatten()\n",
    "# noise #\n",
    "\n",
    "n = 2\n",
    "m = 3\n",
    "\n",
    "#pc = select_pc[n, :]\n",
    "signal = dataset[m, :]\n",
    "\n",
    "\n",
    "#signal = shift_signal(signal, 0.00, 0.01).flatten()\n",
    "\n",
    "#pc = shift_pc(pc, 0.01, 0.00)\n",
    "\n",
    "#tile_pc = np.tile(pc, 60)\n",
    "\n",
    "circ_conv = abs(scipy.signal.fftconvolve(signal + noise, signal))\n",
    "\n",
    "fig = plt.figure(figsize=(8,5))\n",
    "ax = fig.add_subplot(1,1,1)\n",
    "ax.plot(abs(circ_conv))\n",
    "\n",
    "circ_conv = abs(np.fft.ifft(np.fft.fft(signal + noise) * np.fft.fft(signal)))\n",
    "\n",
    "fig = plt.figure(figsize=(8,5))\n",
    "ax = fig.add_subplot(1,1,1)\n",
    "ax.plot(abs(circ_conv))"
   ]
  },
  {
   "cell_type": "markdown",
   "id": "f9004859",
   "metadata": {},
   "source": [
    "# correlation using unsummed signal and repeated pc, add noise"
   ]
  },
  {
   "cell_type": "code",
   "execution_count": null,
   "id": "395d2a5a",
   "metadata": {},
   "outputs": [],
   "source": [
    "# noise #\n",
    "var = 1.38e-23 * 10 * 200e6 * 50\n",
    "noise = np.random.multivariate_normal([0,0], np.eye(2) * var / 2, 60 * 8192)\n",
    "noise = noise[:, 0] + 1j * noise[:, 1]\n",
    "noise = (np.fft.fft(noise.reshape(60, 8192), axis=-1) / 8192).flatten()\n",
    "# noise #\n",
    "\n",
    "n = 2\n",
    "m = 3\n",
    "\n",
    "pc = select_pc[n, :]\n",
    "signal = dataset[m, :]\n",
    "\n",
    "tiled_pc = tile_pc(pc)\n",
    "\n",
    "circ_conv = abs(np.fft.ifft(np.fft.fft(np.flip(signal + noise)) * np.fft.fft(tiled_pc)))\n",
    "\n",
    "fig = plt.figure(figsize=(8,5))\n",
    "ax = fig.add_subplot(1,1,1)\n",
    "ax.plot(abs(circ_conv))\n",
    "circ_conv = abs(np.fft.ifft(np.fft.fft(np.flip(noise)) * np.fft.fft(tiled_pc)))\n",
    "ax.plot(abs(circ_conv))"
   ]
  },
  {
   "cell_type": "markdown",
   "id": "49798cba",
   "metadata": {},
   "source": [
    "# shift signal to x=1cm, correlate with unshifted pc, add noise"
   ]
  },
  {
   "cell_type": "code",
   "execution_count": null,
   "id": "4e7a021c",
   "metadata": {},
   "outputs": [],
   "source": [
    "# noise #\n",
    "var = 1.38e-23 * 10 * 200e6 * 50\n",
    "noise = np.random.multivariate_normal([0,0], np.eye(2) * var / 2, 60 * 8192)\n",
    "noise = noise[:, 0] + 1j * noise[:, 1]\n",
    "noise = (np.fft.fft(noise.reshape(60, 8192), axis=-1) / 8192).flatten()\n",
    "# noise #\n",
    "\n",
    "n = 2\n",
    "m = 3\n",
    "\n",
    "pc = select_pc[n, :]\n",
    "signal = dataset[m, :].reshape(60, 8192)\n",
    "\n",
    "signal = shift_signal(signal, 0.01, 0.0).flatten()\n",
    "\n",
    "tiled_pc = tile_pc(pc)\n",
    "\n",
    "circ_conv = abs(np.fft.ifft(np.fft.fft(np.flip(signal + noise)) * np.fft.fft(tiled_pc)))\n",
    "\n",
    "fig = plt.figure(figsize=(8,5))\n",
    "ax = fig.add_subplot(1,1,1)\n",
    "ax.plot(abs(circ_conv))\n",
    "ax.set_title('amplitude goes down')\n"
   ]
  },
  {
   "cell_type": "markdown",
   "id": "4a800a36",
   "metadata": {},
   "source": [
    "# shift signal to x=1cm, correlate with shifted pc, add noise"
   ]
  },
  {
   "cell_type": "code",
   "execution_count": null,
   "id": "9b7ea07a",
   "metadata": {},
   "outputs": [],
   "source": [
    "# noise #\n",
    "var = 1.38e-23 * 10 * 200e6 * 50\n",
    "noise = np.random.multivariate_normal([0,0], np.eye(2) * var / 2, 60 * 8192)\n",
    "noise = noise[:, 0] + 1j * noise[:, 1]\n",
    "noise = (np.fft.fft(noise.reshape(60, 8192), axis=-1) / 8192).flatten()\n",
    "# noise #\n",
    "\n",
    "n = 2\n",
    "m = 3\n",
    "\n",
    "pc = select_pc[n, :]\n",
    "signal = dataset[m, :].reshape(60, 8192)\n",
    "\n",
    "signal = shift_signal(signal, 0.01, 0.0).flatten()\n",
    "\n",
    "pc = shift_pc(pc, 0.01, 0.0)\n",
    "\n",
    "#tile_pc = np.tile(pc, 60)\n",
    "\n",
    "circ_conv = abs(np.fft.ifft(np.fft.fft(np.flip(signal + noise)) * np.fft.fft(pc)))\n",
    "\n",
    "fig = plt.figure(figsize=(8,5))\n",
    "ax = fig.add_subplot(1,1,1)\n",
    "ax.plot(abs(circ_conv))\n",
    "ax.set_title('amplitude back to previous peak, asymmetric convolution')\n"
   ]
  },
  {
   "cell_type": "markdown",
   "id": "eec074c6",
   "metadata": {},
   "source": [
    "# shift signal to y=1cm, correlate with shifted pc, add noise"
   ]
  },
  {
   "cell_type": "code",
   "execution_count": null,
   "id": "68ef7184",
   "metadata": {},
   "outputs": [],
   "source": [
    "# noise #\n",
    "var = 1.38e-23 * 10 * 200e6 * 50\n",
    "noise = np.random.multivariate_normal([0,0], np.eye(2) * var / 2, 60 * 8192)\n",
    "noise = noise[:, 0] + 1j * noise[:, 1]\n",
    "noise = (np.fft.fft(noise.reshape(60, 8192), axis=-1) / 8192).flatten()\n",
    "# noise #\n",
    "\n",
    "n = 2\n",
    "m = 3\n",
    "\n",
    "pc = select_pc[n, :]\n",
    "signal = dataset[m, :].reshape(60, 8192)\n",
    "\n",
    "signal = shift_signal(signal, 0.00, 0.01).flatten()\n",
    "\n",
    "pc = shift_pc(pc, 0.01, 0.00)\n",
    "\n",
    "#tile_pc = np.tile(pc, 60)\n",
    "\n",
    "circ_conv = abs(np.fft.ifft(np.fft.fft(np.flip(signal + noise)) * np.fft.fft(pc)))\n",
    "\n",
    "fig = plt.figure(figsize=(8,5))\n",
    "ax = fig.add_subplot(1,1,1)\n",
    "ax.plot(abs(circ_conv))\n",
    "ax.set_title('different angular position just circular shifts the convolution')"
   ]
  }
 ],
 "metadata": {
  "kernelspec": {
   "display_name": "Python 3",
   "language": "python",
   "name": "python3"
  },
  "language_info": {
   "codemirror_mode": {
    "name": "ipython",
    "version": 3
   },
   "file_extension": ".py",
   "mimetype": "text/x-python",
   "name": "python",
   "nbconvert_exporter": "python",
   "pygments_lexer": "ipython3",
   "version": "3.8.10"
  }
 },
 "nbformat": 4,
 "nbformat_minor": 5
}
