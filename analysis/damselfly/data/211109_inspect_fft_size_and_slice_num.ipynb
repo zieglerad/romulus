{
 "cells": [
  {
   "cell_type": "code",
   "execution_count": null,
   "id": "6a4c4d1b",
   "metadata": {},
   "outputs": [],
   "source": [
    "import numpy as np\n",
    "import matplotlib.pyplot as plt\n",
    "import seaborn as sns\n",
    "import pandas as pd\n",
    "import torch\n",
    "import h5py\n",
    "import os\n",
    "import sys\n",
    "import scipy\n",
    "import damselfly as df\n",
    "import mayfly as mf\n",
    "import scipy.signal\n",
    "import scipy.stats\n",
    "\n",
    "PATH = '/storage/home/adz6/group/project'\n",
    "RESULTPATH = os.path.join(PATH, 'results/damselfly')\n",
    "PLOTPATH = os.path.join(PATH, 'plots/damselfly')\n",
    "DATAPATH = os.path.join(PATH, 'datasets/data')\n",
    "#SIMDATAPATH = os.path.join(PATH, 'damselfly/data/sim_data')\n",
    "\n",
    "\"\"\"\n",
    "Date: 6/25/2021\n",
    "Description: template\n",
    "\"\"\"\n",
    "\n",
    "\n",
    "def MakeTemplates(signals, var =  1.38e-23 * 10 * 50 * 200e6):\n",
    "    norm_mat = 1 / np.sqrt(var * np.diag(np.matmul(signals, signals.conjugate().T)))\n",
    "\n",
    "    templates = norm_mat.reshape((*norm_mat.shape, 1)).repeat(signals.shape[-1], axis=-1) * signals\n",
    "    \n",
    "    return templates\n"
   ]
  },
  {
   "cell_type": "code",
   "execution_count": null,
   "id": "7b5f17fa",
   "metadata": {},
   "outputs": [],
   "source": [
    "os.listdir(os.path.join(DATAPATH))"
   ]
  },
  {
   "cell_type": "markdown",
   "id": "f23fdf81",
   "metadata": {},
   "source": [
    "# load data"
   ]
  },
  {
   "cell_type": "code",
   "execution_count": null,
   "id": "28868572",
   "metadata": {},
   "outputs": [],
   "source": [
    "data = mf.data.MFDataset(os.path.join(DATAPATH, '211105_84_25_2cm_random.h5'))\n",
    "metadata = pd.DataFrame(data.metadata)"
   ]
  },
  {
   "cell_type": "code",
   "execution_count": null,
   "id": "65936d93",
   "metadata": {},
   "outputs": [],
   "source": [
    "ind = 2\n",
    "signal = data.data[ind, :]\n",
    "\n",
    "\n",
    "signal = signal.reshape((60, signal.size // 60))\n",
    "\n",
    "sns.set_theme(context='talk', style='whitegrid')\n",
    "fig = plt.figure(figsize=(13,8))\n",
    "ax = fig.add_subplot(1,1,1)\n",
    "\n",
    "ax.plot(abs(np.fft.fftshift(np.fft.fft(signal[0, :]))))\n",
    "\n",
    "nslice = 8192\n",
    "\n",
    "sns.set_theme(context='talk', style='whitegrid')\n",
    "fig = plt.figure(figsize=(13,8))\n",
    "ax = fig.add_subplot(1,1,1)\n",
    "\n",
    "for k in range(signal[0, :].size // nslice):\n",
    "    \n",
    "    ax.plot(abs(np.fft.fftshift(np.fft.fft(signal[0, k*nslice:(k+1)*nslice]))))\n",
    "    "
   ]
  },
  {
   "cell_type": "code",
   "execution_count": null,
   "id": "e02bb31c",
   "metadata": {},
   "outputs": [],
   "source": [
    "ind = 4\n",
    "signal = data.data[ind, :]\n",
    "var = 1.38e-23 * 200e6 * 50 * 10 / 60\n",
    "\n",
    "rng = np.random.default_rng()\n",
    "noise = rng.multivariate_normal([0, 0], np.eye(2) * var/2, signal.size)\n",
    "noise = (noise[:, 0] + 1j * noise[:, 1]).reshape((60, signal.size // 60))\n",
    "\n",
    "signal = signal.reshape((60, signal.size // 60))\n",
    "\n",
    "signal = signal + noise\n",
    "\n",
    "sns.set_theme(context='talk', style='whitegrid')\n",
    "fig = plt.figure(figsize=(13,8))\n",
    "ax = fig.add_subplot(1,1,1)\n",
    "\n",
    "ax.plot(abs(np.fft.fftshift(np.fft.fft(signal[0, :]))))\n",
    "\n",
    "nslice = 8192\n",
    "\n",
    "sns.set_theme(context='talk', style='whitegrid')\n",
    "fig = plt.figure(figsize=(13,8))\n",
    "ax = fig.add_subplot(1,1,1)\n",
    "\n",
    "for k in range(signal[0, :].size // nslice):\n",
    "    \n",
    "    ax.plot(abs(np.fft.fftshift(np.fft.fft(signal[0, k*nslice:(k+1)*nslice]))))"
   ]
  }
 ],
 "metadata": {
  "kernelspec": {
   "display_name": "Python 3",
   "language": "python",
   "name": "python3"
  },
  "language_info": {
   "codemirror_mode": {
    "name": "ipython",
    "version": 3
   },
   "file_extension": ".py",
   "mimetype": "text/x-python",
   "name": "python",
   "nbconvert_exporter": "python",
   "pygments_lexer": "ipython3",
   "version": "3.8.10"
  }
 },
 "nbformat": 4,
 "nbformat_minor": 5
}
