{
 "cells": [
  {
   "cell_type": "code",
   "execution_count": null,
   "id": "1277922b",
   "metadata": {},
   "outputs": [],
   "source": [
    "import numpy as np\n",
    "import matplotlib.pyplot as plt\n",
    "import seaborn as sns\n",
    "import pandas as pd\n",
    "import torch\n",
    "import h5py\n",
    "import os\n",
    "import sys\n",
    "import scipy\n",
    "import damselfly as df\n",
    "import mayfly as mf\n",
    "import scipy.signal\n",
    "import scipy.stats\n",
    "import scipy.interpolate\n",
    "\n",
    "PATH = '/storage/home/adz6/group/project'\n",
    "RESULTPATH = os.path.join(PATH, 'results/damselfly')\n",
    "PLOTPATH = os.path.join(PATH, 'plots/damselfly')\n",
    "DATAPATH = os.path.join(PATH, 'datasets/data')\n",
    "#SIMDATAPATH = os.path.join(PATH, 'damselfly/data/sim_data')\n",
    "\n",
    "\"\"\"\n",
    "Date: 6/25/2021\n",
    "Description: template\n",
    "\"\"\"\n",
    "\n",
    "def SaveSummedDataset(data, metadata, name):\n",
    "    \n",
    "    savefile = h5py.File(name, 'w')\n",
    "    \n",
    "    dataset = savefile.create_dataset('data', data=data)\n",
    "    \n",
    "    metagroup = savefile.create_group('meta')\n",
    "    \n",
    "    for i,key in enumerate(metadata.keys()):\n",
    "        \n",
    "        metagroup.create_dataset(key, data = np.array(metadata[key].array))\n",
    "        \n",
    "    savefile.close()\n",
    "    \n",
    "    \n",
    "\n",
    "def SumDataset(MFdata, radius, gradb_freq_grid):\n",
    "    \n",
    "    metadata = pd.DataFrame(MFdata.metadata)\n",
    "    data_shape = MFdata.data.shape\n",
    "    \n",
    "    summed_data = np.zeros((data_shape[0], data_shape[-1] // 60), dtype=np.complex64)\n",
    "    \n",
    "    summed_indexes = np.zeros(data_shape[0])\n",
    "    \n",
    "    pitch_angles = np.sort(metadata['theta_min'].unique())\n",
    "    #print(pitch_angles)\n",
    "    \n",
    "    total_num_summed = 0\n",
    "    \n",
    "    for i, angle in enumerate(pitch_angles):\n",
    "        \n",
    "        inds = np.array(metadata[metadata['theta_min'] == angle].index.array)\n",
    "\n",
    "        signal_subset = MFdata.data[inds, :]\n",
    "        \n",
    "        nsignal = signal_subset.shape[0]\n",
    "        \n",
    "        gradb_freq = InterpolateGradB(radius, angle, gradb_freq_grid)\n",
    "        \n",
    "        summed_signals = ShiftAndSum(signal_subset, radius, gradb_freq)\n",
    "        \n",
    "        summed_data[total_num_summed:total_num_summed+nsignal, :] = summed_signals\n",
    "        summed_indexes[total_num_summed:total_num_summed+nsignal] = inds\n",
    "        \n",
    "        total_num_summed += nsignal\n",
    "        \n",
    "        if i % 5 == 4:\n",
    "            print(f'{i+1}/{len(pitch_angles)}')\n",
    "        \n",
    "        \n",
    "    resorted_metadata = metadata.iloc[summed_indexes]\n",
    "    \n",
    "    \n",
    "        \n",
    "    return summed_data, resorted_metadata\n",
    "\n",
    "def InterpolateGradB(radius, pitch_angle, gradb_freq_grid):\n",
    "    \n",
    "    radii = gradb_freq_grid['radii']\n",
    "    angles = gradb_freq_grid['angles']\n",
    "    gradb_data = gradb_freq_grid['freq']\n",
    "    \n",
    "    interpolator = scipy.interpolate.interp2d(radii, angles, gradb_data)\n",
    "    \n",
    "    interpolated_freq = interpolator(radius, pitch_angle)\n",
    "    \n",
    "    return interpolated_freq\n",
    "\n",
    "def ShiftAndSum(signal_subset, radius, freq):\n",
    "    \n",
    "    nch = 60\n",
    "    signal_subset = signal_subset.reshape((signal_subset.shape[0], nch, signal_subset.shape[-1] // 60))\n",
    "    nsample = signal_subset.shape[-1]\n",
    "    angles = np.radians(np.arange(0, nch, 1) * 360 / nch)\n",
    "    r_array = 0.10\n",
    "    wavelength_lo = 3e8 / 25.86e9\n",
    "    fsample = 200e6\n",
    "    \n",
    "    grad_b_angles = 4 * np.pi * 2 * np.pi * np.arange(0, nsample, 1) * freq / fsample\n",
    "    \n",
    "    x_antenna = r_array * np.cos(angles)\n",
    "    y_antenna = r_array * np.sin(angles)\n",
    "    \n",
    "    r_electron = radius\n",
    "    theta_electron = 0 + grad_b_angles\n",
    "    \n",
    "    x_electron = r_electron * np.cos(theta_electron)\n",
    "    y_electron = r_electron * np.sin(theta_electron)\n",
    "    \n",
    "    #print(x_grad_b.shape, y_grad_b.shape)\n",
    "    \n",
    "    d_grad_b = np.sqrt((x_antenna.reshape((x_antenna.size, 1)) - x_electron.reshape((1, x_electron.size))) ** 2 + (y_antenna.reshape((y_antenna.size, 1)) - y_electron.reshape((1, y_electron.size))) ** 2)\n",
    "    \n",
    "    phase_shift = 2 * np.pi * (d_grad_b) / wavelength_lo + angles.reshape((angles.size, 1))\n",
    "    \n",
    "    shifted_signal_subset = signal_subset * np.exp(-1j * phase_shift).reshape((1, *phase_shift.shape))\n",
    "    \n",
    "    \n",
    "    return shifted_signal_subset.sum(axis=1)\n",
    "    \n"
   ]
  },
  {
   "cell_type": "code",
   "execution_count": null,
   "id": "4545704a",
   "metadata": {},
   "outputs": [],
   "source": [
    "os.listdir(os.path.join(DATAPATH, 'dl'))"
   ]
  },
  {
   "cell_type": "markdown",
   "id": "03bcd74c",
   "metadata": {},
   "source": [
    "# First check an old dataset created for Deep Learning"
   ]
  },
  {
   "cell_type": "code",
   "execution_count": null,
   "id": "b27c1b0e",
   "metadata": {},
   "outputs": [],
   "source": [
    "old_h5file = h5py.File(os.path.join(DATAPATH, 'dl', '211015_84_1d2sl4mt.h5'))"
   ]
  },
  {
   "cell_type": "code",
   "execution_count": null,
   "id": "ebfb4c0d",
   "metadata": {},
   "outputs": [],
   "source": [
    "ind = 20\n",
    "\n",
    "real = old_h5file['train']['data'][ind, 0, :]\n",
    "imag = old_h5file['train']['data'][ind, 1, :]\n",
    "\n",
    "plt.plot(real)\n",
    "plt.plot(imag)\n",
    "#print(h5file['train']['label'][ind])\n",
    "\n",
    "#print(np.mean(h5file['train']['data'][140000, 2, :]))"
   ]
  },
  {
   "cell_type": "code",
   "execution_count": null,
   "id": "42a63bf1",
   "metadata": {},
   "outputs": [],
   "source": []
  },
  {
   "cell_type": "markdown",
   "id": "eb4ed7d1",
   "metadata": {},
   "source": [
    "# load data"
   ]
  },
  {
   "cell_type": "code",
   "execution_count": null,
   "id": "3761b870",
   "metadata": {},
   "outputs": [],
   "source": [
    "# signal data\n",
    "data = mf.data.MFDataset(os.path.join(DATAPATH, '211116_grad_b_est.h5'))\n",
    "metadata = pd.DataFrame(data.metadata)\n",
    "\n",
    "# grad-b correction data\n",
    "gradb_freq_grid = np.load(os.path.join(PATH, 'results/mayfly', '211129_grad_b_frequency_grid_radius_angle.npz'))"
   ]
  },
  {
   "cell_type": "code",
   "execution_count": null,
   "id": "8e39a0b4",
   "metadata": {},
   "outputs": [],
   "source": [
    "data.data.shape"
   ]
  },
  {
   "cell_type": "code",
   "execution_count": null,
   "id": "445d6cd9",
   "metadata": {},
   "outputs": [],
   "source": [
    "rad = 0.001\n",
    "angle = 88.0\n",
    "\n",
    "ind = metadata[(metadata['x_min'] == rad) & (metadata['theta_min'] == angle)].index[0]\n",
    "\n",
    "gradb_freq = InterpolateGradB(rad, angle, gradb_freq_grid)"
   ]
  },
  {
   "cell_type": "code",
   "execution_count": null,
   "id": "47ac2123",
   "metadata": {},
   "outputs": [],
   "source": [
    "signal = data.data[ind, :]\n",
    "\n",
    "sum_signal = ShiftAndSum(signal.reshape(1, signal.size), 0.0, gradb_freq)"
   ]
  },
  {
   "cell_type": "code",
   "execution_count": null,
   "id": "0a630366",
   "metadata": {},
   "outputs": [],
   "source": [
    "var = 1.38e-23 * 10 * 200e6 * 50 # variance in V squared"
   ]
  },
  {
   "cell_type": "code",
   "execution_count": null,
   "id": "8c257d2f",
   "metadata": {},
   "outputs": [],
   "source": [
    "noise = np.random.multivariate_normal([0, 0], np.eye(2) * var / 2, 8192)\n",
    "noise = noise[:, 0] + 1j * noise[:, 1]\n",
    "\n",
    "pow1 = np.mean(abs(noise) ** 2 )\n",
    "\n",
    "noise = np.random.multivariate_normal([0, 0], np.eye(2) * var / 2, 8192 * 60)\n",
    "noise = noise[:, 0] + 1j * noise[:, 1]\n",
    "\n",
    "pow60 = np.mean(abs(noise.reshape((60, 8192)).sum(axis=0)) ** 2)\n",
    "                \n",
    "print(pow1, pow60, pow60 / pow1)"
   ]
  },
  {
   "cell_type": "code",
   "execution_count": null,
   "id": "45574b81",
   "metadata": {},
   "outputs": [],
   "source": [
    "print(np.mean(abs(np.fft.fft(noise.reshape((60, 8192)).sum(axis=0)) / 8192) ** 2), pow60, pow60 / np.mean(abs(np.fft.fft(noise.reshape((60, 8192)).sum(axis=0)) / 8192) ** 2))"
   ]
  },
  {
   "cell_type": "code",
   "execution_count": null,
   "id": "6ac6d892",
   "metadata": {},
   "outputs": [],
   "source": [
    "1.38e-23 * 10 * 200e6 * 50 / 8192"
   ]
  },
  {
   "cell_type": "code",
   "execution_count": null,
   "id": "8c8fb072",
   "metadata": {},
   "outputs": [],
   "source": [
    "plt.plot(abs(np.fft.fft(sum_signal[0, :]) / 8192) ** 2)\n"
   ]
  },
  {
   "cell_type": "code",
   "execution_count": null,
   "id": "11d59405",
   "metadata": {},
   "outputs": [],
   "source": [
    "\n",
    "\n",
    "var = 60 * 1.38e-23 * 10 * 200e6 * 50 / 8192 # var per bin\n",
    "\n",
    "noise = np.random.multivariate_normal([0, 0], np.eye(2) * var / 2, 8192)\n",
    "noise = noise[:, 0] + 1j * noise[:, 1]\n",
    "\n",
    "plt.plot(noise.real )\n",
    "plt.plot((np.fft.fftshift(np.fft.fft(sum_signal[0, :])) / 8192).real)\n",
    "\n",
    "\n",
    "#plt.ylim(-0.1e-7, 0.1e-7)"
   ]
  },
  {
   "cell_type": "code",
   "execution_count": null,
   "id": "956d9349",
   "metadata": {},
   "outputs": [],
   "source": [
    "name = os.path.join(DATAPATH, 'bf', '211130_sens_est_dense_grid_84.5_0cm_sum.h5')\n",
    "SaveSummedDataset(summed_data, summed_metadata, name)\n"
   ]
  },
  {
   "cell_type": "code",
   "execution_count": null,
   "id": "227d982a",
   "metadata": {},
   "outputs": [],
   "source": [
    "summed_metadata['theta_min'].unique()"
   ]
  },
  {
   "cell_type": "code",
   "execution_count": null,
   "id": "293e2011",
   "metadata": {},
   "outputs": [],
   "source": []
  }
 ],
 "metadata": {
  "kernelspec": {
   "display_name": "Python 3",
   "language": "python",
   "name": "python3"
  },
  "language_info": {
   "codemirror_mode": {
    "name": "ipython",
    "version": 3
   },
   "file_extension": ".py",
   "mimetype": "text/x-python",
   "name": "python",
   "nbconvert_exporter": "python",
   "pygments_lexer": "ipython3",
   "version": "3.8.10"
  }
 },
 "nbformat": 4,
 "nbformat_minor": 5
}
