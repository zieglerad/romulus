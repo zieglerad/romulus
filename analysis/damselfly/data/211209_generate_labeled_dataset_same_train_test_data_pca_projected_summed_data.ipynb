{
 "cells": [
  {
   "cell_type": "code",
   "execution_count": null,
   "id": "6a4c4d1b",
   "metadata": {},
   "outputs": [],
   "source": [
    "import numpy as np\n",
    "import matplotlib.pyplot as plt\n",
    "import seaborn as sns\n",
    "import pandas as pd\n",
    "import torch\n",
    "import h5py\n",
    "import os\n",
    "import sys\n",
    "import scipy\n",
    "import damselfly as df\n",
    "import mayfly as mf\n",
    "import scipy.signal\n",
    "import scipy.stats\n",
    "import scipy.interpolate\n",
    "\n",
    "PATH = '/storage/home/adz6/group/project'\n",
    "RESULTPATH = os.path.join(PATH, 'results/damselfly')\n",
    "PLOTPATH = os.path.join(PATH, 'plots/damselfly')\n",
    "DATAPATH = os.path.join(PATH, 'datasets/data')\n",
    "#SIMDATAPATH = os.path.join(PATH, 'damselfly/data/sim_data')\n",
    "\n",
    "\"\"\"\n",
    "Date: 6/25/2021\n",
    "Description: template\n",
    "\"\"\"\n",
    "\n",
    "def ProjectDataset2D(h5file, evecs, n_evecs, n_project, name):\n",
    "    \n",
    "    new_h5file = h5py.File(name, 'w')\n",
    "    projection_inds = np.flip(np.argsort(abs(evecs), axis=-1), axis=-1)[0:n_evecs, 0:n_project].flatten()\n",
    "    \n",
    "    for i, key in enumerate(['train', 'test', 'val']):\n",
    "        \n",
    "        new_h5file.create_group(key)\n",
    "        new_h5file[key].create_dataset('label', data=h5file[key]['label'][:])\n",
    "        new_h5file[key].create_group('meta')\n",
    "        \n",
    "        for j, metakey in enumerate(['energy', 'theta_min', 'x_min']):\n",
    "            new_h5file[key]['meta'].create_dataset(metakey, data=h5file[key]['meta'][metakey])\n",
    "            \n",
    "        data = h5file[key]['data'][:]\n",
    "        \n",
    "        new_h5file[key].create_dataset('data', data = data[:, :, projection_inds].reshape((data.shape[0], data.shape[1], n_evecs, n_project)))\n",
    "        print(key)\n",
    "    new_h5file.close()\n",
    "        \n",
    "    "
   ]
  },
  {
   "cell_type": "code",
   "execution_count": null,
   "id": "2d4ceda9",
   "metadata": {},
   "outputs": [],
   "source": [
    "#os.mkdir(os.path.join(DATAPATH, 'dl', 'pca'))"
   ]
  },
  {
   "cell_type": "code",
   "execution_count": null,
   "id": "281c2e1f",
   "metadata": {},
   "outputs": [],
   "source": [
    "os.listdir(os.path.join(DATAPATH, 'dl'))"
   ]
  },
  {
   "cell_type": "code",
   "execution_count": null,
   "id": "7b5f17fa",
   "metadata": {},
   "outputs": [],
   "source": [
    "os.listdir(os.path.join(DATAPATH, 'bf'))"
   ]
  },
  {
   "cell_type": "code",
   "execution_count": null,
   "id": "1b88492c",
   "metadata": {},
   "outputs": [],
   "source": [
    "os.listdir(os.path.join(PATH, 'datasets', 'kass'))"
   ]
  },
  {
   "cell_type": "markdown",
   "id": "f23fdf81",
   "metadata": {},
   "source": [
    "# load data"
   ]
  },
  {
   "cell_type": "code",
   "execution_count": null,
   "id": "28868572",
   "metadata": {},
   "outputs": [],
   "source": [
    "# signal data\n",
    "data = h5py.File(os.path.join(DATAPATH, 'dl', '211203_dl_classification_84_25_2cm_slice1_sample2x8192.h5'), 'r')\n",
    "\n"
   ]
  },
  {
   "cell_type": "code",
   "execution_count": null,
   "id": "e746916a",
   "metadata": {},
   "outputs": [],
   "source": [
    "data['train']['meta'].keys()"
   ]
  },
  {
   "cell_type": "markdown",
   "id": "d7bb2b97",
   "metadata": {},
   "source": [
    "# load eigenvectors"
   ]
  },
  {
   "cell_type": "code",
   "execution_count": null,
   "id": "f8f30506",
   "metadata": {},
   "outputs": [],
   "source": [
    "os.listdir(os.path.join(PATH, 'results', 'damselfly', 'pca'))"
   ]
  },
  {
   "cell_type": "code",
   "execution_count": null,
   "id": "e69a4c79",
   "metadata": {},
   "outputs": [],
   "source": [
    "pca_result = np.load(os.path.join(PATH, 'results', 'damselfly', 'pca', '211208_84_25_2cm_pca.npz'))\n",
    "\n",
    "evecs = pca_result['evecs']\n",
    "evals = pca_result['evals']"
   ]
  },
  {
   "cell_type": "code",
   "execution_count": null,
   "id": "52226c6e",
   "metadata": {},
   "outputs": [],
   "source": [
    "name = '211209_dl_classification_84_25_2cm_slice1_sample2x8192_proj256x128.h5'\n",
    "n_evecs = 256\n",
    "n_project = 128\n",
    "\n",
    "ProjectDataset2D(data, evecs, n_evecs, n_project, name)\n",
    "\n"
   ]
  },
  {
   "cell_type": "code",
   "execution_count": null,
   "id": "e11e943b",
   "metadata": {},
   "outputs": [],
   "source": [
    "os.listdir(os.path.join(DATAPATH, 'dl', 'pca'))"
   ]
  },
  {
   "cell_type": "code",
   "execution_count": null,
   "id": "c72e1e75",
   "metadata": {},
   "outputs": [],
   "source": [
    "# signal data\n",
    "data = h5py.File(os.path.join(DATAPATH, 'dl','pca', '211209_dl_classification_84_25_2cm_slice1_sample2x8192_proj256x128.h5'), 'r')"
   ]
  },
  {
   "cell_type": "code",
   "execution_count": null,
   "id": "94eaee8a",
   "metadata": {},
   "outputs": [],
   "source": [
    "example = data['train']['data'][6, 1, :, :]\n",
    "plt.plot(example.flatten())\n",
    "#proj_data = data[:, :, projection_inds].reshape((12221, 2, 256, 128))"
   ]
  },
  {
   "cell_type": "code",
   "execution_count": null,
   "id": "f5612929",
   "metadata": {},
   "outputs": [],
   "source": [
    "\n",
    "#plt.colorbar()"
   ]
  },
  {
   "cell_type": "code",
   "execution_count": null,
   "id": "9e8ed405",
   "metadata": {},
   "outputs": [],
   "source": [
    "plt.plot(abs(evecs[3000, np.flip(np.argsort(abs(evecs[3000, :])))]))"
   ]
  },
  {
   "cell_type": "markdown",
   "id": "50ad80cc",
   "metadata": {},
   "source": [
    "# define output dataset parameters"
   ]
  },
  {
   "cell_type": "code",
   "execution_count": null,
   "id": "c5244790",
   "metadata": {},
   "outputs": [],
   "source": [
    "nsignal = data.shape[0]\n",
    "nsample = data.shape[1]\n",
    "\n",
    "# same signals in train, test, val sets. Different noise samples added to signals at run time\n",
    "#ncopies_train = 10\n",
    "#ncopies_test = 4\n",
    "\n",
    "nslice = 1\n",
    "ninput_ch = 2 # real, imag\n",
    "slicesize = 2 * 8192\n",
    "\n",
    "train_shape = (nsignal, nslice * ninput_ch, slicesize)\n",
    "test_shape = (nsignal, nslice * ninput_ch, slicesize)\n",
    "\n",
    "noise_temp = 10\n",
    "fsample = 200e6\n",
    "system_z = 50\n",
    "nch = 60\n",
    "kB = 1.38e-23\n",
    "\n",
    "noise_var = kB * nch * noise_temp * system_z * fsample\n",
    "noise_var_per_bin = noise_var / slicesize\n",
    "\n",
    "name = os.path.join(DATAPATH, 'dl', '211203_dl_classification_84_25_2cm_slice1_sample2x8192.h5')\n",
    "label = 'class'\n",
    "\n",
    "config = {\n",
    "    'train_shape': train_shape,\n",
    "    'test_shape': test_shape,\n",
    "    'nsignal': nsignal,\n",
    "    'nsample': nsample,\n",
    "    'nslice': nslice,\n",
    "    'ninput_ch': ninput_ch,\n",
    "    'slicesize': slicesize,\n",
    "    'noise_temp': noise_temp,\n",
    "    'fsample': fsample,\n",
    "    'system_z': system_z,\n",
    "    'nch': nch,\n",
    "    'noise_var': noise_var,\n",
    "    'noise_var_per_bin': noise_var_per_bin,\n",
    "    'name': name,\n",
    "    'label': label\n",
    "}\n",
    "\n",
    "\n",
    "CreateDLDataset(config, data, metadata, kass_data, kass_metadata)\n",
    "\n",
    "\n"
   ]
  },
  {
   "cell_type": "code",
   "execution_count": null,
   "id": "283491e6",
   "metadata": {},
   "outputs": [],
   "source": []
  },
  {
   "cell_type": "code",
   "execution_count": null,
   "id": "1e744627",
   "metadata": {},
   "outputs": [],
   "source": []
  }
 ],
 "metadata": {
  "kernelspec": {
   "display_name": "Python 3",
   "language": "python",
   "name": "python3"
  },
  "language_info": {
   "codemirror_mode": {
    "name": "ipython",
    "version": 3
   },
   "file_extension": ".py",
   "mimetype": "text/x-python",
   "name": "python",
   "nbconvert_exporter": "python",
   "pygments_lexer": "ipython3",
   "version": "3.8.10"
  }
 },
 "nbformat": 4,
 "nbformat_minor": 5
}
