{
 "cells": [
  {
   "cell_type": "code",
   "execution_count": null,
   "id": "6a4c4d1b",
   "metadata": {},
   "outputs": [],
   "source": [
    "import numpy as np\n",
    "import matplotlib.pyplot as plt\n",
    "import seaborn as sns\n",
    "import pandas as pd\n",
    "import torch\n",
    "import h5py\n",
    "import os\n",
    "import sys\n",
    "import scipy\n",
    "import damselfly as df\n",
    "import mayfly as mf\n",
    "import scipy.signal\n",
    "import scipy.stats\n",
    "import scipy.interpolate\n",
    "\n",
    "PATH = '/storage/home/adz6/group/project'\n",
    "RESULTPATH = os.path.join(PATH, 'results/damselfly')\n",
    "PLOTPATH = os.path.join(PATH, 'plots/damselfly')\n",
    "DATAPATH = os.path.join(PATH, 'datasets/data')\n",
    "#SIMDATAPATH = os.path.join(PATH, 'damselfly/data/sim_data')\n",
    "\n",
    "\"\"\"\n",
    "Date: 6/25/2021\n",
    "Description: template\n",
    "\"\"\"\n",
    "\n"
   ]
  },
  {
   "cell_type": "code",
   "execution_count": null,
   "id": "2d4ceda9",
   "metadata": {},
   "outputs": [],
   "source": [
    "#os.mkdir(os.path.join(DATAPATH, 'dl', 'pca'))"
   ]
  },
  {
   "cell_type": "code",
   "execution_count": null,
   "id": "281c2e1f",
   "metadata": {},
   "outputs": [],
   "source": [
    "os.listdir(os.path.join(DATAPATH, 'dl'))"
   ]
  },
  {
   "cell_type": "code",
   "execution_count": null,
   "id": "7b5f17fa",
   "metadata": {},
   "outputs": [],
   "source": [
    "os.listdir(os.path.join(DATAPATH))"
   ]
  },
  {
   "cell_type": "markdown",
   "id": "3c056cff",
   "metadata": {},
   "source": [
    "# select templates/signals"
   ]
  },
  {
   "cell_type": "code",
   "execution_count": null,
   "id": "00d09417",
   "metadata": {},
   "outputs": [],
   "source": [
    "h5template = h5py.File(os.path.join(DATAPATH, '211027_84_25_2cm.h5'))\n",
    "h5signal = h5py.File(os.path.join(DATAPATH, '211105_84_25_2cm_random.h5'))\n"
   ]
  },
  {
   "cell_type": "code",
   "execution_count": null,
   "id": "1b9e0e76",
   "metadata": {},
   "outputs": [],
   "source": [
    "h5template['data'].shape\n",
    "h5signal['data'].shape"
   ]
  },
  {
   "cell_type": "code",
   "execution_count": null,
   "id": "73723f72",
   "metadata": {},
   "outputs": [],
   "source": [
    "1474560 / (8192 * 60)"
   ]
  },
  {
   "cell_type": "markdown",
   "id": "2746c772",
   "metadata": {},
   "source": [
    "# Reduce templates/signals to 8192 samples, convert to tensor"
   ]
  },
  {
   "cell_type": "code",
   "execution_count": null,
   "id": "19a3adde",
   "metadata": {},
   "outputs": [],
   "source": [
    "signal_array_cmplx = h5signal['data'][:, :].reshape((h5signal['data'].shape[0], 60, h5signal['data'].shape[-1] // 60))[:, :, 0:8192]\n",
    "template_array_cmplx = h5template['data'][:, :].reshape((h5template['data'].shape[0], 60, h5template['data'].shape[-1] // 60))[:, :, 0:8192]"
   ]
  },
  {
   "cell_type": "code",
   "execution_count": null,
   "id": "a428c64d",
   "metadata": {},
   "outputs": [],
   "source": [
    "print(signal_array_cmplx.shape)\n",
    "print(template_array_cmplx.shape)"
   ]
  },
  {
   "cell_type": "code",
   "execution_count": null,
   "id": "4b635d84",
   "metadata": {},
   "outputs": [],
   "source": [
    "signal_array = np.zeros((494, 2, 60, 8192))\n",
    "template_array = np.zeros((12221, 2, 60, 8192))\n",
    "\n",
    "signal_array[:, 0, :, :] = signal_array_cmplx.real\n",
    "signal_array[:, 1, :, :] = signal_array_cmplx.imag\n",
    "\n",
    "template_array[:, 0, :, :] = template_array_cmplx.real\n",
    "template_array[:, 1, :, :] = template_array_cmplx.imag\n",
    "\n",
    "signal_tensor = torch.as_tensor(signal_array)\n",
    "template_tensor = torch.as_tensor(template_array)\n",
    "\n",
    "print(signal_tensor.shape)\n",
    "print(template_tensor.shape)"
   ]
  },
  {
   "cell_type": "code",
   "execution_count": null,
   "id": "c57824ec",
   "metadata": {},
   "outputs": [],
   "source": [
    "custom_conv = torch.nn.Conv2d(2, 12221, (60, 8192), padding_mode='circular', bias='False')"
   ]
  },
  {
   "cell_type": "code",
   "execution_count": null,
   "id": "8e7dee64",
   "metadata": {},
   "outputs": [],
   "source": [
    "custom_conv.weight = torch.nn.Parameter(data = template_tensor, requires_grad=False)"
   ]
  },
  {
   "cell_type": "code",
   "execution_count": null,
   "id": "c059bf5f",
   "metadata": {},
   "outputs": [],
   "source": [
    "plt.plot(template_tensor[11000, 0, 0, :])\n",
    "plt.plot(custom_conv.weight[11000, 0, 0, :])\n",
    "plt.xlim(0, 100)"
   ]
  },
  {
   "cell_type": "markdown",
   "id": "d23e2d07",
   "metadata": {},
   "source": [
    "# Convert to tensors"
   ]
  },
  {
   "cell_type": "code",
   "execution_count": null,
   "id": "02e20090",
   "metadata": {},
   "outputs": [],
   "source": [
    "#signal_tensor = torch.zeros((494, 2, 60, 8192))\n",
    "#template_tensor = torch.zeros(12221, 2, 60, 8192)\n",
    "\n",
    "\n",
    "signal_tensor[:, 0, :, :] = signal_array.real\n",
    "signal_tensor[:, 1, :, :] = signal_array.imag\n",
    "template_tensor[:, 0, :, :] = template_array.real\n",
    "template_tensor[:, 1, :, :] = template_array.imag"
   ]
  },
  {
   "cell_type": "markdown",
   "id": "f23fdf81",
   "metadata": {},
   "source": [
    "# load data"
   ]
  },
  {
   "cell_type": "code",
   "execution_count": null,
   "id": "28868572",
   "metadata": {},
   "outputs": [],
   "source": [
    "# signal data\n",
    "data = h5py.File(os.path.join(DATAPATH, 'dl',  '211203_dl_classification_84_25_2cm_slice1_sample2x8192_no_sum.h5'), 'r')\n",
    "\n"
   ]
  },
  {
   "cell_type": "code",
   "execution_count": null,
   "id": "e746916a",
   "metadata": {},
   "outputs": [],
   "source": [
    "data['train']['data'].shape"
   ]
  },
  {
   "cell_type": "code",
   "execution_count": null,
   "id": "07bc202f",
   "metadata": {},
   "outputs": [],
   "source": [
    "real = data['train']['data'][np.arange(0, 12221, 2), 0, :]\n",
    "imag = data['train']['data'][np.arange(0, 12221, 2), 1, :]\n",
    "cmplx = real + 1j * imag"
   ]
  },
  {
   "cell_type": "code",
   "execution_count": null,
   "id": "815adb04",
   "metadata": {},
   "outputs": [],
   "source": [
    "noise = np.random.normal(loc=0, scale = np.sqrt(1.38e-23 * 10 * 50 * 1 * 200e6 / (2 * 2 * 8192)), size=2*8192)"
   ]
  },
  {
   "cell_type": "code",
   "execution_count": null,
   "id": "80557875",
   "metadata": {},
   "outputs": [],
   "source": [
    "plt.plot(noise)\n",
    "plt.plot(real[6110, 0, :])\n",
    "plt.plot(imag[6110, 0, :])"
   ]
  },
  {
   "cell_type": "code",
   "execution_count": null,
   "id": "387862d6",
   "metadata": {},
   "outputs": [],
   "source": [
    "avg_spectrum = abs(cmplx).mean(axis=(0, 1))"
   ]
  },
  {
   "cell_type": "code",
   "execution_count": null,
   "id": "c98313fb",
   "metadata": {},
   "outputs": [],
   "source": [
    "plt.plot(np.sort(avg_spectrum))\n",
    "\n",
    "down_select_inds = np.argwhere(avg_spectrum > 0.5e-11)[:, 0]\n",
    "print(down_select_inds.shape)"
   ]
  },
  {
   "cell_type": "code",
   "execution_count": null,
   "id": "abe030a2",
   "metadata": {},
   "outputs": [],
   "source": [
    "len(np.arange(0, 12221, 2))"
   ]
  },
  {
   "cell_type": "code",
   "execution_count": null,
   "id": "df50b8e7",
   "metadata": {},
   "outputs": [],
   "source": [
    "name = '211210_dl_classification_84_25_2cm_slice1_sample2x8192_downselect6111x2x60x8335.h5'\n",
    "data = h5py.File(os.path.join(DATAPATH, 'dl',  '211203_dl_classification_84_25_2cm_slice1_sample2x8192_no_sum.h5'), 'r')\n",
    "signal_inds = np.arange(0, 12221, 2)\n",
    "\n",
    "\n",
    "DownselectData(data, signal_inds, down_select_inds, os.path.join(DATAPATH, 'dl', name))"
   ]
  },
  {
   "cell_type": "markdown",
   "id": "d7bb2b97",
   "metadata": {},
   "source": [
    "# load eigenvectors"
   ]
  },
  {
   "cell_type": "code",
   "execution_count": null,
   "id": "f8f30506",
   "metadata": {},
   "outputs": [],
   "source": [
    "os.listdir(os.path.join(PATH, 'results', 'damselfly', 'pca'))"
   ]
  },
  {
   "cell_type": "code",
   "execution_count": null,
   "id": "e69a4c79",
   "metadata": {},
   "outputs": [],
   "source": [
    "pca_result = np.load(os.path.join(PATH, 'results', 'damselfly', 'pca', '211208_84_25_2cm_pca.npz'))\n",
    "\n",
    "evecs = pca_result['evecs'].T\n",
    "evals = pca_result['evals']"
   ]
  },
  {
   "cell_type": "code",
   "execution_count": null,
   "id": "1886b01f",
   "metadata": {},
   "outputs": [],
   "source": [
    "plt.plot(evecs[256, :])"
   ]
  },
  {
   "cell_type": "code",
   "execution_count": null,
   "id": "40eb60a4",
   "metadata": {},
   "outputs": [],
   "source": []
  },
  {
   "cell_type": "code",
   "execution_count": null,
   "id": "2faf31ec",
   "metadata": {},
   "outputs": [],
   "source": []
  },
  {
   "cell_type": "code",
   "execution_count": null,
   "id": "52226c6e",
   "metadata": {},
   "outputs": [],
   "source": [
    "name = '211209_dl_classification_84_25_2cm_slice1_sample2x8192_proj256x128.h5'\n",
    "n_evecs = 256\n",
    "n_project = 128\n",
    "\n",
    "ProjectDataset2D(data, evecs, n_evecs, n_project, os.path.join(DATAPATH, 'dl', 'pca', name))\n",
    "\n"
   ]
  },
  {
   "cell_type": "code",
   "execution_count": null,
   "id": "e11e943b",
   "metadata": {},
   "outputs": [],
   "source": [
    "os.listdir(os.path.join(DATAPATH, 'dl', 'pca'))"
   ]
  },
  {
   "cell_type": "code",
   "execution_count": null,
   "id": "c72e1e75",
   "metadata": {},
   "outputs": [],
   "source": [
    "# signal data\n",
    "data = h5py.File(os.path.join(DATAPATH, 'dl','pca', '211209_dl_classification_84_25_2cm_slice1_sample2x8192_proj256x128.h5'), 'r')"
   ]
  },
  {
   "cell_type": "code",
   "execution_count": null,
   "id": "0e86a85e",
   "metadata": {},
   "outputs": [],
   "source": [
    "noise = np.random.normal(loc=0, scale = np.sqrt(1.38e-23 * 10 * 50 * 60 * 200e6 / (2 * 2 * 8192)), size=256 * 128)\n",
    "noise = noise.reshape((256, 128))"
   ]
  },
  {
   "cell_type": "code",
   "execution_count": null,
   "id": "9e52d46f",
   "metadata": {},
   "outputs": [],
   "source": []
  },
  {
   "cell_type": "code",
   "execution_count": null,
   "id": "94eaee8a",
   "metadata": {},
   "outputs": [],
   "source": [
    "example = data['train']['data'][13, 0, :, :]\n",
    "\n",
    "plt.plot(noise.flatten())\n",
    "plt.plot(example.flatten())\n",
    "\n",
    "#plt.imshow(abs(example + noise), aspect='auto', interpolation='none')\n",
    "#plt.colorbar()\n",
    "#proj_data = data[:, :, projection_inds].reshape((12221, 2, 256, 128))"
   ]
  },
  {
   "cell_type": "code",
   "execution_count": null,
   "id": "f5612929",
   "metadata": {},
   "outputs": [],
   "source": [
    "example = data['train']['data'][5, 0, :, :]\n",
    "plt.imshow(abs(example + noise), aspect='auto', interpolation='none')\n",
    "plt.colorbar()"
   ]
  },
  {
   "cell_type": "code",
   "execution_count": null,
   "id": "9e8ed405",
   "metadata": {},
   "outputs": [],
   "source": [
    "plt.plot(abs(evecs[3000, np.flip(np.argsort(abs(evecs[3000, :])))]))"
   ]
  },
  {
   "cell_type": "markdown",
   "id": "50ad80cc",
   "metadata": {},
   "source": [
    "# define output dataset parameters"
   ]
  },
  {
   "cell_type": "code",
   "execution_count": null,
   "id": "c5244790",
   "metadata": {},
   "outputs": [],
   "source": [
    "nsignal = data.shape[0]\n",
    "nsample = data.shape[1]\n",
    "\n",
    "# same signals in train, test, val sets. Different noise samples added to signals at run time\n",
    "#ncopies_train = 10\n",
    "#ncopies_test = 4\n",
    "\n",
    "nslice = 1\n",
    "ninput_ch = 2 # real, imag\n",
    "slicesize = 2 * 8192\n",
    "\n",
    "train_shape = (nsignal, nslice * ninput_ch, slicesize)\n",
    "test_shape = (nsignal, nslice * ninput_ch, slicesize)\n",
    "\n",
    "noise_temp = 10\n",
    "fsample = 200e6\n",
    "system_z = 50\n",
    "nch = 60\n",
    "kB = 1.38e-23\n",
    "\n",
    "noise_var = kB * nch * noise_temp * system_z * fsample\n",
    "noise_var_per_bin = noise_var / slicesize\n",
    "\n",
    "name = os.path.join(DATAPATH, 'dl', '211203_dl_classification_84_25_2cm_slice1_sample2x8192.h5')\n",
    "label = 'class'\n",
    "\n",
    "config = {\n",
    "    'train_shape': train_shape,\n",
    "    'test_shape': test_shape,\n",
    "    'nsignal': nsignal,\n",
    "    'nsample': nsample,\n",
    "    'nslice': nslice,\n",
    "    'ninput_ch': ninput_ch,\n",
    "    'slicesize': slicesize,\n",
    "    'noise_temp': noise_temp,\n",
    "    'fsample': fsample,\n",
    "    'system_z': system_z,\n",
    "    'nch': nch,\n",
    "    'noise_var': noise_var,\n",
    "    'noise_var_per_bin': noise_var_per_bin,\n",
    "    'name': name,\n",
    "    'label': label\n",
    "}\n",
    "\n",
    "\n",
    "CreateDLDataset(config, data, metadata, kass_data, kass_metadata)\n",
    "\n",
    "\n"
   ]
  },
  {
   "cell_type": "code",
   "execution_count": null,
   "id": "283491e6",
   "metadata": {},
   "outputs": [],
   "source": []
  },
  {
   "cell_type": "code",
   "execution_count": null,
   "id": "1e744627",
   "metadata": {},
   "outputs": [],
   "source": []
  }
 ],
 "metadata": {
  "kernelspec": {
   "display_name": "Python 3",
   "language": "python",
   "name": "python3"
  },
  "language_info": {
   "codemirror_mode": {
    "name": "ipython",
    "version": 3
   },
   "file_extension": ".py",
   "mimetype": "text/x-python",
   "name": "python",
   "nbconvert_exporter": "python",
   "pygments_lexer": "ipython3",
   "version": "3.8.10"
  }
 },
 "nbformat": 4,
 "nbformat_minor": 5
}
