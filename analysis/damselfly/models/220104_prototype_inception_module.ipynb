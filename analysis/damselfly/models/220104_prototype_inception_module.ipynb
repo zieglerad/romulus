{
 "cells": [
  {
   "cell_type": "code",
   "execution_count": null,
   "id": "6a4c4d1b",
   "metadata": {},
   "outputs": [],
   "source": [
    "import numpy as np\n",
    "import matplotlib.pyplot as plt\n",
    "import seaborn as sns\n",
    "import pandas as pd\n",
    "import torch\n",
    "import h5py\n",
    "import os\n",
    "import sys\n",
    "import scipy\n",
    "import damselfly as df\n",
    "import scipy.signal\n",
    "import scipy.stats\n",
    "import scipy.integrate \n",
    "import json\n",
    "\n",
    "PATH = '/storage/home/adz6/group/project'\n",
    "RESULTPATH = os.path.join(PATH, 'results/damselfly')\n",
    "PLOTPATH = os.path.join(PATH, 'plots/damselfly')\n",
    "DATAPATH = os.path.join(PATH, 'damselfly/data/datasets')\n",
    "SIMDATAPATH = os.path.join(PATH, 'damselfly/data/sim_data')\n",
    "TRAINPATH = os.path.join(PATH, 'damselfly/training')\n",
    "\n",
    "\"\"\"\n",
    "Date: 6/25/2021\n",
    "Description: template\n",
    "\"\"\"\n",
    "\n",
    "def InceptionConv(n_in_filter, n_out_filter, filter_sizes, ):\n",
    "\n",
    "    conv_layers = []\n",
    "\n",
    "    for size in filter_sizes:\n",
    "        conv_layers.append(df.models.ConvRelu(n_in_filter, n_out_filter, size, 1))\n",
    "\n",
    "    return conv_layers\n",
    "\n",
    "class InceptionModule(torch.nn.Module):\n",
    "\n",
    "    def __init__(self, n_in_filter, n_out_filter, filter_sizes,):\n",
    "        \n",
    "        super(InceptionModule, self).__init__()\n",
    "\n",
    "        self.n_in_filter = n_in_filter\n",
    "        self.n_out_filter = n_out_filter\n",
    "        self.filter_sizes = filter_sizes\n",
    "\n",
    "        self.conv_layer_list = InceptionConv(self.n_in_filter, self.n_out_filter, self.filter_sizes)\n",
    "\n",
    "    def forward(self, x):\n",
    "\n",
    "        output_list = []\n",
    "        for conv_layer in self.conv_layer_list:\n",
    "            output_list.append(conv_layer(x))\n",
    "\n",
    "        return torch.cat(output_list, 1)\n",
    "\n",
    "def InceptionStack(in_filter_list, out_filter_list, filter_sizes, maxpool_kernel_sizes):\n",
    "    \n",
    "    stack_list = []\n",
    "    \n",
    "    for i in range(len(in_filter_list)):\n",
    "        stack_list.append(InceptionModule(in_filter_list[i], out_filter_list[i], filter_sizes, ))\n",
    "        stack_list.append(torch.nn.MaxPool1d(maxpool_kernel_sizes[i]))\n",
    "        \n",
    "    return torch.nn.Sequential(*stack_list)"
   ]
  },
  {
   "cell_type": "code",
   "execution_count": null,
   "id": "13086855",
   "metadata": {},
   "outputs": [],
   "source": [
    "x = torch.rand((10, 2, 8192))"
   ]
  },
  {
   "cell_type": "code",
   "execution_count": null,
   "id": "069f546a",
   "metadata": {},
   "outputs": [],
   "source": [
    "inception_module = InceptionModule(2, 10, [4, 8, 16, 32, 64])"
   ]
  },
  {
   "cell_type": "code",
   "execution_count": null,
   "id": "2102ec64",
   "metadata": {},
   "outputs": [],
   "source": [
    "inception_module(x).shape"
   ]
  },
  {
   "cell_type": "code",
   "execution_count": null,
   "id": "a1b5e2bf",
   "metadata": {},
   "outputs": [],
   "source": [
    "in_filter_list = [2, 4 * 10, 4 * 10]\n",
    "out_filter_list = [10, 10, 10] # number of filters per kernel size\n",
    "kernel_sizes = [4, 8, 16, 32]\n",
    "maxpool_kernel_sizes = [4, 4, 4]\n",
    "\n",
    "\n",
    "inception_layers = InceptionStack(in_filter_list, out_filter_list, kernel_sizes, maxpool_kernel_sizes)"
   ]
  },
  {
   "cell_type": "code",
   "execution_count": null,
   "id": "3a3fb789",
   "metadata": {},
   "outputs": [],
   "source": [
    "inception_layers(x).shape"
   ]
  },
  {
   "cell_type": "code",
   "execution_count": null,
   "id": "5c5a1103",
   "metadata": {},
   "outputs": [],
   "source": [
    "inception_layers"
   ]
  },
  {
   "cell_type": "code",
   "execution_count": null,
   "id": "e7e2e22a",
   "metadata": {},
   "outputs": [],
   "source": [
    "conv_list_1 = [\n",
    "        [\n",
    "            [2,],\n",
    "            [10,],\n",
    "            [4,],\n",
    "            [1], # dilation\n",
    "            4\n",
    "        ],\n",
    "    ]\n",
    "\n",
    "conv_list_2 = [\n",
    "        [\n",
    "            [2,],\n",
    "            [10,],\n",
    "            [8,],\n",
    "            [1], # dilation\n",
    "            4\n",
    "        ],\n",
    "    ]\n",
    "\n",
    "\n",
    "conv1 = df.models.ConvStack1D(conv_list_1)\n",
    "conv2 = df.models.ConvStack1D(conv_list_2)"
   ]
  },
  {
   "cell_type": "code",
   "execution_count": null,
   "id": "a0c4aaae",
   "metadata": {},
   "outputs": [],
   "source": [
    "conv1(x).shape\n"
   ]
  },
  {
   "cell_type": "code",
   "execution_count": null,
   "id": "bb49c3f5",
   "metadata": {},
   "outputs": [],
   "source": [
    "conv2(x).shape"
   ]
  },
  {
   "cell_type": "code",
   "execution_count": null,
   "id": "b5de38f2",
   "metadata": {},
   "outputs": [],
   "source": [
    "x = torch.rand((2, 2, 4))"
   ]
  },
  {
   "cell_type": "code",
   "execution_count": null,
   "id": "1cb85e63",
   "metadata": {},
   "outputs": [],
   "source": [
    "torch.cat([x, x]).shape"
   ]
  },
  {
   "cell_type": "code",
   "execution_count": null,
   "id": "4e0ff882",
   "metadata": {},
   "outputs": [],
   "source": [
    "64 + 128 + 32 + 32"
   ]
  },
  {
   "cell_type": "code",
   "execution_count": null,
   "id": "e0806759",
   "metadata": {},
   "outputs": [],
   "source": [
    "8192 / 4"
   ]
  },
  {
   "cell_type": "code",
   "execution_count": null,
   "id": "e038f222",
   "metadata": {},
   "outputs": [],
   "source": [
    "8192 / 4 + 8192 / 8 + 8192 / 16"
   ]
  },
  {
   "cell_type": "code",
   "execution_count": null,
   "id": "ab0b244f",
   "metadata": {},
   "outputs": [],
   "source": [
    "8192 / 4 + 8192 / 8 + 8192 / 16 + 8192 / 32 + 8192 / 64 + 8192 / 128 + 8192 / 256 + 8192 / 512 + 8192 / 1024"
   ]
  },
  {
   "cell_type": "code",
   "execution_count": null,
   "id": "6b28476f",
   "metadata": {},
   "outputs": [],
   "source": [
    "1024 * 8192 / 4"
   ]
  },
  {
   "cell_type": "code",
   "execution_count": null,
   "id": "4d0df66e",
   "metadata": {},
   "outputs": [],
   "source": [
    "(512 * 8192 / 4) + (512 * 8192) / 8"
   ]
  },
  {
   "cell_type": "code",
   "execution_count": null,
   "id": "f3ae6eaf",
   "metadata": {},
   "outputs": [],
   "source": [
    "(256 * 8192 / 4) + (256 * 8192) / 16 + (256 * 8192 / 64) + (256 * 8192) / 256 + (256 * 8192) / 1024"
   ]
  },
  {
   "cell_type": "code",
   "execution_count": null,
   "id": "3e471b69",
   "metadata": {},
   "outputs": [],
   "source": [
    "(128 * 8192 / 4) + (128 * 8192) / 8 + (128 * 8192 / 16) + (128 * 8192) / 32 + (128 * 8192 / 64) + (128 * 8192) / 128 + (128 * 8192 / 256) + (128 * 8192) / 512"
   ]
  },
  {
   "cell_type": "code",
   "execution_count": null,
   "id": "a02e9f2a",
   "metadata": {},
   "outputs": [],
   "source": [
    "20 * 10 * 2048"
   ]
  },
  {
   "cell_type": "code",
   "execution_count": null,
   "id": "3128ee6e",
   "metadata": {},
   "outputs": [],
   "source": [
    "10 * 10 * (2048 + 1024)"
   ]
  },
  {
   "cell_type": "code",
   "execution_count": null,
   "id": "d75520f0",
   "metadata": {},
   "outputs": [],
   "source": [
    "x = torch.rand((10, 2, 8192))\n",
    "\n",
    "\n",
    "nch = 2\n",
    "nslice = 1\n",
    "input_shape_1d = 8192\n",
    "conv_list_1d = [\n",
    "        [\n",
    "            [nch * nslice, 4, 4],\n",
    "            [4, 4,4],\n",
    "            [16, 16, 16],\n",
    "            [1, 1, 1], # dilation\n",
    "            16\n",
    "        ],\n",
    "        [\n",
    "            [4, 6, 6],\n",
    "            [6, 6, 6],\n",
    "            [8, 8, 8],\n",
    "            [1, 1, 1],\n",
    "            8\n",
    "        ],\n",
    "        [\n",
    "            [6, 8, 8],\n",
    "            [8, 8, 8],\n",
    "            [4, 4, 4],\n",
    "            [1, 1, 1],\n",
    "            4\n",
    "        ],\n",
    "    ]\n",
    "\n",
    "model_config_1d_cnn = {\n",
    "    'nclass': 2,\n",
    "    'nch': 2,\n",
    "    'conv': conv_list_1d\n",
    "    }\n",
    "\n",
    "linear_list_1d = [\n",
    "        [df.models.GetConv1DOutputSize(model_config_1d_cnn['conv'], model_config_1d_cnn['nch'], input_shape_1d) + 10, 100],\n",
    "        [100, 20],\n",
    "        [0.0, 0.0]\n",
    "    ]\n",
    "\n",
    "model = DFHybrid(model_config_1d_cnn['nclass'], \n",
    "        model_config_1d_cnn['nch'], \n",
    "        model_config_1d_cnn['conv'], \n",
    "        linear_list_1d,\n",
    "                 x\n",
    "                )"
   ]
  },
  {
   "cell_type": "code",
   "execution_count": null,
   "id": "4ffc0b6f",
   "metadata": {},
   "outputs": [],
   "source": [
    "y = torch.rand(5, 2, 8192)\n",
    "\n",
    "print(model(y).shape)"
   ]
  },
  {
   "cell_type": "code",
   "execution_count": null,
   "id": "8ccaf89d",
   "metadata": {},
   "outputs": [],
   "source": [
    "y = MFConv(x)\n",
    "print(y.shape)"
   ]
  },
  {
   "cell_type": "code",
   "execution_count": null,
   "id": "2b343785",
   "metadata": {},
   "outputs": [],
   "source": [
    "n_pc = 256\n",
    "\n",
    "conv_list = [\n",
    "    [\n",
    "        [2, 20, 20],\n",
    "        [20, 20, 20],\n",
    "        [(n_pc, 4), (n_pc, 4), (n_pc, 4)],\n",
    "        (1, 4)\n",
    "    ],\n",
    "    [\n",
    "        [20, 40, 40],\n",
    "        [40, 40, 40],\n",
    "        [(n_pc, 4), (n_pc, 4), (n_pc, 4)],\n",
    "        (1, 4)\n",
    "    ],\n",
    "    [\n",
    "        [40, 80, 80],\n",
    "        [80, 80, 80],\n",
    "        [(n_pc, 4), (n_pc, 4), (n_pc, 4)],\n",
    "        (1, 4)\n",
    "    ],\n",
    "]\n",
    "\n",
    "in_ch = 2\n",
    "input_shape = (256, 128)\n",
    "\n",
    "GetConv2DOutputSize(conv_list, in_ch, input_shape)\n",
    "\n"
   ]
  },
  {
   "cell_type": "code",
   "execution_count": null,
   "id": "116deb3e",
   "metadata": {},
   "outputs": [],
   "source": [
    "x = torch.rand((1, 2, 60, 8192))\n",
    "\n",
    "layer2d = torch.nn.Conv2d(2, 20, (60, 12), padding='same')\n",
    "\n",
    "maxlayer = torch.nn.MaxPool2d((1, 16))"
   ]
  },
  {
   "cell_type": "code",
   "execution_count": null,
   "id": "4afd247e",
   "metadata": {},
   "outputs": [],
   "source": [
    "layer2d(x).shape"
   ]
  },
  {
   "cell_type": "code",
   "execution_count": null,
   "id": "95e7e1bf",
   "metadata": {},
   "outputs": [],
   "source": [
    "maxlayer(layer2d(x)).shape"
   ]
  },
  {
   "cell_type": "code",
   "execution_count": null,
   "id": "6694ff71",
   "metadata": {},
   "outputs": [],
   "source": []
  }
 ],
 "metadata": {
  "kernelspec": {
   "display_name": "Python 3",
   "language": "python",
   "name": "python3"
  },
  "language_info": {
   "codemirror_mode": {
    "name": "ipython",
    "version": 3
   },
   "file_extension": ".py",
   "mimetype": "text/x-python",
   "name": "python",
   "nbconvert_exporter": "python",
   "pygments_lexer": "ipython3",
   "version": "3.8.10"
  }
 },
 "nbformat": 4,
 "nbformat_minor": 5
}
