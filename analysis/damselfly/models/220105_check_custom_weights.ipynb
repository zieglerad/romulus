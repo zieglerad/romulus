{
 "cells": [
  {
   "cell_type": "code",
   "execution_count": null,
   "id": "6a4c4d1b",
   "metadata": {},
   "outputs": [],
   "source": [
    "import numpy as np\n",
    "import matplotlib.pyplot as plt\n",
    "import seaborn as sns\n",
    "import pandas as pd\n",
    "import torch\n",
    "import h5py\n",
    "import os\n",
    "import sys\n",
    "import scipy\n",
    "import damselfly as df\n",
    "import scipy.signal\n",
    "import scipy.stats\n",
    "import scipy.integrate \n",
    "import json\n",
    "\n",
    "PATH = '/storage/home/adz6/group/project'\n",
    "RESULTPATH = os.path.join(PATH, 'results/damselfly')\n",
    "PLOTPATH = os.path.join(PATH, 'plots/damselfly')\n",
    "DATAPATH = os.path.join(PATH, 'damselfly/data/datasets')\n",
    "SIMDATAPATH = os.path.join(PATH, 'damselfly/data/sim_data')\n",
    "TRAINPATH = os.path.join(PATH, 'damselfly/training')\n",
    "\n",
    "\"\"\"\n",
    "Date: 6/25/2021\n",
    "Description: template\n",
    "\"\"\"\n",
    "\n",
    "class DFHybrid(torch.nn.Module):\n",
    "    \n",
    "    def __init__(self, nclass, ninput_ch, conv_list, linear_list, template_tensor):\n",
    "        super(DFHybrid, self).__init__()\n",
    "\n",
    "        self.conv = df.models.ConvStack1D(conv_list)\n",
    "        \n",
    "        self.mf_conv = MFConv(template_tensor)\n",
    "        \n",
    "        self.mf_max = MFMax(template_tensor.shape[-1])\n",
    "        \n",
    "        self.mf_norm = torch.nn.BatchNorm1d(template_tensor.shape[0], affine=False)\n",
    "        \n",
    "        self.conv_norm = torch.nn.BatchNorm1d(linear_list[0][0] - template_tensor.shape[0], affine=False)\n",
    "        \n",
    "        self.linear = df.models.StackLinear(linear_list[0], linear_list[1], linear_list[2])\n",
    "        \n",
    "        self.linear_out = torch.nn.Linear(linear_list[1][-1], nclass)\n",
    "\n",
    "    def NumFlatFeatures(self, x):\n",
    "        size = x.size()[1:]\n",
    "        num_features = 1\n",
    "        for s in size:\n",
    "            num_features *= s\n",
    "        return num_features\n",
    "        \n",
    "    def forward(self, x):\n",
    "        \n",
    "        y = self.mf_conv(x)\n",
    "        y = self.mf_max(torch.abs(y))\n",
    "        #print(y.shape)\n",
    "        y = self.mf_norm(y)\n",
    "        y = y.squeeze()\n",
    "        \n",
    "        x = self.conv(x)\n",
    "        #print(x.shape)\n",
    "        x = x.view(-1, self.NumFlatFeatures(x))\n",
    "        x = self.conv_norm(x)\n",
    "        \n",
    "        \n",
    "        z = torch.cat((x, y), dim=-1)\n",
    "        \n",
    "        z = self.linear(z)\n",
    "        z = self.linear_out(z)\n",
    "        \n",
    "        return z\n",
    "    \n",
    "    \n",
    "def MFConv(template_tensor):\n",
    "    \n",
    "    mf_conv = torch.nn.Conv1d(\n",
    "        template_tensor.shape[1], \n",
    "        template_tensor.shape[0], \n",
    "        template_tensor.shape[-1], \n",
    "        padding='same',\n",
    "        dilation=1, \n",
    "        groups=1, \n",
    "        bias=False,\n",
    "        padding_mode='circular', \n",
    "        \n",
    "    )\n",
    "    \n",
    "    mf_conv.weight = torch.nn.Parameter(template_tensor, requires_grad=False)\n",
    "    \n",
    "    return mf_conv\n",
    "    \n",
    "def MFMax(filter_size):\n",
    "    \n",
    "    #conv_max = torch.amax(mf_max(torch.abs(convolution)), 1, keepdim=True)\n",
    "    \n",
    "    return torch.nn.MaxPool1d(filter_size)\n",
    "    \n",
    "    \n",
    "    "
   ]
  },
  {
   "cell_type": "code",
   "execution_count": null,
   "id": "51fc3135",
   "metadata": {},
   "outputs": [],
   "source": [
    "os.listdir(os.path.join(PATH, 'damselfly', 'model_config', 'custom_weights'))"
   ]
  },
  {
   "cell_type": "code",
   "execution_count": null,
   "id": "c4cce35c",
   "metadata": {},
   "outputs": [],
   "source": [
    "custom_weights = os.path.join(\n",
    "    PATH, \n",
    "    'damselfly', \n",
    "    'model_config', \n",
    "    'custom_weights', \n",
    "    '220105_84_25_2cm_slice1_sample1x8192_low_pitch_angle_template_weights.pt'\n",
    ")\n",
    "\n",
    "custom_weights = torch.load(custom_weights)"
   ]
  },
  {
   "cell_type": "code",
   "execution_count": null,
   "id": "5616fde3",
   "metadata": {},
   "outputs": [],
   "source": [
    "mf_conv_layer = MFConv(custom_weights)"
   ]
  },
  {
   "cell_type": "code",
   "execution_count": null,
   "id": "08c19b2c",
   "metadata": {},
   "outputs": [],
   "source": [
    "os.listdir(os.path.join(PATH, 'datasets', 'data', 'dl'))"
   ]
  },
  {
   "cell_type": "code",
   "execution_count": null,
   "id": "98c0c6dd",
   "metadata": {},
   "outputs": [],
   "source": [
    "path2data = os.path.join(PATH, 'datasets', 'data', 'dl', '211215_dl_classification_84_25_2cm_slice1_sample1x8192.h5')"
   ]
  },
  {
   "cell_type": "code",
   "execution_count": null,
   "id": "9d9b01f9",
   "metadata": {},
   "outputs": [],
   "source": [
    "energies = np.arange(18575, 18600, 5)\n",
    "angles = np.linspace(84, 90, 121)[0:41]"
   ]
  },
  {
   "cell_type": "code",
   "execution_count": null,
   "id": "08e6ac5f",
   "metadata": {},
   "outputs": [],
   "source": [
    "h5file = h5py.File(path2data, 'r')\n",
    "    \n",
    "dataset_energies = h5file['train']['meta']['energy'][:]\n",
    "dataset_angles = np.int32(100 * h5file['train']['meta']['theta_min'][:]) / 100\n",
    "\n",
    "param_dict = {'energy':dataset_energies, 'angle': dataset_angles}\n",
    "\n",
    "params = pd.DataFrame(param_dict)\n",
    "\n",
    "indices = np.array(params[(params['energy'].isin(energies)) & (params['angle'].isin(angles))].index.array)\n",
    "\n",
    "signals = h5file['train']['data'][indices, :, :]\n",
    "\n",
    "signals = torch.from_numpy(signals)\n",
    "h5file.close()"
   ]
  },
  {
   "cell_type": "code",
   "execution_count": null,
   "id": "da428ebe",
   "metadata": {},
   "outputs": [],
   "source": [
    "plt.figure()\n",
    "\n",
    "plt.plot(signals[0, 0, :])"
   ]
  },
  {
   "cell_type": "code",
   "execution_count": null,
   "id": "20882551",
   "metadata": {},
   "outputs": [],
   "source": [
    "plt.figure()\n",
    "\n",
    "plt.plot(custom_weights[0, 0, :])"
   ]
  },
  {
   "cell_type": "code",
   "execution_count": null,
   "id": "b49eb00f",
   "metadata": {},
   "outputs": [],
   "source": [
    "noise = np.random.multivariate_normal([0, 0], np.eye(2) * 1.38e-23 * 1* 60 * 200e6 * 50 / (2 * 8192), signals.shape[0] * signals.shape[-1])\n",
    "\n",
    "noise = noise.reshape(signals.shape)\n",
    "noise = torch.from_numpy(noise)"
   ]
  },
  {
   "cell_type": "code",
   "execution_count": null,
   "id": "56030267",
   "metadata": {},
   "outputs": [],
   "source": [
    "noisy_signals = signals + noise\n",
    "noisy_signals = noisy_signals.to(torch.float)"
   ]
  },
  {
   "cell_type": "code",
   "execution_count": null,
   "id": "6505b962",
   "metadata": {},
   "outputs": [],
   "source": [
    "plt.figure()\n",
    "\n",
    "plt.plot(noisy_signals[0, 0, :])"
   ]
  },
  {
   "cell_type": "code",
   "execution_count": null,
   "id": "df00c4f2",
   "metadata": {},
   "outputs": [],
   "source": [
    "noisy_signals.dtype"
   ]
  },
  {
   "cell_type": "code",
   "execution_count": null,
   "id": "15c2c009",
   "metadata": {},
   "outputs": [],
   "source": [
    "custom_weights.dtype"
   ]
  },
  {
   "cell_type": "code",
   "execution_count": null,
   "id": "0bdce452",
   "metadata": {},
   "outputs": [],
   "source": [
    "y = mf_conv_layer(noisy_signals[0:10, :, :])"
   ]
  },
  {
   "cell_type": "code",
   "execution_count": null,
   "id": "a06a66c9",
   "metadata": {},
   "outputs": [],
   "source": [
    "y.shape"
   ]
  },
  {
   "cell_type": "code",
   "execution_count": null,
   "id": "ecf09779",
   "metadata": {},
   "outputs": [],
   "source": [
    "plt.figure()\n",
    "plt.plot(y[0, 0, :])\n",
    "plt.plot(y[0, 1, :])"
   ]
  },
  {
   "cell_type": "code",
   "execution_count": null,
   "id": "95e000c1",
   "metadata": {},
   "outputs": [],
   "source": [
    "x = torch.rand((10, 2, 8192))\n",
    "\n",
    "\n",
    "nch = 2\n",
    "nslice = 1\n",
    "input_shape_1d = 8192\n",
    "conv_list_1d = [\n",
    "        [\n",
    "            [nch * nslice, 4, 4],\n",
    "            [4, 4,4],\n",
    "            [16, 16, 16],\n",
    "            [1, 1, 1], # dilation\n",
    "            16\n",
    "        ],\n",
    "        [\n",
    "            [4, 6, 6],\n",
    "            [6, 6, 6],\n",
    "            [8, 8, 8],\n",
    "            [1, 1, 1],\n",
    "            8\n",
    "        ],\n",
    "        [\n",
    "            [6, 8, 8],\n",
    "            [8, 8, 8],\n",
    "            [4, 4, 4],\n",
    "            [1, 1, 1],\n",
    "            4\n",
    "        ],\n",
    "    ]\n",
    "\n",
    "model_config_1d_cnn = {\n",
    "    'nclass': 2,\n",
    "    'nch': 2,\n",
    "    'conv': conv_list_1d\n",
    "    }\n",
    "\n",
    "linear_list_1d = [\n",
    "        [df.models.GetConv1DOutputSize(model_config_1d_cnn['conv'], model_config_1d_cnn['nch'], input_shape_1d) + 10, 100],\n",
    "        [100, 20],\n",
    "        [0.0, 0.0]\n",
    "    ]\n",
    "\n",
    "model = DFHybrid(model_config_1d_cnn['nclass'], \n",
    "        model_config_1d_cnn['nch'], \n",
    "        model_config_1d_cnn['conv'], \n",
    "        linear_list_1d,\n",
    "                 x\n",
    "                )"
   ]
  },
  {
   "cell_type": "code",
   "execution_count": null,
   "id": "2555295a",
   "metadata": {},
   "outputs": [],
   "source": [
    "y = torch.rand(5, 2, 8192)\n",
    "\n",
    "print(model(y).shape)"
   ]
  },
  {
   "cell_type": "code",
   "execution_count": null,
   "id": "7b61fcb5",
   "metadata": {},
   "outputs": [],
   "source": [
    "y = MFConv(x)\n",
    "print(y.shape)"
   ]
  },
  {
   "cell_type": "code",
   "execution_count": null,
   "id": "2b343785",
   "metadata": {},
   "outputs": [],
   "source": [
    "n_pc = 256\n",
    "\n",
    "conv_list = [\n",
    "    [\n",
    "        [2, 20, 20],\n",
    "        [20, 20, 20],\n",
    "        [(n_pc, 4), (n_pc, 4), (n_pc, 4)],\n",
    "        (1, 4)\n",
    "    ],\n",
    "    [\n",
    "        [20, 40, 40],\n",
    "        [40, 40, 40],\n",
    "        [(n_pc, 4), (n_pc, 4), (n_pc, 4)],\n",
    "        (1, 4)\n",
    "    ],\n",
    "    [\n",
    "        [40, 80, 80],\n",
    "        [80, 80, 80],\n",
    "        [(n_pc, 4), (n_pc, 4), (n_pc, 4)],\n",
    "        (1, 4)\n",
    "    ],\n",
    "]\n",
    "\n",
    "in_ch = 2\n",
    "input_shape = (256, 128)\n",
    "\n",
    "GetConv2DOutputSize(conv_list, in_ch, input_shape)\n",
    "\n"
   ]
  },
  {
   "cell_type": "code",
   "execution_count": null,
   "id": "116deb3e",
   "metadata": {},
   "outputs": [],
   "source": [
    "x = torch.rand((1, 2, 60, 8192))\n",
    "\n",
    "layer2d = torch.nn.Conv2d(2, 20, (60, 12), padding='same')\n",
    "\n",
    "maxlayer = torch.nn.MaxPool2d((1, 16))"
   ]
  },
  {
   "cell_type": "code",
   "execution_count": null,
   "id": "4afd247e",
   "metadata": {},
   "outputs": [],
   "source": [
    "layer2d(x).shape"
   ]
  },
  {
   "cell_type": "code",
   "execution_count": null,
   "id": "95e7e1bf",
   "metadata": {},
   "outputs": [],
   "source": [
    "maxlayer(layer2d(x)).shape"
   ]
  },
  {
   "cell_type": "code",
   "execution_count": null,
   "id": "6694ff71",
   "metadata": {},
   "outputs": [],
   "source": []
  }
 ],
 "metadata": {
  "kernelspec": {
   "display_name": "Python 3",
   "language": "python",
   "name": "python3"
  },
  "language_info": {
   "codemirror_mode": {
    "name": "ipython",
    "version": 3
   },
   "file_extension": ".py",
   "mimetype": "text/x-python",
   "name": "python",
   "nbconvert_exporter": "python",
   "pygments_lexer": "ipython3",
   "version": "3.8.10"
  }
 },
 "nbformat": 4,
 "nbformat_minor": 5
}
