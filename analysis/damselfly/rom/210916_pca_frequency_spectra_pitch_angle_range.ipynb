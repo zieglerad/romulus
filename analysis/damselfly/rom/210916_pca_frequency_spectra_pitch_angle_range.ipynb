{
 "cells": [
  {
   "cell_type": "code",
   "execution_count": null,
   "id": "6a4c4d1b",
   "metadata": {},
   "outputs": [],
   "source": [
    "import numpy as np\n",
    "import matplotlib.pyplot as plt\n",
    "import seaborn as sns\n",
    "import pandas as pd\n",
    "import torch\n",
    "import h5py\n",
    "import os\n",
    "import sys\n",
    "import scipy\n",
    "import damselfly as df\n",
    "import scipy.signal\n",
    "import scipy.stats\n",
    "\n",
    "PATH = '/storage/home/adz6/group/project'\n",
    "RESULTPATH = os.path.join(PATH, 'results/damselfly')\n",
    "PLOTPATH = os.path.join(PATH, 'plots/damselfly')\n",
    "DATAPATH = os.path.join(PATH, 'damselfly/data/datasets')\n",
    "SIMDATAPATH = os.path.join(PATH, 'damselfly/data/sim_data')\n",
    "\n",
    "\"\"\"\n",
    "Date: 6/25/2021\n",
    "Description: template\n",
    "\"\"\"\n",
    "\n",
    "\n",
    "def MakeTemplates(signals, var =  1.38e-23 * 10 * 50 * 200e6):\n",
    "    norm_mat = 1 / np.sqrt(var * np.diag(np.matmul(signals, signals.conjugate().T)))\n",
    "\n",
    "    templates = norm_mat.reshape((*norm_mat.shape, 1)).repeat(signals.shape[-1], axis=-1) * signals\n",
    "    \n",
    "    return templates\n"
   ]
  },
  {
   "cell_type": "code",
   "execution_count": null,
   "id": "7b5f17fa",
   "metadata": {},
   "outputs": [],
   "source": [
    "os.listdir(os.path.join(PATH, 'datasets/data/dl'))"
   ]
  },
  {
   "cell_type": "code",
   "execution_count": null,
   "id": "28868572",
   "metadata": {},
   "outputs": [],
   "source": [
    "data = os.path.join(PATH, 'datasets/data/dl', '211215_dl_classification_84_25_2cm_slice1_sample1x8192.h5')\n",
    "h5datafile = h5py.File(data, 'r')"
   ]
  },
  {
   "cell_type": "code",
   "execution_count": null,
   "id": "a82be40c",
   "metadata": {},
   "outputs": [],
   "source": [
    "h5datafile['train']['data'].shape"
   ]
  },
  {
   "cell_type": "code",
   "execution_count": null,
   "id": "4ef05637",
   "metadata": {},
   "outputs": [],
   "source": [
    "pitch_angles = h5datafile['train']['meta']['theta_min'][:]\n",
    "energies = h5datafile['train']['meta']['energy'][:]"
   ]
  },
  {
   "cell_type": "markdown",
   "id": "61808832",
   "metadata": {},
   "source": [
    "# manipulate data"
   ]
  },
  {
   "cell_type": "code",
   "execution_count": null,
   "id": "e76c86ca",
   "metadata": {},
   "outputs": [],
   "source": [
    "real = h5datafile['train']['data'][:, 0, :]\n",
    "imag = h5datafile['train']['data'][:, 1, :]\n",
    "\n",
    "cmplx_data = real + 1j * imag"
   ]
  },
  {
   "cell_type": "markdown",
   "id": "b8fedf58",
   "metadata": {},
   "source": [
    "# whole dataset PCA"
   ]
  },
  {
   "cell_type": "code",
   "execution_count": null,
   "id": "a2367b22",
   "metadata": {},
   "outputs": [],
   "source": [
    "data_matrix = np.matmul(cmplx_data.T, cmplx_data) # (nsample x nsample)"
   ]
  },
  {
   "cell_type": "code",
   "execution_count": null,
   "id": "b3003d2d",
   "metadata": {},
   "outputs": [],
   "source": [
    "sns.set_theme(context='talk', style='ticks')\n",
    "cmap = sns.color_palette('mako_r', as_cmap=True)\n",
    "\n",
    "fig = plt.figure(figsize=(13,8))\n",
    "ax = fig.add_subplot(1,1,1)\n",
    "\n",
    "img = ax.imshow(np.log(abs(data_matrix)), interpolation='none', cmap=cmap)\n",
    "fig.colorbar(img)\n"
   ]
  },
  {
   "cell_type": "code",
   "execution_count": null,
   "id": "75f2ffdc",
   "metadata": {},
   "outputs": [],
   "source": [
    "evals, evecs = np.linalg.eig(data_matrix)"
   ]
  },
  {
   "cell_type": "code",
   "execution_count": null,
   "id": "ce705a58",
   "metadata": {},
   "outputs": [],
   "source": [
    "sns.set_theme(context='talk', style='whitegrid')\n",
    "cmap = sns.color_palette('mako_r', as_cmap=True)\n",
    "\n",
    "fig = plt.figure(figsize=(13,8))\n",
    "ax = fig.add_subplot(1,1,1)\n",
    "\n",
    "ax.plot(abs(evals))\n",
    "\n",
    "#ax.set_xlim(0, 2048)"
   ]
  },
  {
   "cell_type": "code",
   "execution_count": null,
   "id": "61cca00a",
   "metadata": {},
   "outputs": [],
   "source": [
    "sns.set_theme(context='talk', style='whitegrid')\n",
    "cmap = sns.color_palette('mako_r', as_cmap=True)\n",
    "\n",
    "fig = plt.figure(figsize=(13,8))\n",
    "ax = fig.add_subplot(1,1,1)\n",
    "\n",
    "ax.plot(abs(evecs.T[0, :]))\n",
    "\n",
    "\n",
    "print(np.argwhere(abs(evecs.T[0, :] >= 0.02)).shape)\n",
    "\n",
    "#ax.plot(evecs.T[, :])\n",
    "#ax.set_xlim(0, 1024)"
   ]
  },
  {
   "cell_type": "code",
   "execution_count": null,
   "id": "e350904f",
   "metadata": {},
   "outputs": [],
   "source": [
    "os.listdir(os.path.join(PATH, 'results', 'damselfly','pca', ''))"
   ]
  },
  {
   "cell_type": "code",
   "execution_count": null,
   "id": "82da0bb6",
   "metadata": {},
   "outputs": [],
   "source": [
    "os.mkdir(os.path.join(PATH, 'results', 'damselfly','pca'))"
   ]
  },
  {
   "cell_type": "code",
   "execution_count": null,
   "id": "da0124c8",
   "metadata": {},
   "outputs": [],
   "source": [
    "# save result\n",
    "\n",
    "\n",
    "np.savez(os.path.join(PATH, 'results', 'damselfly','pca', '211208_84_25_2cm_pca'), evals=evals, evecs=evecs)"
   ]
  },
  {
   "cell_type": "markdown",
   "id": "5c5aec0b",
   "metadata": {},
   "source": [
    "# use meta data to select a range of pitch angles"
   ]
  },
  {
   "cell_type": "code",
   "execution_count": null,
   "id": "80b3c5f2",
   "metadata": {},
   "outputs": [],
   "source": [
    "theta_min = 84\n",
    "theta_max = 90\n",
    "\n",
    "energy = 18575\n",
    "\n",
    "indices = np.logical_and(pitch_angles >= theta_min, pitch_angles <= theta_max)\n",
    "\n",
    "indices = np.logical_and(indices, energies == energy)\n",
    "\n",
    "data_matrix = np.matmul(cmplx_data[indices, :].T, cmplx_data[indices]) # (nsample x nsample)"
   ]
  },
  {
   "cell_type": "code",
   "execution_count": null,
   "id": "8679a147",
   "metadata": {},
   "outputs": [],
   "source": [
    "indices.sum()"
   ]
  },
  {
   "cell_type": "code",
   "execution_count": null,
   "id": "af32291a",
   "metadata": {},
   "outputs": [],
   "source": [
    "sns.set_theme(context='talk', style='ticks')\n",
    "cmap = sns.color_palette('mako_r', as_cmap=True)\n",
    "\n",
    "fig = plt.figure(figsize=(13,8))\n",
    "ax = fig.add_subplot(1,1,1)\n",
    "\n",
    "img = ax.imshow(np.log(abs(data_matrix)), interpolation='none', cmap=cmap)\n",
    "fig.colorbar(img)\n"
   ]
  },
  {
   "cell_type": "code",
   "execution_count": null,
   "id": "e21c6e6f",
   "metadata": {},
   "outputs": [],
   "source": [
    "torch.cuda.is_available()"
   ]
  },
  {
   "cell_type": "code",
   "execution_count": null,
   "id": "99971fdc",
   "metadata": {},
   "outputs": [],
   "source": [
    "eigout = torch.linalg.eig(torch.as_tensor(data_matrix).cuda())"
   ]
  },
  {
   "cell_type": "code",
   "execution_count": null,
   "id": "ba0cb665",
   "metadata": {},
   "outputs": [],
   "source": [
    "evecs = eigout[1].cpu().numpy()\n",
    "evals = eigout[0].cpu().numpy()"
   ]
  },
  {
   "cell_type": "code",
   "execution_count": null,
   "id": "aa302252",
   "metadata": {},
   "outputs": [],
   "source": [
    "plt.plot(abs(evecs[:, 0]))"
   ]
  },
  {
   "cell_type": "code",
   "execution_count": null,
   "id": "b2195cca",
   "metadata": {},
   "outputs": [],
   "source": [
    "sns.set_theme(context='talk', style='whitegrid')\n",
    "cmap = sns.color_palette('mako_r', as_cmap=True)\n",
    "\n",
    "fig = plt.figure(figsize=(13,8))\n",
    "ax = fig.add_subplot(1,1,1)\n",
    "\n",
    "ax.plot(abs(evals))\n",
    "\n",
    "#ax.set_xlim(0, 2048)"
   ]
  },
  {
   "cell_type": "code",
   "execution_count": null,
   "id": "61498611",
   "metadata": {},
   "outputs": [],
   "source": [
    "np.savez(os.path.join(PATH, 'results', 'damselfly','pca', '211215_88-89_18575_2cm_pca'), evals=evals, evecs=evecs, matrix = data_matrix)"
   ]
  },
  {
   "cell_type": "code",
   "execution_count": null,
   "id": "de94bd8c",
   "metadata": {},
   "outputs": [],
   "source": []
  }
 ],
 "metadata": {
  "kernelspec": {
   "display_name": "Python 3",
   "language": "python",
   "name": "python3"
  },
  "language_info": {
   "codemirror_mode": {
    "name": "ipython",
    "version": 3
   },
   "file_extension": ".py",
   "mimetype": "text/x-python",
   "name": "python",
   "nbconvert_exporter": "python",
   "pygments_lexer": "ipython3",
   "version": "3.8.10"
  }
 },
 "nbformat": 4,
 "nbformat_minor": 5
}
