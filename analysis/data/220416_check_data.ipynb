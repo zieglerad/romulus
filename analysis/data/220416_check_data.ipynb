{
 "cells": [
  {
   "cell_type": "code",
   "execution_count": null,
   "id": "fa8056f9",
   "metadata": {},
   "outputs": [],
   "source": [
    "import h5py\n",
    "import pandas as pd\n",
    "from pathlib import Path\n",
    "import numpy as np\n",
    "import matplotlib.pyplot as plt\n",
    "import seaborn as sns\n",
    "\n",
    "\n",
    "datadir = Path.home()/'group'/'project'/'results'/'beamforming'/'time_dependent'/'beamform_signals'\n",
    "datafile = '220505_dl_grid_84to90deg_1to45mm.h5'\n"
   ]
  },
  {
   "cell_type": "code",
   "execution_count": null,
   "id": "d8508197",
   "metadata": {},
   "outputs": [],
   "source": [
    "h5file = h5py.File(datadir/datafile, 'r')"
   ]
  },
  {
   "cell_type": "code",
   "execution_count": null,
   "id": "2804132a",
   "metadata": {},
   "outputs": [],
   "source": [
    "h5file.keys()"
   ]
  },
  {
   "cell_type": "code",
   "execution_count": null,
   "id": "14924a5c",
   "metadata": {},
   "outputs": [],
   "source": [
    "ind"
   ]
  },
  {
   "cell_type": "code",
   "execution_count": null,
   "id": "eaafc7c7",
   "metadata": {},
   "outputs": [],
   "source": [
    "shape = h5file['x'].shape\n",
    "print(shape)\n",
    "rng = np.random.default_rng()\n",
    "ind = rng.integers(0, shape[0], 1)[0]\n",
    "\n",
    "signal = h5file['x'][ind, :]\n",
    "\n",
    "\n",
    "sns.set_theme(context='poster', style='whitegrid')\n",
    "\n",
    "fig = plt.figure(figsize=(13, 8))\n",
    "ax = fig.add_subplot(2,1,1)\n",
    "\n",
    "ax.plot(signal.real)\n",
    "\n",
    "ax=fig.add_subplot(2,1,2)\n",
    "\n",
    "ax.plot(signal.imag)\n",
    "\n",
    "for key in ['energy', 'grad-b-freq', 'pitch', 'radius']:\n",
    "    print(h5file[key][ind])\n",
    "\n",
    "#for i, key in enumerate(['energy', 'theta_min', 'x_min']):\n",
    "\n",
    "#    print(np.unique(h5file['meta'][key][:]))"
   ]
  },
  {
   "cell_type": "code",
   "execution_count": null,
   "id": "e85fca73",
   "metadata": {},
   "outputs": [],
   "source": [
    "shape = h5file['x'].shape\n",
    "\n",
    "rng = np.random.default_rng()\n",
    "ind = rng.integers(0, shape[0], 1)[0]\n",
    "\n",
    "signal = h5file['x'][ind, :]\n",
    "\n",
    "\n",
    "sns.set_theme(context='poster', style='whitegrid')\n",
    "\n",
    "fig = plt.figure(figsize=(13, 8))\n",
    "ax = fig.add_subplot(1,1,1)\n",
    "\n",
    "ax.plot(abs(np.fft.fftshift(np.fft.fft(signal[0:8192]))) / 8192)\n",
    "\n",
    "for key in ['energy', 'grad-b-freq', 'pitch', 'radius']:\n",
    "    print(h5file[key][ind])"
   ]
  },
  {
   "cell_type": "code",
   "execution_count": null,
   "id": "935ca558",
   "metadata": {},
   "outputs": [],
   "source": [
    "datafile = '220307_0to5cm_84to90_8192_gradb_corrected.npz'\n",
    "\n",
    "npyfile = np.load(datadir/datafile)"
   ]
  },
  {
   "cell_type": "code",
   "execution_count": null,
   "id": "0b25556c",
   "metadata": {},
   "outputs": [],
   "source": [
    "for key in npyfile.keys(): print(key)"
   ]
  },
  {
   "cell_type": "code",
   "execution_count": null,
   "id": "dc32de9b",
   "metadata": {},
   "outputs": [],
   "source": [
    "grid1, grid2 = np.meshgrid(np.argwhere(npyfile['radius']==0.003), np.argwhere(npyfile['pitch']==87.2))\n",
    "\n",
    "index = grid1[np.argwhere(grid1 == grid2).squeeze()[0], np.argwhere(grid1 == grid2).squeeze()[1]]"
   ]
  },
  {
   "cell_type": "code",
   "execution_count": null,
   "id": "63d32736",
   "metadata": {},
   "outputs": [],
   "source": [
    "shape = npyfile['signals'].shape\n",
    "\n",
    "#rng = np.random.default_rng()\n",
    "#ind = rng.integers(0, shape[0], 1)[0]\n",
    "\n",
    "signal = npyfile['signals'][index, :]\n",
    "\n",
    "\n",
    "sns.set_theme(context='poster', style='whitegrid')\n",
    "\n",
    "fig = plt.figure(figsize=(13, 8))\n",
    "ax = fig.add_subplot(1,1,1)\n",
    "\n",
    "ax.plot(abs(np.fft.fftshift(np.fft.fft(signal))) / shape[-1])\n",
    "\n",
    "#for key in ['energy', 'grad-b-freq', 'pitch', 'radius']:\n",
    "#    print(h5file[key][ind])"
   ]
  },
  {
   "cell_type": "code",
   "execution_count": null,
   "id": "1e931188",
   "metadata": {},
   "outputs": [],
   "source": []
  }
 ],
 "metadata": {
  "kernelspec": {
   "display_name": "Python 3",
   "language": "python",
   "name": "python3"
  },
  "language_info": {
   "codemirror_mode": {
    "name": "ipython",
    "version": 3
   },
   "file_extension": ".py",
   "mimetype": "text/x-python",
   "name": "python",
   "nbconvert_exporter": "python",
   "pygments_lexer": "ipython3",
   "version": "3.8.10"
  }
 },
 "nbformat": 4,
 "nbformat_minor": 5
}
