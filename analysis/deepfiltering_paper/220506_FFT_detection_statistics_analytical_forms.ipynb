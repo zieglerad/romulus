{
 "cells": [
  {
   "cell_type": "code",
   "execution_count": null,
   "id": "1a9cd74b",
   "metadata": {},
   "outputs": [],
   "source": [
    "import seaborn as sns\n",
    "from scipy import stats\n",
    "import matplotlib.pyplot as plt\n",
    "import numpy as np\n",
    "from scipy import special\n"
   ]
  },
  {
   "cell_type": "markdown",
   "id": "56077bc5",
   "metadata": {},
   "source": [
    "# define background distribution"
   ]
  },
  {
   "cell_type": "code",
   "execution_count": null,
   "id": "a3084aed",
   "metadata": {},
   "outputs": [],
   "source": [
    "N_sample = 8192\n",
    "system_noise_temp = 10\n",
    "\n",
    "noise_var = 1.38e-23 * 50 * 60 * 205e6 * system_noise_temp\n",
    "noise_var_freq = noise_var / N_sample\n"
   ]
  },
  {
   "cell_type": "code",
   "execution_count": null,
   "id": "2a439485",
   "metadata": {},
   "outputs": [],
   "source": [
    "def rayleigh_cdf(x, N, var):\n",
    "    return (1 - np.exp( - 1 * (x ** 2) / var)) ** (N)\n"
   ]
  },
  {
   "cell_type": "code",
   "execution_count": null,
   "id": "4397c507",
   "metadata": {},
   "outputs": [],
   "source": [
    "x = np.linspace(2.5e-7, 5e-7, 10001)\n",
    "\n",
    "y_cdf = rayleigh_cdf(x, N_sample, noise_var_freq)\n"
   ]
  },
  {
   "cell_type": "code",
   "execution_count": null,
   "id": "9b810a0a",
   "metadata": {},
   "outputs": [],
   "source": [
    "sns.set_theme(context='poster', style='whitegrid')\n",
    "fig = plt.figure(figsize=(13, 8))\n",
    "ax = fig.add_subplot(1,1,1)\n",
    "\n",
    "ax.plot(x, y_cdf)"
   ]
  },
  {
   "cell_type": "code",
   "execution_count": null,
   "id": "f911f733",
   "metadata": {},
   "outputs": [],
   "source": [
    "sns.set_theme(context='poster', style='whitegrid')\n",
    "fig = plt.figure(figsize=(13, 8))\n",
    "ax = fig.add_subplot(1,1,1)\n",
    "\n",
    "\n",
    "norm = 1 / np.trapz(np.gradient(y_cdf), x)\n",
    "\n",
    "ax.plot(x, norm *  np.gradient(y_cdf))\n",
    "xlimits = ax.get_xlim()\n",
    "ax.set_xlim(2.5e-7, 4.5e-7)\n",
    "ax.set_yscale('log')\n",
    "ax.set_ylim(1e4, 4e7)"
   ]
  },
  {
   "cell_type": "code",
   "execution_count": null,
   "id": "a4a2a2e2",
   "metadata": {},
   "outputs": [],
   "source": [
    "n_mc = 100000\n",
    "fft_max = np.zeros(n_mc)\n",
    "\n",
    "for i in range(n_mc):\n",
    "    \n",
    "    noise = np.random.multivariate_normal([0,0], np.eye(2) * noise_var / 2, N_sample)\n",
    "    noise = noise[:, 0] + 1j * noise[:, 1]\n",
    "    \n",
    "    noise = np.fft.fft(noise, norm='forward')\n",
    "    fft_max[i] = np.max(abs(noise))\n",
    "    \n",
    "    "
   ]
  },
  {
   "cell_type": "code",
   "execution_count": null,
   "id": "c84b8a2b",
   "metadata": {},
   "outputs": [],
   "source": [
    "sns.set_theme(context='poster', style='whitegrid')\n",
    "fig = plt.figure(figsize=(13, 8))\n",
    "ax = fig.add_subplot(1,1,1)\n",
    "\n",
    "\n",
    "hist = ax.hist(fft_max, 201, density=True, histtype='step')\n",
    "#hist = np.histogram(fft_max, 201, density=True)\n",
    "#bin_width = hist[1][1] - hist[1][0]\n",
    "\n",
    "#ax.plot(hist[1][1:], hist[0] * bin_width)\n",
    "\n",
    "ax.plot(x, norm *  np.gradient(y_cdf))\n",
    "\n",
    "\n",
    "ax.set_yscale('log')\n",
    "ax.set_xlim(2.5e-7, 4.5e-7)\n",
    "ax.set_ylim(1e4, 4e7)"
   ]
  },
  {
   "cell_type": "markdown",
   "id": "b79c5054",
   "metadata": {},
   "source": [
    "# Define distribution in the prescence of a signal"
   ]
  },
  {
   "cell_type": "code",
   "execution_count": null,
   "id": "e53ee305",
   "metadata": {},
   "outputs": [],
   "source": [
    "time = np.arange(0, N_sample, 1) / 205e6\n",
    "signal_frequency = 20e6\n",
    "\n",
    "signal_1 = 4e-7 * np.exp(1j * 2 * np.pi * time * signal_frequency + 0)\n",
    "\n",
    "signal_1 = np.fft.fftshift(np.fft.fft(signal_1, norm='forward'))\n",
    "frequencies = np.fft.fftshift(np.fft.fftfreq(N_sample, 1/205e6))\n",
    "\n",
    "sns.set_theme(context='poster', style='whitegrid')\n",
    "fig = plt.figure(figsize=(13, 8))\n",
    "ax = fig.add_subplot(1,1,1)\n",
    "ax.plot(frequencies, signal_1.real, marker='.')\n",
    "ax.plot(frequencies, signal_1.imag, marker='.')\n",
    "ax.plot(frequencies, abs(signal_1), marker='.')\n",
    "ax.set_xlim(15e6, 25e6)\n",
    "\n",
    "noise = np.random.multivariate_normal([0,0], np.eye(2) * noise_var / 2, N_sample)\n",
    "noise = noise[:, 0] + 1j * noise[:, 1]\n",
    "noise = np.fft.fft(noise, norm='forward')\n",
    "\n",
    "sns.set_theme(context='poster', style='whitegrid')\n",
    "fig = plt.figure(figsize=(13, 8))\n",
    "ax = fig.add_subplot(1,1,1)\n",
    "\n",
    "ax.plot(frequencies, abs(signal_1))\n",
    "ax.plot(frequencies, abs(signal_1 + noise))\n",
    "ax.set_xlim(15e6, 25e6)"
   ]
  },
  {
   "cell_type": "code",
   "execution_count": null,
   "id": "520216e4",
   "metadata": {},
   "outputs": [],
   "source": [
    "def signal_rician_pdf(x, var, loc):\n",
    "    \n",
    "    return x * np.exp( -1 * (x ** 2 + loc ** 2) / var ) * special.iv(0, x * 2 * loc / var)\n",
    "    "
   ]
  },
  {
   "cell_type": "code",
   "execution_count": null,
   "id": "3efec3eb",
   "metadata": {},
   "outputs": [],
   "source": [
    "loc = np.max(abs(signal_1)) \n",
    "x = np.linspace(0.5e-7, 8e-7, 10001)\n",
    "\n",
    "pdf_1bin = signal_rician_pdf(x, noise_var_freq, loc)\n",
    "\n",
    "norm_1bin = 1 / np.trapz(pdf_1bin, x)"
   ]
  },
  {
   "cell_type": "code",
   "execution_count": null,
   "id": "42353aed",
   "metadata": {},
   "outputs": [],
   "source": [
    "sns.set_theme(context='poster', style='whitegrid')\n",
    "fig = plt.figure(figsize=(13, 8))\n",
    "ax = fig.add_subplot(1,1,1)\n",
    "\n",
    "ax.plot(x, norm_1bin * pdf_1bin)\n",
    "#ax.set_yscale('log')"
   ]
  },
  {
   "cell_type": "code",
   "execution_count": null,
   "id": "204da150",
   "metadata": {},
   "outputs": [],
   "source": [
    "max_ind = np.argmax(abs(signal_1))"
   ]
  },
  {
   "cell_type": "code",
   "execution_count": null,
   "id": "f7762736",
   "metadata": {},
   "outputs": [],
   "source": [
    "n_mc = 100000\n",
    "fft_max_N = np.zeros(n_mc)\n",
    "\n",
    "for i in range(n_mc):\n",
    "    \n",
    "    noise = np.random.multivariate_normal([0,0], np.eye(2) * noise_var / 2, N_sample)\n",
    "    noise = noise[:, 0] + 1j * noise[:, 1]\n",
    "    \n",
    "    noise = np.fft.fft(noise, norm='forward')\n",
    "    fft_max[i] = abs(noise + signal_1)[max_ind]\n",
    "    "
   ]
  },
  {
   "cell_type": "code",
   "execution_count": null,
   "id": "6fa88df9",
   "metadata": {},
   "outputs": [],
   "source": [
    "sns.set_theme(context='poster', style='whitegrid')\n",
    "fig = plt.figure(figsize=(13, 8))\n",
    "ax = fig.add_subplot(1,1,1)\n",
    "\n",
    "hist = ax.hist(fft_max, 201, density=True, histtype='step')\n",
    "ax.plot(x, norm * pdf_1bin)\n",
    "ax.set_yscale('log')"
   ]
  },
  {
   "cell_type": "code",
   "execution_count": null,
   "id": "186835a8",
   "metadata": {},
   "outputs": [],
   "source": [
    "time = np.arange(0, N_sample, 1) / 205e6\n",
    "n_freq = 5\n",
    "signal_frequencies = np.linspace(20e6, 60e6, n_freq)\n",
    "\n",
    "signal = 1.5e-7 * np.exp(\n",
    "    1j * 2 * np.pi * time.reshape((1, time.size)) * signal_frequencies.reshape((n_freq, 1))\n",
    ")\n",
    "\n",
    "signal = np.fft.fftshift(np.fft.fft(signal, norm='forward', axis=-1))\n",
    "signal = signal.sum(0)\n",
    "frequencies = np.fft.fftshift(np.fft.fftfreq(N_sample, 1/205e6))\n",
    "\n",
    "sns.set_theme(context='poster', style='whitegrid')\n",
    "fig = plt.figure(figsize=(13, 8))\n",
    "ax = fig.add_subplot(1,1,1)\n",
    "\n",
    "ax.plot(frequencies, signal.real, marker='.')\n",
    "ax.plot(frequencies, signal.imag, marker='.')\n",
    "ax.plot(frequencies, abs(signal), marker='.')\n",
    "#ax.set_xlim(15e6, 65e6)\n",
    "\n",
    "noise = np.random.multivariate_normal([0,0], np.eye(2) * noise_var / 2, N_sample)\n",
    "noise = noise[:, 0] + 1j * noise[:, 1]\n",
    "noise = np.fft.fft(noise, norm='forward')\n",
    "\n",
    "sns.set_theme(context='poster', style='whitegrid')\n",
    "fig = plt.figure(figsize=(13, 8))\n",
    "ax = fig.add_subplot(1,1,1)\n",
    "\n",
    "ax.plot(frequencies, abs(signal + noise), marker='.')\n",
    "ax.plot(frequencies, abs(signal), marker='.')\n",
    "\n",
    "signal_peak_threshold = 2e-8\n",
    "signal_peaks = abs(signal)[np.where(abs(signal) > signal_peak_threshold)[0]]\n"
   ]
  },
  {
   "cell_type": "code",
   "execution_count": null,
   "id": "a0a137ff",
   "metadata": {},
   "outputs": [],
   "source": [
    "def cdf_from_pdf(x, pdf):\n",
    "    cdf = []\n",
    "    for i in range(x.size):\n",
    "        cdf.append(np.trapz(pdf[0:i+1], x[0:i+1]))\n",
    "    return np.array(cdf)\n",
    "\n",
    "def noisy_freq_series_max_cdf(x, var, signal_peaks):\n",
    "    \n",
    "    cdf = np.ones(x.size)\n",
    "    for i, peak in enumerate(signal_peaks):\n",
    "        pdf_i = signal_rician_pdf(x, var, signal_peaks[i])\n",
    "        norm_i = 1 / np.trapz(pdf_i, x)\n",
    "        cdf_i = cdf_from_pdf(x, norm_i * pdf_i)\n",
    "        \n",
    "        #plt.figure()\n",
    "        #plt.plot(cdf_i)\n",
    "        #plt.show()\n",
    "        #input()\n",
    "        \n",
    "        cdf *= cdf_i\n",
    "        \n",
    "    return cdf\n",
    "    "
   ]
  },
  {
   "cell_type": "code",
   "execution_count": null,
   "id": "a904217f",
   "metadata": {},
   "outputs": [],
   "source": [
    "series_cdf = noisy_freq_series_max_cdf(x, noise_var_freq, signal_peaks)"
   ]
  },
  {
   "cell_type": "code",
   "execution_count": null,
   "id": "ec4bf9d0",
   "metadata": {},
   "outputs": [],
   "source": [
    "    \n",
    "sns.set_theme(context='poster', style='whitegrid')\n",
    "fig = plt.figure(figsize=(13, 8))\n",
    "ax = fig.add_subplot(1,1,1)\n",
    "\n",
    "ax.plot(x, series_cdf)\n",
    "    "
   ]
  },
  {
   "cell_type": "code",
   "execution_count": null,
   "id": "da5a603f",
   "metadata": {},
   "outputs": [],
   "source": [
    "series_pdf = np.gradient(series_cdf)\n",
    "norm = 1 / np.trapz(series_pdf, x)\n"
   ]
  },
  {
   "cell_type": "code",
   "execution_count": null,
   "id": "7fe67a9b",
   "metadata": {},
   "outputs": [],
   "source": [
    "sns.set_theme(context='poster', style='whitegrid')\n",
    "fig = plt.figure(figsize=(13, 8))\n",
    "ax = fig.add_subplot(1,1,1)\n",
    "\n",
    "ax.plot(x, norm * series_pdf)\n",
    "ax.plot(x, norm_1bin * pdf_1bin)\n"
   ]
  },
  {
   "cell_type": "code",
   "execution_count": null,
   "id": "69f8a970",
   "metadata": {},
   "outputs": [],
   "source": [
    "signal_peak_inds = np.where(abs(signal) > signal_peak_threshold)[0]"
   ]
  },
  {
   "cell_type": "code",
   "execution_count": null,
   "id": "ade6836a",
   "metadata": {},
   "outputs": [],
   "source": [
    "n_mc = 100000\n",
    "fft_max_N = np.zeros(n_mc)\n",
    "\n",
    "for i in range(n_mc):\n",
    "    \n",
    "    noise = np.random.multivariate_normal([0,0], np.eye(2) * noise_var / 2, N_sample)\n",
    "    noise = noise[:, 0] + 1j * noise[:, 1]\n",
    "    \n",
    "    noise = np.fft.fft(noise, norm='forward')\n",
    "    fft_max_N[i] = np.max(abs(noise + signal)[signal_peak_inds])\n",
    "    "
   ]
  },
  {
   "cell_type": "code",
   "execution_count": null,
   "id": "0b444f6f",
   "metadata": {},
   "outputs": [],
   "source": [
    "sns.set_theme(context='poster', style='whitegrid')\n",
    "fig = plt.figure(figsize=(13, 8))\n",
    "ax = fig.add_subplot(1,1,1)\n",
    "\n",
    "hist = ax.hist(fft_max_N, 201, density=True, histtype='step')\n",
    "ax.plot(x, norm * series_pdf)\n",
    "ax.set_yscale('log')\n",
    "ax.set_ylim(1, 1e8)\n",
    "ax.set_xlim(2.5e-7, 8e-7)"
   ]
  },
  {
   "cell_type": "markdown",
   "id": "520c411f",
   "metadata": {},
   "source": [
    "# Compare Background PDF to Signal"
   ]
  },
  {
   "cell_type": "code",
   "execution_count": null,
   "id": "cbe065e3",
   "metadata": {},
   "outputs": [],
   "source": [
    "def background_cdf(x, N, var):\n",
    "    return (1 - np.exp( - 1 * (x ** 2) / var)) ** (N)\n",
    "\n",
    "def signal_rician_pdf(x, var, loc):\n",
    "    \n",
    "    return x * np.exp( -1 * (x ** 2 + loc ** 2) / var ) * special.iv(0, x * 2 * loc / var)\n",
    "\n",
    "def cdf_from_pdf(x, pdf):\n",
    "    cdf = []\n",
    "    for i in range(x.size):\n",
    "        cdf.append(np.trapz(pdf[0:i+1], x[0:i+1]))\n",
    "    return np.array(cdf)\n",
    "\n",
    "def noisy_freq_series_max_cdf(x, var, signal_peaks):\n",
    "    \n",
    "    cdf = np.ones(x.size)\n",
    "    for i, peak in enumerate(signal_peaks):\n",
    "        pdf_i = signal_rician_pdf(x, var, signal_peaks[i])\n",
    "        norm_i = 1 / np.trapz(pdf_i, x)\n",
    "        cdf_i = cdf_from_pdf(x, norm_i * pdf_i)\n",
    "        \n",
    "        cdf *= cdf_i\n",
    "        \n",
    "    return cdf\n"
   ]
  },
  {
   "cell_type": "code",
   "execution_count": null,
   "id": "6dc68c20",
   "metadata": {},
   "outputs": [],
   "source": [
    "N_sample = 8192\n",
    "system_noise_temp = 1\n",
    "n_freq = 5\n",
    "\n",
    "noise_var = 1.38e-23 * 50 * 60 * 205e6 * system_noise_temp\n",
    "noise_var_freq = noise_var / N_sample\n",
    "\n",
    "x = np.linspace(0.5e-7, 8e-7, 10001)\n",
    "\n",
    "time = np.arange(0, N_sample, 1) / 205e6\n",
    "\n",
    "signal_frequencies = np.linspace(20e6, 60e6, n_freq)\n",
    "\n",
    "signal = 1.5e-7 * np.exp(\n",
    "    1j * 2 * np.pi * time.reshape((1, time.size)) * signal_frequencies.reshape((n_freq, 1))\n",
    ")\n",
    "\n",
    "signal = np.fft.fftshift(np.fft.fft(signal, norm='forward', axis=-1))\n",
    "signal = signal.sum(0)\n",
    "frequencies = np.fft.fftshift(np.fft.fftfreq(N_sample, 1/205e6))\n",
    "\n",
    "signal_peak_threshold = 0.5e-8\n",
    "signal_peak_inds = np.where(abs(signal) > signal_peak_threshold)[0]\n"
   ]
  },
  {
   "cell_type": "code",
   "execution_count": null,
   "id": "72ab2ac0",
   "metadata": {},
   "outputs": [],
   "source": [
    "cdf_noise = background_cdf(x, N_sample, noise_var_freq, )\n",
    "pdf_noise = np.gradient(cdf_noise) / np.trapz(np.gradient(cdf_noise), x)\n",
    "\n",
    "cdf_signal = noisy_freq_series_max_cdf(x, noise_var_freq, abs(signal)[signal_peak_inds])\n",
    "pdf_signal = np.gradient(cdf_signal) / np.trapz(np.gradient(cdf_signal), x)"
   ]
  },
  {
   "cell_type": "code",
   "execution_count": null,
   "id": "42f2f2c6",
   "metadata": {},
   "outputs": [],
   "source": [
    "sns.set_theme(context='poster', style='whitegrid')\n",
    "fig = plt.figure(figsize=(13, 8))\n",
    "ax = fig.add_subplot(1,1,1)\n",
    "\n",
    "\n",
    "ax.plot(x, pdf_noise * (x[1] - x[0]))\n",
    "ax.plot(x, pdf_signal * (x[1] - x[0]))\n",
    "ax.set_yscale('log')\n",
    "ax.set_ylim(1e-6, 1e-2)\n",
    "xlims = ax.get_xlim()\n",
    "ax.set_xlim(xlims[0], 3e-7)"
   ]
  },
  {
   "cell_type": "code",
   "execution_count": null,
   "id": "44e01ef5",
   "metadata": {},
   "outputs": [],
   "source": [
    "x.range"
   ]
  },
  {
   "cell_type": "code",
   "execution_count": null,
   "id": "de8c7b4f",
   "metadata": {},
   "outputs": [],
   "source": []
  }
 ],
 "metadata": {
  "kernelspec": {
   "display_name": "Python 3",
   "language": "python",
   "name": "python3"
  },
  "language_info": {
   "codemirror_mode": {
    "name": "ipython",
    "version": 3
   },
   "file_extension": ".py",
   "mimetype": "text/x-python",
   "name": "python",
   "nbconvert_exporter": "python",
   "pygments_lexer": "ipython3",
   "version": "3.8.10"
  }
 },
 "nbformat": 4,
 "nbformat_minor": 5
}
