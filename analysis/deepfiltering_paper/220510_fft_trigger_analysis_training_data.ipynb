{
 "cells": [
  {
   "cell_type": "code",
   "execution_count": null,
   "id": "b8e3a32f",
   "metadata": {},
   "outputs": [],
   "source": [
    "from scipy import stats, special\n",
    "import numpy as np\n",
    "from pathlib import Path\n",
    "import h5py\n",
    "import matplotlib.pyplot as plt\n",
    "import seaborn as sns\n",
    "import awkward as ak\n",
    "import pandas as pd\n",
    "\n",
    "\n",
    "def background_cdf(x, N, var):\n",
    "    return (1 - np.exp( - 1 * (x ** 2) / var)) ** (N)\n",
    "\n",
    "def background_cdf_awk(x, n_signal, n_sample, var):\n",
    "    \n",
    "    N = n_sample - ak.to_numpy(n_signal)\n",
    "    \n",
    "    return (1 - np.exp( - 1 * (x ** 2) / var)) ** (N[:, np.newaxis])\n",
    "\n",
    "def rician_pdf(x, var, loc_val):\n",
    "    \n",
    "    x = x[np.newaxis, :]\n",
    "    loc_val = loc_val[:, np.newaxis]\n",
    "    \n",
    "    return x * np.exp( -1 * (x ** 2 + loc_val ** 2) / var ) * special.iv(0, x * 2 * loc_val / var)\n",
    "\n",
    "def cdf_from_pdf(x, pdf):\n",
    "    \n",
    "    cdf = np.zeros((pdf.shape[0], x.size))\n",
    "    for i in range(x.size):\n",
    "        \n",
    "        cdf[:, i] = np.trapz(pdf[:, 0:i+1], x[0:i+1], axis=-1)\n",
    "        \n",
    "    return cdf\n",
    "\n",
    "def combine_batch_cdf(cdf, counts):\n",
    "    \n",
    "    count = 0\n",
    "    cdf_ak = []\n",
    "    for n in counts:\n",
    "        cdf_ak.append(cdf[count:count+n, :])\n",
    "        count+=n\n",
    "    cdf_ak = ak.Array(cdf_ak)\n",
    "    \n",
    "    return ak.to_numpy(ak.prod(cdf_ak, axis=1))\n",
    "\n",
    "def get_spectra_peaks(freq_spectra, threshold):\n",
    "    \n",
    "    peaks = []\n",
    "    for i in range(freq_spectra.shape[0]):\n",
    "        i_peak_inds = np.where(abs(freq_spectra[i, :]) > threshold)[0]\n",
    "        i_peaks = abs(freq_spectra[i, i_peak_inds])\n",
    "\n",
    "        peaks.append(list(i_peaks))\n",
    "    \n",
    "    return ak.Array(peaks)\n",
    "    \n",
    "def generate_signal_cdf(peaks, x, var, n_sample, batchsize=1000):\n",
    "    \n",
    "    peak_counts = ak.num(peaks, axis=1)\n",
    "    num_spectra = ak.num(peaks, axis=0)\n",
    "    \n",
    "    spectra_inds = np.arange(0, num_spectra, 1)\n",
    "    combined_cdf = np.zeros((num_spectra, x.size))\n",
    "    \n",
    "    for i, spectra_batch in enumerate(np.array_split(spectra_inds, num_spectra//batchsize)):\n",
    "        \n",
    "        batch_peaks = peaks[spectra_batch]\n",
    "        batch_counts = ak.num(batch_peaks, axis=1)\n",
    "        flat_batch_peaks = ak.to_numpy(ak.flatten(batch_peaks))\n",
    "        \n",
    "        batch_pdf = rician_pdf(x, var, flat_batch_peaks)\n",
    "        batch_norm = 1/np.trapz(batch_pdf, x, axis=-1)\n",
    "        batch_pdf = batch_norm[:, np.newaxis] * batch_pdf\n",
    "        \n",
    "        batch_cdf = cdf_from_pdf(x, batch_pdf)\n",
    "        batch_cdf = combine_batch_cdf(batch_cdf, batch_counts)\n",
    "\n",
    "        combined_cdf[spectra_batch, :] = batch_cdf * background_cdf_awk(x, batch_counts, n_sample, var)\n",
    "        \n",
    "        if i % 10 == 9:\n",
    "            print(f'{i + 1} / {num_spectra//batchsize}')\n",
    "            \n",
    "    return combined_cdf\n",
    "    "
   ]
  },
  {
   "cell_type": "code",
   "execution_count": null,
   "id": "41c3c4f1",
   "metadata": {},
   "outputs": [],
   "source": [
    "x = np.arange(0, 100, 1)\n",
    "print(np.array_split(x, 10))"
   ]
  },
  {
   "cell_type": "code",
   "execution_count": null,
   "id": "4fbf48bc",
   "metadata": {},
   "outputs": [],
   "source": [
    "path2signals = Path.home()/'group'/'project'/'results'/'beamforming'/'time_dependent'/'beamform_signals'\n",
    "file = '220505_dl_grid_84to90deg_1to45mm.h5'\n",
    "\n",
    "pitch_min=88\n",
    "pitch_max=90\n",
    "radius_min=0.001\n",
    "radius_max=0.045\n",
    "\n",
    "\n",
    "h5file = h5py.File(path2signals/file, 'r')\n",
    "\n",
    "metadata = {\n",
    "    'energy':h5file['energy'][:],\n",
    "    'pitch':h5file['pitch'][:],\n",
    "    'radius':h5file['radius'][:]\n",
    "}\n",
    "\n",
    "metadata = pd.DataFrame(metadata)\n",
    "\n",
    "inds = np.array(metadata[\n",
    "    (metadata['pitch']>=pitch_min)&(metadata['pitch']<=pitch_max)\n",
    "    & (metadata['radius']>=radius_min)&(metadata['radius']<=radius_max)\n",
    "].index.array)\n",
    "\n",
    "signal_freq_spectra = np.fft.fftshift(np.fft.fft(\n",
    "    h5file['x'][inds, 0:8192], axis=-1, norm='forward'))\n"
   ]
  },
  {
   "cell_type": "code",
   "execution_count": null,
   "id": "229a1126",
   "metadata": {},
   "outputs": [],
   "source": [
    "signal_freq_spectra.shape"
   ]
  },
  {
   "cell_type": "code",
   "execution_count": null,
   "id": "f90f2b10",
   "metadata": {},
   "outputs": [],
   "source": []
  },
  {
   "cell_type": "code",
   "execution_count": null,
   "id": "d0e93778",
   "metadata": {},
   "outputs": [],
   "source": [
    "sns.set_theme(context='talk', style='whitegrid', palette='bright')\n",
    "\n",
    "fig = plt.figure(figsize=(13, 8))\n",
    "ax = fig.add_subplot(1,1,1)\n",
    "\n",
    "ax.plot(abs(signal_freq_spectra[0, :]))\n",
    "ylims = ax.get_ylim()\n",
    "\n"
   ]
  },
  {
   "cell_type": "code",
   "execution_count": null,
   "id": "f1013ac5",
   "metadata": {},
   "outputs": [],
   "source": [
    "peak_threshold = 1e-8\n",
    "system_noise_temp = 10\n",
    "n_sample = 8192\n",
    "noise_variance = 1.38e-23 * 50 * 60 * 205e6 * system_noise_temp / n_sample\n",
    "n_pts_dist = 101\n",
    "x = np.linspace(0, 1e-6, n_pts_dist)\n",
    "\n",
    "peaks = get_spectra_peaks(signal_freq_spectra, peak_threshold)\n",
    "cdf = generate_signal_cdf(peaks, x, noise_variance, n_sample)\n"
   ]
  },
  {
   "cell_type": "code",
   "execution_count": null,
   "id": "5c8d45aa",
   "metadata": {},
   "outputs": [],
   "source": [
    "ind = 22\n",
    "\n",
    "pdf = np.gradient(cdf, axis=-1)\n",
    "norm = 1/np.trapz(pdf, x)\n",
    "pdf = norm[:, np.newaxis] * pdf\n",
    "\n",
    "cdf_background = background_cdf(x, n_sample, noise_variance)\n",
    "pdf_background = np.gradient(cdf_background) / np.trapz(np.gradient(cdf_background), x)\n",
    "\n",
    "fig = plt.figure(figsize=(13, 8))\n",
    "ax = fig.add_subplot(1,1,1)\n",
    "\n",
    "ax.plot(pdf[ind, :])\n",
    "ax.plot(pdf_background)\n",
    "\n",
    "fig = plt.figure(figsize=(13, 8))\n",
    "ax = fig.add_subplot(1,1,1)\n",
    "\n",
    "ax.plot(cdf[ind, :])\n",
    "ax.plot(cdf_background)\n",
    "\n",
    "fig = plt.figure(figsize=(13, 8))\n",
    "ax = fig.add_subplot(1,1,1)\n",
    "\n",
    "ax.plot(1-cdf_background, 1-cdf[ind, :])"
   ]
  },
  {
   "cell_type": "code",
   "execution_count": null,
   "id": "bc170568",
   "metadata": {},
   "outputs": [],
   "source": [
    "fig = plt.figure(figsize=(13, 8))\n",
    "ax = fig.add_subplot(1,1,1)\n",
    "\n",
    "ax.plot(1-cdf_background, 1-cdf.mean(axis=0))\n",
    "ax.plot(np.linspace(0, 1, 10001), np.linspace(0, 1, 10001), '--')\n",
    "ax.set_xscale('log')\n",
    "\n",
    "ax.set_xlim(5e-5, 1)"
   ]
  },
  {
   "cell_type": "markdown",
   "id": "6d4a4cab",
   "metadata": {},
   "source": [
    "# Validation"
   ]
  },
  {
   "cell_type": "code",
   "execution_count": null,
   "id": "62aee4af",
   "metadata": {},
   "outputs": [],
   "source": [
    "test_index = 22\n",
    "n_mc = 10000\n",
    "noise = np.random.multivariate_normal([0, 0], np.eye(2) * noise_variance / 2, n_sample)\n",
    "noise = noise[:, 0] + 1j * noise[:, 1]\n",
    "\n",
    "sns.set_theme(context='talk', style='whitegrid', palette='bright')\n",
    "\n",
    "fig = plt.figure(figsize=(13, 8))\n",
    "ax = fig.add_subplot(1,1,1)\n",
    "ax.plot(x, cdf[test_index, :])\n",
    "ylims = ax.get_ylim()\n",
    "\n",
    "fig = plt.figure(figsize=(13, 8))\n",
    "ax = fig.add_subplot(1,1,1)\n",
    "ax.plot(x, np.gradient(cdf[test_index, :]) / np.trapz(np.gradient(cdf[test_index, :]), x))\n",
    "ylims = ax.get_ylim()\n",
    "\n",
    "fig = plt.figure(figsize=(13, 8))\n",
    "ax = fig.add_subplot(1,1,1)\n",
    "ax.plot(abs(noise))\n",
    "ax.plot(abs(signal_freq_spectra[test_index, :]))\n",
    "\n",
    "test_peak_inds = np.where(abs(signal_freq_spectra[test_index, :])>peak_threshold)[0]\n",
    "test_max_val = np.zeros(n_mc)\n",
    "for i in range(n_mc):\n",
    "    \n",
    "    noise = np.random.multivariate_normal([0, 0], np.eye(2) * noise_variance / 2, n_sample)\n",
    "    noise = noise[:, 0] + 1j * noise[:, 1]\n",
    "    \n",
    "    test_max_val[i] = np.max(abs(noise + signal_freq_spectra[test_index, :])[test_peak_inds])\n",
    "    \n",
    "fig = plt.figure(figsize=(13, 8))\n",
    "ax = fig.add_subplot(1,1,1)\n",
    "hist = ax.hist(test_max_val, 201, density=True, histtype='step')\n",
    "ax.plot(x, np.gradient(cdf[test_index, :]) / np.trapz(np.gradient(cdf[test_index, :]), x))\n",
    "ax.set_yscale('log')\n",
    "ax.set_ylim(1e3, 1e7)\n",
    "  \n",
    "    "
   ]
  },
  {
   "cell_type": "code",
   "execution_count": null,
   "id": "9f4be0b1",
   "metadata": {},
   "outputs": [],
   "source": [
    "y_cdf.shape"
   ]
  },
  {
   "cell_type": "code",
   "execution_count": null,
   "id": "defa9b40",
   "metadata": {},
   "outputs": [],
   "source": [
    "test_peaks_per_signal = ak.num(test_signal_peaks)\n",
    "\n",
    "cdf_ak = []\n",
    "count = 0\n",
    "for n_peaks in test_peaks_per_signal:\n",
    "    cdf_ak.append(y_cdf[count:count+n_peaks, :])\n",
    "    count += n_peaks\n",
    "cdf_ak = ak.Array(cdf_ak)\n",
    "\n"
   ]
  },
  {
   "cell_type": "code",
   "execution_count": null,
   "id": "e46db5cb",
   "metadata": {},
   "outputs": [],
   "source": [
    "ak.prod(cdf_ak, axis=1)"
   ]
  },
  {
   "cell_type": "code",
   "execution_count": null,
   "id": "ea89f1ed",
   "metadata": {},
   "outputs": [],
   "source": [
    "np.prod(y_cdf[0:peaks_per_signal[0], :], axis=0).shape"
   ]
  },
  {
   "cell_type": "code",
   "execution_count": null,
   "id": "32042b23",
   "metadata": {},
   "outputs": [],
   "source": []
  },
  {
   "cell_type": "code",
   "execution_count": null,
   "id": "55873d1f",
   "metadata": {},
   "outputs": [],
   "source": [
    "np.array_split(np.linspace(0, 100), 10)"
   ]
  },
  {
   "cell_type": "code",
   "execution_count": null,
   "id": "dc13df94",
   "metadata": {},
   "outputs": [],
   "source": [
    "x = ak.Array([1,1,1,11,1,1,1,1,1,1,1,1])"
   ]
  },
  {
   "cell_type": "code",
   "execution_count": null,
   "id": "1a13e637",
   "metadata": {},
   "outputs": [],
   "source": [
    "np.array_split(x, 3)"
   ]
  },
  {
   "cell_type": "code",
   "execution_count": null,
   "id": "9a817665",
   "metadata": {},
   "outputs": [],
   "source": []
  }
 ],
 "metadata": {
  "kernelspec": {
   "display_name": "Python 3",
   "language": "python",
   "name": "python3"
  },
  "language_info": {
   "codemirror_mode": {
    "name": "ipython",
    "version": 3
   },
   "file_extension": ".py",
   "mimetype": "text/x-python",
   "name": "python",
   "nbconvert_exporter": "python",
   "pygments_lexer": "ipython3",
   "version": "3.8.10"
  }
 },
 "nbformat": 4,
 "nbformat_minor": 5
}
