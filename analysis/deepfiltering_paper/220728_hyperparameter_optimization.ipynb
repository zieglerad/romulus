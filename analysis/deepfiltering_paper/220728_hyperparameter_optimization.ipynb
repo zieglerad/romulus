{
 "cells": [
  {
   "cell_type": "code",
   "execution_count": null,
   "id": "17b0feb6",
   "metadata": {},
   "outputs": [],
   "source": [
    "from pathlib import Path\n",
    "import torch\n",
    "import numpy as np\n",
    "import matplotlib.pyplot as plt\n",
    "import pandas as pd\n",
    "\n",
    "def extract_data(checkpoint):\n",
    "    \"\"\"\n",
    "    returns a dict\n",
    "    {\n",
    "        'n_conv_list':\n",
    "        'kernel':\n",
    "        'initial_filters':\n",
    "        'val_acc_array':\n",
    "        'best_acc':\n",
    "    }\n",
    "    \"\"\"\n",
    "    hp = {}\n",
    "    conv_list = checkpoint['model_config']['config']['conv']\n",
    "    \n",
    "    hp['kernel'] = conv_list[0][2][0]\n",
    "    hp['initial_filters'] = conv_list[0][1][0]\n",
    "    hp['n_conv'] = []\n",
    "    for i in conv_list: hp['n_conv'].append(len(i[0]))\n",
    "        \n",
    "    val_acc = checkpoint['val_acc']\n",
    "    # clean up the list\n",
    "    temp_array = []\n",
    "    for i in range(len(val_acc)):\n",
    "        \n",
    "        temp_array.append([val_acc[i][0], val_acc[i][1], torch.tensor(val_acc[i][2]).mean().item()])\n",
    "    temp_array = np.array(temp_array)\n",
    "    \n",
    "    n_batch = np.int32(np.max(temp_array[:, 1])) + 1\n",
    "    \n",
    "    hp['val_acc_array'] = temp_array[np.arange(0,498*n_batch + 1, n_batch),:]\n",
    "    hp['best_acc'] = np.mean(np.flip(np.sort(hp['val_acc_array'][:, -1]))[0:10])\n",
    "    \n",
    "    return hp\n",
    "        \n",
    "\n"
   ]
  },
  {
   "cell_type": "code",
   "execution_count": null,
   "id": "c065a2d3",
   "metadata": {},
   "outputs": [],
   "source": [
    "checkpoints = []\n",
    "\n",
    "directories = list((Path.home()/'group'/'project'/'scripting'/'output').glob('220728_hyper*'))\n",
    "for directory in directories:\n",
    "    checkpoints.extend(\n",
    "        list((directory.glob('*/*.tar')))\n",
    "    )\n",
    "    \n",
    "print(len(checkpoints))\n",
    "\n"
   ]
  },
  {
   "cell_type": "code",
   "execution_count": null,
   "id": "8096417d",
   "metadata": {},
   "outputs": [],
   "source": [
    "hp_data = []\n",
    "\n",
    "for i in range(len(checkpoints)):\n",
    "    hp_data.append(extract_data(torch.load(checkpoints[i], map_location=torch.device('cpu'))))\n",
    "    if i % 100 == 99:\n",
    "        print(i+1)"
   ]
  },
  {
   "cell_type": "code",
   "execution_count": null,
   "id": "ea638148",
   "metadata": {},
   "outputs": [],
   "source": [
    "hp_data = pd.DataFrame(hp_data)"
   ]
  },
  {
   "cell_type": "code",
   "execution_count": null,
   "id": "0444cd54",
   "metadata": {},
   "outputs": [],
   "source": [
    "hp_data.sort_values('best_acc', ascending=False).iloc[0:30]"
   ]
  },
  {
   "cell_type": "code",
   "execution_count": null,
   "id": "a8100bf0",
   "metadata": {},
   "outputs": [],
   "source": [
    "checkpoint = torch.load(checkpoints[0], map_location=torch.device('cpu'))\n",
    "print(checkpoint.keys())\n",
    "print(checkpoint['model_config'])"
   ]
  },
  {
   "cell_type": "code",
   "execution_count": null,
   "id": "e14233cb",
   "metadata": {},
   "outputs": [],
   "source": [
    "extract_data(checkpoint)"
   ]
  },
  {
   "cell_type": "code",
   "execution_count": null,
   "id": "f3136af4",
   "metadata": {},
   "outputs": [],
   "source": []
  }
 ],
 "metadata": {
  "kernelspec": {
   "display_name": "Python 3",
   "language": "python",
   "name": "python3"
  },
  "language_info": {
   "codemirror_mode": {
    "name": "ipython",
    "version": 3
   },
   "file_extension": ".py",
   "mimetype": "text/x-python",
   "name": "python",
   "nbconvert_exporter": "python",
   "pygments_lexer": "ipython3",
   "version": "3.8.10"
  }
 },
 "nbformat": 4,
 "nbformat_minor": 5
}
