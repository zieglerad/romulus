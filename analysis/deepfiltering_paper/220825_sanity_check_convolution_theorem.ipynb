{
 "cells": [
  {
   "cell_type": "code",
   "execution_count": null,
   "id": "8fed1ce7",
   "metadata": {},
   "outputs": [],
   "source": [
    "import numpy as np\n",
    "import matplotlib.pyplot as plt"
   ]
  },
  {
   "cell_type": "code",
   "execution_count": null,
   "id": "94cc7f1f",
   "metadata": {},
   "outputs": [],
   "source": [
    "time = np.linspace(0, 1000, 100000)\n",
    "\n",
    "x = np.exp(1j * 2 * np.pi * 10000 * time)\n",
    "y = x * np.exp(1j * np.pi)"
   ]
  },
  {
   "cell_type": "code",
   "execution_count": null,
   "id": "10dd5a4d",
   "metadata": {},
   "outputs": [],
   "source": [
    "\n",
    "fig = plt.figure(figsize=(13, 8))\n",
    "ax = fig.add_subplot(1,1,1)\n",
    "ax.plot(time, x.real)\n",
    "#ax.plot(time, x.imag)\n",
    "\n",
    "ax.plot(time, y.real)\n",
    "#ax.plot(time, y.imag)\n",
    "ax.set_xlim(time[0], time[10000])"
   ]
  },
  {
   "cell_type": "code",
   "execution_count": null,
   "id": "33de8636",
   "metadata": {},
   "outputs": [],
   "source": [
    "abs(np.vdot(x, y)) / time.size"
   ]
  },
  {
   "cell_type": "code",
   "execution_count": null,
   "id": "60f8b8f3",
   "metadata": {},
   "outputs": [],
   "source": [
    "\n",
    "fig = plt.figure(figsize=(13, 8))\n",
    "ax = fig.add_subplot(1,1,1)\n",
    "\n",
    "ax.plot(np.fft.fft(x, norm='forward').real)\n",
    "ax.plot(np.fft.fft(y, norm='forward').real)\n",
    "\n",
    "ax.set_xlim(0, 200)"
   ]
  },
  {
   "cell_type": "code",
   "execution_count": null,
   "id": "22264a30",
   "metadata": {},
   "outputs": [],
   "source": []
  }
 ],
 "metadata": {
  "kernelspec": {
   "display_name": "Python 3",
   "language": "python",
   "name": "python3"
  },
  "language_info": {
   "codemirror_mode": {
    "name": "ipython",
    "version": 3
   },
   "file_extension": ".py",
   "mimetype": "text/x-python",
   "name": "python",
   "nbconvert_exporter": "python",
   "pygments_lexer": "ipython3",
   "version": "3.8.10"
  }
 },
 "nbformat": 4,
 "nbformat_minor": 5
}
