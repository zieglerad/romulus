{
 "cells": [
  {
   "cell_type": "code",
   "execution_count": null,
   "id": "d3bda668",
   "metadata": {},
   "outputs": [],
   "source": [
    "import numpy as np\n",
    "import seaborn as sns\n",
    "import matplotlib.pyplot as plt\n",
    "import math\n",
    "from pathlib import Path\n",
    "from scipy import stats\n",
    "sns.set_theme(style='whitegrid', context='talk', font_scale=1.2)\n",
    "\n",
    "def model(time, t0=0, a0=1, aam=1, afm=1, wc=1, wax=1, phic=0, phiax=0):\n",
    "    \n",
    "    amplitude = a0 + aam * np.cos(2 * np.pi * wax * (time-t0) - phiax)\n",
    "    \n",
    "    wfm = 2 * np.pi * (wc + afm * np.sin(2 * np.pi * wax * (time-t0) - phiax - math.pi))\n",
    "    \n",
    "    phase = wfm * (time-t0) - phic\n",
    "    \n",
    "    return amplitude * np.exp(1j * phase) * np.heaviside(time-t0, 0)\n",
    "\n",
    "\n",
    "n_sample = 8192\n",
    "f_sample = 200e6\n",
    "time = np.arange(0, n_sample, 1) / f_sample\n",
    "\n",
    "t0 = 256 / f_sample\n",
    "a0=1e-3\n",
    "aam = 2e-4\n",
    "afm = 6e3\n",
    "wc =  20e6\n",
    "wax = 75e5\n",
    "phic = 0\n",
    "phiax = 0\n",
    "\n",
    "config = {'t0':t0, 'a0':a0, 'aam':aam, 'afm':afm, 'wc':wc, 'wax':wax, 'phic':phic, 'phiax':phiax}\n"
   ]
  }
 ],
 "metadata": {
  "kernelspec": {
   "display_name": "Python 3",
   "language": "python",
   "name": "python3"
  },
  "language_info": {
   "codemirror_mode": {
    "name": "ipython",
    "version": 3
   },
   "file_extension": ".py",
   "mimetype": "text/x-python",
   "name": "python",
   "nbconvert_exporter": "python",
   "pygments_lexer": "ipython3",
   "version": "3.8.10"
  }
 },
 "nbformat": 4,
 "nbformat_minor": 5
}
