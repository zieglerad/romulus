{
 "cells": [
  {
   "cell_type": "code",
   "execution_count": 1,
   "id": "9e66214e",
   "metadata": {},
   "outputs": [],
   "source": [
    "import numpy as np\n",
    "import h5py\n",
    "import matplotlib.pyplot as plt\n",
    "import seaborn as sns\n",
    "from pathlib import Path\n",
    "\n",
    "simulation_data = Path.home()/'group'/'project'/'datasets'/'data'/'211116_grad_b_est.h5'\n",
    "\n",
    "def dumb_interpolator(array):\n",
    "    \n",
    "    interpolated_array = np.copy(array)\n",
    "    temp_array = np.copy(array)\n",
    "    \n",
    "    zeros_init = np.argwhere(array==0.)\n",
    "    #print(zeros_init)\n",
    "    \n",
    "    neighborinds = [\n",
    "        [1,1],\n",
    "        [0,1],\n",
    "        [-1,1],\n",
    "        [-1,0],\n",
    "        [-1,-1],\n",
    "        [0,-1],\n",
    "        [0,0],\n",
    "        [1,0],\n",
    "        #[2,0],\n",
    "        #[2,1],\n",
    "        #[2,2],\n",
    "        #[1,2],\n",
    "        #[0,2],\n",
    "        #[-1,2],\n",
    "        #[-2,2],\n",
    "        #[-2,1],\n",
    "        #[-2,0],\n",
    "        #[-2,-1],\n",
    "        #[-2,-2],\n",
    "        #[-1,-2],\n",
    "        #[0,-2],\n",
    "        #[1,-2],\n",
    "        #[2,-2],\n",
    "        #[2,-1]\n",
    "    ]\n",
    "    \n",
    "    n_passes = 3\n",
    "    \n",
    "    for k in range(n_passes):\n",
    "    \n",
    "        for i in range(zeros_init.shape[0]):\n",
    "            zeros = np.argwhere(array==0.)\n",
    "            neighbors = []\n",
    "            for j, inds in enumerate(neighborinds):\n",
    "                try:\n",
    "                    if array[zeros[0,0]+inds[0], zeros[0,1]+inds[1]] > 0:\n",
    "                        neighbors.append(\n",
    "                            temp_array[zeros[i,0]+inds[0], zeros[i,1]+inds[1]]\n",
    "                        )\n",
    "                except:\n",
    "                    pass\n",
    "            interpolated_array[zeros_init[i,0],zeros_init[i,1]] = np.mean(neighbors)\n",
    "            \n",
    "            temp_array = interpolated_array\n",
    "        \n",
    "    return interpolated_array\n"
   ]
  },
  {
   "cell_type": "code",
   "execution_count": 2,
   "id": "0e248fd1",
   "metadata": {},
   "outputs": [],
   "source": [
    "file = h5py.File(simulation_data, 'r')"
   ]
  },
  {
   "cell_type": "code",
   "execution_count": 3,
   "id": "349ee865",
   "metadata": {},
   "outputs": [
    {
     "name": "stdout",
     "output_type": "stream",
     "text": [
      "<KeysViewHDF5 ['data', 'meta']>\n"
     ]
    }
   ],
   "source": [
    "print(file.keys())"
   ]
  },
  {
   "cell_type": "code",
   "execution_count": 4,
   "id": "f51804db",
   "metadata": {},
   "outputs": [
    {
     "name": "stdout",
     "output_type": "stream",
     "text": [
      "84.0 90.0\n",
      "0.0 0.05\n"
     ]
    }
   ],
   "source": [
    "print(file['meta']['theta_max'][:].min(), file['meta']['theta_max'][:].max())\n",
    "print(file['meta']['x_max'][:].min(), file['meta']['x_max'][:].max())"
   ]
  },
  {
   "cell_type": "code",
   "execution_count": 5,
   "id": "a66744fb",
   "metadata": {},
   "outputs": [
    {
     "name": "stdout",
     "output_type": "stream",
     "text": [
      "(6070, 491520)\n"
     ]
    }
   ],
   "source": [
    "print(file['data'].shape)\n",
    "\n",
    "#data = file['data'][:].reshape((60,8192))[:, 0:256]"
   ]
  },
  {
   "cell_type": "code",
   "execution_count": 6,
   "id": "a04e2955",
   "metadata": {},
   "outputs": [],
   "source": [
    "pitch_angles = file['meta']['theta_max'][:]\n",
    "r_position = file['meta']['x_max'][:]\n",
    "\n",
    "r_grid, p_grid = np.meshgrid(np.sort(np.unique(r_position)), np.sort(np.unique(pitch_angles)))"
   ]
  },
  {
   "cell_type": "code",
   "execution_count": 8,
   "id": "264befe2",
   "metadata": {
    "collapsed": true
   },
   "outputs": [
    {
     "name": "stdout",
     "output_type": "stream",
     "text": [
      "100\n",
      "200\n",
      "300\n",
      "500\n",
      "600\n",
      "700\n",
      "800\n",
      "900\n",
      "1000\n",
      "1100\n",
      "1200\n",
      "1300\n",
      "1400\n",
      "1500\n",
      "1600\n",
      "1700\n",
      "1800\n",
      "1900\n",
      "2000\n",
      "2100\n",
      "2200\n",
      "2300\n",
      "2400\n",
      "2500\n",
      "2600\n",
      "2700\n",
      "2800\n",
      "2900\n",
      "3000\n",
      "3100\n",
      "3200\n",
      "3300\n",
      "3400\n",
      "3500\n",
      "3600\n",
      "3700\n",
      "3800\n",
      "3900\n",
      "4000\n",
      "4100\n",
      "4200\n",
      "4300\n",
      "4400\n",
      "4500\n",
      "4600\n",
      "4700\n",
      "4800\n",
      "4900\n",
      "5000\n",
      "5100\n",
      "5200\n",
      "5300\n",
      "5400\n",
      "5500\n",
      "5600\n",
      "5700\n",
      "5800\n",
      "5900\n",
      "6000\n",
      "6100\n"
     ]
    }
   ],
   "source": [
    "v_sum_square_grid = np.zeros(r_grid.size)\n",
    "\n",
    "for i, pair in enumerate(zip(r_grid.flatten(), p_grid.flatten())):\n",
    "    radius_match = r_position == pair[0] # where the data matches the r grid \n",
    "    pitch_match = pitch_angles == pair[1] # where the data matches the p grid\n",
    "    both_match = radius_match * pitch_match \n",
    "    \n",
    "    if both_match.sum() == 1:\n",
    "        temp_data = file['data'][np.argwhere(both_match).squeeze(), :]\n",
    "        \n",
    "        v_sum_square_grid[i] = abs(np.vdot(temp_data, temp_data))\n",
    "    else:\n",
    "        pass\n",
    "    if i%100 == 99:\n",
    "        print(i+1)\n",
    "        \n",
    "v_sum_square_grid = v_sum_square_grid.reshape((r_grid.shape))\n",
    "    "
   ]
  },
  {
   "cell_type": "code",
   "execution_count": 7,
   "id": "a9051172",
   "metadata": {},
   "outputs": [],
   "source": [
    "#np.save(\n",
    "#    Path.home()/'group'/'project'/'datasets'/'data'/'230214_grad_b_est_v_sum_square_grid',\n",
    "#    v_sum_square_grid\n",
    "#)\n",
    "\n",
    "v_sum_square_grid = np.load(\n",
    "    Path.home()/'group'/'project'/'datasets'/'data'/'230214_grad_b_est_v_sum_square_grid.npy',\n",
    ")\n"
   ]
  },
  {
   "cell_type": "code",
   "execution_count": 8,
   "id": "1cfcfb27",
   "metadata": {},
   "outputs": [
    {
     "name": "stdout",
     "output_type": "stream",
     "text": [
      "(121, 51)\n"
     ]
    }
   ],
   "source": [
    "print(v_sum_square_grid.shape)"
   ]
  },
  {
   "cell_type": "code",
   "execution_count": 9,
   "id": "7a37e0f0",
   "metadata": {},
   "outputs": [],
   "source": [
    "interp_v_sum_square_grid = dumb_interpolator(v_sum_square_grid[:, 0:50])"
   ]
  },
  {
   "cell_type": "code",
   "execution_count": 10,
   "id": "6e986022",
   "metadata": {},
   "outputs": [],
   "source": [
    "sns.set_theme(context='talk', style='ticks', font_scale=1.2)"
   ]
  },
  {
   "cell_type": "code",
   "execution_count": 16,
   "id": "1c58ed1e",
   "metadata": {},
   "outputs": [
    {
     "data": {
      "image/png": "[encoded data removed]",
      "text/plain": [
       "<Figure size 720x576 with 2 Axes>"
      ]
     },
     "metadata": {},
     "output_type": "display_data"
    }
   ],
   "source": [
    "fig = plt.figure(figsize=(10,8))\n",
    "ax = fig.add_subplot()\n",
    "\n",
    "cmap = sns.color_palette('rocket', as_cmap=True)\n",
    "\n",
    "img = ax.imshow(\n",
    "    interp_v_sum_square_grid[:, 0:50] / (8192*50*1e-15),\n",
    "    #10*np.log10((interp_v_sum_square_grid / (8192*50))/1e-15),\n",
    "    cmap=cmap,\n",
    "    aspect='auto',\n",
    "    extent=(0,49, 90,84), \n",
    "    interpolation='nearest'\n",
    ")\n",
    "\n",
    "ax.set_xticks(np.linspace(0,49,6))\n",
    "ax.set_xticklabels(np.arange(0,60,10))\n",
    "ax.set_xlabel('Radial Position (mm)')\n",
    "ax.set_ylabel('Pitch Angle (deg)')\n",
    "\n",
    "cbar = fig.colorbar(img, label='Total Signal Power (fW)')\n",
    "ax.set_title('Signal Power for Trapped Electrons')\n",
    "plt.tight_layout(pad=1.05)\n",
    "\n",
    "plt.savefig(Path.home()/'group'/'project'/'plots'/'230215_signal_power_by_pitch_and_radius_femptowatts', dpi=144)"
   ]
  },
  {
   "cell_type": "code",
   "execution_count": 17,
   "id": "880ccd32",
   "metadata": {},
   "outputs": [
    {
     "data": {
      "text/plain": [
       "0.23404021776141093"
      ]
     },
     "execution_count": 17,
     "metadata": {},
     "output_type": "execute_result"
    }
   ],
   "source": [
    "np.max(interp_v_sum_square_grid[:, 0:50] / (8192*50*1e-15))\n"
   ]
  },
  {
   "cell_type": "code",
   "execution_count": null,
   "id": "13ac26c3",
   "metadata": {},
   "outputs": [],
   "source": []
  }
 ],
 "metadata": {
  "kernelspec": {
   "display_name": "Python 3",
   "language": "python",
   "name": "python3"
  },
  "language_info": {
   "codemirror_mode": {
    "name": "ipython",
    "version": 3
   },
   "file_extension": ".py",
   "mimetype": "text/x-python",
   "name": "python",
   "nbconvert_exporter": "python",
   "pygments_lexer": "ipython3",
   "version": "3.8.10"
  }
 },
 "nbformat": 4,
 "nbformat_minor": 5
}
