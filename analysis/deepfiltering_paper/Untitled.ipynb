{
 "cells": [
  {
   "cell_type": "code",
   "execution_count": null,
   "id": "6d8fcad4",
   "metadata": {},
   "outputs": [],
   "source": [
    "import torch.nn as nn\n",
    "import torch\n",
    "import math"
   ]
  },
  {
   "cell_type": "code",
   "execution_count": null,
   "id": "e31325a9",
   "metadata": {},
   "outputs": [],
   "source": [
    "x = nn.Sequential(\n",
    "    nn.Sequential(nn.Linear(2, 10), nn.Linear(10, 10)),\n",
    "    nn.Sequential(nn.Linear(10, 20,), nn.Linear(20, 20))\n",
    ")\n"
   ]
  },
  {
   "cell_type": "code",
   "execution_count": null,
   "id": "44aeb9cd",
   "metadata": {},
   "outputs": [],
   "source": [
    "y = list(x.named_parameters())"
   ]
  },
  {
   "cell_type": "code",
   "execution_count": null,
   "id": "00338809",
   "metadata": {},
   "outputs": [],
   "source": [
    "for q in y: print(q[0])"
   ]
  },
  {
   "cell_type": "code",
   "execution_count": null,
   "id": "42894610",
   "metadata": {},
   "outputs": [],
   "source": [
    "\n",
    "var = 1.38e-23 * 50 * 10 * 60 * 205e-6 \n",
    "\n",
    "noise = torch.normal(mean=0, std = math.sqrt(var / 2), size = (20, 2, 8192))\n",
    "\n",
    "noise_complex = noise[:, 0, :] + 1j * noise[:, 1, :]\n",
    "\n",
    "noise_fft = torch.fft.fft(noise_complex, norm='forward')\n",
    "\n",
    "print(torch.mean(torch.sqrt(noise_fft * torch.conj(noise_fft))))"
   ]
  },
  {
   "cell_type": "code",
   "execution_count": null,
   "id": "ffd4b7a0",
   "metadata": {},
   "outputs": [],
   "source": [
    "var = 1.38e-23 * 50 * 10 * 60 * 205e-6 / 8192\n",
    "\n",
    "noise = torch.normal(mean=0, std = math.sqrt(var / 2), size = (20, 2, 8192))\n",
    "\n",
    "noise_complex = noise[:, 0, :] + 1j * noise[:, 1, :]\n",
    "\n",
    "print(torch.mean(torch.sqrt(noise_complex * torch.conj(noise_complex)), dim=-1))"
   ]
  },
  {
   "cell_type": "code",
   "execution_count": null,
   "id": "96b32356",
   "metadata": {},
   "outputs": [],
   "source": [
    "\n",
    "\n",
    "model = nn.Sequential(\n",
    "    nn.Conv1d(in_channels=1,out_channels=10,kernel_size=3, dtype=torch.cfloat),\n",
    "    nn.Conv1d(in_channels=10,out_channels=20,kernel_size=3,dtype=torch.cfloat),\n",
    "    nn.Conv1d(in_channels=20,out_channels=40,kernel_size=3, dtype=torch.cfloat),\n",
    ")\n",
    "\n",
    "var = 1.38e-23 * 50 * 10 * 60 * 205e-6 / 8192\n",
    "noise = torch.normal(mean=0, std = math.sqrt(var / 2), size = (20, 2, 8192))\n",
    "noise_complex = noise[:, 0, :] + 1j * noise[:, 1, :]\n",
    "noise_complex = noise_complex.unsqueeze(1)\n",
    "print(noise_complex.shape)\n",
    "\n",
    "out = model(noise_complex)\n"
   ]
  },
  {
   "cell_type": "code",
   "execution_count": null,
   "id": "b88f368d",
   "metadata": {},
   "outputs": [],
   "source": [
    "for module in model.modules():\n",
    "    if isinstance(module, nn.Conv1d):\n",
    "        print(module.weight.real)"
   ]
  },
  {
   "cell_type": "code",
   "execution_count": null,
   "id": "47749c0e",
   "metadata": {},
   "outputs": [],
   "source": [
    "torch.nn.functional.batch_norm(out)"
   ]
  },
  {
   "cell_type": "code",
   "execution_count": null,
   "id": "1e2d7712",
   "metadata": {},
   "outputs": [],
   "source": [
    "var = 1.38e-23 * 50 * 10 * 60 * 205e-6 / 8192\n",
    "noise = torch.normal(mean=0, std = math.sqrt(var / 2), size = (20, 2, 8192))\n",
    "noise_complex = noise[:, 0, :] + 1j * noise[:, 1, :]\n",
    "noise_complex = noise_complex.unsqueeze(1)\n",
    "print(noise_complex.shape)\n",
    "\n",
    "torch.nn.functional.relu(noise_complex.real) + 1j * torch.nn.functional.relu(noise_complex.imag)\n"
   ]
  },
  {
   "cell_type": "code",
   "execution_count": null,
   "id": "51ff26f6",
   "metadata": {},
   "outputs": [],
   "source": [
    "layer = nn.Conv1d(in_channels=1, out_channels=10, kernel_size=4, stride=4, padding=0, padding_mode='circular', dtype=torch.cfloat)\n",
    "\n",
    "print(noise_complex.shape)\n",
    "print(layer(noise_complex).shape)\n",
    "\n"
   ]
  },
  {
   "cell_type": "code",
   "execution_count": null,
   "id": "033372d6",
   "metadata": {},
   "outputs": [],
   "source": []
  }
 ],
 "metadata": {
  "kernelspec": {
   "display_name": "Python 3",
   "language": "python",
   "name": "python3"
  },
  "language_info": {
   "codemirror_mode": {
    "name": "ipython",
    "version": 3
   },
   "file_extension": ".py",
   "mimetype": "text/x-python",
   "name": "python",
   "nbconvert_exporter": "python",
   "pygments_lexer": "ipython3",
   "version": "3.8.10"
  }
 },
 "nbformat": 4,
 "nbformat_minor": 5
}
