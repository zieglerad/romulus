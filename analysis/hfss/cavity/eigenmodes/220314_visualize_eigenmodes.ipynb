{
 "cells": [
  {
   "cell_type": "code",
   "execution_count": null,
   "id": "1a3b9580",
   "metadata": {},
   "outputs": [],
   "source": [
    "import numpy as np\n",
    "import seaborn as sns\n",
    "import matplotlib.pyplot as plt\n",
    "import csv\n",
    "import pathlib"
   ]
  },
  {
   "cell_type": "code",
   "execution_count": null,
   "id": "34827ac3",
   "metadata": {},
   "outputs": [],
   "source": [
    "data_path = pathlib.Path.home()/'group'/'project'/'results'\\\n",
    "/'hfss'/'cavity'/'220419_cross_dipole_coupling'\n",
    "\n",
    "eigenmode_array = []\n",
    "\n",
    "for n, file in enumerate(data_path.iterdir()):\n",
    "    temp_array = []\n",
    "    print(file)\n",
    "    with open(file, 'r') as infile:\n",
    "\n",
    "        for i,line in enumerate(csv.reader(infile)):\n",
    "            if i>=7:\n",
    "\n",
    "                #print(line[0].strip().split('    '))\n",
    "                #print(line[0].strip().split('    ')[1].strip().split(' ')[0])\n",
    "                iMode = int(line[0].strip().split(' ')[0])\n",
    "                fMode = float(line[0].strip().split('    ')[1].strip().split(' ')[0])\n",
    "                qMode = float(line[0].strip().split(' ')[-1])\n",
    "                #print(iMode, fMode, qMode)\n",
    "                temp_array.append([iMode, fMode, qMode])\n",
    "\n",
    "                #for j, char in enumerate(line[0].strip()):\n",
    "                #    try:\n",
    "                #        print(float(char))\n",
    "                #    except:\n",
    "                #        pass\n",
    "                #print(\n",
    "                #    line[0].strip(), \n",
    "                #)\n",
    "    eigenmode_array.append(temp_array)\n",
    "    \n",
    "eigenmode_array = np.array(eigenmode_array)\n",
    "\n"
   ]
  },
  {
   "cell_type": "code",
   "execution_count": null,
   "id": "a0262890",
   "metadata": {},
   "outputs": [],
   "source": [
    "sns.set_theme(style='whitegrid', context='talk')\n",
    "fig = plt.figure(figsize=(13, 8))\n",
    "ax = fig.add_subplot(1,1,1)\n",
    "clist = sns.color_palette('deep')\n",
    "\n",
    "labels = [\n",
    "    'Cross-dipole Probe',\n",
    "    'No Probe',\n",
    "    \n",
    "]\n",
    "for i, n in enumerate([ 0]):\n",
    "    \n",
    "    ax.plot(eigenmode_array[n, :, 1], eigenmode_array[n, :, 2], '.', markersize=20, label=labels[n], color=clist[1])\n",
    "ax.set_yscale('log')\n",
    "#ax.set_xlim(26.1, 26.6)\n",
    "ax.legend(loc=2)\n",
    "ax.set_xlabel('Frequency (GHz)')\n",
    "ax.set_ylabel('Q')\n",
    "\n",
    "plt.tight_layout()\n",
    "plt.savefig(pathlib.Path.home()/'group'/'project'/'plots'/'hfss'/'220419_3ghz_cross_dipole_coupling_3')\n",
    "\n"
   ]
  },
  {
   "cell_type": "code",
   "execution_count": null,
   "id": "614cf170",
   "metadata": {},
   "outputs": [],
   "source": [
    "sns.set_theme(style='darkgrid', context='talk')\n",
    "fig = plt.figure(figsize=(13, 8))\n",
    "ax = fig.add_subplot(1,1,1)\n",
    "\n",
    "ax.plot(eigenmode_array[:, 1], eigenmode_array[:, 2], '.')\n",
    "ax.set_yscale('log')\n",
    "ax.set_xlim(1.005, 1.02)"
   ]
  },
  {
   "cell_type": "code",
   "execution_count": null,
   "id": "53cbf345",
   "metadata": {},
   "outputs": [],
   "source": []
  }
 ],
 "metadata": {
  "kernelspec": {
   "display_name": "Python 3",
   "language": "python",
   "name": "python3"
  },
  "language_info": {
   "codemirror_mode": {
    "name": "ipython",
    "version": 3
   },
   "file_extension": ".py",
   "mimetype": "text/x-python",
   "name": "python",
   "nbconvert_exporter": "python",
   "pygments_lexer": "ipython3",
   "version": "3.8.10"
  }
 },
 "nbformat": 4,
 "nbformat_minor": 5
}
