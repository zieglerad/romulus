{
 "cells": [
  {
   "cell_type": "code",
   "execution_count": null,
   "id": "ed3d362b",
   "metadata": {},
   "outputs": [],
   "source": [
    "import pandas as pd\n",
    "from pathlib import Path\n",
    "import os\n",
    "import matplotlib.pyplot as plt\n",
    "import seaborn as sns\n",
    "import numpy as np\n",
    "\n",
    "path = Path('/storage/home/adz6/group/project')\n",
    "result_path = path / 'results' / 'hfss' / 'cavity' / '220314_grooved_cavity_optimization'\n",
    "\n",
    "def FindTE01p(result_df, design_params, num_modes=10, TE_threshold=10000, num_TE = 2):\n",
    "    Qs = [f'Q({i+1})' for i in range(num_modes)]\n",
    "    Modes = [f're(Mode({i+1}))' for i in range(num_modes)]\n",
    "    TE01p_entries = []\n",
    "    for i in range(result_df.shape[0]):\n",
    "        raw_entry = result_df.iloc[i]\n",
    "        entry_Qs = np.array(raw_entry[Qs].array)\n",
    "        entry_Modes = np.array(raw_entry[Modes].array)\n",
    "        TE_inds = np.argwhere(entry_Qs > TE_threshold).squeeze()\n",
    "        \n",
    "        for n in range(num_TE):\n",
    "            _entry = {}\n",
    "            _entry['mode'] = f'TE01{n+1}'\n",
    "            try:\n",
    "                _entry['Q'] = entry_Qs[TE_inds[n]]\n",
    "                _entry['f'] = entry_Modes[TE_inds[n]]\n",
    "                if TE_inds[n] < num_modes -1:\n",
    "                    diff1 = abs(entry_Modes[TE_inds[n]] - entry_Modes[TE_inds[n]-1])\n",
    "                    diff2 = abs(entry_Modes[TE_inds[n]] - entry_Modes[TE_inds[n]+1])\n",
    "                    _entry['min_delta_f'] = np.min([diff1, diff2])\n",
    "                else:\n",
    "                    diff1 = abs(entry_Modes[TE_inds[n]] - entry_Modes[TE_inds[n]-1])\n",
    "                    _entry['min_delta_f'] = np.min([diff1])\n",
    "            except BaseException as err:\n",
    "                print(err)\n",
    "                _entry['Q'] = -1\n",
    "                _entry['f'] = -1\n",
    "                _entry['min_delta_f'] = -1\n",
    "                \n",
    "            for m, param in enumerate(design_params):\n",
    "                \n",
    "                if type(raw_entry[param]) == str:\n",
    "                    _entry[param] = float(raw_entry[param].split('mm')[0])\n",
    "                else:\n",
    "                    _entry[param] = raw_entry[param]\n",
    "                \n",
    "            TE01p_entries.append(_entry)\n",
    "            \n",
    "    return pd.DataFrame.from_records(TE01p_entries)\n",
    "            \n",
    "def RankTE011Variations(te01p_df, params):\n",
    "    \n",
    "    te011_df = te01p_df[te01p_df['mode']=='TE011']\n",
    "    te011_df = te011_df[te011_df['Q'] > 0]\n",
    "    \n",
    "    for param in params:\n",
    "        if param == 'min_delta_f':\n",
    "            norm_param = te011_df[param] / 1e6\n",
    "        else:\n",
    "            norm_param = te011_df[param] / te011_df[param].min()\n",
    "        #print(norm_param)\n",
    "        te011_df.insert(0, f'norm_{param}', norm_param)\n",
    "    \n",
    "    return te011_df\n",
    "        \n",
    "                \n",
    "        \n",
    "        \n",
    "    "
   ]
  },
  {
   "cell_type": "code",
   "execution_count": null,
   "id": "4fdcd3a5",
   "metadata": {},
   "outputs": [],
   "source": [
    "result_list = list(result_path.iterdir())\n",
    "for item in result_list: print(item)"
   ]
  },
  {
   "cell_type": "code",
   "execution_count": null,
   "id": "db088863",
   "metadata": {},
   "outputs": [],
   "source": [
    "df_list = []\n",
    "for item in result_list: df_list.append(pd.read_csv(item))"
   ]
  },
  {
   "cell_type": "code",
   "execution_count": null,
   "id": "15573578",
   "metadata": {},
   "outputs": [],
   "source": [
    "design_params = ['Variation', 'groove_depth_fraction', 'groove_width', 'main_cavity_wall_thickness']\n",
    "\n",
    "te01p_df_list = []\n",
    "for item in df_list: te01p_df_list.append(FindTE01p(item, design_params, num_modes=16))"
   ]
  },
  {
   "cell_type": "code",
   "execution_count": null,
   "id": "a4ce190f",
   "metadata": {},
   "outputs": [],
   "source": [
    "te01p_df_list[0]['main_cavity_wall_thickness'].unique()"
   ]
  },
  {
   "cell_type": "markdown",
   "id": "32f032bc",
   "metadata": {},
   "source": [
    "# plot Q, f, delta f as a function of design variables"
   ]
  },
  {
   "cell_type": "code",
   "execution_count": null,
   "id": "5b6edd67",
   "metadata": {},
   "outputs": [],
   "source": [
    "data_keys = ['Q', 'f', 'min_delta_f']\n",
    "\n",
    "te011_data_dict = {}\n",
    "model_labels = [15, 18]\n",
    "\n",
    "for i in range(len(te01p_df_list)):\n",
    "    \n",
    "    df = te01p_df_list[i]\n",
    "    \n",
    "    te011_data_dict[model_labels[i]] = {}\n",
    "    \n",
    "    depth_array = df['groove_depth_fraction'].unique()\n",
    "    width_array = df['groove_width'].unique()\n",
    "    \n",
    "    depth_grid, width_grid = np.meshgrid(depth_array, width_array)\n",
    "    \n",
    "    for j, thickness in enumerate(df['main_cavity_wall_thickness'].unique()):\n",
    "        \n",
    "        select_df = df[(df['mode'] == 'TE011') & (df['main_cavity_wall_thickness'] == thickness)]\n",
    "        data_array = np.zeros((3, depth_grid.size))\n",
    "        \n",
    "        for k, key in enumerate(data_keys):\n",
    "            \n",
    "            for n, pair in enumerate(zip(depth_grid.flatten(), width_grid.flatten())):\n",
    "            \n",
    "                try:\n",
    "                    value = select_df[\n",
    "                        (select_df['groove_depth_fraction'] == pair[0])\n",
    "                        & (select_df['groove_width'] == pair[1])\n",
    "                    ][key].item()\n",
    "                except:\n",
    "                    pass\n",
    "                data_array[k, n] = value\n",
    "                \n",
    "        te011_data_dict[model_labels[i]][thickness] = data_array\n",
    "            \n",
    "        \n",
    "        \n",
    "\n",
    "print(te01p_df_list[0]['groove_depth_fraction'].unique())\n",
    "print(te01p_df_list[0]['groove_width'].unique())"
   ]
  },
  {
   "cell_type": "code",
   "execution_count": null,
   "id": "7c33285a",
   "metadata": {},
   "outputs": [],
   "source": [
    "print(depth_grid, width_grid)"
   ]
  },
  {
   "cell_type": "markdown",
   "id": "a50f21ff",
   "metadata": {},
   "source": [
    "# plot images"
   ]
  },
  {
   "cell_type": "code",
   "execution_count": null,
   "id": "228efef7",
   "metadata": {},
   "outputs": [],
   "source": [
    "sns.set_theme(context='talk', style='ticks')\n",
    "cmap = sns.color_palette('mako', as_cmap=True)"
   ]
  },
  {
   "cell_type": "code",
   "execution_count": null,
   "id": "a7066b71",
   "metadata": {},
   "outputs": [],
   "source": [
    "i_parameter_plot = 0 # Q\n",
    "n_rows = 3\n",
    "\n",
    "plot_save_path = Path.home()/'group'/'project'/'plots'/\\\n",
    "'analysis'/'hfss'/'cavity'/'220314_1ghz_cavity_optim'\n",
    "plot_save_path.mkdir(parents=True, exist_ok=True)\n",
    "\n",
    "for i, model_key in enumerate(te011_data_dict):\n",
    "    \n",
    "    for j, thick_key in enumerate(te011_data_dict[model_key]):\n",
    "        fig = plt.figure(figsize=(13, 8))\n",
    "        ax = fig.add_subplot(1,1,1)\n",
    "        img = ax.imshow(\n",
    "            te011_data_dict[model_key][thick_key][i_parameter_plot, :].reshape(depth_grid.shape) * 1e-0,\n",
    "            aspect='auto',\n",
    "            extent = (0.75, 0.25, 2, 12),\n",
    "            vmin = 60000, \n",
    "            vmax = 90000,\n",
    "            cmap = cmap\n",
    "        )\n",
    "        cbar = fig.colorbar(img, label='Q')\n",
    "        \n",
    "        ax.set_xlabel('Groove Depth Fraction')\n",
    "        ax.set_ylabel('Groove Width (mm)')\n",
    "        ax.set_title(f'Wall Thickness = {thick_key} mm')\n",
    "        plt.tight_layout()\n",
    "        name = f'model{model_key}_wallthickness{int(thick_key)}_Qfactor'\n",
    "        plt.savefig(plot_save_path/name)\n",
    "        \n",
    "        plt.show()\n",
    "    \n",
    "        \n"
   ]
  },
  {
   "cell_type": "code",
   "execution_count": null,
   "id": "433f0aab",
   "metadata": {},
   "outputs": [],
   "source": [
    "i_parameter_plot = 2\n",
    "\n",
    "plot_save_path = Path.home()/'group'/'project'/'plots'/\\\n",
    "'analysis'/'hfss'/'cavity'/'220314_1ghz_cavity_optim'\n",
    "plot_save_path.mkdir(parents=True, exist_ok=True)\n",
    "\n",
    "for i, model_key in enumerate(te011_data_dict):\n",
    "    \n",
    "    \n",
    "    for j, thick_key in enumerate(te011_data_dict[model_key]):\n",
    "        fig = plt.figure(figsize=(13,8))\n",
    "        \n",
    "        ax = fig.add_subplot(1, 1,1)\n",
    "        img = ax.imshow(\n",
    "            te011_data_dict[model_key][thick_key][i_parameter_plot, :].reshape(depth_grid.shape) * 1e-6,\n",
    "            aspect='auto',\n",
    "            extent = (0.75, 0.25, 2, 12),\n",
    "            cmap = cmap,\n",
    "            vmin = 0.0, \n",
    "            vmax = 5.0,\n",
    "        )\n",
    "        cbar = fig.colorbar(img, label=r'$\\Delta f$')\n",
    "        \n",
    "        ax.set_xlabel('Groove Depth Fraction')\n",
    "        ax.set_ylabel('Groove Width (mm)')\n",
    "        ax.set_title(f'Wall Thickness = {thick_key} mm')\n",
    "        \n",
    "        plt.tight_layout()\n",
    "        name = f'model{model_key}_wallthickness{int(thick_key)}_deltaF'\n",
    "        plt.savefig(plot_save_path/name)\n",
    "        \n",
    "        plt.show()\n",
    "        \n",
    "        "
   ]
  },
  {
   "cell_type": "code",
   "execution_count": null,
   "id": "481ace15",
   "metadata": {},
   "outputs": [],
   "source": [
    "i_parameter_plot = 1\n",
    "\n",
    "for i, model_key in enumerate(te011_data_dict):\n",
    "    fig = plt.figure(figsize=(32, 6))\n",
    "    \n",
    "    for j, thick_key in enumerate(te011_data_dict[model_key]):\n",
    "        \n",
    "        ax = fig.add_subplot(1, len((te011_data_dict[model_key].keys())), j+1)\n",
    "        img = ax.imshow(\n",
    "            np.log(te011_data_dict[model_key][thick_key][i_parameter_plot, :].reshape(depth_grid.shape) * 1e-9),\n",
    "            aspect='auto',\n",
    "            extent = (0.9, 0.1, 1, 16.4)\n",
    "        )\n",
    "        cbar = fig.colorbar(img)\n",
    "        ax.set_title(f'model{model_key}_thickness{thick_key}')\n",
    "        \n",
    "    plt.show()\n",
    "        \n",
    "        "
   ]
  },
  {
   "cell_type": "code",
   "execution_count": null,
   "id": "b0d7bd76",
   "metadata": {},
   "outputs": [],
   "source": [
    "plt.imshow(\n",
    "    te011_data_dict[5][25.0][2, :].reshape(depth_grid.shape) * 1e-3, \n",
    "    aspect='auto',\n",
    ")\n",
    "plt.colorbar()"
   ]
  },
  {
   "cell_type": "code",
   "execution_count": null,
   "id": "7fce91fe",
   "metadata": {},
   "outputs": [],
   "source": [
    "score_params = ['Q', 'min_delta_f', 'groove_depth_fraction', 'main_cavity_wall_thickness']\n",
    "te011_df = RankTE011Variations(te01p_df, score_params)"
   ]
  },
  {
   "cell_type": "code",
   "execution_count": null,
   "id": "6977601d",
   "metadata": {},
   "outputs": [],
   "source": [
    "te011_df[0]"
   ]
  },
  {
   "cell_type": "code",
   "execution_count": null,
   "id": "596cae8c",
   "metadata": {},
   "outputs": [],
   "source": [
    "score = 0.25 * (\n",
    "    + (1 / te011_df['norm_main_cavity_wall_thickness']) ** 2\n",
    "    + (1 / te011_df['norm_groove_depth_fraction']) ** 2\n",
    "    + (te011_df['norm_min_delta_f']) ** 2\n",
    "    + (te011_df['norm_Q']) ** 2\n",
    ")"
   ]
  },
  {
   "cell_type": "code",
   "execution_count": null,
   "id": "2baedd6d",
   "metadata": {},
   "outputs": [],
   "source": [
    "print(score)"
   ]
  },
  {
   "cell_type": "code",
   "execution_count": null,
   "id": "69e769c7",
   "metadata": {},
   "outputs": [],
   "source": [
    "score.idxmax()"
   ]
  },
  {
   "cell_type": "code",
   "execution_count": null,
   "id": "3b4ab347",
   "metadata": {},
   "outputs": [],
   "source": [
    "te011_df.loc[score.idxmax()]"
   ]
  },
  {
   "cell_type": "code",
   "execution_count": null,
   "id": "afc71a2b",
   "metadata": {},
   "outputs": [],
   "source": []
  }
 ],
 "metadata": {
  "kernelspec": {
   "display_name": "Python 3",
   "language": "python",
   "name": "python3"
  },
  "language_info": {
   "codemirror_mode": {
    "name": "ipython",
    "version": 3
   },
   "file_extension": ".py",
   "mimetype": "text/x-python",
   "name": "python",
   "nbconvert_exporter": "python",
   "pygments_lexer": "ipython3",
   "version": "3.8.10"
  }
 },
 "nbformat": 4,
 "nbformat_minor": 5
}
