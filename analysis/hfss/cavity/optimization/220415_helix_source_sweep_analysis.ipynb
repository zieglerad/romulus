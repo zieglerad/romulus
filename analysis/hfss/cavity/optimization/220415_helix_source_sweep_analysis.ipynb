{
 "cells": [
  {
   "cell_type": "code",
   "execution_count": null,
   "id": "d451aca0",
   "metadata": {},
   "outputs": [],
   "source": [
    "import pandas as pd\n",
    "import matplotlib.pyplot as plt\n",
    "import seaborn as sns\n",
    "from pathlib import Path\n",
    "import numpy as np\n",
    "import scipy.special as special\n",
    "\n",
    "result_path = Path.home()/'group'/'project'/'results'/'hfss'/'cavity'\n",
    "file_name = '220416_3ghz_cavity_helix_sweep.csv'\n",
    "\n",
    "\n"
   ]
  },
  {
   "cell_type": "code",
   "execution_count": null,
   "id": "3d7ee48e",
   "metadata": {},
   "outputs": [],
   "source": [
    "df = pd.read_csv(result_path/file_name)"
   ]
  },
  {
   "cell_type": "code",
   "execution_count": null,
   "id": "7bacb830",
   "metadata": {},
   "outputs": [],
   "source": [
    "df"
   ]
  },
  {
   "cell_type": "code",
   "execution_count": null,
   "id": "f78e0cdd",
   "metadata": {},
   "outputs": [],
   "source": [
    "qkeys = [f'Q({i+1})' for i in range(16)]"
   ]
  },
  {
   "cell_type": "code",
   "execution_count": null,
   "id": "bd650bcd",
   "metadata": {},
   "outputs": [],
   "source": [
    "qkeys"
   ]
  },
  {
   "cell_type": "code",
   "execution_count": null,
   "id": "287b4b4c",
   "metadata": {},
   "outputs": [],
   "source": [
    "df[qkeys]"
   ]
  },
  {
   "cell_type": "code",
   "execution_count": null,
   "id": "8d6f3d52",
   "metadata": {},
   "outputs": [],
   "source": [
    "te011_q = np.zeros(df.index.size)\n",
    "te012_q = np.zeros(df.index.size)\n",
    "te013_q = np.zeros(df.index.size)\n",
    "\n",
    "tm111_q = np.zeros(df.index.size)\n",
    "tm112_q = np.zeros(df.index.size)\n",
    "tm113_q = np.zeros(df.index.size)\n",
    "r_probe = np.zeros(df.index.size, np.int32)\n",
    "\n",
    "# te011 modes\n",
    "for i in df[qkeys].index:\n",
    "    for j, q in enumerate(df[qkeys].iloc[i].array):\n",
    "        if q >= 5000:\n",
    "            r_probe[i] = int(df['r_probe'].iloc[i].split('mm')[0])\n",
    "            te011_q[i] = q\n",
    "            #print(j, q)\n",
    "            break\n",
    "            \n",
    "# te012 modes  \n",
    "for i in df[qkeys].index:\n",
    "    for j, q in enumerate(df[qkeys].iloc[i].array):\n",
    "        if q >= 10000 and j > 4:\n",
    "            #r_probe[i] = int(df['r_probe'].iloc[i].split('mm')[0])\n",
    "            te012_q[i] = q\n",
    "            #print(j, q)\n",
    "            break\n",
    "            \n",
    "# te013 modes  \n",
    "for i in df[qkeys].index:\n",
    "    for j, q in enumerate(df[qkeys].iloc[i].array):\n",
    "        if q >= 10000 and j > 8:\n",
    "            #r_probe[i] = int(df['r_probe'].iloc[i].split('mm')[0])\n",
    "            te013_q[i] = q\n",
    "            #print(j, q)\n",
    "            break\n",
    "            \n",
    "# tm111 modes\n",
    "for i in df[qkeys].index:\n",
    "    for j, q in enumerate(df[qkeys].iloc[i].array):\n",
    "        if q >= 5000:\n",
    "            #r_probe[i] = int(df['r_probe'].iloc[i].split('mm')[0])\n",
    "            tm111_q[i] = df[qkeys].iloc[i].array[j+1]\n",
    "            #print(j, q)\n",
    "            break\n",
    "            \n",
    "# tm112 modes  \n",
    "for i in df[qkeys].index:\n",
    "    for j, q in enumerate(df[qkeys].iloc[i].array):\n",
    "        if q >= 10000 and j > 4:\n",
    "            #r_probe[i] = int(df['r_probe'].iloc[i].split('mm')[0])\n",
    "            tm112_q[i] = df[qkeys].iloc[i].array[j+1]\n",
    "            #print(j, q)\n",
    "            break\n",
    "            \n",
    "# tm113 modes  \n",
    "for i in df[qkeys].index:\n",
    "    for j, q in enumerate(df[qkeys].iloc[i].array):\n",
    "        if q >= 10000 and j > 8:\n",
    "            #r_probe[i] = int(df['r_probe'].iloc[i].split('mm')[0])\n",
    "            tm113_q[i] = df[qkeys].iloc[i].array[j+1]\n",
    "            #print(j, q)\n",
    "            break\n",
    "\n",
    "te011_q = te011_q[np.argsort(r_probe)]\n",
    "te012_q = te012_q[np.argsort(r_probe)]\n",
    "te013_q = te013_q[np.argsort(r_probe)]\n",
    "\n",
    "tm111_q = tm111_q[np.argsort(r_probe)]\n",
    "tm112_q = tm112_q[np.argsort(r_probe)]\n",
    "tm113_q = tm113_q[np.argsort(r_probe)]\n",
    "\n",
    "r_probe = np.sort(r_probe)\n",
    "\n",
    "#print(te011_q, te012_q, te013_q)"
   ]
  },
  {
   "cell_type": "code",
   "execution_count": null,
   "id": "c6448ddd",
   "metadata": {},
   "outputs": [],
   "source": [
    "sns.set_theme(context='talk', style='whitegrid')\n",
    "clist = sns.color_palette('deep', 10)\n",
    "\n",
    "fig = plt.figure(figsize=(13, 8))\n",
    "ax = fig.add_subplot(1,1,1)\n",
    "\n",
    "ax.plot(r_probe, te011_q, '.', markersize=13, color=clist[1], label='TE011')\n",
    "ax.plot(r_probe, te012_q, '.', markersize=13, color=clist[2], label='TE012')\n",
    "ax.plot(r_probe, te013_q, '.', markersize=13, color=clist[3], label='TE013')\n",
    "\n",
    "ax.plot(r_probe, tm111_q, '.', markersize=13, color=clist[4], label='TM111')\n",
    "ax.plot(r_probe, tm112_q, '.', markersize=13, color=clist[5], label='TM112')\n",
    "ax.plot(r_probe, tm113_q, '.', markersize=13, color=clist[6], label='TM113')\n",
    "ax.set_xlabel('Antenna Radial Position (mm)')\n",
    "ax.set_ylabel('Q')\n",
    "ax.legend(loc=0)\n",
    "\n",
    "ax.set_title('Helix Antenna Loaded Q')\n",
    "plt.tight_layout()\n",
    "\n",
    "name = '220418_helix_antenna_modeq_sweep'\n",
    "plt.savefig(Path.home()/'group'/'project'/'plots'/'hfss'/name)"
   ]
  },
  {
   "cell_type": "code",
   "execution_count": null,
   "id": "ab354b8d",
   "metadata": {},
   "outputs": [],
   "source": [
    "sns.set_theme(context='talk', style='whitegrid')\n",
    "\n",
    "fig = plt.figure(figsize=(13, 8))\n",
    "ax = fig.add_subplot(1,1,1)\n",
    "\n",
    "ax.plot(r_probe, 1/te011_q, '.')"
   ]
  },
  {
   "cell_type": "code",
   "execution_count": null,
   "id": "ab835c92",
   "metadata": {},
   "outputs": [],
   "source": [
    "bessel = special.j1(np.linspace(-55, 55, 201) * 2 * np.pi * 3e9 / 3e11)\n",
    "bessel = bessel / bessel.max()\n",
    "\n",
    "data = 1/te011_q\n",
    "data = te011_q[29]*data\n",
    "\n",
    "sns.set_theme(context='talk', style='whitegrid')\n",
    "\n",
    "fig = plt.figure(figsize=(13, 8))\n",
    "ax = fig.add_subplot(1,1,1)\n",
    "\n",
    "ax.plot(np.linspace(-55, 55, 201), abs(bessel)**2, label=r\"$\\left|J_0^\\prime(kr)\\right|^2$\", linewidth=3)\n",
    "ax.plot(r_probe, data, '.', label=r'Norm$\\left(\\frac{1}{Q}\\right)$', markersize=13)\n",
    "\n",
    "ax.set_ylim(-0.01, 1.5)\n",
    "ax.set_xlabel('Radius (mm)')\n",
    "ax.set_ylabel('AU')\n",
    "\n",
    "ax.set_title('Normalized TE011 Helix Antenna Coupling')\n",
    "ax.legend(loc=0)\n",
    "\n",
    "plt.tight_layout()\n",
    "\n",
    "name = '220416_helix_antenna_coupling_sweep'\n",
    "\n",
    "#plt.savefig(Path.home()/'group'/'project'/'plots'/'hfss'/name)\n"
   ]
  },
  {
   "cell_type": "code",
   "execution_count": null,
   "id": "c8a2ce23",
   "metadata": {},
   "outputs": [],
   "source": [
    "bessel = special.j1(np.linspace(-55, 55, 201) * 2 * np.pi * 3e9 / 3e11)\n",
    "bessel = bessel / bessel.max()\n",
    "kernel = np.ones(70) / 70\n",
    "\n",
    "data = 1/te011_q\n",
    "data = te011_q[29]*data\n",
    "\n",
    "sns.set_theme(context='talk', style='whitegrid')\n",
    "\n",
    "fig = plt.figure(figsize=(13, 8))\n",
    "ax = fig.add_subplot(1,1,1)\n",
    "\n",
    "ax.plot(np.linspace(-55, 55, 201), np.convolve(abs(bessel)**2, kernel, mode='same'), label=r\"Convolved $\\left|J_0^\\prime(kr)\\right|^2$\", linewidth=3)\n",
    "#ax.plot(np.linspace(-55, 55, 201), abs(bessel)**2)\n",
    "ax.plot(r_probe, data, '.', label=r'Norm$\\left(\\frac{1}{Q}\\right)$', markersize=13)\n",
    "\n",
    "ax.set_ylim(-0.01, 1.5)\n",
    "ax.set_xlabel('Radius (mm)')\n",
    "ax.set_ylabel('AU')\n",
    "\n",
    "ax.set_title('Normalized TE011 Helix Antenna Coupling')\n",
    "ax.legend(loc=0)\n",
    "\n",
    "plt.tight_layout()\n",
    "\n",
    "name = '220416_helix_antenna_coupling_sweep_convolved'\n",
    "\n",
    "#plt.savefig(Path.home()/'group'/'project'/'plots'/'hfss'/name)"
   ]
  },
  {
   "cell_type": "code",
   "execution_count": null,
   "id": "1b4b01f5",
   "metadata": {},
   "outputs": [],
   "source": [
    "kernel = np.ones(20) / 20\n",
    "\n",
    "sns.set_theme(context='talk', style='whitegrid')\n",
    "\n",
    "fig = plt.figure(figsize=(13, 8))\n",
    "ax = fig.add_subplot(1,1,1)\n",
    "\n",
    "ax.plot(np.linspace(0, 61, 101), np.convolve(bessel, kernel, mode='same'), )\n",
    "ax.plot(np.linspace(0, 50, 21), data, '.')\n"
   ]
  },
  {
   "cell_type": "code",
   "execution_count": null,
   "id": "b3bc1b32",
   "metadata": {},
   "outputs": [],
   "source": [
    "kernel = np.array([1,0,0,0,0,0,0,0,0,\n",
    "                  0,0,0,0,0,0,0,0,0,1]) / 2\n",
    "\n",
    "sns.set_theme(context='talk', style='whitegrid')\n",
    "\n",
    "fig = plt.figure(figsize=(13, 8))\n",
    "ax = fig.add_subplot(1,1,1)\n",
    "\n",
    "ax.plot(np.linspace(0, 61, 101), np.convolve(bessel, kernel, mode='same'), )\n",
    "ax.plot(np.linspace(0, 50, 21), data, '.')"
   ]
  },
  {
   "cell_type": "code",
   "execution_count": null,
   "id": "2b67fdbf",
   "metadata": {},
   "outputs": [],
   "source": [
    "bessel = special.j1(np.linspace(-61, 61, 201) * 2 * np.pi * 3e9 / 3e11)\n",
    "bessel = abs(bessel / bessel.max()) **2\n",
    "\n",
    "\n",
    "fig = plt.figure(figsize=(13, 8))\n",
    "ax = fig.add_subplot(1,1,1)\n",
    "\n",
    "ax.plot(np.linspace(-61, 61, 201), bessel )\n",
    "ax.plot(np.linspace(0, 50, 21), data, '.')"
   ]
  },
  {
   "cell_type": "code",
   "execution_count": null,
   "id": "221930e2",
   "metadata": {},
   "outputs": [],
   "source": []
  }
 ],
 "metadata": {
  "kernelspec": {
   "display_name": "Python 3",
   "language": "python",
   "name": "python3"
  },
  "language_info": {
   "codemirror_mode": {
    "name": "ipython",
    "version": 3
   },
   "file_extension": ".py",
   "mimetype": "text/x-python",
   "name": "python",
   "nbconvert_exporter": "python",
   "pygments_lexer": "ipython3",
   "version": "3.8.10"
  }
 },
 "nbformat": 4,
 "nbformat_minor": 5
}
