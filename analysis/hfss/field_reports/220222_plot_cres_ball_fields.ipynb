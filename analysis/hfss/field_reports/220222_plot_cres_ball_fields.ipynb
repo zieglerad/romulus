{
 "cells": [
  {
   "cell_type": "code",
   "execution_count": null,
   "id": "b593b421",
   "metadata": {},
   "outputs": [],
   "source": [
    "import csv\n",
    "from pathlib import Path\n",
    "import os\n",
    "import pandas as pd\n",
    "import matplotlib.pyplot as plt\n",
    "import seaborn as sns\n",
    "import numpy as np\n",
    "home = Path.home()\n",
    "cres_ball_fields = home/'group'/'project'/'results'/'hfss'/'220217_cres_ball_fields'\n",
    "\n",
    "def ParseCSV(file):\n",
    "    \n",
    "    df = pd.read_csv(file)\n",
    "    #with open(file, 'r') as infile:\n",
    "    #for i, line in enumerate(csv.reader(infile)):\n",
    "    #       print(line)\n",
    "    \n",
    "    return df\n"
   ]
  },
  {
   "cell_type": "code",
   "execution_count": null,
   "id": "52391b76",
   "metadata": {},
   "outputs": [],
   "source": [
    "cres_ball_files = list(cres_ball_fields.iterdir())"
   ]
  },
  {
   "cell_type": "code",
   "execution_count": null,
   "id": "9ba7f159",
   "metadata": {},
   "outputs": [],
   "source": [
    "for i in range(len(cres_ball_files)):\n",
    "    print(cres_ball_files[i])"
   ]
  },
  {
   "cell_type": "code",
   "execution_count": null,
   "id": "2ce631d6",
   "metadata": {},
   "outputs": [],
   "source": [
    "data_list = []\n",
    "\n",
    "for i in range(len(cres_ball_files)):\n",
    "\n",
    "    frame = ParseCSV(cres_ball_files[i])\n",
    "    \n",
    "    data_list.append(frame)"
   ]
  },
  {
   "cell_type": "code",
   "execution_count": null,
   "id": "782f8b76",
   "metadata": {},
   "outputs": [],
   "source": [
    "data_list[5]"
   ]
  },
  {
   "cell_type": "markdown",
   "id": "fbc5c673",
   "metadata": {},
   "source": [
    "# plot total fields"
   ]
  },
  {
   "cell_type": "code",
   "execution_count": null,
   "id": "b4827f36",
   "metadata": {},
   "outputs": [],
   "source": [
    "sns.set_theme(context='talk')\n",
    "fig = plt.figure(figsize=(8, 8))\n",
    "ax = fig.add_subplot(1,1,1, projection='polar')\n",
    "\n",
    "plot_keys = ['rETotal [nV]', 'mag(rEPhi) [nV]', 'mag(rETheta) [pV]', 'mag(rERHCP) [pV]', 'mag(rELHCP) [pV]']\n",
    "labels = ['|E-Total|', '|E-Phi|', '|E-Theta|', '|E-RHCP|', '|E-LHCP|']\n",
    "for n, index in enumerate([3, 2, 1, 5, 4]):\n",
    "\n",
    "    phi_sweep = data_list[index]\n",
    "\n",
    "    thetas = np.array(phi_sweep.pivot(index='Phi [deg]', columns='Theta [deg]', values = plot_keys[n]).mean().index.array)\n",
    "    retotal = np.array(phi_sweep.pivot(index='Phi [deg]', columns='Theta [deg]', values = plot_keys[n]).mean().array)\n",
    "\n",
    "    #print(plot_keys[n].find('pV'))\n",
    "    if plot_keys[n].find('pV') > 0:\n",
    "        ax.plot(np.radians(thetas), retotal / 1e3, label=labels[n])\n",
    "    else:\n",
    "\n",
    "        ax.plot(np.radians(thetas), retotal, label=labels[n])\n",
    "\n",
    "ax.set_thetamin(0)\n",
    "ax.set_thetamax(180)\n",
    "ax.set_theta_zero_location('N')\n",
    "ax.set_theta_direction(-1)\n",
    "\n",
    "ax.set_rmin(0)\n",
    "ax.set_rmax(130)\n",
    "\n",
    "ax.legend(loc=(0.77,0.67))\n",
    "ax.set_title('Electric Field Components, Azimuthal Angle Average')\n",
    "#ax.set_xlabel(r'Zenith Angle (deg)', loc='center', y=100 )\n",
    "ax.text(np.radians(90), 135,'Zenith Angle (deg)')\n",
    "ax.text(np.radians(-55), 45, 'Electric Field (nV/m)', rotation='vertical')\n",
    "\n",
    "plt.tight_layout()\n",
    "name = '220504_electron_field_components_hfss_zenith.png'\n",
    "save = home/'group'/'project'/'plots'/'hfss'/'cres_ball'/name\n",
    "plt.savefig(save)\n",
    "\n",
    "######################\n",
    "\n",
    "sns.set_theme(context='talk')\n",
    "fig = plt.figure(figsize=(8, 8))\n",
    "ax = fig.add_subplot(1,1,1, projection='polar')\n",
    "for n, index in enumerate([6]):\n",
    "    \n",
    "    theta_sweep = data_list[index]\n",
    "\n",
    "    phis = np.array(theta_sweep.pivot(index='Theta [deg]', columns='Phi [deg]', values = plot_keys[n]).mean().index.array)\n",
    "    retotal = np.array(theta_sweep.pivot(index='Theta [deg]', columns='Phi [deg]', values = plot_keys[n]).mean().array)\n",
    "\n",
    "    if plot_keys[n].find('pV') > 0:\n",
    "        ax.plot(np.radians(phis), retotal / 1e3, label=labels[n])\n",
    "    else:\n",
    "        ax.plot(np.radians(phis), retotal, label=labels[n])\n",
    "\n",
    "ax.set_rmin(0)\n",
    "ax.set_rmax(135)\n",
    "ax.legend()\n",
    "ax.set_title('Total Electric Field, Zenith Angle Average')\n",
    "ax.text(np.radians(-20), 160,'Azimuthal Angle (deg)', rotation=270)\n",
    "ax.text(np.radians(50), 25, 'Electric Field (nV/m)', rotation=25)\n",
    "#ax.set_xlabel('Azimuthal Angle (deg)')\n",
    "\n",
    "plt.tight_layout()\n",
    "name = '220504_electron_field_components_hfss_azimuth.png'\n",
    "save = home/'group'/'project'/'plots'/'hfss'/'cres_ball'/name\n",
    "plt.savefig(save)"
   ]
  },
  {
   "cell_type": "code",
   "execution_count": null,
   "id": "1ef7a95f",
   "metadata": {},
   "outputs": [],
   "source": []
  },
  {
   "cell_type": "code",
   "execution_count": null,
   "id": "b48887c1",
   "metadata": {},
   "outputs": [],
   "source": []
  }
 ],
 "metadata": {
  "kernelspec": {
   "display_name": "Python 3",
   "language": "python",
   "name": "python3"
  },
  "language_info": {
   "codemirror_mode": {
    "name": "ipython",
    "version": 3
   },
   "file_extension": ".py",
   "mimetype": "text/x-python",
   "name": "python",
   "nbconvert_exporter": "python",
   "pygments_lexer": "ipython3",
   "version": "3.8.10"
  }
 },
 "nbformat": 4,
 "nbformat_minor": 5
}
