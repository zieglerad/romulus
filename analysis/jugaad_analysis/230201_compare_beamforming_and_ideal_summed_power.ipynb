{
 "cells": [
  {
   "cell_type": "code",
   "execution_count": 1,
   "id": "00d13e17",
   "metadata": {},
   "outputs": [],
   "source": [
    "from pathlib import Path\n",
    "import numpy as np\n",
    "import seaborn as sns\n",
    "import matplotlib.pyplot as plt\n",
    "\n",
    "##\n",
    "penn_state_path = Path.home()/'iCloud'/'penn_state_synca_data'/'dig'/'synca1_5slot_scan'\n",
    "penn_state_result = '230104_synca1_5slot_scan_beamforming_results.npz'\n",
    "##\n",
    "jugaad_path = Path.home()/'iCloud'/'jugaad_data'/'beamforming'/'221209_beamforming_characterization'\n",
    "jugaad_beamforming = '230105_beamforming_max_power.npy'\n",
    "jugaad_power = '230105_jugaad_total_power.npy'\n",
    "##\n",
    "cresana_path = Path.home()/'iCloud'/'jugaad_data'/'beamforming'\n",
    "cresana_beamforming = 'cresana_beamforming_amplitude.npy'\n",
    "cresana_power = 'cresana_perfect_phase_amplitude.npy'\n",
    "\n"
   ]
  },
  {
   "cell_type": "code",
   "execution_count": 2,
   "id": "659534cb",
   "metadata": {},
   "outputs": [],
   "source": [
    "penn_state_data = np.load(penn_state_path/penn_state_result)\n",
    "penn_state_beam_max = penn_state_data['max_val']\n",
    "# exclude negative axial positions\n",
    "penn_state_beam_max = penn_state_beam_max[3:, :]\n",
    "# exclude negative radial positions\n",
    "penn_state_beam_max = penn_state_beam_max[:, 2:]\n",
    "penn_state_beam_max = np.sqrt(np.flip(penn_state_beam_max.T, axis=0))\n",
    "##\n",
    "penn_state_tot_power = penn_state_data['max_val_ideal_phase']\n",
    "# exclude negative axial positions\n",
    "penn_state_tot_power = penn_state_tot_power[3:, :]\n",
    "# exclude negative radial positions\n",
    "penn_state_tot_power = penn_state_tot_power[:, 2:]\n",
    "penn_state_tot_power = np.sqrt(np.flip(penn_state_tot_power.T, axis=0))\n"
   ]
  },
  {
   "cell_type": "code",
   "execution_count": 3,
   "id": "140d17b7",
   "metadata": {},
   "outputs": [],
   "source": [
    "jugaad_beam_max = np.load(jugaad_path/jugaad_beamforming)\n",
    "#jugaad_beam_max = np.mean(jugaad_beam_max, axis=-1)\n",
    "jugaad_beam_max = jugaad_beam_max[:,:,75]\n",
    "jugaad_beam_max = np.flip(jugaad_beam_max, axis=0)"
   ]
  },
  {
   "cell_type": "code",
   "execution_count": 4,
   "id": "359b8059",
   "metadata": {},
   "outputs": [],
   "source": [
    "jugaad_tot_power = np.load(jugaad_path/jugaad_power)\n",
    "#jugaad_tot_power = np.mean(jugaad_tot_power, axis=-1)\n",
    "jugaad_tot_power = jugaad_tot_power[:,:,75]\n",
    "jugaad_tot_power = np.flip(jugaad_tot_power, axis=0)"
   ]
  },
  {
   "cell_type": "code",
   "execution_count": null,
   "id": "92e5ac4e",
   "metadata": {},
   "outputs": [],
   "source": []
  }
 ],
 "metadata": {
  "kernelspec": {
   "display_name": "Python 3 (ipykernel)",
   "language": "python",
   "name": "python3"
  },
  "language_info": {
   "codemirror_mode": {
    "name": "ipython",
    "version": 3
   },
   "file_extension": ".py",
   "mimetype": "text/x-python",
   "name": "python",
   "nbconvert_exporter": "python",
   "pygments_lexer": "ipython3",
   "version": "3.10.9"
  }
 },
 "nbformat": 4,
 "nbformat_minor": 5
}
