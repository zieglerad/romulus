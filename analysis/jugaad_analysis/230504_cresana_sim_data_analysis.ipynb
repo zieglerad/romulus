{
 "cells": [
  {
   "cell_type": "code",
   "execution_count": 15,
   "id": "bd46ce94",
   "metadata": {},
   "outputs": [],
   "source": [
    "import hercules as he\n",
    "\n",
    "from pathlib import Path\n",
    "import numpy as np\n",
    "\n",
    "datapath = Path.home()/'group'/'project'/'datasets'/'data'/'90D_sims'\n"
   ]
  },
  {
   "cell_type": "code",
   "execution_count": 5,
   "id": "6bc27e67",
   "metadata": {},
   "outputs": [],
   "source": [
    "dset = he.Dataset.load(datapath)"
   ]
  },
  {
   "cell_type": "code",
   "execution_count": 12,
   "id": "47c0eeb1",
   "metadata": {},
   "outputs": [
    {
     "name": "stdout",
     "output_type": "stream",
     "text": [
      "[0.    0.001 0.002 0.003 0.004 0.005 0.006 0.007 0.008 0.009 0.01  0.011\n",
      " 0.012 0.013 0.014 0.015 0.016 0.017 0.018 0.019 0.02  0.021 0.022 0.023\n",
      " 0.024 0.025 0.026 0.027 0.028 0.029 0.03  0.031 0.032 0.033 0.034 0.035\n",
      " 0.036 0.037 0.038 0.039 0.04  0.041 0.042 0.043 0.044 0.045] \n",
      "\n",
      "[0.] \n",
      "\n",
      "[-0.015 -0.014 -0.013 -0.012 -0.011 -0.01  -0.009 -0.008 -0.007 -0.006\n",
      " -0.005 -0.004 -0.003 -0.002 -0.001  0.     0.001  0.002  0.003  0.004\n",
      "  0.005  0.006  0.007  0.008  0.009  0.01   0.011  0.012  0.013  0.014\n",
      "  0.015  0.016  0.017  0.018  0.019  0.02   0.021  0.022  0.023  0.024\n",
      "  0.025  0.026  0.027  0.028  0.029] \n",
      "\n",
      "[18600.] \n",
      "\n",
      "[90.] \n",
      "\n"
     ]
    }
   ],
   "source": [
    "for i in [dset.r,dset.phi,dset.z,dset.energy,dset.pitch]:\n",
    "    print(i,'\\n')\n",
    "    "
   ]
  },
  {
   "cell_type": "markdown",
   "id": "e90c2ae2",
   "metadata": {},
   "source": [
    "# Extract mag and phase"
   ]
  },
  {
   "cell_type": "code",
   "execution_count": 23,
   "id": "f0389a62",
   "metadata": {},
   "outputs": [],
   "source": [
    "cresana_magphase = np.dtype([('r',np.float32), ('mag', np.float32, (60,)), ('phase', np.float32, (60,))])"
   ]
  },
  {
   "cell_type": "code",
   "execution_count": 26,
   "id": "4847b0e7",
   "metadata": {},
   "outputs": [],
   "source": [
    "radii = dset.r\n",
    "magphase_data = []\n",
    "for rad in radii:\n",
    "    params, signal = dset.get_data(\n",
    "        18600,\n",
    "        90.0,\n",
    "        rad,\n",
    "        0.,\n",
    "        0.,\n",
    "    )\n",
    "    \n",
    "    mags = abs(np.fft.fft(signal, norm='forward', axis=-1)).max(axis=-1)\n",
    "    max_ind = abs(np.fft.fft(signal, norm='forward', axis=-1)).argmax(axis=-1)\n",
    "    phases = np.diagonal(np.angle(np.fft.fft(signal, norm='forward', axis=-1)[:, max_ind]))\n",
    "    \n",
    "    magphase_data.append(np.array((rad,mags,phases),dtype=cresana_magphase))\n",
    "    \n",
    "magphase_data = np.array(magphase_data)\n"
   ]
  },
  {
   "cell_type": "code",
   "execution_count": 29,
   "id": "5dff4c4c",
   "metadata": {},
   "outputs": [],
   "source": [
    "np.save(Path.home()/'group'/'project'/'datasets'/'data'/'cresana_magphase.npy', magphase_data)"
   ]
  },
  {
   "cell_type": "code",
   "execution_count": null,
   "id": "8979eea9",
   "metadata": {},
   "outputs": [],
   "source": []
  }
 ],
 "metadata": {
  "kernelspec": {
   "display_name": "Python 3 (ipykernel)",
   "language": "python",
   "name": "python3"
  },
  "language_info": {
   "codemirror_mode": {
    "name": "ipython",
    "version": 3
   },
   "file_extension": ".py",
   "mimetype": "text/x-python",
   "name": "python",
   "nbconvert_exporter": "python",
   "pygments_lexer": "ipython3",
   "version": "3.10.9"
  }
 },
 "nbformat": 4,
 "nbformat_minor": 5
}
