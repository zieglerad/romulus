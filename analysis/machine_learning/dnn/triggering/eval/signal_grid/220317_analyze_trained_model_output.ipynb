{
 "cells": [
  {
   "cell_type": "code",
   "execution_count": null,
   "id": "e5a7c4f6",
   "metadata": {},
   "outputs": [],
   "source": [
    "import numpy as np\n",
    "import pathlib\n",
    "import matplotlib.pyplot as plt\n",
    "import seaborn as sns\n",
    "from scipy import integrate\n",
    "\n",
    "import torch"
   ]
  },
  {
   "cell_type": "code",
   "execution_count": null,
   "id": "fa0fdb03",
   "metadata": {},
   "outputs": [],
   "source": [
    "result_path = pathlib.Path.home()/'group'/'project'/'results'/'machine_learning'/'dnn'\\\n",
    "/'triggering'/'eval_outputs'/\\\n",
    "'signal_grid'/'220317_84to90_0to5cm_test_cnn_v2.npz'\n",
    "\n",
    "data = pathlib.Path.home()/'group'/'project'/'results'/'beamforming'/'time_dependent'/\\\n",
    "'beamform_signals'/'220307_0to5cm_84to90_8192_gradb_corrected.npz'\n",
    "\n",
    "\n",
    "result = np.load(result_path)"
   ]
  },
  {
   "cell_type": "code",
   "execution_count": null,
   "id": "9451b985",
   "metadata": {},
   "outputs": [],
   "source": [
    "output, target = result['output'], result['target']\n",
    "output_softmax = torch.nn.functional.softmax(torch.tensor(output), dim=1).numpy()"
   ]
  },
  {
   "cell_type": "code",
   "execution_count": null,
   "id": "f9aaa042",
   "metadata": {},
   "outputs": [],
   "source": [
    "print(output)\n",
    "print(torch.nn.functional.softmax(torch.tensor(output), dim=1).numpy())"
   ]
  },
  {
   "cell_type": "code",
   "execution_count": null,
   "id": "5e629fee",
   "metadata": {},
   "outputs": [],
   "source": [
    "target_0 = np.argwhere(target == 0).squeeze()\n",
    "target_1 = np.argwhere(target == 1).squeeze()"
   ]
  },
  {
   "cell_type": "code",
   "execution_count": null,
   "id": "de017242",
   "metadata": {},
   "outputs": [],
   "source": [
    "target1_output = output[target_1, 1].reshape((6070, 100), order='F')\n",
    "target0_output = output[target_0, 1]\n",
    "print(target1_output.shape)\n",
    "print(target0_output.shape)"
   ]
  },
  {
   "cell_type": "code",
   "execution_count": null,
   "id": "9bf32ed9",
   "metadata": {},
   "outputs": [],
   "source": [
    "sns.set_theme(context='talk', style='whitegrid')\n",
    "fig = plt.figure(figsize=(13, 8))\n",
    "ax = fig.add_subplot(1,1,1)\n",
    "\n",
    "ax.plot(target1_output.mean(axis=-1))\n",
    "#ax.set_xlim(0, 500)"
   ]
  },
  {
   "cell_type": "code",
   "execution_count": null,
   "id": "d83281bf",
   "metadata": {},
   "outputs": [],
   "source": [
    "signals, radius, pitch = np.load(data)['signals'], np.load(data)['radius'], np.load(data)['pitch']\n",
    "where_not_zero = np.argwhere(abs(signals).sum(-1)>0).squeeze()\n",
    "\n",
    "radius_not_zero = radius.flatten()[where_not_zero]\n",
    "pitch_not_zero = pitch.flatten()[where_not_zero]\n",
    "\n",
    "print(radius_not_zero.size)\n",
    "\n",
    "\n"
   ]
  },
  {
   "cell_type": "markdown",
   "id": "d9258fac",
   "metadata": {},
   "source": [
    "# compare noise histogram to histogram of specific params"
   ]
  },
  {
   "cell_type": "code",
   "execution_count": null,
   "id": "897908c9",
   "metadata": {},
   "outputs": [],
   "source": [
    "select_radius = 0.01\n",
    "select_pitch = 87.0\n",
    "ind = np.argwhere(\n",
    "    np.logical_and(radius_not_zero == select_radius, pitch_not_zero == select_pitch\n",
    "                  )).squeeze()\n"
   ]
  },
  {
   "cell_type": "code",
   "execution_count": null,
   "id": "fb31b402",
   "metadata": {},
   "outputs": [],
   "source": [
    "sns.set_theme(context='talk', style='whitegrid')\n",
    "fig = plt.figure(figsize=(13, 8))\n",
    "ax = fig.add_subplot(1,1,1)\n",
    "\n",
    "hist_noise = ax.hist(target0_output, 50, density=True)\n",
    "hist_signal = ax.hist(target1_output[ind, :], 25, density=True)"
   ]
  },
  {
   "cell_type": "code",
   "execution_count": null,
   "id": "d7c1482d",
   "metadata": {},
   "outputs": [],
   "source": [
    "sns.set_theme(context='talk', style='whitegrid')\n",
    "fig = plt.figure(figsize=(13, 8))\n",
    "ax = fig.add_subplot(1,1,1)\n",
    "\n",
    "\n",
    "hist_out1 = ax.hist(output[target_1, 0], 50, density=True)\n",
    "hist_out0 = ax.hist(output[target_0, 0], 50, density=True)\n",
    "#hist_tar = ax.hist(, 50, density=True)"
   ]
  },
  {
   "cell_type": "code",
   "execution_count": null,
   "id": "b8c7cb87",
   "metadata": {},
   "outputs": [],
   "source": []
  },
  {
   "cell_type": "code",
   "execution_count": null,
   "id": "53349d5a",
   "metadata": {},
   "outputs": [],
   "source": [
    "sns.set_theme(context='talk', style='whitegrid')\n",
    "fig = plt.figure(figsize=(13, 8))\n",
    "ax = fig.add_subplot(1,1,1)\n",
    "\n",
    "\n",
    "hist_out1 = ax.hist(output_softmax[target_1, 0], 50, density=True)\n",
    "hist_out0 = ax.hist(output_softmax[target_1, 1], 50, density=True)\n",
    "#hist_tar = ax.hist(, 50, density=True)"
   ]
  },
  {
   "cell_type": "code",
   "execution_count": null,
   "id": "344c14c2",
   "metadata": {},
   "outputs": [],
   "source": [
    "sns.set_theme(context='talk', style='whitegrid')\n",
    "fig = plt.figure(figsize=(13, 8))\n",
    "ax = fig.add_subplot(1,1,1)\n",
    "\n",
    "\n",
    "hist_out1 = ax.hist(output_softmax[target_1, 1], 50, density=True)\n",
    "hist_out0 = ax.hist(output_softmax[target_0, 1], 50, density=True)\n",
    "#hist_tar = ax.hist(, 50, density=True)"
   ]
  },
  {
   "cell_type": "code",
   "execution_count": null,
   "id": "fb26620d",
   "metadata": {},
   "outputs": [],
   "source": [
    "bins = np.linspace(0., 1.01, 2048)\n",
    "\n",
    "hist_signal = np.histogram(output_softmax[target_1, 1], bins, density=True)\n",
    "hist_noise = np.histogram(output_softmax[target_0, 1], bins, density=True)\n",
    "\n",
    "cdf_signal = np.zeros(hist_signal[0].size)\n",
    "cdf_noise = np.zeros(hist_signal[0].size)\n",
    "\n",
    "bins = bins[0:bins.size-1]\n",
    "\n",
    "for i in range(hist_signal[0].size):\n",
    "    \n",
    "    #print(hist_signal[0][0:i+1], bins[1:i+1])\n",
    "    cdf_signal[i] = integrate.trapezoid(hist_signal[0][0:i+1], bins[0:i+1], )\n",
    "    cdf_noise[i] = integrate.trapezoid(hist_noise[0][0:i+1], bins[0:i+1], )\n",
    "\n",
    "#cdf_signal = integrate.trapezoid(hist_signal[0], bins[1:], )\n",
    "\n",
    "sns.set_theme(context='talk', style='whitegrid')\n",
    "fig = plt.figure(figsize=(13, 8))\n",
    "ax = fig.add_subplot(1,1,1)\n",
    "\n",
    "ax.plot(cdf_signal)\n",
    "ax.plot(cdf_noise)"
   ]
  },
  {
   "cell_type": "code",
   "execution_count": null,
   "id": "b3c4f17a",
   "metadata": {},
   "outputs": [],
   "source": [
    "sns.set_theme(context='talk', style='whitegrid')\n",
    "fig = plt.figure(figsize=(13, 8))\n",
    "ax = fig.add_subplot(1,1,1)\n",
    "\n",
    "ax.plot(1-cdf_noise, 1-cdf_signal)\n",
    "#ax.plot(1-cdf_signal, 1-cdf_noise)\n",
    "ax.plot(np.linspace(0, 1, 10000), np.linspace(0, 1, 10000))\n",
    "ax.set_xscale('log')\n",
    "ax.set_xlim(1e-3, 1)"
   ]
  },
  {
   "cell_type": "markdown",
   "id": "1e325fe2",
   "metadata": {},
   "source": [
    "# save roc curve results"
   ]
  },
  {
   "cell_type": "code",
   "execution_count": null,
   "id": "ce83887e",
   "metadata": {},
   "outputs": [],
   "source": [
    "save_path = pathlib.Path.home()/'group'/'project'/'results'/'machine_learning'/\\\n",
    "'dnn'/'triggering'/'distributions'/'220317_dl_grid_87_100_cnn_v1_test_output_dist.npz'\n",
    "\n",
    "np.savez(save_path,\n",
    "         bins=bins,\n",
    "         noise_pdf = hist_noise[0],\n",
    "         signal_pdf = hist_signal[0],\n",
    "         noise_cdf = cdf_noise, \n",
    "         signal_cdf = cdf_signal,\n",
    "        )"
   ]
  },
  {
   "cell_type": "code",
   "execution_count": null,
   "id": "f4846576",
   "metadata": {},
   "outputs": [],
   "source": []
  }
 ],
 "metadata": {
  "kernelspec": {
   "display_name": "Python 3",
   "language": "python",
   "name": "python3"
  },
  "language_info": {
   "codemirror_mode": {
    "name": "ipython",
    "version": 3
   },
   "file_extension": ".py",
   "mimetype": "text/x-python",
   "name": "python",
   "nbconvert_exporter": "python",
   "pygments_lexer": "ipython3",
   "version": "3.8.10"
  }
 },
 "nbformat": 4,
 "nbformat_minor": 5
}
