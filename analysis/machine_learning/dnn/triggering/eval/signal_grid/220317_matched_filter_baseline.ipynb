{
 "cells": [
  {
   "cell_type": "code",
   "execution_count": null,
   "id": "867900ad",
   "metadata": {},
   "outputs": [],
   "source": [
    "import numpy as np\n",
    "from pathlib import Path\n",
    "import matplotlib.pyplot as plt\n",
    "import seaborn as sns\n",
    "from scipy import stats\n",
    "import math"
   ]
  },
  {
   "cell_type": "code",
   "execution_count": null,
   "id": "0ca56853",
   "metadata": {},
   "outputs": [],
   "source": [
    "template_path = Path.home()/'group'/'project'/'results'/'beamforming'/'time_dependent'/\\\n",
    "'beamform_signals'/'220311_dl_grid_87deg_100eV_3cm_range.npy'\n",
    "\n",
    "signal_path = Path.home()/'group'/'project'/'results'/'beamforming'/'time_dependent'/\\\n",
    "'beamform_signals'/'220315_dl_grid_87deg_100eV_3cm_range_test.npy'"
   ]
  },
  {
   "cell_type": "code",
   "execution_count": null,
   "id": "4393074d",
   "metadata": {},
   "outputs": [],
   "source": [
    "templates = np.load(template_path)\n",
    "signals = np.load(signal_path)"
   ]
  },
  {
   "cell_type": "code",
   "execution_count": null,
   "id": "6aca43de",
   "metadata": {},
   "outputs": [],
   "source": [
    "var = 10 * 50 * 60 * 200e6 * 1.38e-23\n",
    "templates = (\n",
    "    1 / np.sqrt(var * (abs(templates)**2).sum(-1))).reshape((templates.shape[0], 1)\n",
    "                                                           ) * templates"
   ]
  },
  {
   "cell_type": "code",
   "execution_count": null,
   "id": "b6fa32ab",
   "metadata": {},
   "outputs": [],
   "source": [
    "print(templates.shape, signals.shape)"
   ]
  },
  {
   "cell_type": "code",
   "execution_count": null,
   "id": "a269bdd2",
   "metadata": {},
   "outputs": [],
   "source": [
    "signal_scores = np.matmul(signals, templates.conjugate().T)"
   ]
  },
  {
   "cell_type": "code",
   "execution_count": null,
   "id": "3fd53c5c",
   "metadata": {},
   "outputs": [],
   "source": [
    "signal_scores = abs(signal_scores)"
   ]
  },
  {
   "cell_type": "code",
   "execution_count": null,
   "id": "23aecf6d",
   "metadata": {},
   "outputs": [],
   "source": [
    "sns.set_theme(context='talk', style='ticks')\n",
    "cmap = sns.color_palette('plasma', as_cmap=True)\n",
    "\n",
    "fig = plt.figure(figsize=(13, 8))\n",
    "ax = fig.add_subplot(1,1,1)\n",
    "\n",
    "img = ax.imshow(\n",
    "    signal_scores, \n",
    "    interpolation='none',\n",
    "    aspect='auto',\n",
    "    cmap=cmap\n",
    ")\n",
    "cbar = fig.colorbar(img)"
   ]
  },
  {
   "cell_type": "code",
   "execution_count": null,
   "id": "71152c03",
   "metadata": {},
   "outputs": [],
   "source": [
    "ideal_templates = (\n",
    "    1 / np.sqrt(var * (abs(signals)**2).sum(-1))).reshape((signals.shape[0], 1)\n",
    "                                                           ) * signals\n",
    "ideal_scores = abs(np.matmul(signals, ideal_templates.conjugate().T))"
   ]
  },
  {
   "cell_type": "code",
   "execution_count": null,
   "id": "a413085b",
   "metadata": {},
   "outputs": [],
   "source": [
    "sns.set_theme(context='talk', style='ticks')\n",
    "cmap = sns.color_palette('plasma', as_cmap=True)\n",
    "\n",
    "fig = plt.figure(figsize=(13, 8))\n",
    "ax = fig.add_subplot(1,1,1)\n",
    "\n",
    "img = ax.imshow(\n",
    "    ideal_scores, \n",
    "    interpolation='none',\n",
    "    aspect='auto',\n",
    "    cmap=cmap\n",
    ")\n",
    "cbar = fig.colorbar(img)"
   ]
  },
  {
   "cell_type": "code",
   "execution_count": null,
   "id": "144df985",
   "metadata": {},
   "outputs": [],
   "source": [
    "ideal_scores_diag = np.diag(ideal_scores)"
   ]
  },
  {
   "cell_type": "code",
   "execution_count": null,
   "id": "083e1a45",
   "metadata": {},
   "outputs": [],
   "source": [
    "best_scores = np.max(signal_scores, axis=-1)"
   ]
  },
  {
   "cell_type": "code",
   "execution_count": null,
   "id": "7c0c535d",
   "metadata": {},
   "outputs": [],
   "source": [
    "sns.set_theme(context='talk', style='whitegrid')\n",
    "fig = plt.figure(figsize=(13, 8))\n",
    "ax = fig.add_subplot(1,1,1)\n",
    "\n",
    "\n",
    "#hist_out1 = ax.hist(output[target_1, 1], 50, density=True)\n",
    "hist_out0 = ax.hist(ideal_scores_diag, 50, density=True)\n",
    "hist_out1 = ax.hist(best_scores, 50, density=True)\n",
    "#hist_tar = ax.hist(, 50, density=True)"
   ]
  },
  {
   "cell_type": "code",
   "execution_count": null,
   "id": "6ace6fa3",
   "metadata": {},
   "outputs": [],
   "source": [
    "sns.set_theme(context='talk', style='whitegrid')\n",
    "fig = plt.figure(figsize=(13, 8))\n",
    "ax = fig.add_subplot(1,1,1)\n",
    "\n",
    "ax.plot(ideal_scores_diag, best_scores, '.')"
   ]
  },
  {
   "cell_type": "code",
   "execution_count": null,
   "id": "1ea28b9b",
   "metadata": {},
   "outputs": [],
   "source": [
    "x = np.linspace(0, 12, 201)\n",
    "\n",
    "noise_pdf = stats.rayleigh.pdf(x, loc=0, scale=(1/math.sqrt(2)))\n",
    "\n",
    "\n",
    "match = 0.25\n",
    "\n",
    "signal_pdf = stats.rice.pdf(\n",
    "    x.reshape((1, x.size)),\n",
    "    match * best_scores.flatten().reshape(best_scores.size, 1),\n",
    "    loc = match * best_scores.flatten().reshape(best_scores.size, 1) * (1 - 1 / math.sqrt(2)),\n",
    "    scale=1/math.sqrt(2)\n",
    ")"
   ]
  },
  {
   "cell_type": "code",
   "execution_count": null,
   "id": "b11f755a",
   "metadata": {},
   "outputs": [],
   "source": [
    "x = np.linspace(0, 12, 201)\n",
    "\n",
    "noise_sf = stats.rayleigh.sf(x, loc=0, scale=(1/math.sqrt(2)))\n",
    "\n",
    "\n",
    "match = 0.25\n",
    "\n",
    "signal_sf = stats.rice.sf(\n",
    "    x.reshape((1, x.size)),\n",
    "    match * best_scores.flatten().reshape(best_scores.size, 1),\n",
    "    loc = match * best_scores.flatten().reshape(best_scores.size, 1) * (1 - 1 / math.sqrt(2)),\n",
    "    scale=1/math.sqrt(2)\n",
    ")"
   ]
  },
  {
   "cell_type": "code",
   "execution_count": null,
   "id": "3c108c8a",
   "metadata": {},
   "outputs": [],
   "source": [
    "print(signal_sf.shape, signal_pdf.shape)"
   ]
  },
  {
   "cell_type": "code",
   "execution_count": null,
   "id": "bdc3be33",
   "metadata": {},
   "outputs": [],
   "source": [
    "sns.set_theme(context='talk', style='whitegrid')\n",
    "fig = plt.figure(figsize=(13, 8))\n",
    "ax = fig.add_subplot(1,1,1)\n",
    "\n",
    "ax.plot(x, signal_pdf.mean(axis=0))\n",
    "ax.plot(x, noise_pdf)"
   ]
  },
  {
   "cell_type": "code",
   "execution_count": null,
   "id": "76dab411",
   "metadata": {},
   "outputs": [],
   "source": [
    "sns.set_theme(context='talk', style='whitegrid')\n",
    "fig = plt.figure(figsize=(13, 8))\n",
    "ax = fig.add_subplot(1,1,1)\n",
    "\n",
    "ax.plot(noise_sf, signal_sf.mean(axis=0))\n",
    "y = np.linspace(0, 1, 10000)\n",
    "ax.plot(y, y)\n",
    "ax.set_xscale('log')\n",
    "ax.set_xlim(1e-3, 1)"
   ]
  },
  {
   "cell_type": "markdown",
   "id": "501a4eaa",
   "metadata": {},
   "source": [
    "# find mean match for different numbers of templates"
   ]
  },
  {
   "cell_type": "code",
   "execution_count": null,
   "id": "0e15dfa2",
   "metadata": {},
   "outputs": [],
   "source": [
    "\n",
    "match = []\n",
    "number_templates = []\n",
    "\n",
    "for n in range(signal_scores.shape[-1]//2):\n",
    "\n",
    "    selection_inds = np.arange(0, signal_scores.shape[-1], n+1)\n",
    "    \n",
    "    select_scores = signal_scores[:, selection_inds]\n",
    "    \n",
    "    select_best_scores = np.max(select_scores, axis=-1)\n",
    "    \n",
    "    match.append(np.mean(select_best_scores/ideal_scores_diag))\n",
    "    number_templates.append(selection_inds.size)\n",
    "    \n",
    "    if n % 2000 == 1999:\n",
    "        print(n+1, ' ', 1+signal_scores.shape[-1]//2)"
   ]
  },
  {
   "cell_type": "code",
   "execution_count": null,
   "id": "71ade8e6",
   "metadata": {},
   "outputs": [],
   "source": [
    "sns.set_theme(context='talk', style='whitegrid')\n",
    "fig = plt.figure(figsize=(13, 8))\n",
    "ax = fig.add_subplot(1,1,1)\n",
    "\n",
    "ax.plot(number_templates, match, '.')\n",
    "#ax.set_xlim(100, 1000)\n",
    "ax.set_xscale('log')"
   ]
  },
  {
   "cell_type": "markdown",
   "id": "1f8a1d89",
   "metadata": {},
   "source": [
    "# compare"
   ]
  },
  {
   "cell_type": "code",
   "execution_count": null,
   "id": "f6dadd48",
   "metadata": {},
   "outputs": [],
   "source": [
    "dnn_result_path = Path.home()/'group'/'project'/'results'/'machine_learning'/\\\n",
    "'dnn'/'triggering'/'distributions'/'220317_dl_grid_87_100_cnn_v1_test_output_dist.npz'\n",
    "dnn_dist = np.load(dnn_result_path)"
   ]
  },
  {
   "cell_type": "code",
   "execution_count": null,
   "id": "7c3a6b27",
   "metadata": {},
   "outputs": [],
   "source": [
    "sns.set_theme(context='talk', style='whitegrid')\n",
    "fig = plt.figure(figsize=(13, 8))\n",
    "ax = fig.add_subplot(1,1,1)\n",
    "\n",
    "ax.plot(noise_sf, signal_sf.mean(axis=0))\n",
    "ax.plot(1-dnn_dist['noise_cdf'], 1-dnn_dist['signal_cdf'])\n",
    "y = np.linspace(0, 1, 10000)\n",
    "ax.plot(y, y)\n",
    "ax.set_xscale('log')\n",
    "ax.set_xlim(1e-3, 1)"
   ]
  },
  {
   "cell_type": "code",
   "execution_count": null,
   "id": "9ced8c5e",
   "metadata": {},
   "outputs": [],
   "source": []
  }
 ],
 "metadata": {
  "kernelspec": {
   "display_name": "Python 3",
   "language": "python",
   "name": "python3"
  },
  "language_info": {
   "codemirror_mode": {
    "name": "ipython",
    "version": 3
   },
   "file_extension": ".py",
   "mimetype": "text/x-python",
   "name": "python",
   "nbconvert_exporter": "python",
   "pygments_lexer": "ipython3",
   "version": "3.8.10"
  }
 },
 "nbformat": 4,
 "nbformat_minor": 5
}
