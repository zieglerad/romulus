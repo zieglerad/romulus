{
 "cells": [
  {
   "cell_type": "code",
   "execution_count": null,
   "id": "1526eeec",
   "metadata": {},
   "outputs": [],
   "source": [
    "import torch\n",
    "from pathlib import Path\n",
    "import numpy as np\n",
    "import matplotlib.pyplot as plt\n",
    "import seaborn as sns\n",
    "import math\n",
    "from scipy import integrate\n",
    "from scipy import stats\n",
    "\n",
    "home = Path.home()\n",
    "results = home/'group'/'project'/'results'\n",
    "snr_sweep = np.linspace(1, 10, 19)\n"
   ]
  },
  {
   "cell_type": "markdown",
   "id": "22a58cf4",
   "metadata": {},
   "source": [
    "# plot pdf vs snr for matched filter"
   ]
  },
  {
   "cell_type": "code",
   "execution_count": null,
   "id": "2144090f",
   "metadata": {},
   "outputs": [],
   "source": [
    "sns.set_theme()\n",
    "fig = plt.figure(figsize=(13, 8))\n",
    "ax = fig.add_subplot(1,1,1)\n",
    "\n",
    "x_pdf = np.linspace(0, 20, 1001)\n",
    "\n",
    "for snr in [1.0, 2.0, 3.0, 5.0, 10.0]:\n",
    "    \n",
    "    mf_pdf = stats.rice.pdf(\n",
    "        x_pdf,\n",
    "        snr,\n",
    "        loc=snr * (1 - 1 / math.sqrt(2)),\n",
    "        scale=1/math.sqrt(2)\n",
    "    )\n",
    "    \n",
    "    ax.plot(x_pdf, mf_pdf)\n",
    "    \n",
    "ax.plot(x_pdf, stats.rayleigh.pdf(x_pdf, loc=0, scale=1/math.sqrt(2)))"
   ]
  },
  {
   "cell_type": "markdown",
   "id": "17a862f5",
   "metadata": {},
   "source": [
    "# Load dnn results"
   ]
  },
  {
   "cell_type": "code",
   "execution_count": null,
   "id": "cca09c88",
   "metadata": {},
   "outputs": [],
   "source": [
    "dnn_results = results/'machine_learning'/'dnn'/'triggering'/'eval_outputs'/'toy_sinusoid'/'220223_snr_sweep'/'220224_cnn_pdf_and_cdf_vs_snr.npz'\n",
    "dnn_results = np.load(dnn_results)"
   ]
  },
  {
   "cell_type": "markdown",
   "id": "8a93c8ee",
   "metadata": {},
   "source": [
    "# compare efficiency vs snr for select tpr"
   ]
  },
  {
   "cell_type": "code",
   "execution_count": null,
   "id": "c393846c",
   "metadata": {},
   "outputs": [],
   "source": [
    "# matched filter\n",
    "select_fpr = 1e-2\n",
    "ind_fpr = np.argmin(abs(stats.rayleigh.sf(x_pdf, loc=0, scale=1/math.sqrt(2)) - select_fpr))\n",
    "\n",
    "mf_efficiency = np.zeros(dnn_results['snr'].size)\n",
    "dnn_efficiency = np.zeros(dnn_results['snr'].size)\n",
    "\n",
    "for i, snr in enumerate(dnn_results['snr']):\n",
    "    \n",
    "    sf = stats.rice.sf(\n",
    "        x_pdf,\n",
    "        snr,\n",
    "        loc=snr * (1 - 1 / math.sqrt(2)),\n",
    "        scale=1/math.sqrt(2)\n",
    "    )\n",
    "    \n",
    "    mf_efficiency[i] = sf[ind_fpr]\n",
    "    \n",
    "# dnn\n",
    "\n",
    "for i, snr in enumerate(dnn_results['snr']):\n",
    "    ind_fpr = np.argmin(abs(1 - dnn_results['cdf_noise'][i, :] - select_fpr))\n",
    "    dnn_efficiency[i] = 1- dnn_results['cdf_signal'][i, ind_fpr]\n"
   ]
  },
  {
   "cell_type": "code",
   "execution_count": null,
   "id": "0cb87ef0",
   "metadata": {},
   "outputs": [],
   "source": [
    "sns.set_theme()\n",
    "fig = plt.figure(figsize=(13, 8))\n",
    "ax = fig.add_subplot(1,1,1)\n",
    "\n",
    "ax.plot(dnn_results['snr'], mf_efficiency)\n",
    "ax.plot(dnn_results['snr'], dnn_efficiency)"
   ]
  },
  {
   "cell_type": "code",
   "execution_count": null,
   "id": "36e8562f",
   "metadata": {},
   "outputs": [],
   "source": [
    "sns.set_theme(context='talk')\n",
    "fig = plt.figure(figsize=(13, 8))\n",
    "ax = fig.add_subplot(1,1,1)\n",
    "\n",
    "clist = sns.color_palette('deep', n_colors=4)\n",
    "fpr_list = [1e-1, 1e-2, 1e-3, 1e-4]\n",
    "\n",
    "for n, select_fpr in enumerate(fpr_list):\n",
    "    \n",
    "    ind_fpr = np.argmin(abs(stats.rayleigh.sf(x_pdf, loc=0, scale=1/math.sqrt(2)) - select_fpr))\n",
    "\n",
    "    mf_efficiency = np.zeros(dnn_results['snr'].size)\n",
    "    dnn_efficiency = np.zeros(dnn_results['snr'].size)\n",
    "\n",
    "    for i, snr in enumerate(dnn_results['snr']):\n",
    "\n",
    "        sf = stats.rice.sf(\n",
    "            x_pdf,\n",
    "            snr,\n",
    "            loc=snr * (1 - 1 / math.sqrt(2)),\n",
    "            scale=1/math.sqrt(2)\n",
    "        )\n",
    "\n",
    "        mf_efficiency[i] = sf[ind_fpr]\n",
    "\n",
    "    for i, snr in enumerate(dnn_results['snr']):\n",
    "        ind_fpr = np.argmin(abs(1 - dnn_results['cdf_noise'][i, :] - select_fpr))\n",
    "        dnn_efficiency[i] = 1- dnn_results['cdf_signal'][i, ind_fpr]\n",
    "        \n",
    "        \n",
    "    ax.plot(dnn_results['snr'], mf_efficiency, color=clist[n], linestyle='-', label=f'MF, FPR = {select_fpr}')\n",
    "    ax.plot(dnn_results['snr'], dnn_efficiency, color=clist[n], linestyle='--', label=f'DNN, FPR = {select_fpr}')\n",
    "\n",
    "line_mf, = ax.plot([], [], linestyle='-', color='k', label='MF')\n",
    "line_dnn, = ax.plot([], [], linestyle='--', color='k', label='DNN')\n",
    "line_color_list = []\n",
    "for i, color in enumerate(clist):\n",
    "    line, = ax.plot([], [], linestyle='-', color=color, label=f'FPR={fpr_list[i]}')\n",
    "    line_color_list.append(line)\n",
    "    \n",
    "ax.legend(handles=[line_mf, line_dnn, *line_color_list], loc=4)\n",
    "ax.set_xlabel('Signal SNR')\n",
    "ax.set_ylabel('Efficiency')\n",
    "ax.set_title('Efficiency vs Signal SNR')\n",
    "\n",
    "plt.tight_layout()\n",
    "name = '220224_dnn_vs_mf_efficiency_test_signal_snr.png'\n",
    "save_path = Path.home()/'group'/'project'/'plots'/'machine_learning'/'dnn'/'triggering'/'toy_sinusoid'/name\n",
    "plt.savefig(save_path)\n",
    "\n",
    "    "
   ]
  },
  {
   "cell_type": "code",
   "execution_count": null,
   "id": "ad9a9448",
   "metadata": {},
   "outputs": [],
   "source": []
  }
 ],
 "metadata": {
  "kernelspec": {
   "display_name": "Python 3",
   "language": "python",
   "name": "python3"
  },
  "language_info": {
   "codemirror_mode": {
    "name": "ipython",
    "version": 3
   },
   "file_extension": ".py",
   "mimetype": "text/x-python",
   "name": "python",
   "nbconvert_exporter": "python",
   "pygments_lexer": "ipython3",
   "version": "3.8.10"
  }
 },
 "nbformat": 4,
 "nbformat_minor": 5
}
