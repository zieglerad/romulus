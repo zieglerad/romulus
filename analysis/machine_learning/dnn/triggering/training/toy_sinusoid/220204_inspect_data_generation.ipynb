{
 "cells": [
  {
   "cell_type": "code",
   "execution_count": null,
   "id": "ce425277",
   "metadata": {},
   "outputs": [],
   "source": [
    "import torch\n",
    "import matplotlib.pyplot as plt\n",
    "import math\n",
    "import numpy\n",
    "import seaborn as sns\n",
    "import numpy as np\n",
    "from pathlib import Path\n",
    "\n",
    "config = {\n",
    "    'freq':2e6, # 0 to 100 MHz\n",
    "    'snr': 1, # mf snr\n",
    "    'samples': 8192,\n",
    "    'sample_freq': 200e6,\n",
    "    'number_signals': 1,\n",
    "    'number_noise': 1,\n",
    "    'number_channel': 2, # real, imag.\n",
    "\n",
    "}\n",
    "\n",
    "def GenerateSinusoid(config):\n",
    "\n",
    "    t = torch.arange(0, config['samples'], 1) * 1 / config['sample_freq']\n",
    "\n",
    "    signal = 1 * torch.exp(1j * 2 * math.pi * t * config['freq'])\n",
    "\n",
    "    return signal\n",
    "\n",
    "def CalculateNoiseVar(signal, config):\n",
    "\n",
    "    var = (torch.vdot(signal, signal) / (config['snr'] ** 2)) / config['samples']\n",
    "\n",
    "    return var\n",
    "\n",
    "def GenerateDataTensor(signal, config):\n",
    "\n",
    "    shape = (\n",
    "        config['number_signals'] + config['number_noise'],\n",
    "        config['number_channel'],\n",
    "        config['samples']\n",
    "        )\n",
    "\n",
    "    data = torch.zeros(shape, dtype=torch.float)\n",
    "\n",
    "    data[0:config['number_signals'], 0, :] = signal.real\n",
    "    data[0:config['number_signals'], 1, :] = signal.imag\n",
    "\n",
    "    return data\n",
    "\n",
    "def AddNoise(data, config):\n",
    "\n",
    "    shape = (\n",
    "            config['number_signals'] + config['number_noise'],\n",
    "            config['number_channel'],\n",
    "            config['samples']\n",
    "            )\n",
    "    \n",
    "    noise = torch.normal(\n",
    "        mean = 0,\n",
    "        std = math.sqrt(CalculateNoiseVar(signal, config) / 2),\n",
    "        size = shape\n",
    "        )\n",
    "\n",
    "    return data + noise\n",
    "\n",
    "def GenNoise(config):\n",
    "\n",
    "    shape = (\n",
    "            config['number_signals'] + config['number_noise'],\n",
    "            config['number_channel'],\n",
    "            config['samples']\n",
    "            )\n",
    "    \n",
    "    noise = torch.normal(\n",
    "        mean = 0,\n",
    "        std = math.sqrt(CalculateNoiseVar(signal, config) / 2),\n",
    "        size = shape\n",
    "        )\n",
    "\n",
    "    return noise\n",
    "\n",
    "def FFT(signal):\n",
    "    \n",
    "    return torch.fft.fft(signal, norm='forward')\n"
   ]
  },
  {
   "cell_type": "code",
   "execution_count": null,
   "id": "0a0038d2",
   "metadata": {},
   "outputs": [],
   "source": [
    "signal = GenerateSinusoid(config)\n",
    "fft_signal = FFT(signal)\n",
    "\n",
    "data = GenerateDataTensor(signal, config)\n",
    "fft_data = GenerateDataTensor(fft_signal, config)\n",
    "\n",
    "noisy_data = AddNoise(data, config)\n",
    "noisy_fft = AddNoise(fft_data, config)\n",
    "\n",
    "time = np.arange(0, 8192, 1) / 200e6"
   ]
  },
  {
   "cell_type": "code",
   "execution_count": null,
   "id": "b931e836",
   "metadata": {},
   "outputs": [],
   "source": [
    "print(data.shape)"
   ]
  },
  {
   "cell_type": "code",
   "execution_count": null,
   "id": "45e078ec",
   "metadata": {},
   "outputs": [],
   "source": [
    "plt.plot(signal.real)\n",
    "plt.xlim(0, 200)"
   ]
  },
  {
   "cell_type": "code",
   "execution_count": null,
   "id": "631f3b85",
   "metadata": {},
   "outputs": [],
   "source": [
    "plt.plot(abs(fft_signal))\n",
    "#plt.xlim(0, 200)"
   ]
  },
  {
   "cell_type": "code",
   "execution_count": null,
   "id": "159ef7fe",
   "metadata": {},
   "outputs": [],
   "source": [
    "sns.set_theme(context='talk')\n",
    "fig = plt.figure(figsize=(13, 8))\n",
    "ax = fig.add_subplot(1,1,1)\n",
    "\n",
    "ax.plot(time, noisy_data[0, 0, :], label='Noise')\n",
    "ax.plot(time, signal.real, label='Signal')\n",
    "ax.set_xlabel('Time (sec)')\n",
    "ax.set_ylabel('Amplitude (AU)')\n",
    "ax.set_title(f'Test Signal, SNR = {config[\"snr\"]}')\n",
    "ax.legend(loc=1)\n",
    "\n",
    "plt.tight_layout()\n",
    "\n",
    "name = f'220224_test_signal_snr{config[\"snr\"]}.png'\n",
    "save_path = Path.home()/'group'/'project'/'plots'/'machine_learning'/'dnn'/'triggering'/'toy_sinusoid'/name\n",
    "\n",
    "plt.savefig(save_path)"
   ]
  },
  {
   "cell_type": "code",
   "execution_count": null,
   "id": "021bfb13",
   "metadata": {},
   "outputs": [],
   "source": [
    "plt.plot(noisy_data[0, 0, :])\n",
    "plt.plot(signal.real)\n",
    "#plt.ylim(-2, 2)\n",
    "#plt.xlim(0, 256)"
   ]
  },
  {
   "cell_type": "code",
   "execution_count": null,
   "id": "bbe4a8bb",
   "metadata": {},
   "outputs": [],
   "source": [
    "plt.plot(abs(torch.fft.fft(noisy_data[0, 0, :] + 1j * noisy_data[0, 1, :])) ** 2)\n",
    "#plt.plot(abs(torch.fft.fft(data[0, 0, :] + 1j * data[0, 1, :], norm='forward')) ** 2)"
   ]
  },
  {
   "cell_type": "code",
   "execution_count": null,
   "id": "0e757598",
   "metadata": {},
   "outputs": [],
   "source": [
    "plt.plot(abs(torch.fft.fft(data[0, 0, :] + 1j * data[0, 1, :], norm='forward')) ** 2)"
   ]
  },
  {
   "cell_type": "code",
   "execution_count": null,
   "id": "4d2a9ef5",
   "metadata": {},
   "outputs": [],
   "source": [
    "plt.plot(abs(noisy_fft[0, 0, :]) ** 2)\n",
    "plt.plot(abs(fft_signal.real + 1j * fft_signal.imag) ** 2)\n",
    "plt.xlim(0, 100)"
   ]
  },
  {
   "cell_type": "code",
   "execution_count": null,
   "id": "53533f80",
   "metadata": {},
   "outputs": [],
   "source": [
    "noise_tensor = GenNoise(config)\n",
    "noise_tensor = noise_tensor[0, 0, :] + 1j * noise_tensor[0, 1, :]"
   ]
  },
  {
   "cell_type": "code",
   "execution_count": null,
   "id": "1bdfebf3",
   "metadata": {},
   "outputs": [],
   "source": [
    "plt.plot(abs(torch.fft.fft(noise_tensor, norm='forward')) ** 2)\n",
    "plt.plot(abs(torch.fft.fft(data[0, 0, :] + 1j * data[0, 1, :], norm='forward')) ** 2)\n",
    "#plt.xlim(0, 100)"
   ]
  },
  {
   "cell_type": "code",
   "execution_count": null,
   "id": "718863a4",
   "metadata": {},
   "outputs": [],
   "source": []
  },
  {
   "cell_type": "code",
   "execution_count": null,
   "id": "9ed83a61",
   "metadata": {},
   "outputs": [],
   "source": []
  }
 ],
 "metadata": {
  "kernelspec": {
   "display_name": "Python 3",
   "language": "python",
   "name": "python3"
  },
  "language_info": {
   "codemirror_mode": {
    "name": "ipython",
    "version": 3
   },
   "file_extension": ".py",
   "mimetype": "text/x-python",
   "name": "python",
   "nbconvert_exporter": "python",
   "pygments_lexer": "ipython3",
   "version": "3.8.10"
  }
 },
 "nbformat": 4,
 "nbformat_minor": 5
}
