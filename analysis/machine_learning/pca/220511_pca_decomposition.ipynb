{
 "cells": [
  {
   "cell_type": "code",
   "execution_count": null,
   "id": "3031dc0d",
   "metadata": {},
   "outputs": [],
   "source": [
    "import numpy as np\n",
    "from pathlib import Path\n",
    "import h5py\n",
    "import matplotlib.pyplot as plt\n",
    "import seaborn as sns\n",
    "import pandas as pd\n",
    "\n",
    "path2signals = Path.home()/'group'/'project'/'results'/'beamforming'/'time_dependent'/'beamform_signals'\n",
    "file = '220505_dl_grid_84to90deg_1to45mm.h5'\n",
    "\n",
    "h5file = h5py.File(path2signals/file, 'r')\n"
   ]
  },
  {
   "cell_type": "code",
   "execution_count": null,
   "id": "ecef663b",
   "metadata": {},
   "outputs": [],
   "source": [
    "metadata = {\n",
    "    'energy':h5file['energy'][:],\n",
    "    'pitch':h5file['pitch'][:],\n",
    "    'radius':h5file['radius'][:]\n",
    "}\n",
    "\n",
    "metadata = pd.DataFrame(metadata)"
   ]
  },
  {
   "cell_type": "markdown",
   "id": "2472e194",
   "metadata": {},
   "source": [
    "# select subregion"
   ]
  },
  {
   "cell_type": "code",
   "execution_count": null,
   "id": "31aad4fa",
   "metadata": {},
   "outputs": [],
   "source": [
    "pitch_min = 87.0\n",
    "pitch_max = 88.0\n",
    "radius_min = 0.001\n",
    "radius_max = 0.003\n",
    "energy = 18550\n",
    "n_sample = 8192\n",
    "\n",
    "inds = metadata[\n",
    "    (metadata['pitch']>=pitch_min)&(metadata['pitch']<=pitch_max)\n",
    "    & (metadata['radius']>=radius_min)&(metadata['radius']<=radius_max)\n",
    "    & (metadata['energy']==energy)\n",
    "].index.array\n",
    "#print(inds)\n",
    "\n",
    "\n",
    "\n",
    "select_signals = h5file['x'][np.array(inds), 0:n_sample]"
   ]
  },
  {
   "cell_type": "code",
   "execution_count": null,
   "id": "92da115d",
   "metadata": {},
   "outputs": [],
   "source": [
    "matrix = np.matmul(select_signals.conjugate().T, select_signals)"
   ]
  },
  {
   "cell_type": "code",
   "execution_count": null,
   "id": "89cc6557",
   "metadata": {},
   "outputs": [],
   "source": [
    "sns.set_theme(context='poster', style='ticks')\n",
    "cmap = sns.color_palette('plasma', as_cmap=True)\n",
    "\n",
    "fig = plt.figure(figsize=(10, 10))\n",
    "ax = fig.add_subplot(1,1,1)\n",
    "\n",
    "ax.imshow(\n",
    "    abs(matrix),\n",
    "    cmap=cmap,\n",
    "    interpolation='none'\n",
    ")"
   ]
  },
  {
   "cell_type": "code",
   "execution_count": null,
   "id": "c2450234",
   "metadata": {},
   "outputs": [],
   "source": [
    "evals, evecs = np.linalg.eig(matrix)"
   ]
  },
  {
   "cell_type": "code",
   "execution_count": null,
   "id": "60d156ae",
   "metadata": {},
   "outputs": [],
   "source": []
  },
  {
   "cell_type": "code",
   "execution_count": null,
   "id": "6ae56997",
   "metadata": {},
   "outputs": [],
   "source": [
    "sns.set_theme(context='poster', style='whitegrid', palette='bright')\n",
    "\n",
    "fig = plt.figure(figsize=(13, 8))\n",
    "ax = fig.add_subplot(1,1,1)\n",
    "ax.plot(abs(np.fft.fft(evecs[:, 0])))"
   ]
  },
  {
   "cell_type": "code",
   "execution_count": null,
   "id": "b7cde0d6",
   "metadata": {},
   "outputs": [],
   "source": []
  }
 ],
 "metadata": {
  "kernelspec": {
   "display_name": "Python 3",
   "language": "python",
   "name": "python3"
  },
  "language_info": {
   "codemirror_mode": {
    "name": "ipython",
    "version": 3
   },
   "file_extension": ".py",
   "mimetype": "text/x-python",
   "name": "python",
   "nbconvert_exporter": "python",
   "pygments_lexer": "ipython3",
   "version": "3.8.10"
  }
 },
 "nbformat": 4,
 "nbformat_minor": 5
}
