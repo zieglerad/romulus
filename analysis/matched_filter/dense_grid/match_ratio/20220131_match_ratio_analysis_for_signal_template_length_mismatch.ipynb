{
 "cells": [
  {
   "cell_type": "code",
   "execution_count": null,
   "id": "a24e6d0a",
   "metadata": {},
   "outputs": [],
   "source": [
    "import numpy as np\n",
    "import matplotlib\n",
    "import matplotlib.pyplot as plt\n",
    "import seaborn as sns\n",
    "import pandas as pd\n",
    "import h5py\n",
    "import os\n",
    "\n",
    "sns.set_theme('poster')\n",
    "\n",
    "def GetTemplateFiles(config):\n",
    "    template_path = '/storage/home/adz6/group/project/datasets/data/dense_template_grid'\n",
    "    \n",
    "    radii, angles = np.meshgrid(config['r'], config['pa'])\n",
    "    \n",
    "    template_list = []\n",
    "    for i, param_grp in enumerate(zip(radii.flatten(), angles.flatten())):\n",
    "        for j, template_file in enumerate(os.listdir(template_path)):\n",
    "            #scores_name = score_path.split('/')[-1]\n",
    "\n",
    "            angle = template_file.split('grid_')[-1].split('_')[0]\n",
    "            rad = template_file.split('cm.h5')[0].split('_')[-1]\n",
    "            \n",
    "            if (param_grp[0] == int(rad)) and (param_grp[1] == float(angle)):\n",
    "                #print(template_file)\n",
    "                template_list.append(os.path.join(template_path, template_file))\n",
    "\n",
    "    return template_list\n",
    "\n",
    "config = {\n",
    "    'r': [1,],\n",
    "    'pa': [86.0,87.0, 88.0],\n",
    "}"
   ]
  },
  {
   "cell_type": "code",
   "execution_count": null,
   "id": "ef134c44",
   "metadata": {},
   "outputs": [],
   "source": [
    "\n",
    "template_file_paths = GetTemplateFiles(config)"
   ]
  },
  {
   "cell_type": "code",
   "execution_count": null,
   "id": "5fdf66e9",
   "metadata": {},
   "outputs": [],
   "source": [
    "template_file_paths"
   ]
  },
  {
   "cell_type": "code",
   "execution_count": null,
   "id": "c445a2cb",
   "metadata": {},
   "outputs": [],
   "source": [
    "templates = h5py.File(template_file_paths[2], 'r')"
   ]
  },
  {
   "cell_type": "code",
   "execution_count": null,
   "id": "4aa830af",
   "metadata": {},
   "outputs": [],
   "source": [
    "templates['data'].shape"
   ]
  },
  {
   "cell_type": "markdown",
   "id": "d75f4e42",
   "metadata": {},
   "source": [
    "# select a random template signal, reshape"
   ]
  },
  {
   "cell_type": "code",
   "execution_count": null,
   "id": "9f0e73aa",
   "metadata": {},
   "outputs": [],
   "source": [
    "rng = np.random.default_rng()\n",
    "rand_int = rng.integers(0, templates['data'].shape[0], 1)\n",
    "\n",
    "template = templates['data'][rand_int, :]\n",
    "\n",
    "template = template.reshape(60, template.shape[-1] // 60)\n",
    "\n",
    "signal = np.copy(template)"
   ]
  },
  {
   "cell_type": "markdown",
   "id": "30dc47b1",
   "metadata": {},
   "source": [
    "# select a template length and normalize template"
   ]
  },
  {
   "cell_type": "code",
   "execution_count": null,
   "id": "68ef1952",
   "metadata": {},
   "outputs": [],
   "source": [
    "var = 1.38e-23 * 10 * 50 * 200e6 \n",
    "length = 8192 * 1\n",
    "\n",
    "norm = 1 / np.sqrt(var * np.vdot(template[:, 0:length].flatten(), template[:, 0:length].flatten()))\n",
    "template = norm * template[:, 0:length]"
   ]
  },
  {
   "cell_type": "markdown",
   "id": "b7b4ea38",
   "metadata": {},
   "source": [
    "# for a range of signal lengths, calculate the score/match ratio\n"
   ]
  },
  {
   "cell_type": "code",
   "execution_count": null,
   "id": "77c3da9c",
   "metadata": {},
   "outputs": [],
   "source": [
    "signal_lengths = np.int32(np.logspace(5, 14.5, 51, base=2))"
   ]
  },
  {
   "cell_type": "code",
   "execution_count": null,
   "id": "28f5a890",
   "metadata": {},
   "outputs": [],
   "source": [
    "signal_lengths"
   ]
  },
  {
   "cell_type": "markdown",
   "id": "0484b4b9",
   "metadata": {},
   "source": [
    "# if we assume that the start conditions are the same but the signal ends at a different time than the template"
   ]
  },
  {
   "cell_type": "code",
   "execution_count": null,
   "id": "4bfcabfb",
   "metadata": {},
   "outputs": [],
   "source": [
    "score_array = []\n",
    "ideal_score_array = []\n",
    "\n",
    "for i, sig_length in enumerate(signal_lengths):\n",
    "    \n",
    "    signal_array = np.zeros(template.shape, dtype=np.complex64)\n",
    "    \n",
    "    if sig_length <= length:\n",
    "    \n",
    "        signal_array[:, 0:sig_length] = signal[:, 0:sig_length]\n",
    "        \n",
    "    else:\n",
    "        signal_array[:, :] = signal[:, 0:length]\n",
    "    \n",
    "    score = abs(signal_array.conjugate() * template).sum()\n",
    "    \n",
    "    score_array.append(score)\n",
    "    \n",
    "    norm = abs( 1 / np.sqrt(var * np.vdot(signal[:, 0:sig_length].flatten(), signal[:, 0:sig_length].flatten())))\n",
    "    \n",
    "    ideal_score = norm * abs(signal[:, 0:sig_length].conjugate() * signal[:, 0:sig_length]).sum()\n",
    "    \n",
    "    ideal_score_array.append(ideal_score)\n",
    "    \n",
    "score_array = np.array(score_array)\n",
    "ideal_score_array = np.array(ideal_score_array)"
   ]
  },
  {
   "cell_type": "code",
   "execution_count": null,
   "id": "c85e9fad",
   "metadata": {},
   "outputs": [],
   "source": [
    "fig = plt.figure(figsize=(13, 8))\n",
    "ax = fig.add_subplot(1,1,1)\n",
    "colors = sns.color_palette('deep', 10)\n",
    "\n",
    "ax.plot(signal_lengths, score_array, '-', label = 'Score with Fixed Template Length')\n",
    "ax.plot(signal_lengths, ideal_score_array, '-', label='Ideal Score')\n",
    "\n",
    "ax.legend(loc=4)\n",
    "ax.set_title(f'MF Score for Fixed Template Length = {length}')\n",
    "ax.set_ylabel('Score')\n",
    "ax.set_xlabel('Signal Length (Samples))')"
   ]
  },
  {
   "cell_type": "code",
   "execution_count": null,
   "id": "27e418f9",
   "metadata": {},
   "outputs": [],
   "source": [
    "#signal_lengths = np.int32(np.logspace(5, 14, 51, base=2))\n",
    "\n",
    "x1 = np.linspace(1, length, 101)\n",
    "x2 = np.linspace(length, 3 * 8192, 101)\n",
    "\n",
    "fig = plt.figure(figsize=(13, 8))\n",
    "ax = fig.add_subplot(1,1,1)\n",
    "\n",
    "ax.plot(signal_lengths, score_array / ideal_score_array, '.')\n",
    "ax.plot(x1, np.sqrt(x1 / length), )\n",
    "ax.plot(x2,  np.sqrt(length / x2 ))\n",
    "\n",
    "ax.set_title(f'Match for Fixed Template Size = {length} Samples')\n",
    "ax.set_ylabel('Match')\n",
    "ax.set_xlabel('Signal Length (Samples)')"
   ]
  },
  {
   "cell_type": "markdown",
   "id": "8cbb79fd",
   "metadata": {},
   "source": [
    "# now assume that the signal starts during the template"
   ]
  },
  {
   "cell_type": "code",
   "execution_count": null,
   "id": "7a3b8c16",
   "metadata": {},
   "outputs": [],
   "source": [
    "start_time_diff = np.int32(np.linspace(0, length / 2, 201))"
   ]
  },
  {
   "cell_type": "code",
   "execution_count": null,
   "id": "02af20fd",
   "metadata": {},
   "outputs": [],
   "source": [
    "template = templates['data'][rand_int, :]\n",
    "\n",
    "template = template.reshape(60, template.shape[-1] // 60)\n",
    "\n",
    "signal = np.copy(template)\n",
    "\n",
    "var = 1.38e-23 * 10 * 50 * 200e6 \n",
    "#length = 2 * 8192\n",
    "\n",
    "norm = 1 / np.sqrt(var * np.vdot(template[:, 0:length].flatten(), template[:, 0:length].flatten()))\n",
    "template = norm * template[:, 0:length]"
   ]
  },
  {
   "cell_type": "code",
   "execution_count": null,
   "id": "a8d80299",
   "metadata": {},
   "outputs": [],
   "source": [
    "score_array_time = []\n",
    "ideal_score_array = []\n",
    "\n",
    "for i, diff in enumerate(start_time_diff):\n",
    "    \n",
    "    signal_array = np.zeros(template.shape, dtype=np.complex64)\n",
    "    \n",
    "    if diff >= 0:\n",
    "        signal_array[:, diff:] = signal[:, 0:length-diff]\n",
    "\n",
    "    score = abs(signal_array.conjugate() * template).sum()\n",
    "    \n",
    "    score_array_time.append(score)\n",
    "    \n",
    "    norm = abs( 1 / np.sqrt(var * np.vdot(signal[:, 0:length-diff].flatten(), signal[:, 0:length-diff].flatten())))\n",
    "    \n",
    "    ideal_score = norm * abs(signal[:, 0:length-diff].conjugate() * signal[:, 0:length-diff]).sum()\n",
    "    \n",
    "    ideal_score_array.append(ideal_score)\n",
    "    \n",
    "score_array_time = np.array(score_array_time)\n",
    "ideal_score_array = np.array(ideal_score_array)"
   ]
  },
  {
   "cell_type": "code",
   "execution_count": null,
   "id": "1f0a3379",
   "metadata": {},
   "outputs": [],
   "source": [
    "fig = plt.figure(figsize=(13, 8))\n",
    "ax = fig.add_subplot(1,1,1)\n",
    "sns.set_theme(style='ticks', context='poster')\n",
    "colors = sns.color_palette('deep', 10)\n",
    "\n",
    "ax.plot(start_time_diff, score_array_time, '-', label = 'Score with Start Time Mismatch')\n",
    "ax.plot(start_time_diff, ideal_score_array, '-', label = 'Score with Identical Start Time')\n",
    "\n",
    "ax.set_xlabel('Start Time Offset (Samples)')\n",
    "ax.set_ylabel('Score')\n",
    "ax.legend(loc=1)"
   ]
  },
  {
   "cell_type": "markdown",
   "id": "f11e2471",
   "metadata": {},
   "source": [
    "# the signal starts during the template but we multiply the fft"
   ]
  },
  {
   "cell_type": "code",
   "execution_count": null,
   "id": "e9c280b6",
   "metadata": {},
   "outputs": [],
   "source": [
    "templates = h5py.File(template_file_paths[2], 'r')\n",
    "\n",
    "rand_int = rng.integers(0, templates['data'].shape[0], 1)\n",
    "template = templates['data'][rand_int, :]\n",
    "var = 1.38e-23 * 10 * 50 * 200e6  / length\n",
    "#length = 8192\n",
    "\n",
    "template = template.reshape(60, template.shape[-1] // 60)[:, 0:length]\n",
    "signal = np.copy(template)\n",
    "\n",
    "template = np.fft.fft(template, axis = -1) / (length)\n"
   ]
  },
  {
   "cell_type": "code",
   "execution_count": null,
   "id": "1b4ba90c",
   "metadata": {},
   "outputs": [],
   "source": [
    "#var = 1.38e-23 * 10 * 50 * 200e6  / 8192\n",
    "#length = 8192\n",
    "\n",
    "norm = 1 / np.sqrt(var * np.vdot(template.flatten(), template.flatten()))\n",
    "template = norm * template"
   ]
  },
  {
   "cell_type": "code",
   "execution_count": null,
   "id": "1bdd4963",
   "metadata": {},
   "outputs": [],
   "source": [
    "score_array = []\n",
    "ideal_score_array = []\n",
    "\n",
    "for i, diff in enumerate(start_time_diff):\n",
    "    \n",
    "    signal_array = np.zeros(template.shape, dtype=np.complex64)\n",
    "    \n",
    "    signal_array[:, diff:] = signal[:, 0:length-diff]\n",
    "    \n",
    "    signal_array = np.fft.fft(np.exp(-1j * np.pi/2) * signal_array, axis=-1) / length\n",
    "\n",
    "    score = abs(signal_array.conjugate() * template).sum()\n",
    "    \n",
    "    score_array.append(score)\n",
    "    \n",
    "    norm = abs( 1 / np.sqrt(length * var * np.vdot(signal[:, 0:length-diff].flatten(), signal[:, 0:length-diff].flatten())))\n",
    "    \n",
    "    ideal_score = norm * abs(signal[:, 0:length-diff].conjugate() * signal[:, 0:length-diff]).sum()\n",
    "    \n",
    "    ideal_score_array.append(ideal_score)\n",
    "    \n",
    "score_array = np.array(score_array)\n",
    "ideal_score_array = np.array(ideal_score_array)"
   ]
  },
  {
   "cell_type": "code",
   "execution_count": null,
   "id": "93020fe2",
   "metadata": {},
   "outputs": [],
   "source": [
    "fig = plt.figure(figsize=(13, 8))\n",
    "ax = fig.add_subplot(1,1,1)\n",
    "colors = sns.color_palette('deep', 10)\n",
    "\n",
    "ax.plot(start_time_diff, score_array, '-', label = f'Score with Start Time Mismatch, Freq.')\n",
    "ax.plot(start_time_diff, score_array_time, '-', label = f'Score with Start Time Mismatch, Time')\n",
    "ax.plot(start_time_diff, ideal_score_array, '-', label = f'Score with Identical Start Time')\n",
    "\n",
    "ax.set_xlabel(r'Start Time Offset, $\\Delta N$ (Samples)')\n",
    "ax.set_ylabel('Score')\n",
    "\n",
    "\n",
    "#ax.plot(start_time_diff, ideal_score_array[0] * ((length - start_time_diff ) / length) ** (1/2), label=r'$\\left(\\frac{N_T-\\Delta N}{N_T}\\right)^{\\frac{1}{2}}$')\n",
    "#arb_power = (2 / 3)\n",
    "#ax.plot(start_time_diff, ideal_score_array[0] * ((length - start_time_diff ) / length) ** (arb_power), label=r'$\\left(\\frac{N_T-\\Delta N}{N_T}\\right)^{\\frac{2}{3}}$')\n",
    "\n",
    "ax.legend(loc=(0.3, 1.01))"
   ]
  },
  {
   "cell_type": "code",
   "execution_count": null,
   "id": "10ae0d48",
   "metadata": {},
   "outputs": [],
   "source": [
    "fig = plt.figure(figsize=(13, 8))\n",
    "ax = fig.add_subplot(1,1,1)\n",
    "colors = sns.color_palette('deep', 10)\n",
    "\n",
    "#ax.plot(start_time_diff, score_array, '.')\n",
    "ax.plot(start_time_diff, score_array / ideal_score_array, '.', label='Match')\n",
    "\n",
    "\n",
    "ax.set_xlabel(r'Start Time Offset, $\\Delta N$ (Samples)')\n",
    "ax.set_ylabel('Match')\n",
    "\n",
    "\n",
    "arb_power1 = (1 / 6.5)\n",
    "arb_power2 = (1 / 6)\n",
    "arb_power3 = (1 / 3)\n",
    "\n",
    "x = start_time_diff\n",
    "y = 1 * ((length - start_time_diff ) / length) ** (arb_power1)\n",
    "#y = 0.333 * ((8192 - start_time_diff ) / 8192) ** (arb_power1) + 0.333 * ((8192 - start_time_diff ) / 8192) ** (arb_power2) + 0.333 * ((8192 - start_time_diff ) / 8192) ** (arb_power3)\n",
    "ax.plot(x, y, label=r'$\\left(\\frac{N_T-\\Delta N}{N_T}\\right)^{\\frac{1}{6.5}}$')\n",
    "ax.legend(loc=3)"
   ]
  },
  {
   "cell_type": "code",
   "execution_count": null,
   "id": "48426083",
   "metadata": {},
   "outputs": [],
   "source": [
    "fig = plt.figure(figsize=(13, 8))\n",
    "ax = fig.add_subplot(1,1,1)\n",
    "colors = sns.color_palette('deep', 10)\n",
    "\n",
    "#ax.plot(start_time_diff, score_array, '.')\n",
    "ax.plot(start_time_diff, score_array / ideal_score_array, '.', label='Match')\n",
    "\n",
    "\n",
    "ax.set_xlabel(r'Start Time Offset, $\\Delta N$ (Samples)')\n",
    "ax.set_ylabel('Match')\n",
    "\n",
    "\n",
    "arb_slope = (- 0.2 / length )\n",
    "arb_power2 = (1 / 6)\n",
    "arb_power3 = (1 / 3)\n",
    "\n",
    "x = start_time_diff \n",
    "y = 1 + arb_slope * x\n",
    "#y = 0.333 * ((8192 - start_time_diff ) / 8192) ** (arb_power1) + 0.333 * ((8192 - start_time_diff ) / 8192) ** (arb_power2) + 0.333 * ((8192 - start_time_diff ) / 8192) ** (arb_power3)\n",
    "ax.plot(x, y, label=r'$\\frac{-\\Delta N}{5\\times N_T}$')\n",
    "ax.legend(loc=3)"
   ]
  },
  {
   "cell_type": "markdown",
   "id": "b9866bb2",
   "metadata": {},
   "source": [
    "# vary both the signal start time and the lengths of the signals"
   ]
  },
  {
   "cell_type": "code",
   "execution_count": null,
   "id": "e92f0423",
   "metadata": {},
   "outputs": [],
   "source": [
    "ngrid = 51\n",
    "\n",
    "start_time_diff = np.int32(np.linspace(-8191, 8191, ngrid))\n",
    "signal_lengths = np.int32(np.linspace(1, 2 * 8192, ngrid))\n",
    "\n",
    "#start_time_diff = [-100, 0, 100]\n",
    "#signal_lengths = [10, 20, 50]\n",
    "\n",
    "score_array = np.zeros((ngrid, ngrid))\n",
    "ideal_score_array = np.zeros((ngrid, ngrid))\n",
    "\n",
    "var = 1.38e-23 * 10 * 50 * 200e6  / 8192\n",
    "length = 8192\n",
    "\n",
    "for i, diff in enumerate(start_time_diff):\n",
    "    \n",
    "    for j, sig_length in enumerate(signal_lengths):\n",
    "        \n",
    "        template = templates['data'][rand_int, :]\n",
    "        \n",
    "        # define signal and template\n",
    "        signal = template.reshape(60, template.shape[-1] // 60)\n",
    "        template = template.reshape(60, template.shape[-1] // 60)[:, 0:length]\n",
    "\n",
    "        # fft and normalize template\n",
    "        template = np.fft.fft(template, axis = -1) / (length)\n",
    "        norm = 1 / np.sqrt(var * np.vdot(template.flatten(), template.flatten()))\n",
    "        template = norm * template\n",
    "        \n",
    "        signal_array = np.zeros(template.shape, dtype=np.complex64)\n",
    "        \n",
    "        if diff >= 0:\n",
    "    \n",
    "            # the signal starts after the template starts\n",
    "            signal_array[:, diff:] = signal[:, 0:length-diff]\n",
    "            \n",
    "            # the signal ends before the template ends\n",
    "            if sig_length < (length-diff):\n",
    "                signal_array[:, sig_length + diff:] = 0\n",
    "\n",
    "        elif diff < 0:\n",
    "            \n",
    "            # the signal starts before the template starts\n",
    "            signal_array[:, :] = signal[:, -diff:length-diff]\n",
    "            \n",
    "            # the signal ends before the template starts\n",
    "            if sig_length < -diff:\n",
    "                signal_array[:, :] = 0\n",
    "            elif sig_length < (length-diff): # the signal ends sometime during the template\n",
    "                signal_array[:, sig_length + diff:] = 0\n",
    "                \n",
    "                \n",
    "        #plt.figure()\n",
    "        #plt.plot(signal_array.real[0, :])\n",
    "        \n",
    "        #plt.xlim(0, 400)\n",
    "        #plt.title(f'{diff}_{sig_length}')\n",
    "        #plt.show()\n",
    "        \n",
    "\n",
    "        signal_array = np.fft.fft(signal_array, axis=-1) / length\n",
    "        \n",
    "        score = abs(signal_array.conjugate() * template).sum()\n",
    "    \n",
    "        score_array[i, j] = score\n",
    "        \n",
    "        if score == 0:\n",
    "            ideal_score_array[i, j] = 0\n",
    "        else:\n",
    "            norm = abs( 1 / np.sqrt(var * np.vdot(signal_array.flatten(), signal_array.flatten())))\n",
    "            ideal_score = norm * abs(signal_array.flatten().conjugate() * signal_array.flatten()).sum()\n",
    "            ideal_score_array[i, j] = ideal_score\n",
    "            \n",
    "            "
   ]
  },
  {
   "cell_type": "code",
   "execution_count": null,
   "id": "b9148bc4",
   "metadata": {},
   "outputs": [],
   "source": [
    "sns.set_theme(style='ticks')\n",
    "fig = plt.figure(figsize=(13, 8))\n",
    "ax = fig.add_subplot(1,1,1)\n",
    "cmap = sns.color_palette('mako_r', as_cmap=True)\n",
    "\n",
    "img = ax.imshow(\n",
    "    score_array, \n",
    "    cmap=cmap, \n",
    "    aspect='auto', \n",
    "    extent = (signal_lengths[0], signal_lengths[-1], start_time_diff[-1], start_time_diff[0]),\n",
    ")\n",
    "cbar = fig.colorbar(img, label='Score')\n",
    "ax.set_xlabel('Signal Length (Samples)')\n",
    "ax.set_ylabel('Signal Start Relative to Template (Samples)')\n"
   ]
  },
  {
   "cell_type": "code",
   "execution_count": null,
   "id": "9e85fa44",
   "metadata": {},
   "outputs": [],
   "source": [
    "sns.set_theme(style='ticks')\n",
    "fig = plt.figure(figsize=(13, 8))\n",
    "ax = fig.add_subplot(1,1,1)\n",
    "cmap = sns.color_palette('mako_r', as_cmap=True)\n",
    "\n",
    "img = ax.imshow(\n",
    "    ideal_score_array, \n",
    "    cmap=cmap, \n",
    "    aspect='auto', \n",
    "    extent = (signal_lengths[0], signal_lengths[-1], start_time_diff[-1], start_time_diff[0]),\n",
    ")\n",
    "cbar = fig.colorbar(img, label='Score')\n",
    "ax.set_xlabel('Signal Length (Samples)')\n",
    "ax.set_ylabel('Signal Start Relative to Template (Samples)')\n"
   ]
  },
  {
   "cell_type": "code",
   "execution_count": null,
   "id": "3aeae2be",
   "metadata": {},
   "outputs": [],
   "source": [
    "sns.set_theme(style='ticks')\n",
    "fig = plt.figure(figsize=(13, 8))\n",
    "ax = fig.add_subplot(1,1,1)\n",
    "cmap = sns.color_palette('mako_r', as_cmap=True)\n",
    "\n",
    "match = score_array / ideal_score_array\n",
    "match_isnan = np.isnan(match)\n",
    "match[match_isnan] = 0\n",
    "\n",
    "img = ax.imshow(\n",
    "    match, \n",
    "    cmap=cmap, \n",
    "    aspect='auto', \n",
    "    extent = (signal_lengths[0], signal_lengths[-1], start_time_diff[-1], start_time_diff[0]),\n",
    ")\n",
    "cbar = fig.colorbar(img, label='Match')\n",
    "ax.set_xlabel('Signal Length (Samples)')\n",
    "ax.set_ylabel('Signal Start Relative to Template (Samples)')"
   ]
  },
  {
   "cell_type": "code",
   "execution_count": null,
   "id": "475361c5",
   "metadata": {},
   "outputs": [],
   "source": []
  }
 ],
 "metadata": {
  "kernelspec": {
   "display_name": "Python 3",
   "language": "python",
   "name": "python3"
  },
  "language_info": {
   "codemirror_mode": {
    "name": "ipython",
    "version": 3
   },
   "file_extension": ".py",
   "mimetype": "text/x-python",
   "name": "python",
   "nbconvert_exporter": "python",
   "pygments_lexer": "ipython3",
   "version": "3.8.10"
  }
 },
 "nbformat": 4,
 "nbformat_minor": 5
}
