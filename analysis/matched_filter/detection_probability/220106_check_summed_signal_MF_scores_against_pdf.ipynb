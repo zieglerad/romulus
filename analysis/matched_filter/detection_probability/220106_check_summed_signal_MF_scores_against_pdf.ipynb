{
 "cells": [
  {
   "cell_type": "code",
   "execution_count": null,
   "id": "6a4c4d1b",
   "metadata": {},
   "outputs": [],
   "source": [
    "import numpy as np\n",
    "import matplotlib.pyplot as plt\n",
    "import seaborn as sns\n",
    "import pandas as pd\n",
    "import torch\n",
    "import h5py\n",
    "import os\n",
    "import sys\n",
    "import scipy\n",
    "import damselfly as df\n",
    "import mayfly as mf\n",
    "import scipy.signal\n",
    "import scipy.stats\n",
    "import scipy.interpolate\n",
    "\n",
    "PATH = '/storage/home/adz6/group/project'\n",
    "RESULTPATH = os.path.join(PATH, 'results/damselfly')\n",
    "PLOTPATH = os.path.join(PATH, 'plots/damselfly')\n",
    "DATAPATH = os.path.join(PATH, 'datasets/data')\n",
    "#SIMDATAPATH = os.path.join(PATH, 'damselfly/data/sim_data')\n",
    "\n",
    "\"\"\"\n",
    "Date: 6/25/2021\n",
    "Description: template\n",
    "\"\"\"\n",
    "\n",
    "\n",
    "    \n"
   ]
  },
  {
   "cell_type": "code",
   "execution_count": null,
   "id": "281c2e1f",
   "metadata": {},
   "outputs": [],
   "source": []
  },
  {
   "cell_type": "code",
   "execution_count": null,
   "id": "7b5f17fa",
   "metadata": {},
   "outputs": [],
   "source": [
    "os.listdir(os.path.join(DATAPATH, 'bf'))"
   ]
  },
  {
   "cell_type": "code",
   "execution_count": null,
   "id": "1b88492c",
   "metadata": {},
   "outputs": [],
   "source": [
    "os.listdir(os.path.join(PATH, 'datasets', 'kass'))"
   ]
  },
  {
   "cell_type": "markdown",
   "id": "f23fdf81",
   "metadata": {},
   "source": [
    "# load data"
   ]
  },
  {
   "cell_type": "code",
   "execution_count": null,
   "id": "28868572",
   "metadata": {},
   "outputs": [],
   "source": [
    "# signal data\n",
    "data = mf.data.MFDataset(os.path.join(DATAPATH, 'bf', '211203_84_25_2cm_sum.h5'))\n",
    "metadata = pd.DataFrame(data.metadata)\n",
    "\n",
    "# kass data\n",
    "h5kass_data = h5py.File(os.path.join(PATH, 'datasets', 'kass', '211116_grad_b_est_kass.h5'), 'r')\n",
    "\n",
    "kass_data = h5kass_data['kass']\n",
    "kass_metadata = {}\n",
    "for i, key in enumerate(h5kass_data['meta'].keys()):\n",
    "    kass_metadata[key] = h5kass_data['meta'][key][:]\n",
    "    \n",
    "kass_metadata = pd.DataFrame.from_dict(kass_metadata)"
   ]
  },
  {
   "cell_type": "markdown",
   "id": "50ad80cc",
   "metadata": {},
   "source": [
    "# compute MF scores"
   ]
  },
  {
   "cell_type": "code",
   "execution_count": null,
   "id": "c5244790",
   "metadata": {},
   "outputs": [],
   "source": [
    "slicesize = 8192\n",
    "\n",
    "data_slice = data.data[:, 0:slicesize]\n",
    "\n"
   ]
  },
  {
   "cell_type": "code",
   "execution_count": null,
   "id": "4ccf3dcf",
   "metadata": {},
   "outputs": [],
   "source": [
    "var = 1.38e-23 * 3 * 50 * 60 * 200e6\n",
    "\n",
    "templates = data_slice * 1 / np.sqrt(var * (abs(data_slice) ** 2).sum(axis=-1) ).reshape(data_slice.shape[0],1)\n",
    "\n",
    "scores = abs(np.sum(data_slice * templates.conjugate(), axis=-1))\n",
    "print(scores.mean())"
   ]
  },
  {
   "cell_type": "markdown",
   "id": "ec3b467a",
   "metadata": {},
   "source": [
    "# plot example mf score pdf's"
   ]
  },
  {
   "cell_type": "code",
   "execution_count": null,
   "id": "87e150e1",
   "metadata": {},
   "outputs": [],
   "source": [
    "signal = data_slice[10000, :]\n",
    "template = templates[10000, :]\n",
    "\n",
    "sample_scores = np.zeros(10000)\n",
    "for i in range(10000):\n",
    "\n",
    "    noise = np.random.multivariate_normal([0, 0], np.eye(2) * var / 2, signal.size)\n",
    "    noise = noise[:, 0] + 1j * noise[:, 0]\n",
    "    \n",
    "    score = abs(np.vdot(template, noise))\n",
    "    sample_scores[i] = score"
   ]
  },
  {
   "cell_type": "code",
   "execution_count": null,
   "id": "668d33a0",
   "metadata": {},
   "outputs": [],
   "source": [
    "hist = plt.hist(sample_scores, 31)"
   ]
  },
  {
   "cell_type": "code",
   "execution_count": null,
   "id": "6b53b711",
   "metadata": {},
   "outputs": [],
   "source": [
    "\n",
    "x_rice = np.linspace(0, 20, 301)\n",
    "y_rice = scipy.stats.rayleigh.pdf(x_rice, loc=0, scale=1/np.sqrt(2))\n",
    "\n",
    "plt.plot(hist[1][0:31], hist[0])\n",
    "plt.plot(x_rice, 1050 * y_rice, label='Rician')\n",
    "plt.xlim(0, 5)"
   ]
  },
  {
   "cell_type": "code",
   "execution_count": null,
   "id": "50821e01",
   "metadata": {},
   "outputs": [],
   "source": [
    "signal = data_slice[6000, :]\n",
    "template = templates[6000, :]\n",
    "\n",
    "sample_scores = np.zeros(10000)\n",
    "sample_noise = np.zeros(10000)\n",
    "for i in range(10000):\n",
    "\n",
    "    noise = np.random.multivariate_normal([0, 0], np.eye(2) * var / 2, signal.size)\n",
    "    noise = noise[:, 0] + 1j * noise[:, 0]\n",
    "    \n",
    "    score = abs(np.vdot(template, signal + noise))\n",
    "    score_noise = abs(np.vdot(template, noise))\n",
    "    sample_scores[i] = score\n",
    "    sample_noise[i] = score_noise"
   ]
  },
  {
   "cell_type": "code",
   "execution_count": null,
   "id": "bb0ac042",
   "metadata": {},
   "outputs": [],
   "source": []
  },
  {
   "cell_type": "code",
   "execution_count": null,
   "id": "4680b63c",
   "metadata": {},
   "outputs": [],
   "source": [
    "sns.set_theme(context='poster')\n",
    "fig = plt.figure(figsize=(13,8))\n",
    "\n",
    "ax = fig.add_subplot(1,1,1)\n",
    "\n",
    "x_rice = np.linspace(0, 20, 301)\n",
    "y_rice = scipy.stats.rice.pdf(x_rice , scores[6000], scores[6000] * (1-1/np.sqrt(2)), scale = 1/np.sqrt(2))\n",
    "\n",
    "x_ray = np.linspace(0, 20, 301)\n",
    "y_ray = scipy.stats.rice.pdf(x_rice , 0,scale = 1/np.sqrt(2))\n",
    "\n",
    "ax.hist(sample_scores, 31, density=True, label = 'Signal Samples')\n",
    "ax.hist(sample_noise, 31, density=True, label='Noise Samples')\n",
    "ax.plot(x_rice, y_rice, label='Rician')\n",
    "ax.plot(x_ray, y_ray, label='Rayleigh')\n",
    "ax.set_xlim(0, 7)\n",
    "\n",
    "ax.set_xlabel('MF Score')\n",
    "ax.legend(loc=1)\n",
    "ax.set_ylabel('Probability Density')\n",
    "ax.set_title('Example MF Score Distributions')\n",
    "\n",
    "#plt.savefig(os.path.join(PATH, 'plots/mayfly', '220107_example_rician_and_rayleigh_mf_score_dist'))"
   ]
  },
  {
   "cell_type": "code",
   "execution_count": null,
   "id": "65e5fdb8",
   "metadata": {},
   "outputs": [],
   "source": [
    "\n",
    "x_rice = np.linspace(0, 20, 301)\n",
    "y_rice = scipy.stats.rice.pdf(x_rice, scores[0],scores[0] * (1-1/np.sqrt(2)), 1/np.sqrt(2))\n",
    "\n",
    "x_rayleigh = np.linspace(0, 20, 301)\n",
    "y_rayleigh = scipy.stats.rice.pdf(x_rayleigh, 0, 1/np.sqrt(2))\n",
    "\n",
    "\n",
    "plt.figure()\n",
    "\n",
    "plt.plot(x_rayleigh, y_rayleigh, label='Rayleigh')\n",
    "plt.plot(x_rice, y_rice, label='Rician')\n",
    "plt.xlim(0, 8)"
   ]
  },
  {
   "cell_type": "markdown",
   "id": "eb403ff3",
   "metadata": {},
   "source": [
    "# pick a threshold"
   ]
  },
  {
   "cell_type": "code",
   "execution_count": null,
   "id": "5e70d144",
   "metadata": {},
   "outputs": [],
   "source": [
    "plt.figure()\n",
    "\n",
    "plt.plot(x_rayleigh, y_rayleigh, label='Rayleigh')\n",
    "plt.xlim(0, 8)"
   ]
  },
  {
   "cell_type": "code",
   "execution_count": null,
   "id": "a6d61332",
   "metadata": {},
   "outputs": [],
   "source": [
    "y_rayleigh = scipy.stats.rice.cdf(x_rayleigh, 0, 1/np.sqrt(2))\n",
    "y_rice = scipy.stats.rice.cdf(x_rice, scores[4000], scores[4000] * (1-1/np.sqrt(2)), 1/np.sqrt(2))\n",
    "\n",
    "\n",
    "plt.figure()\n",
    "\n",
    "plt.plot(x_rayleigh, y_rayleigh, label='Rayleigh')\n",
    "plt.plot(x_rice, y_rice, label='Rayleigh')\n",
    "plt.xlim(0, 8)\n",
    "print(x_rayleigh[81], y_rayleigh[81])\n",
    "\n"
   ]
  },
  {
   "cell_type": "code",
   "execution_count": null,
   "id": "27e21bb7",
   "metadata": {},
   "outputs": [],
   "source": [
    "y_rayleigh = scipy.stats.rice.sf(x_rayleigh, 0, scale=1/np.sqrt(2))\n",
    "y_rice = scipy.stats.rice.sf(x_rice, scores[5000], scores[5000] * (1-1/np.sqrt(2)), scale=1/np.sqrt(2))\n",
    "\n",
    "\n",
    "plt.figure()\n",
    "\n",
    "plt.plot(x_rayleigh, y_rayleigh, label='Rayleigh')\n",
    "plt.plot(x_rice, y_rice, label='Rayleigh')\n",
    "plt.xlim(0, 8)\n",
    "print(x_rayleigh[81], y_rayleigh[81])\n",
    "plt.yscale('log')"
   ]
  },
  {
   "cell_type": "code",
   "execution_count": null,
   "id": "4d771c9b",
   "metadata": {},
   "outputs": [],
   "source": [
    "plt.plot(y_rayleigh, y_rice)\n",
    "\n",
    "plt.xscale('log')"
   ]
  },
  {
   "cell_type": "code",
   "execution_count": null,
   "id": "6f7c8464",
   "metadata": {},
   "outputs": [],
   "source": [
    "y_rice = scipy.stats.rice.sf(x_rice, scores.reshape(scores.size, 1), (scores * (1-1/np.sqrt(2))).reshape(scores.size, 1), scale=1/np.sqrt(2))"
   ]
  },
  {
   "cell_type": "code",
   "execution_count": null,
   "id": "b6cbf022",
   "metadata": {},
   "outputs": [],
   "source": [
    "mean_sf = np.mean(y_rice, axis=0)"
   ]
  },
  {
   "cell_type": "code",
   "execution_count": null,
   "id": "a56a69bd",
   "metadata": {},
   "outputs": [],
   "source": [
    "plt.plot(y_rayleigh, mean_sf)\n",
    "\n",
    "plt.xscale('log')\n",
    "#plt.yscale('log')\n",
    "#plt.xlim(1e-3, 1)\n",
    "#plt.ylim(0.9, 1)"
   ]
  },
  {
   "cell_type": "code",
   "execution_count": null,
   "id": "86d419a0",
   "metadata": {},
   "outputs": [],
   "source": [
    "score_sample = scipy.stats.rice.rvs(scores, size=scores.size)"
   ]
  },
  {
   "cell_type": "code",
   "execution_count": null,
   "id": "6c0e1255",
   "metadata": {},
   "outputs": [],
   "source": [
    "len(np.argwhere(score_sample >= 3.4)) / len(scores)"
   ]
  },
  {
   "cell_type": "code",
   "execution_count": null,
   "id": "df949b55",
   "metadata": {},
   "outputs": [],
   "source": [
    "print(scores.mean())"
   ]
  },
  {
   "cell_type": "markdown",
   "id": "61cd8783",
   "metadata": {},
   "source": [
    "# plot MF ROC curves vs temp"
   ]
  },
  {
   "cell_type": "code",
   "execution_count": null,
   "id": "1e744627",
   "metadata": {},
   "outputs": [],
   "source": [
    "sns.set_theme(context='poster')\n",
    "\n",
    "fig = plt.figure(figsize=(13, 8))\n",
    "ax = fig.add_subplot(1,1,1)\n",
    "\n",
    "x = np.linspace(0, 20, 301)\n",
    "y_rayleigh = scipy.stats.rice.sf(x, 0, scale=1/np.sqrt(2))\n",
    "\n",
    "for temp in [1, 3, 5, 10, 13]:\n",
    "    print(temp)\n",
    "\n",
    "    var = 1.38e-23 * temp * 50 * 60 * 200e6\n",
    "\n",
    "    templates = data_slice * 1 / np.sqrt(var * (abs(data_slice) ** 2).sum(axis=-1) ).reshape(data_slice.shape[0],1)\n",
    "\n",
    "    scores = abs(np.sum(data_slice * templates.conjugate(), axis=-1)) * 0.3\n",
    "    \n",
    "    y_rice = scipy.stats.rice.sf(x_rice, scores.reshape(scores.size, 1), (scores * (1-1/np.sqrt(2))).reshape(scores.size, 1), scale=1/np.sqrt(2))\n",
    "    \n",
    "    mean_sf = np.mean(y_rice, axis=0)\n",
    "    \n",
    "    ax.plot(y_rayleigh, mean_sf, label=f'{temp} K')\n",
    "    \n",
    "plt.legend(title='Noise Temp.', loc=4)\n",
    "ax.set_xscale('log')\n",
    "ax.set_xlim(1e-4, 1)\n",
    "ax.set_xlabel('False Positive Rate')\n",
    "ax.set_ylabel('True Positive Rate')\n",
    "ax.set_title('Ideal MF ROC Curves')\n",
    "\n",
    "#plt.savefig(os.path.join(PATH, 'plots/mayfly', '220107_idealized_mf_roc_curve'))"
   ]
  },
  {
   "cell_type": "code",
   "execution_count": null,
   "id": "c11e9e1c",
   "metadata": {},
   "outputs": [],
   "source": [
    "file['train']['data'].shape"
   ]
  },
  {
   "cell_type": "code",
   "execution_count": null,
   "id": "b645fe61",
   "metadata": {},
   "outputs": [],
   "source": [
    "plt.plot(file['train']['data'][0, 0, :])"
   ]
  },
  {
   "cell_type": "code",
   "execution_count": null,
   "id": "ca1eaf07",
   "metadata": {},
   "outputs": [],
   "source": [
    "plt.plot(file['train']['data'][-1, 0, :])"
   ]
  },
  {
   "cell_type": "code",
   "execution_count": null,
   "id": "5be2a28d",
   "metadata": {},
   "outputs": [],
   "source": []
  }
 ],
 "metadata": {
  "kernelspec": {
   "display_name": "Python 3",
   "language": "python",
   "name": "python3"
  },
  "language_info": {
   "codemirror_mode": {
    "name": "ipython",
    "version": 3
   },
   "file_extension": ".py",
   "mimetype": "text/x-python",
   "name": "python",
   "nbconvert_exporter": "python",
   "pygments_lexer": "ipython3",
   "version": "3.8.10"
  }
 },
 "nbformat": 4,
 "nbformat_minor": 5
}
