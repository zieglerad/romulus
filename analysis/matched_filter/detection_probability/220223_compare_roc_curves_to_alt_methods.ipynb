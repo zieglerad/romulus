{
 "cells": [
  {
   "cell_type": "code",
   "execution_count": null,
   "id": "500e6178",
   "metadata": {},
   "outputs": [],
   "source": [
    "import numpy as np\n",
    "import matplotlib.pyplot as plt\n",
    "import seaborn as sns\n",
    "import scipy.stats as stats\n",
    "import os\n",
    "from pathlib import Path\n",
    "import math\n",
    "\n",
    "home = Path.home() / 'group' / 'project'"
   ]
  },
  {
   "cell_type": "markdown",
   "id": "5aa21f30",
   "metadata": {},
   "source": [
    "# load the curves"
   ]
  },
  {
   "cell_type": "code",
   "execution_count": null,
   "id": "49748f69",
   "metadata": {},
   "outputs": [],
   "source": [
    "for i in list((home / 'results' / 'matched_filter' / 'roc_curve').iterdir()): print(i)"
   ]
  },
  {
   "cell_type": "code",
   "execution_count": null,
   "id": "f9385db8",
   "metadata": {},
   "outputs": [],
   "source": [
    "for i in list((home / 'results' / 'beamforming' / 'roc_curve').iterdir()): print(i)"
   ]
  },
  {
   "cell_type": "markdown",
   "id": "3ec4973d",
   "metadata": {},
   "source": [
    "# plot curves for electrons from 1-4 cm and 85-89 deg"
   ]
  },
  {
   "cell_type": "code",
   "execution_count": null,
   "id": "c4a89fcd",
   "metadata": {},
   "outputs": [],
   "source": [
    "file = '/storage/home/adz6/group/project/results/matched_filter/roc_curve/220223_matched_filter_roc_curves_diff_match_angles85to89_rad1to4.npz'\n",
    "mf_roc = np.load(file)\n",
    "file = '/storage/home/adz6/group/project/results/beamforming/roc_curve/220223_time_dep_beamforming_roc_curve_estimate_restricted_params.npz'\n",
    "bf_roc = np.load(file)"
   ]
  },
  {
   "cell_type": "code",
   "execution_count": null,
   "id": "46b1db24",
   "metadata": {},
   "outputs": [],
   "source": [
    "sns.set_theme(context='talk')\n",
    "fig = plt.figure(figsize=(13, 8))\n",
    "cmap = sns.color_palette('mako', n_colors=mf_roc['match'].size )\n",
    "clist = sns.color_palette('deep', n_colors=10 )\n",
    "ax = fig.add_subplot(1,1,1)\n",
    "\n",
    "for i, match in enumerate(mf_roc['match']):\n",
    "    ax.plot(mf_roc['fpr'], mf_roc['tpr'][i, :], color=cmap[i], label=f'MF, Match={match}')\n",
    "    \n",
    "#ax.plot(bf_roc['fpr'], bf_roc['tpr'], color=clist[3], label=f'Time Dep. BF')\n",
    "ax.plot(np.linspace(0, 1, 501,), np.linspace(0, 1, 501), color='grey', linestyle='--', label='Random Trigger')\n",
    "\n",
    "ax.set_xscale('log')\n",
    "ax.set_xlim(1e-8, 1)\n",
    "ax.legend(loc=2)\n",
    "\n",
    "ax.set_xlabel('False Positive Rate (Background)')\n",
    "ax.set_ylabel('True Positive Rate (Efficiency)')\n",
    "#ax.set_title('ROC Curve Comparison')\n",
    "ax.set_title('ROC Curve Match Dependence')\n",
    "\n",
    "plt.tight_layout()\n",
    "save_path = Path.home()/'group'/'project'/'plots'/'matched_filter'/'roc_curve'/'220223_mf_roc_curve_vs_match_restricted_pitch_and_rad.png'\n",
    "\n",
    "#plt.savefig(save_path)"
   ]
  },
  {
   "cell_type": "markdown",
   "id": "9a6f7292",
   "metadata": {},
   "source": [
    "# plot curves for electrons from 0-5 cm and 84-90 deg"
   ]
  },
  {
   "cell_type": "code",
   "execution_count": null,
   "id": "a7e26fed",
   "metadata": {},
   "outputs": [],
   "source": [
    "file = '/storage/home/adz6/group/project/results/matched_filter/roc_curve/220223_matched_filter_roc_curves_diff_match_angles84to90_rad0to5.npz'\n",
    "mf_roc = np.load(file)\n",
    "file = '/storage/home/adz6/group/project/results/beamforming/roc_curve/220223_time_dep_beamforming_roc_curve_estimate.npz'\n",
    "bf_roc = np.load(file)"
   ]
  },
  {
   "cell_type": "code",
   "execution_count": null,
   "id": "833ac414",
   "metadata": {},
   "outputs": [],
   "source": [
    "sns.set_theme(context='talk')\n",
    "fig = plt.figure(figsize=(13, 8))\n",
    "cmap = sns.color_palette('mako', n_colors=mf_roc['match'].size )\n",
    "clist = sns.color_palette('deep', n_colors=10 )\n",
    "ax = fig.add_subplot(1,1,1)\n",
    "\n",
    "for i, match in enumerate(mf_roc['match']):\n",
    "    ax.plot(mf_roc['fpr'], mf_roc['tpr'][i, :], color=cmap[i], label=f'MF, Match={match}')\n",
    "    \n",
    "#ax.plot(bf_roc['fpr'], bf_roc['tpr'], color=clist[3], label=f'Time Dep. BF')\n",
    "ax.plot(np.linspace(0, 1, 501,), np.linspace(0, 1, 501), color='grey', linestyle='--', label='Random Trigger')\n",
    "\n",
    "ax.set_xscale('log')\n",
    "ax.set_xlim(1e-8, 1)\n",
    "ax.legend(loc=2)\n",
    "\n",
    "ax.set_xlabel('False Positive Rate (Background)')\n",
    "ax.set_ylabel('True Positive Rate (Efficiency)')\n",
    "#ax.set_title('ROC Curve Comparison')\n",
    "ax.set_title('ROC Curve Match Dependence')\n",
    "\n",
    "plt.tight_layout()\n",
    "save_path = Path.home()/'group'/'project'/'plots'/'matched_filter'/'roc_curve'/'220223_mf_roc_curve_vs_mean_match.png'\n",
    "\n",
    "#plt.savefig(save_path)\n",
    "\n"
   ]
  },
  {
   "cell_type": "code",
   "execution_count": null,
   "id": "b6256e97",
   "metadata": {},
   "outputs": [],
   "source": []
  },
  {
   "cell_type": "markdown",
   "id": "c4351512",
   "metadata": {},
   "source": [
    "# define the survival functions"
   ]
  },
  {
   "cell_type": "code",
   "execution_count": null,
   "id": "664380c6",
   "metadata": {},
   "outputs": [],
   "source": [
    "x = np.linspace(0, 12, 201)\n",
    "\n",
    "noise_sf = stats.rayleigh.sf(x, loc=0, scale=(1/math.sqrt(2)))"
   ]
  },
  {
   "cell_type": "code",
   "execution_count": null,
   "id": "533bfaa7",
   "metadata": {},
   "outputs": [],
   "source": [
    "match = 1\n",
    "\n",
    "signal_sf = stats.rice.sf(\n",
    "    x.reshape((1, x.size)),\n",
    "    match * scores.flatten().reshape(scores.size, 1),\n",
    "    loc = match * scores.flatten().reshape(scores.size, 1) * (1 - 1 / math.sqrt(2)),\n",
    "    scale=1/math.sqrt(2)\n",
    ")"
   ]
  },
  {
   "cell_type": "code",
   "execution_count": null,
   "id": "6870b22e",
   "metadata": {},
   "outputs": [],
   "source": [
    "signal_sf.shape"
   ]
  },
  {
   "cell_type": "code",
   "execution_count": null,
   "id": "dee6eda7",
   "metadata": {},
   "outputs": [],
   "source": [
    "plt.plot(noise_sf, signal_sf.mean(axis=0))"
   ]
  },
  {
   "cell_type": "markdown",
   "id": "02d64642",
   "metadata": {},
   "source": [
    "# select the scores we are most interested in"
   ]
  },
  {
   "cell_type": "code",
   "execution_count": null,
   "id": "f8e35de6",
   "metadata": {},
   "outputs": [],
   "source": [
    "r_min = 0.01\n",
    "r_max = 0.04\n",
    "pa_min = 85.0\n",
    "pa_max = 89.0"
   ]
  },
  {
   "cell_type": "code",
   "execution_count": null,
   "id": "b66294ca",
   "metadata": {},
   "outputs": [],
   "source": [
    "pa_grid.shape"
   ]
  },
  {
   "cell_type": "code",
   "execution_count": null,
   "id": "93567d1d",
   "metadata": {},
   "outputs": [],
   "source": [
    "r_select = np.logical_and(\n",
    "    r_grid.flatten() > r_min,\n",
    "    r_grid.flatten() < r_max\n",
    ")\n",
    "\n",
    "pa_select = np.logical_and(\n",
    "    pa_grid.flatten() > pa_min,\n",
    "    pa_grid.flatten() < pa_max\n",
    ")\n",
    "\n",
    "select = np.logical_and(\n",
    "    r_select,\n",
    "    pa_select\n",
    ")"
   ]
  },
  {
   "cell_type": "code",
   "execution_count": null,
   "id": "e6307e5f",
   "metadata": {},
   "outputs": [],
   "source": [
    "select_signal_sf = signal_sf[select]"
   ]
  },
  {
   "cell_type": "code",
   "execution_count": null,
   "id": "74422e65",
   "metadata": {},
   "outputs": [],
   "source": []
  },
  {
   "cell_type": "code",
   "execution_count": null,
   "id": "0612dffe",
   "metadata": {},
   "outputs": [],
   "source": [
    "sns.set_theme(context='poster')\n",
    "fig = plt.figure(figsize=(13, 8))\n",
    "ax = fig.add_subplot(1,1,1)\n",
    "\n",
    "\n",
    "ax.plot(noise_sf, signal_sf.mean(axis=0), label=r'$\\theta\\in84-90$ deg and $r\\in0-5$ cm' )\n",
    "ax.plot(noise_sf, select_signal_sf.mean(axis=0),  label=r'$\\theta\\in85-89$ deg and $r\\in1-4$ cm')\n",
    "\n",
    "ax.set_ylabel('True Positive Rate (Efficiency)')\n",
    "ax.set_xlabel('False Positive Rate (Background)')\n",
    "ax.set_xscale('log')\n",
    "ax.set_xlim(1e-10, 1)\n",
    "ax.legend(loc=4)\n",
    "\n",
    "plt.tight_layout()\n",
    "name = '220214_ideal_mf_roc_curves_selected_parameters'\n",
    "save_path = home/'plots'/'analysis'/'matched_filter'/'dense_grid'/'score_grid'\n",
    "save_path.mkdir(parents=True, exist_ok=True)\n",
    "\n",
    "plt.savefig(str(save_path / name))"
   ]
  },
  {
   "cell_type": "markdown",
   "id": "425cacef",
   "metadata": {},
   "source": [
    "# visualize ROC for match assumptions"
   ]
  },
  {
   "cell_type": "code",
   "execution_count": null,
   "id": "f252def2",
   "metadata": {},
   "outputs": [],
   "source": [
    "sns.set_theme(context='talk')\n",
    "fig = plt.figure(figsize=(13, 8))\n",
    "ax = fig.add_subplot(1,1,1)\n",
    "\n",
    "match_ratios = [1.0, 0.9, 0.75, 0.5, 0.3, 0.1]\n",
    "\n",
    "for match in match_ratios:\n",
    "    signal_sf = stats.rice.sf(\n",
    "        x.reshape((1, x.size)),\n",
    "        match * scores.flatten().reshape(scores.size, 1),\n",
    "        loc = match * scores.flatten().reshape(scores.size, 1) * (1 - 1 / math.sqrt(2)),\n",
    "        scale=1/math.sqrt(2)\n",
    "    )\n",
    "    \n",
    "    ax.plot(noise_sf, signal_sf[select].mean(axis=0), label=f'Match = {match}')\n",
    "\n",
    "ax.set_ylabel('True Positive Rate (Efficiency)')\n",
    "ax.set_xlabel('False Positive Rate (Background)')\n",
    "ax.set_xscale('log')\n",
    "ax.set_xlim(1e-10, 1)\n",
    "ax.legend(loc=2)\n",
    "#ax.plot(np.linspace(0,1, 10), np.linspace(0,1, 10), color='grey', linestyle='--')\n",
    "\n",
    "\n",
    "plt.tight_layout()\n",
    "name = '220215_mf_roc_curves_estimates_match_efficiency_reduction'\n",
    "save_path = home/'plots'/'analysis'/'matched_filter'/'dense_grid'/'score_grid'\n",
    "save_path.mkdir(parents=True, exist_ok=True)\n",
    "\n",
    "plt.savefig(str(save_path / name))"
   ]
  },
  {
   "cell_type": "code",
   "execution_count": null,
   "id": "ba89f621",
   "metadata": {},
   "outputs": [],
   "source": [
    "print(match_ratios)"
   ]
  },
  {
   "cell_type": "markdown",
   "id": "196bacab",
   "metadata": {},
   "source": [
    "# visualize MF scores"
   ]
  },
  {
   "cell_type": "code",
   "execution_count": null,
   "id": "01880b5c",
   "metadata": {},
   "outputs": [],
   "source": [
    "sns.set_theme(context='poster', style='ticks')\n",
    "cmap = sns.color_palette('mako', as_cmap=True)\n",
    "fig = plt.figure(figsize=(13, 8))\n",
    "ax = fig.add_subplot(1,1,1)\n",
    "\n",
    "img = ax.imshow(scores, aspect='auto', cmap=cmap)\n",
    "cbar = fig.colorbar(img, label='Score')"
   ]
  },
  {
   "cell_type": "code",
   "execution_count": null,
   "id": "31c88352",
   "metadata": {},
   "outputs": [],
   "source": [
    "radii = np.unique(r_grid)\n",
    "angles = np.unique(pa_grid)\n",
    "\n",
    "r_select = np.logical_and(\n",
    "    radii.flatten() > r_min,\n",
    "    radii.flatten() < r_max\n",
    ")\n",
    "\n",
    "pa_select = np.logical_and(\n",
    "    angles.flatten() > pa_min,\n",
    "    angles.flatten() < pa_max\n",
    ")\n",
    "\n",
    "sns.set_theme(context='poster', style='ticks')\n",
    "cmap = sns.color_palette('mako', as_cmap=True)\n",
    "fig = plt.figure(figsize=(13, 8))\n",
    "ax = fig.add_subplot(1,1,1)\n",
    "\n",
    "img = ax.imshow(scores[pa_select, :][:, r_select], aspect='auto', cmap=cmap, extent=(r_min, r_max, pa_max, pa_min))\n",
    "cbar = fig.colorbar(img, label='Score')\n",
    "\n",
    "ax.set_xlabel('Radial Position (m)')\n",
    "ax.set_ylabel('Pitch Angle (deg)')\n",
    "\n",
    "plt.tight_layout()\n",
    "name = '220214_mf_scores_pitch_angle_and_radius_8192_samples'\n",
    "save_path = home/'plots'/'analysis'/'matched_filter'/'dense_grid'/'score_grid'\n",
    "save_path.mkdir(parents=True, exist_ok=True)\n",
    "\n",
    "plt.savefig(str(save_path / name))\n"
   ]
  },
  {
   "cell_type": "code",
   "execution_count": null,
   "id": "ee00d072",
   "metadata": {},
   "outputs": [],
   "source": [
    "list((home/'plots'/'analysis'/'matched_filter'/'dense_grid'/).iterdir())"
   ]
  },
  {
   "cell_type": "code",
   "execution_count": null,
   "id": "d7024abb",
   "metadata": {},
   "outputs": [],
   "source": [
    "(home/'plots'/'analysis'/'matched_filter'/'dense_grid'/'score_grid').iterdir()"
   ]
  }
 ],
 "metadata": {
  "kernelspec": {
   "display_name": "Python 3",
   "language": "python",
   "name": "python3"
  },
  "language_info": {
   "codemirror_mode": {
    "name": "ipython",
    "version": 3
   },
   "file_extension": ".py",
   "mimetype": "text/x-python",
   "name": "python",
   "nbconvert_exporter": "python",
   "pygments_lexer": "ipython3",
   "version": "3.8.10"
  }
 },
 "nbformat": 4,
 "nbformat_minor": 5
}
