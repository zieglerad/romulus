{
 "cells": [
  {
   "cell_type": "code",
   "execution_count": null,
   "id": "500e6178",
   "metadata": {},
   "outputs": [],
   "source": [
    "import numpy as np\n",
    "import matplotlib.pyplot as plt\n",
    "import seaborn as sns\n",
    "import scipy.stats as stats\n",
    "import os\n",
    "from pathlib import Path\n",
    "import math\n",
    "\n",
    "home = Path.home() / 'group' / 'project'"
   ]
  },
  {
   "cell_type": "markdown",
   "id": "5aa21f30",
   "metadata": {},
   "source": [
    "# load the scores"
   ]
  },
  {
   "cell_type": "code",
   "execution_count": null,
   "id": "49748f69",
   "metadata": {},
   "outputs": [],
   "source": [
    "list((home / 'results' / 'matched_filter' / 'sparse_grid').iterdir())"
   ]
  },
  {
   "cell_type": "code",
   "execution_count": null,
   "id": "e081367b",
   "metadata": {},
   "outputs": [],
   "source": [
    "result_file = '/storage/home/adz6/group/project/results/matched_filter/sparse_grid/220211_radial_pitch_angle_matched_filter_score_grid.npz'"
   ]
  },
  {
   "cell_type": "code",
   "execution_count": null,
   "id": "46b1db24",
   "metadata": {},
   "outputs": [],
   "source": [
    "np_file = np.load(result_file)"
   ]
  },
  {
   "cell_type": "code",
   "execution_count": null,
   "id": "a42977f9",
   "metadata": {},
   "outputs": [],
   "source": [
    "for i, key in enumerate(np_file.keys()): print(key)"
   ]
  },
  {
   "cell_type": "code",
   "execution_count": null,
   "id": "a7e26fed",
   "metadata": {},
   "outputs": [],
   "source": [
    "scores = np_file['scores']\n",
    "r_grid = np_file['r']\n",
    "pa_grid = np_file['pa']"
   ]
  },
  {
   "cell_type": "code",
   "execution_count": null,
   "id": "629822cb",
   "metadata": {},
   "outputs": [],
   "source": [
    "angle = 87.0\n",
    "radius = 0.01\n",
    "inds = np.argwhere(np.logical_and(r_grid == radius, pa_grid == angle)).squeeze()\n",
    "\n",
    "score = scores[inds[0], inds[1]]"
   ]
  },
  {
   "cell_type": "markdown",
   "id": "c4351512",
   "metadata": {},
   "source": [
    "# define the survival functions"
   ]
  },
  {
   "cell_type": "code",
   "execution_count": null,
   "id": "664380c6",
   "metadata": {},
   "outputs": [],
   "source": [
    "x = np.linspace(0, 12, 201)\n",
    "\n",
    "noise_sf = stats.rayleigh.sf(x, loc=0, scale=(1/math.sqrt(2)))\n",
    "signal_sf = stats.rice.sf(x, score, loc=score*(1 - 1 / math.sqrt(2)), scale=1/math.sqrt(2))"
   ]
  },
  {
   "cell_type": "code",
   "execution_count": null,
   "id": "533bfaa7",
   "metadata": {},
   "outputs": [],
   "source": [
    "match = 1\n",
    "\n",
    "signal_sf = stats.rice.sf(\n",
    "    x.reshape((1, x.size)),\n",
    "    match * scores.flatten().reshape(scores.size, 1),\n",
    "    loc = match * scores.flatten().reshape(scores.size, 1) * (1 - 1 / math.sqrt(2)),\n",
    "    scale=1/math.sqrt(2)\n",
    ")"
   ]
  },
  {
   "cell_type": "code",
   "execution_count": null,
   "id": "6870b22e",
   "metadata": {},
   "outputs": [],
   "source": [
    "signal_sf.shape"
   ]
  },
  {
   "cell_type": "markdown",
   "id": "8845313c",
   "metadata": {},
   "source": [
    "# plot for match = 1"
   ]
  },
  {
   "cell_type": "code",
   "execution_count": null,
   "id": "dee6eda7",
   "metadata": {},
   "outputs": [],
   "source": [
    "sns.set_theme(context='poster')\n",
    "fig = plt.figure(figsize=(13, 8))\n",
    "ax = fig.add_subplot(1,1,1)\n",
    "\n",
    "\n",
    "ax.plot(noise_sf, signal_sf,)\n",
    "#ax.plot(noise_sf, select_signal_sf.mean(axis=0),  label=r'$\\theta\\in85-89$ deg and $r\\in1-4$ cm')\n",
    "\n",
    "ax.set_ylabel('True Positive Rate (Efficiency)')\n",
    "ax.set_xlabel('False Positive Rate (Background)')\n",
    "ax.set_xscale('log')\n",
    "ax.set_xlim(1e-10, 1)\n",
    "#ax.legend(loc=4)\n",
    "\n",
    "plt.tight_layout()\n",
    "name = '220214_ideal_mf_roc_curves_selected_parameters'\n",
    "save_path = home/'plots'/'analysis'/'matched_filter'/'dense_grid'/'score_grid'\n",
    "save_path.mkdir(parents=True, exist_ok=True)\n",
    "\n",
    "#plt.savefig(str(save_path / name))"
   ]
  },
  {
   "cell_type": "markdown",
   "id": "966bc424",
   "metadata": {},
   "source": [
    "# plot for range of match"
   ]
  },
  {
   "cell_type": "code",
   "execution_count": null,
   "id": "6054cdff",
   "metadata": {},
   "outputs": [],
   "source": [
    "sns.set_theme(context='poster')\n",
    "fig = plt.figure(figsize=(13, 8))\n",
    "ax = fig.add_subplot(1,1,1)\n",
    "\n",
    "x = np.linspace(0, 12, 201)\n",
    "noise_sf = stats.rayleigh.sf(x, loc=0, scale=(1/math.sqrt(2)))\n",
    "\n",
    "for match in [0.1, 0.3, 0.5, 0.7, 0.9, 1.0]:\n",
    "    \n",
    "    signal_sf = stats.rice.sf(x, match * score, loc=match*score*(1 - 1 / math.sqrt(2)), scale=1/math.sqrt(2))\n",
    "\n",
    "\n",
    "    ax.plot(noise_sf, signal_sf,)\n",
    "#ax.plot(noise_sf, select_signal_sf.mean(axis=0),  label=r'$\\theta\\in85-89$ deg and $r\\in1-4$ cm')\n",
    "\n",
    "ax.set_ylabel('True Positive Rate (Efficiency)')\n",
    "ax.set_xlabel('False Positive Rate (Background)')\n",
    "ax.set_xscale('log')\n",
    "ax.set_xlim(1e-10, 1)\n",
    "#ax.legend(loc=4)\n",
    "\n",
    "plt.tight_layout()\n",
    "name = '220214_ideal_mf_roc_curves_selected_parameters'\n",
    "#save_path = home/'plots'/'analysis'/'matched_filter'/'dense_grid'/'score_grid'\n",
    "#save_path.mkdir(parents=True, exist_ok=True)"
   ]
  },
  {
   "cell_type": "markdown",
   "id": "02d64642",
   "metadata": {},
   "source": [
    "# compare range of match againsts dnn"
   ]
  },
  {
   "cell_type": "code",
   "execution_count": null,
   "id": "184b883f",
   "metadata": {},
   "outputs": [],
   "source": [
    "path = Path.home()/'group'/'project'/'results'/'machine_learning'/'dnn'/'triggering'/'eval_outputs'/'dense_grid'/'220228_pitch87.0_rad1cm_fft'/'pdf_and_cdf.npz'\n",
    "\n",
    "file = np.load(path)\n",
    "for i,key in enumerate(file):\n",
    "    print(key)"
   ]
  },
  {
   "cell_type": "code",
   "execution_count": null,
   "id": "8290458f",
   "metadata": {},
   "outputs": [],
   "source": [
    "sns.set_theme(context='poster')\n",
    "fig = plt.figure(figsize=(13, 8))\n",
    "ax = fig.add_subplot(1,1,1)\n",
    "\n",
    "x = np.linspace(0, 12, 201)\n",
    "noise_sf = stats.rayleigh.sf(x, loc=0, scale=(1/math.sqrt(2)))\n",
    "match_list = np.flip([0.5, 0.7,1.0])\n",
    "cmap = sns.color_palette('mako_r', n_colors=len(match_list))\n",
    "clist = sns.color_palette('deep')\n",
    "\n",
    "for i, match in enumerate(match_list):\n",
    "    \n",
    "    signal_sf = stats.rice.sf(x, match * score, loc=match*score*(1 - 1 / math.sqrt(2)), scale=1/math.sqrt(2))\n",
    "\n",
    "    ax.plot(noise_sf, signal_sf,color=cmap[i], label=f'Match = {match}')\n",
    "ax.plot(1-file['cdf_noise'], 1-file['cdf_signal'],color=clist[3], label='DNN')\n",
    "\n",
    "ax.set_ylabel('True Positive Rate (Efficiency)')\n",
    "ax.set_xlabel('False Positive Rate (Background)')\n",
    "ax.set_xscale('log')\n",
    "ax.set_xlim(1e-6, 1)\n",
    "ax.legend(loc=4)\n",
    "\n",
    "plt.tight_layout()\n",
    "name = '220214_ideal_mf_roc_curves_selected_parameters'\n",
    "#save_path = home/'plots'/'analysis'/'matched_filter'/'dense_grid'/'score_grid'\n",
    "#save_path.mkdir(parents=True, exist_ok=True)"
   ]
  },
  {
   "cell_type": "code",
   "execution_count": null,
   "id": "f8e35de6",
   "metadata": {},
   "outputs": [],
   "source": [
    "r_min = 0.00\n",
    "r_max = 0.05\n",
    "pa_min = 84.0\n",
    "pa_max = 90.0"
   ]
  },
  {
   "cell_type": "code",
   "execution_count": null,
   "id": "b66294ca",
   "metadata": {},
   "outputs": [],
   "source": [
    "pa_grid.shape"
   ]
  },
  {
   "cell_type": "code",
   "execution_count": null,
   "id": "93567d1d",
   "metadata": {},
   "outputs": [],
   "source": [
    "r_select = np.logical_and(\n",
    "    r_grid.flatten() >= r_min,\n",
    "    r_grid.flatten() <= r_max\n",
    ")\n",
    "\n",
    "pa_select = np.logical_and(\n",
    "    pa_grid.flatten() >= pa_min,\n",
    "    pa_grid.flatten() <= pa_max\n",
    ")\n",
    "\n",
    "select = np.logical_and(\n",
    "    r_select,\n",
    "    pa_select\n",
    ")"
   ]
  },
  {
   "cell_type": "code",
   "execution_count": null,
   "id": "e6307e5f",
   "metadata": {},
   "outputs": [],
   "source": [
    "select_signal_sf = signal_sf[select]"
   ]
  },
  {
   "cell_type": "code",
   "execution_count": null,
   "id": "74422e65",
   "metadata": {},
   "outputs": [],
   "source": []
  },
  {
   "cell_type": "code",
   "execution_count": null,
   "id": "0612dffe",
   "metadata": {},
   "outputs": [],
   "source": [
    "sns.set_theme(context='poster')\n",
    "fig = plt.figure(figsize=(13, 8))\n",
    "ax = fig.add_subplot(1,1,1)\n",
    "\n",
    "\n",
    "ax.plot(noise_sf, signal_sf.mean(axis=0), label=r'$\\theta\\in84-90$ deg and $r\\in0-5$ cm' )\n",
    "ax.plot(noise_sf, select_signal_sf.mean(axis=0),  label=r'$\\theta\\in85-89$ deg and $r\\in1-4$ cm')\n",
    "\n",
    "ax.set_ylabel('True Positive Rate (Efficiency)')\n",
    "ax.set_xlabel('False Positive Rate (Background)')\n",
    "ax.set_xscale('log')\n",
    "ax.set_xlim(1e-10, 1)\n",
    "ax.legend(loc=4)\n",
    "\n",
    "plt.tight_layout()\n",
    "name = '220214_ideal_mf_roc_curves_selected_parameters'\n",
    "save_path = home/'plots'/'analysis'/'matched_filter'/'dense_grid'/'score_grid'\n",
    "save_path.mkdir(parents=True, exist_ok=True)\n",
    "\n",
    "#plt.savefig(str(save_path / name))"
   ]
  },
  {
   "cell_type": "markdown",
   "id": "425cacef",
   "metadata": {},
   "source": [
    "# visualize ROC for match assumptions"
   ]
  },
  {
   "cell_type": "code",
   "execution_count": null,
   "id": "f252def2",
   "metadata": {},
   "outputs": [],
   "source": [
    "sns.set_theme(context='talk')\n",
    "fig = plt.figure(figsize=(13, 8))\n",
    "ax = fig.add_subplot(1,1,1)\n",
    "\n",
    "match_ratios = np.array([1.0, 0.9, 0.75, 0.5, 0.3, 0.1])\n",
    "tpr_list = []\n",
    "\n",
    "for match in match_ratios:\n",
    "    signal_sf = stats.rice.sf(\n",
    "        x.reshape((1, x.size)),\n",
    "        match * scores.flatten().reshape(scores.size, 1),\n",
    "        loc = match * scores.flatten().reshape(scores.size, 1) * (1 - 1 / math.sqrt(2)),\n",
    "        scale=1/math.sqrt(2)\n",
    "    )\n",
    "    \n",
    "    ax.plot(noise_sf, signal_sf[select].mean(axis=0), label=f'Match = {match}')\n",
    "    \n",
    "    tpr_list.append(signal_sf[select].mean(axis=0))\n",
    "    \n",
    "tpr_array = np.array(tpr_list)\n",
    "fpr_array = noise_sf\n",
    "\n",
    "ax.set_ylabel('True Positive Rate (Efficiency)')\n",
    "ax.set_xlabel('False Positive Rate (Background)')\n",
    "ax.set_xscale('log')\n",
    "ax.set_xlim(1e-10, 1)\n",
    "ax.legend(loc=2)\n",
    "#ax.plot(np.linspace(0,1, 10), np.linspace(0,1, 10), color='grey', linestyle='--')\n",
    "\n",
    "\n",
    "plt.tight_layout()\n",
    "name = '220215_mf_roc_curves_estimates_match_efficiency_reduction'\n",
    "save_path = home/'plots'/'analysis'/'matched_filter'/'dense_grid'/'score_grid'\n",
    "save_path.mkdir(parents=True, exist_ok=True)\n",
    "\n",
    "#plt.savefig(str(save_path / name))"
   ]
  },
  {
   "cell_type": "markdown",
   "id": "826e6a2e",
   "metadata": {},
   "source": [
    "# save roc curves"
   ]
  },
  {
   "cell_type": "code",
   "execution_count": null,
   "id": "977892ac",
   "metadata": {},
   "outputs": [],
   "source": [
    "save_path = Path.home()/'group'/'project'/'results'/'matched_filter'/'roc_curve'/'220223_matched_filter_roc_curves_diff_match_angles84to90_rad0to5.npz'\n"
   ]
  },
  {
   "cell_type": "code",
   "execution_count": null,
   "id": "795493e1",
   "metadata": {},
   "outputs": [],
   "source": [
    "np.savez(save_path, match=match_ratios, fpr=fpr_array, tpr=tpr_array)"
   ]
  },
  {
   "cell_type": "code",
   "execution_count": null,
   "id": "cc5fcc75",
   "metadata": {},
   "outputs": [],
   "source": []
  }
 ],
 "metadata": {
  "kernelspec": {
   "display_name": "Python 3",
   "language": "python",
   "name": "python3"
  },
  "language_info": {
   "codemirror_mode": {
    "name": "ipython",
    "version": 3
   },
   "file_extension": ".py",
   "mimetype": "text/x-python",
   "name": "python",
   "nbconvert_exporter": "python",
   "pygments_lexer": "ipython3",
   "version": "3.8.10"
  }
 },
 "nbformat": 4,
 "nbformat_minor": 5
}
