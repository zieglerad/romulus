{
 "cells": [
  {
   "cell_type": "code",
   "execution_count": null,
   "id": "9c48718a",
   "metadata": {},
   "outputs": [],
   "source": [
    "import numpy as np\n",
    "import matplotlib.pyplot as plt\n",
    "import seaborn as sns\n",
    "import os\n",
    "import h5py\n",
    "\n",
    "PATH = '/storage/home/adz6/group/project/'"
   ]
  },
  {
   "cell_type": "code",
   "execution_count": null,
   "id": "72d3961d",
   "metadata": {},
   "outputs": [],
   "source": [
    "file_path = os.path.join(PATH, 'results/mayfly', '211129_grad_b_frequency_grid_radius_angle.npz')\n",
    "scores = np.load(file_path)"
   ]
  },
  {
   "cell_type": "code",
   "execution_count": null,
   "id": "7e55ea94",
   "metadata": {},
   "outputs": [],
   "source": [
    "list(scores.keys())"
   ]
  },
  {
   "cell_type": "code",
   "execution_count": null,
   "id": "5b5b8b02",
   "metadata": {},
   "outputs": [],
   "source": [
    "file_path = os.path.join(PATH, 'datasets/data', '211116_grad_b_est.h5')"
   ]
  },
  {
   "cell_type": "code",
   "execution_count": null,
   "id": "fe80cbf6",
   "metadata": {},
   "outputs": [],
   "source": [
    "h5file = h5py.File(file_path)"
   ]
  },
  {
   "cell_type": "code",
   "execution_count": null,
   "id": "8a7f839d",
   "metadata": {},
   "outputs": [],
   "source": [
    "h5file['data'].shape"
   ]
  },
  {
   "cell_type": "code",
   "execution_count": null,
   "id": "3c24214f",
   "metadata": {},
   "outputs": [],
   "source": [
    "h5file['meta'].keys()"
   ]
  },
  {
   "cell_type": "code",
   "execution_count": null,
   "id": "5b88df37",
   "metadata": {},
   "outputs": [],
   "source": [
    "print(np.unique(h5file['meta']['theta_min'][:]))"
   ]
  },
  {
   "cell_type": "code",
   "execution_count": null,
   "id": "dff5646f",
   "metadata": {},
   "outputs": [],
   "source": [
    "print(np.unique(h5file['meta']['x_min'][:]))"
   ]
  },
  {
   "cell_type": "markdown",
   "id": "66327bc9",
   "metadata": {},
   "source": [
    "# do the matrix multiplication"
   ]
  },
  {
   "cell_type": "code",
   "execution_count": null,
   "id": "b92b0911",
   "metadata": {},
   "outputs": [],
   "source": [
    "data = h5file['data'][:]"
   ]
  },
  {
   "cell_type": "code",
   "execution_count": null,
   "id": "934e8819",
   "metadata": {},
   "outputs": [],
   "source": [
    "scores = np.matmul(data, data.conjugate().T)"
   ]
  },
  {
   "cell_type": "code",
   "execution_count": null,
   "id": "292a2243",
   "metadata": {},
   "outputs": [],
   "source": [
    "plt.imshow(abs(scores), interpolation = 'none')"
   ]
  },
  {
   "cell_type": "code",
   "execution_count": null,
   "id": "354a80d8",
   "metadata": {},
   "outputs": [],
   "source": [
    "scores.shape"
   ]
  },
  {
   "cell_type": "code",
   "execution_count": null,
   "id": "953044db",
   "metadata": {},
   "outputs": [],
   "source": [
    "scores_diag = abs(np.diag(scores))"
   ]
  },
  {
   "cell_type": "code",
   "execution_count": null,
   "id": "3d3f7db2",
   "metadata": {},
   "outputs": [],
   "source": [
    "print(scores_diag)"
   ]
  },
  {
   "cell_type": "markdown",
   "id": "ba460fe3",
   "metadata": {},
   "source": [
    "# normalize the data to 10 K noise"
   ]
  },
  {
   "cell_type": "code",
   "execution_count": null,
   "id": "ab07cd28",
   "metadata": {},
   "outputs": [],
   "source": [
    "var = 1.38e-23 * 10 * 50 * 250e6"
   ]
  },
  {
   "cell_type": "code",
   "execution_count": null,
   "id": "62ad8cf2",
   "metadata": {},
   "outputs": [],
   "source": [
    "norm = 1 #/ np.sqrt(var * (abs(data) ** 2).sum(axis=-1) )"
   ]
  },
  {
   "cell_type": "code",
   "execution_count": null,
   "id": "10517067",
   "metadata": {},
   "outputs": [],
   "source": [
    "norm"
   ]
  },
  {
   "cell_type": "code",
   "execution_count": null,
   "id": "2dd8c72f",
   "metadata": {},
   "outputs": [],
   "source": [
    "scores_diag * norm"
   ]
  },
  {
   "cell_type": "code",
   "execution_count": null,
   "id": "62556e5d",
   "metadata": {},
   "outputs": [],
   "source": [
    "norm_scores = scores_diag * norm"
   ]
  },
  {
   "cell_type": "markdown",
   "id": "e92956ca",
   "metadata": {},
   "source": [
    "# sort scores into a matrix"
   ]
  },
  {
   "cell_type": "code",
   "execution_count": null,
   "id": "d2ae1461",
   "metadata": {},
   "outputs": [],
   "source": [
    "radial_positions = np.unique(h5file['meta']['x_min'][:])\n",
    "pitch_angles = np.unique(h5file['meta']['theta_min'][:])\n",
    "\n",
    "r_grid, pa_grid = np.meshgrid(radial_positions, pitch_angles)\n",
    "    \n",
    "sorted_scores = np.zeros(r_grid.size)\n",
    "\n",
    "for i, pair in enumerate(zip(r_grid.flatten(), pa_grid.flatten())):\n",
    "    \n",
    "    #print(np.argwhere(h5file['meta']['x_min'][:] == pair[0]))\n",
    "    #print(np.argwhere(h5file['meta']['x_min'][:] == pair[1]))\n",
    "    try:\n",
    "        index = np.argwhere(np.logical_and(h5file['meta']['x_min'][:] == pair[0], h5file['meta']['theta_min'][:] == pair[1])).squeeze()\n",
    "    \n",
    "        sorted_scores[i] = norm_scores[index]\n",
    "    except BaseException as err:\n",
    "        print(err)\n"
   ]
  },
  {
   "cell_type": "code",
   "execution_count": null,
   "id": "3acb5227",
   "metadata": {},
   "outputs": [],
   "source": [
    "plt.imshow(sorted_scores.reshape(r_grid.shape) / (8192 * 60), aspect='auto', interpolation='none')\n",
    "plt.colorbar()"
   ]
  },
  {
   "cell_type": "code",
   "execution_count": null,
   "id": "3cd8c49a",
   "metadata": {},
   "outputs": [],
   "source": [
    "r_grid.size"
   ]
  },
  {
   "cell_type": "markdown",
   "id": "117f7165",
   "metadata": {},
   "source": [
    "# plot a restricted region of parameter space"
   ]
  },
  {
   "cell_type": "code",
   "execution_count": null,
   "id": "b6058ba1",
   "metadata": {},
   "outputs": [],
   "source": [
    "sorted_scores_reshape = sorted_scores.reshape(r_grid.shape)"
   ]
  },
  {
   "cell_type": "code",
   "execution_count": null,
   "id": "e2c66a19",
   "metadata": {},
   "outputs": [],
   "source": [
    "select_rads = np.argwhere(np.logical_and(radial_positions >= 0.01, radial_positions <= 0.04)).squeeze()\n",
    "select_pa = np.argwhere(np.logical_and(pitch_angles >= 85.0, pitch_angles <= 89.0)).squeeze()"
   ]
  },
  {
   "cell_type": "code",
   "execution_count": null,
   "id": "2317b86e",
   "metadata": {},
   "outputs": [],
   "source": [
    "plt.imshow(sorted_scores_reshape[select_pa, :][:, select_rads], aspect='auto', interpolation='none')"
   ]
  },
  {
   "cell_type": "code",
   "execution_count": null,
   "id": "115b4bff",
   "metadata": {},
   "outputs": [],
   "source": [
    "print(np.mean(sorted_scores_reshape[select_pa, :][:, select_rads]))"
   ]
  },
  {
   "cell_type": "markdown",
   "id": "1ac955d4",
   "metadata": {},
   "source": [
    "# save score grid "
   ]
  },
  {
   "cell_type": "code",
   "execution_count": null,
   "id": "4ac4c4bf",
   "metadata": {},
   "outputs": [],
   "source": [
    "save_path = os.path.join(PATH, 'results/matched_filter/sparse_grid')\n",
    "save_name = '220211_radial_pitch_angle_matched_filter_score_grid.npz'\n",
    "\n",
    "np.savez(os.path.join(save_path, save_name), scores = sorted_scores_reshape, r = r_grid, pa = pa_grid)"
   ]
  },
  {
   "cell_type": "code",
   "execution_count": null,
   "id": "0c7357ff",
   "metadata": {},
   "outputs": [],
   "source": []
  }
 ],
 "metadata": {
  "kernelspec": {
   "display_name": "Python 3",
   "language": "python",
   "name": "python3"
  },
  "language_info": {
   "codemirror_mode": {
    "name": "ipython",
    "version": 3
   },
   "file_extension": ".py",
   "mimetype": "text/x-python",
   "name": "python",
   "nbconvert_exporter": "python",
   "pygments_lexer": "ipython3",
   "version": "3.8.10"
  }
 },
 "nbformat": 4,
 "nbformat_minor": 5
}
