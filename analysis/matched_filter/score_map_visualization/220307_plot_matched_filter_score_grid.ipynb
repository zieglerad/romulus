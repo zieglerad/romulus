{
 "cells": [
  {
   "cell_type": "code",
   "execution_count": null,
   "id": "03c638d0",
   "metadata": {},
   "outputs": [],
   "source": [
    "import numpy as np\n",
    "import matplotlib.pyplot as plt\n",
    "import seaborn as sns\n",
    "import pathlib\n",
    "\n",
    "scores = pathlib.Path.home()/'group'/'project'/'results'/'matched_filter'/'scores'\\\n",
    "/'220307_0to5cm_84to90deg_8192sample_signal_energy.npz'\n",
    "\n",
    "scores = np.load(scores)"
   ]
  },
  {
   "cell_type": "code",
   "execution_count": null,
   "id": "184a6ee5",
   "metadata": {},
   "outputs": [],
   "source": [
    "for i, key in enumerate(scores): print(key)"
   ]
  },
  {
   "cell_type": "code",
   "execution_count": null,
   "id": "d28c13b5",
   "metadata": {},
   "outputs": [],
   "source": [
    "scores['data'].shape"
   ]
  },
  {
   "cell_type": "code",
   "execution_count": null,
   "id": "1e0f1140",
   "metadata": {},
   "outputs": [],
   "source": [
    "scores['metadata'].shape"
   ]
  },
  {
   "cell_type": "code",
   "execution_count": null,
   "id": "f6b4eaec",
   "metadata": {},
   "outputs": [],
   "source": [
    "r_grid,  pa_grid = np.meshgrid(np.linspace(0, 0.05, 51), np.linspace(84, 90, 121))\n",
    "\n",
    "\n",
    "sorted_scores = np.zeros(r_grid.size)\n",
    "for i, pair in enumerate(zip(r_grid.flatten(), pa_grid.flatten())):\n",
    "    try:\n",
    "        index = np.argwhere(np.logical_and(\n",
    "            scores['metadata'][0, :] == pair[0],\n",
    "            scores['metadata'][1, :] == pair[1],\n",
    "        )).squeeze()\n",
    "        sorted_scores[i] = scores['data'][index]\n",
    "    except:\n",
    "        pass\n",
    "    \n",
    "sorted_scores = sorted_scores.reshape(r_grid.shape)"
   ]
  },
  {
   "cell_type": "code",
   "execution_count": null,
   "id": "22b1a7b5",
   "metadata": {},
   "outputs": [],
   "source": [
    "plt.imshow(\n",
    "    sorted_scores,\n",
    "    aspect='auto', \n",
    "    interpolation='none'\n",
    ")\n",
    "plt.colorbar()"
   ]
  },
  {
   "cell_type": "code",
   "execution_count": null,
   "id": "a5a2c51e",
   "metadata": {},
   "outputs": [],
   "source": []
  }
 ],
 "metadata": {
  "kernelspec": {
   "display_name": "Python 3",
   "language": "python",
   "name": "python3"
  },
  "language_info": {
   "codemirror_mode": {
    "name": "ipython",
    "version": 3
   },
   "file_extension": ".py",
   "mimetype": "text/x-python",
   "name": "python",
   "nbconvert_exporter": "python",
   "pygments_lexer": "ipython3",
   "version": "3.8.10"
  }
 },
 "nbformat": 4,
 "nbformat_minor": 5
}
