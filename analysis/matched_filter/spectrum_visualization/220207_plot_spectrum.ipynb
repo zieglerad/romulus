{
 "cells": [
  {
   "cell_type": "code",
   "execution_count": null,
   "id": "d75bd4d9",
   "metadata": {},
   "outputs": [],
   "source": [
    "import matplotlib.pyplot as plt\n",
    "import seaborn as sns\n",
    "import os\n",
    "import h5py\n",
    "import numpy as np\n",
    "\n",
    "PATH = '/storage/home/adz6/group/project'"
   ]
  },
  {
   "cell_type": "code",
   "execution_count": null,
   "id": "da093d0a",
   "metadata": {},
   "outputs": [],
   "source": [
    "os.listdir(os.path.join(PATH, 'sim_data'))"
   ]
  },
  {
   "cell_type": "code",
   "execution_count": null,
   "id": "83d4f1d2",
   "metadata": {},
   "outputs": [],
   "source": [
    "h5file =  h5py.File(os.path.join(PATH, 'sim_data', '220209_86deg_electron_test.h5'))"
   ]
  },
  {
   "cell_type": "code",
   "execution_count": null,
   "id": "7e500ec8",
   "metadata": {},
   "outputs": [],
   "source": [
    "h5file['signal']['0'].shape"
   ]
  },
  {
   "cell_type": "code",
   "execution_count": null,
   "id": "97a74f71",
   "metadata": {},
   "outputs": [],
   "source": [
    "signal = h5file['signal']['0'][0, :]"
   ]
  },
  {
   "cell_type": "code",
   "execution_count": null,
   "id": "98d65396",
   "metadata": {},
   "outputs": [],
   "source": [
    "sns.set_theme(context='paper', style = 'darkgrid')\n",
    "\n",
    "fig = plt.figure(figsize = (13, 8))\n",
    "ax = fig.add_subplot(1,1,1)\n",
    "\n",
    "ax.plot(abs(np.fft.fftshift(np.fft.fft(signal) / 8192)) ** 2)"
   ]
  },
  {
   "cell_type": "code",
   "execution_count": null,
   "id": "b2e33e72",
   "metadata": {},
   "outputs": [],
   "source": [
    "save_path = os.path.join(PATH, 'plots', 'matched_filter', 'spectrum_visualization')\n",
    "save_name = '220211_example_spectra'\n",
    "\n",
    "sns.set_theme(context='paper', style = 'darkgrid')\n",
    "\n",
    "fig = plt.figure(figsize = (8, 5))\n",
    "ax = fig.add_subplot(1,1,1)\n",
    "frequencies = np.fft.fftshift(np.fft.fftfreq(8192, 1/205e6))\n",
    "for pa in [90, 89, 88,]:\n",
    "    h5file =  h5py.File(os.path.join(PATH, 'sim_data', f'220209_{pa}deg_electron_test.h5'))\n",
    "    \n",
    "    signal = h5file['signal']['0'][0, :]\n",
    "    \n",
    "    ax.plot(frequencies, abs(np.fft.fftshift(np.fft.fft(signal) / 8192)), label = fr'Pitch Angle $\\left(\\theta\\right) = {pa}$ deg')\n",
    "    \n",
    "ax.legend(loc=2)\n",
    "ax.set_ylabel(r'$\\left|V\\right|$ (Volts)')\n",
    "ax.set_xlabel('(Frequency - LO) (Hz)')\n",
    "plt.tight_layout()\n",
    "\n",
    "plt.savefig(os.path.join(save_path, save_name))\n"
   ]
  },
  {
   "cell_type": "code",
   "execution_count": null,
   "id": "ecab9947",
   "metadata": {},
   "outputs": [],
   "source": [
    "\n",
    "\n",
    "pl"
   ]
  },
  {
   "cell_type": "code",
   "execution_count": null,
   "id": "111c887d",
   "metadata": {},
   "outputs": [],
   "source": []
  }
 ],
 "metadata": {
  "kernelspec": {
   "display_name": "Python 3",
   "language": "python",
   "name": "python3"
  },
  "language_info": {
   "codemirror_mode": {
    "name": "ipython",
    "version": 3
   },
   "file_extension": ".py",
   "mimetype": "text/x-python",
   "name": "python",
   "nbconvert_exporter": "python",
   "pygments_lexer": "ipython3",
   "version": "3.8.10"
  }
 },
 "nbformat": 4,
 "nbformat_minor": 5
}
