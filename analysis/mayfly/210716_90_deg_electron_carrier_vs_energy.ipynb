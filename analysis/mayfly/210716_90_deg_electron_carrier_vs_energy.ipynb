{
 "cells": [
  {
   "cell_type": "code",
   "execution_count": null,
   "id": "51141118",
   "metadata": {},
   "outputs": [],
   "source": [
    "import numpy as np\n",
    "import mayfly as mf\n",
    "import h5py\n",
    "import pandas as pf\n",
    "import scipy\n",
    "import matplotlib.pyplot as plt\n",
    "import seaborn as sns\n",
    "import os \n",
    "import sys\n",
    "import json\n",
    "\n",
    "PATH = '/storage/home/adz6/group/project/'\n",
    "RESULTPATH = os.path.join(PATH, 'results/mayfly')\n",
    "PLOTPATH = os.path.join(PATH, 'plots/mayfly')\n",
    "DATAPATH = os.path.join(PATH, 'mayfly/data/datasets')\n",
    "\n"
   ]
  },
  {
   "cell_type": "code",
   "execution_count": null,
   "id": "7e46f1fa",
   "metadata": {},
   "outputs": [],
   "source": [
    "data_name = '210716_90deg_electron_carrier_vs_energy.h5'\n",
    "h5dataset = h5py.File(os.path.join(DATAPATH, data_name), 'r')"
   ]
  },
  {
   "cell_type": "code",
   "execution_count": null,
   "id": "9177c74d",
   "metadata": {},
   "outputs": [],
   "source": [
    "frequencies = np.fft.fftfreq(8192, 1/200e6)"
   ]
  },
  {
   "cell_type": "code",
   "execution_count": null,
   "id": "116431ff",
   "metadata": {},
   "outputs": [],
   "source": [
    "carrier_frequencies = []\n",
    "energies = []\n",
    "\n",
    "for i, item in enumerate(h5dataset['signal']):\n",
    "        carrier_frequencies.append(frequencies[np.argmax(abs(np.fft.fft(np.pad(h5dataset['signal'][item][0, :], (0, 8192-len(h5dataset['signal'][item][0, :]))))))]),\n",
    "        energies.append(h5dataset['signal'][item].attrs['energy'])\n",
    "\n",
    "        #plt.plot(h5dataset['signal'][item][0, :].imag)\n",
    "        \n",
    "        "
   ]
  },
  {
   "cell_type": "code",
   "execution_count": null,
   "id": "b08cab60",
   "metadata": {},
   "outputs": [],
   "source": [
    "sns.set_theme(context='talk', style='whitegrid')\n",
    "\n",
    "fig = plt.figure(figsize=(13,8))\n",
    "ax = fig.add_subplot(1,1,1)\n",
    "\n",
    "ax.plot(energies, np.asarray(carrier_frequencies) * 1e-6)\n",
    "ax.plot(energies, FitFunc(np.array(energies), *popt) * 1e-6)\n",
    "ax.text(18560, 46, f'slope = {np.round(popt[1] * 1e-3, 2)} kHz / eV')\n",
    "\n",
    "def FitFunc(x, a,b):\n",
    "    \n",
    "    return a + b * x\n"
   ]
  },
  {
   "cell_type": "code",
   "execution_count": null,
   "id": "29caf85a",
   "metadata": {},
   "outputs": [],
   "source": [
    "popt, copt = scipy.optimize.curve_fit(FitFunc, energies, carrier_frequencies)"
   ]
  },
  {
   "cell_type": "code",
   "execution_count": null,
   "id": "a62af3b8",
   "metadata": {},
   "outputs": [],
   "source": []
  }
 ],
 "metadata": {
  "kernelspec": {
   "display_name": "Python 3",
   "language": "python",
   "name": "python3"
  },
  "language_info": {
   "codemirror_mode": {
    "name": "ipython",
    "version": 3
   },
   "file_extension": ".py",
   "mimetype": "text/x-python",
   "name": "python",
   "nbconvert_exporter": "python",
   "pygments_lexer": "ipython3",
   "version": "3.8.10"
  }
 },
 "nbformat": 4,
 "nbformat_minor": 5
}
