{
 "cells": [
  {
   "cell_type": "code",
   "execution_count": null,
   "id": "51141118",
   "metadata": {},
   "outputs": [],
   "source": [
    "import numpy as np\n",
    "import mayfly as mf\n",
    "import h5py\n",
    "import pandas as pd\n",
    "import scipy\n",
    "import matplotlib.pyplot as plt\n",
    "import seaborn as sns\n",
    "import os \n",
    "import sys\n",
    "import json\n",
    "import uproot\n",
    "\n",
    "PATH = '/storage/home/adz6/group/project/'\n",
    "RESULTPATH = os.path.join(PATH, 'results/mayfly')\n",
    "PLOTPATH = os.path.join(PATH, 'plots/mayfly')\n",
    "DATAPATH = os.path.join(PATH, 'mayfly/data/datasets')\n",
    "LMCDATAPATH = os.path.join(PATH, 'sim_data/locust')\n",
    "\n",
    "def GetSimulationRootTrackInfo(simulation_result_path_list):\n",
    "\n",
    "    meta_attr_list = []\n",
    "\n",
    "    for i in range(len(simulation_result_path_list)):\n",
    "\n",
    "        for sim in os.listdir(simulation_result_path_list[i]):\n",
    "            if os.path.isdir(os.path.join(simulation_result_path_list[i], sim)):\n",
    "                for file in os.listdir(os.path.join(os.path.join(simulation_result_path_list[i], sim))):\n",
    "                    if file.endswith('.root'):\n",
    "                        \n",
    "                        root_file = uproot.open(os.path.join(simulation_result_path_list[i], sim, file))\n",
    "                        keys_list = list(root_file['component_track_world_DATA;1'].keys())\n",
    "                        root_attr_dict = {}\n",
    "\n",
    "                        for key in keys_list:\n",
    "                            root_attr_dict[key] = root_file['component_track_world_DATA;1'][key].array()[0]\n",
    "                        meta_attr_list.append(root_attr_dict)\n",
    "\n",
    "    metadf = pd.DataFrame(meta_attr_list)\n",
    "    \n",
    "    return metadf\n",
    "\n"
   ]
  },
  {
   "cell_type": "code",
   "execution_count": null,
   "id": "ba604a52",
   "metadata": {},
   "outputs": [],
   "source": [
    "os.listdir(DATAPATH)"
   ]
  },
  {
   "cell_type": "code",
   "execution_count": null,
   "id": "f0e582a8",
   "metadata": {},
   "outputs": [],
   "source": [
    "data_name = '210716_how_does_carrier_change_with_pitch_angle_and_energy.h5'\n",
    "h5dataset = h5py.File(os.path.join(DATAPATH, data_name), 'r')\n",
    "\n",
    "simulation_result_list = os.listdir(LMCDATAPATH)\n",
    "simulation_paths = [os.path.join(LMCDATAPATH, path) for path in simulation_result_list]\n",
    "\n",
    "metadf = GetSimulationRootTrackInfo(simulation_paths)"
   ]
  },
  {
   "cell_type": "code",
   "execution_count": null,
   "id": "bd58548b",
   "metadata": {},
   "outputs": [],
   "source": [
    "metadf.keys()"
   ]
  },
  {
   "cell_type": "code",
   "execution_count": null,
   "id": "e1427d22",
   "metadata": {},
   "outputs": [],
   "source": [
    "\n",
    "pitch_angles = np.linspace(84, 90, 13) \n",
    "energy = 18600\n",
    "\n",
    "fftfreq = np.fft.fftshift(np.fft.fftfreq(8192, 1/200e6))\n",
    "\n",
    "plotdf = metadf[['initial_kinetic_energy', 'final_cyclotron_frequency', 'initial_cyclotron_frequency', 'initial_polar_angle_to_b']]\n",
    "\n",
    "plotdf = plotdf.round(3)\n",
    "for i, angle in enumerate(pitch_angles):\n",
    "    \n",
    "    #if h5dataset['signal'][item].attrs['theta_min'] == pitch_angle:\n",
    "    \n",
    "    signal = \n",
    "    \n",
    "    print(h5dataset['signal'][item].attrs['energy'], h5dataset['signal'][item].attrs['theta_min'])\n",
    "    signal_energy = h5dataset['signal'][item].attrs['energy']\n",
    "    signal_pitch_angle = h5dataset['signal'][item].attrs['theta_min']\n",
    "    lo_freq = h5dataset['signal'][item].attrs['lo-frequency']\n",
    "\n",
    "    initial_cyc_freq = plotdf[(plotdf['initial_kinetic_energy'] == signal_energy) & (plotdf['initial_polar_angle_to_b'] == signal_pitch_angle)]['initial_cyclotron_frequency'].item()\n",
    "    #final_cyc_freq = plotdf[(plotdf['initial_kinetic_energy'] == signal_energy) & (plotdf['initial_polar_angle_to_b'] == signal_pitch_angle)]['final_cyclotron_frequency'].item()\n",
    "\n",
    "    ind_init_cyc_freq = np.argmin(abs(fftfreq - (initial_cyc_freq - lo_freq)))\n",
    "    #ind_final_cyc_freq = np.argmin(abs(fftfreq - (final_cyc_freq - lo_freq)))\n",
    "\n",
    "    #ind_mean_cyc_freq = np.argmin(abs(fftfreq - (np.mean([initial_cyc_freq, final_cyc_freq]) - lo_freq)))\n",
    "\n",
    "    ps = np.fft.fftshift(abs(np.fft.fft(np.pad(h5dataset['signal'][item][0, :], (0, 8192-len(h5dataset['signal'][item][0, :])))))**2)\n",
    "\n",
    "    plt.figure()\n",
    "    plt.plot(ps)\n",
    "    plt.plot(ind_init_cyc_freq, ps[ind_init_cyc_freq], 'r.', markersize=12)\n",
    "    #plt.plot(ind_final_cyc_freq, ps[ind_final_cyc_freq], 'b.', markersize=12)\n",
    "    #plt.plot(ind_mean_cyc_freq, ps[ind_mean_cyc_freq], 'g.', markersize=12)\n",
    "    plt.show()\n",
    "    input()\n",
    "    plt.close()\n",
    "    "
   ]
  },
  {
   "cell_type": "code",
   "execution_count": null,
   "id": "3752af31",
   "metadata": {},
   "outputs": [],
   "source": [
    "(initial_cyc_freq - lo_freq)"
   ]
  },
  {
   "cell_type": "code",
   "execution_count": null,
   "id": "a8bdea3f",
   "metadata": {},
   "outputs": [],
   "source": [
    "np.sin(np.radians(84))"
   ]
  },
  {
   "cell_type": "code",
   "execution_count": null,
   "id": "4632728c",
   "metadata": {},
   "outputs": [],
   "source": []
  },
  {
   "cell_type": "code",
   "execution_count": null,
   "id": "089d11b2",
   "metadata": {},
   "outputs": [],
   "source": []
  },
  {
   "cell_type": "code",
   "execution_count": null,
   "id": "71d1d675",
   "metadata": {},
   "outputs": [],
   "source": []
  },
  {
   "cell_type": "code",
   "execution_count": null,
   "id": "c39f0687",
   "metadata": {},
   "outputs": [],
   "source": []
  },
  {
   "cell_type": "code",
   "execution_count": null,
   "id": "714c2071",
   "metadata": {},
   "outputs": [],
   "source": []
  },
  {
   "cell_type": "code",
   "execution_count": null,
   "id": "c61ed074",
   "metadata": {},
   "outputs": [],
   "source": []
  },
  {
   "cell_type": "code",
   "execution_count": null,
   "id": "0577be8f",
   "metadata": {},
   "outputs": [],
   "source": []
  }
 ],
 "metadata": {
  "kernelspec": {
   "display_name": "Python 3",
   "language": "python",
   "name": "python3"
  },
  "language_info": {
   "codemirror_mode": {
    "name": "ipython",
    "version": 3
   },
   "file_extension": ".py",
   "mimetype": "text/x-python",
   "name": "python",
   "nbconvert_exporter": "python",
   "pygments_lexer": "ipython3",
   "version": "3.8.10"
  }
 },
 "nbformat": 4,
 "nbformat_minor": 5
}
