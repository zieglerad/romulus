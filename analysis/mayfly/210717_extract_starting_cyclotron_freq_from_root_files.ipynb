{
 "cells": [
  {
   "cell_type": "code",
   "execution_count": null,
   "id": "51141118",
   "metadata": {},
   "outputs": [],
   "source": [
    "import numpy as np\n",
    "import mayfly as mf\n",
    "import h5py\n",
    "import pandas as pd\n",
    "import scipy\n",
    "import matplotlib.pyplot as plt\n",
    "import seaborn as sns\n",
    "import os \n",
    "import sys\n",
    "import json\n",
    "import uproot\n",
    "\n",
    "PATH = '/storage/home/adz6/group/project/'\n",
    "RESULTPATH = os.path.join(PATH, 'results/mayfly')\n",
    "PLOTPATH = os.path.join(PATH, 'plots/mayfly')\n",
    "LMCDATAPATH = os.path.join(PATH, 'sim_data/locust')\n",
    "\n",
    "def GetSimulationRootTrackInfo(simulation_result_path_list):\n",
    "\n",
    "    meta_attr_list = []\n",
    "\n",
    "    for i in range(len(simulation_result_path_list)):\n",
    "\n",
    "        for sim in os.listdir(simulation_result_path_list[i]):\n",
    "            if os.path.isdir(os.path.join(simulation_result_path_list[i], sim)):\n",
    "                for file in os.listdir(os.path.join(os.path.join(simulation_result_path_list[i], sim))):\n",
    "                    if file.endswith('.root'):\n",
    "                        \n",
    "                        root_file = uproot.open(os.path.join(simulation_result_path_list[i], sim, file))\n",
    "                        keys_list = list(root_file['component_track_world_DATA;1'].keys())\n",
    "                        root_attr_dict = {}\n",
    "\n",
    "                        for key in keys_list:\n",
    "                            root_attr_dict[key] = root_file['component_track_world_DATA;1'][key].array()[0]\n",
    "                        meta_attr_list.append(root_attr_dict)\n",
    "\n",
    "    metadf = pd.DataFrame(meta_attr_list)\n",
    "    \n",
    "    return metadf\n",
    "\n"
   ]
  },
  {
   "cell_type": "code",
   "execution_count": null,
   "id": "c7cf751d",
   "metadata": {},
   "outputs": [],
   "source": [
    "simulation_result_list = os.listdir(os.path.join(LMCDATAPATH))\n",
    "simulation_result_path_list = [os.path.join(LMCDATAPATH, result) for result in simulation_result_list]"
   ]
  },
  {
   "cell_type": "code",
   "execution_count": null,
   "id": "17a3739c",
   "metadata": {},
   "outputs": [],
   "source": [
    "metadf = GetSimulationRootTrackInfo(simulation_result_path_list)"
   ]
  },
  {
   "cell_type": "code",
   "execution_count": null,
   "id": "0d0e3557",
   "metadata": {},
   "outputs": [],
   "source": [
    "plot_df = metadf[['initial_polar_angle_to_b', 'initial_cyclotron_frequency', 'initial_kinetic_energy' ,'final_cyclotron_frequency']]\n",
    "\n",
    "plot_df = plot_df.round(3)\n",
    "\n",
    "sns.set_theme(style='darkgrid', context='talk')\n",
    "\n",
    "fig = plt.figure(figsize=(13, 8))\n",
    "ax = fig.add_subplot(1,1,1)\n",
    "for angle in plot_df['initial_polar_angle_to_b'].unique():\n",
    "    print(angle)\n",
    "    cyclotron_frequencies_initial = plot_df[plot_df['initial_polar_angle_to_b'] == angle]['initial_cyclotron_frequency'] - 25.9e9\n",
    "    energies = plot_df[plot_df['initial_polar_angle_to_b'] == angle]['initial_kinetic_energy']\n",
    "    cyclotron_frequencies_final = plot_df[plot_df['initial_polar_angle_to_b'] == angle]['final_cyclotron_frequency'] - 25.9e9\n",
    "    #ax.plot(energies, cyclotron_frequencies)\n",
    "    \n",
    "    ax.plot(energies, cyclotron_frequencies_final - cyclotron_frequencies_initial, '.')\n",
    "    \n",
    "#ax.set_xlim(18599, 18600)\n",
    "#ax.set_ylim(2e6, 2.04e6)"
   ]
  },
  {
   "cell_type": "code",
   "execution_count": null,
   "id": "dca873c2",
   "metadata": {},
   "outputs": [],
   "source": [
    "file = os.listdir(os.path.join(LMCDATAPATH, '210715_how_does_carrier_change_pitch_angle_vs_energy_set1', 'sim0'))[1]"
   ]
  },
  {
   "cell_type": "code",
   "execution_count": null,
   "id": "a841094c",
   "metadata": {},
   "outputs": [],
   "source": [
    "root_file = uproot.open(os.path.join(LMCDATAPATH, '210715_how_does_carrier_change_pitch_angle_vs_energy_set1', 'sim0', file))"
   ]
  },
  {
   "cell_type": "code",
   "execution_count": null,
   "id": "2af5587f",
   "metadata": {},
   "outputs": [],
   "source": [
    "for i, item in enumerate(root_file):\n",
    "    print(item)"
   ]
  },
  {
   "cell_type": "code",
   "execution_count": null,
   "id": "367ec60d",
   "metadata": {},
   "outputs": [],
   "source": [
    "root_file['component_step_world_DATA;1']['cyclotron_frequency'].array()[:] - 25.86e9\n",
    "#plt.plot(root_file['component_step_world_DATA;1']['cyclotron_frequency'].array()[:] - 25.86e9)\n",
    "#plt.plot( root_file['component_step_world_DATA;1']['magnetic_field_z'].array()[:])\n",
    "plt.xlim(0, 4096 )\n",
    "\n",
    "print(np.mean(root_file['component_step_world_DATA;1']['cyclotron_frequency'].array()[:]))"
   ]
  },
  {
   "cell_type": "code",
   "execution_count": null,
   "id": "50af3f1a",
   "metadata": {},
   "outputs": [],
   "source": [
    "root_file['component_track_world_DATA;1']['initial_cyclotron_frequency'].array()[:] - 25.86e9"
   ]
  },
  {
   "cell_type": "code",
   "execution_count": null,
   "id": "1c7931e7",
   "metadata": {},
   "outputs": [],
   "source": [
    "root_file['component_track_world_DATA;1'].keys()"
   ]
  },
  {
   "cell_type": "code",
   "execution_count": null,
   "id": "2970fa82",
   "metadata": {},
   "outputs": [],
   "source": [
    "list(root_file['component_track_world_DATA;1'].keys())"
   ]
  },
  {
   "cell_type": "code",
   "execution_count": null,
   "id": "6c873dfc",
   "metadata": {},
   "outputs": [],
   "source": []
  }
 ],
 "metadata": {
  "kernelspec": {
   "display_name": "Python 3",
   "language": "python",
   "name": "python3"
  },
  "language_info": {
   "codemirror_mode": {
    "name": "ipython",
    "version": 3
   },
   "file_extension": ".py",
   "mimetype": "text/x-python",
   "name": "python",
   "nbconvert_exporter": "python",
   "pygments_lexer": "ipython3",
   "version": "3.8.10"
  }
 },
 "nbformat": 4,
 "nbformat_minor": 5
}
