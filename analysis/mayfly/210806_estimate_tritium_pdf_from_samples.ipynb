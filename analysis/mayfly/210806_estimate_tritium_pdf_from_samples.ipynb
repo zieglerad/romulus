{
 "cells": [
  {
   "cell_type": "code",
   "execution_count": null,
   "id": "51141118",
   "metadata": {},
   "outputs": [],
   "source": [
    "import numpy as np\n",
    "import mayfly as mf\n",
    "import h5py\n",
    "import pandas as pf\n",
    "import scipy\n",
    "import matplotlib.pyplot as plt\n",
    "import seaborn as sns\n",
    "import os \n",
    "import sys\n",
    "import json\n",
    "import scipy.signal\n",
    "import scipy.stats\n",
    "import scipy.interpolate\n",
    "import pickle as pkl\n",
    "\n",
    "PATH = '/storage/home/adz6/group/project/'\n",
    "RESULTPATH = os.path.join(PATH, 'results/mayfly')\n",
    "PLOTPATH = os.path.join(PATH, 'plots/mayfly')\n",
    "SIMDATAPATH = os.path.join(PATH, 'sim_data')\n",
    "\n",
    "def SampleFrequenciesFromSpectrum(f_start, fspace, path2tritium, hz_per_ev=49.1e3, bw_ev=100, bins_tritium=201):\n",
    "    \n",
    "    with open(path2tritium, 'rb') as infile:\n",
    "        tritium_data = pkl.load(infile)\n",
    "        \n",
    "    vals, bins = np.histogram(tritium_data, bins_tritium)\n",
    "    \n",
    "    bin_prob = vals / vals.sum()\n",
    "    rel_bin_prob = bin_prob / bin_prob.max()\n",
    "    \n",
    "    bw = abs(hz_per_ev) * bw_ev\n",
    "    f_max = 10e6 + bw\n",
    "    interpolation_frequencies = np.linspace(10e6, f_max, rel_bin_prob.size)\n",
    "    rel_bin_prob_interp = scipy.interpolate.interp1d(interpolation_frequencies, rel_bin_prob, fill_value='extrapolate')\n",
    "    \n",
    "    f_last = f_start\n",
    "    frequency_list = []\n",
    "\n",
    "    while f_last < frequency_max:\n",
    "        frequency_list.append(f_last)\n",
    "        delta_f = freq_spacing_0 / rel_bin_prob_interp(f_last)\n",
    "        f_last += delta_f\n",
    "        \n",
    "    frequency_list = np.array(frequency_list)\n",
    "    \n",
    "    return frequency_list"
   ]
  },
  {
   "cell_type": "code",
   "execution_count": null,
   "id": "380f0e64",
   "metadata": {},
   "outputs": [],
   "source": [
    "tritium_samples = os.path.join(SIMDATAPATH, '210615_tritium_energy_spectrum.pkl')"
   ]
  },
  {
   "cell_type": "code",
   "execution_count": null,
   "id": "3f572eff",
   "metadata": {},
   "outputs": [],
   "source": [
    "N = 8192\n",
    "fs = 200e6\n",
    "freq_spacing_0 = 0.3 * fs / N\n",
    "frequencies = SampleFrequenciesFromSpectrum(10e6, freq_spacing_0, tritium_samples)\n",
    "print(frequencies.shape)"
   ]
  },
  {
   "cell_type": "code",
   "execution_count": null,
   "id": "81653ede",
   "metadata": {},
   "outputs": [],
   "source": [
    "hist = plt.hist(tritium_data, 201)\n",
    "vals, bins = hist[0], hist[1]\n",
    "#print(np.histogram(tritium_data, 201))"
   ]
  },
  {
   "cell_type": "code",
   "execution_count": null,
   "id": "13cae959",
   "metadata": {},
   "outputs": [],
   "source": [
    "#plt.plot(bins[1:], vals / vals.sum(), '.')\n",
    "#plt.yscale('log')\n",
    "bin_prob = vals / vals.sum()\n",
    "relative_bin_prob = bin_prob / bin_prob.max()\n",
    "plt.plot(bins[1:], relative_bin_prob, '.')"
   ]
  },
  {
   "cell_type": "code",
   "execution_count": null,
   "id": "5e9d7a83",
   "metadata": {},
   "outputs": [],
   "source": [
    "hz_per_ev = -49.1e3\n",
    "bw_100ev = abs(hz_per_ev) * 100\n",
    "N = 8192\n",
    "fs = 200e6\n",
    "freq_spacing_0 = 0.3 * fs / N\n",
    "frequency_max = 10e6 + bw_100ev\n",
    "\n",
    "interpolation_frequencies = np.linspace(10e6, frequency_max, relative_bin_prob.size)\n",
    "\n",
    "rel_bin_prob_interp = scipy.interpolate.interp1d(interpolation_frequencies, relative_bin_prob, fill_value='extrapolate')"
   ]
  },
  {
   "cell_type": "code",
   "execution_count": null,
   "id": "7ce32b7f",
   "metadata": {},
   "outputs": [],
   "source": [
    "plot_f = np.linspace(10e6, frequency_max, 1001)\n",
    "plot_prob = rel_bin_prob_interp(plot_f)\n",
    "plt.plot(plot_f, plot_prob)"
   ]
  },
  {
   "cell_type": "code",
   "execution_count": null,
   "id": "17ef083c",
   "metadata": {},
   "outputs": [],
   "source": [
    "f_last = 10e6\n",
    "frequency_list = []\n",
    "\n",
    "while f_last < frequency_max:\n",
    "    frequency_list.append(f_last)\n",
    "    delta_f = freq_spacing_0 / rel_bin_prob_interp(f_last)\n",
    "    f_last += delta_f\n",
    "frequency_list = np.array(frequency_list)   \n"
   ]
  },
  {
   "cell_type": "code",
   "execution_count": null,
   "id": "d6716514",
   "metadata": {},
   "outputs": [],
   "source": [
    "plt.plot(frequency_list, frequency_list, '.')\n",
    "\n",
    "print(frequency_list.shape)"
   ]
  },
  {
   "cell_type": "code",
   "execution_count": null,
   "id": "f4d1afde",
   "metadata": {},
   "outputs": [],
   "source": []
  },
  {
   "cell_type": "code",
   "execution_count": null,
   "id": "563c7187",
   "metadata": {},
   "outputs": [],
   "source": [
    "plt.plot( 1/relative_bin_prob, '.')\n",
    "plt.yscale('log')\n",
    "inverse_rel_bin_prob = 1 / relative_bin_prob"
   ]
  },
  {
   "cell_type": "code",
   "execution_count": null,
   "id": "262245eb",
   "metadata": {},
   "outputs": [],
   "source": []
  },
  {
   "cell_type": "code",
   "execution_count": null,
   "id": "b887c3ea",
   "metadata": {},
   "outputs": [],
   "source": [
    "plt.plot(inverse_rel_bin_prob, inverse_rel_bin_prob, '.')"
   ]
  },
  {
   "cell_type": "code",
   "execution_count": null,
   "id": "93a500e5",
   "metadata": {},
   "outputs": [],
   "source": [
    "plt.plot(inverse_rel_bin_prob[np.arange(0, 2020, 20)] * 100/inverse_rel_bin_prob[np.arange(0, 2020, 20)][-1], inverse_rel_bin_prob[np.arange(0, 2020, 20)], '.')\n",
    "plt.xscale('log')"
   ]
  },
  {
   "cell_type": "code",
   "execution_count": null,
   "id": "4837e240",
   "metadata": {},
   "outputs": [],
   "source": [
    "interpolation_f = scipy.interpolate.interp1d(bins[1:], vals / vals.sum()/0.004, fill_value='extrapolate')"
   ]
  },
  {
   "cell_type": "code",
   "execution_count": null,
   "id": "1e18d07e",
   "metadata": {},
   "outputs": [],
   "source": [
    "energy_interpolate = np.linspace(18500, 18600, 1001)\n",
    "pdf_interpolate = interpolation_f(energy_interpolate)"
   ]
  },
  {
   "cell_type": "code",
   "execution_count": null,
   "id": "dd829c8b",
   "metadata": {},
   "outputs": [],
   "source": [
    "plt.plot(energy_interpolate, 1/pdf_interpolate)\n",
    "plt.yscale('log')"
   ]
  },
  {
   "cell_type": "code",
   "execution_count": null,
   "id": "75483046",
   "metadata": {},
   "outputs": [],
   "source": []
  },
  {
   "cell_type": "code",
   "execution_count": null,
   "id": "a000de6e",
   "metadata": {},
   "outputs": [],
   "source": [
    "np.logspace(pdf_interpolate[0], pdf_interpolate[-2])"
   ]
  },
  {
   "cell_type": "code",
   "execution_count": null,
   "id": "188f2308",
   "metadata": {},
   "outputs": [],
   "source": [
    "plt.plot(np.logspace(pdf_interpolate[0], pdf_interpolate[-2]), '.')"
   ]
  },
  {
   "cell_type": "code",
   "execution_count": null,
   "id": "7f195d9f",
   "metadata": {},
   "outputs": [],
   "source": [
    "plt.hist(np.int32(tritium_data), 100)"
   ]
  },
  {
   "cell_type": "code",
   "execution_count": null,
   "id": "c6bb0199",
   "metadata": {},
   "outputs": [],
   "source": []
  },
  {
   "cell_type": "code",
   "execution_count": null,
   "id": "928e0a91",
   "metadata": {},
   "outputs": [],
   "source": []
  }
 ],
 "metadata": {
  "kernelspec": {
   "display_name": "Python 3",
   "language": "python",
   "name": "python3"
  },
  "language_info": {
   "codemirror_mode": {
    "name": "ipython",
    "version": 3
   },
   "file_extension": ".py",
   "mimetype": "text/x-python",
   "name": "python",
   "nbconvert_exporter": "python",
   "pygments_lexer": "ipython3",
   "version": "3.8.10"
  }
 },
 "nbformat": 4,
 "nbformat_minor": 5
}
