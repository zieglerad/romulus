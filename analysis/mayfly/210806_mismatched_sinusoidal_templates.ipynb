{
 "cells": [
  {
   "cell_type": "code",
   "execution_count": null,
   "id": "51141118",
   "metadata": {},
   "outputs": [],
   "source": [
    "import numpy as np\n",
    "import mayfly as mf\n",
    "import h5py\n",
    "import pandas as pf\n",
    "import scipy\n",
    "import matplotlib.pyplot as plt\n",
    "import seaborn as sns\n",
    "import os \n",
    "import sys\n",
    "import json\n",
    "import scipy.signal\n",
    "import scipy.stats\n",
    "import scipy.interpolate\n",
    "import pickle as pkl\n",
    "\n",
    "PATH = '/storage/home/adz6/group/project/'\n",
    "RESULTPATH = os.path.join(PATH, 'results/mayfly')\n",
    "PLOTPATH = os.path.join(PATH, 'plots/mayfly')\n",
    "SIMDATAPATH = os.path.join(PATH, 'sim_data')\n",
    "\n",
    "def TemplateFrequenciesFromSpectrum(f_start, fspace, path2tritium, hz_per_ev=49.1e3, bw_ev=100, bins_tritium=201, power=0.7):\n",
    "    \n",
    "    with open(path2tritium, 'rb') as infile:\n",
    "        tritium_data = pkl.load(infile)\n",
    "        \n",
    "    vals, bins = np.histogram(tritium_data, bins_tritium)\n",
    "    \n",
    "    bin_prob = vals / vals.sum()\n",
    "    rel_bin_prob = bin_prob / bin_prob.max()\n",
    "    \n",
    "    bw = abs(hz_per_ev) * bw_ev\n",
    "    f_max = f_start + bw\n",
    "    interpolation_frequencies = np.linspace(f_start, f_max, rel_bin_prob.size)\n",
    "    rel_bin_prob_interp = scipy.interpolate.interp1d(interpolation_frequencies, rel_bin_prob, fill_value='extrapolate')\n",
    "    \n",
    "    f_last = f_start\n",
    "    frequency_list = []\n",
    "\n",
    "    while f_last < f_max:\n",
    "        frequency_list.append(f_last)\n",
    "        delta_f =  fspace / rel_bin_prob_interp(f_last) ** power\n",
    "        f_last += delta_f\n",
    "        \n",
    "    frequency_list = np.array(frequency_list)\n",
    "    \n",
    "    return frequency_list\n",
    "\n",
    "def RNGFrequenciesFromSpectrum(f_start, f_end, N, path2tritium):\n",
    "    with open(path2tritium, 'rb') as infile:\n",
    "        tritium_data = pkl.load(infile)\n",
    "        \n",
    "    #vals, bins = np.histogram(tritium_data, bins_tritium)\n",
    "    \n",
    "    norm_tritium_data = (tritium_data - np.min(tritium_data)) / (np.max(tritium_data) - np.min(tritium_data))\n",
    "    \n",
    "    rng = np.random.default_rng()\n",
    "    \n",
    "    rng_frequencies = f_start + (f_end - f_start) * norm_tritium_data[rng.integers(0, norm_tritium_data.size, N)]\n",
    "    \n",
    "    return rng_frequencies\n",
    "\n",
    "def CalcMatch(template_f, rng_f, t):\n",
    "    \n",
    "    templates = np.zeros((template_f.size, t.size), dtype=np.complex64)\n",
    "    \n",
    "    for n in range(template_f.size):\n",
    "        templates[n, :] = np.exp(1j * 2 * np.pi * template_f[n] * t)\n",
    "        \n",
    "    signals = np.zeros((rng_f.size, t.size), dtype=np.complex64)\n",
    "    \n",
    "    for n in range(rng_f.size):\n",
    "        \n",
    "        signals[n, :] = np.exp(1j * 2 * np.pi * rng_f[n] * t)\n",
    "        \n",
    "    match = abs(np.matmul(templates, signals.conjugate().T))\n",
    "    \n",
    "    return match\n",
    "    "
   ]
  },
  {
   "cell_type": "code",
   "execution_count": null,
   "id": "3107f93e",
   "metadata": {},
   "outputs": [],
   "source": [
    "tritium_samples = os.path.join(SIMDATAPATH, '210615_tritium_energy_spectrum.pkl')\n",
    "\n",
    "N = 8192\n",
    "fs = 200e6\n",
    "freq_spacing_0 = 1 * fs / N\n",
    "f_start = 10e6\n",
    "n_rng = 2000\n",
    "t = np.arange(0, N, 1) * 1 / fs\n",
    "\n",
    "template_f = TemplateFrequenciesFromSpectrum(f_start, freq_spacing_0, tritium_samples, power=0.5)\n",
    "print(template_f.shape)\n",
    "rng_f = RNGFrequenciesFromSpectrum(f_start, template_f[-1], n_rng, tritium_samples)\n",
    "#print(rng_f[0:10])"
   ]
  },
  {
   "cell_type": "code",
   "execution_count": null,
   "id": "8f3de804",
   "metadata": {},
   "outputs": [],
   "source": [
    "matches = CalcMatch(template_f, rng_f, t)\n",
    "ideal_matches = np.diag(CalcMatch(rng_f, rng_f, t))"
   ]
  },
  {
   "cell_type": "code",
   "execution_count": null,
   "id": "4a46b163",
   "metadata": {},
   "outputs": [],
   "source": [
    "with open(tritium_samples, 'rb') as infile:\n",
    "    tritium_data = pkl.load(infile)\n",
    "    \n",
    "tritium_data = np.array(tritium_data)\n",
    "rng = np.random.default_rng()\n",
    "nsample = 2000\n",
    "rng_tritium_energy = tritium_data[rng.integers(0, tritium_data.size, nsample)]\n",
    "\n",
    "sns.set_theme(context='talk', style='whitegrid')\n",
    "fig = plt.figure(figsize=(8,5))\n",
    "ax = fig.add_subplot(1,1,1)\n",
    "\n",
    "\n",
    "hist = ax.hist(rng_tritium_energy, 64)\n",
    "#hist = ax.hist(18500 + rng_f / (49.1e3 * (rng_f.max() - rng_f.min())), 64)\n",
    "ax.set_xlabel('Energy (eV)')\n",
    "ax.set_ylabel('N')\n",
    "ax.set_title('Tritium Energy Spectrum Samples')\n",
    "plt.tight_layout()\n",
    "plt.savefig(os.path.join(PLOTPATH, '210810_dummy_energy_tritium_spectrum'))"
   ]
  },
  {
   "cell_type": "code",
   "execution_count": null,
   "id": "294f557d",
   "metadata": {},
   "outputs": [],
   "source": [
    "plt.plot(template_f, template_f, '.')\n",
    "#plt.yscale('log')"
   ]
  },
  {
   "cell_type": "code",
   "execution_count": null,
   "id": "c242c2ca",
   "metadata": {},
   "outputs": [],
   "source": [
    "hist = plt.hist(matches.max(axis=0) / ideal_matches, 64)"
   ]
  },
  {
   "cell_type": "code",
   "execution_count": null,
   "id": "cb8c4f93",
   "metadata": {},
   "outputs": [],
   "source": [
    "match_ratio = matches.max(axis=0) / ideal_matches\n",
    "\n",
    "print(np.mean(match_ratio))"
   ]
  },
  {
   "cell_type": "markdown",
   "id": "2b7d63e2",
   "metadata": {},
   "source": [
    "# use tritium spectrum shape to pick templates and signals"
   ]
  },
  {
   "cell_type": "code",
   "execution_count": null,
   "id": "3ed4b450",
   "metadata": {},
   "outputs": [],
   "source": [
    "freq_spacing_ratios = np.linspace(0.1, 1.5, 21)\n",
    "powers = np.arange(2, 11, 1) / 10\n",
    "\n",
    "\n",
    "match_ratio_matrix = np.zeros((powers.size, freq_spacing_ratios.size))\n",
    "\n",
    "for i, power in enumerate(powers):\n",
    "    for j, ratio in enumerate(freq_spacing_ratios):\n",
    "        print(i, j)\n",
    "        N = 8192\n",
    "        fs = 200e6\n",
    "        freq_spacing_0 = ratio * fs / N\n",
    "        f_start = 10e6\n",
    "        n_rng = 2000\n",
    "        t = np.arange(0, N, 1) * 1 / fs\n",
    "        \n",
    "        template_f = TemplateFrequenciesFromSpectrum(f_start, freq_spacing_0, tritium_samples, power=power)\n",
    "        #print(template_f.shape)\n",
    "        rng_f = RNGFrequenciesFromSpectrum(f_start, template_f[-1], n_rng, tritium_samples)\n",
    "        matches = CalcMatch(template_f, rng_f, t)\n",
    "        ideal_matches = np.diag(CalcMatch(rng_f, rng_f, t))\n",
    "        \n",
    "        \n",
    "        match_ratio_matrix[i, j] = np.mean(matches.max(axis=0) / ideal_matches)"
   ]
  },
  {
   "cell_type": "code",
   "execution_count": null,
   "id": "9e6002f1",
   "metadata": {},
   "outputs": [],
   "source": [
    "freq_spacing_ratios = np.linspace(0.1, 1.5, 21)\n",
    "powers = np.arange(2, 11, 1) / 10\n",
    "\n",
    "\n",
    "template_number = np.zeros((powers.size, freq_spacing_ratios.size))\n",
    "\n",
    "for i, power in enumerate(powers):\n",
    "    for j, ratio in enumerate(freq_spacing_ratios):\n",
    "        print(i, j)\n",
    "        N = 8192\n",
    "        fs = 200e6\n",
    "        freq_spacing_0 = ratio * fs / N\n",
    "        f_start = 10e6\n",
    "        n_rng = 2000\n",
    "        t = np.arange(0, N, 1) * 1 / fs\n",
    "        \n",
    "        template_f = TemplateFrequenciesFromSpectrum(f_start, freq_spacing_0, tritium_samples, power=power)\n",
    "        #print(template_f.shape)\n",
    "        template_number[i, j] = template_f.size"
   ]
  },
  {
   "cell_type": "code",
   "execution_count": null,
   "id": "e240c75d",
   "metadata": {},
   "outputs": [],
   "source": [
    "for i in range(match_ratio_matrix.shape[0]):\n",
    "    \n",
    "    plt.plot(freq_spacing_ratios, match_ratio_matrix[i, :],  '.', label = powers[i],)\n",
    "plt.legend(loc=3)"
   ]
  },
  {
   "cell_type": "code",
   "execution_count": null,
   "id": "ba24ef9e",
   "metadata": {},
   "outputs": [],
   "source": [
    "for i in range(match_ratio_matrix.shape[0]):\n",
    "    \n",
    "    plt.plot(freq_spacing_ratios, match_ratio_matrix[i, :], '.', label = powers[i],)\n",
    "plt.legend(loc=3)\n",
    "plt.xlim(0.1, 0.5)\n",
    "plt.ylim(0.8, 1.0)"
   ]
  },
  {
   "cell_type": "code",
   "execution_count": null,
   "id": "e9a06c71",
   "metadata": {},
   "outputs": [],
   "source": [
    "for i in range(template_number.shape[0]):\n",
    "    plt.plot(freq_spacing_ratios, template_number[i, :], label=powers[i])\n",
    "plt.legend(loc=1)"
   ]
  },
  {
   "cell_type": "markdown",
   "id": "b7cf063d",
   "metadata": {},
   "source": [
    "# uniform templates and trtitium spectrum frequencies"
   ]
  },
  {
   "cell_type": "code",
   "execution_count": null,
   "id": "083c92d4",
   "metadata": {},
   "outputs": [],
   "source": [
    "freq_spacing_ratios = np.linspace(0.1, 1.5, 21)\n",
    "powers = np.arange(2, 11, 1) / 10\n",
    "\n",
    "\n",
    "match_ratio_matrix_uniform = np.zeros((freq_spacing_ratios.size))\n",
    "\n",
    "#for i, power in enumerate(powers):\n",
    "for j, ratio in enumerate(freq_spacing_ratios):\n",
    "    print(i, j)\n",
    "    N = 8192\n",
    "    fs = 200e6\n",
    "    hz_per_ev=49.1e3\n",
    "    bw_ev=100\n",
    "    freq_spacing_0 = ratio * fs / N\n",
    "    f_start = 10e6\n",
    "    f_max = f_start + hz_per_ev * bw_ev\n",
    "    n_rng = 2000\n",
    "    t = np.arange(0, N, 1) * 1 / fs\n",
    "\n",
    "    #template_f = TemplateFrequenciesFromSpectrum(f_start, freq_spacing_0, tritium_samples, power=power)\n",
    "    template_f = np.arange(f_start, f_max + freq_spacing_0, freq_spacing_0)\n",
    "    #print(template_f.shape)\n",
    "    rng_f = RNGFrequenciesFromSpectrum(f_start, template_f[-1], n_rng, tritium_samples)\n",
    "    matches = CalcMatch(template_f, rng_f, t)\n",
    "    ideal_matches = np.diag(CalcMatch(rng_f, rng_f, t))\n",
    "\n",
    "\n",
    "    match_ratio_matrix_uniform[j] = np.mean(matches.max(axis=0) / ideal_matches)"
   ]
  },
  {
   "cell_type": "code",
   "execution_count": null,
   "id": "ab56eba3",
   "metadata": {},
   "outputs": [],
   "source": [
    "\n",
    "plt.plot(freq_spacing_ratios, match_ratio_matrix_uniform,  '.', label = powers[i],)\n",
    "plt.legend(loc=3)"
   ]
  },
  {
   "cell_type": "code",
   "execution_count": null,
   "id": "41f6da54",
   "metadata": {},
   "outputs": [],
   "source": [
    "template_number_uniform = np.zeros((freq_spacing_ratios.size))\n",
    "\n",
    "\n",
    "for j, ratio in enumerate(freq_spacing_ratios):\n",
    "    print(i, j)\n",
    "    N = 8192\n",
    "    fs = 200e6\n",
    "    freq_spacing_0 = ratio * fs / N\n",
    "    f_start = 10e6\n",
    "    f_max = f_start + hz_per_ev * bw_ev\n",
    "    n_rng = 2000\n",
    "    t = np.arange(0, N, 1) * 1 / fs\n",
    "\n",
    "    #template_f = TemplateFrequenciesFromSpectrum(f_start, freq_spacing_0, tritium_samples, power=power)\n",
    "    template_f = np.arange(f_start, f_max + freq_spacing_0, freq_spacing_0)\n",
    "    #print(template_f.shape)\n",
    "    template_number_uniform[j] = template_f.size"
   ]
  },
  {
   "cell_type": "code",
   "execution_count": null,
   "id": "736ddb71",
   "metadata": {},
   "outputs": [],
   "source": [
    "\n",
    "plt.plot(freq_spacing_ratios, template_number_uniform,  '.', label = powers[i],)\n",
    "plt.legend(loc=3)"
   ]
  },
  {
   "cell_type": "markdown",
   "id": "8501d3d5",
   "metadata": {},
   "source": [
    "# compare uniform spacing and variable spacing curves"
   ]
  },
  {
   "cell_type": "code",
   "execution_count": null,
   "id": "c3be8952",
   "metadata": {},
   "outputs": [],
   "source": [
    "plt.figure()\n",
    "for i in range(match_ratio_matrix.shape[0]):\n",
    "    \n",
    "    plt.plot(freq_spacing_ratios, match_ratio_matrix[i, :],  '.', label = powers[i],)\n",
    "\n",
    "\n",
    "plt.plot(freq_spacing_ratios, match_ratio_matrix_uniform,  '.', label = 'uniform',)\n",
    "plt.legend(loc=3)\n",
    "plt.xlim(0.1, 0.4)\n",
    "plt.ylim(0.8, 1.1)\n",
    "plt.figure()\n",
    "for i in range(template_number.shape[0]):\n",
    "    plt.plot(freq_spacing_ratios, template_number[i, :], label=powers[i])\n",
    "\n",
    "\n",
    "plt.plot(freq_spacing_ratios, template_number_uniform, label = 'uniform',)\n",
    "plt.legend(loc=1)\n",
    "\n",
    "plt.xlim(0.1, 0.4)"
   ]
  },
  {
   "cell_type": "markdown",
   "id": "09b10a10",
   "metadata": {},
   "source": [
    "# find optimum"
   ]
  },
  {
   "cell_type": "code",
   "execution_count": null,
   "id": "6f4bdc85",
   "metadata": {},
   "outputs": [],
   "source": [
    "combined_match_matrix = np.zeros((10, 21))\n",
    "combined_match_matrix[0, :] = match_ratio_matrix_uniform\n",
    "combined_match_matrix[1:, :] = match_ratio_matrix\n",
    "\n",
    "combined_template_number = np.zeros((10, 21))\n",
    "combined_template_number[0, :] = template_number_uniform\n",
    "combined_template_number[1:, :] = template_number"
   ]
  },
  {
   "cell_type": "code",
   "execution_count": null,
   "id": "6a1bbd9d",
   "metadata": {},
   "outputs": [],
   "source": [
    "plt.imshow(combined_match_matrix, interpolation='none', aspect='auto')\n",
    "plt.colorbar()"
   ]
  },
  {
   "cell_type": "code",
   "execution_count": null,
   "id": "cd44762b",
   "metadata": {},
   "outputs": [],
   "source": [
    "gamma = 0.90\n",
    "x_pts = np.argwhere(combined_match_matrix >= gamma)[:, 0]\n",
    "y_pts = np.argwhere(combined_match_matrix >= gamma)[:, 1]\n",
    "\n",
    "print(np.argmin(combined_template_number[x_pts, y_pts]))\n",
    "print(x_pts[np.argmin(combined_template_number[x_pts, y_pts])], y_pts[np.argmin(combined_template_number[x_pts, y_pts])])\n",
    "print(np.min(combined_template_number[x_pts, y_pts]))"
   ]
  },
  {
   "cell_type": "code",
   "execution_count": null,
   "id": "d492dae5",
   "metadata": {},
   "outputs": [],
   "source": [
    "sns.set_theme(context='talk', style='ticks')\n",
    "cmap = sns.color_palette('mako', as_cmap=True)\n",
    "fig = plt.figure(figsize=(8,5))\n",
    "ax = fig.add_subplot(1,1,1)\n",
    "\n",
    "img = ax.imshow(combined_match_matrix, interpolation='none', aspect='auto', cmap=cmap, extent = (0.1, 1.5, 1.1, 0.1))\n",
    "ax.plot(freq_spacing_ratios[x_pts[np.argmin(combined_template_number[x_pts, y_pts])]-1], powers[y_pts[np.argmin(combined_template_number[x_pts, y_pts])]-1], 'r*', markersize=16)\n",
    "plt.colorbar(img,label=r'Match Ratio ($\\Gamma$)')\n",
    "\n",
    "ax.set_xlabel('R')\n",
    "ax.set_ylabel(r'$\\alpha$')\n",
    "ax.set_title('Match Ratio for Template Positioning Functions')\n",
    "ax.text(0.4, 0.8, rf'Best N for $\\Gamma \\geq {gamma}$ = {int(np.min(combined_template_number[x_pts, y_pts]))}', color='w')\n",
    "\n",
    "plt.tight_layout()\n",
    "plt.savefig(os.path.join(PLOTPATH, f'210809_match_ratio_gamma{gamma}.png'))"
   ]
  },
  {
   "cell_type": "code",
   "execution_count": null,
   "id": "b9604207",
   "metadata": {},
   "outputs": [],
   "source": [
    "sns.set_theme(context='talk', style='ticks')\n",
    "cmap = sns.color_palette('mako', as_cmap=True)\n",
    "fig = plt.figure(figsize=(8,5))\n",
    "ax = fig.add_subplot(1,1,1)\n",
    "\n",
    "\n",
    "img = ax.imshow(np.log10(combined_template_number), interpolation='none', aspect='auto', cmap=cmap, extent = (0.1, 1.5, 1.1, 0.1))\n",
    "ax.plot(freq_spacing_ratios[x_pts[np.argmin(combined_template_number[x_pts, y_pts])]-1], powers[y_pts[np.argmin(combined_template_number[x_pts, y_pts])]-1], 'r*')\n",
    "plt.colorbar(img, label=r'Log$_{10}(N)$')\n",
    "\n",
    "ax.set_xlabel('R')\n",
    "ax.set_ylabel(r'$\\alpha$')\n",
    "ax.set_title('Template Number for Positioning Functions')"
   ]
  },
  {
   "cell_type": "markdown",
   "id": "3423cdb0",
   "metadata": {},
   "source": [
    "# plot best N as we decrease match ratio"
   ]
  },
  {
   "cell_type": "code",
   "execution_count": null,
   "id": "f1f0d4f2",
   "metadata": {},
   "outputs": [],
   "source": [
    "gamma_array = np.linspace(0.99, 0.7, 25)\n",
    "opt_N = np.zeros(25)\n",
    "for i, gamma in enumerate(gamma_array):\n",
    "    x_pts = np.argwhere(combined_match_matrix >= gamma)[:, 0]\n",
    "    y_pts = np.argwhere(combined_match_matrix >= gamma)[:, 1]\n",
    "    opt_N[i] = np.min(combined_template_number[x_pts, y_pts])\n",
    "    \n",
    "sns.set_theme(context='talk', style='whitegrid')\n",
    "fig = plt.figure(figsize=(8,5))\n",
    "ax = fig.add_subplot(1,1,1)\n",
    "\n",
    "ax.plot(gamma_array, opt_N,)\n",
    "#ax.set_yscale('log')\n",
    "ax.set_title('Minimum Template Number to Achieve Mean Match Ratio')\n",
    "ax.set_xlabel(r'Match Ratio ($\\Gamma$)')\n",
    "ax.set_ylabel('Template Number')\n",
    "\n",
    "plt.tight_layout()\n",
    "plt.savefig(os.path.join(PLOTPATH, '210809_min_templates_vs_mean_match.png'))"
   ]
  },
  {
   "cell_type": "markdown",
   "id": "3735fbdd",
   "metadata": {},
   "source": [
    "# uniform templates and uniform signals"
   ]
  },
  {
   "cell_type": "code",
   "execution_count": null,
   "id": "c5c9310b",
   "metadata": {},
   "outputs": [],
   "source": [
    "fs = 200e6\n",
    "N = 8192\n",
    "freq_spacing = fs/N\n",
    "f1 = 10e6\n",
    "f2 = 10e6 + freq_spacing * 1\n",
    "\n",
    "prod1 = np.zeros(N)\n",
    "for nsamp in np.arange(0, N, 1):\n",
    "    \n",
    "    t = np.arange(0, nsamp, 1) / fs\n",
    "\n",
    "    x1_real = np.cos(2*np.pi*f1*t)\n",
    "    x2_real = np.cos(2*np.pi*f2*t)\n",
    "\n",
    "    prod1[nsamp] = abs(np.dot(x1_real, x2_real))\n",
    "    \n",
    "prod2 = np.zeros(N)\n",
    "for nsamp in np.arange(0, N, 1):\n",
    "    \n",
    "    t = np.arange(0, nsamp, 1) / fs\n",
    "\n",
    "    x1_real = np.cos(2*np.pi*f2*t)\n",
    "    x2_real = np.cos(2*np.pi*f2*t)\n",
    "\n",
    "    prod2[nsamp] = abs(np.dot(x1_real, x2_real))"
   ]
  },
  {
   "cell_type": "code",
   "execution_count": null,
   "id": "b18e46be",
   "metadata": {},
   "outputs": [],
   "source": [
    "plt.plot(prod2)\n",
    "plt.plot(prod1)"
   ]
  },
  {
   "cell_type": "code",
   "execution_count": null,
   "id": "44112f9b",
   "metadata": {},
   "outputs": [],
   "source": [
    "plt.plot(prod1 / prod2)"
   ]
  },
  {
   "cell_type": "code",
   "execution_count": null,
   "id": "3856715e",
   "metadata": {},
   "outputs": [],
   "source": [
    "N = 8192\n",
    "fs = 200e6\n",
    "N_freq = 101\n",
    "f1 = 10e6 + np.linspace(0, 0.5, N_freq) * fs/N\n",
    "f2 = 10e6\n",
    "t = np.arange(0, N, 1) / fs\n",
    "\n",
    "\n",
    "prod3 = np.zeros(N_freq)\n",
    "\n",
    "for i, frequency in enumerate(f1):\n",
    "    \n",
    "    x1_real = np.cos(2*np.pi*frequency*t)\n",
    "    x2_real = np.cos(2*np.pi*f2*t)\n",
    "\n",
    "    prod3[i] = abs(np.dot(x1_real, x2_real)) / abs(np.dot(x2_real, x2_real))\n",
    "    \n",
    "    \n",
    "    "
   ]
  },
  {
   "cell_type": "code",
   "execution_count": null,
   "id": "1719115a",
   "metadata": {},
   "outputs": [],
   "source": [
    "plt.plot(np.linspace(0, 0.5, N_freq), prod3, '.')\n",
    "#plt.xlim(0, 0.25)\n",
    "#plt.ylim(0.6, 1.0)"
   ]
  },
  {
   "cell_type": "code",
   "execution_count": null,
   "id": "36ea0ee4",
   "metadata": {},
   "outputs": [],
   "source": [
    "print(prod3[60], np.linspace(0, 0.5, N_freq)[60])"
   ]
  },
  {
   "cell_type": "code",
   "execution_count": null,
   "id": "beb8a5e0",
   "metadata": {},
   "outputs": [],
   "source": [
    "# FWHM of frequency peak is 0.6 * fs /N"
   ]
  },
  {
   "cell_type": "code",
   "execution_count": null,
   "id": "9cb23050",
   "metadata": {},
   "outputs": [],
   "source": [
    "N = 8192\n",
    "fs = 200e6\n",
    "print(f'FWHM = {0.6 * fs / N}')\n",
    "FWHM = .2 * fs / N"
   ]
  },
  {
   "cell_type": "code",
   "execution_count": null,
   "id": "523c97e0",
   "metadata": {},
   "outputs": [],
   "source": [
    "hz_per_ev = -49.1e3\n",
    "bw_100ev = abs(hz_per_ev) * 100\n",
    "print(f'100 eV BW = {bw_100ev * 1e-6} MHz')\n",
    "print(f'100 eV BW = {np.int32(bw_100ev / FWHM)} FWHM')"
   ]
  },
  {
   "cell_type": "code",
   "execution_count": null,
   "id": "eca21d9f",
   "metadata": {},
   "outputs": [],
   "source": [
    "n_fwhm = np.int32(bw_100ev / FWHM)\n",
    "template_frequencies = np.arange(0, n_fwhm, 1) * FWHM + 10e6\n",
    "\n",
    "templates = np.zeros((n_fwhm, t.size), dtype=np.complex64)\n",
    "\n",
    "for n in range(n_fwhm):\n",
    "    templates[n, :] = np.exp(1j*2*np.pi*template_frequencies[n]*t)\n",
    "\n"
   ]
  },
  {
   "cell_type": "code",
   "execution_count": null,
   "id": "3c6b0c50",
   "metadata": {},
   "outputs": [],
   "source": [
    "rng=np.random.default_rng()"
   ]
  },
  {
   "cell_type": "code",
   "execution_count": null,
   "id": "49e16349",
   "metadata": {},
   "outputs": [],
   "source": [
    "rng_frequencies = rng.uniform(template_frequencies[0], template_frequencies[-1], 2000)"
   ]
  },
  {
   "cell_type": "code",
   "execution_count": null,
   "id": "433d7ffc",
   "metadata": {},
   "outputs": [],
   "source": [
    "signals = np.zeros((rng_frequencies.size, t.size), dtype=np.complex64)\n",
    "\n",
    "for n, f in enumerate(rng_frequencies):\n",
    "    signals[n, :] = np.exp(1j*2*np.pi*rng_frequencies[n]*t)"
   ]
  },
  {
   "cell_type": "code",
   "execution_count": null,
   "id": "74fc403d",
   "metadata": {},
   "outputs": [],
   "source": [
    "scores = abs(np.matmul(templates, signals.conjugate().T))\n",
    "ideal_scores = np.diag(abs(np.matmul(signals, signals.conjugate().T)))"
   ]
  },
  {
   "cell_type": "code",
   "execution_count": null,
   "id": "2d73d163",
   "metadata": {},
   "outputs": [],
   "source": [
    "best_template_scores = scores.max(axis=0)"
   ]
  },
  {
   "cell_type": "code",
   "execution_count": null,
   "id": "102b518e",
   "metadata": {},
   "outputs": [],
   "source": [
    "hist = plt.hist(best_template_scores/ideal_scores, 64)\n",
    "plt.vlines(np.mean(best_template_scores/ideal_scores), 0, 50, 'r')\n",
    "print(np.mean(best_template_scores/ideal_scores))\n",
    "#plt.xscale('log')"
   ]
  },
  {
   "cell_type": "code",
   "execution_count": null,
   "id": "879930a8",
   "metadata": {},
   "outputs": [],
   "source": [
    "# calculate mean mismatch as a function of the spacing of templates in frequency using units of fs / N"
   ]
  },
  {
   "cell_type": "code",
   "execution_count": null,
   "id": "8596ed83",
   "metadata": {},
   "outputs": [],
   "source": [
    "n_spacings = 31\n",
    "\n",
    "frequency_spacing = np.linspace(0.2, 3, n_spacings) * fs / N\n",
    "mean_match = np.zeros(n_spacings)\n",
    "for i, spacing in enumerate(frequency_spacing):\n",
    "    if i % 5 == 4:\n",
    "        print(i + 1)\n",
    "    n_spacing = np.int32(bw_100ev / spacing)\n",
    "    template_frequencies = np.arange(0, n_spacing, 1) * spacing + 10e6\n",
    "\n",
    "    templates = np.zeros((n_spacing, t.size), dtype=np.complex64)\n",
    "\n",
    "    for n in range(n_spacing):\n",
    "        templates[n, :] = np.exp(1j*2*np.pi*template_frequencies[n]*t)\n",
    "        \n",
    "    rng_frequencies = rng.uniform(template_frequencies[0], template_frequencies[-1], 1000)\n",
    "    \n",
    "    signals = np.zeros((rng_frequencies.size, t.size), dtype=np.complex64)\n",
    "\n",
    "    for n, f in enumerate(rng_frequencies):\n",
    "        signals[n, :] = np.exp(1j*2*np.pi*rng_frequencies[n]*t)\n",
    "        \n",
    "    scores = abs(np.matmul(templates, signals.conjugate().T))\n",
    "    ideal_scores = np.diag(abs(np.matmul(signals, signals.conjugate().T)))\n",
    "    best_template_scores = scores.max(axis=0)\n",
    "    \n",
    "    mean_match[i] = np.mean(best_template_scores/ideal_scores)"
   ]
  },
  {
   "cell_type": "code",
   "execution_count": null,
   "id": "b238ce28",
   "metadata": {},
   "outputs": [],
   "source": [
    "sns.set_theme(context='talk', style='ticks')\n",
    "clist = sns.color_palette('deep')\n",
    "\n",
    "fig = plt.figure(figsize=(8,5))\n",
    "ax = fig.add_subplot(1,1,1)\n",
    "\n",
    "\n",
    "\n",
    "line1 = ax.plot(frequency_spacing * N / fs, mean_match, color=clist[0], label='Match Ratio')\n",
    "ax.set_xlabel(r'Frequency Spacing $(\\frac{f_s}{N_{sample}})$')\n",
    "ax.set_ylabel('Match Ratio')\n",
    "\n",
    "ax2 = ax.twinx()\n",
    "\n",
    "line2 = ax2.plot(select_freq_spacing, N_templates, color=clist[1], label=r'$N_{template}$')\n",
    "ax2.grid()\n",
    "ax2.set_ylabel(r'$N_{template}$')\n",
    "\n",
    "import matplotlib\n",
    "\n",
    "patch1 = matplotlib.patches.Patch(color=clist[0])\n",
    "patch2 = matplotlib.patches.Patch(color=clist[1])\n",
    "\n",
    "ax2.legend([patch1, patch2], ['Match Ratio', r'$N_{template}$'])\n",
    "\n",
    "ax2.set_title(r'Mean Match Ratio and $N_{template}$ vs Freq. Spacing')\n",
    "\n",
    "plt.tight_layout()\n",
    "plt.savefig(os.path.join(PLOTPATH, '210810_match_ratio_and_Ntemplate_vs_freq_spacing_uniform_dist.png'))"
   ]
  },
  {
   "cell_type": "code",
   "execution_count": null,
   "id": "6b6d9633",
   "metadata": {},
   "outputs": [],
   "source": [
    "\n",
    "N_templates = []\n",
    "select_freq_spacing = []\n",
    "for i, match_factor in enumerate(np.concatenate(([0.99], 0.95 + np.arange(0, -55, -5)/100))):\n",
    "\n",
    "    ind = np.argmin(abs(mean_match - match_factor))\n",
    "    select_freq_spacing.append((frequency_spacing * N / fs)[ind])\n",
    "    N_templates.append(np.int32(bw_100ev / (frequency_spacing)[ind]))"
   ]
  },
  {
   "cell_type": "code",
   "execution_count": null,
   "id": "523fc149",
   "metadata": {},
   "outputs": [],
   "source": [
    "# mean match = 0.99 -> frequency spacing = 0.29 fs / N\n",
    "# mean match = 0.95 -> frequency spacing = 0.57 fs / N\n",
    "# mean match = 0.90 -> frequency spacing = 0.85 fs / N\n",
    "# mean match = 0.85 -> frequency spacing = 1.13 fs / N\n",
    "# mean match = 0.75 -> frequency spacing = 1.51 fs / N"
   ]
  },
  {
   "cell_type": "code",
   "execution_count": null,
   "id": "f83f2694",
   "metadata": {},
   "outputs": [],
   "source": [
    "N = 8192\n",
    "fs = 200e6\n",
    "\n",
    "freq_spacing = 1.51 * fs / N\n",
    "bw_100ev = abs(hz_per_ev) * 100\n",
    "print(f'100 eV BW = {bw_100ev * 1e-6} MHz')\n",
    "print(f'100 eV BW requires {np.int32(bw_100ev / freq_spacing)} templates')"
   ]
  },
  {
   "cell_type": "code",
   "execution_count": null,
   "id": "037a9c6f",
   "metadata": {},
   "outputs": [],
   "source": [
    "print(-1 * freq_spacing / hz_per_ev)"
   ]
  },
  {
   "cell_type": "code",
   "execution_count": null,
   "id": "7628cefe",
   "metadata": {},
   "outputs": [],
   "source": []
  }
 ],
 "metadata": {
  "kernelspec": {
   "display_name": "Python 3",
   "language": "python",
   "name": "python3"
  },
  "language_info": {
   "codemirror_mode": {
    "name": "ipython",
    "version": 3
   },
   "file_extension": ".py",
   "mimetype": "text/x-python",
   "name": "python",
   "nbconvert_exporter": "python",
   "pygments_lexer": "ipython3",
   "version": "3.8.10"
  }
 },
 "nbformat": 4,
 "nbformat_minor": 5
}
