{
 "cells": [
  {
   "cell_type": "code",
   "execution_count": null,
   "id": "51141118",
   "metadata": {},
   "outputs": [],
   "source": [
    "import numpy as np\n",
    "import mayfly as mf\n",
    "import h5py\n",
    "import pandas as pd\n",
    "import scipy\n",
    "import matplotlib.pyplot as plt\n",
    "import seaborn as sns\n",
    "import os \n",
    "import sys\n",
    "import json\n",
    "import scipy.signal\n",
    "import scipy.stats\n",
    "import scipy.interpolate\n",
    "import pickle as pkl\n",
    "import scipy.optimize\n",
    "\n",
    "PATH = '/storage/home/adz6/group/project/'\n",
    "RESULTPATH = os.path.join(PATH, 'results/mayfly')\n",
    "PLOTPATH = os.path.join(PATH, 'plots/mayfly')\n",
    "DATAPATH = os.path.join(PATH, 'mayfly/data/datasets')\n",
    "\n",
    "\n",
    "def linear_fit(x, a, b):\n",
    "    \n",
    "    return a + b * x\n"
   ]
  },
  {
   "cell_type": "code",
   "execution_count": null,
   "id": "450781bf",
   "metadata": {},
   "outputs": [],
   "source": [
    "scores = np.load(os.path.join(RESULTPATH,'210810_mf_scores_84_100.npy'))\n",
    "scores_2 = np.load(os.path.join(RESULTPATH,'210810_mf_scores_84_100_2.npy'))\n",
    "print(scores.shape)"
   ]
  },
  {
   "cell_type": "code",
   "execution_count": null,
   "id": "ed3088a5",
   "metadata": {},
   "outputs": [],
   "source": [
    "test_dataset = '210810_84_100_rng_test.h5'\n",
    "template_dataset = '210810_84_100_templates.h5'\n",
    "template_dataset_2 = '210810_84_100_templates.h5'\n",
    "\n",
    "mftestdata = mf.data.MFDataset(os.path.join(DATAPATH, test_dataset))\n",
    "mftemplates = mf.data.MFDataset(os.path.join(DATAPATH, template_dataset))\n",
    "mftemplates_2 = mf.data.MFDataset(os.path.join(DATAPATH, template_dataset))\n",
    "\n",
    "param_list = ['theta_min', 'energy']\n",
    "\n",
    "test_metadata = pd.DataFrame(mftestdata.metadata)[param_list]\n",
    "template_metadata = pd.DataFrame(mftemplates.metadata)[param_list]\n",
    "template_metadata_2 = pd.DataFrame(mftemplates_2.metadata)[param_list]\n",
    "\n",
    "var = 1.38e-23 * 10 * 50 * 200e6\n",
    "ideal_scores = abs((1 / np.sqrt(var * np.sum(mftestdata.data[:] * mftestdata.data[:].conjugate(), axis=-1))) * np.sum(mftestdata.data[:] * mftestdata.data[:].conjugate(), axis=-1))"
   ]
  },
  {
   "cell_type": "code",
   "execution_count": null,
   "id": "a11effbb",
   "metadata": {},
   "outputs": [],
   "source": [
    "mftestdata.data"
   ]
  },
  {
   "cell_type": "code",
   "execution_count": null,
   "id": "0680a7e0",
   "metadata": {},
   "outputs": [],
   "source": [
    "sns.set_theme(context='talk', style='whitegrid')\n",
    "fig = plt.figure(figsize=(8,5))\n",
    "ax = fig.add_subplot(1,1,1)\n",
    "\n",
    "hist = ax.hist(test_metadata['energy'], 64)\n",
    "\n",
    "ax.set_ylabel('N')\n",
    "ax.set_xlabel(r'$E$ (eV)')\n",
    "ax.set_title('Signal Energies')\n",
    "\n",
    "plt.tight_layout()\n",
    "#plt.savefig(os.path.join(PLOTPATH, '210811_mf_84_100_test_energy_dist.png'))"
   ]
  },
  {
   "cell_type": "code",
   "execution_count": null,
   "id": "0cf06f61",
   "metadata": {},
   "outputs": [],
   "source": [
    "match = np.array([scores.max(axis=0), scores_2.max(axis=0)]).max(axis=0) / ideal_scores\n",
    "print(np.mean(match))\n",
    "\n",
    "sns.set_theme(context='talk', style='whitegrid')\n",
    "fig = plt.figure(figsize=(8,5))\n",
    "\n",
    "ax = fig.add_subplot(1,1,1)\n",
    "\n",
    "hist = ax.hist(ideal_scores, 64, histtype='step', label='Ideal Scores')\n",
    "hist = ax.hist(np.array([scores.max(axis=0), scores_2.max(axis=0)]).max(axis=0), 64, histtype='step', label='Template Scores')\n",
    "\n",
    "ax.legend(loc=1)\n",
    "\n",
    "\n",
    "ax.set_title(r'Distribution of Ideal Scores vs Best Template Scores, $N=8192$')\n",
    "ax.set_xlabel('Score')\n",
    "ax.set_ylabel(r'$N$')\n",
    "\n",
    "plt.savefig(os.path.join(PLOTPATH, '210816_ideal_scores_vs_template_scores.png'))"
   ]
  },
  {
   "cell_type": "code",
   "execution_count": null,
   "id": "65e8d237",
   "metadata": {},
   "outputs": [],
   "source": [
    "np.argwhere(ideal_scores >= 2).squeeze().size / len(ideal_scores)"
   ]
  },
  {
   "cell_type": "code",
   "execution_count": null,
   "id": "0ec0dc2a",
   "metadata": {},
   "outputs": [],
   "source": [
    "np.argwhere(np.array([scores.max(axis=0), scores_2.max(axis=0)]).max(axis=0) >=2).squeeze().size / len(ideal_scores)"
   ]
  },
  {
   "cell_type": "code",
   "execution_count": null,
   "id": "dcf80fd4",
   "metadata": {},
   "outputs": [],
   "source": [
    ".255 / .53"
   ]
  },
  {
   "cell_type": "markdown",
   "id": "d169bec4",
   "metadata": {},
   "source": [
    "# plot signal and template distributions"
   ]
  },
  {
   "cell_type": "code",
   "execution_count": null,
   "id": "da04c7ce",
   "metadata": {},
   "outputs": [],
   "source": [
    "sns.set_theme(context='talk', style='whitegrid')\n",
    "fig = plt.figure(figsize=(13,8))\n",
    "ax = fig.add_subplot(1,1,1)\n",
    "\n",
    "pitch_angles = np.linspace(84, 90, 61)\n",
    "energies = np.linspace(18500, 18600, 401)\n",
    "\n",
    "angle_grid, energy_grid = np.meshgrid(pitch_angles, energies)\n",
    "\n",
    "line1 = ax.plot(energy_grid.flatten(), angle_grid.flatten(), '.', markersize=10, label='Template')\n",
    "\n",
    "signal_e = test_metadata['energy'].array\n",
    "signal_angle = test_metadata['theta_min'].array\n",
    "#print(signal_angle)\n",
    "\n",
    "line2 = ax.plot(np.array(signal_e), np.array(signal_angle), '.', markersize=10, label='Signal')\n",
    "\n",
    "#plt.xlim(18500, 18600)\n",
    "#plt.ylim(84, 90)\n",
    "\n",
    "ax.set_ylabel(r'$\\theta$ (deg)')\n",
    "ax.set_xlabel(r'$E$ (eV)')\n",
    "ax.set_title('Distribution of Template and Test Signal Parameters')\n",
    "ax.legend(loc=(0.97, 0.90))\n",
    "\n",
    "plt.tight_layout()\n",
    "\n",
    "#ax.set_xlim(18500, 18520)\n",
    "#ax.set_ylim(89, 90)\n",
    "#plt.savefig(os.path.join(PLOTPATH, '210811_signal_and_template_parameter_distributions_zoom.png'))"
   ]
  },
  {
   "cell_type": "code",
   "execution_count": null,
   "id": "5da6946a",
   "metadata": {},
   "outputs": [],
   "source": [
    "pitch_angles = np.linspace(84, 90, 61)\n",
    "energies = np.linspace(18500, 18600, 201)\n",
    "print(pitch_angles, energies)\n",
    "template_metadata[(template_metadata['theta_min'].isin(pitch_angles)) & (template_metadata['energy'].isin(energies))]\n",
    "inds = template_metadata[(template_metadata['theta_min'].isin(pitch_angles)) & (template_metadata['energy'].isin(energies))].index.array"
   ]
  },
  {
   "cell_type": "markdown",
   "id": "e23a1929",
   "metadata": {},
   "source": [
    "# vary pitch angles used as templates and compute mean match"
   ]
  },
  {
   "cell_type": "code",
   "execution_count": null,
   "id": "b1f8b2c7",
   "metadata": {},
   "outputs": [],
   "source": [
    "pitch_angles_all = np.linspace(84, 90, 61)\n",
    "energies_all = np.linspace(18500, 18600, 401)\n",
    "\n",
    "mean_match = np.zeros(pitch_angles_all.size)\n",
    "for n_pitch_angles in range(pitch_angles_all.size):\n",
    "    \n",
    "    pitch_angle_inds = np.int32(np.linspace(0, 60, n_pitch_angles+1))\n",
    "    \n",
    "    selected_angles = pitch_angles_all[pitch_angle_inds]\n",
    "    \n",
    "    inds = template_metadata[(template_metadata['theta_min'].isin(selected_angles)) & (template_metadata['energy'].isin(energies_all))].index.array\n",
    "    \n",
    "    if len(inds) == 0:\n",
    "        inds = template_metadata_2[(template_metadata_2['theta_min'].isin(selected_angles)) & (template_metadata_2['energy'].isin(energies_all))].index.array\n",
    "    \n",
    "        mean_match[n_pitch_angles] = np.mean(scores_2[inds, :].max(axis=0) / ideal_scores)\n"
   ]
  },
  {
   "cell_type": "code",
   "execution_count": null,
   "id": "d87ff6ab",
   "metadata": {},
   "outputs": [],
   "source": [
    "sns.set_theme(context='talk', style='whitegrid')\n",
    "fig = plt.figure(figsize=(16,7))\n",
    "ax = fig.add_subplot(1,2,1)\n",
    "\n",
    "#popt, pcov = scipy.optimize.curve_fit(linear_fit, np.log10(np.arange(1, 62, 1)), mean_match)\n",
    "\n",
    "ax.plot(np.arange(1, 62, 1), mean_match)\n",
    "ax.set_title('Linear Scale')\n",
    "ax.set_ylabel('Mean Match')\n",
    "ax.set_xlabel('N')\n",
    "ax2 = fig.add_subplot(1,2,2)\n",
    "\n",
    "ax2.plot(np.arange(1, 62, 1), mean_match)\n",
    "ax2.set_title('Log Scale')\n",
    "ax2.set_xscale('log')\n",
    "ax2.set_xlabel('N')\n",
    "#ax.plot(np.log10(np.arange(1, 62, 1)), linear_fit(np.log10(np.arange(1, 62, 1)), *popt))\n",
    "#ax.plot()\n",
    "#plt.xscale('log')\n",
    "\n",
    "fig.suptitle('Mean Match vs Pitch Angles in Template Bank')\n",
    "plt.tight_layout()\n",
    "#plt.savefig(os.path.join(PLOTPATH, '210811_match_vs_pitch_angle.png'))"
   ]
  },
  {
   "cell_type": "markdown",
   "id": "2a37dff3",
   "metadata": {},
   "source": [
    "# vary energies used as templates and compute mean match"
   ]
  },
  {
   "cell_type": "code",
   "execution_count": null,
   "id": "7f564546",
   "metadata": {},
   "outputs": [],
   "source": [
    "pitch_angles_all = np.linspace(84, 90, 61)\n",
    "energies_all = np.linspace(18500, 18600, 201)\n",
    "\n",
    "mean_match = np.zeros(energies_all.size)\n",
    "for n_energies in range(energies_all.size):\n",
    "    \n",
    "    energy_inds = np.int32(np.linspace(0, 200, n_energies+1))\n",
    "    #print(energy_inds)\n",
    "    selected_energies = energies_all[energy_inds]\n",
    "    \n",
    "    inds = template_metadata[(template_metadata['theta_min'].isin(pitch_angles_all)) & (template_metadata['energy'].isin(selected_energies))].index.array\n",
    "    #print(scores[inds, :].max(axis=0))\n",
    "    mean_match[n_energies] = np.mean(scores[inds, :].max(axis=0) / ideal_scores)"
   ]
  },
  {
   "cell_type": "code",
   "execution_count": null,
   "id": "290065bd",
   "metadata": {},
   "outputs": [],
   "source": [
    "sns.set_theme(context='talk', style='whitegrid')\n",
    "fig = plt.figure(figsize=(16,7))\n",
    "ax = fig.add_subplot(1,2,1)\n",
    "\n",
    "#popt, pcov = scipy.optimize.curve_fit(linear_fit, np.log10(np.arange(1, 62, 1)), mean_match)\n",
    "\n",
    "ax.plot(np.arange(1, 202, 1), mean_match)\n",
    "ax.set_title('Linear Scale')\n",
    "ax.set_ylabel('Mean Match')\n",
    "ax.set_xlabel('N')\n",
    "ax2 = fig.add_subplot(1,2,2)\n",
    "\n",
    "ax2.plot(np.arange(1, 202, 1), mean_match)\n",
    "ax2.set_title('Log Scale')\n",
    "ax2.set_xscale('log')\n",
    "ax2.set_xlabel('N')\n",
    "#ax.plot(np.log10(np.arange(1, 62, 1)), linear_fit(np.log10(np.arange(1, 62, 1)), *popt))\n",
    "#ax.plot()\n",
    "#plt.xscale('log')\n",
    "\n",
    "fig.suptitle('Mean Match vs Energies in Template Bank')\n",
    "plt.tight_layout()\n",
    "#plt.savefig(os.path.join(PLOTPATH, '210811_match_vs_energy.png'))"
   ]
  },
  {
   "cell_type": "markdown",
   "id": "bc4846a1",
   "metadata": {},
   "source": [
    "# density of parameters"
   ]
  },
  {
   "cell_type": "code",
   "execution_count": null,
   "id": "32c0d80a",
   "metadata": {},
   "outputs": [],
   "source": [
    "area = 100 * 6 # eV * degrees"
   ]
  },
  {
   "cell_type": "code",
   "execution_count": null,
   "id": "81135772",
   "metadata": {},
   "outputs": [],
   "source": [
    "density = 12261 / area"
   ]
  },
  {
   "cell_type": "code",
   "execution_count": null,
   "id": "85a45ce6",
   "metadata": {},
   "outputs": [],
   "source": [
    "print(f'Template density = {density} templates / (eV*deg)')"
   ]
  },
  {
   "cell_type": "markdown",
   "id": "df2a6a26",
   "metadata": {},
   "source": [
    "# vary the density of parameters and plot the mean match"
   ]
  },
  {
   "cell_type": "code",
   "execution_count": null,
   "id": "132eaed8",
   "metadata": {},
   "outputs": [],
   "source": [
    "pitch_angles_all = np.linspace(84, 90, 61)\n",
    "energies_all = np.linspace(18500, 18600, 401)\n",
    "\n",
    "N_densities = 61\n",
    "\n",
    "N_pitch_angles = np.int32(np.linspace(1, 61, N_densities))\n",
    "N_energies = np.int32(np.linspace(1, 201, N_densities))\n",
    "\n",
    "mean_match = np.zeros(N_densities)\n",
    "for i in range(N_densities):\n",
    "    \n",
    "    energy_inds = np.int32(np.linspace(0, 200, N_energies[i]+1))\n",
    "    angle_inds = np.int32(np.linspace(0, 60, N_pitch_angles[i]+1))\n",
    "\n",
    "    selected_energies = energies_all[energy_inds]\n",
    "    selected_angles = pitch_angles_all[angle_inds]\n",
    "    \n",
    "    inds = template_metadata[(template_metadata['theta_min'].isin(selected_angles)) & (template_metadata['energy'].isin(selected_energies))].index.array\n",
    "    if len(inds) == 0:\n",
    "        inds = template_metadata_2[(template_metadata_2['theta_min'].isin(selected_angles)) & (template_metadata_2['energy'].isin(selected_energies))].index.array\n",
    "    #print(scores[inds, :].max(axis=0))\n",
    "        mean_match[i] = np.mean(scores_2[inds, :].max(axis=0) / ideal_scores)\n",
    "    else:\n",
    "        mean_match[i] = np.mean(scores[inds, :].max(axis=0) / ideal_scores)"
   ]
  },
  {
   "cell_type": "code",
   "execution_count": null,
   "id": "43fc48f9",
   "metadata": {},
   "outputs": [],
   "source": [
    "sns.set_theme(context='talk', style='ticks')\n",
    "\n",
    "fig = plt.figure(figsize=(8,7))\n",
    "ax = fig.add_subplot(1,1,1)\n",
    "\n",
    "def density2number(x):\n",
    "    return 600 * x\n",
    "def number2density(x):\n",
    "    return x / 600\n",
    "\n",
    "ax.plot(density, mean_match)\n",
    "ax.set_xscale('log')\n",
    "ax.set_xlabel(r'Template Density $\\left(\\frac{N}{eV\\cdot deg}\\right)$')\n",
    "ax.set_ylabel('Mean Match')\n",
    "\n",
    "ax2 = ax.secondary_xaxis(-0.3, functions=(density2number, number2density))\n",
    "ax2.set_xlabel(r'$N$')\n",
    "ax.grid()\n",
    "\n",
    "ax.set_title('Mean Match vs Template Density')\n",
    "\n",
    "plt.tight_layout()\n",
    "plt.savefig(os.path.join(PLOTPATH, '210816_mean_match_vs_template_density_and_number.png'))\n"
   ]
  },
  {
   "cell_type": "code",
   "execution_count": null,
   "id": "915ac209",
   "metadata": {},
   "outputs": [],
   "source": [
    "density = N_pitch_angles * N_energies / (6 * 100)\n"
   ]
  },
  {
   "cell_type": "markdown",
   "id": "342375c5",
   "metadata": {},
   "source": [
    "# plot histogram of match ratios for different pitch angle ranges"
   ]
  },
  {
   "cell_type": "code",
   "execution_count": null,
   "id": "aefff55a",
   "metadata": {},
   "outputs": [],
   "source": [
    "print(scores.shape)\n",
    "print(ideal_scores.shape)"
   ]
  },
  {
   "cell_type": "code",
   "execution_count": null,
   "id": "0a550c6c",
   "metadata": {},
   "outputs": [],
   "source": [
    "inds = test_metadata[(test_metadata['theta_min']<= 85.0) & (test_metadata['theta_min'] >= 84.0)].index.array"
   ]
  },
  {
   "cell_type": "code",
   "execution_count": null,
   "id": "f727098f",
   "metadata": {},
   "outputs": [],
   "source": [
    "angles = np.linspace(89, 84, 6)\n",
    "\n",
    "fig = plt.figure(figsize=(10,6))\n",
    "ax = fig.add_subplot(1,1,1)\n",
    "\n",
    "for angle in angles:\n",
    "    inds = test_metadata[(test_metadata['theta_min']<= angle+1) & (test_metadata['theta_min'] >= angle)].index.array\n",
    "    hist = ax.hist(abs(scores[:, inds].max(axis=0) / ideal_scores[inds]), 32, histtype='step', label=f'{int(angle)}-{int(angle+1)}')\n",
    "    \n",
    "ax.legend(loc=(1.01, 0), title='Pitch Angles')\n",
    "ax.set_xlabel('Match Ratio')\n",
    "ax.set_ylabel('N')\n",
    "ax.set_title('Match Ratio Pitch Angle Demographics')\n",
    "plt.tight_layout()\n",
    "plt.savefig(os.path.join(PLOTPATH, '210812_distributions_of_match_ratio_vs_pitch_angle.png'))"
   ]
  },
  {
   "cell_type": "code",
   "execution_count": null,
   "id": "3aaeb44c",
   "metadata": {},
   "outputs": [],
   "source": [
    "np.linspace(84, 89, 6)"
   ]
  },
  {
   "cell_type": "code",
   "execution_count": null,
   "id": "066d039c",
   "metadata": {},
   "outputs": [],
   "source": []
  }
 ],
 "metadata": {
  "kernelspec": {
   "display_name": "Python 3",
   "language": "python",
   "name": "python3"
  },
  "language_info": {
   "codemirror_mode": {
    "name": "ipython",
    "version": 3
   },
   "file_extension": ".py",
   "mimetype": "text/x-python",
   "name": "python",
   "nbconvert_exporter": "python",
   "pygments_lexer": "ipython3",
   "version": "3.8.10"
  }
 },
 "nbformat": 4,
 "nbformat_minor": 5
}
