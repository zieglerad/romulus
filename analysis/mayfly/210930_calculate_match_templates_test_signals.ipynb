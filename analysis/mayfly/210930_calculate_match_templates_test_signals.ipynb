{
 "cells": [
  {
   "cell_type": "code",
   "execution_count": null,
   "id": "51141118",
   "metadata": {},
   "outputs": [],
   "source": [
    "import numpy as np\n",
    "import mayfly as mf\n",
    "import h5py\n",
    "import pandas as pd\n",
    "import scipy\n",
    "import matplotlib.pyplot as plt\n",
    "import matplotlib\n",
    "import seaborn as sns\n",
    "import os \n",
    "import sys\n",
    "import json\n",
    "import scipy.signal\n",
    "import scipy.stats\n",
    "import scipy.interpolate\n",
    "import pickle as pkl\n",
    "import scipy.optimize\n",
    "\n",
    "PATH = '/storage/home/adz6/group/project/'\n",
    "RESULTPATH = os.path.join(PATH, 'results/mayfly')\n",
    "PLOTPATH = os.path.join(PATH, 'plots/mayfly')\n",
    "DATAPATH = os.path.join(PATH, 'mayfly/data/datasets')\n",
    "\n",
    "\n",
    "def linear_fit(x, a, b):\n",
    "    \n",
    "    return a + b * x\n"
   ]
  },
  {
   "cell_type": "code",
   "execution_count": null,
   "id": "450781bf",
   "metadata": {},
   "outputs": [],
   "source": [
    "os.listdir(os.path.join(DATAPATH))"
   ]
  },
  {
   "cell_type": "code",
   "execution_count": null,
   "id": "6194caa4",
   "metadata": {},
   "outputs": [],
   "source": [
    "test_data = mf.data.MFDataset(os.path.join(DATAPATH, '210810_84_100_rng_test.h5'))\n",
    "template_data = mf.data.MFDataset(os.path.join(DATAPATH, '211002_mf_84_100_slice8192.h5'))"
   ]
  },
  {
   "cell_type": "code",
   "execution_count": null,
   "id": "a17c6190",
   "metadata": {},
   "outputs": [],
   "source": [
    "test_data.data.shape"
   ]
  },
  {
   "cell_type": "code",
   "execution_count": null,
   "id": "14bebdb8",
   "metadata": {},
   "outputs": [],
   "source": [
    "param_list = ['theta_min', 'energy']\n",
    "\n",
    "test_metadata = pd.DataFrame(test_data.metadata)[param_list]\n",
    "template_metadata = pd.DataFrame(template_data.metadata)[param_list]\n",
    "\n",
    "test_energies = np.array(test_metadata['energy'].array)\n",
    "test_angles = np.array(test_metadata['theta_min'].array)\n"
   ]
  },
  {
   "cell_type": "code",
   "execution_count": null,
   "id": "5d934e51",
   "metadata": {},
   "outputs": [],
   "source": [
    "energy_grid, angle_grid = np.meshgrid(template_metadata['energy'].unique(), template_metadata['theta_min'].unique())"
   ]
  },
  {
   "cell_type": "markdown",
   "id": "07f54e3d",
   "metadata": {},
   "source": [
    "# plot parameter distribution"
   ]
  },
  {
   "cell_type": "code",
   "execution_count": null,
   "id": "0b0e54e2",
   "metadata": {},
   "outputs": [],
   "source": [
    "sns.set_theme(style='whitegrid', context='talk')\n",
    "fig = plt.figure(figsize=(13, 8))\n",
    "ax = fig.add_subplot(1,1,1)\n",
    "\n",
    "ax.plot(energy_grid.flatten(), angle_grid.flatten(), '.')\n",
    "ax.plot(test_energies, test_angles, '.')"
   ]
  },
  {
   "cell_type": "markdown",
   "id": "22f44d74",
   "metadata": {},
   "source": [
    "# compute scores"
   ]
  },
  {
   "cell_type": "code",
   "execution_count": null,
   "id": "e87dad21",
   "metadata": {},
   "outputs": [],
   "source": [
    "var = 1.38e-23 * 10 * 50 * 200e6\n",
    "ideal_test_scores = abs((1 / np.sqrt(var * np.sum(test_data.data[:] * test_data.data[:].conjugate(), axis=-1))) * np.sum(test_data.data[:] * test_data.data[:].conjugate(), axis=-1))"
   ]
  },
  {
   "cell_type": "code",
   "execution_count": null,
   "id": "ac41a5e7",
   "metadata": {},
   "outputs": [],
   "source": [
    "plt.plot(ideal_test_scores, '.')"
   ]
  },
  {
   "cell_type": "markdown",
   "id": "a6a8ef6e",
   "metadata": {},
   "source": [
    "# template on template"
   ]
  },
  {
   "cell_type": "code",
   "execution_count": null,
   "id": "4456c21f",
   "metadata": {},
   "outputs": [],
   "source": [
    "print(template_data.data.shape)\n",
    "var = 1.38e-23 * 10 * 50 * 200e6\n",
    "n_split = 21\n",
    "ideal_template_scores = np.zeros((template_data.data.shape[0], template_data.data.shape[0]))\n",
    "\n",
    "#print(np.array_split(ideal_template_scores,3, axis)[-1].shape)\n",
    "split_scores = np.array_split(ideal_template_scores, n_split,)\n",
    "\n",
    "split_inds = np.zeros(n_split+1)\n",
    "\n",
    "for i in range(n_split):\n",
    "    #print(split_scores[i].shape[0] )\n",
    "    split_inds[i + 1] += split_scores[i].shape[0] + split_inds[i]\n",
    "    \n",
    "split_inds = np.int32(split_inds)\n",
    "\n",
    "print(split_inds)\n",
    "\n",
    "for i in range(n_split):\n",
    "    norm = (1 / np.sqrt(var * np.sum(template_data.data[split_inds[i]:split_inds[i+1], :] * template_data.data[split_inds[i]:split_inds[i+1], :].conjugate(), axis=-1))).reshape((template_data.data[split_inds[i]:split_inds[i+1], :].shape[0], 1)).repeat(template_data.data[split_inds[i]:split_inds[i+1], :].shape[-1], axis=-1)\n",
    "    norm_templates = norm * template_data.data[split_inds[i]:split_inds[i+1], :]\n",
    "    print('norm done')\n",
    "    \n",
    "    for j in range(n_split):\n",
    "        \n",
    "        if j <= i:\n",
    "            #norm = (1 / np.sqrt(var * np.sum(template_data.data[split_inds[i]:split_inds[i+1], :] * template_data.data[split_inds[i]:split_inds[i+1], :].conjugate(), axis=-1))).reshape((template_data.data[split_inds[i]:split_inds[i+1], :].shape[0], 1)).repeat(template_data.data[split_inds[i]:split_inds[i+1], :].shape[-1], axis=-1)\n",
    "\n",
    "            scores_ij = abs(np.matmul(norm_templates, template_data.data[split_inds[j]:split_inds[j+1], :].conjugate().T))\n",
    "\n",
    "            #scores_ij = abs((1 / np.sqrt(var * np.sum(template_data.data[split_inds[i]:split_inds[i+1], :] * template_data.data[split_inds[i]:split_inds[i+1], :].conjugate(), axis=-1))) * np.sum(template_data.data[split_inds[i]:split_inds[i+1], :] * template_data.data[split_inds[j]:split_inds[j+1], :].conjugate(), axis=-1))\n",
    "\n",
    "            ideal_template_scores[split_inds[i]:split_inds[i+1], split_inds[j]:split_inds[j+1]] = scores_ij\n",
    "            print(i+1, j+1)\n"
   ]
  },
  {
   "cell_type": "code",
   "execution_count": null,
   "id": "c7971a72",
   "metadata": {},
   "outputs": [],
   "source": [
    "np.save(os.path.join(RESULTPATH, '211005_mf_84_100_template_ideal_scores_bottom_tri'), ideal_template_scores, )"
   ]
  },
  {
   "cell_type": "markdown",
   "id": "67fbf1b4",
   "metadata": {},
   "source": [
    "# random signal on template"
   ]
  },
  {
   "cell_type": "code",
   "execution_count": null,
   "id": "e3cc660e",
   "metadata": {},
   "outputs": [],
   "source": [
    "var = 1.38e-23 * 10 * 50 * 200e6\n",
    "n_split = 5\n",
    "signal_template_scores = np.zeros((test_data.data.shape[0], template_data.data.shape[0]))\n",
    "\n",
    "split_scores = np.array_split(np.zeros(template_data.data.shape[0]), n_split,)\n",
    "\n",
    "split_inds = np.zeros(n_split+1)\n",
    "\n",
    "for i in range(n_split):\n",
    "    #print(split_scores[i].shape[0] )\n",
    "    split_inds[i + 1] += split_scores[i].shape[0] + split_inds[i]\n",
    "    \n",
    "split_inds = np.int32(split_inds)\n",
    "\n",
    "print(split_inds)\n",
    "\n",
    "for i in range(n_split):\n",
    "    norm = (1 / np.sqrt(var * np.sum(template_data.data[split_inds[i]:split_inds[i+1], :] * template_data.data[split_inds[i]:split_inds[i+1], :].conjugate(), axis=-1))).reshape((template_data.data[split_inds[i]:split_inds[i+1], :].shape[0], 1)).repeat(template_data.data[split_inds[i]:split_inds[i+1], :].shape[-1], axis=-1)\n",
    "    norm_templates = norm * template_data.data[split_inds[i]:split_inds[i+1], :]\n",
    "    print('norm done')\n",
    "    \n",
    "    scores_ij = abs(np.matmul(test_data.data[:], norm_templates.conjugate().T))\n",
    "    \n",
    "    signal_template_scores[:, split_inds[i]:split_inds[i+1]] = scores_ij\n"
   ]
  },
  {
   "cell_type": "code",
   "execution_count": null,
   "id": "3c2a4b3c",
   "metadata": {},
   "outputs": [],
   "source": [
    "np.save(os.path.join(RESULTPATH, '211007_mf_84_100_test_scores'), signal_template_scores, )"
   ]
  },
  {
   "cell_type": "code",
   "execution_count": null,
   "id": "16f71a39",
   "metadata": {},
   "outputs": [],
   "source": [
    "fig = plt.figure(figsize=(13,8))\n",
    "\n",
    "ax = fig.add_subplot(1,1,1)\n",
    "\n",
    "ax.imshow(signal_template_scores, interpolation='none', aspect='auto')"
   ]
  },
  {
   "cell_type": "code",
   "execution_count": null,
   "id": "2b2c7615",
   "metadata": {},
   "outputs": [],
   "source": [
    "ideal_template_scores.shape"
   ]
  },
  {
   "cell_type": "code",
   "execution_count": null,
   "id": "f3fb57cd",
   "metadata": {},
   "outputs": [],
   "source": [
    "fig = plt.figure(figsize=(13,13))\n",
    "\n",
    "ax = fig.add_subplot(1,1,1)\n",
    "\n",
    "ax.imshow(np.tril(ideal_template_scores).reshape((24461, 24461)), interpolation='none')"
   ]
  },
  {
   "cell_type": "code",
   "execution_count": null,
   "id": "b8fb0001",
   "metadata": {},
   "outputs": [],
   "source": [
    "np.save(os.path.join(RESULTPATH, '211005_mf_84_100_template_ideal_scores_bottom_tri'), \n",
    "        np.tril(ideal_template_scores).reshape((24461, 24461)), )"
   ]
  },
  {
   "cell_type": "markdown",
   "id": "c46522fa",
   "metadata": {},
   "source": [
    "# compute templates"
   ]
  },
  {
   "cell_type": "code",
   "execution_count": null,
   "id": "0e948996",
   "metadata": {},
   "outputs": [],
   "source": [
    "norm = (1 / np.sqrt(var * np.sum(template_data.data[:] * template_data.data[:].conjugate(), axis=-1))).reshape((template_data.data.shape[0], 1)).repeat(template_data.data.shape[-1], axis=-1)\n",
    "\n",
    "templates = template_data.data * norm"
   ]
  },
  {
   "cell_type": "code",
   "execution_count": null,
   "id": "eb0e3d3a",
   "metadata": {},
   "outputs": [],
   "source": [
    "print(templates)"
   ]
  },
  {
   "cell_type": "code",
   "execution_count": null,
   "id": "18a91fa6",
   "metadata": {},
   "outputs": [],
   "source": [
    "print(templates.shape)\n",
    "print(test_data.data.shape)"
   ]
  },
  {
   "cell_type": "code",
   "execution_count": null,
   "id": "8c85f119",
   "metadata": {},
   "outputs": [],
   "source": [
    "scores = abs(np.matmul(test_data.data[:], templates.T.conjugate()))\n",
    "#scores = abs(np.matmul(templates, templates.T.conjugate()))"
   ]
  },
  {
   "cell_type": "code",
   "execution_count": null,
   "id": "92a4cd28",
   "metadata": {},
   "outputs": [],
   "source": [
    "print(scores)\n"
   ]
  },
  {
   "cell_type": "code",
   "execution_count": null,
   "id": "bc43a0fc",
   "metadata": {},
   "outputs": [],
   "source": [
    "hist = plt.hist(np.max(scores, axis=-1) / ideal_test_scores, 20)\n"
   ]
  },
  {
   "cell_type": "code",
   "execution_count": null,
   "id": "0775b27a",
   "metadata": {},
   "outputs": [],
   "source": [
    "print(np.mean(np.max(scores, axis=-1) / ideal_test_scores))"
   ]
  },
  {
   "cell_type": "markdown",
   "id": "c196fa5b",
   "metadata": {},
   "source": [
    "# plot maps for a specific test signal"
   ]
  },
  {
   "cell_type": "code",
   "execution_count": null,
   "id": "328dadb8",
   "metadata": {},
   "outputs": [],
   "source": [
    "rng = np.random.default_rng()"
   ]
  },
  {
   "cell_type": "code",
   "execution_count": null,
   "id": "490f4dbe",
   "metadata": {},
   "outputs": [],
   "source": [
    "cmap = sns.color_palette('mako', as_cmap=True)\n",
    "\n",
    "for k in range(10):\n",
    "    \n",
    "    sns.set_theme(context='talk', style='ticks')\n",
    "    fig = plt.figure(figsize=(13,8))\n",
    "    ax = fig.add_subplot(1,1,1)\n",
    "    \n",
    "    itest_signal = rng.integers(0, scores.shape[0], 1)\n",
    "    print(itest_signal)\n",
    "    \n",
    "    \n",
    "    score_array = scores[itest_signal, :].squeeze()\n",
    "    imax = score_array.argmax()\n",
    "    \n",
    "    template_energy = template_metadata['energy']\n",
    "    unique_energies = np.sort(template_energy.unique())\n",
    "\n",
    "    template_angle = template_metadata['theta_min']\n",
    "    unique_angles = np.sort(template_angle.unique())\n",
    "\n",
    "    energy_grid, angle_grid = np.meshgrid(unique_energies, unique_angles)\n",
    "\n",
    "    test_signal_scores = np.zeros(energy_grid.size).flatten()\n",
    "\n",
    "    for i in range(energy_grid.flatten().size):\n",
    "\n",
    "        test_signal_scores[i] = score_array[template_metadata[(template_metadata['energy'] == energy_grid.flatten()[i]) & (template_metadata['theta_min'] == angle_grid.flatten()[i])].index[0]]\n",
    "\n",
    "    test_signal_scores = test_signal_scores.reshape(energy_grid.shape)\n",
    "    \n",
    "    # log color scale\n",
    "    img = ax.imshow(test_signal_scores, interpolation='none', aspect='auto', cmap=cmap, extent=(18595, 18596, 87.1, 87), norm=matplotlib.colors.LogNorm())\n",
    "    \n",
    "    #img = ax.imshow(test_signal_scores, interpolation='none', aspect='auto', cmap=cmap, extent=(18595, 18596, 87.1, 87),)\n",
    "    cbar = fig.colorbar(img)\n",
    "    ax.plot(test_metadata['energy'][itest_signal], test_metadata['theta_min'][itest_signal], 'r*', markersize=20, label='Signal Parameters')\n",
    "    \n",
    "    test_energy = test_metadata['energy'][itest_signal]\n",
    "    test_angle = test_metadata['theta_min'][itest_signal]\n",
    "    \n",
    "    near_energy = unique_energies[np.argmin(abs(unique_energies - test_energy.iloc[0]))]\n",
    "    near_angle = unique_angles[np.argmin(abs(unique_angles - test_angle.iloc[0]))]\n",
    "    \n",
    "    inearest_template = template_metadata[(template_metadata['energy'] == near_energy) & (template_metadata['theta_min'] == near_angle)].index[0]\n",
    "\n",
    "    ax.plot(template_metadata['energy'][inearest_template], template_metadata['theta_min'][inearest_template], 'y*', markersize=20, label='Nearest Template Parameters')\n",
    "    ax.plot(template_metadata['energy'][imax], template_metadata['theta_min'][imax], 'g*', markersize=20, label='Best Template Parameters')\n",
    "    ax.set_xlabel('Template Energy (eV)')\n",
    "    ax.set_ylabel('Template Angle (deg)')\n",
    "    \n",
    "    ax.legend(loc=0)\n",
    "    \n",
    "    test_spectrum = abs(np.fft.fftshift(np.fft.fft(test_data.data[itest_signal, :].reshape(60, 8192).sum(axis=0)))) / 8192\n",
    "    best_template_spectrum = abs(np.fft.fftshift(np.fft.fft(template_data.data[imax, :].reshape(60, 8192).sum(axis=0)))) / 8192\n",
    "    near_template_spectrum = abs(np.fft.fftshift(np.fft.fft(template_data.data[inearest_template, :].reshape(60, 8192).sum(axis=0)))) / 8192\n",
    "    freqs = np.fft.fftshift(np.fft.fftfreq(8192, 1/200e6))\n",
    "    \n",
    "    sns.set_theme(context='talk', style='whitegrid')\n",
    "    fig = plt.figure(figsize=(13,8))\n",
    "    \n",
    "    ax = fig.add_subplot(1,1,1)\n",
    "    ax.plot(freqs, best_template_spectrum, label='best template')\n",
    "    ax.plot(freqs, near_template_spectrum, label='nearest template')\n",
    "    ax.plot(freqs, test_spectrum, label='test signal')\n",
    "    \n",
    "    ax.set_xlabel('Frequency')\n",
    "    ax.set_ylabel('Mag')\n",
    "    \n",
    "    ax.legend(loc=2)\n",
    "    \n",
    "    sns.set_theme(context='talk', style='whitegrid')\n",
    "    fig = plt.figure(figsize=(13,8))\n",
    "    ax = fig.add_subplot(1,1,1)\n",
    "    ax.plot(freqs, best_template_spectrum - test_spectrum, label='best template residual')\n",
    "    \n",
    "    ax.set_xlabel('Frequency')\n",
    "    ax.set_ylabel('Mag')\n",
    "    \n",
    "    ax.legend(loc=2)\n",
    "    \n",
    "    sns.set_theme(context='talk', style='whitegrid')\n",
    "    fig = plt.figure(figsize=(13,8))\n",
    "    ax = fig.add_subplot(1,1,1)\n",
    "    \n",
    "    ax.plot(freqs, near_template_spectrum - test_spectrum, label='nearest template residual')\n",
    "    #ax.plot(freqs, test_spectrum, label='test signal')\n",
    "    \n",
    "    ax.set_xlabel('Frequency')\n",
    "    ax.set_ylabel('Mag')\n",
    "    \n",
    "    ax.legend(loc=2)\n",
    "    \n",
    "    \n",
    "    \n",
    "    "
   ]
  },
  {
   "cell_type": "markdown",
   "id": "c243e5e6",
   "metadata": {},
   "source": [
    "# plot histogram of E difference of between mf max and true parameters"
   ]
  },
  {
   "cell_type": "code",
   "execution_count": null,
   "id": "0f645483",
   "metadata": {},
   "outputs": [],
   "source": [
    "energy_diff = np.zeros(100)\n",
    "\n",
    "for k in range(100):\n",
    "    itest_signal = k\n",
    "    \n",
    "    score_array = scores[itest_signal, :].squeeze()\n",
    "    \n",
    "    jtest_signal = np.argmax(score_array)\n",
    "    \n",
    "    test_energy = test_metadata['energy'][itest_signal]\n",
    "    \n",
    "    temp_energy = template_energy[jtest_signal]\n",
    "    \n",
    "    energy_diff[k] = temp_energy-test_energy\n"
   ]
  },
  {
   "cell_type": "code",
   "execution_count": null,
   "id": "7a0149f0",
   "metadata": {},
   "outputs": [],
   "source": [
    "sns.set_theme(context='talk', style='whitegrid')\n",
    "\n",
    "fig = plt.figure(figsize=(13,8))\n",
    "\n",
    "ax = fig.add_subplot(1,1,1)\n",
    "\n",
    "\n",
    "hist = ax.hist(energy_diff, 32)"
   ]
  },
  {
   "cell_type": "markdown",
   "id": "e3d221f6",
   "metadata": {},
   "source": [
    "# rician distributions of the template grid for a specific signal, compute the expectation value for maximum template score"
   ]
  },
  {
   "cell_type": "code",
   "execution_count": null,
   "id": "ae8496f0",
   "metadata": {},
   "outputs": [],
   "source": [
    "itest_signal = 0\n",
    "x_rice = np.linspace(0, 10, 101)\n",
    "score_array = scores[itest_signal, :].squeeze()\n",
    "imax = score_array.argmax()\n",
    "\n",
    "\n",
    "rice_cdf = scipy.stats.rice.cdf(x_rice.reshape((x_rice.size, 1)).repeat(score_array.size, axis=-1), score_array.reshape((1, score_array.size)).repeat(x_rice.size, axis=0))\n",
    "\n",
    "rice_pdf = scipy.stats.rice.pdf(x_rice.reshape((x_rice.size, 1)).repeat(score_array.size, axis=-1), score_array.reshape((1, score_array.size)).repeat(x_rice.size, axis=0))"
   ]
  },
  {
   "cell_type": "code",
   "execution_count": null,
   "id": "1865609d",
   "metadata": {},
   "outputs": [],
   "source": [
    "for i in range(861):\n",
    "    \n",
    "    temp_energy  = template_metadata['energy'].iloc[i]\n",
    "    \n",
    "    #print(temp_energy)\n",
    "    \n",
    "    plt.plot(x_rice, rice_pdf[:, i])\n",
    "    #plt.plot(x_rice, rice_cdf[:, imax])"
   ]
  },
  {
   "cell_type": "code",
   "execution_count": null,
   "id": "9a492fbc",
   "metadata": {},
   "outputs": [],
   "source": [
    "for i in range(861):\n",
    "    \n",
    "    plt.plot(x_rice, 1 - rice_cdf[:, i])\n",
    "    \n",
    "plt.ylabel('Prob. False Alarm')\n",
    "plt.xlabel('Threshold')"
   ]
  },
  {
   "cell_type": "markdown",
   "id": "4a97e12d",
   "metadata": {},
   "source": [
    "# random sample from rician pdf of scores to create a noisy score image"
   ]
  },
  {
   "cell_type": "code",
   "execution_count": null,
   "id": "d7c8cc0e",
   "metadata": {},
   "outputs": [],
   "source": [
    "itest_signal = 0\n",
    "score_array = scores[itest_signal, :].squeeze()\n",
    "random_samples = scipy.stats.rice.rvs(score_array)\n",
    "\n",
    "cmap = sns.color_palette('mako', as_cmap=True)\n",
    "rand_scores = np.zeros(energy_grid.size).flatten()\n",
    "\n",
    "for i in range(energy_grid.flatten().size):\n",
    "\n",
    "    rand_scores[i] = random_samples[template_metadata[(template_metadata['energy'] == energy_grid.flatten()[i]) & (template_metadata['theta_min'] == angle_grid.flatten()[i])].index[0]]\n",
    "    \n",
    "rand_scores = rand_scores.reshape(energy_grid.shape)\n",
    "\n",
    "sns.set_theme(context='talk', style='ticks')\n",
    "fig = plt.figure(figsize=(13,8))\n",
    "ax = fig.add_subplot(1,1,1)\n",
    "\n",
    "img = ax.imshow(rand_scores, interpolation='none', aspect='auto', cmap=cmap, extent=(18595, 18596, 87.1, 87),)\n",
    "cbar = fig.colorbar(img)\n",
    "\n",
    "ax.plot(test_metadata['energy'][itest_signal], test_metadata['theta_min'][itest_signal], 'r*', markersize=20, label='Signal Parameters')\n",
    "\n",
    "ax.set_xlabel('Template Energy (eV)')\n",
    "ax.set_ylabel('Template Angle (deg)')\n"
   ]
  },
  {
   "cell_type": "markdown",
   "id": "49d9d4e8",
   "metadata": {},
   "source": [
    "# Threshold the noisy image"
   ]
  },
  {
   "cell_type": "code",
   "execution_count": null,
   "id": "27aae326",
   "metadata": {},
   "outputs": [],
   "source": [
    "itest_signal = 2\n",
    "score_array = scores[itest_signal, :].squeeze()\n",
    "random_samples = scipy.stats.rice.rvs(score_array)\n",
    "\n",
    "thresh = 2\n",
    "\n",
    "cmap = sns.color_palette('mako', as_cmap=True)\n",
    "rand_scores = np.zeros(energy_grid.size).flatten()\n",
    "\n",
    "for i in range(energy_grid.flatten().size):\n",
    "    \n",
    "    sample = random_samples[template_metadata[(template_metadata['energy'] == energy_grid.flatten()[i]) & (template_metadata['theta_min'] == angle_grid.flatten()[i])].index[0]]\n",
    "    true_score = score_array[template_metadata[(template_metadata['energy'] == energy_grid.flatten()[i]) & (template_metadata['theta_min'] == angle_grid.flatten()[i])].index[0]]\n",
    "    if sample > thresh:\n",
    "        rand_scores[i] = sample\n",
    "    else: \n",
    "        rand_scores[i] = 0.01\n",
    "\n",
    "rand_scores = rand_scores.reshape(energy_grid.shape)\n",
    "\n",
    "sns.set_theme(context='talk', style='ticks')\n",
    "fig = plt.figure(figsize=(13,8))\n",
    "ax = fig.add_subplot(1,1,1)\n",
    "\n",
    "img = ax.imshow(rand_scores, interpolation='none', aspect='auto', cmap=cmap, extent=(18595, 18596, 87.1, 87))\n",
    "cbar = fig.colorbar(img)\n",
    "\n",
    "ax.plot(test_metadata['energy'][itest_signal], test_metadata['theta_min'][itest_signal], 'r*', markersize=20, label='Signal Parameters')\n",
    "\n",
    "ax.set_xlabel('Template Energy (eV)')\n",
    "ax.set_ylabel('Template Angle (deg)')\n"
   ]
  },
  {
   "cell_type": "markdown",
   "id": "e61e0bc6",
   "metadata": {},
   "source": [
    "# simplest possible estimation, take maximum"
   ]
  },
  {
   "cell_type": "code",
   "execution_count": null,
   "id": "83d566e5",
   "metadata": {},
   "outputs": [],
   "source": [
    "ntrial = 1024\n",
    "\n",
    "random_sample_energy_maxima = np.zeros((100, 1024))\n",
    "    \n",
    "for k in range(ntrial):\n",
    "\n",
    "    random_samples = scipy.stats.rice.rvs(scores)\n",
    "    #print(random_samples.shape)\n",
    "    #print(np.argmax(random_samples, axis = -1))\n",
    "    random_sample_energy_maxima[:, k] = template_metadata['energy'].iloc[np.argmax(random_samples, axis = -1)].array\n",
    "\n",
    "    #rand_scores = np.zeros(energy_grid.size).flatten()\n",
    "\n",
    "    #for i in range(energy_grid.flatten().size):\n",
    "\n",
    "    #    sample = random_samples[template_metadata[(template_metadata['energy'] == energy_grid.flatten()[i]) & (template_metadata['theta_min'] == angle_grid.flatten()[i])].index[0]]\n",
    "\n",
    "    #    rand_scores[i] = sample\n",
    "\n",
    "    #imax = rand_scores.argmax()\n",
    "\n",
    "    #random_sample_energy_maxima[n, k] = energy_grid.flatten()[imax]\n",
    "        "
   ]
  },
  {
   "cell_type": "code",
   "execution_count": null,
   "id": "c208761b",
   "metadata": {},
   "outputs": [],
   "source": [
    "hist = plt.hist(random_sample_energy_maxima[10, :] - 18595, 16)\n",
    "print(test_metadata['energy'].iloc[10] - 18595)"
   ]
  },
  {
   "cell_type": "code",
   "execution_count": null,
   "id": "77c330f0",
   "metadata": {},
   "outputs": [],
   "source": [
    "for i in range(7):\n",
    "    \n",
    "    itest = rng.integers(0, 100, 1)[0]\n",
    "    \n",
    "    fig = plt.figure(figsize=(13,8))\n",
    "    ax = fig.add_subplot(1,1,1)\n",
    "\n",
    "    hist = ax.hist(random_sample_energy_maxima[itest, :] - test_metadata['energy'].iloc[itest], 16)\n",
    "    \n",
    "    ax.set_xlim(-1, 1)\n",
    "    #print(test_metadata['energy'].iloc[10] - 18595)"
   ]
  },
  {
   "cell_type": "code",
   "execution_count": null,
   "id": "88462cb7",
   "metadata": {},
   "outputs": [],
   "source": [
    "fig = plt.figure(figsize=(13,8))\n",
    "ax = fig.add_subplot(1,1,1)\n",
    "\n",
    "hist = ax.hist(random_sample_energy_maxima.mean(axis=-1) - test_metadata['energy'].iloc[itest], 20)\n",
    "\n",
    "print(np.std(random_sample_energy_maxima.mean(axis=-1) - test_metadata['energy'].iloc[itest]))"
   ]
  },
  {
   "cell_type": "code",
   "execution_count": null,
   "id": "d3ba5774",
   "metadata": {},
   "outputs": [],
   "source": []
  }
 ],
 "metadata": {
  "kernelspec": {
   "display_name": "Python 3",
   "language": "python",
   "name": "python3"
  },
  "language_info": {
   "codemirror_mode": {
    "name": "ipython",
    "version": 3
   },
   "file_extension": ".py",
   "mimetype": "text/x-python",
   "name": "python",
   "nbconvert_exporter": "python",
   "pygments_lexer": "ipython3",
   "version": "3.8.10"
  }
 },
 "nbformat": 4,
 "nbformat_minor": 5
}
