{
 "cells": [
  {
   "cell_type": "code",
   "execution_count": null,
   "id": "51141118",
   "metadata": {},
   "outputs": [],
   "source": [
    "import numpy as np\n",
    "import mayfly as mf\n",
    "import h5py\n",
    "import pandas as pd\n",
    "import scipy\n",
    "import matplotlib.pyplot as plt\n",
    "import matplotlib\n",
    "import seaborn as sns\n",
    "import os \n",
    "import sys\n",
    "import json\n",
    "import scipy.signal\n",
    "import scipy.stats\n",
    "import scipy.interpolate\n",
    "import pickle as pkl\n",
    "import scipy.optimize\n",
    "\n",
    "PATH = '/storage/home/adz6/group/project/'\n",
    "RESULTPATH = os.path.join(PATH, 'results/mayfly')\n",
    "PLOTPATH = os.path.join(PATH, 'plots/mayfly')\n",
    "DATAPATH = os.path.join(PATH, 'datasets/data')\n",
    "\n",
    "def ShiftAndSum(signal, x_range, y_range, freq):\n",
    "    \n",
    "    nch = signal.shape[0]\n",
    "    angles = np.radians(np.arange(0, nch, 1) * 360 / nch)\n",
    "    r_array = 0.10\n",
    "    wavelength_lo = 3e8 / 25.86e9\n",
    "    Nsample = 8192\n",
    "    fsample = 200e6\n",
    "    \n",
    "    grad_b_angles = 2 * np.pi * np.arange(0, Nsample, 1) * freq / fsample\n",
    "    \n",
    "    x_antenna = r_array * np.cos(angles)\n",
    "    y_antenna = r_array * np.sin(angles)\n",
    "    \n",
    "    #x_antenna = x_antenna.reshape((x_antenna.size, 1)).repeat(signal.shape[-1], axis = -1)\n",
    "    #y_antenna = y_antenna.reshape((y_antenna.size, 1)).repeat(signal.shape[-1], axis = -1)\n",
    "    \n",
    "    x_grid, y_grid = np.meshgrid(x_range, y_range)\n",
    "    \n",
    "    x_grid = x_grid.flatten()\n",
    "    y_grid = y_grid.flatten()\n",
    "    \n",
    "    r_grid = np.sqrt(x_grid ** 2 + y_grid ** 2)\n",
    "    \n",
    "    theta_grid = np.arctan2(-y_grid, x_grid)\n",
    "    theta_grid_grad_b = theta_grid.reshape(theta_grid.size, 1) + grad_b_angles\n",
    "    #theta_grid_grad_b = theta_grid.reshape((x_range.size, y_range.size, 1)).repeat(Nsample, axis=-1) + grad_b_phases\n",
    "    \n",
    "    #print(r_grid.shape, theta_grid_grad_b.shape, r_array, angles.shape)\n",
    "    \n",
    "    #delta_theta = angles.reshape((angles.size, 1, 1)) - theta_grid_grad_b.reshape((1, *theta_grid_grad_b.shape)) \n",
    "    \n",
    "    x_grad_b = r_grid.reshape((r_grid.size, 1)) * np.cos(theta_grid_grad_b)\n",
    "    y_grad_b = r_grid.reshape((r_grid.size, 1)) * np.sin(theta_grid_grad_b)\n",
    "    \n",
    "    #print(x_grad_b.shape, y_grad_b.shape)\n",
    "    \n",
    "    d_grad_b = np.sqrt((x_antenna.reshape((x_antenna.size, 1, 1)) - x_grad_b.reshape((1, *x_grad_b.shape))) ** 2 + (y_antenna.reshape((y_antenna.size, 1, 1)) - y_grad_b.reshape((1, *y_grad_b.shape))) ** 2)\n",
    "    \n",
    "    #source_angle = -1 * 2 * np.pi * np.arange(0, Nsample, 1) * freq / fsample\n",
    "    \n",
    "    #r_new = np.sqrt(x_new ** 2 + y_new ** 2)\n",
    "    \n",
    "    #x_new = r_new * np.cos(source_angle).reshape((1, Nsample)).repeat(nch, axis=0)\n",
    "    #y_new = r_new * np.sin(source_angle).reshape((1, Nsample)).repeat(nch, axis=0)\n",
    "    \n",
    "    #d_old = np.sqrt(x_antenna ** 2 + y_antenna ** 2)\n",
    "    #d_new = np.sqrt((x_new - x_antenna) ** 2 + (y_new - y_antenna) ** 2)\n",
    "    \n",
    "    phase_shift = 2 * np.pi * (d_grad_b) / wavelength_lo + angles.reshape((angles.size, 1, 1))\n",
    "    #print(phase_shift.shape, signal.shape)\n",
    "    \n",
    "    shifted_signal = np.exp(-1j * phase_shift) * signal.reshape((signal.shape[0], 1, signal.shape[-1]))\n",
    "    \n",
    "    return shifted_signal.sum(axis=0)\n",
    "    \n",
    "#sum_signal = ShiftAndSum(np.zeros((60, 8192), np.complex64), np.linspace(-0.03, 0.03, 51), np.linspace(-0.03, 0.03, 51), 1e3)\n",
    "\n"
   ]
  },
  {
   "cell_type": "markdown",
   "id": "bf1a37f9",
   "metadata": {},
   "source": [
    "# load data"
   ]
  },
  {
   "cell_type": "code",
   "execution_count": null,
   "id": "450781bf",
   "metadata": {},
   "outputs": [],
   "source": [
    "os.listdir(os.path.join(DATAPATH))"
   ]
  },
  {
   "cell_type": "code",
   "execution_count": null,
   "id": "08ba1661",
   "metadata": {},
   "outputs": [],
   "source": [
    "os.listdir(os.path.join(RESULTPATH))"
   ]
  },
  {
   "cell_type": "code",
   "execution_count": null,
   "id": "6194caa4",
   "metadata": {},
   "outputs": [],
   "source": [
    "#test_data = mf.data.MFDataset(os.path.join(DATAPATH, '210930_87_18595_energy_angle_test_slice8192.h5'))\n",
    "template_data = mf.data.MFDataset(os.path.join(DATAPATH, '211027_84_25_2cm.h5'))\n",
    "\n",
    "#beamforming_result = np.load(os.path.join(RESULTPATH,'211005_mf_84_100_template_ideal_scores_bottom_tri.npy'))"
   ]
  },
  {
   "cell_type": "markdown",
   "id": "27809301",
   "metadata": {},
   "source": [
    "# compute scores"
   ]
  },
  {
   "cell_type": "markdown",
   "id": "dadf3a30",
   "metadata": {},
   "source": [
    "# load meta data"
   ]
  },
  {
   "cell_type": "code",
   "execution_count": null,
   "id": "14bebdb8",
   "metadata": {},
   "outputs": [],
   "source": [
    "template_metadata = pd.DataFrame(template_data.metadata)\n",
    "#test_metadata = pd.DataFrame(test_data.metadata)"
   ]
  },
  {
   "cell_type": "code",
   "execution_count": null,
   "id": "5d934e51",
   "metadata": {},
   "outputs": [],
   "source": [
    "energy_array = template_metadata['energy'].array\n",
    "angle_array = template_metadata['theta_min'].array\n",
    "\n",
    "#test_energies = np.array(test_metadata['energy'].array).squeeze()\n",
    "#test_angles = np.array(test_metadata['theta_min'].array).squeeze()\n",
    "\n",
    "unique_energy = np.sort(np.unique(template_metadata['energy'].array))\n",
    "unique_angle = np.sort(np.unique(template_metadata['theta_min'].array))\n",
    "\n",
    "energy_grid, angle_grid = np.meshgrid(unique_energy, unique_angle)\n",
    "\n",
    "sorting_indexes = []\n",
    "\n",
    "for i, pair in enumerate(zip(energy_grid.flatten(), angle_grid.flatten())):\n",
    "    \n",
    "    sorting_indexes.append(template_metadata[(template_metadata['energy'] == pair[0]) & (template_metadata['theta_min'] == pair[1])].index[0])\n",
    "    \n",
    "sorting_indexes = np.array(sorting_indexes)\n",
    "\n",
    "print(sorting_indexes.shape)"
   ]
  },
  {
   "cell_type": "code",
   "execution_count": null,
   "id": "d3133cbc",
   "metadata": {},
   "outputs": [],
   "source": [
    "print(unique_energy, unique_angle)"
   ]
  },
  {
   "cell_type": "markdown",
   "id": "d754c2c4",
   "metadata": {},
   "source": [
    "# grad-b shift beamforming, signal 1"
   ]
  },
  {
   "cell_type": "code",
   "execution_count": null,
   "id": "f993d42f",
   "metadata": {},
   "outputs": [],
   "source": [
    "signal_energy = 18595\n",
    "signal_angle = 88.0\n",
    "\n",
    "index = template_metadata[(template_metadata['energy'] == signal_energy) & (template_metadata['theta_min'] == signal_angle)].index[0]\n",
    "\n",
    "signal = template_data.data[index, :].reshape((60, 3 * 8192))[:, 0:8192]\n",
    "print(signal.shape)\n",
    "\n",
    "ngrid = 31\n",
    "x_pos_range = np.linspace(-0.03, 0.03, ngrid)\n",
    "y_pos_range = np.linspace(-0.03, 0.03, ngrid)\n",
    "grad_b_freq = 0\n",
    "\n",
    "#pos_beam = np.linspace(-xpos_range, pos_range, ngrid)\n",
    "\n",
    "sum_signal = ShiftAndSum(signal, x_pos_range, y_pos_range, grad_b_freq)"
   ]
  },
  {
   "cell_type": "code",
   "execution_count": null,
   "id": "ace20b6f",
   "metadata": {},
   "outputs": [],
   "source": [
    "sns.set_theme(style='ticks', context='paper')\n",
    "cmap = sns.color_palette('mako_r', as_cmap=True)\n",
    "fig = plt.figure(figsize=(13,8))\n",
    "ax = fig.add_subplot(1,1,1)\n",
    "\n",
    "image = np.flip((abs(sum_signal) ** 2).sum(axis=-1).reshape((ngrid, ngrid)), axis=1)\n",
    "print(image.max())\n",
    "\n",
    "img = ax.imshow(image, cmap = cmap, aspect='auto', interpolation='none')\n",
    "\n",
    "cbar = fig.colorbar(img)"
   ]
  },
  {
   "cell_type": "markdown",
   "id": "9f5546af",
   "metadata": {},
   "source": [
    "# grad-b shift beamforming, signal 2"
   ]
  },
  {
   "cell_type": "code",
   "execution_count": null,
   "id": "ea002697",
   "metadata": {},
   "outputs": [],
   "source": [
    "signal_energy = 18595\n",
    "signal_angle = 85.\n",
    "\n",
    "index = template_metadata[(template_metadata['energy'] == signal_energy) & (template_metadata['theta_min'] == signal_angle)].index[0]\n",
    "\n",
    "signal = template_data.data[index, :].reshape((60, 3 * 8192))[:, 0:8192]\n",
    "\n",
    "ngrid = 21\n",
    "x_pos_range = np.linspace(-0.03, 0.03, ngrid)\n",
    "y_pos_range = np.linspace(-0.03, 0.03, ngrid)\n",
    "grad_b_freq = 0.0\n",
    "\n",
    "#pos_beam = np.linspace(-xpos_range, pos_range, ngrid)\n",
    "\n",
    "sum_signal = ShiftAndSum(signal, x_pos_range, y_pos_range, grad_b_freq)"
   ]
  },
  {
   "cell_type": "code",
   "execution_count": null,
   "id": "bff14441",
   "metadata": {},
   "outputs": [],
   "source": [
    "sns.set_theme(style='ticks', context='paper')\n",
    "cmap = sns.color_palette('mako_r', as_cmap=True)\n",
    "fig = plt.figure(figsize=(13,8))\n",
    "ax = fig.add_subplot(1,1,1)\n",
    "\n",
    "image = np.flip((abs(sum_signal) ** 2).sum(axis=-1).reshape((ngrid, ngrid)), axis=1,)\n",
    "print(image.max())\n",
    "\n",
    "img = ax.imshow(image, cmap = cmap, aspect='auto', interpolation='none',)\n",
    "\n",
    "cbar = fig.colorbar(img)"
   ]
  },
  {
   "cell_type": "markdown",
   "id": "7607fa57",
   "metadata": {},
   "source": [
    "# plot power for range of grad-b corrections, signal 1"
   ]
  },
  {
   "cell_type": "code",
   "execution_count": null,
   "id": "1b43a772",
   "metadata": {},
   "outputs": [],
   "source": [
    "signal_energy = 18595.25\n",
    "signal_angle = 89.6125\n",
    "\n",
    "grad_b_freq_range = np.linspace(2350, 2450, 61)\n",
    "power_range = np.zeros(61)\n",
    "\n",
    "index = template_metadata[(template_metadata['energy'] == signal_energy) & (template_metadata['theta_min'] == signal_angle)].index[0]\n",
    "\n",
    "signal = template_data.data[index, :].reshape((60, 8192))\n",
    "\n",
    "ngrid = 21\n",
    "x_pos_range = np.linspace(-0.01, -0.03, ngrid)\n",
    "y_pos_range = np.linspace(-0.01, 0.01, ngrid)\n",
    "\n",
    "for i, grad_b_freq in enumerate(grad_b_freq_range):\n",
    "\n",
    "\n",
    "#pos_beam = np.linspace(-xpos_range, pos_range, ngrid)\n",
    "\n",
    "    sum_signal = ShiftAndSum(signal, x_pos_range, y_pos_range, grad_b_freq)\n",
    "    image = np.flip((abs(sum_signal) ** 2).sum(axis=-1).reshape((ngrid, ngrid)), axis=1)\n",
    "    \n",
    "    power_range[i] = image.max()\n",
    "    print(i+1)"
   ]
  },
  {
   "cell_type": "markdown",
   "id": "717f9424",
   "metadata": {},
   "source": [
    "# plot power for range of grad-b corrections, signal 2"
   ]
  },
  {
   "cell_type": "code",
   "execution_count": null,
   "id": "ebf92fcd",
   "metadata": {},
   "outputs": [],
   "source": [
    "signal_energy = 18596\n",
    "signal_angle = 89.6\n",
    "\n",
    "grad_b_freq_range = np.linspace(2350, 2450, 61)\n",
    "power_range_2 = np.zeros(61)\n",
    "\n",
    "index = template_metadata[(template_metadata['energy'] == signal_energy) & (template_metadata['theta_min'] == signal_angle)].index[0]\n",
    "\n",
    "signal = template_data.data[index, :].reshape((60, 8192))\n",
    "\n",
    "ngrid = 21\n",
    "x_pos_range = np.linspace(-0.01, -0.03, ngrid)\n",
    "y_pos_range = np.linspace(-0.01, 0.01, ngrid)\n",
    "\n",
    "for i, grad_b_freq in enumerate(grad_b_freq_range):\n",
    "\n",
    "\n",
    "#pos_beam = np.linspace(-xpos_range, pos_range, ngrid)\n",
    "\n",
    "    sum_signal = ShiftAndSum(signal, x_pos_range, y_pos_range, grad_b_freq)\n",
    "    image = np.flip((abs(sum_signal) ** 2).sum(axis=-1).reshape((ngrid, ngrid)), axis=1)\n",
    "    \n",
    "    power_range_2[i] = image.max()\n",
    "    print(i+1)"
   ]
  },
  {
   "cell_type": "markdown",
   "id": "b8f9ec70",
   "metadata": {},
   "source": [
    "# plot power for range of grad-b corrections, signal 3"
   ]
  },
  {
   "cell_type": "code",
   "execution_count": null,
   "id": "1a0509ad",
   "metadata": {},
   "outputs": [],
   "source": [
    "signal_energy = 18596\n",
    "signal_angle = 89.6\n",
    "\n",
    "grad_b_freq_range = np.linspace(2e3, 4e3, 31)\n",
    "power_range_3 = np.zeros(31)\n",
    "\n",
    "index = template_metadata[(template_metadata['energy'] == signal_energy) & (template_metadata['theta_min'] == signal_angle)].index[0]\n",
    "\n",
    "signal = template_data.data[index, :].reshape((60, 8192))\n",
    "\n",
    "ngrid = 21\n",
    "x_pos_range = np.linspace(-0.01, -0.03, ngrid)\n",
    "y_pos_range = np.linspace(-0.01, 0.01, ngrid)\n",
    "\n",
    "for i, grad_b_freq in enumerate(grad_b_freq_range):\n",
    "\n",
    "\n",
    "#pos_beam = np.linspace(-xpos_range, pos_range, ngrid)\n",
    "\n",
    "    sum_signal = ShiftAndSum(signal, x_pos_range, y_pos_range, grad_b_freq)\n",
    "    image = np.flip((abs(sum_signal) ** 2).sum(axis=-1).reshape((ngrid, ngrid)), axis=1)\n",
    "    \n",
    "    power_range_3[i] = image.max()\n",
    "    print(i+1)"
   ]
  },
  {
   "cell_type": "code",
   "execution_count": null,
   "id": "b052cc79",
   "metadata": {},
   "outputs": [],
   "source": [
    "sns.set_theme(style='whitegrid', context='paper')\n",
    "clist = sns.color_palette('deep')\n",
    "fig = plt.figure(figsize=(13,8))\n",
    "ax = fig.add_subplot(1,1,1)\n",
    "\n",
    "ax.plot(grad_b_freq_range, power_range, '.', color=clist[0])\n",
    "ax.plot(grad_b_freq_range, power_range_2, '.', color=clist[1])\n",
    "\n",
    "#ax.set_xlim(2250, 2550)\n",
    "\n",
    "#ax.set_ylim(2.5e-9, 2.7e-9)\n",
    "#ax.plot(grad_b_freq_range, power_range_3, '.', color=clist[2])\n",
    "\n",
    "ax.plot(grad_b_freq_range[power_range.argmax()], power_range.max(), marker='*', markersize=12, color=clist[3])\n",
    "ax.plot(grad_b_freq_range[power_range_2.argmax()], power_range_2.max(), marker='*', markersize=12, color=clist[3])\n",
    "#ax.plot(grad_b_freq_range[power_range_3.argmax()], power_range_3.max(), marker='*', markersize=12, color=clist[3])\n",
    "\n",
    "#ax.vlines(grad_b_freq_range[power_range.argmax()], 1.5e-9, 2.7e-9, color=clist[0])\n",
    "#ax.vlines(grad_b_freq_range[power_range_2.argmax()], 1.5e-9, 2.7e-9, color=clist[1])"
   ]
  },
  {
   "cell_type": "code",
   "execution_count": null,
   "id": "cc0a434a",
   "metadata": {},
   "outputs": [],
   "source": []
  }
 ],
 "metadata": {
  "kernelspec": {
   "display_name": "Python 3",
   "language": "python",
   "name": "python3"
  },
  "language_info": {
   "codemirror_mode": {
    "name": "ipython",
    "version": 3
   },
   "file_extension": ".py",
   "mimetype": "text/x-python",
   "name": "python",
   "nbconvert_exporter": "python",
   "pygments_lexer": "ipython3",
   "version": "3.8.10"
  }
 },
 "nbformat": 4,
 "nbformat_minor": 5
}
