{
 "cells": [
  {
   "cell_type": "code",
   "execution_count": null,
   "id": "fbec5e4a",
   "metadata": {},
   "outputs": [],
   "source": [
    "import numpy as np\n",
    "import mayfly as mf\n",
    "import h5py\n",
    "import pandas as pd\n",
    "import scipy\n",
    "import matplotlib.pyplot as plt\n",
    "import matplotlib\n",
    "import seaborn as sns\n",
    "import os \n",
    "import sys\n",
    "import json\n",
    "import scipy.signal\n",
    "import scipy.stats\n",
    "import scipy.interpolate\n",
    "import pickle as pkl\n",
    "import scipy.optimize\n",
    "from pathlib import Path\n",
    "\n",
    "PATH = '/storage/home/adz6/group/project/'\n",
    "RESULTPATH = os.path.join(PATH, 'results/mayfly')\n",
    "PLOTPATH = os.path.join(PATH, 'plots/mayfly')\n",
    "DATAPATH = os.path.join(PATH, 'datasets/kass')\n"
   ]
  },
  {
   "cell_type": "markdown",
   "id": "4a3f220e",
   "metadata": {},
   "source": [
    "# load data"
   ]
  },
  {
   "cell_type": "code",
   "execution_count": null,
   "id": "025ebc3d",
   "metadata": {},
   "outputs": [],
   "source": [
    "os.listdir(os.path.join(DATAPATH))"
   ]
  },
  {
   "cell_type": "code",
   "execution_count": null,
   "id": "874ce346",
   "metadata": {},
   "outputs": [],
   "source": [
    "#test_data = mf.data.MFDataset(os.path.join(DATAPATH, '210930_87_18595_energy_angle_test_slice8192.h5'))\n",
    "kass_data = h5py.File(os.path.join(DATAPATH, '211116_grad_b_est_kass.h5'))\n",
    "\n",
    "#beamforming_result = np.load(os.path.join(RESULTPATH,'211005_mf_84_100_template_ideal_scores_bottom_tri.npy'))"
   ]
  },
  {
   "cell_type": "code",
   "execution_count": null,
   "id": "d9c57e3a",
   "metadata": {},
   "outputs": [],
   "source": [
    "print(kass_data['kass'].keys())\n",
    "print(kass_data['meta'].keys())\n",
    "#print(kass_data['meta']['energy'].shape)\n",
    "print(kass_data['kass']['x'].shape)"
   ]
  },
  {
   "cell_type": "markdown",
   "id": "b0128b62",
   "metadata": {},
   "source": [
    "# load meta data"
   ]
  },
  {
   "cell_type": "code",
   "execution_count": null,
   "id": "4000270e",
   "metadata": {},
   "outputs": [],
   "source": [
    "kass_metadata = {}\n",
    "for i, key in enumerate(kass_data['meta'].keys()):\n",
    "    kass_metadata[key] = kass_data['meta'][key][:]\n",
    "    \n",
    "kass_metadata = pd.DataFrame.from_dict(kass_metadata)"
   ]
  },
  {
   "cell_type": "code",
   "execution_count": null,
   "id": "71a84c5e",
   "metadata": {},
   "outputs": [],
   "source": [
    "print(kass_metadata[(kass_metadata['x_min'] == 0.04) & (kass_metadata['theta_min'] == 90.0)])"
   ]
  },
  {
   "cell_type": "markdown",
   "id": "2f784bcd",
   "metadata": {},
   "source": [
    "# plot guiding center x and y example"
   ]
  },
  {
   "cell_type": "code",
   "execution_count": null,
   "id": "2f0c71e2",
   "metadata": {},
   "outputs": [],
   "source": [
    "example_ind = 5250\n",
    "fsample = 2000e6\n",
    "tmax_ind = 2048\n",
    "guide_x = kass_data['kass']['guide_x'][example_ind, :]\n",
    "guide_y = kass_data['kass']['guide_y'][example_ind, :]\n",
    "time = np.arange(0, guide_x.size, 1) / fsample\n",
    "\n",
    "print(time)\n",
    "sns.set_theme(context='paper', style='whitegrid')\n",
    "clist = sns.color_palette('deep')\n",
    "fig = plt.figure(figsize=(21, 8))\n",
    "\n",
    "ax1 = fig.add_subplot(1,2,1)\n",
    "ax1.plot(time[0:tmax_ind], guide_x[0:tmax_ind], color=clist[0])\n",
    "\n",
    "ax2 = fig.add_subplot(1,2,2)\n",
    "ax2.plot(time[0:tmax_ind], guide_y[0:tmax_ind], color=clist[1])\n"
   ]
  },
  {
   "cell_type": "markdown",
   "id": "5d35fc31",
   "metadata": {},
   "source": [
    "# plot x and y example"
   ]
  },
  {
   "cell_type": "code",
   "execution_count": null,
   "id": "e8de7cbb",
   "metadata": {},
   "outputs": [],
   "source": [
    "example_ind = 5250\n",
    "fsample = 2000e6\n",
    "tmax_ind = 2048\n",
    "x = kass_data['kass']['x'][example_ind, :]\n",
    "y = kass_data['kass']['y'][example_ind, :]\n",
    "time = np.arange(0, x.size, 1) / fsample\n",
    "\n",
    "sns.set_theme(context='paper', style='whitegrid')\n",
    "clist = sns.color_palette('deep')\n",
    "fig = plt.figure(figsize=(21, 8))\n",
    "\n",
    "ax1 = fig.add_subplot(1,2,1)\n",
    "ax1.plot(time[0:tmax_ind], x[0:tmax_ind], color=clist[0])\n",
    "\n",
    "ax2 = fig.add_subplot(1,2,2)\n",
    "ax2.plot(time[0:tmax_ind], y[0:tmax_ind], color=clist[1])\n"
   ]
  },
  {
   "cell_type": "markdown",
   "id": "7e3c57d5",
   "metadata": {},
   "source": [
    "# plot guiding center r and theta example"
   ]
  },
  {
   "cell_type": "code",
   "execution_count": null,
   "id": "1b2b5431",
   "metadata": {},
   "outputs": [],
   "source": [
    "example_ind = 5250\n",
    "fsample = 2000e6\n",
    "tmax_ind = 3 * 8192\n",
    "\n",
    "\n",
    "guide_x = kass_data['kass']['guide_x'][example_ind, :]\n",
    "guide_y = kass_data['kass']['guide_y'][example_ind, :]\n",
    "print(guide_x.size)\n",
    "time = np.arange(0, guide_x.size, 1) / fsample\n",
    "\n",
    "r = np.sqrt(guide_x ** 2 + guide_y ** 2)\n",
    "theta = np.degrees(np.arctan2(guide_y, guide_x))\n",
    "\n",
    "sns.set_theme(context='paper', style='whitegrid')\n",
    "clist = sns.color_palette('deep')\n",
    "fig = plt.figure(figsize=(21, 8))\n",
    "\n",
    "ax1 = fig.add_subplot(1,2,1)\n",
    "ax1.plot(time[0:tmax_ind], r[0:tmax_ind], color=clist[0])\n",
    "\n",
    "ax2 = fig.add_subplot(1,2,2)\n",
    "ax2.plot(time[0:tmax_ind], theta[0:tmax_ind], color=clist[1])\n",
    "\n",
    "print(theta[-1], theta[0])\n",
    "\n",
    "print(f'Estimated grad-b frequency: {np.radians(theta[-1] - theta[0]) / (time[-1] * 2 * np.pi)} Hz')\n",
    "print(kass_metadata['x_min'].iloc[example_ind])\n",
    "print(kass_metadata['theta_min'].iloc[example_ind])"
   ]
  },
  {
   "cell_type": "markdown",
   "id": "ec85f499",
   "metadata": {},
   "source": [
    "# calculate the grad-b frequency for each simulation"
   ]
  },
  {
   "cell_type": "code",
   "execution_count": null,
   "id": "2dd84d67",
   "metadata": {},
   "outputs": [],
   "source": [
    "grad_b_frequency = np.zeros(kass_data['kass']['x'].shape[0])\n",
    "fsample = 2000e6\n",
    "\n",
    "for i in range(grad_b_frequency.size):\n",
    "    \n",
    "    guide_x = kass_data['kass']['guide_x'][i, :]\n",
    "    guide_y = kass_data['kass']['guide_y'][i, :]\n",
    "    time = np.arange(0, guide_x.size, 1) / fsample\n",
    "\n",
    "    r = np.sqrt(guide_x ** 2 + guide_y ** 2)\n",
    "    theta = np.degrees(np.arctan2(guide_y, guide_x))\n",
    "    \n",
    "    grad_b_frequency[i] = np.radians(theta[-1] - theta[0]) / (time[-1] * 2 * np.pi)\n",
    "    "
   ]
  },
  {
   "cell_type": "markdown",
   "id": "b6a5dc2a",
   "metadata": {},
   "source": [
    "# plot radius-pitch angle heat map of grad-b frequencies"
   ]
  },
  {
   "cell_type": "code",
   "execution_count": null,
   "id": "999d12ad",
   "metadata": {},
   "outputs": [],
   "source": [
    "radii = np.sort(kass_metadata['x_min'].array.unique())\n",
    "angle = np.sort(kass_metadata['theta_min'].array.unique())\n",
    "\n",
    "rad_grid, angle_grid = np.meshgrid(radii, angle)\n",
    "\n",
    "gradb_grid = np.zeros(rad_grid.shape).flatten()\n",
    "missing_pixel_vals = []\n",
    "missing_pixel_inds = []\n",
    "for i, pair in enumerate(zip(rad_grid.flatten(), angle_grid.flatten())):\n",
    "    \n",
    "    try:\n",
    "        pair_index = kass_metadata[(kass_metadata['x_min'] == pair[0]) & (kass_metadata['theta_min'] == pair[1])].index\n",
    "        gradb_grid[i] = grad_b_frequency[pair_index]\n",
    "    except:\n",
    "        #print(pair)\n",
    "        missing_pixel_vals.append([pair[0], pair[1]])\n",
    "        missing_pixel_inds.append([np.argwhere(radii == pair[0])[0,0], np.argwhere(angle == pair[1])[0,0]])\n",
    "        pass\n",
    "    \n",
    "gradb_grid = gradb_grid.reshape(rad_grid.shape)\n",
    "missing_pixel_vals = np.array(missing_pixel_vals)\n",
    "missing_pixel_inds = np.array(missing_pixel_inds)\n",
    "\n",
    "print(gradb_grid.shape)\n"
   ]
  },
  {
   "cell_type": "code",
   "execution_count": null,
   "id": "9d5efd98",
   "metadata": {},
   "outputs": [],
   "source": [
    "sns.set_theme(style='ticks')\n",
    "#cmap = sns.color_palette('coolwarm', as_cmap=True)\n",
    "#cmap = sns.color_palette('tab10',as_cmap=True)\n",
    "cmap = sns.diverging_palette(130, 290, as_cmap=True)\n",
    "\n",
    "fig = plt.figure(figsize=(13, 8))\n",
    "ax = fig.add_subplot(1,1,1)\n",
    "\n",
    "img = ax.imshow(gradb_grid, cmap=cmap, aspect='auto', interpolation='none', vmin=-15000, vmax=15000, extent=(0, 0.05, 90, 84))\n",
    "cbar = fig.colorbar(img)\n",
    "\n",
    "pixel_x = 0.05 / 51\n",
    "pixel_y = 6 / 121\n",
    "#ax.plot(missing_pixels[:, 0]-pixel_x/2, missing_pixels[:, 1]-pixel_y/2, '.')\n",
    "#print(missing_pixels[0, :])\n",
    "#rectangles = [matplotlib.patches.Rectangle((missing_pixels[i, 0]-pixel_x, missing_pixels[i, 1]+pixel_y/2), pixel_x, pixel_y/2, color='red', linewidth=0)\n",
    "#             for i in range(missing_pixels.shape[0])]\n",
    "\n",
    "#plt.Rectangle(missing_pixels[0, :],1,1, color='red')\n",
    "#print(rectangles.shape)\n",
    "#ax.add_collection(matplotlib.collections.PatchCollection(rectangles, color='red'))\n"
   ]
  },
  {
   "cell_type": "markdown",
   "id": "81c588c7",
   "metadata": {},
   "source": [
    "# nearest neighbor interpolation of broken pixels"
   ]
  },
  {
   "cell_type": "code",
   "execution_count": null,
   "id": "6379547b",
   "metadata": {},
   "outputs": [],
   "source": [
    "def interpolate(missing_inds, image):\n",
    "    \n",
    "    skipped_pixels = []\n",
    "    \n",
    "    for i in range(missing_inds.shape[0]):\n",
    "        \n",
    "        neighbor_x = []\n",
    "        neighbor_y = []\n",
    "        \n",
    "        missing_x = missing_inds[i, 0]\n",
    "        missing_y = missing_inds[i, 1]\n",
    "        \n",
    "        if missing_x + 1 < image.shape[1]:\n",
    "            neighbor_x.append(missing_x + 1)\n",
    "        if missing_x - 1 >= 0:\n",
    "            neighbor_x.append(missing_x - 1)\n",
    "        if missing_y + 1 < image.shape[0]:\n",
    "            neighbor_y.append(missing_y + 1)\n",
    "        if missing_y - 1 >= 0:\n",
    "            neighbor_y.append(missing_y - 1)\n",
    "            \n",
    "        neighbor_x.append(missing_x)\n",
    "        neighbor_y.append(missing_y)\n",
    "            \n",
    "        neighbor_grid_x, neighbor_grid_y = np.meshgrid(neighbor_x, neighbor_y)\n",
    "        \n",
    "        freq_list = []\n",
    "        \n",
    "        for j, pair in enumerate(zip(neighbor_grid_x.flatten(), neighbor_grid_y.flatten())):\n",
    "            #print(pair, missing_inds[:, 0], missing_inds[:, 1])\n",
    "            if not np.any(np.logical_and(missing_inds[:, 0] == pair[0], missing_inds[:, 1] == pair[1])):\n",
    "                freq_list.append(image[pair[1], pair[0]])\n",
    "                #print(freq_list)\n",
    "                #input()\n",
    "                \n",
    "        if len(freq_list) == 0:\n",
    "            skipped_pixels.append([missing_x, missing_y])\n",
    "        else:\n",
    "            image[missing_y, missing_x] = np.mean(freq_list)\n",
    "    skipped_pixels = np.array(skipped_pixels)\n",
    "    \n",
    "    if skipped_pixels.shape[0] == 0:\n",
    "        return image\n",
    "    else:\n",
    "        interpolate(skipped_pixels, image)\n",
    "        \n",
    "        \n",
    "gradb_grid_interpolate = np.array(gradb_grid, copy=True)\n",
    "        \n",
    "interpolate(missing_pixel_inds, gradb_grid_interpolate)"
   ]
  },
  {
   "cell_type": "code",
   "execution_count": null,
   "id": "6bffcecd",
   "metadata": {},
   "outputs": [],
   "source": [
    "sns.set_theme(style='ticks', context='talk')\n",
    "#cmap = sns.color_palette('coolwarm', as_cmap=True)\n",
    "#cmap = sns.color_palette('tab10',as_cmap=True)\n",
    "cmap = sns.diverging_palette(130, 290, as_cmap=True)\n",
    "\n",
    "fig = plt.figure(figsize=(13, 8))\n",
    "ax = fig.add_subplot(1,1,1)\n",
    "\n",
    "img = ax.imshow(gradb_grid_interpolate, cmap=cmap, aspect='auto', interpolation='none', vmin=-12000, vmax=12000, extent=(0, 0.05, 90, 84))\n",
    "cbar = fig.colorbar(img, label='Grad-B Frequency (Hz)')\n",
    "\n",
    "ax.set_xlabel('Radius')\n",
    "ax.set_ylabel('Pitch Angle')\n",
    "\n",
    "plt.tight_layout()\n",
    "save_path = Path.home()/'group'/'project'/'plots'/'analysis'/'kassiopeia'\n",
    "save_path.mkdir(parents=True, exist_ok=True)\n",
    "name = '220303_gradb_frequency_map.png'\n",
    "plt.savefig(save_path/name)\n"
   ]
  },
  {
   "cell_type": "code",
   "execution_count": null,
   "id": "dc994e20",
   "metadata": {},
   "outputs": [],
   "source": [
    "name = '220303_grad_b_frequency_grid_radius_angle'\n",
    "\n",
    "rad_grid, angle_grid = np.meshgrid(radii, angle)\n",
    "\n",
    "np.savez(os.path.join(RESULTPATH, name), freq=gradb_grid_interpolate, rad_grid=rad_grid, angle_grid=angle_grid)"
   ]
  },
  {
   "cell_type": "code",
   "execution_count": null,
   "id": "9326b346",
   "metadata": {},
   "outputs": [],
   "source": []
  }
 ],
 "metadata": {
  "kernelspec": {
   "display_name": "Python 3",
   "language": "python",
   "name": "python3"
  },
  "language_info": {
   "codemirror_mode": {
    "name": "ipython",
    "version": 3
   },
   "file_extension": ".py",
   "mimetype": "text/x-python",
   "name": "python",
   "nbconvert_exporter": "python",
   "pygments_lexer": "ipython3",
   "version": "3.8.10"
  }
 },
 "nbformat": 4,
 "nbformat_minor": 5
}
