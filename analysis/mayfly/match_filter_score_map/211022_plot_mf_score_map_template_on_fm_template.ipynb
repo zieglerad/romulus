{
 "cells": [
  {
   "cell_type": "code",
   "execution_count": null,
   "id": "51141118",
   "metadata": {},
   "outputs": [],
   "source": [
    "import numpy as np\n",
    "import mayfly as mf\n",
    "import h5py\n",
    "import pandas as pd\n",
    "import scipy\n",
    "import matplotlib.pyplot as plt\n",
    "import matplotlib\n",
    "import seaborn as sns\n",
    "import os \n",
    "import sys\n",
    "import json\n",
    "import scipy.signal\n",
    "import scipy.stats\n",
    "import scipy.interpolate\n",
    "import pickle as pkl\n",
    "import scipy.optimize\n",
    "\n",
    "PATH = '/storage/home/adz6/group/project/'\n",
    "RESULTPATH = os.path.join(PATH, 'results/mayfly')\n",
    "PLOTPATH = os.path.join(PATH, 'plots/mayfly')\n",
    "DATAPATH = os.path.join(PATH, 'datasets/data')\n",
    "\n",
    "\n",
    "def linear_fit(x, a, b):\n",
    "    \n",
    "    return a + b * x\n",
    "\n"
   ]
  },
  {
   "cell_type": "markdown",
   "id": "bf1a37f9",
   "metadata": {},
   "source": [
    "# load data"
   ]
  },
  {
   "cell_type": "code",
   "execution_count": null,
   "id": "450781bf",
   "metadata": {},
   "outputs": [],
   "source": [
    "os.listdir(os.path.join(DATAPATH))"
   ]
  },
  {
   "cell_type": "code",
   "execution_count": null,
   "id": "08ba1661",
   "metadata": {},
   "outputs": [],
   "source": [
    "os.listdir(os.path.join(RESULTPATH))"
   ]
  },
  {
   "cell_type": "code",
   "execution_count": null,
   "id": "6194caa4",
   "metadata": {},
   "outputs": [],
   "source": [
    "#test_data = mf.data.MFDataset(os.path.join(DATAPATH, '210930_87_18595_energy_angle_test_slice8192.h5'))\n",
    "template_data = mf.data.MFDataset(os.path.join(DATAPATH, '211027_84_25_2cm.h5'))\n",
    "\n",
    "#beamforming_result = np.load(os.path.join(RESULTPATH,'211005_mf_84_100_template_ideal_scores_bottom_tri.npy'))"
   ]
  },
  {
   "cell_type": "code",
   "execution_count": null,
   "id": "4c8f496d",
   "metadata": {},
   "outputs": [],
   "source": [
    "template_metadata = pd.DataFrame(template_data.metadata)\n",
    "#test_metadata = pd.DataFrame(test_data.metadata)"
   ]
  },
  {
   "cell_type": "markdown",
   "id": "27809301",
   "metadata": {},
   "source": [
    "# pick signal, frequency modulate to a lower energy (higher frequency)"
   ]
  },
  {
   "cell_type": "code",
   "execution_count": null,
   "id": "f530203d",
   "metadata": {},
   "outputs": [],
   "source": [
    "signal_angle = 85.\n",
    "signal_energy = 18575\n",
    "var = 1.38e-23 * 10 * 50 * 200e6\n",
    "\n",
    "hz_per_eV = 49.1e3\n",
    "nsample = 3 * 8192\n",
    "hz_per_bin = 200e6 / nsample\n",
    "\n",
    "eV_shift = 0\n",
    "f_shift = eV_shift * hz_per_eV\n",
    "bin_shift = int(f_shift // hz_per_bin)\n",
    "\n",
    "#sns.set_theme(style='whitegrid', context='talk')\n",
    "#fig = plt.figure(figsize=(13, 8))\n",
    "#ax = fig.add_subplot(1,1,1)\n",
    "\n",
    "signal_index = template_metadata[(template_metadata['energy'] == signal_energy) & (template_metadata['theta_min'] == signal_angle)].index[0]\n",
    "signal = template_data.data[signal_index, :]\n",
    "signal = signal.reshape((60, 8192 * 3))\n",
    "\n",
    "#ax.plot(np.fft.fft(signal[0, :]))\n",
    "signal = np.roll(np.fft.fftshift(np.fft.fft(signal, axis=-1), axes=-1), bin_shift, axis=-1)\n",
    "#ax.plot(signal[0, :])\n",
    "signal = np.fft.ifft(np.fft.ifftshift(signal, axes=-1), axis=-1).flatten()\n",
    "#ax.plot(abs(signal[0:1024]))"
   ]
  },
  {
   "cell_type": "markdown",
   "id": "8d42aab5",
   "metadata": {},
   "source": [
    "# normalize signal, calculate scores"
   ]
  },
  {
   "cell_type": "code",
   "execution_count": null,
   "id": "1ed5455e",
   "metadata": {},
   "outputs": [],
   "source": [
    "norm = 1 / np.sqrt(var * np.vdot(signal, signal))\n",
    "template = signal * norm\n",
    "\n",
    "signal_shape = template_data.data.shape\n",
    "nsignal = signal_shape[0]\n",
    "indxs = np.arange(0, nsignal, 1)\n",
    "\n",
    "split_indxs = np.array_split(indxs, 3)\n",
    "scores = np.zeros(nsignal)\n",
    "for split in split_indxs:\n",
    "    print(split)\n",
    "\n",
    "    signals = template_data.data[split, :]\n",
    "    scores[split] = abs(np.matmul(signals, template.reshape((template.size, 1)).conjugate()).squeeze())\n",
    "\n",
    "#templates = (signals.T * norm).T\n",
    "\n",
    "#print(scores.shape)"
   ]
  },
  {
   "cell_type": "markdown",
   "id": "2f6c3342",
   "metadata": {},
   "source": [
    "# find sorting indicies with metadata"
   ]
  },
  {
   "cell_type": "code",
   "execution_count": null,
   "id": "65f835e5",
   "metadata": {},
   "outputs": [],
   "source": [
    "energy_array = template_metadata['energy'].array\n",
    "angle_array = template_metadata['theta_min'].array\n",
    "\n",
    "#test_energies = np.array(test_metadata['energy'].array).squeeze()\n",
    "#test_angles = np.array(test_metadata['theta_min'].array).squeeze()\n",
    "\n",
    "unique_energy = np.sort(np.unique(template_metadata['energy'].array))\n",
    "unique_angle = np.sort(np.unique(template_metadata['theta_min'].array))\n",
    "\n",
    "energy_grid, angle_grid = np.meshgrid(unique_energy, unique_angle)\n",
    "\n",
    "sorting_indexes = []\n",
    "\n",
    "for i, pair in enumerate(zip(energy_grid.flatten(), angle_grid.flatten())):\n",
    "    \n",
    "    sorting_indexes.append(template_metadata[(template_metadata['energy'] == pair[0]) & (template_metadata['theta_min'] == pair[1])].index[0])\n",
    "    \n",
    "sorting_indexes = np.array(sorting_indexes)\n",
    "\n",
    "print(sorting_indexes.shape)"
   ]
  },
  {
   "cell_type": "code",
   "execution_count": null,
   "id": "8117a751",
   "metadata": {},
   "outputs": [],
   "source": [
    "print(unique_energy, unique_angle)"
   ]
  },
  {
   "cell_type": "markdown",
   "id": "6b40637e",
   "metadata": {},
   "source": [
    "# plot "
   ]
  },
  {
   "cell_type": "code",
   "execution_count": null,
   "id": "a46d2101",
   "metadata": {},
   "outputs": [],
   "source": [
    "sns.set_theme(context='talk', style='ticks')\n",
    "cmap = sns.color_palette('mako', as_cmap=True)\n",
    "fig = plt.figure(figsize=(13,8))\n",
    "ax = fig.add_subplot(1,1,1)\n",
    "\n",
    "#signal_angle = 89.6\n",
    "#signal_energy = 18595\n",
    "\n",
    "#signal_index = template_metadata[(template_metadata['energy'] == signal_energy) & (template_metadata['theta_min'] == signal_angle)].index[0]\n",
    "#print(signal_index)\n",
    "\n",
    "#signal_index = 401\n",
    "\n",
    "#signal_energy = test_metadata['energy'].iloc[signal_index]\n",
    "#signal_angle = test_metadata['theta_min'].iloc[signal_index]\n",
    "\n",
    "#print(signal_energy)\n",
    "#print(signal_angle)\n",
    "\n",
    "plot_scores = abs(scores[sorting_indexes].reshape(energy_grid.shape))\n",
    "\n",
    "peak_coords_1 = np.flip(np.argwhere(plot_scores >= 6))\n",
    "print(unique_energy[peak_coords_1[:, 0]])\n",
    "print(unique_angle[peak_coords_1[:, 1]])\n",
    "img = ax.imshow(plot_scores, aspect='auto', cmap=cmap, extent = (18575, 18600, 90, 84))\n",
    "fig.colorbar(img)\n",
    "\n",
    "test_signal_energy = 18584\n",
    "test_signal_angle = 89.85\n",
    "\n",
    "#ax.plot(signal_energy, signal_angle, 'r*', markersize=8, label='Signal Parameters')\n",
    "#ax.plot(test_signal_energy, test_signal_angle, 'r*', markersize=8, label='Signal Parameters')\n",
    "\n",
    "#ax.legend(loc=1)\n",
    "ax.set_xlabel('Template Energy (eV)')\n",
    "ax.set_ylabel('Template Pitch Angle (deg)')\n",
    "\n",
    "name = '211007_84_100_template_on_template_example_10'\n",
    "\n",
    "plt.tight_layout()\n",
    "#plt.savefig(os.path.join(PLOTPATH, name))"
   ]
  },
  {
   "cell_type": "markdown",
   "id": "559536f7",
   "metadata": {},
   "source": [
    "# plot 2"
   ]
  },
  {
   "cell_type": "code",
   "execution_count": null,
   "id": "2cc29bcf",
   "metadata": {},
   "outputs": [],
   "source": [
    "sns.set_theme(context='talk', style='ticks')\n",
    "cmap = sns.color_palette('mako', as_cmap=True)\n",
    "fig = plt.figure(figsize=(13,8))\n",
    "ax = fig.add_subplot(1,1,1)\n",
    "\n",
    "signal_angle = 89.6\n",
    "signal_energy = 18596\n",
    "\n",
    "signal_index = template_metadata[(template_metadata['energy'] == signal_energy) & (template_metadata['theta_min'] == signal_angle)].index[0]\n",
    "print(signal_index)\n",
    "\n",
    "#signal_index = 401\n",
    "\n",
    "#signal_energy = test_metadata['energy'].iloc[signal_index]\n",
    "#signal_angle = test_metadata['theta_min'].iloc[signal_index]\n",
    "\n",
    "#print(signal_energy)\n",
    "#print(signal_angle)\n",
    "\n",
    "plot_scores = scores[signal_index, sorting_indexes].reshape(energy_grid.shape)\n",
    "\n",
    "peak_coords_2 = np.flip(np.argwhere(plot_scores >= 6))\n",
    "\n",
    "img = ax.imshow(plot_scores, aspect='auto', cmap=cmap, extent = (18590, 18600, 90, 89))\n",
    "fig.colorbar(img)\n",
    "\n",
    "ax.plot(signal_energy, signal_angle, 'r*', markersize=8, label='Signal Parameters')\n",
    "ax.plot(18595.25, 89.6125, 'r*', markersize=8, label='Signal Parameters')\n",
    "#ax.legend(loc=1)\n",
    "\n",
    "ax.set_xlabel('Template Energy (eV)')\n",
    "ax.set_ylabel('Template Pitch Angle (deg)')\n",
    "\n",
    "name = '211007_84_100_template_on_template_example_10'\n",
    "\n",
    "plt.tight_layout()\n",
    "#plt.savefig(os.path.join(PLOTPATH, name))"
   ]
  },
  {
   "cell_type": "markdown",
   "id": "07f54e3d",
   "metadata": {},
   "source": [
    "# plot peaks"
   ]
  },
  {
   "cell_type": "code",
   "execution_count": null,
   "id": "0b0e54e2",
   "metadata": {},
   "outputs": [],
   "source": [
    "sns.set_theme(context='paper', style='whitegrid')\n",
    "fig = plt.figure(figsize=(13, 8))\n",
    "ax = fig.add_subplot(1,1,1)\n",
    "\n",
    "ax.plot(peak_coords_1[:, 0], peak_coords_1[:, 1], '.')\n",
    "ax.plot(peak_coords_2[:, 0], peak_coords_2[:, 1], '.')"
   ]
  }
 ],
 "metadata": {
  "kernelspec": {
   "display_name": "Python 3",
   "language": "python",
   "name": "python3"
  },
  "language_info": {
   "codemirror_mode": {
    "name": "ipython",
    "version": 3
   },
   "file_extension": ".py",
   "mimetype": "text/x-python",
   "name": "python",
   "nbconvert_exporter": "python",
   "pygments_lexer": "ipython3",
   "version": "3.8.10"
  }
 },
 "nbformat": 4,
 "nbformat_minor": 5
}
