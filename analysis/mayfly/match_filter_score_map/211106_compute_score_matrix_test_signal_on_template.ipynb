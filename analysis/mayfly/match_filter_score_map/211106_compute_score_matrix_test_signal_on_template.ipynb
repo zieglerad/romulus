{
 "cells": [
  {
   "cell_type": "code",
   "execution_count": null,
   "id": "51141118",
   "metadata": {},
   "outputs": [],
   "source": [
    "import numpy as np\n",
    "import mayfly as mf\n",
    "import h5py\n",
    "import pandas as pd\n",
    "import scipy\n",
    "import matplotlib.pyplot as plt\n",
    "import matplotlib\n",
    "import seaborn as sns\n",
    "import os \n",
    "import sys\n",
    "import json\n",
    "import scipy.signal\n",
    "import scipy.stats\n",
    "import scipy.interpolate\n",
    "import pickle as pkl\n",
    "import scipy.optimize\n",
    "\n",
    "PATH = '/storage/home/adz6/group/project/'\n",
    "RESULTPATH = os.path.join(PATH, 'results/mayfly')\n",
    "PLOTPATH = os.path.join(PATH, 'plots/mayfly')\n",
    "DATAPATH = os.path.join(PATH, 'datasets/data')\n",
    "\n",
    "\n",
    "def linear_fit(x, a, b):\n",
    "    \n",
    "    return a + b * x\n",
    "\n"
   ]
  },
  {
   "cell_type": "markdown",
   "id": "bf1a37f9",
   "metadata": {},
   "source": [
    "# load data"
   ]
  },
  {
   "cell_type": "code",
   "execution_count": null,
   "id": "450781bf",
   "metadata": {},
   "outputs": [],
   "source": [
    "os.listdir(os.path.join(DATAPATH))"
   ]
  },
  {
   "cell_type": "code",
   "execution_count": null,
   "id": "08ba1661",
   "metadata": {},
   "outputs": [],
   "source": [
    "os.listdir(os.path.join(RESULTPATH))"
   ]
  },
  {
   "cell_type": "code",
   "execution_count": null,
   "id": "6194caa4",
   "metadata": {},
   "outputs": [],
   "source": [
    "#test_data = mf.data.MFDataset(os.path.join(DATAPATH, '210930_87_18595_energy_angle_test_slice8192.h5'))\n",
    "template_data = mf.data.MFDataset(os.path.join(DATAPATH, '211027_84_25_2cm.h5'))\n",
    "\n",
    "test_data = mf.data.MFDataset(os.path.join(DATAPATH, '211106_84_2cm_low_energy.h5'))\n",
    "\n",
    "#beamforming_result = np.load(os.path.join(RESULTPATH,'211005_mf_84_100_template_ideal_scores_bottom_tri.npy'))"
   ]
  },
  {
   "cell_type": "code",
   "execution_count": null,
   "id": "4c8f496d",
   "metadata": {},
   "outputs": [],
   "source": [
    "template_metadata = pd.DataFrame(template_data.metadata)\n",
    "test_metadata = pd.DataFrame(test_data.metadata)\n",
    "#test_metadata = pd.DataFrame(test_data.metadata)"
   ]
  },
  {
   "cell_type": "markdown",
   "id": "27809301",
   "metadata": {},
   "source": [
    "# pick signal, compute scores"
   ]
  },
  {
   "cell_type": "code",
   "execution_count": null,
   "id": "1ed5455e",
   "metadata": {},
   "outputs": [],
   "source": [
    "#signal_angle = 86.5\n",
    "#signal_energy = 18587.5\n",
    "#var = 1.38e-23 * 10 * 50 * 200e6\n",
    "\n",
    "#signal_index = template_metadata[(template_metadata['energy'] == signal_energy) & (template_metadata['theta_min'] == signal_angle)].index[0]\n",
    "#print(signal_index)\n",
    "\n",
    "#signal = template_data.data[signal_index, :]\n",
    "#norm = 1 / np.sqrt(var * np.vdot(signal, signal))\n",
    "#template = signal * norm\n",
    "\n",
    "\n",
    "#signals = test_data.data[:]\n",
    "#templates = template_data.data[:]\n",
    "\n",
    "nsignal = test_data.data.shape[0]\n",
    "ntemplate = template_data.data.shape[0]\n",
    "nsplit = 16\n",
    "\n",
    "template_indx_list = np.array_split(np.arange(0, ntemplate, 1), nsplit)\n",
    "signal_indx_list = np.array_split(np.arange(0, nsignal, 1), nsplit)\n",
    "\n",
    "scores = np.zeros((nsignal, ntemplate))\n",
    "\n",
    "nloops = nsplit ** 2\n",
    "\n",
    "counter = 0\n",
    "for i, indxs1 in enumerate(signal_indx_list):\n",
    "    for j, indxs2 in enumerate(template_indx_list):\n",
    "        #print(indxs1, indxs2)\n",
    "        #input()\n",
    "        #rows, cols = np.meshgrid(indxs1, indxs2)\n",
    "        scores[indxs1[0]:indxs1[-1] + 1, indxs2[0]:indxs2[-1] + 1] = abs(np.matmul(test_data.data[indxs1, :], template_data.data[indxs2, :].conjugate().T))\n",
    "        \n",
    "        counter += 1\n",
    "        if counter % 5 == 4:\n",
    "            print(f'{counter + 1} / {nloops}')\n",
    "        \n",
    "            \n",
    "np.save(os.path.join(RESULTPATH, 'scores', '211106_84_25_2cm_low_energy_on_template'), scores)\n"
   ]
  },
  {
   "cell_type": "code",
   "execution_count": null,
   "id": "1fddeb67",
   "metadata": {},
   "outputs": [],
   "source": [
    "\n",
    "fig = plt.figure(figsize=(13,13))\n",
    "ax = fig.add_subplot(1,1,1)\n",
    "\n",
    "ax.imshow(scores, interpolation='none')\n",
    "\n"
   ]
  },
  {
   "cell_type": "code",
   "execution_count": null,
   "id": "4e89b234",
   "metadata": {},
   "outputs": [],
   "source": [
    "sym_scores = np.zeros(scores.shape)\n",
    "for i in range(scores.shape[0]):\n",
    "    for j in range(scores.shape[1]):\n",
    "        if i <= j:\n",
    "            sym_scores[i, j] = scores[i, j]\n",
    "            sym_scores[j, i] = scores[i, j]\n",
    "            "
   ]
  },
  {
   "cell_type": "code",
   "execution_count": null,
   "id": "461506b5",
   "metadata": {},
   "outputs": [],
   "source": [
    "fig = plt.figure(figsize=(13,13))\n",
    "ax = fig.add_subplot(1,1,1)\n",
    "\n",
    "ax.imshow(sym_scores, interpolation='none')"
   ]
  },
  {
   "cell_type": "code",
   "execution_count": null,
   "id": "f6706e51",
   "metadata": {},
   "outputs": [],
   "source": [
    "np.save(os.path.join(RESULTPATH, 'scores', '211106_84_25_2cm_random_on_template'), sym_scores)"
   ]
  }
 ],
 "metadata": {
  "kernelspec": {
   "display_name": "Python 3 (ipykernel)",
   "language": "python",
   "name": "python3"
  },
  "language_info": {
   "codemirror_mode": {
    "name": "ipython",
    "version": 3
   },
   "file_extension": ".py",
   "mimetype": "text/x-python",
   "name": "python",
   "nbconvert_exporter": "python",
   "pygments_lexer": "ipython3",
   "version": "3.10.9"
  }
 },
 "nbformat": 4,
 "nbformat_minor": 5
}
