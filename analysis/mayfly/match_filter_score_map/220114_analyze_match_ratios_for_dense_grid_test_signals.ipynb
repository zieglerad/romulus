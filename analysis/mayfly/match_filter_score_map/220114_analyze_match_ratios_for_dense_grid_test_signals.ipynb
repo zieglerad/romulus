{
 "cells": [
  {
   "cell_type": "code",
   "execution_count": null,
   "id": "b00ce245",
   "metadata": {},
   "outputs": [],
   "source": [
    "import numpy as np\n",
    "import mayfly as mf\n",
    "import h5py\n",
    "import pandas as pd\n",
    "import scipy\n",
    "import matplotlib.pyplot as plt\n",
    "import matplotlib\n",
    "import seaborn as sns\n",
    "import os \n",
    "import sys\n",
    "import json\n",
    "import scipy.signal\n",
    "import scipy.stats\n",
    "import scipy.interpolate\n",
    "import pickle as pkl\n",
    "import torch\n",
    "import scipy.optimize\n",
    "\n",
    "PATH = '/storage/home/adz6/group/project/'\n",
    "RESULTPATH = os.path.join(PATH, 'results/mayfly')\n",
    "PLOTPATH = os.path.join(PATH, 'plots/mayfly')\n",
    "DATAPATH = os.path.join(PATH, 'datasets/data')\n",
    "\n",
    "\n",
    "\n"
   ]
  },
  {
   "cell_type": "code",
   "execution_count": null,
   "id": "b4c6043f",
   "metadata": {},
   "outputs": [],
   "source": [
    "os.listdir(os.path.join(RESULTPATH, 'match_ratios'))"
   ]
  },
  {
   "cell_type": "code",
   "execution_count": null,
   "id": "da99b65e",
   "metadata": {},
   "outputs": [],
   "source": [
    "match_ratios = h5py.File(os.path.join(RESULTPATH, 'match_ratios', '220114_sens_est_dense_grid_87.0_0cm_match_ratios.h5'), 'r')"
   ]
  },
  {
   "cell_type": "code",
   "execution_count": null,
   "id": "54bb5081",
   "metadata": {},
   "outputs": [],
   "source": [
    "match_ratios['1024'].shape"
   ]
  },
  {
   "cell_type": "markdown",
   "id": "c1f93909",
   "metadata": {},
   "source": [
    "# plot histograms"
   ]
  },
  {
   "cell_type": "code",
   "execution_count": null,
   "id": "daf5e92c",
   "metadata": {},
   "outputs": [],
   "source": [
    "# choose a down selection factor\n",
    "n_down_select = 0\n",
    "\n",
    "# choose a number of samples\n",
    "n_sample = 8192\n",
    "\n",
    "match = match_ratios[str(n_sample)][n_down_select, :]\n",
    "\n",
    "plt.figure()\n",
    "\n",
    "hist = plt.hist(match, 64, )"
   ]
  },
  {
   "cell_type": "markdown",
   "id": "4184dd08",
   "metadata": {},
   "source": [
    "# plot series of histograms for different down selections"
   ]
  },
  {
   "cell_type": "code",
   "execution_count": null,
   "id": "091061da",
   "metadata": {},
   "outputs": [],
   "source": [
    "# choose a number of samples\n",
    "n_sample = 8192\n",
    "\n",
    "# choose a series of down-selection factors\n",
    "n_down_select_list = [0]\n",
    "\n",
    "# choose a number of bins\n",
    "n_bins = [64,]\n",
    "\n",
    "# choose a histogram style\n",
    "hist_type = 'step'\n",
    "\n",
    "# plotting params\n",
    "figsize = (13, 8)\n",
    "xlimits = [0.4, 1.01]\n",
    "\n",
    "\n",
    "sns.set_theme(context='poster')\n",
    "fig = plt.figure(figsize=figsize)\n",
    "ax = fig.add_subplot(1,1,1,)\n",
    "\n",
    "\n",
    "for i, n_down_select in enumerate(n_down_select_list):\n",
    "    match = match_ratios[str(n_sample)][n_down_select, :]\n",
    "    grid_size = match_ratios[str(n_sample)].attrs['number-of-templates'][n_down_select]\n",
    "    mean_match = int(match.mean() * 1000) / 1000\n",
    "    #print(np.std(match))\n",
    "    hist = ax.hist(match, n_bins[i] , histtype=hist_type, label = f'Number of Templates = {grid_size}, Mean = {mean_match}', range = (0.0, 1.01))\n",
    "    \n",
    "ax.set_xlabel('Match (Best Score / Ideal Score)')\n",
    "ax.set_ylabel('N')\n",
    "\n",
    "plt.legend(loc=2)\n",
    "\n",
    "name = '220114_match_histograms_84.5_0cm_modify_grid_size.png'\n",
    "save_path = os.path.join(PATH, 'plots', 'mayfly', name)\n",
    "\n",
    "plt.tight_layout()\n",
    "#plt.savefig(save_path)"
   ]
  },
  {
   "cell_type": "markdown",
   "id": "83d7df63",
   "metadata": {},
   "source": [
    "# plot a series of match histograms for different track lengths"
   ]
  },
  {
   "cell_type": "code",
   "execution_count": null,
   "id": "3db9a404",
   "metadata": {},
   "outputs": [],
   "source": [
    "# choose a series numbers of samples\n",
    "n_sample_list = [1024, 2048, 4096, 8192]\n",
    "\n",
    "# choose a down-selection factor\n",
    "n_down_select = 132\n",
    "\n",
    "# choose a number of bins\n",
    "n_bins = [64, 64, 64, 64]\n",
    "\n",
    "# choose a histogram style\n",
    "hist_type = 'step'\n",
    "\n",
    "# plotting params\n",
    "figsize = (13, 8)\n",
    "xlimits = [0.4, 1.01]\n",
    "\n",
    "\n",
    "sns.set_theme(context='poster')\n",
    "fig = plt.figure(figsize=figsize)\n",
    "ax = fig.add_subplot(1,1,1,)\n",
    "\n",
    "\n",
    "for i, n_sample in enumerate(n_sample_list):\n",
    "    match = match_ratios[str(n_sample)][n_down_select, :]\n",
    "    grid_size = match_ratios[str(n_sample)].attrs['number-of-templates'][n_down_select]\n",
    "    mean_match = int(match.mean() * 1000) / 1000\n",
    "    #print(np.std(match))\n",
    "    hist = ax.hist(match, n_bins[i] , histtype=hist_type, label = f'Number of Samples = {2 * n_sample}, Mean = {mean_match}', range = (.8, 1.01))\n",
    "    \n",
    "ax.set_xlabel('Match (Best Score / Ideal Score)')\n",
    "ax.set_ylabel('N')\n",
    "\n",
    "plt.legend(loc=2)\n",
    "\n",
    "name = '220114_match_histograms_87.0_0cm_modify_sample_number.png'\n",
    "save_path = os.path.join(PATH, 'plots', 'mayfly', name)\n",
    "\n",
    "plt.tight_layout()\n",
    "#plt.savefig(save_path)"
   ]
  },
  {
   "cell_type": "markdown",
   "id": "3af941e2",
   "metadata": {},
   "source": [
    "# plot mean match vs template number for several different sample lengths"
   ]
  },
  {
   "cell_type": "code",
   "execution_count": null,
   "id": "0fa9fc6f",
   "metadata": {},
   "outputs": [],
   "source": [
    "# choose a number of samples\n",
    "n_sample_list = [1024, 2048, 4096, 8192]\n",
    "\n",
    "fig = plt.figure(figsize=(13, 8))\n",
    "ax = fig.add_subplot(1,1,1)\n",
    "for n_sample in n_sample_list:\n",
    "    \n",
    "    match = match_ratios[str(n_sample)][:].mean(axis=-1)\n",
    "    num_templates = match_ratios[str(n_sample)].attrs['number-of-templates']\n",
    "\n",
    "\n",
    "    smooth_kernel = np.ones(21) / 21\n",
    "\n",
    "    #smooth_match = scipy.signal.convolve(match, smooth_kernel,  mode='same')\n",
    "\n",
    "    ax.plot(num_templates, match, '.', label = f'Sample Length = {2 * n_sample}')\n",
    "\n",
    "ax.set_xscale('log')\n",
    "ax.set_xlabel('Number of Templates')\n",
    "ax.set_ylabel('Mean Match (Best Score / Ideal Score)')\n",
    "plt.legend(loc=4)\n",
    "\n",
    "\n",
    "name = '220114_mean_match_vs_number_of_templates_84.5_0cm_modify_sample_number.png'\n",
    "save_path = os.path.join(PATH, 'plots', 'mayfly', name)\n",
    "\n",
    "plt.tight_layout()\n",
    "\n",
    "plt.savefig(save_path)"
   ]
  },
  {
   "cell_type": "code",
   "execution_count": null,
   "id": "2345b515",
   "metadata": {},
   "outputs": [],
   "source": [
    "plt.plot(num_templates)\n",
    "plt.yscale('log')"
   ]
  },
  {
   "cell_type": "code",
   "execution_count": null,
   "id": "0819a268",
   "metadata": {},
   "outputs": [],
   "source": [
    "print(num_templates)"
   ]
  },
  {
   "cell_type": "markdown",
   "id": "f71eb90a",
   "metadata": {},
   "source": [
    "# Down select template grids"
   ]
  },
  {
   "cell_type": "code",
   "execution_count": null,
   "id": "a8dd12a4",
   "metadata": {},
   "outputs": [],
   "source": [
    "\n",
    "\n",
    "energies_base = np.linspace(18575, 18580, 101)\n",
    "angles_base = np.linspace(89.5 - 0.005, 89.5 + 0.005, 101)\n",
    "\n",
    "n_point = 2\n",
    "\n",
    "energy_grid, angle_grid = np.meshgrid(energies_base, angles_base)\n",
    "\n",
    "#for i in range(9):\n",
    "\n",
    "#    print(energy_grid.flatten()[np.arange(0, 101 * 101, i+1)].size)\n",
    "\n",
    "fig = plt.figure(figsize = (13, 13))\n",
    "\n",
    "ax = fig.add_subplot(1,1,1)\n",
    "ax.plot(energy_grid.flatten()[np.arange(0, 101 * 101, n_point)], angle_grid.flatten()[np.arange(0, 101 * 101, n_point)], '.', markersize=10)\n",
    "\n",
    "ax.set_xlabel('Energy (eV)')\n",
    "ax.set_ylabel('Pitch Angle (deg)')\n",
    "\n",
    "ax.set_title(f'Example Down-selected Grid, N = {energy_grid.flatten()[np.arange(0, 101 * 101, n_point)].size}')\n",
    "\n",
    "name = '220111_example_down_select_grid_4'\n",
    "\n",
    "#plt.savefig(os.path.join(PATH, 'plots', 'mayfly', name))"
   ]
  },
  {
   "cell_type": "markdown",
   "id": "6f34c3ba",
   "metadata": {},
   "source": [
    "# animate grids"
   ]
  },
  {
   "cell_type": "code",
   "execution_count": null,
   "id": "3fbd1ea5",
   "metadata": {},
   "outputs": [],
   "source": [
    "sns.set_theme(context='poster')\n",
    "\n",
    "energies_base = np.linspace(18575, 18580, 101)\n",
    "angles_base = np.linspace(89.5 - 0.005, 89.5 + 0.005, 101)\n",
    "\n",
    "energy_grid, angle_grid = np.meshgrid(energies_base, angles_base)\n",
    "\n",
    "def animate(k):\n",
    "    line.set_xdata(energy_grid.flatten()[np.arange(0, 101 * 101, k+1)])\n",
    "    line.set_ydata(angle_grid.flatten()[np.arange(0, 101 * 101, k+1)])\n",
    "    \n",
    "    ax.set_title(k)\n",
    "    \n",
    "    return line,\n",
    "\n",
    "\n",
    "fig = plt.figure(figsize = (13, 13))\n",
    "\n",
    "ax = fig.add_subplot(1,1,1)\n",
    "\n",
    "line, = ax.plot(energy_grid.flatten(), angle_grid.flatten(), '.', markersize=10)\n",
    "ax.set_title(1)\n",
    "\n",
    "#ani = matplotlib.animation.FuncAnimation(fig, animate, frames = np.arange(1, 1000, 20), interval=700)\n",
    "\n",
    "#ani.save(os.path.join(PATH, 'plots', 'mayfly', 'test.gif', ))"
   ]
  },
  {
   "cell_type": "markdown",
   "id": "f834a1c4",
   "metadata": {},
   "source": [
    "# Compute Mean Matches for different track lengths, save data"
   ]
  },
  {
   "cell_type": "code",
   "execution_count": null,
   "id": "1491f0a8",
   "metadata": {},
   "outputs": [],
   "source": [
    "os.listdir(os.path.join(RESULTPATH, 'scores', ))"
   ]
  },
  {
   "cell_type": "code",
   "execution_count": null,
   "id": "91a6de29",
   "metadata": {},
   "outputs": [],
   "source": [
    "os.listdir(os.path.join(RESULTPATH, 'scores', '220112_sens_est_dense_grid_89.5_0cm_template_scores_random_nslice2_modify_nsample'))"
   ]
  },
  {
   "cell_type": "code",
   "execution_count": null,
   "id": "88846814",
   "metadata": {},
   "outputs": [],
   "source": []
  }
 ],
 "metadata": {
  "kernelspec": {
   "display_name": "Python 3",
   "language": "python",
   "name": "python3"
  },
  "language_info": {
   "codemirror_mode": {
    "name": "ipython",
    "version": 3
   },
   "file_extension": ".py",
   "mimetype": "text/x-python",
   "name": "python",
   "nbconvert_exporter": "python",
   "pygments_lexer": "ipython3",
   "version": "3.8.10"
  }
 },
 "nbformat": 4,
 "nbformat_minor": 5
}
