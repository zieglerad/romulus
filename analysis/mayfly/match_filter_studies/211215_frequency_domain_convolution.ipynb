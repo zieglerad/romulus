{
 "cells": [
  {
   "cell_type": "code",
   "execution_count": null,
   "id": "2102ecce",
   "metadata": {},
   "outputs": [],
   "source": [
    "import numpy as np\n",
    "import mayfly as mf\n",
    "import h5py\n",
    "import pandas as pd\n",
    "import scipy\n",
    "import matplotlib.pyplot as plt\n",
    "import matplotlib\n",
    "import seaborn as sns\n",
    "import os \n",
    "import sys\n",
    "import json\n",
    "import scipy.signal\n",
    "import scipy.stats\n",
    "import scipy.interpolate\n",
    "import pickle as pkl\n",
    "import scipy.optimize\n",
    "import torch\n",
    "\n",
    "PATH = '/storage/home/adz6/group/project/'\n",
    "RESULTPATH = os.path.join(PATH, 'results/mayfly')\n",
    "PLOTPATH = os.path.join(PATH, 'plots/mayfly')\n",
    "DATAPATH = os.path.join(PATH, 'datasets/data')\n",
    "\n"
   ]
  },
  {
   "cell_type": "markdown",
   "id": "3355858f",
   "metadata": {},
   "source": [
    "# load data"
   ]
  },
  {
   "cell_type": "code",
   "execution_count": null,
   "id": "ed981d8b",
   "metadata": {},
   "outputs": [],
   "source": [
    "os.listdir(os.path.join(DATAPATH, 'dl'))"
   ]
  },
  {
   "cell_type": "code",
   "execution_count": null,
   "id": "5094283a",
   "metadata": {},
   "outputs": [],
   "source": [
    "data = os.path.join(PATH, 'datasets/data/dl', '211215_dl_classification_84_25_2cm_slice1_sample1x8192.h5')\n",
    "h5datafile = h5py.File(data, 'r')\n",
    "print(h5datafile['train']['data'].shape)\n",
    "\n",
    "pitch_angles = h5datafile['train']['meta']['theta_min'][:]\n",
    "energies = h5datafile['train']['meta']['energy'][:]\n",
    "\n",
    "real = h5datafile['train']['data'][:, 0, :]\n",
    "imag = h5datafile['train']['data'][:, 1, :]\n",
    "\n",
    "cmplx_data = real + 1j * imag"
   ]
  },
  {
   "cell_type": "markdown",
   "id": "96bea767",
   "metadata": {},
   "source": [
    "# use metadata to select templates from a specific energy"
   ]
  },
  {
   "cell_type": "code",
   "execution_count": null,
   "id": "d55bdca9",
   "metadata": {},
   "outputs": [],
   "source": [
    "theta_min = 84\n",
    "theta_max = 90\n",
    "\n",
    "energy = 18575\n",
    "\n",
    "indices = np.logical_and(pitch_angles >= theta_min, pitch_angles <= theta_max)\n",
    "\n",
    "indices = np.logical_and(indices, energies == energy)\n",
    "\n",
    "templates = cmplx_data[indices, :]\n",
    "\n",
    "print(templates.shape)"
   ]
  },
  {
   "cell_type": "code",
   "execution_count": null,
   "id": "e323aab1",
   "metadata": {},
   "outputs": [],
   "source": [
    "plt.plot(abs(templates[120, :]))"
   ]
  },
  {
   "cell_type": "markdown",
   "id": "b1cf1565",
   "metadata": {},
   "source": [
    "# Check score for identical pitch angle but different energy"
   ]
  },
  {
   "cell_type": "code",
   "execution_count": null,
   "id": "55031f87",
   "metadata": {},
   "outputs": [],
   "source": [
    "theta_min = 85\n",
    "energy = 18600\n",
    "\n",
    "index_signal = np.logical_and(pitch_angles == theta_min, energies == energy)\n",
    "\n",
    "theta_min = 85\n",
    "energy = 18575\n",
    "\n",
    "index_template = np.logical_and(pitch_angles == theta_min, energies == energy)\n",
    "\n",
    "\n",
    "\n",
    "signal = cmplx_data[index_signal, :]\n",
    "template = cmplx_data[index_template, :]\n",
    "\n",
    "\n",
    "plt.plot(abs(template[0, :]))\n",
    "plt.plot(abs(signal[0, :]))"
   ]
  },
  {
   "cell_type": "code",
   "execution_count": null,
   "id": "f7106a8e",
   "metadata": {},
   "outputs": [],
   "source": [
    "print(abs(np.vdot(template, signal)))\n",
    "print(np.max(abs(scipy.signal.correlate(template, signal))))"
   ]
  },
  {
   "cell_type": "markdown",
   "id": "2365b4f3",
   "metadata": {},
   "source": [
    "# normalize the templates, create tensor"
   ]
  },
  {
   "cell_type": "code",
   "execution_count": null,
   "id": "92af76f7",
   "metadata": {},
   "outputs": [],
   "source": [
    "var = 60 * 10 * 50 * 200e6 * 1.38e-23 / 8192\n",
    "\n",
    "norm = 1 / np.sqrt(var * (abs(templates) ** 2).sum(-1))\n",
    "\n",
    "norm_templates = norm.reshape((norm.size, 1)) * templates\n",
    "\n",
    "temp = np.zeros((121, 2, 8192))\n",
    "temp[:, 0, :] = norm_templates.real\n",
    "temp[:, 1, :] = norm_templates.imag\n",
    "\n",
    "template_tensor = torch.as_tensor(temp)\n",
    "\n",
    "temp = np.zeros((121, 2, 8192))\n",
    "temp[:, 0, :] = templates.real\n",
    "temp[:, 1, :] = templates.imag\n",
    "\n",
    "signal_tensor = torch.as_tensor(temp)"
   ]
  },
  {
   "cell_type": "code",
   "execution_count": null,
   "id": "69888c83",
   "metadata": {},
   "outputs": [],
   "source": [
    "abs(np.vdot(norm_templates[20, :], templates[20, :]))"
   ]
  },
  {
   "cell_type": "markdown",
   "id": "89cfab70",
   "metadata": {},
   "source": [
    "# define torch convolutional layer, initialize with the templates"
   ]
  },
  {
   "cell_type": "code",
   "execution_count": null,
   "id": "3c2b64f2",
   "metadata": {},
   "outputs": [],
   "source": [
    "torch_conv = torch.nn.Conv1d(2, 121, 8192, padding_mode='circular', padding='same', bias=False)\n",
    "torch_maxpool = torch.nn.MaxPool1d(8192)"
   ]
  },
  {
   "cell_type": "code",
   "execution_count": null,
   "id": "f8a045f9",
   "metadata": {},
   "outputs": [],
   "source": [
    "torch_conv.weight = torch.nn.Parameter(template_tensor, requires_grad=False)\n"
   ]
  },
  {
   "cell_type": "code",
   "execution_count": null,
   "id": "5ec655a2",
   "metadata": {},
   "outputs": [],
   "source": [
    "torch_conv.cuda()\n",
    "torch_maxpool.cuda()"
   ]
  },
  {
   "cell_type": "code",
   "execution_count": null,
   "id": "6012b1fa",
   "metadata": {},
   "outputs": [],
   "source": [
    "convolution = torch_maxpool(torch_conv(signal_tensor.cuda()))\n"
   ]
  },
  {
   "cell_type": "code",
   "execution_count": null,
   "id": "fa54968b",
   "metadata": {},
   "outputs": [],
   "source": [
    "convolution.shape"
   ]
  },
  {
   "cell_type": "code",
   "execution_count": null,
   "id": "f5b15b01",
   "metadata": {},
   "outputs": [],
   "source": [
    "plt.figure(figsize=(13, 8))\n",
    "\n",
    "plt.imshow(abs(convolution.cpu().numpy()).max(axis=-1), aspect='auto', interpolation='none')\n",
    "plt.colorbar()"
   ]
  },
  {
   "cell_type": "code",
   "execution_count": null,
   "id": "66c8c919",
   "metadata": {},
   "outputs": [],
   "source": [
    "plt.plot(convolution.cpu().numpy()[20, 20, :])"
   ]
  },
  {
   "cell_type": "code",
   "execution_count": null,
   "id": "9f2423a5",
   "metadata": {},
   "outputs": [],
   "source": [
    "print(signal_tensor.shape)\n",
    "print(template_tensor.shape)"
   ]
  },
  {
   "cell_type": "code",
   "execution_count": null,
   "id": "a464c28c",
   "metadata": {},
   "outputs": [],
   "source": [
    "plt.plot(scipy.signal.correlate(signal_tensor.numpy()[100, 0, :], template_tensor.numpy()[100, 0, :]))\n",
    "plt.plot(scipy.signal.correlate(signal_tensor.numpy()[100, 1, :], template_tensor.numpy()[100, 1, :]))\n"
   ]
  },
  {
   "cell_type": "code",
   "execution_count": null,
   "id": "dc59ed07",
   "metadata": {},
   "outputs": [],
   "source": [
    "\n",
    "plt.plot(\n",
    "    scipy.signal.fftconvolve(np.flip(signal_tensor.numpy()[20, 0, :]), template_tensor.numpy()[20, 0, :], mode='same') + \n",
    "    scipy.signal.fftconvolve(np.flip(signal_tensor.numpy()[20, 1, :]), template_tensor.numpy()[20, 1, :], mode='same')\n",
    ")"
   ]
  },
  {
   "cell_type": "code",
   "execution_count": null,
   "id": "9ee43229",
   "metadata": {},
   "outputs": [],
   "source": [
    "os.listdir(os.path.join(RESULTPATH))"
   ]
  },
  {
   "cell_type": "code",
   "execution_count": null,
   "id": "ead01648",
   "metadata": {},
   "outputs": [],
   "source": [
    "#test_data = mf.data.MFDataset(os.path.join(DATAPATH, '210930_87_18595_energy_angle_test_slice8192.h5'))\n",
    "template_data = mf.data.MFDataset(os.path.join(DATAPATH, '211027_84_25_2cm.h5'))\n",
    "\n",
    "#beamforming_result = np.load(os.path.join(RESULTPATH,'211005_mf_84_100_template_ideal_scores_bottom_tri.npy'))"
   ]
  },
  {
   "cell_type": "markdown",
   "id": "fa2863bd",
   "metadata": {},
   "source": [
    "# compute scores"
   ]
  },
  {
   "cell_type": "markdown",
   "id": "9bdf43a9",
   "metadata": {},
   "source": [
    "# load meta data"
   ]
  },
  {
   "cell_type": "code",
   "execution_count": null,
   "id": "4aaa9567",
   "metadata": {},
   "outputs": [],
   "source": [
    "template_metadata = pd.DataFrame(template_data.metadata)\n",
    "#test_metadata = pd.DataFrame(test_data.metadata)"
   ]
  },
  {
   "cell_type": "code",
   "execution_count": null,
   "id": "273bdd12",
   "metadata": {},
   "outputs": [],
   "source": [
    "energy_array = template_metadata['energy'].array\n",
    "angle_array = template_metadata['theta_min'].array\n",
    "\n",
    "#test_energies = np.array(test_metadata['energy'].array).squeeze()\n",
    "#test_angles = np.array(test_metadata['theta_min'].array).squeeze()\n",
    "\n",
    "unique_energy = np.sort(np.unique(template_metadata['energy'].array))\n",
    "unique_angle = np.sort(np.unique(template_metadata['theta_min'].array))\n",
    "\n",
    "energy_grid, angle_grid = np.meshgrid(unique_energy, unique_angle)\n",
    "\n",
    "sorting_indexes = []\n",
    "\n",
    "for i, pair in enumerate(zip(energy_grid.flatten(), angle_grid.flatten())):\n",
    "    \n",
    "    sorting_indexes.append(template_metadata[(template_metadata['energy'] == pair[0]) & (template_metadata['theta_min'] == pair[1])].index[0])\n",
    "    \n",
    "sorting_indexes = np.array(sorting_indexes)\n",
    "\n",
    "print(sorting_indexes.shape)"
   ]
  },
  {
   "cell_type": "code",
   "execution_count": null,
   "id": "dc0a3ca7",
   "metadata": {},
   "outputs": [],
   "source": [
    "print(unique_energy, unique_angle)"
   ]
  },
  {
   "cell_type": "markdown",
   "id": "cad27317",
   "metadata": {},
   "source": [
    "# remove grad-b shift, do beamforming, signal 1"
   ]
  },
  {
   "cell_type": "code",
   "execution_count": null,
   "id": "b39dce86",
   "metadata": {},
   "outputs": [],
   "source": [
    "signal_energy = 18595\n",
    "signal_angle = 89.5 \n",
    "\n",
    "index = template_metadata[(template_metadata['energy'] == signal_energy) & (template_metadata['theta_min'] == signal_angle)].index[0]\n",
    "\n",
    "signal = template_data.data[index, :].reshape((60, 8192 * 3))\n",
    "\n",
    "\n",
    "ngrid = 21\n",
    "x_pos_range = np.linspace(-0.01, -0.03, ngrid)\n",
    "y_pos_range = np.linspace(-0.01, 0.01, ngrid)\n",
    "grad_b_freq = 2.5e3\n",
    "\n",
    "shifted_signal = GradBShift(signal, 0.02, 0.00, -grad_b_freq)\n",
    "#shifted_signal = GradBShift(signal, 0.02, 0.00, grad_b_freq)\n",
    "\n",
    "#pos_beam = np.linspace(-xpos_range, pos_range, ngrid)\n",
    "\n",
    "sum_signal = ShiftAndSum(shifted_signal, x_pos_range, y_pos_range, 0)"
   ]
  },
  {
   "cell_type": "code",
   "execution_count": null,
   "id": "3dbd646b",
   "metadata": {},
   "outputs": [],
   "source": [
    "sns.set_theme(style='ticks', context='paper')\n",
    "cmap = sns.color_palette('mako_r', as_cmap=True)\n",
    "fig = plt.figure(figsize=(13,13))\n",
    "ax = fig.add_subplot(1,1,1)\n",
    "\n",
    "image = np.flip((abs(sum_signal) ** 2).sum(axis=-1).reshape((ngrid, ngrid)), axis=1)\n",
    "print(image.max())\n",
    "\n",
    "img = ax.imshow(image, cmap = cmap, aspect='auto', interpolation='none')\n",
    "\n",
    "cbar = fig.colorbar(img)"
   ]
  },
  {
   "cell_type": "markdown",
   "id": "e3d402d8",
   "metadata": {},
   "source": [
    "# choose signal and template, apply grad-b shift to signal, check matched filter scores"
   ]
  },
  {
   "cell_type": "code",
   "execution_count": null,
   "id": "7502bf3e",
   "metadata": {},
   "outputs": [],
   "source": [
    "####\n",
    "\n",
    "var = 1.38e-23 * 10 * 50 * 200e6\n",
    "rng = np.random.default_rng()\n",
    "noise = rng.multivariate_normal([0, 0], np.eye(2) * var / 2, 60 * 8192 * 3 )\n",
    "noise = noise[:, 0] + 1j * noise[:, 1]\n",
    "\n",
    "signal_energy = 18595\n",
    "signal_angle = 89.6\n",
    "\n",
    "index = template_metadata[(template_metadata['energy'] == signal_energy) & (template_metadata['theta_min'] == signal_angle)].index[0]\n",
    "signal = template_data.data[index, :].reshape((60, 8192 * 3))\n",
    "\n",
    "template_energy = 18595\n",
    "template_angle = 89.6\n",
    "\n",
    "index = template_metadata[(template_metadata['energy'] == template_energy) & (template_metadata['theta_min'] == template_angle)].index[0]\n",
    "template = template_data.data[index, :].reshape((60, 8192 * 3))\n",
    "\n",
    "template = (template.flatten() * 1 / np.sqrt(var * np.vdot(template.flatten(), template.flatten()))).reshape((60, 8192 * 3))\n",
    "\n",
    "nlist = 301\n",
    "grad_b_freq_list = np.linspace(-2e3, 2e3, nlist)\n",
    "score_list_1 = np.zeros(nlist)\n",
    "\n",
    "for i, freq in enumerate(grad_b_freq_list):\n",
    "    \n",
    "    noise = rng.multivariate_normal([0, 0], np.eye(2) * var / 2, 60 * 8192 * 3)\n",
    "    noise = noise[:, 0] + 1j * noise[:, 1]\n",
    "    \n",
    "    shift_signal = GradBShift(signal, 0.02, 0.00, -freq)\n",
    "    \n",
    "    score = abs(np.vdot(template.flatten(), shift_signal.flatten() + noise ))\n",
    "    \n",
    "    score_list_1[i] = score\n",
    "    \n",
    "    #print(i + 1)\n",
    "    \n",
    "####\n",
    "\n",
    "template_energy = 18584\n",
    "template_angle = 89.85\n",
    "\n",
    "index = template_metadata[(template_metadata['energy'] == template_energy) & (template_metadata['theta_min'] == template_angle)].index[0]\n",
    "template = template_data.data[index, :].reshape((60, 8192 * 3))\n",
    "\n",
    "template = (template.flatten() * 1 / np.sqrt(var * np.vdot(template.flatten(), template.flatten()))).reshape((60, 8192 * 3))\n",
    "\n",
    "score_list_2 = np.zeros(nlist)\n",
    "\n",
    "for i, freq in enumerate(grad_b_freq_list):\n",
    "    \n",
    "    noise = rng.multivariate_normal([0, 0], np.eye(2) * var / 2, 60 * 8192 * 3)\n",
    "    noise = noise[:, 0] + 1j * noise[:, 1]\n",
    "    \n",
    "    shift_signal = GradBShift(signal, 0.02, 0.00, -freq)\n",
    "    \n",
    "    score = abs(np.vdot(template.flatten(), shift_signal.flatten() + noise))\n",
    "    \n",
    "    score_list_2[i] = score\n",
    "\n",
    "####"
   ]
  },
  {
   "cell_type": "code",
   "execution_count": null,
   "id": "45aac2ae",
   "metadata": {},
   "outputs": [],
   "source": [
    "sns.set_theme(style='whitegrid', context='paper')\n",
    "clist = sns.color_palette('deep')\n",
    "\n",
    "fig = plt.figure(figsize=(13,8))\n",
    "ax = fig.add_subplot(1,1,1)\n",
    "ax.plot(grad_b_freq_list, score_list_1 - score_list_1.min(), '.')\n",
    "\n",
    "fig = plt.figure(figsize=(13,8))\n",
    "ax = fig.add_subplot(1,1,1)\n",
    "ax.plot(grad_b_freq_list, score_list_2 - score_list_2.min(), '.')\n",
    "\n",
    "#ax.set_xlim(75, 125)\n",
    "#ax.set_ylim(7, 8)"
   ]
  },
  {
   "cell_type": "markdown",
   "id": "d0ba9905",
   "metadata": {},
   "source": [
    "# fit a polynomial to the different curves to estimate the central position"
   ]
  },
  {
   "cell_type": "code",
   "execution_count": null,
   "id": "3d2f9920",
   "metadata": {},
   "outputs": [],
   "source": [
    "def fit_func(x, a, b, c, d):\n",
    "    \n",
    "    return d * np.exp(- (x - a) ** 2 / b ** 2) + c\n",
    "\n",
    "popt_1, pcov_1 = scipy.optimize.curve_fit(fit_func, grad_b_freq_list, score_list_1-score_list_1.min(), [0.0, 1500, 0.0, 10])\n",
    "popt_2, pcov_2 = scipy.optimize.curve_fit(fit_func, grad_b_freq_list, score_list_2-score_list_2.min(), [0.0, 1500, 0.0, 10])\n",
    "print(popt_1, popt_2)\n",
    "print(np.sqrt(pcov_1))\n",
    "print(np.sqrt(pcov_2))"
   ]
  },
  {
   "cell_type": "code",
   "execution_count": null,
   "id": "ab67d2aa",
   "metadata": {},
   "outputs": [],
   "source": [
    "sns.set_theme(style='whitegrid', context='paper')\n",
    "clist = sns.color_palette('deep')\n",
    "\n",
    "fig = plt.figure(figsize=(13,8))\n",
    "ax = fig.add_subplot(1,1,1)\n",
    "ax.plot(grad_b_freq_list, score_list_1-score_list_1.min(), '.')\n",
    "\n",
    "ax.plot(grad_b_freq_list, fit_func(grad_b_freq_list, *popt_1))\n",
    "\n",
    "fig = plt.figure(figsize=(13,8))\n",
    "ax = fig.add_subplot(1,1,1)\n",
    "ax.plot(grad_b_freq_list, score_list_2-score_list_2.min(), '.')\n",
    "\n",
    "ax.plot(grad_b_freq_list, fit_func(grad_b_freq_list, *popt_2))\n",
    "\n",
    "fig = plt.figure(figsize=(13,8))\n",
    "ax = fig.add_subplot(1,1,1)\n",
    "\n",
    "ax.plot(grad_b_freq_list, fit_func(grad_b_freq_list, *popt_1))\n",
    "ax.plot(grad_b_freq_list, fit_func(grad_b_freq_list, *popt_2))"
   ]
  },
  {
   "cell_type": "code",
   "execution_count": null,
   "id": "a6cb541f",
   "metadata": {},
   "outputs": [],
   "source": []
  }
 ],
 "metadata": {
  "kernelspec": {
   "display_name": "Python 3",
   "language": "python",
   "name": "python3"
  },
  "language_info": {
   "codemirror_mode": {
    "name": "ipython",
    "version": 3
   },
   "file_extension": ".py",
   "mimetype": "text/x-python",
   "name": "python",
   "nbconvert_exporter": "python",
   "pygments_lexer": "ipython3",
   "version": "3.8.10"
  }
 },
 "nbformat": 4,
 "nbformat_minor": 5
}
