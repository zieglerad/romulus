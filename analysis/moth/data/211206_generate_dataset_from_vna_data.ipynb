{
 "cells": [
  {
   "cell_type": "code",
   "execution_count": null,
   "id": "ef5cb75c",
   "metadata": {},
   "outputs": [],
   "source": [
    "import moth\n",
    "import os\n",
    "import sys\n",
    "import numpy as np\n",
    "import pandas as pd\n",
    "import matplotlib.pyplot as plt\n",
    "import seaborn as sns\n",
    "import csv\n",
    "import scipy\n",
    "import scipy.signal\n",
    "import h5py\n",
    "\n",
    "PATH = '/storage/home/adz6/group/project'\n",
    "VNADATAPATH = os.path.join(PATH, 'datasets/data/lab/vna')\n",
    "DAQDATAPATH = os.path.join(PATH, 'datasets/data/lab/dig')\n",
    "\n",
    "LABDATAPATH = os.path.join(PATH, 'labdata')\n",
    "#MOTHPATH = os.path.join(PATH, 'moth')\n",
    "#MOTHDATA = os.path.join(MOTHPATH, 'data/datasets')\n",
    "#PLOTPATH = os.path.join(PATH, 'plots/moth')\n",
    "#MOTHRESULTS = os.path.join(PATH, 'results/moth')\n",
    "\n",
    "\n",
    "def CombineMeasurements(name, path):\n",
    "    \n",
    "    \n",
    "    h5file = h5py.File(name, 'w')\n",
    "    \n",
    "    params = ExtractSweepParameters(path)\n",
    "    print(params)\n",
    "    \n",
    "    for i, meas_file in enumerate(os.listdir(path)):\n",
    "        print(meas_file)\n",
    "        h5file.create_group(f'{meas_file}',)\n",
    "        h5file[f'{meas_file}'].create_dataset('array',  (params['nrad'][i], params['nangle'][i], params['nsample'][i]), dtype='c8')\n",
    "        h5file[f'{meas_file}'].create_dataset('freq', (params['nsample'][i]), dtype='f8')\n",
    "        h5file[f'{meas_file}'].__setitem__('step', params['step'][i])\n",
    "        h5file[f'{meas_file}'].__setitem__('z', params['z'][i])\n",
    "        \n",
    "        angles = np.int32(np.arange(0, 360, 3))\n",
    "        #print(params['nangle'][i])\n",
    "        print(angles)\n",
    "        \n",
    "        for j, rad_sweep_file in enumerate(os.listdir(os.path.join(path, meas_file))):\n",
    "            irad = int(rad_sweep_file)\n",
    "            for k, ang_sweep_file in enumerate(os.listdir(os.path.join(path, meas_file, rad_sweep_file))):\n",
    "                angle = int(ang_sweep_file.split('.')[0])\n",
    "                #print(angle, rad_sweep_file)\n",
    "                \n",
    "                iangle = np.argwhere(angles == angle)[0, 0]\n",
    "                \n",
    "                data, freqs = ParseVNATrace(os.path.join(path, meas_file, rad_sweep_file, ang_sweep_file))\n",
    "                h5file[f'{meas_file}']['array'][irad, iangle, :] = data\n",
    "                h5file[f'{meas_file}']['freq'][:] = freqs\n",
    "    h5file.close()\n",
    "    \n",
    "def ExtractSweepParameters(path):\n",
    "    \n",
    "    rad_step_list = []\n",
    "    z_pos_list = []\n",
    "    \n",
    "    params = {'step': [], 'z': [], 'nrad': [], 'nangle': [], 'nsample': []}\n",
    "    for i, file in enumerate(os.listdir(path)):\n",
    "        params['step'].append(int(file.split('step')[-1].split('mm')[0])) #mm\n",
    "        params['z'].append(int(file.split('z')[-1].split('mm')[0]))\n",
    "        \n",
    "        params['nrad'].append(len(os.listdir(os.path.join(path, file))))\n",
    "        \n",
    "        #print(os.listdir(os.path.join(path, file, '0')))\n",
    "        \n",
    "        params['nangle'].append(len(os.listdir(os.path.join(path, file, '0'))))\n",
    "        \n",
    "        example_file = os.listdir(os.path.join(path, file, '0'))[0]\n",
    "        example_trace, example_freqs = ParseVNATrace(os.path.join(path, file, '0', example_file))\n",
    "        \n",
    "        params['nsample'].append(example_trace.size)\n",
    "    \n",
    "    return params\n",
    "\n",
    "def ParseVNATrace(path):\n",
    "    \n",
    "    with open(path, 'r') as infile:\n",
    "        for i, item in enumerate(csv.reader(infile)):\n",
    "            if i == 0:\n",
    "                item = np.float32(item)\n",
    "                \n",
    "                real = np.float32(item[np.arange(0, item.size, 2)])\n",
    "                imag = np.float32(item[np.arange(1, item.size, 2)])\n",
    "                \n",
    "                trace = real + 1j * imag\n",
    "            elif i == 1:\n",
    "                start_f = np.float32(item[-1])\n",
    "            elif i == 2:\n",
    "                end_f = np.float32(item[-1])\n",
    "                \n",
    "    return trace, np.linspace(start_f, end_f, trace.size)\n",
    "    \n",
    "    \n",
    "    "
   ]
  },
  {
   "cell_type": "code",
   "execution_count": null,
   "id": "7c7021a8",
   "metadata": {},
   "outputs": [],
   "source": [
    "os.listdir(os.path.join(LABDATAPATH, 'vna'))"
   ]
  },
  {
   "cell_type": "code",
   "execution_count": null,
   "id": "c8fb06b8",
   "metadata": {},
   "outputs": [],
   "source": [
    "#print(os.listdir(os.path.join(LABDATAPATH, 'vna', '211119_cres2_vna_trace', 'range3cm_step1mm_z0mm')))\n",
    "\n",
    "path2data = os.path.join(LABDATAPATH, 'vna', '211119_cres2_vna_trace')\n",
    "\n",
    "name = '211220_cres2_vna_trace.h5'\n",
    "\n",
    "CombineMeasurements(os.path.join(VNADATAPATH, name), path2data)"
   ]
  },
  {
   "cell_type": "code",
   "execution_count": null,
   "id": "eeee1e55",
   "metadata": {},
   "outputs": [],
   "source": [
    "os.listdir(VNADATAPATH)"
   ]
  },
  {
   "cell_type": "code",
   "execution_count": null,
   "id": "495b5d92",
   "metadata": {},
   "outputs": [],
   "source": [
    "angles = np.arange(0, 360, 360 // 60)"
   ]
  },
  {
   "cell_type": "code",
   "execution_count": null,
   "id": "a2f1ced1",
   "metadata": {},
   "outputs": [],
   "source": [
    "np.argwhere(angles == 12)[0, 0]"
   ]
  },
  {
   "cell_type": "code",
   "execution_count": null,
   "id": "1a7494e8",
   "metadata": {},
   "outputs": [],
   "source": [
    "np.linspace(0, 360, 121)[0:120]"
   ]
  },
  {
   "cell_type": "code",
   "execution_count": null,
   "id": "af441a43",
   "metadata": {},
   "outputs": [],
   "source": []
  }
 ],
 "metadata": {
  "kernelspec": {
   "display_name": "Python 3",
   "language": "python",
   "name": "python3"
  },
  "language_info": {
   "codemirror_mode": {
    "name": "ipython",
    "version": 3
   },
   "file_extension": ".py",
   "mimetype": "text/x-python",
   "name": "python",
   "nbconvert_exporter": "python",
   "pygments_lexer": "ipython3",
   "version": "3.8.10"
  }
 },
 "nbformat": 4,
 "nbformat_minor": 5
}
