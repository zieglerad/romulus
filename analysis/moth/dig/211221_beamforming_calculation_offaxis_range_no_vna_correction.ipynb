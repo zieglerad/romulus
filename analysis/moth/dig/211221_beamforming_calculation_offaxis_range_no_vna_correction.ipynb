{
 "cells": [
  {
   "cell_type": "code",
   "execution_count": 1,
   "id": "ef5cb75c",
   "metadata": {},
   "outputs": [],
   "source": [
    "import moth\n",
    "import os\n",
    "import sys\n",
    "import numpy as np\n",
    "import pandas as pd\n",
    "import matplotlib.pyplot as plt\n",
    "import seaborn as sns\n",
    "import csv\n",
    "import scipy\n",
    "import scipy.signal\n",
    "import h5py\n",
    "import pathlib\n",
    "\n",
    "PATH = '/storage/home/adz6/group/project'\n",
    "DIGDATAPATH = os.path.join(PATH, 'datasets', 'data', 'lab', 'dig')\n",
    "#DAQDATAPATH = os.path.join(PATH, 'daq_data')\n",
    "#MOTHPATH = os.path.join(PATH, 'moth')\n",
    "#MOTHDATA = os.path.join(MOTHPATH, 'data/datasets')\n",
    "#PLOTPATH = os.path.join(PATH, 'plots/moth')\n",
    "#MOTHRESULTS = os.path.join(PATH, 'results/moth')\n",
    "\n",
    "\n",
    "def SumData(array_data, xpos, ypos, nch, r=0.1, f=25.8e9, antispiral=False):\n",
    "    \n",
    "    xx, yy = np.meshgrid(xpos, ypos)\n",
    "    array_antenna_theta = np.arange(0, 2 * np.pi, 2 * np.pi / array_data.shape[0])\n",
    "\n",
    "    #xx, yy = np.expand_dims(xx, axis=0).repeat(array_data['angle'].size, axis=0), np.expand_dims(yy, axis=0).repeat(array_data['angle'].size, axis=0)\n",
    "\n",
    "    xantenna = (r * np.cos(-1 * array_antenna_theta)).reshape((array_antenna_theta.size, 1, 1))\n",
    "    yantenna = (r * np.sin(-1 * array_antenna_theta)).reshape((array_antenna_theta.size, 1, 1))\n",
    "    \n",
    "    xdist = xantenna - xx.reshape((1, *xx.shape))\n",
    "    ydist = yantenna - yy.reshape((1, *yy.shape))\n",
    "    \n",
    "    dist_grid = np.sqrt(xdist ** 2 + ydist ** 2)\n",
    "    \n",
    "    amplitude_weight = 1 #/ dist_grid\n",
    "    #amplitude_weight = amplitude_weight * (array_antenna_theta.size / amplitude_weight.sum(axis=0)).reshape((1, amplitude_weight.shape[1], amplitude_weight.shape[2]))\n",
    "\n",
    "    beamforming_phases = np.exp(-1j * 2 * np.pi * dist_grid * f / 3e8)\n",
    "    \n",
    "    if antispiral:\n",
    "        \n",
    "        grid_angles = np.arctan2(ydist, xdist)\n",
    "        \n",
    "        antispiral_phase = np.exp(-1j * grid_angles)\n",
    "        return np.matmul((amplitude_weight * beamforming_phases * antispiral_phase).T, array_data[:, nch, :])\n",
    "    else:\n",
    "        return np.matmul((amplitude_weight * beamforming_phases).T, array_data[:, nch, :])\n",
    "\n"
   ]
  },
  {
   "cell_type": "code",
   "execution_count": 2,
   "id": "25eec43c",
   "metadata": {},
   "outputs": [
    {
     "data": {
      "text/plain": [
       "['211213_cres2_meas_3ch_debug.h5',\n",
       " '211202_cres2_3ch_horn_offaxis_sweep.h5',\n",
       " '211213_cres2_meas_3ch.h5',\n",
       " '211213_cres2_meas_3ch_10slot.h5']"
      ]
     },
     "execution_count": 2,
     "metadata": {},
     "output_type": "execute_result"
    }
   ],
   "source": [
    "os.listdir(DIGDATAPATH)"
   ]
  },
  {
   "cell_type": "code",
   "execution_count": 3,
   "id": "c8fb06b8",
   "metadata": {},
   "outputs": [],
   "source": [
    "file = h5py.File(os.path.join(DIGDATAPATH, '211213_cres2_meas_3ch.h5'))"
   ]
  },
  {
   "cell_type": "code",
   "execution_count": 4,
   "id": "1468fd93",
   "metadata": {},
   "outputs": [
    {
     "data": {
      "text/plain": [
       "<KeysViewHDF5 ['0', '1', '10', '11', '12', '13', '14', '15', '16', '17', '18', '19', '2', '20', '21', '22', '23', '24', '25', '26', '27', '28', '29', '3', '30', '4', '5', '6', '7', '8', '9', 'lo_f', 'step', 'z']>"
      ]
     },
     "execution_count": 4,
     "metadata": {},
     "output_type": "execute_result"
    }
   ],
   "source": [
    "file['range3cm_step1mm_z0mm'].keys()"
   ]
  },
  {
   "cell_type": "code",
   "execution_count": 5,
   "id": "d343d880",
   "metadata": {},
   "outputs": [
    {
     "data": {
      "text/plain": [
       "(120, 4, 32758)"
      ]
     },
     "execution_count": 5,
     "metadata": {},
     "output_type": "execute_result"
    }
   ],
   "source": [
    "file['range3cm_step1mm_z10mm']['10'].shape"
   ]
  },
  {
   "cell_type": "code",
   "execution_count": 6,
   "id": "e1c24b5a",
   "metadata": {},
   "outputs": [],
   "source": [
    "test_data = file['range3cm_step1mm_z10mm']['2'][:]"
   ]
  },
  {
   "cell_type": "code",
   "execution_count": 7,
   "id": "ec1e9e04",
   "metadata": {},
   "outputs": [
    {
     "name": "stdout",
     "output_type": "stream",
     "text": [
      "[  0   2   4   6   8  10  12  14  16  18  20  22  24  26  28  30  32  34\n",
      "  36  38  40  42  44  46  48  50  52  54  56  58  60  62  64  66  68  70\n",
      "  72  74  76  78  80  82  84  86  88  90  92  94  96  98 100 102 104 106\n",
      " 108 110 112 114 116 118] 60\n"
     ]
    },
    {
     "ename": "KeyboardInterrupt",
     "evalue": "",
     "output_type": "error",
     "traceback": [
      "\u001b[0;31m---------------------------------------------------------------------------\u001b[0m",
      "\u001b[0;31mKeyboardInterrupt\u001b[0m                         Traceback (most recent call last)",
      "\u001b[0;32m<ipython-input-7-2430481a821b>\u001b[0m in \u001b[0;36m<module>\u001b[0;34m\u001b[0m\n\u001b[1;32m      5\u001b[0m \u001b[0mprint\u001b[0m\u001b[0;34m(\u001b[0m\u001b[0mselect_antennas\u001b[0m\u001b[0;34m,\u001b[0m \u001b[0mselect_antennas\u001b[0m\u001b[0;34m.\u001b[0m\u001b[0msize\u001b[0m\u001b[0;34m)\u001b[0m\u001b[0;34m\u001b[0m\u001b[0;34m\u001b[0m\u001b[0m\n\u001b[1;32m      6\u001b[0m \u001b[0;34m\u001b[0m\u001b[0m\n\u001b[0;32m----> 7\u001b[0;31m \u001b[0msummed_data\u001b[0m \u001b[0;34m=\u001b[0m \u001b[0mSumData\u001b[0m\u001b[0;34m(\u001b[0m\u001b[0mtest_data\u001b[0m\u001b[0;34m[\u001b[0m\u001b[0mselect_antennas\u001b[0m\u001b[0;34m,\u001b[0m \u001b[0;34m:\u001b[0m\u001b[0;34m,\u001b[0m \u001b[0;34m:\u001b[0m\u001b[0;34m]\u001b[0m\u001b[0;34m,\u001b[0m \u001b[0mx\u001b[0m\u001b[0;34m,\u001b[0m \u001b[0my\u001b[0m\u001b[0;34m,\u001b[0m \u001b[0;36m1\u001b[0m\u001b[0;34m,\u001b[0m \u001b[0mantispiral\u001b[0m\u001b[0;34m=\u001b[0m\u001b[0;32mFalse\u001b[0m\u001b[0;34m)\u001b[0m\u001b[0;34m\u001b[0m\u001b[0;34m\u001b[0m\u001b[0m\n\u001b[0m",
      "\u001b[0;32m<ipython-input-1-d75f4a9bee32>\u001b[0m in \u001b[0;36mSumData\u001b[0;34m(array_data, xpos, ypos, nch, r, f, antispiral)\u001b[0m\n\u001b[1;32m     48\u001b[0m         \u001b[0;32mreturn\u001b[0m \u001b[0mnp\u001b[0m\u001b[0;34m.\u001b[0m\u001b[0mmatmul\u001b[0m\u001b[0;34m(\u001b[0m\u001b[0;34m(\u001b[0m\u001b[0mamplitude_weight\u001b[0m \u001b[0;34m*\u001b[0m \u001b[0mbeamforming_phases\u001b[0m \u001b[0;34m*\u001b[0m \u001b[0mantispiral_phase\u001b[0m\u001b[0;34m)\u001b[0m\u001b[0;34m.\u001b[0m\u001b[0mT\u001b[0m\u001b[0;34m,\u001b[0m \u001b[0marray_data\u001b[0m\u001b[0;34m[\u001b[0m\u001b[0;34m:\u001b[0m\u001b[0;34m,\u001b[0m \u001b[0mnch\u001b[0m\u001b[0;34m,\u001b[0m \u001b[0;34m:\u001b[0m\u001b[0;34m]\u001b[0m\u001b[0;34m)\u001b[0m\u001b[0;34m\u001b[0m\u001b[0;34m\u001b[0m\u001b[0m\n\u001b[1;32m     49\u001b[0m     \u001b[0;32melse\u001b[0m\u001b[0;34m:\u001b[0m\u001b[0;34m\u001b[0m\u001b[0;34m\u001b[0m\u001b[0m\n\u001b[0;32m---> 50\u001b[0;31m         \u001b[0;32mreturn\u001b[0m \u001b[0mnp\u001b[0m\u001b[0;34m.\u001b[0m\u001b[0mmatmul\u001b[0m\u001b[0;34m(\u001b[0m\u001b[0;34m(\u001b[0m\u001b[0mamplitude_weight\u001b[0m \u001b[0;34m*\u001b[0m \u001b[0mbeamforming_phases\u001b[0m\u001b[0;34m)\u001b[0m\u001b[0;34m.\u001b[0m\u001b[0mT\u001b[0m\u001b[0;34m,\u001b[0m \u001b[0marray_data\u001b[0m\u001b[0;34m[\u001b[0m\u001b[0;34m:\u001b[0m\u001b[0;34m,\u001b[0m \u001b[0mnch\u001b[0m\u001b[0;34m,\u001b[0m \u001b[0;34m:\u001b[0m\u001b[0;34m]\u001b[0m\u001b[0;34m)\u001b[0m\u001b[0;34m\u001b[0m\u001b[0;34m\u001b[0m\u001b[0m\n\u001b[0m\u001b[1;32m     51\u001b[0m \u001b[0;34m\u001b[0m\u001b[0m\n",
      "\u001b[0;31mKeyboardInterrupt\u001b[0m: "
     ]
    }
   ],
   "source": [
    "x = np.linspace(-0.05, 0.05, 101)\n",
    "y = np.linspace(-0.05, 0.05, 101)\n",
    "\n",
    "select_antennas = np.arange(0, 120, 2)\n",
    "print(select_antennas, select_antennas.size)\n",
    "\n",
    "summed_data = SumData(test_data[select_antennas, :, :], x, y, 1, antispiral=False)"
   ]
  },
  {
   "cell_type": "code",
   "execution_count": null,
   "id": "1fa5c99c",
   "metadata": {},
   "outputs": [],
   "source": [
    "image = np.mean(abs(summed_data) ** 2, axis = -1)"
   ]
  },
  {
   "cell_type": "code",
   "execution_count": null,
   "id": "0fb782d2",
   "metadata": {},
   "outputs": [],
   "source": [
    "sns.set_theme(style='ticks', context='talk')\n",
    "cmap = sns.color_palette('mako_r', as_cmap=True)\n",
    "\n",
    "fig = plt.figure(figsize=(10, 8))\n",
    "ax = fig.add_subplot(1,1,1)\n",
    "\n",
    "\n",
    "img = ax.imshow(\n",
    "    image,\n",
    "    aspect='auto',\n",
    "    cmap=cmap,\n",
    "    extent=(-0.05, 0.05, 0.05, -0.05),\n",
    ")\n",
    "cbar = fig.colorbar(img, label=r'$|V_{rms}^2|$')\n",
    "ax.set_xlabel('X-Position (m)')\n",
    "ax.set_ylabel('Y-Position (m)')\n",
    "\n",
    "plt.tight_layout()\n",
    "save_path = pathlib.Path.home()/'group'/'project'/'plots'/'analysis'/'antenna'/'cyclotron_emitter'\n",
    "name = '220309_0cm_beamforming_no_antispiral'\n",
    "\n",
    "#plt.savefig(save_path/name)"
   ]
  },
  {
   "cell_type": "code",
   "execution_count": null,
   "id": "ddd5cd87",
   "metadata": {},
   "outputs": [],
   "source": []
  }
 ],
 "metadata": {
  "kernelspec": {
   "display_name": "Python 3",
   "language": "python",
   "name": "python3"
  },
  "language_info": {
   "codemirror_mode": {
    "name": "ipython",
    "version": 3
   },
   "file_extension": ".py",
   "mimetype": "text/x-python",
   "name": "python",
   "nbconvert_exporter": "python",
   "pygments_lexer": "ipython3",
   "version": "3.8.10"
  }
 },
 "nbformat": 4,
 "nbformat_minor": 5
}
