{
 "cells": [
  {
   "cell_type": "code",
   "execution_count": null,
   "id": "ef5cb75c",
   "metadata": {},
   "outputs": [],
   "source": [
    "import moth\n",
    "import os\n",
    "import sys\n",
    "import numpy as np\n",
    "import pandas as pd\n",
    "import matplotlib.pyplot as plt\n",
    "import seaborn as sns\n",
    "import csv\n",
    "import scipy\n",
    "import scipy.signal\n",
    "import h5py\n",
    "import pathlib\n",
    "\n",
    "PATH = '/storage/home/adz6/group/project'\n",
    "DIGDATAPATH = os.path.join(PATH, 'datasets', 'data', 'lab', 'dig')\n",
    "#DAQDATAPATH = os.path.join(PATH, 'daq_data')\n",
    "#MOTHPATH = os.path.join(PATH, 'moth')\n",
    "#MOTHDATA = os.path.join(MOTHPATH, 'data/datasets')\n",
    "#PLOTPATH = os.path.join(PATH, 'plots/moth')\n",
    "#MOTHRESULTS = os.path.join(PATH, 'results/moth')\n",
    "sns.set_theme(context='talk')\n",
    "\n",
    "def SumData(array_data, xpos, ypos, nch, idealx, r=0.1, f=25.8e9, antispiral=False):\n",
    "    \n",
    "    xx, yy = np.meshgrid(xpos, ypos)\n",
    "    array_antenna_theta = np.arange(0, 2 * np.pi, 2 * np.pi / array_data.shape[0])\n",
    "    \n",
    "    xantenna = (r * np.cos(-1 * array_antenna_theta)).reshape((array_antenna_theta.size, 1, 1))\n",
    "    yantenna = (r * np.sin(-1 * array_antenna_theta)).reshape((array_antenna_theta.size, 1, 1))\n",
    "    \n",
    "    xdist = xantenna - xx.reshape((1, *xx.shape))\n",
    "    ydist = yantenna - yy.reshape((1, *yy.shape))\n",
    "    \n",
    "    dist_grid = np.sqrt(xdist ** 2 + ydist ** 2)\n",
    "    \n",
    "    ind_max = np.argmax(abs(np.fft.fft(array_data[:, nch, :], axis=-1)), axis=-1)[0]\n",
    "    \n",
    "    #print(np.angle(np.fft.fft(array_data[:, nch, :], axis=-1))[:, ind_max])\n",
    "    \n",
    "    zero = np.angle(np.fft.fft(array_data[:, nch, :], axis=-1))[0, ind_max]\n",
    "    \n",
    "    ideal_antispiral = np.linspace(0, 2 * np.pi, 60)\n",
    "    ideal_x = idealx\n",
    "    ideal_y = 0.0\n",
    "    \n",
    "    ideal_distances = np.sqrt(\n",
    "        (r * np.cos(-1 * array_antenna_theta) - ideal_x) ** 2\n",
    "        + (r * np.sin(-1 * array_antenna_theta) - ideal_y) ** 2\n",
    "    )\n",
    "    \n",
    "    ideal_phases =  np.unwrap(np.roll(2 * np.pi * ideal_distances * f / 3e8 - ideal_antispiral, -15)) \n",
    "    #ideal_phases -= (zero + ideal_phases[0])\n",
    "    \n",
    "    array_phases = np.unwrap(np.angle(np.fft.fft(array_data[:, nch, :], axis=-1))[:, ind_max])\n",
    "    ideal_phases -= (ideal_phases[0] - array_phases[0])\n",
    "    ideal_phases += np.pi/4\n",
    "    \n",
    "    diff = ideal_phases - array_phases\n",
    "    \n",
    "    fig = plt.figure(figsize=(13, 8))\n",
    "    ax = fig.add_subplot(1,1,1)\n",
    "    \n",
    "    #ax.plot(np.angle(np.fft.fft(array_data[:, nch, :], axis=-1))[:, ind_max])\n",
    "    ax.plot(ideal_phases)\n",
    "    plt.show()\n",
    "    \n",
    "    fig = plt.figure(figsize=(13, 8))\n",
    "    ax = fig.add_subplot(1,1,1)\n",
    "    \n",
    "    ax.plot(array_phases)\n",
    "    ax.plot(ideal_phases)\n",
    "    ax.plot(diff)\n",
    "    #ax.plot(np.unwrap(np.angle(np.fft.fft(array_data[:, nch, :], axis=-1))[:, ind_max] - np.roll(diff, 15)))\n",
    "    \n",
    "    plt.show()\n",
    "    \n",
    "    #xx, yy = np.expand_dims(xx, axis=0).repeat(array_data['angle'].size, axis=0), np.expand_dims(yy, axis=0).repeat(array_data['angle'].size, axis=0)\n",
    "\n",
    "    \n",
    "    amplitude_weight = 1 #/ dist_grid\n",
    "    #amplitude_weight = amplitude_weight * (array_antenna_theta.size / amplitude_weight.sum(axis=0)).reshape((1, amplitude_weight.shape[1], amplitude_weight.shape[2]))\n",
    "\n",
    "    beamforming_phases = np.exp(-1j * 2 * np.pi * dist_grid * f / 3e8)\n",
    "    \n",
    "    if antispiral:\n",
    "        \n",
    "        #grid_angles = np.arctan2(ydist, xdist)\n",
    "        \n",
    "        #antispiral_phase = np.exp(-1j * grid_angles)\n",
    "        phase_shift = np.exp(-1j *  \n",
    "                                  (-1*array_antenna_theta -0 * diff)\n",
    "                                 ).reshape((60, 1, 1))\n",
    "        #antispiral_phase = np.exp(-1j * \n",
    "        #                          (array_antenna_theta + diff)\n",
    "        #                         ).reshape((60, 1, 1))\n",
    "        \n",
    "        \n",
    "        return np.matmul((amplitude_weight * beamforming_phases * phase_shift).T, array_data[:, nch, :])\n",
    "    else:\n",
    "        phase_shift = np.exp(-1j *  \n",
    "                                  (-0*array_antenna_theta -1 * diff)\n",
    "                                 ).reshape((60, 1, 1))\n",
    "        return np.matmul((amplitude_weight * beamforming_phases * phase_shift).T, array_data[:, nch, :])\n",
    "\n"
   ]
  },
  {
   "cell_type": "code",
   "execution_count": null,
   "id": "25eec43c",
   "metadata": {},
   "outputs": [],
   "source": [
    "os.listdir(DIGDATAPATH)"
   ]
  },
  {
   "cell_type": "code",
   "execution_count": null,
   "id": "c8fb06b8",
   "metadata": {},
   "outputs": [],
   "source": [
    "file = h5py.File(os.path.join(DIGDATAPATH, '211213_cres2_meas_3ch.h5'))"
   ]
  },
  {
   "cell_type": "code",
   "execution_count": null,
   "id": "1468fd93",
   "metadata": {},
   "outputs": [],
   "source": [
    "file['range3cm_step1mm_z0mm'].keys()"
   ]
  },
  {
   "cell_type": "code",
   "execution_count": null,
   "id": "d343d880",
   "metadata": {},
   "outputs": [],
   "source": [
    "file['range3cm_step1mm_z0mm']['10'].shape"
   ]
  },
  {
   "cell_type": "markdown",
   "id": "fa587c75",
   "metadata": {},
   "source": [
    "# combine signals"
   ]
  },
  {
   "cell_type": "code",
   "execution_count": null,
   "id": "49c881ff",
   "metadata": {},
   "outputs": [],
   "source": [
    "data_array = np.zeros((60, 32758), np.complex128)\n",
    "\n",
    "select_antennas = np.arange(0, 120, 2)\n",
    "# channel 0-30 from antenna 1\n",
    "# channel 30-60 from antenna 3\n",
    "\n",
    "data_array[0:30, :] = file['range3cm_step1mm_z0mm']['10'][select_antennas[0:30], 1, :]\n",
    "data_array[30:, :] = file['range3cm_step1mm_z0mm']['10'][select_antennas[0:30], 3, :]\n",
    "\n",
    "data_array = data_array.reshape((data_array.shape[0], 1, data_array.shape[-1]))\n",
    "print(data_array.shape)\n",
    "\n"
   ]
  },
  {
   "cell_type": "code",
   "execution_count": null,
   "id": "e1c24b5a",
   "metadata": {},
   "outputs": [],
   "source": [
    "test_data = file['range3cm_step1mm_z0mm']['10'][:]"
   ]
  },
  {
   "cell_type": "code",
   "execution_count": null,
   "id": "ec1e9e04",
   "metadata": {},
   "outputs": [],
   "source": [
    "idealx = 0.01\n",
    "\n",
    "x = np.linspace(-0.05, 0.05, 101)\n",
    "y = np.linspace(-0.05, 0.05, 101)\n",
    "\n",
    "summed_data_no_antispiral = SumData(test_data[select_antennas, :, :], x, y, 1, idealx, antispiral=False, )\n",
    "summed_data = SumData(test_data[select_antennas, :, :], x, y, 1, idealx, antispiral=True, )"
   ]
  },
  {
   "cell_type": "code",
   "execution_count": null,
   "id": "1fa5c99c",
   "metadata": {},
   "outputs": [],
   "source": [
    "image = np.mean(abs(summed_data) ** 2, axis = -1)\n",
    "image_no_spiral = np.mean(abs(summed_data_no_antispiral) ** 2, axis=-1)"
   ]
  },
  {
   "cell_type": "code",
   "execution_count": null,
   "id": "0fb782d2",
   "metadata": {},
   "outputs": [],
   "source": [
    "sns.set_theme(style='ticks', context='talk', font_scale=1.3)\n",
    "cmap = sns.color_palette('plasma', as_cmap=True)\n",
    "\n",
    "fig = plt.figure(figsize=(12, 10))\n",
    "ax = fig.add_subplot(1,1,1)\n",
    "\n",
    "norm = np.max(image)\n",
    "\n",
    "image_norm = image / norm\n",
    "image_no_spiral_norm = image_no_spiral / norm\n",
    "\n",
    "img = ax.imshow(\n",
    "    image_no_spiral_norm,\n",
    "    aspect='auto',\n",
    "    cmap=cmap,\n",
    "    extent=(-50, 50, 50, -50),\n",
    "    vmin=0,\n",
    "    vmax=1\n",
    ")\n",
    "cbar = fig.colorbar(img, label=r'Power (AU)')\n",
    "ax.set_xlabel('X (mm)')\n",
    "ax.set_ylabel('Y (mm)')\n",
    "\n",
    "plt.tight_layout()\n",
    "save_path = pathlib.Path.home()/'group'/'project'/'plots'/'analysis'/'antenna'/'cyclotron_emitter'\n",
    "name = '220729_10mm_beamforming_no_antispiral'\n",
    "\n",
    "plt.savefig(save_path/name)"
   ]
  },
  {
   "cell_type": "code",
   "execution_count": null,
   "id": "ddd5cd87",
   "metadata": {},
   "outputs": [],
   "source": []
  },
  {
   "cell_type": "code",
   "execution_count": null,
   "id": "65984ea5",
   "metadata": {},
   "outputs": [],
   "source": []
  }
 ],
 "metadata": {
  "kernelspec": {
   "display_name": "Python 3",
   "language": "python",
   "name": "python3"
  },
  "language_info": {
   "codemirror_mode": {
    "name": "ipython",
    "version": 3
   },
   "file_extension": ".py",
   "mimetype": "text/x-python",
   "name": "python",
   "nbconvert_exporter": "python",
   "pygments_lexer": "ipython3",
   "version": "3.8.10"
  }
 },
 "nbformat": 4,
 "nbformat_minor": 5
}
