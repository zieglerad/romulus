{
 "cells": [
  {
   "cell_type": "code",
   "execution_count": null,
   "id": "ef5cb75c",
   "metadata": {},
   "outputs": [],
   "source": [
    "import moth\n",
    "import os\n",
    "import sys\n",
    "import numpy as np\n",
    "import pandas as pd\n",
    "import matplotlib.pyplot as plt\n",
    "import seaborn as sns\n",
    "import csv\n",
    "import scipy\n",
    "import scipy.signal\n",
    "import h5py\n",
    "\n",
    "PATH = '/storage/home/adz6/group/project'\n",
    "VNADATAPATH = os.path.join(PATH, 'datasets/data/lab/vna')\n",
    "DAQDATAPATH = os.path.join(PATH, 'datasets/data/lab/dig')\n",
    "\n",
    "VNARESULTS = os.path.join(PATH, 'results/moth/vna')\n",
    "\n",
    "LABDATAPATH = os.path.join(PATH, 'labdata')\n",
    "#MOTHPATH = os.path.join(PATH, 'moth')\n",
    "#MOTHDATA = os.path.join(MOTHPATH, 'data/datasets')\n",
    "#PLOTPATH = os.path.join(PATH, 'plots/moth')\n",
    "#MOTHRESULTS = os.path.join(PATH, 'results/moth')\n",
    "\n",
    "\n",
    "def CalculateMagPhase(h5data, name, nch=120):\n",
    "    \n",
    "    new_h5file = h5py.File(name, 'w')\n",
    "    \n",
    "    for i, key_i in enumerate(h5data):\n",
    "        new_h5file.create_group(key_i)\n",
    "        print(key_i)\n",
    "        for j, key_j in enumerate(h5data[key_i]):\n",
    "            if key_j == 'array':\n",
    "                phase = np.unwrap(np.angle(h5data[key_i][key_j][:, 0:nch, :]), axis=1)\n",
    "                mag = abs(datafile[key_i][key_j][:, 0:nch, :])\n",
    "                new_h5file[key_i].create_dataset('phase', data = phase)\n",
    "                new_h5file[key_i].create_dataset('mag', data = mag)\n",
    "            elif key_j == 'freq':\n",
    "                new_h5file[key_i].create_dataset(key_j, data = h5data[key_i][key_j][:])\n",
    "                \n",
    "    \n",
    "    new_h5file.close()\n",
    "    \n",
    "    \n",
    "def SpatialPhaseCorrection(rad, init_phase):\n",
    "    \n",
    "    array_rad = 0.10\n",
    "    rotation_angles = np.arange(0, 360, 3)\n",
    "    initial_phase = - np.radians(init_phase)\n",
    "    frequency = 25.8e9\n",
    "    c = 3e8\n",
    "    wavelength = c / frequency\n",
    "\n",
    "    x = rad \n",
    "    y = 0\n",
    "\n",
    "    x_array = array_rad * np.cos(np.radians(rotation_angles) + initial_phase)\n",
    "    y_array = array_rad * np.sin(np.radians(rotation_angles) + initial_phase)\n",
    "    d = np.sqrt((x - x_array) ** 2 + (y - y_array) ** 2)\n",
    "\n",
    "    phase = 2 * np.pi * d / wavelength\n",
    "\n",
    "    return phase - phase[0]\n",
    "\n",
    "    \n",
    "    \n",
    "        \n",
    "\n",
    "\n",
    "    "
   ]
  },
  {
   "cell_type": "code",
   "execution_count": null,
   "id": "9e3af983",
   "metadata": {},
   "outputs": [],
   "source": [
    "os.listdir(VNADATAPATH)"
   ]
  },
  {
   "cell_type": "code",
   "execution_count": null,
   "id": "581149a1",
   "metadata": {},
   "outputs": [],
   "source": [
    "datafile = h5py.File(os.path.join(VNADATAPATH, '211220_cres2_vna_trace.h5'), 'r')\n",
    "print(datafile.keys())"
   ]
  },
  {
   "cell_type": "code",
   "execution_count": null,
   "id": "49b9a8f9",
   "metadata": {},
   "outputs": [],
   "source": [
    "name = os.path.join(VNARESULTS, '211220_cres2_vna_trace_magphase.h5')\n",
    "\n",
    "CalculateMagPhase(datafile, name, nch=120)"
   ]
  },
  {
   "cell_type": "code",
   "execution_count": null,
   "id": "6729e3b2",
   "metadata": {},
   "outputs": [],
   "source": [
    "np.linspace(0, 357, 120)"
   ]
  },
  {
   "cell_type": "markdown",
   "id": "fb03fb67",
   "metadata": {},
   "source": [
    "# plot axial/angle mag surface"
   ]
  },
  {
   "cell_type": "code",
   "execution_count": null,
   "id": "414b117e",
   "metadata": {},
   "outputs": [],
   "source": [
    "magphase_data = h5py.File(name, 'r')"
   ]
  },
  {
   "cell_type": "code",
   "execution_count": null,
   "id": "467d814d",
   "metadata": {},
   "outputs": [],
   "source": [
    "magphase_data.keys()"
   ]
  },
  {
   "cell_type": "code",
   "execution_count": null,
   "id": "e5cd5d1f",
   "metadata": {},
   "outputs": [],
   "source": [
    "z_array = np.linspace(-10, 10, 5)\n",
    "ang_array = np.int32(np.linspace(0, 357, 120))\n",
    "irad = 0\n",
    "ifreq = 800\n",
    "acq = 'range3cm_step1mm_z0mm'\n",
    "#frequencies = datafile[acq]['freq'][:]\n",
    "\n",
    "ang_grid, z_grid = np.meshgrid(ang_array, z_array)\n",
    "\n",
    "mag_data = np.zeros((z_grid.shape))\n",
    "\n",
    "for i, z in enumerate(z_array):\n",
    "\n",
    "    mag_data[i, :] = magphase_data[f'range3cm_step1mm_z{int(z)}mm']['mag'][irad, :, ifreq]\n",
    "\n",
    "    \n",
    "#print(z_grid)\n"
   ]
  },
  {
   "cell_type": "code",
   "execution_count": null,
   "id": "5f586aca",
   "metadata": {},
   "outputs": [],
   "source": [
    "print(np.var(20 * np.log10(np.flip(mag_data, 0) ), axis=(0, 1)) ** (1/2))\n"
   ]
  },
  {
   "cell_type": "markdown",
   "id": "5a466095",
   "metadata": {},
   "source": [
    "# plot an example mag pattern in 2d"
   ]
  },
  {
   "cell_type": "code",
   "execution_count": null,
   "id": "532b89de",
   "metadata": {},
   "outputs": [],
   "source": [
    "magphase_data = h5py.File(name, 'r')"
   ]
  },
  {
   "cell_type": "code",
   "execution_count": null,
   "id": "52f48dce",
   "metadata": {},
   "outputs": [],
   "source": [
    "magphase_data.keys()"
   ]
  },
  {
   "cell_type": "code",
   "execution_count": null,
   "id": "3035f10d",
   "metadata": {},
   "outputs": [],
   "source": [
    "z_array = np.linspace(-10, 10, 5)\n",
    "ang_array = np.int32(np.linspace(0, 357, 120))\n",
    "irad = 0\n",
    "ifreq = 800\n",
    "acq = 'range3cm_step1mm_z0mm'\n",
    "#frequencies = datafile[acq]['freq'][:]\n",
    "\n",
    "ang_grid, z_grid = np.meshgrid(ang_array, z_array)\n",
    "\n",
    "mag_data = np.zeros((z_grid.shape))\n",
    "\n",
    "for i, z in enumerate(z_array):\n",
    "\n",
    "    mag_data[i, :] = magphase_data[f'range3cm_step1mm_z{int(z)}mm']['mag'][irad, :, ifreq]\n",
    "\n",
    "    \n",
    "#print(z_grid)"
   ]
  },
  {
   "cell_type": "code",
   "execution_count": null,
   "id": "c8fb06b8",
   "metadata": {},
   "outputs": [],
   "source": [
    "\n",
    "sns.set_theme(style='ticks', context='talk')\n",
    "cmap = sns.color_palette('mako', as_cmap=True)\n",
    "fig = plt.figure(figsize=(13, 8))\n",
    "\n",
    "ax = fig.add_subplot(1,1,1)\n",
    "\n",
    "img = ax.imshow(20 * np.log10(mag_data ), aspect='auto', cmap=cmap, extent=(0, 360, -10, 10))\n",
    "\n",
    "cbar = fig.colorbar(img, label ='dB')\n",
    "\n",
    "ax.set_xlabel('Angle')\n",
    "ax.set_ylabel('10-Slot z position')\n",
    "ax.set_title('S21 Pattern for Fake CRES #2')\n",
    "\n",
    "name = '220110_cres2_example_s21_mag_pattern_10slot'\n",
    "#plt.savefig(os.path.join(PATH, 'plots', 'moth', name))\n",
    "#ax = fig.add_subplot(1,1,1, projection='3d')\n",
    "\n",
    "#plt.plot_surface(ang_grid, z_grid, 20 * np.log10(mag_data ), cmap=cmap, edgecolor='k')\n",
    "\n",
    "\n",
    "#ax.set_zlim3d(-70, -40)\n"
   ]
  },
  {
   "cell_type": "markdown",
   "id": "17427ffc",
   "metadata": {},
   "source": [
    "# plot an example phase curve "
   ]
  },
  {
   "cell_type": "code",
   "execution_count": null,
   "id": "5cbfef17",
   "metadata": {},
   "outputs": [],
   "source": [
    "sns.set_theme(context='poster', style='darkgrid')\n",
    "fig = plt.figure(figsize=(13, 8))\n",
    "\n",
    "ax = fig.add_subplot(1,1,1)\n",
    "\n",
    "phases = np.degrees(np.unwrap(np.angle(np.roll(datafile['range3cm_step1mm_z0mm']['array'][0, 0:120, 601], 0))))\n",
    "\n",
    "ax.plot(np.arange(0, 360, 3), phases - phases[0], label=f'R = 0.0 cm')\n",
    "\n",
    "phases = np.degrees(np.unwrap(np.angle(np.roll(datafile['range3cm_step1mm_z0mm']['array'][2, 0:120, 601], 0))))\n",
    "\n",
    "ax.plot(np.arange(0, 360, 3), phases - phases[0], label=f'R = 0.2 cm')\n",
    "\n",
    "phases = np.degrees(np.unwrap(np.angle(np.roll(datafile['range3cm_step1mm_z0mm']['array'][5, 0:120, 601], 0))))\n",
    "\n",
    "ax.plot(np.arange(0, 360, 3), phases - phases[0], label=f'R = 0.5 cm')\n",
    "\n",
    "#phases = np.degrees(np.unwrap(np.angle(np.roll(datafile['range1cm_step1mm_z0mm']['array'][, 0:120, 601], 0))))\n",
    "\n",
    "#ax.plot(np.arange(0, 360, 3), phases - phases[0], label=f'R = 1.0 cm')\n",
    "\n",
    "ax.set_xlabel('Rotation Angle (deg)')\n",
    "ax.set_ylabel('Phase (deg)')\n",
    "ax.set_title('Phase vs Rotation Angle for CRES #2')\n",
    "\n",
    "plt.legend(loc=8)\n",
    "\n",
    "name = '220110_phase_vs_rotation_cres2_10slot'\n",
    "\n",
    "#plt.savefig(os.path.join(PATH, 'plots/moth', name))"
   ]
  },
  {
   "cell_type": "code",
   "execution_count": null,
   "id": "1231feaf",
   "metadata": {},
   "outputs": [],
   "source": [
    "sns.set_theme(context='talk', style='whitegrid', font_scale=1.2)\n",
    "fig = plt.figure(figsize=(13, 8))\n",
    "\n",
    "x = np.arange(0, 360, 3)\n",
    "ax = fig.add_subplot(1,1,1)\n",
    "\n",
    "phase_total = np.zeros(x.size)\n",
    "for z in [0,]:\n",
    "    phase = np.degrees(np.unwrap(np.angle(np.roll(datafile[f'range3cm_step1mm_z{z}mm']['array'][0, 0:120, 601], 0))))\n",
    "    ax.plot(x, phase-phase[0], label=f'Measured Phase')\n",
    "    #phase_total += np.degrees(np.unwrap(np.angle(np.roll(datafile[f'range3cm_step1mm_z{z}mm']['array'][0, 0:120, 601], 0))))\n",
    "phase_total /= 5\n",
    "\n",
    "#ax.plot(x, phase_total - phase_total[0], label=f'Measured S21 Phase')\n",
    "ax.plot(x, -x, color='grey', linestyle='--', label='Predicted Phase')\n",
    "\n",
    "ax.set_xlabel('Rotation Angle (deg)')\n",
    "ax.set_ylabel('Phase (deg)')\n",
    "ax.set_title(r'Cyclotron Antenna S21 Phase ')\n",
    "\n",
    "plt.legend(loc=1,)\n",
    "\n",
    "name = '220727_phase_vs_rotation_cyclotron_emitter'\n",
    "\n",
    "#plt.savefig(os.path.join(PATH, 'plots/analysis/antenna/cyclotron_emitter', name))"
   ]
  },
  {
   "cell_type": "code",
   "execution_count": null,
   "id": "e991e9e0",
   "metadata": {},
   "outputs": [],
   "source": [
    "sns.set_theme(context='talk', style='whitegrid', font_scale=1.2)\n",
    "fig = plt.figure(figsize=(12, 8))\n",
    "ncopies = 1\n",
    "\n",
    "x = np.arange(0, 360 * ncopies, 3)\n",
    "ax = fig.add_subplot(1,1,1, projection='polar')\n",
    "\n",
    "\n",
    "phase_total = np.zeros(x.size)\n",
    "for z in [-10, -5, 0, 5, 10]:\n",
    "    phase = np.degrees(np.unwrap(np.angle(np.roll(datafile[f'range3cm_step1mm_z{z}mm']['array'][0, 0:120, 601], 0))))\n",
    "    #phase = np.degrees(np.unwrap(np.radians(np.tile(phase, (1, ncopies))).squeeze()))\n",
    "        \n",
    "    ax.plot(np.radians(x), (phase-phase[0])+360, '-', label=f'{z} mm', markersize=9)\n",
    "    #phase_total += np.degrees(np.unwrap(np.angle(np.roll(datafile[f'range3cm_step1mm_z{z}mm']['array'][0, 0:120, 601], 0))))\n",
    "phase_total /= 5\n",
    "\n",
    "#ax.plot(x, phase_total - phase_total[0], label=f'Measured S21 Phase')\n",
    "ax.plot(np.radians(x), -x+360, color='grey', linestyle='--', label='Predicted', lw=3)\n",
    "\n",
    "#ax.set_xlabel('Rotation Angle (deg)')\n",
    "#ax.set_ylabel('Phase (deg)')\n",
    "ax.set_title(r'Measured Relative Phase vs. Rotation Angle')\n",
    "ax.set_rlabel_position(-22.5)\n",
    "ax.text(np.radians(-35), 420, 'Phase (deg)', rotation = 65)\n",
    "\n",
    "ax.set_yticks(np.arange(0, 420, 60))\n",
    "plt.legend(loc=(0.99, .55),ncol=1, title='Vertical Offset')\n",
    "#plt.tight_layout()\n",
    "\n",
    "name = '220919_measured_relative_phase_interpolate'\n",
    "#plt.savefig(os.path.join(PATH, 'plots/analysis/antenna/cyclotron_emitter', name), dpi=256)"
   ]
  },
  {
   "cell_type": "markdown",
   "id": "3e82e9f2",
   "metadata": {},
   "source": [
    "# plot phase curves with spatial phase removed"
   ]
  },
  {
   "cell_type": "code",
   "execution_count": null,
   "id": "e0e5af88",
   "metadata": {},
   "outputs": [],
   "source": [
    "sns.set_theme(context='poster', style='darkgrid')\n",
    "fig = plt.figure(figsize=(13, 8))\n",
    "\n",
    "ax = fig.add_subplot(1,1,1)\n",
    "\n",
    "ax.plot(np.arange(0, 360, 3), np.degrees(SpatialPhaseCorrection(0.0, 90)), label = 'R = 0.0 cm')\n",
    "ax.plot(np.arange(0, 360, 3), np.degrees(SpatialPhaseCorrection(0.002, 90)), label = 'R = 0.2 cm')\n",
    "ax.plot(np.arange(0, 360, 3), np.degrees(SpatialPhaseCorrection(0.005, 90)), label = 'R = 0.5 cm')\n",
    "ax.plot(np.arange(0, 360, 3), np.degrees(SpatialPhaseCorrection(0.01, 90)), label = 'R = 1.0 cm')\n",
    "\n",
    "ax.set_xlabel('Rotation Angle (deg)')\n",
    "ax.set_ylabel('Spatial Phas (deg)')\n",
    "ax.set_title('Spatial Phase from Radial Position')\n",
    "plt.legend(loc=4)\n",
    "\n",
    "name = '220110_spatial_phases_offaxis'\n",
    "\n",
    "#plt.savefig(os.path.join(PATH, 'plots/moth', name))"
   ]
  },
  {
   "cell_type": "code",
   "execution_count": null,
   "id": "50fa0ced",
   "metadata": {},
   "outputs": [],
   "source": [
    "sns.set_theme(context='poster', style='darkgrid')\n",
    "fig = plt.figure(figsize=(13, 8))\n",
    "\n",
    "ax = fig.add_subplot(1,1,1)\n",
    "\n",
    "phases = np.degrees(np.unwrap(np.angle(np.roll(datafile['range3cm_step1mm_z0mm']['array'][0, 0:120, 601], 0))))\n",
    "\n",
    "ax.plot(np.arange(0, 360, 3), phases - phases[0] - np.degrees(SpatialPhaseCorrection(0.0, 90)), label=f'R = 0.0 cm')\n",
    "\n",
    "phases = np.degrees(np.unwrap(np.angle(np.roll(datafile['range3cm_step1mm_z0mm']['array'][2, 0:120, 601], 0))))\n",
    "\n",
    "ax.plot(np.arange(0, 360, 3), phases - phases[0] - np.degrees(SpatialPhaseCorrection(0.002, 90)), label=f'R = 0.2 cm')\n",
    "\n",
    "phases = np.degrees(np.unwrap(np.angle(np.roll(datafile['range3cm_step1mm_z0mm']['array'][5, 0:120, 601], 0))))\n",
    "\n",
    "ax.plot(np.arange(0, 360, 3), phases - phases[0] - np.degrees(SpatialPhaseCorrection(0.005, 90)), label=f'R = 0.5 cm')\n",
    "\n",
    "#phases = np.degrees(np.unwrap(np.angle(np.roll(datafile['range1cm_step1mm_z0mm']['array'][, 0:120, 601], 0))))\n",
    "\n",
    "#ax.plot(np.arange(0, 360, 3), phases - phases[0], label=f'R = 1.0 cm')\n",
    "\n",
    "ax.set_xlabel('Rotation Angle (deg)')\n",
    "ax.set_ylabel('Phase (deg)')\n",
    "ax.set_title('Phase vs Rotation Angle for CRES #2')\n",
    "\n",
    "plt.legend(loc=8)\n",
    "\n",
    "name = '220110_phase_vs_rotation_cres2_10slot_corrected'\n",
    "\n",
    "#plt.savefig(os.path.join(PATH, 'plots/moth', name))"
   ]
  },
  {
   "cell_type": "markdown",
   "id": "4e21a60f",
   "metadata": {},
   "source": [
    "# plot several magnitude curves"
   ]
  },
  {
   "cell_type": "code",
   "execution_count": null,
   "id": "0a802545",
   "metadata": {},
   "outputs": [],
   "source": [
    "sns.set_theme(context='poster', style='darkgrid')\n",
    "fig = plt.figure(figsize=(13, 8))\n",
    "\n",
    "ax = fig.add_subplot(1,1,1)\n",
    "\n",
    "\n",
    "mags = 20 * np.log10(abs(np.roll(datafile['range1cm_step1mm_z-10mm']['array'][0, 0:120, 601], 0)))\n",
    "\n",
    "ax.plot(np.arange(0, 360, 3), mags, label=f'z = -1.0 cm')\n",
    "\n",
    "mags = 20 * np.log10(abs(np.roll(datafile['range1cm_step1mm_z-5mm']['array'][0, 0:120, 601], 0)))\n",
    "\n",
    "ax.plot(np.arange(0, 360, 3), mags, label=f'z = -0.5 cm')\n",
    "\n",
    "mags = 20 * np.log10(abs(np.roll(datafile['range1cm_step1mm_z0mm']['array'][0, 0:120, 601], 0)))\n",
    "\n",
    "ax.plot(np.arange(0, 360, 3), mags, label=f'z = 0.0 cm')\n",
    "\n",
    "mags = 20 * np.log10(abs(np.roll(datafile['range1cm_step1mm_z5mm']['array'][0, 0:120, 601], 0)))\n",
    "\n",
    "ax.plot(np.arange(0, 360, 3), mags, label=f'z = 0.5 cm')\n",
    "\n",
    "mags = 20 * np.log10(abs(np.roll(datafile['range1cm_step1mm_z10mm']['array'][0, 0:120, 601], 0)))\n",
    "\n",
    "ax.plot(np.arange(0, 360, 3), mags, label=f'z = 1.0 cm')\n",
    "\n",
    "ax.set_xlabel('Rotation Angle (deg)')\n",
    "ax.set_ylabel('Mag (dB)')\n",
    "ax.set_title('Mag vs Rotation Angle for CRES #2')\n",
    "\n",
    "ax.set_ylim(-70, -30)\n",
    "\n",
    "plt.legend(loc=4)\n",
    "\n",
    "name = '220110_mag_vs_rotation_cres2_10slot'\n",
    "\n",
    "#plt.savefig(os.path.join(PATH, 'plots/moth', name))\n"
   ]
  },
  {
   "cell_type": "markdown",
   "id": "7d6c926b",
   "metadata": {},
   "source": [
    "# plot several magnitude curves"
   ]
  },
  {
   "cell_type": "code",
   "execution_count": null,
   "id": "7aa0babf",
   "metadata": {},
   "outputs": [],
   "source": [
    "sns.set_theme(context='talk', style='whitegrid', font_scale=1.2)\n",
    "fig = plt.figure(figsize=(12, 8))\n",
    "\n",
    "x = np.radians(np.arange(0, 360, 3))\n",
    "ax = fig.add_subplot(1,1,1, projection='polar')\n",
    "\n",
    "mags_total = np.zeros(x.size)\n",
    "markers = ['o', 's', 'd', 'v', 'x' ]\n",
    "\n",
    "for i , z_pos in enumerate([-10, -5, 0, 5, 10]):\n",
    "    mag  = 10 * np.log10(abs(np.roll(datafile[f'range3cm_step1mm_z{z_pos}mm']['array'][0, 0:120, 601], 0)))\n",
    "    mag = mag - np.mean(mag)\n",
    "    #mag  = abs(np.roll(datafile[f'range3cm_step1mm_z{z_pos}mm']['array'][0, 0:120, 601], 0))**2\n",
    "    ax.plot(x, mag, '-', label=f\"{z_pos} mm\", markersize=9,)\n",
    "    #mags_total += 20 * np.log10(abs(np.roll(datafile[f'range3cm_step1mm_z{z_pos}mm']['array'][0, 0:120, 601], 0)))\n",
    "#mags_total /= 5\n",
    "\n",
    "#ax.plot(x, mags_total, label=\"Measured S21 Magnitude\")\n",
    "ax.plot(np.radians(np.linspace(0, 360, 1001)), np.ones(1001) * np.mean(mag), color='grey', linestyle='--', label='Predicted', lw=3)\n",
    "\n",
    "ax.set_title(r'Measured Normalized Magnitude vs. Rotation Angle')\n",
    "\n",
    "#ax.text(np.pi/3, -75, 'Mag (dB)', rotation=25)\n",
    "#ax.text(-np.pi/3, -40, 'Rotation Angle (deg)', rotation=0)\n",
    "\n",
    "ax.set_ylim(-10, 2.5)\n",
    "#ax.set_yticks(np.arange(-33, -18, 3))\n",
    "ax.set_rlabel_position(-22.5)\n",
    "\n",
    "ax.legend(loc=(0.99, 0.55),title='Vertical Offset')\n",
    "ax.text(np.radians(-35), 7, 'Normalized\\nMagnitude (dB)', rotation = 65, horizontalalignment='center')\n",
    "#plt.tight_layout()\n",
    "\n",
    "name = '221031_mag_vs_rotation_cyclotron_emitter_interpolate'\n",
    "\n",
    "plt.savefig(os.path.join(PATH, 'plots/analysis/antenna/cyclotron_emitter', name), dpi=256)\n"
   ]
  },
  {
   "cell_type": "code",
   "execution_count": null,
   "id": "cd426682",
   "metadata": {},
   "outputs": [],
   "source": []
  },
  {
   "cell_type": "code",
   "execution_count": null,
   "id": "8f76206b",
   "metadata": {},
   "outputs": [],
   "source": [
    "plt.plot(10 * np.log10(abs(np.roll(datafile['range3cm_step1mm_z0mm']['array'][5, 0:120, 201], 0)) ** 2))\n",
    "\n",
    "plt.ylim(-80, -40)"
   ]
  },
  {
   "cell_type": "code",
   "execution_count": null,
   "id": "eeee1e55",
   "metadata": {},
   "outputs": [],
   "source": [
    "os.listdir(os.path.join(LABDATAPATH, 'vna', '211119_cres2_vna_trace'))"
   ]
  },
  {
   "cell_type": "code",
   "execution_count": null,
   "id": "495b5d92",
   "metadata": {},
   "outputs": [],
   "source": [
    "angles = np.arange(0, 360, 360 // 60)"
   ]
  },
  {
   "cell_type": "code",
   "execution_count": null,
   "id": "a2f1ced1",
   "metadata": {},
   "outputs": [],
   "source": [
    "np.argwhere(angles == 12)[0, 0]"
   ]
  },
  {
   "cell_type": "code",
   "execution_count": null,
   "id": "1a7494e8",
   "metadata": {},
   "outputs": [],
   "source": [
    "np.linspace(0, 360, 121)[0:120]"
   ]
  },
  {
   "cell_type": "code",
   "execution_count": null,
   "id": "af441a43",
   "metadata": {},
   "outputs": [],
   "source": []
  }
 ],
 "metadata": {
  "kernelspec": {
   "display_name": "Python 3",
   "language": "python",
   "name": "python3"
  },
  "language_info": {
   "codemirror_mode": {
    "name": "ipython",
    "version": 3
   },
   "file_extension": ".py",
   "mimetype": "text/x-python",
   "name": "python",
   "nbconvert_exporter": "python",
   "pygments_lexer": "ipython3",
   "version": "3.8.10"
  }
 },
 "nbformat": 4,
 "nbformat_minor": 5
}
