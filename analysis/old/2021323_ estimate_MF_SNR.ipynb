{
 "cells": [
  {
   "cell_type": "code",
   "execution_count": null,
   "id": "damaged-counter",
   "metadata": {},
   "outputs": [],
   "source": [
    "import numpy as np\n",
    "import scipy.signal as signal\n",
    "import scipy.stats as stats\n",
    "import matplotlib.pyplot as plt"
   ]
  },
  {
   "cell_type": "code",
   "execution_count": null,
   "id": "little-individual",
   "metadata": {},
   "outputs": [],
   "source": [
    "dt = 5e-9\n",
    "time = np.arange(0,8192,1) * dt\n",
    "A = 0.3e-7\n",
    "var = 10 * 200e6 * 50 * 1.38e-23 \n",
    "F = 10e6\n",
    "#noise = np.random.normal(0, np.sqrt(var), 8192)\n",
    "signal = A * np.exp(-1j * 2 * np.pi * F * time)\n",
    "#y = signal + noise\n",
    "h = signal * np.sqrt(1/(var * np.dot(signal.conjugate(), signal)))\n",
    "\n",
    "trials = 1000\n",
    "noise_only = []\n",
    "signal_plus_noise = []\n",
    "\n",
    "for t in range(trials):\n",
    "    noise = np.random.multivariate_normal([0, 0], np.eye(2) * var/2, 8192)\n",
    "    noise = noise[:, 0] + 1j * noise[:, 1]\n",
    "    y = signal + noise\n",
    "    noise_only.append(abs(np.dot(h.conjugate(), noise))**2)\n",
    "    signal_plus_noise.append((abs(np.dot(h.conjugate(), y))**2))\n",
    "    \n",
    "    \n",
    "print(np.mean(np.array(noise_only)))\n",
    "print(np.std(np.array(noise_only)))\n",
    "threshold = 5\n",
    "print(len(np.argwhere(np.array(noise_only)>threshold))/len(noise_only))\n",
    "print(len(np.argwhere(np.array(signal_plus_noise)>threshold))/len(signal_plus_noise))\n",
    "\n",
    "plt.figure(figsize=(8,6))\n",
    "plt.hist(np.array(signal_plus_noise), 20, label='signal+noise')\n",
    "plt.hist(np.array(noise_only), 20, label='noise')\n",
    "plt.title('Distribution of Matched Filter SNR')\n",
    "plt.xlabel('SNR')\n",
    "plt.ylabel('Counts')\n",
    "plt.legend()\n",
    "plt.savefig('/Users/ziegler/plots/2021323_test_MF_SNR_dist.png')\n",
    "\n",
    "\n",
    "\n",
    "plt.figure(figsize=(8,6))\n",
    "plt.plot(time, np.real(noise))\n",
    "plt.plot(time, np.real(signal))\n",
    "plt.xlim(time[0],time[1000])\n",
    "plt.title('Test Signal Buried in Noise')\n",
    "plt.xlabel('Time (s)')\n",
    "plt.ylabel('Voltage (V)')\n",
    "plt.savefig('/Users/ziegler/plots/2021323_test_signal_in_noise.png')"
   ]
  },
  {
   "cell_type": "code",
   "execution_count": null,
   "id": "checked-commerce",
   "metadata": {},
   "outputs": [],
   "source": [
    "print(np.mean(np.array(signal_plus_noise)))\n",
    "print(np.mean(np.array(noise_only)))"
   ]
  },
  {
   "cell_type": "code",
   "execution_count": null,
   "id": "subject-affairs",
   "metadata": {},
   "outputs": [],
   "source": [
    "stats.ttest_ind(np.array(signal_plus_noise), np.array(noise_only), equal_var=False)"
   ]
  },
  {
   "cell_type": "code",
   "execution_count": null,
   "id": "colored-toddler",
   "metadata": {},
   "outputs": [],
   "source": []
  },
  {
   "cell_type": "code",
   "execution_count": null,
   "id": "south-audio",
   "metadata": {},
   "outputs": [],
   "source": []
  }
 ],
 "metadata": {
  "kernelspec": {
   "display_name": "Python 3",
   "language": "python",
   "name": "python3"
  },
  "language_info": {
   "codemirror_mode": {
    "name": "ipython",
    "version": 3
   },
   "file_extension": ".py",
   "mimetype": "text/x-python",
   "name": "python",
   "nbconvert_exporter": "python",
   "pygments_lexer": "ipython3",
   "version": "3.9.1"
  }
 },
 "nbformat": 4,
 "nbformat_minor": 5
}
