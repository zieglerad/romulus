{
 "cells": [
  {
   "cell_type": "code",
   "execution_count": null,
   "id": "optimum-decade",
   "metadata": {},
   "outputs": [],
   "source": [
    "import numpy as np\n",
    "import matplotlib.pyplot as plt"
   ]
  },
  {
   "cell_type": "markdown",
   "id": "boolean-improvement",
   "metadata": {},
   "source": [
    "# Define Signals"
   ]
  },
  {
   "cell_type": "markdown",
   "id": "swiss-harvest",
   "metadata": {},
   "source": [
    "## Basic stuff"
   ]
  },
  {
   "cell_type": "code",
   "execution_count": null,
   "id": "second-syria",
   "metadata": {},
   "outputs": [],
   "source": [
    "# sample period \n",
    "dt = 2e-9 # 2ns <-> 500 MHz\n",
    "\n",
    "# number of samples\n",
    "num_samples = 8192\n",
    "\n",
    "# time\n",
    "time = np.arange(0, 8192, 1) * dt\n",
    "\n",
    "# signal power\n",
    "power = 1"
   ]
  },
  {
   "cell_type": "markdown",
   "id": "durable-journalism",
   "metadata": {},
   "source": [
    "## Signal 1: Sparse Signal"
   ]
  },
  {
   "cell_type": "code",
   "execution_count": null,
   "id": "patient-classic",
   "metadata": {},
   "outputs": [],
   "source": [
    "# amplitude\n",
    "sparse_amplitude = np.sqrt(power)\n",
    "\n",
    "# frequency\n",
    "sparse_freq = 25e6\n",
    "\n",
    "sparse_signal = sparse_amplitude * np.exp(-1j * 2 * np.pi * sparse_freq * time) \n"
   ]
  },
  {
   "cell_type": "markdown",
   "id": "geological-pressing",
   "metadata": {},
   "source": [
    "## Signal 2: Dispersed Signal"
   ]
  },
  {
   "cell_type": "code",
   "execution_count": null,
   "id": "departmental-pencil",
   "metadata": {},
   "outputs": [],
   "source": [
    "# number of frequencies\n",
    "number_dispersed_freq = 2048\n",
    "\n",
    "# amplitudes\n",
    "dispersed_amplitude = np.ones(number_dispersed_freq)\n",
    "\n",
    "# frequencies\n",
    "dispersed_freq = np.linspace(-2 / dt, 2 / dt, number_dispersed_freq) # (-250 MHz, +250 MHz)\n",
    "\n",
    "dispersed_signal = np.zeros(num_samples, dtype=np.complex128)\n",
    "for i in range(number_dispersed_freq):\n",
    "    dispersed_signal += dispersed_amplitude[i] * np.exp(-1j * 2 * np.pi * dispersed_freq[i] * time)\n",
    "    \n",
    "# normalize dispersed_signal to have the same power\n",
    "unnormalized_power = abs(np.sum(dispersed_signal.conjugate() * dispersed_signal) / num_samples)\n",
    "dispersed_signal *= np.sqrt(1/unnormalized_power) "
   ]
  },
  {
   "cell_type": "markdown",
   "id": "fundamental-sound",
   "metadata": {},
   "source": [
    "## Noise"
   ]
  },
  {
   "cell_type": "code",
   "execution_count": null,
   "id": "inside-produce",
   "metadata": {},
   "outputs": [],
   "source": [
    "# make some noise add to signals\n",
    "noise_variance = 2e2\n",
    "\n",
    "noise = np.random.multivariate_normal([0, 0], np.eye(2) * noise_variance / 2, num_samples)\n",
    "noise = noise[:, 0] + 1j * noise[:, 1]"
   ]
  },
  {
   "cell_type": "markdown",
   "id": "tender-spirit",
   "metadata": {},
   "source": [
    "# Compare Signals"
   ]
  },
  {
   "cell_type": "markdown",
   "id": "divided-covering",
   "metadata": {},
   "source": [
    "## Signal Power"
   ]
  },
  {
   "cell_type": "code",
   "execution_count": null,
   "id": "studied-header",
   "metadata": {},
   "outputs": [],
   "source": [
    "# power = <signal^H * signal>\n",
    "\n",
    "# signal 1 power\n",
    "sparse_power = abs(np.sum(sparse_signal.conjugate() * sparse_signal) / num_samples)\n",
    "\n",
    "# signal 2 power\n",
    "dispersed_power = abs(np.sum(dispersed_signal.conjugate() * dispersed_signal) / num_samples)\n",
    "\n",
    "print('Signal power should be equal.')\n",
    "print('Sparse signal power is %.3f' % sparse_power)\n",
    "print('Dispersed signal power is %.3f' % dispersed_power)"
   ]
  },
  {
   "cell_type": "markdown",
   "id": "banner-boards",
   "metadata": {},
   "source": [
    "## Frequency Spectra -  Broadband Signal has Lower SNR"
   ]
  },
  {
   "cell_type": "code",
   "execution_count": null,
   "id": "dress-quantum",
   "metadata": {},
   "outputs": [],
   "source": [
    "# fft, signal only\n",
    "sparse_signal_F = np.fft.fft(sparse_signal) / num_samples\n",
    "dispersed_signal_F = np.fft.fft(dispersed_signal) / num_samples\n",
    "frequencies = np.fft.fftshift(np.fft.fftfreq(num_samples, dt))\n",
    "\n",
    "# fft, signal + noise\n",
    "sparse_signal_noise_F = np.fft.fft(sparse_signal + noise) / num_samples\n",
    "dispersed_signal_noise_F = np.fft.fft(dispersed_signal + noise) / num_samples\n",
    "\n",
    "#\n",
    "\n",
    "fig1, axs = plt.subplots(1, 2, figsize=(12,4))\n",
    "axs[0].plot(frequencies, abs(np.fft.fftshift(sparse_signal_F)), label='sparse')\n",
    "axs[0].plot(frequencies, abs(np.fft.fftshift(dispersed_signal_F)), label='dispersed')\n",
    "axs[0].set_title('Frequency Spectra for Sparse and Dispersed Signals\\n No Noise')\n",
    "axs[0].legend()\n",
    "\n",
    "axs[1].plot(frequencies, abs(np.fft.fftshift(sparse_signal_noise_F)), label='sparse')\n",
    "axs[1].plot(frequencies, abs(np.fft.fftshift(dispersed_signal_noise_F)), label='dispersed')\n",
    "axs[1].set_title('Frequency Spectra for Sparse and Dispersed Signals\\n With Noise')\n",
    "axs[1].legend()"
   ]
  },
  {
   "cell_type": "markdown",
   "id": "fabulous-tours",
   "metadata": {},
   "source": [
    "## Time Series - Broadband Signal has Higher SNR"
   ]
  },
  {
   "cell_type": "code",
   "execution_count": null,
   "id": "alleged-soldier",
   "metadata": {},
   "outputs": [],
   "source": [
    "fig1, axs = plt.subplots(1, 2, figsize=(14,4))\n",
    "axs[0].plot(time, np.real(sparse_signal), label='sparse')\n",
    "axs[0].plot(time, np.real(dispersed_signal), label='dispersed')\n",
    "axs[0].set_title('Time Series for Sparse and Dispersed Signals\\n No Noise')\n",
    "axs[0].legend(loc=(1,1))\n",
    "\n",
    "axs[1].plot(time, np.real(sparse_signal + noise), label='sparse')\n",
    "axs[1].plot(time, np.real(dispersed_signal + noise), label='dispersed')\n",
    "axs[1].set_title('Time Series for Sparse and Dispersed Signals\\n With Noise')\n",
    "axs[1].legend(loc=(1,1))"
   ]
  },
  {
   "cell_type": "markdown",
   "id": "accurate-ground",
   "metadata": {},
   "source": [
    "# Matched Filter Approach"
   ]
  },
  {
   "cell_type": "markdown",
   "id": "close-honey",
   "metadata": {},
   "source": [
    "## Compare Full Convolution - Maximums are the same for both sparse and dispersed signals."
   ]
  },
  {
   "cell_type": "code",
   "execution_count": null,
   "id": "attended-iraqi",
   "metadata": {},
   "outputs": [],
   "source": [
    "# calculate convolutions\n",
    "sparse_conv = abs(np.convolve(sparse_signal, sparse_signal))\n",
    "dispersed_conv = abs(np.convolve(dispersed_signal, dispersed_signal))\n",
    "\n",
    "sparse_conv_noise = abs(np.convolve(sparse_signal, sparse_signal + noise))\n",
    "dispersed_conv_noise = abs(np.convolve(dispersed_signal, dispersed_signal + noise))\n",
    "\n",
    "\n",
    "fig1, axs = plt.subplots(1, 2, figsize=(12,4))\n",
    "axs[0].plot(sparse_conv, label='sparse')\n",
    "axs[0].plot(dispersed_conv, label='dispersed')\n",
    "axs[0].set_title('Full Convolutions with No Noise')\n",
    "axs[0].legend()\n",
    "\n",
    "axs[1].plot(sparse_conv_noise, label='sparse')\n",
    "axs[1].plot(dispersed_conv_noise, label='dispersed')\n",
    "axs[1].set_title('Full Convolutions with Noise')\n",
    "axs[1].legend()\n"
   ]
  },
  {
   "cell_type": "markdown",
   "id": "armed-combat",
   "metadata": {},
   "source": [
    "## Experiment - Compute Matched Filter SNR for Sparse and Dispersed Signals"
   ]
  },
  {
   "cell_type": "code",
   "execution_count": null,
   "id": "violent-terminology",
   "metadata": {},
   "outputs": [],
   "source": [
    "ntest = 1000\n",
    "sparse_snr = []\n",
    "dispersed_snr = []\n",
    "\n",
    "for i in range(ntest):\n",
    "    \n",
    "    #if i % 100 == 99:\n",
    "    #    print('Done with %.d tests' % (i + 1))\n",
    "\n",
    "    noise = np.random.multivariate_normal([0, 0], np.eye(2) * noise_variance / 2, num_samples)\n",
    "    noise = noise[:, 0] + 1j * noise[:, 1]\n",
    "\n",
    "    sparse_signal_noise = noise + sparse_signal\n",
    "    dispersed_signal_noise = noise + dispersed_signal\n",
    "\n",
    "    # calculate SNR\n",
    "    # SNR = (template \\cdot signal) / (template \\cdot noise_expectation)\n",
    "    sparse_snr.append(abs(np.vdot(sparse_signal, sparse_signal_noise)) / abs(np.vdot(sparse_signal, noise)))\n",
    "    dispersed_snr.append(abs(np.vdot(dispersed_signal, dispersed_signal_noise)) / abs(np.vdot(dispersed_signal, noise)))\n",
    "\n",
    "plt.figure(figsize=(8,6))\n",
    "plt.hist(sparse_snr, bins = np.linspace(0, 50, 80), histtype = 'step', label = 'sparse')\n",
    "plt.hist(dispersed_snr, bins = np.linspace(0, 50, 80), histtype = 'step', label = 'dispersed')\n",
    "plt.xlim(0, 50)\n",
    "plt.legend(loc=0)\n",
    "plt.title('MF SNR for Sparse and Dispersed Signal')\n",
    "plt.xlabel('MF SNR')\n"
   ]
  },
  {
   "cell_type": "markdown",
   "id": "dietary-dryer",
   "metadata": {},
   "source": [
    "# Result: The matched filter SNR for sparse and dispersed signals are the same. This is because the SNR for a matched filter is defined in terms of total signal power rather than the power in a specific frequency in the case of the FFT."
   ]
  },
  {
   "cell_type": "markdown",
   "id": "pressing-error",
   "metadata": {},
   "source": [
    "# Possible Implication: ATT optimization should seek to optimize recieved power since matched filter is agnositic to number of sidebands."
   ]
  },
  {
   "cell_type": "code",
   "execution_count": null,
   "id": "greater-spider",
   "metadata": {},
   "outputs": [],
   "source": []
  }
 ],
 "metadata": {
  "kernelspec": {
   "display_name": "Python 3",
   "language": "python",
   "name": "python3"
  },
  "language_info": {
   "codemirror_mode": {
    "name": "ipython",
    "version": 3
   },
   "file_extension": ".py",
   "mimetype": "text/x-python",
   "name": "python",
   "nbconvert_exporter": "python",
   "pygments_lexer": "ipython3",
   "version": "3.9.1"
  }
 },
 "nbformat": 4,
 "nbformat_minor": 5
}
