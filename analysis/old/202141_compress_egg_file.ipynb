{
 "cells": [
  {
   "cell_type": "code",
   "execution_count": null,
   "id": "arbitrary-chile",
   "metadata": {},
   "outputs": [],
   "source": [
    "import numpy as np\n",
    "import h5py\n",
    "import MFParse\n",
    "import matplotlib.pyplot as plt"
   ]
  },
  {
   "cell_type": "code",
   "execution_count": null,
   "id": "split-assault",
   "metadata": {},
   "outputs": [],
   "source": [
    "test_egg = '/Users/ziegler/Documents/egg_files/locust_mc_Seed603_Angle90.00_Pos0.000.egg'\n",
    "#test_egg = '/Users/ziegler/Documents/egg_files/locust_mc_Seed400_LO25.8781G_Radius0.100_Pos0.000.egg'\n",
    "parsed_egg = MFParse.parse_egg(test_egg)"
   ]
  },
  {
   "cell_type": "code",
   "execution_count": null,
   "id": "planned-prior",
   "metadata": {},
   "outputs": [],
   "source": [
    "summed_egg = np.sum(parsed_egg, axis=0)\n",
    "\n",
    "time_data = summed_egg[2*8192: 3*8192]\n",
    "\n",
    "plt.figure()\n",
    "plt.plot(time_data)\n",
    "plt.xlim(0,100)\n",
    "\n",
    "fft_data = np.fft.fftshift(np.fft.fft(time_data))\n",
    "\n",
    "plt.figure()\n",
    "plt.plot(freqs, (abs(fft_data)))\n"
   ]
  },
  {
   "cell_type": "code",
   "execution_count": null,
   "id": "behind-martin",
   "metadata": {},
   "outputs": [],
   "source": [
    "freqs = np.fft.fftshift(np.fft.fftfreq(8192, 5e-9))"
   ]
  },
  {
   "cell_type": "code",
   "execution_count": null,
   "id": "twenty-diary",
   "metadata": {},
   "outputs": [],
   "source": [
    "freqs"
   ]
  },
  {
   "cell_type": "code",
   "execution_count": null,
   "id": "optional-senate",
   "metadata": {},
   "outputs": [],
   "source": []
  }
 ],
 "metadata": {
  "kernelspec": {
   "display_name": "Python 3",
   "language": "python",
   "name": "python3"
  },
  "language_info": {
   "codemirror_mode": {
    "name": "ipython",
    "version": 3
   },
   "file_extension": ".py",
   "mimetype": "text/x-python",
   "name": "python",
   "nbconvert_exporter": "python",
   "pygments_lexer": "ipython3",
   "version": "3.9.1"
  }
 },
 "nbformat": 4,
 "nbformat_minor": 5
}
