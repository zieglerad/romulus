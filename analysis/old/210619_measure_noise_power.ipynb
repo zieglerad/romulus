{
 "cells": [
  {
   "cell_type": "code",
   "execution_count": null,
   "id": "accessory-disney",
   "metadata": {},
   "outputs": [],
   "source": [
    "import numpy as np\n",
    "import matplotlib.pyplot as plt\n"
   ]
  },
  {
   "cell_type": "code",
   "execution_count": null,
   "id": "located-practice",
   "metadata": {},
   "outputs": [],
   "source": [
    "NCH = 10\n",
    "NSAMP = 10000\n",
    "f = 100\n",
    "fsamp = 10000\n",
    "var = 1\n",
    "signals = np.zeros((NCH, NSAMP))\n",
    "\n",
    "for ch in range(NCH):\n",
    "    signals[ch, :] = 1 * np.exp(-1j* 2 * np.pi * f * np.arange(0, NSAMP, 1) / fsamp)\n",
    "\n",
    "noise = np.zeros((NCH, NSAMP))\n",
    "for ch in range(NCH):\n",
    "    n = np.random.multivariate_normal([0, 0], np.eye(2) * var / 2, NSAMP)\n",
    "    noise[ch, :] = n[:, 0] + 1j * n[:, 1]\n",
    "\n",
    "print(np.mean(abs(noise[0, :])**2), np.mean(abs(signals[0, :]))**2)\n",
    "    \n",
    "fig = plt.figure(figsize=(10,10))\n",
    "ax = plt.subplot(2,2,1)\n",
    "ax.plot(signals.sum(0).real)\n",
    "ax.plot(signals.sum(0).imag)\n",
    "ax.set_xlim(0, 1000)\n",
    "\n",
    "ax = plt.subplot(2,2,2)\n",
    "ax.plot(abs(signals.sum(0))**2, label = np.mean(abs(signals.sum(0))**2))\n",
    "ax.set_xlim(0, 1000)\n",
    "plt.legend()\n",
    "\n",
    "ax = plt.subplot(2,2,3)\n",
    "ax.plot(abs(noise.sum(0)), label = np.mean(abs(noise.sum(0))**2))\n",
    "ax.set_xlim(0, 1000)\n",
    "plt.legend()"
   ]
  },
  {
   "cell_type": "code",
   "execution_count": null,
   "id": "classical-houston",
   "metadata": {},
   "outputs": [],
   "source": []
  }
 ],
 "metadata": {
  "kernelspec": {
   "display_name": "Python 3",
   "language": "python",
   "name": "python3"
  },
  "language_info": {
   "codemirror_mode": {
    "name": "ipython",
    "version": 3
   },
   "file_extension": ".py",
   "mimetype": "text/x-python",
   "name": "python",
   "nbconvert_exporter": "python",
   "pygments_lexer": "ipython3",
   "version": "3.9.1"
  }
 },
 "nbformat": 4,
 "nbformat_minor": 5
}
