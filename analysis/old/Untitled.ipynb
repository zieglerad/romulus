{
 "cells": [
  {
   "cell_type": "code",
   "execution_count": null,
   "id": "designing-junior",
   "metadata": {},
   "outputs": [],
   "source": [
    "import MFParse\n",
    "import numpy as np\n",
    "import matplotlib.pyplot as plt\n",
    "import h5py"
   ]
  },
  {
   "cell_type": "code",
   "execution_count": null,
   "id": "curious-replication",
   "metadata": {},
   "outputs": [],
   "source": [
    "t1 = np.arange(0, 8192, 1) * 1 / 200e6\n",
    "var = 100\n",
    "n1 = np.random.multivariate_normal([0,0], np.eye(2)*var/2, 8192)\n",
    "n1 = n1[:, 0] + n1[:, 1] * 1j\n",
    "\n",
    "A1 =1\n",
    "\n",
    "\n",
    "f1 = 10e6\n",
    "\n",
    "s1 = A1 * np.exp(-1j * 2 * np.pi * t1 * f1) \n",
    "\n",
    "s2 = s1 + s1\n",
    "s3 = np.concatenate((s1, s1))\n",
    "\n",
    "n2 = n1 + n1\n",
    "n3 = np.concatenate((n1, n1))\n",
    "\n",
    "print(abs(np.vdot(s2 + n2, s2 * 1 / np.sqrt(var * np.vdot(s2, s2)))))\n",
    "print(abs(np.vdot(n2, s2 * 1 / np.sqrt(var * np.vdot(s2, s2)))))\n",
    "print(abs(np.vdot(s3 + n3, s3 * 1 / np.sqrt(var * np.vdot(s3, s3)))))\n",
    "print(abs(np.vdot(n3, s3 * 1 / np.sqrt(var * np.vdot(s3, s3)))))"
   ]
  },
  {
   "cell_type": "code",
   "execution_count": null,
   "id": "appointed-number",
   "metadata": {},
   "outputs": [],
   "source": [
    "n1 = np.random.multivariate_normal([0,0], np.eye(2)*var/2, 8192)\n",
    "n1 = n1[:, 0] + n1[:, 1] * 1j\n",
    "\n",
    "\n",
    "\n",
    "\n"
   ]
  },
  {
   "cell_type": "code",
   "execution_count": null,
   "id": "beginning-hamburg",
   "metadata": {},
   "outputs": [],
   "source": []
  }
 ],
 "metadata": {
  "kernelspec": {
   "display_name": "Python 3",
   "language": "python",
   "name": "python3"
  },
  "language_info": {
   "codemirror_mode": {
    "name": "ipython",
    "version": 3
   },
   "file_extension": ".py",
   "mimetype": "text/x-python",
   "name": "python",
   "nbconvert_exporter": "python",
   "pygments_lexer": "ipython3",
   "version": "3.9.1"
  }
 },
 "nbformat": 4,
 "nbformat_minor": 5
}
