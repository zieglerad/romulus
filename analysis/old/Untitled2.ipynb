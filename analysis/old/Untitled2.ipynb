{
 "cells": [
  {
   "cell_type": "code",
   "execution_count": null,
   "id": "innovative-parts",
   "metadata": {},
   "outputs": [],
   "source": [
    "import numpy as np\n",
    "import matplotlib.pyplot as plt"
   ]
  },
  {
   "cell_type": "code",
   "execution_count": null,
   "id": "partial-organic",
   "metadata": {},
   "outputs": [],
   "source": [
    "time = np.arange(0, 1024, 1) * 1e-3\n",
    "f = 120\n",
    "x = np.exp(1j * 2 * np.pi * f * time)\n",
    "var = 1e-1\n",
    "n = np.random.multivariate_normal([0, 0], np.eye(2) * var / 2, 1024)\n",
    "n = n[:, 0] + 1j * n[:, 1]\n",
    "\n",
    "fig1 = plt.figure(figsize=(12,6))\n",
    "ax1 = plt.subplot(121)\n",
    "#ax1.plot(time, x)\n",
    "ax1.plot(time, n + x)\n",
    "ax1.set_xlim(0,time[300])\n",
    "ax2 = plt.subplot(122)\n",
    "ax2.plot(abs(np.fft.fft(n + x)) / n.size)\n",
    "\n",
    "fig2 = plt.figure(figsize=(12,6))\n",
    "ax1 = plt.subplot(121)\n",
    "ax1.plot(time, x + n)\n",
    "#ax1.plot(time, abs(n))\n",
    "ax1.set_xlim(0,time[300])\n",
    "ax2 = plt.subplot(122)\n",
    "ax2.plot(abs(np.fft.fft(x) / n.size + n / np.sqrt(n.size)))\n",
    "\n",
    "#print(np.mean(abs(n)**2))\n",
    "#print(np.mean((1 / np.)abs(np.fft.fft(n))**2))"
   ]
  },
  {
   "cell_type": "code",
   "execution_count": null,
   "id": "passive-procurement",
   "metadata": {},
   "outputs": [],
   "source": []
  },
  {
   "cell_type": "code",
   "execution_count": null,
   "id": "cloudy-nation",
   "metadata": {},
   "outputs": [],
   "source": []
  }
 ],
 "metadata": {
  "kernelspec": {
   "display_name": "Python 3",
   "language": "python",
   "name": "python3"
  },
  "language_info": {
   "codemirror_mode": {
    "name": "ipython",
    "version": 3
   },
   "file_extension": ".py",
   "mimetype": "text/x-python",
   "name": "python",
   "nbconvert_exporter": "python",
   "pygments_lexer": "ipython3",
   "version": "3.9.1"
  }
 },
 "nbformat": 4,
 "nbformat_minor": 5
}
