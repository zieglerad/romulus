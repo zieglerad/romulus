{
 "cells": [
  {
   "cell_type": "code",
   "execution_count": null,
   "id": "cc49a4d8",
   "metadata": {},
   "outputs": [],
   "source": [
    "import torch\n",
    "import matplotlib.pyplot as plt\n",
    "import seaborn as sns\n",
    "import math\n",
    "from torch.distributions import constraints\n",
    "\n",
    "import pyro\n",
    "import pyro.distributions as pydist\n",
    "from pyro.infer import SVI, Trace_ELBO\n",
    "\n",
    "\n",
    "# define a model to generate data: A simple sinusoid\n",
    "\n",
    "def sine_model(t, t0, omega, A, phi0):\n",
    "    \n",
    "    return A * torch.sin(omega * (t - t0) - phi0)\n",
    "\n",
    "def add_noise(x, var):\n",
    "    \n",
    "    return x + torch.normal(0.0, math.sqrt(var), size=x.shape)\n",
    "\n",
    "\n",
    "A = 1\n",
    "omega = 2 * torch.pi * 3e6\n",
    "f_sample = 10e6\n",
    "n_sample = 8192\n",
    "t = torch.arange(0, n_sample, 1) / f_sample\n",
    "t0 = 0\n",
    "phi0 = 0\n",
    "\n",
    "var = 1e-1\n",
    "\n",
    "data = sine_model(t, t0, omega, A, phi0)\n",
    "data = add_noise(data, var)\n",
    "\n",
    "# define a probalistic model for the data\n",
    "def model(data):\n",
    "    \n",
    "    # priors\n",
    "    A = pyro.param(\"A_latent\", torch.tensor(0.95), constraints.interval(0.9, 1.1))\n",
    "    omega = pyro.param(\"omega_latent\", torch.tensor(2*torch.pi*2.88e6), constraints.interval(2*torch.pi*2.85e6, 2*torch.pi*3.15e6))\n",
    "    #t0 = pyro.sample(\"t0_latent\", pydist.Uniform(0, 512))\n",
    "    phi0 = pyro.param(\"phi0_latent\",torch.tensor(0, constraints.interval(-torch.pi, torch.pi)))\n",
    "    # known parameters\n",
    "    var = 1e-1\n",
    "    n_sample = 16384\n",
    "    f_sample = 10e6\n",
    "    t = torch.arange(0, n_sample, 1) / f_sample\n",
    "    \n",
    "    mean = data - A * torch.sin(omega * t - phi0)\n",
    "    \n",
    "    pyro.sample('obs', pydist.MultivariateNormal(mean, covariance_matrix = torch.eye(mean.shape[-1]) * var), obs=data)\n",
    "\n",
    "def train(model, guide, lr=0.005, n_steps=301):\n",
    "    pyro.clear_param_store()\n",
    "    adam_params = {\"lr\": lr}\n",
    "    adam = pyro.optim.Adam(adam_params)\n",
    "    svi = SVI(model, guide, adam, loss=Trace_ELBO())\n",
    "\n",
    "    for step in range(n_steps):\n",
    "        loss = svi.step(data)\n",
    "        if step % 50 == 0:\n",
    "            print('[iter {}]  loss: {:.4f}'.format(step, loss))\n",
    "    \n",
    "# use autoguide\n",
    "#autoguide_map = pyro.infer.autoguide.AutoDelta(model)\n",
    "\n",
    "def guide_mle(data):\n",
    "    pass\n",
    "\n",
    "train(model, guide_mle)\n",
    "\n",
    "sns.set_theme(context='talk', style='whitegrid', font_scale=1.2)"
   ]
  },
  {
   "cell_type": "code",
   "execution_count": null,
   "id": "0f1e0944",
   "metadata": {},
   "outputs": [],
   "source": [
    "print(autoguide_map.median(data))"
   ]
  },
  {
   "cell_type": "code",
   "execution_count": null,
   "id": "76d7abb2",
   "metadata": {},
   "outputs": [],
   "source": [
    "fig = plt.figure(figsize=(13,8))\n",
    "ax = fig.add_subplot(1,1,1)\n",
    "\n",
    "ax.plot(t, data)\n",
    "ax.plot(t, sine_model(t, 0,2065578.1250, 0.9, 0.1962 ))"
   ]
  },
  {
   "cell_type": "code",
   "execution_count": null,
   "id": "a841d3c3",
   "metadata": {},
   "outputs": [],
   "source": [
    "2*torch.pi*0.25e6\n"
   ]
  },
  {
   "cell_type": "code",
   "execution_count": null,
   "id": "a3ce9f34",
   "metadata": {},
   "outputs": [],
   "source": [
    "A = 1\n",
    "omega = 2 * torch.pi * 0.25e6\n",
    "f_sample = 10e6\n",
    "n_sample = 1024\n",
    "t = torch.arange(0, n_sample, 1) / f_sample\n",
    "t0 = 256/f_sample\n",
    "phi0 = 0\n",
    "\n",
    "var = 1e-1\n",
    "\n",
    "x = sine_model(t, t0, omega, A, phi0)\n",
    "x = add_noise(x, var)\n",
    "\n",
    "fig = plt.figure(figsize=(13,8))\n",
    "ax = fig.add_subplot(1,1,1)\n",
    "\n",
    "ax.plot(t, x)"
   ]
  },
  {
   "cell_type": "code",
   "execution_count": null,
   "id": "3496dfb3",
   "metadata": {},
   "outputs": [],
   "source": []
  }
 ],
 "metadata": {
  "kernelspec": {
   "display_name": "Python 3",
   "language": "python",
   "name": "python3"
  },
  "language_info": {
   "codemirror_mode": {
    "name": "ipython",
    "version": 3
   },
   "file_extension": ".py",
   "mimetype": "text/x-python",
   "name": "python",
   "nbconvert_exporter": "python",
   "pygments_lexer": "ipython3",
   "version": "3.8.10"
  }
 },
 "nbformat": 4,
 "nbformat_minor": 5
}
