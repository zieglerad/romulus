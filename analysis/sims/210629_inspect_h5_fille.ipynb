{
 "cells": [
  {
   "cell_type": "code",
   "execution_count": null,
   "id": "ae5a8624",
   "metadata": {},
   "outputs": [],
   "source": [
    "import h5py\n",
    "import pandas as pd\n",
    "import numpy as np\n",
    "import matplotlib.pyplot as plt\n",
    "import seaborn as sns\n",
    "import os\n",
    "import sys\n",
    "\n",
    "PATH = '/storage/home/adz6/group/project'\n",
    "SIMPATH = os.path.join(PATH, 'sim_data/datasets')\n",
    "MAYFLYRESULTPATH = os.path.join(PATH, 'results/mayfly')"
   ]
  },
  {
   "cell_type": "code",
   "execution_count": null,
   "id": "da2a6255",
   "metadata": {},
   "outputs": [],
   "source": [
    "dataset_list = os.listdir(MAYFLYRESULTPATH)"
   ]
  },
  {
   "cell_type": "code",
   "execution_count": null,
   "id": "ebe7c9c3",
   "metadata": {},
   "outputs": [],
   "source": [
    "file = '210626_energy10ev_pa2deg_test_signal_degeneracy_grids.h5'"
   ]
  },
  {
   "cell_type": "code",
   "execution_count": null,
   "id": "3de59f23",
   "metadata": {},
   "outputs": [],
   "source": [
    "h5file = h5py.File(os.path.join(MAYFLYRESULTPATH, file), 'r')"
   ]
  },
  {
   "cell_type": "code",
   "execution_count": null,
   "id": "bba0596b",
   "metadata": {},
   "outputs": [],
   "source": [
    "for i,group in enumerate(h5file):\n",
    "    print(group)\n",
    "    for j, dataset in enumerate(h5file[group]):\n",
    "        print(dataset, h5file[group][dataset][:].shape)"
   ]
  },
  {
   "cell_type": "code",
   "execution_count": null,
   "id": "c43a8196",
   "metadata": {},
   "outputs": [],
   "source": []
  }
 ],
 "metadata": {
  "kernelspec": {
   "display_name": "Python 3",
   "language": "python",
   "name": "python3"
  },
  "language_info": {
   "codemirror_mode": {
    "name": "ipython",
    "version": 3
   },
   "file_extension": ".py",
   "mimetype": "text/x-python",
   "name": "python",
   "nbconvert_exporter": "python",
   "pygments_lexer": "ipython3",
   "version": "3.8.10"
  }
 },
 "nbformat": 4,
 "nbformat_minor": 5
}
