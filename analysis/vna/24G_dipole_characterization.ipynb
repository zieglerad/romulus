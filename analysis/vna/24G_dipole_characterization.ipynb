{
 "cells": [
  {
   "cell_type": "code",
   "execution_count": null,
   "metadata": {},
   "outputs": [],
   "source": [
    "import numpy as np\n",
    "import matplotlib.pyplot as plt\n",
    "import csv\n",
    "from os import listdir\n",
    "import os"
   ]
  },
  {
   "cell_type": "markdown",
   "metadata": {},
   "source": [
    "# Parse the data file to obtain the raw data"
   ]
  },
  {
   "cell_type": "code",
   "execution_count": null,
   "metadata": {},
   "outputs": [],
   "source": [
    "path = '/Users/ziegler/p8/psu_data/vna_data/24G_dipole_charac/'\n",
    "dat={}\n",
    "pos=[]\n",
    "for f in listdir(path):\n",
    "    #print(os.path.splitext(f))\n",
    "    pos.append(int(os.path.splitext(f)[0]))\n",
    "sorted_index=np.argsort(pos)\n",
    "sort_pos=np.sort(pos)\n",
    "for i,k in enumerate(listdir(path)):\n",
    "    #print(k)\n",
    "    dat.update({sort_pos[i]:{'s32':{'db':[],'deg':[]},'s42':{'db':[],'deg':[]},'f':[]}})\n",
    "    #print(path+str(sort_pos[i])+'.csv')\n",
    "    with open(path+str(sort_pos[i])+'.csv') as infile:\n",
    "        for j,l in enumerate(csv.reader(infile)):\n",
    "            #print(j,l)\n",
    "            if j>6:\n",
    "                try:\n",
    "                    dat[sort_pos[i]]['f'].append(float(l[0]))\n",
    "                    dat[sort_pos[i]]['s32']['db'].append(float(l[7]))\n",
    "                    dat[sort_pos[i]]['s32']['deg'].append(float(l[8]))\n",
    "                    dat[sort_pos[i]]['s42']['db'].append(float(l[13]))\n",
    "                    dat[sort_pos[i]]['s42']['deg'].append(float(l[14]))\n",
    "                except ValueError:\n",
    "                    continue\n",
    "                except IndexError:\n",
    "                    continue\n",
    "print(dat.keys())"
   ]
  },
  {
   "cell_type": "markdown",
   "metadata": {},
   "source": [
    "# Plot Moving Antenna (S32) and Reference Antenna (S42) over Frequency"
   ]
  },
  {
   "cell_type": "code",
   "execution_count": null,
   "metadata": {},
   "outputs": [],
   "source": [
    "plt.figure(figsize=(8,6))\n",
    "for i in sort_pos:\n",
    "    plt.plot(dat[0]['f'],dat[i]['s32']['db'],'.',label=i)\n",
    "plt.legend(loc=(1,0))\n",
    "plt.figure(figsize=(8,6))\n",
    "for i in sort_pos:\n",
    "    plt.plot(dat[0]['f'],dat[i]['s42']['db'],'.',label=i)\n",
    "plt.legend(loc=(1,0))\n",
    "plt.figure(figsize=(8,6))\n",
    "for i in sort_pos:\n",
    "    plt.plot(dat[0]['f'],dat[i]['s32']['deg'],'.',label=i)\n",
    "plt.legend(loc=(1,0))\n",
    "plt.figure(figsize=(8,6))\n",
    "for i in sort_pos:\n",
    "    plt.plot(dat[0]['f'],dat[i]['s42']['deg'],'.',label=i)\n",
    "plt.legend(loc=(1,0))"
   ]
  },
  {
   "cell_type": "code",
   "execution_count": null,
   "metadata": {},
   "outputs": [],
   "source": [
    "f=24.5e9\n",
    "s32_db=[]\n",
    "s42_db=[]\n",
    "s32_deg=[]\n",
    "s42_deg=[]\n",
    "f_index=np.where(np.array(dat[0]['f'])-f==0)[0][0]\n",
    "#print(f_index)\n",
    "for i in sort_pos:\n",
    "    s32_db.append(dat[i]['s32']['db'][f_index])\n",
    "    s32_deg.append(dat[i]['s32']['deg'][f_index])\n",
    "    s42_db.append(dat[i]['s42']['db'][f_index])\n",
    "    s42_deg.append(dat[i]['s42']['deg'][f_index])\n",
    "    \n",
    "plt.figure(figsize=(6,6))\n",
    "plt.polar(np.radians(sort_pos),s32_db,'.')\n",
    "plt.ylim(-40,-30)\n",
    "plt.title('24.5 GHz Dipole Amplitude Map (dB)')\n",
    "#plt.ylabel('dB')\n",
    "\n",
    "\n",
    "plt.figure(figsize=(8,6))\n",
    "plt.polar(np.radians(sort_pos),s32_deg,'.')\n",
    "plt.ylim(-70,70)\n",
    "plt.title('24.5 GHz Dipole Phase Map (deg)')\n",
    "#plt.ylabel('deg')\n",
    "\n",
    "\n",
    "\n",
    "plt.figure(figsize=(8,6))\n",
    "plt.hist(s42_db,bins=10)\n",
    "#plt.ylim(-40,-30)\n",
    "\n",
    "plt.figure(figsize=(8,6))\n",
    "plt.hist(s42_deg,bins=10)\n",
    "#plt.ylim(0,40)\n",
    "#print(dat[0]['f'])"
   ]
  },
  {
   "cell_type": "markdown",
   "metadata": {},
   "source": [
    "# Plot of the unwrapped phases of S21, S31, and S41"
   ]
  },
  {
   "cell_type": "code",
   "execution_count": null,
   "metadata": {},
   "outputs": [],
   "source": [
    "plt.figure(figsize=(12,9))\n",
    "plt.plot(raw_data['f'],np.unwrap(np.radians(raw_data['s21']['phi'])))\n",
    "plt.plot(raw_data['f'],np.unwrap(np.radians(raw_data['s31']['phi'])))\n",
    "plt.plot(raw_data['f'],np.unwrap(np.radians(raw_data['s41']['phi'])))\n",
    "\n",
    "plt.figure(figsize=(12,9))\n",
    "plt.plot(raw_data['f'],np.gradient(np.unwrap(np.radians(raw_data['s21']['phi'])),raw_data['f']),'.')\n",
    "plt.plot(raw_data['f'],np.gradient(np.unwrap(np.radians(raw_data['s31']['phi'])),raw_data['f']),'.')\n",
    "plt.plot(raw_data['f'],np.gradient(np.unwrap(np.radians(raw_data['s41']['phi'])),raw_data['f']),'.')\n",
    "\n",
    "r2=-np.gradient(np.unwrap(np.radians(raw_data['s21']['phi'])),raw_data['f'])*3e10/(2*np.pi) # in cm\n",
    "r3=-np.gradient(np.unwrap(np.radians(raw_data['s31']['phi'])),raw_data['f'])*3e10/(2*np.pi)\n",
    "r4=-np.gradient(np.unwrap(np.radians(raw_data['s41']['phi'])),raw_data['f'])*3e10/(2*np.pi)\n",
    "\n",
    "plt.figure(figsize=(12,9))\n",
    "plt.plot(raw_data['f'],r2,'.')\n",
    "plt.plot(raw_data['f'],r3,'.')\n",
    "plt.plot(raw_data['f'],r4,'.')\n",
    "#print(r2,r3,r4)"
   ]
  },
  {
   "cell_type": "code",
   "execution_count": null,
   "metadata": {},
   "outputs": [],
   "source": [
    "file='3antenna_s41_antenna_twice_as_far.csv'\n",
    "\n",
    "raw_data1={'f':[],'s21':{'mag':[],'phi':[]},'s31':{'mag':[],'phi':[]},'s41':{'mag':[],'phi':[]}}\n",
    "#frequency_of_interest=26e9\n",
    "with open(path+file) as infile:\n",
    "    read=csv.reader(infile,delimiter=',')\n",
    "    for row in read:\n",
    "        #print(row)\n",
    "        try:\n",
    "            if len(row)>0:\n",
    "                raw_data1['f'].append(float(row[0]))\n",
    "                raw_data1['s21']['mag'].append(float(row[9]))\n",
    "                raw_data1['s21']['phi'].append(float(row[10]))\n",
    "                raw_data1['s31']['mag'].append(float(row[17]))\n",
    "                raw_data1['s31']['phi'].append(float(row[18]))\n",
    "                raw_data1['s41']['mag'].append(float(row[25]))\n",
    "                raw_data1['s41']['phi'].append(float(row[26]))\n",
    "                #if int(row[0])==int(frequency_of_interest):\n",
    "                    \n",
    "                #    raw_data.update({'s':[]})\n",
    "                #    for n in row[1:]:\n",
    "                #        raw_data['s'].append(float(n))\n",
    "        except ValueError:\n",
    "            continue"
   ]
  },
  {
   "cell_type": "code",
   "execution_count": null,
   "metadata": {},
   "outputs": [],
   "source": [
    "plt.figure(figsize=(12,9))\n",
    "plt.plot(raw_data1['f'],np.unwrap(np.radians(raw_data1['s21']['phi'])))\n",
    "plt.plot(raw_data1['f'],np.unwrap(np.radians(raw_data1['s31']['phi'])))\n",
    "plt.plot(raw_data1['f'],np.unwrap(np.radians(raw_data1['s41']['phi'])))\n",
    "\n",
    "plt.figure(figsize=(12,9))\n",
    "plt.plot(raw_data1['f'],np.gradient(np.unwrap(np.radians(raw_data1['s21']['phi'])),raw_data1['f']),'.')\n",
    "plt.plot(raw_data1['f'],np.gradient(np.unwrap(np.radians(raw_data1['s31']['phi'])),raw_data1['f']),'.')\n",
    "plt.plot(raw_data1['f'],np.gradient(np.unwrap(np.radians(raw_data1['s41']['phi'])),raw_data1['f']),'.')\n",
    "\n",
    "r2_1=-np.gradient(np.unwrap(np.radians(raw_data1['s21']['phi'])),raw_data1['f'])*3e10/(2*np.pi) # in cm\n",
    "r3_1=-np.gradient(np.unwrap(np.radians(raw_data1['s31']['phi'])),raw_data1['f'])*3e10/(2*np.pi)\n",
    "r4_1=-np.gradient(np.unwrap(np.radians(raw_data1['s41']['phi'])),raw_data1['f'])*3e10/(2*np.pi)\n",
    "\n",
    "plt.figure(figsize=(12,9))\n",
    "plt.plot(raw_data1['f'],r2_1,'.')\n",
    "plt.plot(raw_data1['f'],r3_1,'.')\n",
    "plt.plot(raw_data1['f'],r4_1,'.')\n",
    "print(np.mean(r3),np.mean(r3_1))"
   ]
  },
  {
   "cell_type": "markdown",
   "metadata": {},
   "source": [
    "# Zero pad frequencies before the starting frequency in the raw data"
   ]
  },
  {
   "cell_type": "code",
   "execution_count": null,
   "metadata": {},
   "outputs": [],
   "source": [
    "pad_data={'f':[],'s21':{'mag':[],'phi':[]},'s31':{'mag':[],'phi':[]},'s41':{'mag':[],'phi':[]}}\n",
    "for i,k in enumerate(raw_data):\n",
    "    if i==0:\n",
    "        pad_data['f']=np.append(np.arange(0,raw_data['f'][0],raw_data['f'][1]-raw_data['f'][0]),raw_data['f'])\n",
    "        print(k)\n",
    "    else:\n",
    "        for j,l in enumerate(raw_data[k]):\n",
    "            print(k,l)\n",
    "            pad_data[k][l]=np.append(np.zeros(len(np.arange(0,raw_data['f'][0],raw_data['f'][1]-raw_data['f'][0])))\n",
    "                                     ,raw_data[k][l])\n",
    "\n"
   ]
  },
  {
   "cell_type": "code",
   "execution_count": null,
   "metadata": {},
   "outputs": [],
   "source": [
    "#plt.figure(figsize=(12,9))\n",
    "#plt.plot(pad_data['f'],np.unwrap(np.radians(pad_data['s21']['phi'])))\n",
    "#plt.plot(pad_data['f'],np.unwrap(np.radians(pad_data['s31']['phi'])))\n",
    "#plt.plot(pad_data['f'],np.unwrap(np.radians(pad_data['s41']['phi'])))\n",
    "\n",
    "plt.figure(figsize=(12,9))\n",
    "plt.plot(np.fft.irfft(np.unwrap(np.radians(pad_data['s21']['phi']))))"
   ]
  },
  {
   "cell_type": "code",
   "execution_count": null,
   "metadata": {},
   "outputs": [],
   "source": [
    "raw_data['f'][0]"
   ]
  },
  {
   "cell_type": "code",
   "execution_count": null,
   "metadata": {},
   "outputs": [],
   "source": []
  }
 ],
 "metadata": {
  "kernelspec": {
   "display_name": "Python 3",
   "language": "python",
   "name": "python3"
  },
  "language_info": {
   "codemirror_mode": {
    "name": "ipython",
    "version": 3
   },
   "file_extension": ".py",
   "mimetype": "text/x-python",
   "name": "python",
   "nbconvert_exporter": "python",
   "pygments_lexer": "ipython3",
   "version": "3.7.7"
  }
 },
 "nbformat": 4,
 "nbformat_minor": 2
}
