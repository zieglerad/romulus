{
 "cells": [
  {
   "cell_type": "code",
   "execution_count": null,
   "metadata": {},
   "outputs": [],
   "source": [
    "import numpy as np\n",
    "import matplotlib.pyplot as plt\n",
    "import csv"
   ]
  },
  {
   "cell_type": "markdown",
   "metadata": {},
   "source": [
    "# Parse the data file to obtain the raw data"
   ]
  },
  {
   "cell_type": "code",
   "execution_count": null,
   "metadata": {},
   "outputs": [],
   "source": [
    "path = '/Users/ziegler/Desktop/'\n",
    "file='3antenna_source_in_center copy.csv'\n",
    "\n",
    "raw_data={'f':[],'s21':{'mag':[],'phi':[]},'s31':{'mag':[],'phi':[]},'s41':{'mag':[],'phi':[]}}\n",
    "#frequency_of_interest=26e9\n",
    "with open(path+file) as infile:\n",
    "    read=csv.reader(infile,delimiter=',')\n",
    "    for row in read:\n",
    "        #print(row)\n",
    "        try:\n",
    "            if len(row)>0:\n",
    "                raw_data['f'].append(float(row[0]))\n",
    "                raw_data['s21']['mag'].append(float(row[9]))\n",
    "                raw_data['s21']['phi'].append(float(row[10]))\n",
    "                raw_data['s31']['mag'].append(float(row[17]))\n",
    "                raw_data['s31']['phi'].append(float(row[18]))\n",
    "                raw_data['s41']['mag'].append(float(row[25]))\n",
    "                raw_data['s41']['phi'].append(float(row[26]))\n",
    "                #if int(row[0])==int(frequency_of_interest):\n",
    "                    \n",
    "                #    raw_data.update({'s':[]})\n",
    "                #    for n in row[1:]:\n",
    "                #        raw_data['s'].append(float(n))\n",
    "        except ValueError:\n",
    "            continue"
   ]
  },
  {
   "cell_type": "markdown",
   "metadata": {},
   "source": [
    "# Plot of the unwrapped phases of S21, S31, and S41"
   ]
  },
  {
   "cell_type": "code",
   "execution_count": null,
   "metadata": {},
   "outputs": [],
   "source": [
    "plt.figure(figsize=(12,9))\n",
    "plt.plot(raw_data['f'],np.unwrap(np.radians(raw_data['s21']['phi'])))\n",
    "plt.plot(raw_data['f'],np.unwrap(np.radians(raw_data['s31']['phi'])))\n",
    "plt.plot(raw_data['f'],np.unwrap(np.radians(raw_data['s41']['phi'])))\n",
    "\n",
    "plt.figure(figsize=(12,9))\n",
    "plt.plot(raw_data['f'],np.gradient(np.unwrap(np.radians(raw_data['s21']['phi'])),raw_data['f']),'.')\n",
    "plt.plot(raw_data['f'],np.gradient(np.unwrap(np.radians(raw_data['s31']['phi'])),raw_data['f']),'.')\n",
    "plt.plot(raw_data['f'],np.gradient(np.unwrap(np.radians(raw_data['s41']['phi'])),raw_data['f']),'.')\n",
    "\n",
    "r2=-np.gradient(np.unwrap(np.radians(raw_data['s21']['phi'])),raw_data['f'])*3e10/(2*np.pi) # in cm\n",
    "r3=-np.gradient(np.unwrap(np.radians(raw_data['s31']['phi'])),raw_data['f'])*3e10/(2*np.pi)\n",
    "r4=-np.gradient(np.unwrap(np.radians(raw_data['s41']['phi'])),raw_data['f'])*3e10/(2*np.pi)\n",
    "\n",
    "plt.figure(figsize=(12,9))\n",
    "plt.plot(raw_data['f'],r2,'.')\n",
    "plt.plot(raw_data['f'],r3,'.')\n",
    "plt.plot(raw_data['f'],r4,'.')\n",
    "#print(r2,r3,r4)"
   ]
  },
  {
   "cell_type": "code",
   "execution_count": null,
   "metadata": {},
   "outputs": [],
   "source": [
    "file='3antenna_s41_antenna_twice_as_far.csv'\n",
    "\n",
    "raw_data1={'f':[],'s21':{'mag':[],'phi':[]},'s31':{'mag':[],'phi':[]},'s41':{'mag':[],'phi':[]}}\n",
    "#frequency_of_interest=26e9\n",
    "with open(path+file) as infile:\n",
    "    read=csv.reader(infile,delimiter=',')\n",
    "    for row in read:\n",
    "        #print(row)\n",
    "        try:\n",
    "            if len(row)>0:\n",
    "                raw_data1['f'].append(float(row[0]))\n",
    "                raw_data1['s21']['mag'].append(float(row[9]))\n",
    "                raw_data1['s21']['phi'].append(float(row[10]))\n",
    "                raw_data1['s31']['mag'].append(float(row[17]))\n",
    "                raw_data1['s31']['phi'].append(float(row[18]))\n",
    "                raw_data1['s41']['mag'].append(float(row[25]))\n",
    "                raw_data1['s41']['phi'].append(float(row[26]))\n",
    "                #if int(row[0])==int(frequency_of_interest):\n",
    "                    \n",
    "                #    raw_data.update({'s':[]})\n",
    "                #    for n in row[1:]:\n",
    "                #        raw_data['s'].append(float(n))\n",
    "        except ValueError:\n",
    "            continue"
   ]
  },
  {
   "cell_type": "code",
   "execution_count": null,
   "metadata": {},
   "outputs": [],
   "source": [
    "plt.figure(figsize=(12,9))\n",
    "plt.plot(raw_data1['f'],np.unwrap(np.radians(raw_data1['s21']['phi'])))\n",
    "plt.plot(raw_data1['f'],np.unwrap(np.radians(raw_data1['s31']['phi'])))\n",
    "plt.plot(raw_data1['f'],np.unwrap(np.radians(raw_data1['s41']['phi'])))\n",
    "\n",
    "plt.figure(figsize=(12,9))\n",
    "plt.plot(raw_data1['f'],np.gradient(np.unwrap(np.radians(raw_data1['s21']['phi'])),raw_data1['f']),'.')\n",
    "plt.plot(raw_data1['f'],np.gradient(np.unwrap(np.radians(raw_data1['s31']['phi'])),raw_data1['f']),'.')\n",
    "plt.plot(raw_data1['f'],np.gradient(np.unwrap(np.radians(raw_data1['s41']['phi'])),raw_data1['f']),'.')\n",
    "\n",
    "r2_1=-np.gradient(np.unwrap(np.radians(raw_data1['s21']['phi'])),raw_data1['f'])*3e10/(2*np.pi) # in cm\n",
    "r3_1=-np.gradient(np.unwrap(np.radians(raw_data1['s31']['phi'])),raw_data1['f'])*3e10/(2*np.pi)\n",
    "r4_1=-np.gradient(np.unwrap(np.radians(raw_data1['s41']['phi'])),raw_data1['f'])*3e10/(2*np.pi)\n",
    "\n",
    "plt.figure(figsize=(12,9))\n",
    "plt.plot(raw_data1['f'],r2_1,'.')\n",
    "plt.plot(raw_data1['f'],r3_1,'.')\n",
    "plt.plot(raw_data1['f'],r4_1,'.')\n",
    "print(np.mean(r3),np.mean(r3_1))"
   ]
  },
  {
   "cell_type": "markdown",
   "metadata": {},
   "source": [
    "# Zero pad frequencies before the starting frequency in the raw data"
   ]
  },
  {
   "cell_type": "code",
   "execution_count": null,
   "metadata": {},
   "outputs": [],
   "source": [
    "pad_data={'f':[],'s21':{'mag':[],'phi':[]},'s31':{'mag':[],'phi':[]},'s41':{'mag':[],'phi':[]}}\n",
    "for i,k in enumerate(raw_data):\n",
    "    if i==0:\n",
    "        pad_data['f']=np.append(np.arange(0,raw_data['f'][0],raw_data['f'][1]-raw_data['f'][0]),raw_data['f'])\n",
    "        print(k)\n",
    "    else:\n",
    "        for j,l in enumerate(raw_data[k]):\n",
    "            print(k,l)\n",
    "            pad_data[k][l]=np.append(np.zeros(len(np.arange(0,raw_data['f'][0],raw_data['f'][1]-raw_data['f'][0])))\n",
    "                                     ,raw_data[k][l])\n",
    "\n"
   ]
  },
  {
   "cell_type": "code",
   "execution_count": null,
   "metadata": {},
   "outputs": [],
   "source": [
    "#plt.figure(figsize=(12,9))\n",
    "#plt.plot(pad_data['f'],np.unwrap(np.radians(pad_data['s21']['phi'])))\n",
    "#plt.plot(pad_data['f'],np.unwrap(np.radians(pad_data['s31']['phi'])))\n",
    "#plt.plot(pad_data['f'],np.unwrap(np.radians(pad_data['s41']['phi'])))\n",
    "\n",
    "plt.figure(figsize=(12,9))\n",
    "plt.plot(np.fft.irfft(np.unwrap(np.radians(pad_data['s21']['phi']))))"
   ]
  },
  {
   "cell_type": "code",
   "execution_count": null,
   "metadata": {},
   "outputs": [],
   "source": [
    "raw_data['f'][0]"
   ]
  },
  {
   "cell_type": "code",
   "execution_count": null,
   "metadata": {},
   "outputs": [],
   "source": []
  }
 ],
 "metadata": {
  "kernelspec": {
   "display_name": "Python 3",
   "language": "python",
   "name": "python3"
  },
  "language_info": {
   "codemirror_mode": {
    "name": "ipython",
    "version": 3
   },
   "file_extension": ".py",
   "mimetype": "text/x-python",
   "name": "python",
   "nbconvert_exporter": "python",
   "pygments_lexer": "ipython3",
   "version": "3.7.4"
  }
 },
 "nbformat": 4,
 "nbformat_minor": 2
}
