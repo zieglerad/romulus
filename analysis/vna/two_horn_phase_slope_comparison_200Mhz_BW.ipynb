{
 "cells": [
  {
   "cell_type": "code",
   "execution_count": null,
   "metadata": {},
   "outputs": [],
   "source": [
    "import numpy as np\n",
    "import matplotlib.pyplot as plt\n",
    "import csv"
   ]
  },
  {
   "cell_type": "markdown",
   "metadata": {},
   "source": [
    "# Parse the data file to obtain the raw data"
   ]
  },
  {
   "cell_type": "code",
   "execution_count": null,
   "metadata": {},
   "outputs": [],
   "source": [
    "path = '/Users/ziegler/p8/psu_data/vna_data/two_horn_200Mhz_'\n",
    "files=['4.csv','4_5.csv','5.csv','5_5.csv','6.csv','6_5.csv','7.csv','7_5.csv','8.csv','8_5.csv','9.csv']\n",
    "\n",
    "raw_data={'4':{},'4_5':{},'5':{},'5_5':{},'6':{},'6_5':{},'7':{},'7_5':{},'8':{},'8_5':{},'9':{}}\n",
    "#raw_data={'f':[],'s21':{'mag':[],'phi':[]},'s31':{'mag':[],'phi':[]},'s41':{'mag':[],'phi':[]}}\n",
    "for i,k in enumerate(raw_data):\n",
    "    raw_data[k].update({'f':[],'s42':{'mag':[],'phi':[]}})\n",
    "    with open(path+files[i]) as infile:\n",
    "        read=csv.reader(infile,delimiter=',')\n",
    "        for row in read:\n",
    "            #print(k)\n",
    "            try:\n",
    "                if len(row)>0:\n",
    "                    raw_data[k]['f'].append(float(row[0]))\n",
    "                    raw_data[k]['s42']['mag'].append(float(row[5]))\n",
    "                    raw_data[k]['s42']['phi'].append(float(row[6]))\n",
    "                    #raw_data[k]['s31']['mag'].append(float(row[17]))\n",
    "                    #raw_data[k]['s31']['phi'].append(float(row[18]))\n",
    "                    #raw_data[k]['s41']['mag'].append(float(row[25]))\n",
    "                    #raw_data[k]['s41']['phi'].append(float(row[26]))\n",
    "            except ValueError:\n",
    "                continue"
   ]
  },
  {
   "cell_type": "markdown",
   "metadata": {},
   "source": [
    "# Plot of the unwrapped phases of S21, S31, and S41"
   ]
  },
  {
   "cell_type": "code",
   "execution_count": null,
   "metadata": {},
   "outputs": [],
   "source": [
    "plt.figure(figsize=(12,9))\n",
    "for i,k in enumerate(raw_data):\n",
    "    plt.plot(raw_data[k]['f'],np.unwrap(np.radians(raw_data[k]['s42']['phi'])))\n",
    "#plt.plot(raw_data['f'],np.unwrap(np.radians(raw_data['s31']['phi'])))\n",
    "#plt.plot(raw_data['f'],np.unwrap(np.radians(raw_data['s41']['phi'])))\n",
    "plt.title(\"Unwrapped phase vs frequency with 200MHz BW\")\n",
    "plt.xlabel('Frequency')\n",
    "plt.ylabel('Phase')\n",
    "plt.figure(figsize=(12,9))\n",
    "for i,k in enumerate(raw_data):\n",
    "    plt.plot(raw_data[k]['f'],np.gradient(np.unwrap(np.radians(raw_data[k]['s42']['phi'])),raw_data[k]['f']),'.')\n",
    "#plt.plot(raw_data['f'],np.gradient(np.unwrap(np.radians(raw_data['s31']['phi'])),raw_data['f']),'.')\n",
    "#plt.plot(raw_data['f'],np.gradient(np.unwrap(np.radians(raw_data['s41']['phi'])),raw_data['f']),'.')\n",
    "\n",
    "#r2=-np.gradient(np.unwrap(np.radians(raw_data['s21']['phi'])),raw_data['f'])*3e10/(2*np.pi) # in cm\n",
    "#r3=-np.gradient(np.unwrap(np.radians(raw_data['s31']['phi'])),raw_data['f'])*3e10/(2*np.pi)\n",
    "#r4=-np.gradient(np.unwrap(np.radians(raw_data['s41']['phi'])),raw_data['f'])*3e10/(2*np.pi)\n",
    "avg_dist=[]\n",
    "plt.figure(figsize=(12,9))\n",
    "for i,k in enumerate(raw_data):\n",
    "    r=-np.gradient(np.unwrap(np.radians(raw_data[k]['s42']['phi'])),raw_data[k]['f'])*3e10/(2*np.pi) # in cm\n",
    "    plt.plot(raw_data[k]['f'],r,'.')\n",
    "    avg_dist.append(np.mean(r))\n",
    "    \n",
    "plt.figure(figsize=(12,9))\n",
    "for i,k in enumerate(raw_data):\n",
    "    plt.plot(raw_data[k]['f'],np.zeros(len(raw_data[k]['f']))+avg_dist[i],label=k)\n",
    "#plt.plot(raw_data['f'],r3,'.')\n",
    "#plt.plot(raw_data['f'],r4,'.')\n",
    "#print(r2,r3,r4)\n",
    "plt.legend()\n",
    "plt.ylim(24,38)\n",
    "plt.grid()\n",
    "plt.title('200 MHz BW')\n",
    "#plt.plot(raw_data['f'],r3,'.')\n",
    "#plt.plot(raw_data['f'],r4,'.')\n",
    "#print(r2,r3,r4)"
   ]
  },
  {
   "cell_type": "code",
   "execution_count": null,
   "metadata": {},
   "outputs": [],
   "source": [
    "#print(avg_dist[2]-avg_dist[1],avg_dist[1]-avg_dist[0])\n",
    "real_dist=np.asarray([4,4.5,5,5.5,6,6.5,7,7.5,8,8.5,9])\n",
    "plt.figure()\n",
    "plt.plot(2.54*real_dist,avg_dist,'.')\n",
    "plt.xlabel(\"real distance (cm)\")\n",
    "plt.ylabel('reconstructed distance (cm)')"
   ]
  },
  {
   "cell_type": "code",
   "execution_count": null,
   "metadata": {},
   "outputs": [],
   "source": [
    "plt.figure(figsize=(12,9))\n",
    "plt.plot(raw_data1['f'],np.unwrap(np.radians(raw_data1['s21']['phi'])))\n",
    "plt.plot(raw_data1['f'],np.unwrap(np.radians(raw_data1['s31']['phi'])))\n",
    "plt.plot(raw_data1['f'],np.unwrap(np.radians(raw_data1['s41']['phi'])))\n",
    "\n",
    "plt.figure(figsize=(12,9))\n",
    "plt.plot(raw_data1['f'],np.gradient(np.unwrap(np.radians(raw_data1['s21']['phi'])),raw_data1['f']),'.')\n",
    "plt.plot(raw_data1['f'],np.gradient(np.unwrap(np.radians(raw_data1['s31']['phi'])),raw_data1['f']),'.')\n",
    "plt.plot(raw_data1['f'],np.gradient(np.unwrap(np.radians(raw_data1['s41']['phi'])),raw_data1['f']),'.')\n",
    "\n",
    "r2_1=-np.gradient(np.unwrap(np.radians(raw_data1['s21']['phi'])),raw_data1['f'])*3e10/(2*np.pi) # in cm\n",
    "r3_1=-np.gradient(np.unwrap(np.radians(raw_data1['s31']['phi'])),raw_data1['f'])*3e10/(2*np.pi)\n",
    "r4_1=-np.gradient(np.unwrap(np.radians(raw_data1['s41']['phi'])),raw_data1['f'])*3e10/(2*np.pi)\n",
    "\n",
    "plt.figure(figsize=(12,9))\n",
    "plt.plot(raw_data1['f'],r2_1,'.')\n",
    "plt.plot(raw_data1['f'],r3_1,'.')\n",
    "plt.plot(raw_data1['f'],r4_1,'.')\n",
    "print(np.mean(r3),np.mean(r3_1))"
   ]
  },
  {
   "cell_type": "markdown",
   "metadata": {},
   "source": [
    "# Zero pad frequencies before the starting frequency in the raw data"
   ]
  },
  {
   "cell_type": "code",
   "execution_count": null,
   "metadata": {},
   "outputs": [],
   "source": [
    "pad_data={'f':[],'s21':{'mag':[],'phi':[]},'s31':{'mag':[],'phi':[]},'s41':{'mag':[],'phi':[]}}\n",
    "for i,k in enumerate(raw_data):\n",
    "    if i==0:\n",
    "        pad_data['f']=np.append(np.arange(0,raw_data['f'][0],raw_data['f'][1]-raw_data['f'][0]),raw_data['f'])\n",
    "        print(k)\n",
    "    else:\n",
    "        for j,l in enumerate(raw_data[k]):\n",
    "            print(k,l)\n",
    "            pad_data[k][l]=np.append(np.zeros(len(np.arange(0,raw_data['f'][0],raw_data['f'][1]-raw_data['f'][0])))\n",
    "                                     ,raw_data[k][l])\n",
    "\n"
   ]
  },
  {
   "cell_type": "code",
   "execution_count": null,
   "metadata": {},
   "outputs": [],
   "source": [
    "#plt.figure(figsize=(12,9))\n",
    "#plt.plot(pad_data['f'],np.unwrap(np.radians(pad_data['s21']['phi'])))\n",
    "#plt.plot(pad_data['f'],np.unwrap(np.radians(pad_data['s31']['phi'])))\n",
    "#plt.plot(pad_data['f'],np.unwrap(np.radians(pad_data['s41']['phi'])))\n",
    "\n",
    "plt.figure(figsize=(12,9))\n",
    "plt.plot(np.fft.irfft(np.unwrap(np.radians(pad_data['s21']['phi']))))"
   ]
  },
  {
   "cell_type": "code",
   "execution_count": null,
   "metadata": {},
   "outputs": [],
   "source": [
    "raw_data['f'][0]"
   ]
  },
  {
   "cell_type": "code",
   "execution_count": null,
   "metadata": {},
   "outputs": [],
   "source": []
  }
 ],
 "metadata": {
  "kernelspec": {
   "display_name": "Python 3",
   "language": "python",
   "name": "python3"
  },
  "language_info": {
   "codemirror_mode": {
    "name": "ipython",
    "version": 3
   },
   "file_extension": ".py",
   "mimetype": "text/x-python",
   "name": "python",
   "nbconvert_exporter": "python",
   "pygments_lexer": "ipython3",
   "version": "3.7.4"
  }
 },
 "nbformat": 4,
 "nbformat_minor": 2
}
