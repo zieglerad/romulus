{
 "cells": [
  {
   "cell_type": "code",
   "execution_count": null,
   "id": "91978a13",
   "metadata": {},
   "outputs": [],
   "source": [
    "import numpy as np\n",
    "import matplotlib.pyplot as plt\n",
    "import seaborn as sns\n",
    "import pandas as pd\n",
    "import torch\n",
    "import h5py\n",
    "import os\n",
    "import scipy\n",
    "import damselfly as df\n",
    "\n",
    "PATH = '/storage/home/adz6/group/project'\n",
    "RESULTPATH = os.path.join(PATH, 'results/damselfly')\n",
    "PLOTPATH = os.path.join(PATH, 'plots/damselfly')\n",
    "DATAPATH = os.path.join(PATH, 'damselfly/data/datasets')\n",
    "\n",
    "\"\"\"\n",
    "Date: 6/25/2021\n",
    "Description: Trained a dfcnn model on 210625_df_data1 data set. \n",
    "I trained and evaluated this model on with different noise temperatures.\n",
    "Here I plot the results.\n",
    "\"\"\""
   ]
  },
  {
   "cell_type": "markdown",
   "id": "8e8dfd84",
   "metadata": {},
   "source": [
    "# load the results"
   ]
  },
  {
   "cell_type": "code",
   "execution_count": null,
   "id": "1198aad4",
   "metadata": {},
   "outputs": [],
   "source": [
    "result_dir = os.listdir(os.path.join(RESULTPATH, 'confusion_matrices'))[0]"
   ]
  },
  {
   "cell_type": "code",
   "execution_count": null,
   "id": "88cb12c4",
   "metadata": {},
   "outputs": [],
   "source": [
    "result_files = os.listdir(os.path.join(RESULTPATH, 'confusion_matrices', result_dir))"
   ]
  },
  {
   "cell_type": "code",
   "execution_count": null,
   "id": "e2a059d1",
   "metadata": {},
   "outputs": [],
   "source": [
    "def load_result(file):\n",
    "    temp = float(file.split('temp')[-1].split('_')[0])\n",
    "    dset = file.split('evaldata_')[-1].split('_')[0]\n",
    "    threshold = float(file.split('threshold')[-1].split('.npz')[0])\n",
    "    result = {}\n",
    "    result_data = np.load(file)\n",
    "    for i,key in enumerate(result_data):\n",
    "        result[key] = result_data[key]\n",
    "    return temp, dset, threshold, result\n",
    "\n",
    "def load_all_results(result_files):\n",
    "    all_results = []\n",
    "    for file in result_files:\n",
    "        temp, dset, threshold, result = load_result(os.path.join(RESULTPATH, 'confusion_matrices', result_dir, file))\n",
    "        result_dict = {'T': temp, 'threshold': threshold, 'dset': dset }\n",
    "        for i,key in enumerate(result):\n",
    "            result_dict[key] = result[key]\n",
    "        all_results.append(result_dict)\n",
    "    return pd.DataFrame(all_results)\n",
    "\n",
    "all_results = load_all_results(result_files)"
   ]
  },
  {
   "cell_type": "markdown",
   "id": "3fbc95f5",
   "metadata": {},
   "source": [
    "# Get number of ground truth negatives and positives for each dataset"
   ]
  },
  {
   "cell_type": "code",
   "execution_count": null,
   "id": "a1645b1b",
   "metadata": {},
   "outputs": [],
   "source": [
    "test_dataset = os.listdir(DATAPATH)[0]"
   ]
  },
  {
   "cell_type": "code",
   "execution_count": null,
   "id": "34598dbc",
   "metadata": {},
   "outputs": [],
   "source": [
    "testdata = df.data.DFDataset(os.path.join(DATAPATH, test_dataset), 'test')\n",
    "traindata = df.data.DFDataset(os.path.join(DATAPATH, test_dataset), 'train')"
   ]
  },
  {
   "cell_type": "code",
   "execution_count": null,
   "id": "305c9960",
   "metadata": {},
   "outputs": [],
   "source": [
    "Nsignal_test = torch.where(testdata.label == 1)[0].shape[0]\n",
    "Nnoise_test = torch.where(testdata.label == 0)[0].shape[0]\n",
    "\n",
    "Nsignal_train = torch.where(traindata.label == 1)[0].shape[0]\n",
    "Nnoise_train = torch.where(traindata.label == 0)[0].shape[0]"
   ]
  },
  {
   "cell_type": "markdown",
   "id": "06d04975",
   "metadata": {},
   "source": [
    "# plot efficiency and FAR vs temperature"
   ]
  },
  {
   "cell_type": "code",
   "execution_count": null,
   "id": "e068164d",
   "metadata": {},
   "outputs": [],
   "source": [
    "thresholds = np.sort(all_results['threshold'].unique())\n",
    "temperatures = np.sort(all_results['T'].unique())"
   ]
  },
  {
   "cell_type": "code",
   "execution_count": null,
   "id": "9706f081",
   "metadata": {},
   "outputs": [],
   "source": [
    "test_eff = {}\n",
    "for threshold in thresholds:\n",
    "    test_eff[threshold] = []\n",
    "    for temp in temperatures:\n",
    "        test_eff[threshold].append(all_results[(all_results['threshold'] == threshold) & (all_results['T'] == temp)]['test'].item()[0, 0] / Nsignal_test)\n",
    "    print(test_eff[threshold])\n",
    "#all_results[all_results['threshold'] == thresholds[1]][['test', 'T']]\n",
    "\n",
    "test_far = {}\n",
    "for threshold in thresholds:\n",
    "    test_far[threshold] = []\n",
    "    for temp in temperatures:\n",
    "        test_far[threshold].append(all_results[(all_results['threshold'] == threshold) & (all_results['T'] == temp)]['test'].item()[1, 0] / Nnoise_test)\n",
    "    print(test_far[threshold])"
   ]
  },
  {
   "cell_type": "code",
   "execution_count": null,
   "id": "36679766",
   "metadata": {},
   "outputs": [],
   "source": [
    "figname = '210625_plot_dfcnn_efficiency_vs_noise_temp.png'\n",
    "\n",
    "sns.set_theme(context='talk', style='whitegrid', palette='mako')\n",
    "#markers = ['o', 's', 'v', 'd', 'p']\n",
    "fig = plt.figure(figsize=(16,6))\n",
    "ax = plt.subplot(1,2,1)\n",
    "\n",
    "for i, threshold in enumerate(test_eff):\n",
    "    ax.plot(temperatures, test_eff[threshold], 'o-', label=threshold)\n",
    "ax.legend(loc=3, title='Threshold')\n",
    "ax.set_title('Detection Efficiency')\n",
    "ax.set_xlabel('Noise Temperature (K)')\n",
    "ax.set_ylabel('Detection Efficiency')\n",
    "#sns.set_style('whitegrid')\n",
    "\n",
    "#fig = plt.figure(figsize=(8,6))\n",
    "ax = plt.subplot(1,2,2)\n",
    "\n",
    "for i, threshold in enumerate(test_eff):\n",
    "    ax.plot(temperatures, test_far[threshold], 'o-', label=threshold)\n",
    "\n",
    "ax.set_title('False Alarm Rate')\n",
    "ax.set_xlabel('Noise Temperature (K)')\n",
    "ax.set_ylabel('False Alarm Rate')\n",
    "\n",
    "ax.legend(loc=2, title='Threshold')\n",
    "\n",
    "plt.savefig(os.path.join(PLOTPATH, figname))\n",
    "\n",
    "plt.show()"
   ]
  },
  {
   "cell_type": "code",
   "execution_count": null,
   "id": "41a8da82",
   "metadata": {},
   "outputs": [],
   "source": [
    "all_results"
   ]
  },
  {
   "cell_type": "code",
   "execution_count": null,
   "id": "e0fb7a4f",
   "metadata": {},
   "outputs": [],
   "source": []
  }
 ],
 "metadata": {
  "kernelspec": {
   "display_name": "Python 3",
   "language": "python",
   "name": "python3"
  },
  "language_info": {
   "codemirror_mode": {
    "name": "ipython",
    "version": 3
   },
   "file_extension": ".py",
   "mimetype": "text/x-python",
   "name": "python",
   "nbconvert_exporter": "python",
   "pygments_lexer": "ipython3",
   "version": "3.8.10"
  }
 },
 "nbformat": 4,
 "nbformat_minor": 5
}
