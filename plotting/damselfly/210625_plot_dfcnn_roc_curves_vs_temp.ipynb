{
 "cells": [
  {
   "cell_type": "code",
   "execution_count": null,
   "id": "98e8c740",
   "metadata": {},
   "outputs": [],
   "source": [
    "import numpy as np\n",
    "import matplotlib.pyplot as plt\n",
    "import seaborn as sns\n",
    "import pandas as pd\n",
    "import torch\n",
    "import h5py\n",
    "import os\n",
    "import sys\n",
    "import scipy\n",
    "import damselfly as df\n",
    "\n",
    "PATH = '/storage/home/adz6/group/project'\n",
    "RESULTPATH = os.path.join(PATH, 'results/damselfly')\n",
    "PLOTPATH = os.path.join(PATH, 'plots/damselfly')\n",
    "DATAPATH = os.path.join(PATH, 'damselfly/data/datasets')\n",
    "\n",
    "\"\"\"\n",
    "Date: 6/25/2021\n",
    "Description: plots the roc curves calculated for the dfcnn models trained on different noise temperature data.\n",
    "\"\"\""
   ]
  },
  {
   "cell_type": "code",
   "execution_count": null,
   "id": "7f9095e1",
   "metadata": {},
   "outputs": [],
   "source": [
    "result_list = os.listdir(os.path.join(RESULTPATH, 'roc'))"
   ]
  },
  {
   "cell_type": "code",
   "execution_count": null,
   "id": "ed77a2f6",
   "metadata": {},
   "outputs": [],
   "source": [
    "def load_result(file):\n",
    "    temp = float(file.split('temp')[-1].split('_')[0])\n",
    "    dset = file.split('dset_name_')[-1].split('_')[0]\n",
    "    result = {}\n",
    "    result_data = np.load(file)\n",
    "    for i,key in enumerate(result_data):\n",
    "        result[key] = result_data[key]\n",
    "    return temp, dset, result\n",
    "\n",
    "def load_all_results(result_files):\n",
    "    all_results = []\n",
    "    for file in result_files:\n",
    "        temp, dset, result = load_result(os.path.join(RESULTPATH, 'roc', file))\n",
    "        result_dict = {'T': temp, 'dset': dset }\n",
    "        for i,key in enumerate(result):\n",
    "            result_dict[key] = result[key]\n",
    "        all_results.append(result_dict)\n",
    "    return pd.DataFrame(all_results)\n",
    "\n",
    "all_results = load_all_results(result_list)"
   ]
  },
  {
   "cell_type": "code",
   "execution_count": null,
   "id": "d2f48334",
   "metadata": {},
   "outputs": [],
   "source": [
    "temps = np.sort(all_results['T'].unique())\n",
    "classes = np.sort(all_results['class_ind'].iloc[0])\n",
    "tpr, fpr = {}, {}\n",
    "\n",
    "for temp in temps:\n",
    "    tpr[temp] = {}\n",
    "    fpr[temp] = {}\n",
    "    for iclass in classes:\n",
    "        tpr[temp][iclass] = all_results[all_results['T'] == temp]['tpr'].item()[iclass]\n",
    "        fpr[temp][iclass] = all_results[all_results['T'] == temp]['fpr'].item()[iclass]"
   ]
  },
  {
   "cell_type": "code",
   "execution_count": null,
   "id": "778ac6a8",
   "metadata": {},
   "outputs": [],
   "source": [
    "figname = '210625_plot_dfcnn_roc_vs_noise_temp.png'\n",
    "\n",
    "sns.set_theme(context='talk', style='whitegrid', palette='mako')\n",
    "\n",
    "fig = plt.figure(figsize=(17,6))\n",
    "ax1 = plt.subplot(1,2,1)\n",
    "ax2 = plt.subplot(1,2,2)\n",
    "\n",
    "auc = []\n",
    "for i, temp in enumerate(temps):\n",
    "    #for j, jclass in enumerate(classes):\n",
    "    \n",
    "    ax1.plot((fpr[temp][0] + fpr[temp][1]) / 2, (tpr[temp][0] + tpr[temp][1]) / 2, '-', label=f'{temp}')\n",
    "    ax2.plot(temp, \n",
    "             abs(scipy.integrate.simpson((tpr[temp][0] + tpr[temp][1]) / 2, x=(fpr[temp][0] + fpr[temp][1]) / 2)), \n",
    "             'o', label=f'{temp}')\n",
    "    auc.append(abs(scipy.integrate.simpson((tpr[temp][0] + tpr[temp][1]) / 2, x=(fpr[temp][0] + fpr[temp][1]) / 2)))\n",
    "    \n",
    "ax1.plot(np.linspace(0,1,10), np.linspace(0, 1, 10), '--', color='tab:gray')\n",
    "ax1.legend(loc=4, title='Noise Temp(K)')\n",
    "ax1.set_title('ROC Curve')\n",
    "ax1.set_xlabel('False Positive Rate')\n",
    "ax1.set_ylabel('True Positive Rate')\n",
    "\n",
    "\n",
    "\n",
    "ax2.set_title('Area Under the Curve')\n",
    "ax2.set_xlabel('Noise Temp (K)')\n",
    "ax2.set_ylabel('AUC')\n",
    "#ax2.legend(loc=3)\n",
    "\n",
    "plt.savefig(os.path.join(PLOTPATH, figname))\n",
    "\n",
    "plt.show()\n"
   ]
  },
  {
   "cell_type": "code",
   "execution_count": null,
   "id": "8c0b9900",
   "metadata": {},
   "outputs": [],
   "source": []
  }
 ],
 "metadata": {
  "kernelspec": {
   "display_name": "Python 3",
   "language": "python",
   "name": "python3"
  },
  "language_info": {
   "codemirror_mode": {
    "name": "ipython",
    "version": 3
   },
   "file_extension": ".py",
   "mimetype": "text/x-python",
   "name": "python",
   "nbconvert_exporter": "python",
   "pygments_lexer": "ipython3",
   "version": "3.8.10"
  }
 },
 "nbformat": 4,
 "nbformat_minor": 5
}
