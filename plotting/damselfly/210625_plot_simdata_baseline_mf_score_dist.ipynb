{
 "cells": [
  {
   "cell_type": "code",
   "execution_count": null,
   "id": "98e8c740",
   "metadata": {},
   "outputs": [],
   "source": [
    "import numpy as np\n",
    "import matplotlib.pyplot as plt\n",
    "import seaborn as sns\n",
    "import pandas as pd\n",
    "import torch\n",
    "import h5py\n",
    "import os\n",
    "import sys\n",
    "import scipy\n",
    "import damselfly as df\n",
    "\n",
    "PATH = '/storage/home/adz6/group/project'\n",
    "RESULTPATH = os.path.join(PATH, 'results/damselfly')\n",
    "PLOTPATH = os.path.join(PATH, 'plots/damselfly')\n",
    "DATAPATH = os.path.join(PATH, 'damselfly/data/datasets')\n",
    "\n",
    "\"\"\"\n",
    "Date: 6/25/2021\n",
    "Description: plot histogram of sim data baseline mf scores\n",
    "\"\"\""
   ]
  },
  {
   "cell_type": "code",
   "execution_count": null,
   "id": "7f9095e1",
   "metadata": {},
   "outputs": [],
   "source": [
    "result_name = '210625_df1_simdata_mf_baseline.npz'"
   ]
  },
  {
   "cell_type": "code",
   "execution_count": null,
   "id": "699392da",
   "metadata": {},
   "outputs": [],
   "source": [
    "result = np.load(os.path.join(RESULTPATH, result_name))\n",
    "for i, key in enumerate(result):\n",
    "    print(result[key])"
   ]
  },
  {
   "cell_type": "markdown",
   "id": "fe289afe",
   "metadata": {},
   "source": [
    "# plot distributions"
   ]
  },
  {
   "cell_type": "code",
   "execution_count": null,
   "id": "f0d8223d",
   "metadata": {},
   "outputs": [],
   "source": [
    "figname = '210625_df1_simdata_mf_baseline_distributions.png'\n",
    "\n",
    "fig = plt.figure(figsize=(8,6))\n",
    "ax = plt.subplot(1,1,1)\n",
    "\n",
    "sns.set_theme(context='talk', style='whitegrid', palette='deep')\n",
    "\n",
    "for i, key in enumerate(result):\n",
    "    ax.hist(result[key], bins = int(np.std(result[key]) * 50), label=key)\n",
    "\n",
    "\n",
    "ax.set_xlabel('Matched Filter Score')\n",
    "ax.set_ylabel('N')\n",
    "ax.set_title('Matched Filter Score Distribution')\n",
    "plt.legend(loc=1)\n",
    "\n",
    "plt.savefig(os.path.join(PLOTPATH, figname))\n",
    "plt.show()"
   ]
  },
  {
   "cell_type": "markdown",
   "id": "dd193626",
   "metadata": {},
   "source": []
  }
 ],
 "metadata": {
  "kernelspec": {
   "display_name": "Python 3",
   "language": "python",
   "name": "python3"
  },
  "language_info": {
   "codemirror_mode": {
    "name": "ipython",
    "version": 3
   },
   "file_extension": ".py",
   "mimetype": "text/x-python",
   "name": "python",
   "nbconvert_exporter": "python",
   "pygments_lexer": "ipython3",
   "version": "3.8.10"
  }
 },
 "nbformat": 4,
 "nbformat_minor": 5
}
