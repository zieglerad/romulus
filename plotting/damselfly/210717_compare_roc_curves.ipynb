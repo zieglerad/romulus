{
 "cells": [
  {
   "cell_type": "code",
   "execution_count": null,
   "id": "98e8c740",
   "metadata": {},
   "outputs": [],
   "source": [
    "import numpy as np\n",
    "import matplotlib.pyplot as plt\n",
    "import seaborn as sns\n",
    "import pandas as pd\n",
    "import torch\n",
    "import h5py\n",
    "import os\n",
    "import sys\n",
    "import scipy\n",
    "import damselfly as df\n",
    "\n",
    "PATH = '/storage/home/adz6/group/project'\n",
    "RESULTPATH = os.path.join(PATH, 'results/damselfly')\n",
    "PLOTPATH = os.path.join(PATH, 'plots/damselfly')\n",
    "DATAPATH = os.path.join(PATH, 'damselfly/data/datasets')\n",
    "\n",
    "\"\"\"\n",
    "Date: 6/25/2021\n",
    "Description: template\n",
    "\"\"\""
   ]
  },
  {
   "cell_type": "code",
   "execution_count": null,
   "id": "7f9095e1",
   "metadata": {},
   "outputs": [],
   "source": [
    "os.listdir(os.path.join(RESULTPATH, 'roc'))"
   ]
  },
  {
   "cell_type": "code",
   "execution_count": null,
   "id": "fa57275a",
   "metadata": {},
   "outputs": [],
   "source": [
    "compare_temp = 10.0\n",
    "\n",
    "# load curves\n",
    "\n",
    "for file in os.listdir(os.path.join(RESULTPATH, 'roc')):\n",
    "    # df curve\n",
    "    #print(file.split('fft_roc_curve_noise')[-1].split('K')[0])\n",
    "    if file.split('_')[0] == '210625' and file.split('temp')[-1].split('_')[0] == str(compare_temp):\n",
    "        roc_df1 = np.array([np.mean(np.load(os.path.join(RESULTPATH, 'roc', file))['fpr'], axis=0), np.mean(np.load(os.path.join(RESULTPATH, 'roc', file))['tpr'], axis=0)]).T\n",
    "    # fft curve\n",
    "    elif file.split('_')[0] == '210717' and file.split('fft_roc_curve_noise')[-1].split('K')[0] == str(compare_temp):\n",
    "        #print(np.load(os.path.join(RESULTPATH, 'roc', file))['tpr'])\n",
    "        roc_fft = np.array([np.load(os.path.join(RESULTPATH, 'roc', file))['fpr'], np.load(os.path.join(RESULTPATH, 'roc', file))['tpr']]).T\n",
    "    elif file.split('_')[0] == '210802' and file.split('.np.')[-1] == 'npy':\n",
    "        #print(np.load(os.path.join(RESULTPATH, 'roc', file))['tpr'])\n",
    "        roc_mf = np.load(os.path.join(RESULTPATH, 'roc', file))\n",
    "    elif file == '210802_roc_210731_84_1d3sl4mt_training_210731_dset_name_84_1d3sl4mt_temp10.0_model_cnn_with_circular_pad.npz':\n",
    "        #print(file)\n",
    "        roc_df_3sl_4mt = np.array([np.load(os.path.join(RESULTPATH, 'roc', file))['fpr'], np.load(os.path.join(RESULTPATH, 'roc', file))['tpr']]).T\n",
    "    elif file.split('_')[0] == '210727':\n",
    "        roc_df2 = np.array([np.load(os.path.join(RESULTPATH, 'roc', file))['fpr'], np.load(os.path.join(RESULTPATH, 'roc', file))['tpr']]).T\n",
    "    elif file.split('_')[0] == '210730':\n",
    "        roc_df_2sl_4mt = np.array([np.load(os.path.join(RESULTPATH, 'roc', file))['fpr'], np.load(os.path.join(RESULTPATH, 'roc', file))['tpr']]).T\n",
    "    elif file == '210802_roc_210731_84_1d1sl4mt_training_210731_dset_name_84_1d1sl4mt_temp10.0_model_cnn_with_circular_pad.npz':\n",
    "        roc_df_1sl_4mt = np.array([np.load(os.path.join(RESULTPATH, 'roc', file))['fpr'], np.load(os.path.join(RESULTPATH, 'roc', file))['tpr']]).T\n",
    "        \n",
    "    \n",
    "#roc_df2 = np.mean(roc_df2, axis=1)\n",
    "#roc_df3 = np.mean(roc_df3, axis=1)\n"
   ]
  },
  {
   "cell_type": "code",
   "execution_count": null,
   "id": "553bafbd",
   "metadata": {},
   "outputs": [],
   "source": [
    "print(roc_df_2sl_4mt.shape)\n",
    "print(roc_df_3sl_4mt.shape)\n",
    "print(roc_df_1sl_4mt.shape)"
   ]
  },
  {
   "cell_type": "code",
   "execution_count": null,
   "id": "867fb743",
   "metadata": {},
   "outputs": [],
   "source": [
    "sns.set_theme(context='talk', style='whitegrid')\n",
    "fig = plt.figure(figsize=(8,5))\n",
    "ax = fig.add_subplot(1,1,1)\n",
    "ax.plot(roc_mf[0], roc_mf[1], label = f'MF, AUC = {-1 * np.round(scipy.integrate.trapezoid(roc_mf[1], roc_mf[0]), 3)}')\n",
    "#ax.plot(roc_df2[:, 0], roc_df2[:, 1], label = f'CNN-2-Idealized, AUC = {-1 * np.round(scipy.integrate.trapezoid(roc_df2[:, 1], roc_df2[:, 0]), 3)}')\n",
    "#ax.plot(roc_df3[:, 0], roc_df3[:, 1], label = f'CNN-2, AUC = {-1 * np.round(scipy.integrate.trapezoid(roc_df3[:, 1], roc_df3[:, 0]), 3)}')\n",
    "#ax.plot(roc_df3[:, 0, 0], roc_df3[:, 0, 1], label = f'CNN-2-noise, AUC = {-1 * np.round(scipy.integrate.trapezoid(roc_df2[:, 1, 1], roc_df2[:, 1, 0]), 2)}')\n",
    "ax.plot(roc_df_3sl_4mt[:, 1, 0], roc_df_3sl_4mt[:, 1, 1], label = f'CNN-3, AUC = {-1 * np.round(scipy.integrate.trapezoid(roc_df_3sl_4mt[:, 1, 1], roc_df_3sl_4mt[:, 1, 0]), 2)}')\n",
    "ax.plot(roc_df_2sl_4mt[:, 1, 0], roc_df_2sl_4mt[:, 1, 1], label = f'CNN-2, AUC = {-1 * np.round(scipy.integrate.trapezoid(roc_df_2sl_4mt[:, 1, 1], roc_df_2sl_4mt[:, 1, 0]), 2)}')\n",
    "ax.plot(roc_df_1sl_4mt[:, 1, 0], roc_df_1sl_4mt[:, 1, 1], label = f'CNN-1, AUC = {-1 * np.round(scipy.integrate.trapezoid(roc_df_1sl_4mt[:, 1, 1], roc_df_1sl_4mt[:, 1, 0]), 2)}')\n",
    "\n",
    "\n",
    "\n",
    "#ax.plot(roc_df_3sl_4mt[:, 0, 0], roc_df_3sl_4mt[:, 0, 1], label = f'CNN-2, AUC = {-1 * np.round(scipy.integrate.trapezoid(roc_df_3sl_4mt[:, 0, 1], roc_df_3sl_4mt[:, 0, 0]), 2)}')\n",
    "#ax.plot(roc_df_2sl_4mt[:, 0, 0], roc_df_2sl_4mt[:, 0, 1], label = f'CNN-3, AUC = {-1 * np.round(scipy.integrate.trapezoid(roc_df_2sl_4mt[:, 0, 1], roc_df_2sl_4mt[:, 0, 0]), 2)}')\n",
    "\n",
    "#ax.plot(roc_df1[:, 0], roc_df1[:, 1], label = f'CNN-1, AUC = {-1 * np.round(scipy.integrate.trapezoid(roc_df1[:, 1], roc_df1[:, 0]), 3)}')\n",
    "#ax.plot(roc_fft[:, 0], roc_fft[:, 1], label = f'FFT, AUC = {-1 * np.round(scipy.integrate.trapezoid(roc_fft[:, 1], roc_fft[:, 0]), 3)}')\n",
    "\n",
    "ax.plot(np.linspace(0,1,19), np.linspace(0,1,19),'--', color='grey')\n",
    "\n",
    "plt.legend(loc=4)\n",
    "plt.title('MF Trigger vs CNN, Mean Track Length = 4')"
   ]
  },
  {
   "cell_type": "code",
   "execution_count": null,
   "id": "92b4698d",
   "metadata": {},
   "outputs": [],
   "source": [
    "sns.set_theme(context='talk', style='whitegrid')\n",
    "fig = plt.figure(figsize=(8,5))\n",
    "ax = fig.add_subplot(1,1,1)\n",
    "ax.plot(roc_mf[0], roc_mf[1], label = f'MF, AUC = {-1 * np.round(scipy.integrate.trapezoid(roc_mf[1], roc_mf[0]), 3)}')\n",
    "#ax.plot(roc_df2[:, 0], roc_df2[:, 1], label = f'CNN-2-Idealized, AUC = {-1 * np.round(scipy.integrate.trapezoid(roc_df2[:, 1], roc_df2[:, 0]), 3)}')\n",
    "#ax.plot(roc_df3[:, 0], roc_df3[:, 1], label = f'CNN-2, AUC = {-1 * np.round(scipy.integrate.trapezoid(roc_df3[:, 1], roc_df3[:, 0]), 3)}')\n",
    "#ax.plot(roc_df3[:, 0, 0], roc_df3[:, 0, 1], label = f'CNN-2-noise, AUC = {-1 * np.round(scipy.integrate.trapezoid(roc_df2[:, 1, 1], roc_df2[:, 1, 0]), 2)}')\n",
    "ax.plot(roc_df3[:, 1, 0], roc_df3[:, 1, 1], label = f'CNN-2, AUC = {-1 * np.round(scipy.integrate.trapezoid(roc_df3[:, 1, 1], roc_df3[:, 1, 0]), 2)}')\n",
    "\n",
    "#ax.plot(roc_df1[:, 0], roc_df1[:, 1], label = f'CNN-1, AUC = {-1 * np.round(scipy.integrate.trapezoid(roc_df1[:, 1], roc_df1[:, 0]), 3)}')\n",
    "#ax.plot(roc_fft[:, 0], roc_fft[:, 1], label = f'FFT, AUC = {-1 * np.round(scipy.integrate.trapezoid(roc_fft[:, 1], roc_fft[:, 0]), 3)}')\n",
    "\n",
    "#ax.plot(np.linspace(0,1,19), np.linspace(0,1,19),'--', color='grey')\n",
    "\n",
    "plt.legend(loc=4)\n",
    "\n",
    "ax.set_xlim(0, 0.01)\n",
    "plt.title('MF Trigger vs CNN, Mean Track Length = 4')"
   ]
  },
  {
   "cell_type": "code",
   "execution_count": null,
   "id": "afe9d64c",
   "metadata": {},
   "outputs": [],
   "source": [
    "scipy.integrate.trapezoid(roc_fft[:, 1], roc_fft[:, 0])"
   ]
  },
  {
   "cell_type": "code",
   "execution_count": null,
   "id": "ca5f4973",
   "metadata": {},
   "outputs": [],
   "source": [
    "scipy.integrate.trapezoid(roc_df[:, 1], roc_df[:, 0])"
   ]
  },
  {
   "cell_type": "code",
   "execution_count": null,
   "id": "25cfc16e",
   "metadata": {},
   "outputs": [],
   "source": [
    "roc_df2.shape"
   ]
  },
  {
   "cell_type": "code",
   "execution_count": null,
   "id": "5c0e5167",
   "metadata": {},
   "outputs": [],
   "source": [
    "roc_df1.shape"
   ]
  },
  {
   "cell_type": "code",
   "execution_count": null,
   "id": "4564a4e9",
   "metadata": {},
   "outputs": [],
   "source": [
    "roc_df2[:, 1, :]"
   ]
  },
  {
   "cell_type": "code",
   "execution_count": null,
   "id": "dde00eee",
   "metadata": {},
   "outputs": [],
   "source": []
  }
 ],
 "metadata": {
  "kernelspec": {
   "display_name": "Python 3",
   "language": "python",
   "name": "python3"
  },
  "language_info": {
   "codemirror_mode": {
    "name": "ipython",
    "version": 3
   },
   "file_extension": ".py",
   "mimetype": "text/x-python",
   "name": "python",
   "nbconvert_exporter": "python",
   "pygments_lexer": "ipython3",
   "version": "3.8.10"
  }
 },
 "nbformat": 4,
 "nbformat_minor": 5
}
