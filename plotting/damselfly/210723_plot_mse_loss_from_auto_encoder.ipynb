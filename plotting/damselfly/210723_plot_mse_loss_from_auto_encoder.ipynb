{
 "cells": [
  {
   "cell_type": "code",
   "execution_count": null,
   "id": "98e8c740",
   "metadata": {},
   "outputs": [],
   "source": [
    "import numpy as np\n",
    "import matplotlib.pyplot as plt\n",
    "import seaborn as sns\n",
    "import pandas as pd\n",
    "import torch\n",
    "import h5py\n",
    "import os\n",
    "import sys\n",
    "import scipy\n",
    "import damselfly as df\n",
    "\n",
    "PATH = '/storage/home/adz6/group/project'\n",
    "RESULTPATH = os.path.join(PATH, 'results/damselfly')\n",
    "PLOTPATH = os.path.join(PATH, 'plots/damselfly')\n",
    "DATAPATH = os.path.join(PATH, 'damselfly/data/datasets')\n",
    "\n",
    "\"\"\"\n",
    "Date: 6/25/2021\n",
    "Description: plot mse loss from auto encoder\n",
    "\"\"\""
   ]
  },
  {
   "cell_type": "code",
   "execution_count": null,
   "id": "7f9095e1",
   "metadata": {},
   "outputs": [],
   "source": [
    "os.listdir(RESULTPATH)"
   ]
  },
  {
   "cell_type": "code",
   "execution_count": null,
   "id": "57d5e250",
   "metadata": {},
   "outputs": [],
   "source": [
    "data = {}\n",
    "for item in np.load(os.path.join(RESULTPATH, '210723_evaluate_autoencoder_loss_test_data_with_signal.npz')).keys():\n",
    "    data[item] = np.load(os.path.join(RESULTPATH, '210723_evaluate_autoencoder_loss_test_data_with_signal.npz'))[item]"
   ]
  },
  {
   "cell_type": "code",
   "execution_count": null,
   "id": "583072b1",
   "metadata": {},
   "outputs": [],
   "source": [
    "loss = data['loss']\n",
    "labels = data['labels']"
   ]
  },
  {
   "cell_type": "code",
   "execution_count": null,
   "id": "c31039dc",
   "metadata": {},
   "outputs": [],
   "source": [
    "loss_mean = np.mean(loss, axis=(1, 2))"
   ]
  },
  {
   "cell_type": "code",
   "execution_count": null,
   "id": "a4fabf37",
   "metadata": {},
   "outputs": [],
   "source": [
    "signal_loss_means = loss_mean[np.argwhere(labels == 1).squeeze()]\n",
    "noise_loss_means = loss_mean[np.argwhere(labels == 0).squeeze()]"
   ]
  },
  {
   "cell_type": "code",
   "execution_count": null,
   "id": "05d6f8c2",
   "metadata": {},
   "outputs": [],
   "source": [
    "plt.hist(signal_loss_means, histtype='step')\n",
    "plt.hist(noise_loss_means, histtype='step')"
   ]
  },
  {
   "cell_type": "code",
   "execution_count": null,
   "id": "3d53de9d",
   "metadata": {},
   "outputs": [],
   "source": []
  }
 ],
 "metadata": {
  "kernelspec": {
   "display_name": "Python 3",
   "language": "python",
   "name": "python3"
  },
  "language_info": {
   "codemirror_mode": {
    "name": "ipython",
    "version": 3
   },
   "file_extension": ".py",
   "mimetype": "text/x-python",
   "name": "python",
   "nbconvert_exporter": "python",
   "pygments_lexer": "ipython3",
   "version": "3.8.10"
  }
 },
 "nbformat": 4,
 "nbformat_minor": 5
}
