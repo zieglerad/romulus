{
 "cells": [
  {
   "cell_type": "code",
   "execution_count": null,
   "id": "98e8c740",
   "metadata": {},
   "outputs": [],
   "source": [
    "import numpy as np\n",
    "import matplotlib.pyplot as plt\n",
    "import seaborn as sns\n",
    "import pandas as pd\n",
    "import torch\n",
    "import h5py\n",
    "import os\n",
    "import sys\n",
    "import scipy\n",
    "import damselfly as df\n",
    "\n",
    "PATH = '/storage/home/adz6/group/project'\n",
    "RESULTPATH = os.path.join(PATH, 'results/damselfly')\n",
    "PLOTPATH = os.path.join(PATH, 'plots/damselfly')\n",
    "DATAPATH = os.path.join(PATH, 'damselfly/data/datasets')\n",
    "\n",
    "\"\"\"\n",
    "Date: 7/23/2021\n",
    "Description: plot distribution of mse loss from autoencoder\n",
    "\"\"\""
   ]
  },
  {
   "cell_type": "code",
   "execution_count": null,
   "id": "7f9095e1",
   "metadata": {},
   "outputs": [],
   "source": [
    "os.listdir(RESULTPATH)"
   ]
  },
  {
   "cell_type": "code",
   "execution_count": null,
   "id": "3b86ea95",
   "metadata": {},
   "outputs": [],
   "source": [
    "resultfile = '210731_matched_filter_scores_variable_track_length_10K.npz'"
   ]
  },
  {
   "cell_type": "code",
   "execution_count": null,
   "id": "e572eeed",
   "metadata": {},
   "outputs": [],
   "source": [
    "numpyfile = np.load(os.path.join(RESULTPATH, resultfile))"
   ]
  },
  {
   "cell_type": "code",
   "execution_count": null,
   "id": "b43c3b0a",
   "metadata": {},
   "outputs": [],
   "source": [
    "noise_scores = numpyfile['noise'][:, 0, :, :]\n",
    "signal_scores = numpyfile['signal'][:, 0, :, :]"
   ]
  },
  {
   "cell_type": "code",
   "execution_count": null,
   "id": "c0b50e28",
   "metadata": {},
   "outputs": [],
   "source": [
    "print(noise_scores.shape)"
   ]
  },
  {
   "cell_type": "code",
   "execution_count": null,
   "id": "d972c1d1",
   "metadata": {},
   "outputs": [],
   "source": [
    "plt.imshow(noise_scores[0], interpolation='none', aspect='auto')"
   ]
  },
  {
   "cell_type": "code",
   "execution_count": null,
   "id": "073d62ad",
   "metadata": {},
   "outputs": [],
   "source": [
    "plt.imshow(signal_scores[0], interpolation='none', aspect='auto')"
   ]
  },
  {
   "cell_type": "code",
   "execution_count": null,
   "id": "ddafb0ea",
   "metadata": {},
   "outputs": [],
   "source": [
    "sns.set_theme(style='whitegrid', context='talk')\n",
    "#plt.figure(figsize=(8, 5))\n",
    "\n",
    "n = 0\n",
    "\n",
    "fig = plt.figure(figsize=(8,5))\n",
    "\n",
    "ax = fig.add_subplot(1,1,1)\n",
    "\n",
    "for n in [0, 3, 31]:\n",
    "    hist = ax.hist(np.diag(signal_scores[n]).flatten(), 64, histtype='step', label=f'length = {test_track_lengths[n]}')\n",
    "    \n",
    "hist = ax.hist(np.diag(noise_scores[0]).flatten(), 64, histtype='step', label='noise')\n",
    "#hist = ax.hist(np.diag(noise_scores[27]).flatten(), 64, histtype='step')\n",
    "\n",
    "#plt.hist(signal_scores.flatten(), 64, histtype='step')\n",
    "#plt.hist(noise_scores.flatten(), 64, histtype='step')\n",
    "plt.legend(loc=1)"
   ]
  },
  {
   "cell_type": "code",
   "execution_count": null,
   "id": "5d0181e2",
   "metadata": {},
   "outputs": [],
   "source": [
    "noise_flat = noise_scores.flatten()\n",
    "signal_flat = signal_scores.flatten()"
   ]
  },
  {
   "cell_type": "code",
   "execution_count": null,
   "id": "792c7638",
   "metadata": {},
   "outputs": [],
   "source": [
    "n_threshold = 101\n",
    "\n",
    "ROC_curves = np.zeros((noise_scores.shape[0], 2, 101))\n",
    "\n",
    "threshold = np.linspace(0, 25, n_threshold)\n",
    "FAR_array, TPR_array = np.zeros(threshold.size), np.zeros(threshold.size)\n",
    "\n",
    "\n",
    "for n in range(noise_scores.shape[0]):\n",
    "    for i, t in enumerate(threshold):\n",
    "        FA = np.argwhere(np.diag(noise_scores[n]).flatten() >= t).squeeze().size\n",
    "        TP = np.argwhere(np.diag(signal_scores[n]).flatten() >= t).squeeze().size\n",
    "\n",
    "        \n",
    "        \n",
    "        FAR = FA / np.diag(noise_scores[n]).size\n",
    "        TPR = TP / np.diag(signal_scores[n]).size\n",
    "\n",
    "        ROC_curves[n, 0, i] = FAR\n",
    "        ROC_curves[n, 1, i] = TPR\n",
    "    \n",
    "\n",
    "    "
   ]
  },
  {
   "cell_type": "code",
   "execution_count": null,
   "id": "9535ba48",
   "metadata": {},
   "outputs": [],
   "source": [
    "sns.set_theme(style='whitegrid', context='talk')\n",
    "plt.figure(figsize=(8, 5))\n",
    "plt.plot(ROC_curves[0, 0, :], ROC_curves[0, 1, :], label = 'length = 512')\n",
    "plt.plot(ROC_curves[3, 0, :], ROC_curves[3, 1, :], label = 'length = 2048')\n",
    "plt.plot(ROC_curves[15, 0, :], ROC_curves[15, 1, :], label = 'length = 8192')\n",
    "#plt.plot(ROC_curves[23, 0, :], ROC_curves[23, 1, :], label = 'length = 512')\n",
    "plt.plot(ROC_curves[31, 0, :], ROC_curves[31, 1, :], label = 'length = 16384')\n",
    "\n",
    "print(test_track_lengths[[0, 3, 15, 23, 31]])\n",
    "\n",
    "plt.legend(loc=4)"
   ]
  },
  {
   "cell_type": "code",
   "execution_count": null,
   "id": "eeaba238",
   "metadata": {},
   "outputs": [],
   "source": [
    "plt.plot(np.mean(ROC_curves[:, 0, :], axis=0), np.mean(ROC_curves[:, 1, :], axis=0))"
   ]
  },
  {
   "cell_type": "code",
   "execution_count": null,
   "id": "c783e67d",
   "metadata": {},
   "outputs": [],
   "source": [
    "import scipy.integrate as integrate"
   ]
  },
  {
   "cell_type": "code",
   "execution_count": null,
   "id": "71eaf422",
   "metadata": {},
   "outputs": [],
   "source": [
    "-1 * integrate.trapezoid(np.mean(ROC_curves[:, 1, :], axis=0), np.mean(ROC_curves[:, 0, :], axis=0))"
   ]
  },
  {
   "cell_type": "code",
   "execution_count": null,
   "id": "500280b0",
   "metadata": {},
   "outputs": [],
   "source": [
    "\n",
    "sns.set_theme(style='whitegrid', context='talk')\n",
    "#plt.figure()\n",
    "\n",
    "rng = np.random.default_rng()\n",
    "y = rng.exponential(3, 100000)\n",
    "fig = plt.figure(figsize=(13, 8))\n",
    "\n",
    "ax = fig.add_subplot(1,1,1)\n",
    "\n",
    "hist = ax.hist(y, 101)\n",
    "\n",
    "ax.set_yscale('log')"
   ]
  },
  {
   "cell_type": "code",
   "execution_count": null,
   "id": "70257091",
   "metadata": {},
   "outputs": [],
   "source": [
    "print(len(np.argwhere(y<.5).squeeze()), len(np.argwhere(y>=.5).squeeze()))"
   ]
  },
  {
   "cell_type": "code",
   "execution_count": null,
   "id": "a26ba9fc",
   "metadata": {},
   "outputs": [],
   "source": [
    "hist"
   ]
  },
  {
   "cell_type": "code",
   "execution_count": null,
   "id": "de07d739",
   "metadata": {},
   "outputs": [],
   "source": [
    "prob = hist[0] / 100000\n",
    "track_len = hist[1][0:101]"
   ]
  },
  {
   "cell_type": "code",
   "execution_count": null,
   "id": "5159e9ff",
   "metadata": {},
   "outputs": [],
   "source": [
    "plt.plot(track_len, prob)\n",
    "\n",
    "plt.yscale('log')"
   ]
  },
  {
   "cell_type": "code",
   "execution_count": null,
   "id": "eabd87b0",
   "metadata": {},
   "outputs": [],
   "source": [
    "test_track_lengths = numpyfile['track_lengths']"
   ]
  },
  {
   "cell_type": "code",
   "execution_count": null,
   "id": "5bc33576",
   "metadata": {},
   "outputs": [],
   "source": [
    "test_track_length_prob = np.zeros(test_track_lengths.size)\n",
    "\n",
    "for i, length in enumerate(test_track_lengths):\n",
    "    bin_id = np.argmin(abs(track_len * 8192 - length))\n",
    "    test_track_length_prob[i] = prob[bin_id]\n"
   ]
  },
  {
   "cell_type": "code",
   "execution_count": null,
   "id": "e74ef689",
   "metadata": {},
   "outputs": [],
   "source": [
    "relative_length_prob = test_track_length_prob / test_track_length_prob.sum()"
   ]
  },
  {
   "cell_type": "code",
   "execution_count": null,
   "id": "040f79d2",
   "metadata": {},
   "outputs": [],
   "source": [
    "weighted_mean_ROC = np.zeros((ROC_curves.shape[1], ROC_curves.shape[2]))\n",
    "\n",
    "for icurve in range(ROC_curves.shape[0]):\n",
    "    \n",
    "    weighted_mean_ROC += relative_length_prob[icurve] * ROC_curves[icurve, :, :]\n",
    "\n",
    "    \n",
    "    \n"
   ]
  },
  {
   "cell_type": "code",
   "execution_count": null,
   "id": "b73f9b56",
   "metadata": {},
   "outputs": [],
   "source": [
    "plt.plot(weighted_mean_ROC[0, :], weighted_mean_ROC[1, :])"
   ]
  },
  {
   "cell_type": "code",
   "execution_count": null,
   "id": "adc736ce",
   "metadata": {},
   "outputs": [],
   "source": [
    "-1 * integrate.trapezoid(weighted_mean_ROC[1, :], weighted_mean_ROC[0, :])"
   ]
  },
  {
   "cell_type": "code",
   "execution_count": null,
   "id": "556611f7",
   "metadata": {},
   "outputs": [],
   "source": [
    "np.save(os.path.join(RESULTPATH, 'roc', '210802_mf_roc_df84_mt6.np'), weighted_mean_ROC)"
   ]
  },
  {
   "cell_type": "code",
   "execution_count": null,
   "id": "9d0a22d8",
   "metadata": {},
   "outputs": [],
   "source": []
  }
 ],
 "metadata": {
  "kernelspec": {
   "display_name": "Python 3",
   "language": "python",
   "name": "python3"
  },
  "language_info": {
   "codemirror_mode": {
    "name": "ipython",
    "version": 3
   },
   "file_extension": ".py",
   "mimetype": "text/x-python",
   "name": "python",
   "nbconvert_exporter": "python",
   "pygments_lexer": "ipython3",
   "version": "3.8.10"
  }
 },
 "nbformat": 4,
 "nbformat_minor": 5
}
