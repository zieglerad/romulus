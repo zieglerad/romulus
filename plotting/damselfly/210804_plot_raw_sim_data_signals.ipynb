{
 "cells": [
  {
   "cell_type": "code",
   "execution_count": null,
   "id": "98e8c740",
   "metadata": {},
   "outputs": [],
   "source": [
    "import numpy as np\n",
    "import matplotlib.pyplot as plt\n",
    "import seaborn as sns\n",
    "import pandas as pd\n",
    "import torch\n",
    "import h5py\n",
    "import os\n",
    "import sys\n",
    "import scipy\n",
    "import damselfly as df\n",
    "\n",
    "PATH = '/storage/home/adz6/group/project'\n",
    "RESULTPATH = os.path.join(PATH, 'results/damselfly')\n",
    "PLOTPATH = os.path.join(PATH, 'plots/damselfly')\n",
    "DATAPATH = os.path.join(PATH, 'damselfly/data/datasets')\n",
    "RAWSIMDATAPATH = os.path.join(PATH, 'sim_data/datasets')\n",
    "\n",
    "\"\"\"\n",
    "Date: 7/23/2021\n",
    "Description: plot distribution of mse loss from autoencoder\n",
    "\"\"\""
   ]
  },
  {
   "cell_type": "code",
   "execution_count": null,
   "id": "7f9095e1",
   "metadata": {},
   "outputs": [],
   "source": [
    "os.listdir(RAWSIMDATAPATH)"
   ]
  },
  {
   "cell_type": "code",
   "execution_count": null,
   "id": "b141f8ff",
   "metadata": {},
   "outputs": [],
   "source": [
    "directory = '210729_df_84'\n",
    "file = '210726_df_84_1.h5'"
   ]
  },
  {
   "cell_type": "code",
   "execution_count": null,
   "id": "ec94df9e",
   "metadata": {},
   "outputs": [],
   "source": [
    "h5file = h5py.File(os.path.join(RAWSIMDATAPATH, directory, file), 'r')"
   ]
  },
  {
   "cell_type": "code",
   "execution_count": null,
   "id": "cbdbf191",
   "metadata": {},
   "outputs": [],
   "source": [
    "print(h5file['signal']['0'].shape)"
   ]
  },
  {
   "cell_type": "code",
   "execution_count": null,
   "id": "c3ac5415",
   "metadata": {},
   "outputs": [],
   "source": [
    "signal0 = h5file['signal']['0'][:]\n",
    "signal1 = h5file['signal']['9'][:]"
   ]
  },
  {
   "cell_type": "code",
   "execution_count": null,
   "id": "50297458",
   "metadata": {},
   "outputs": [],
   "source": [
    "sns.set_theme(context='poster', style='whitegrid')\n",
    "clist = sns.color_palette('deep')\n",
    "fig = plt.figure(figsize=(8,5))\n",
    "\n",
    "ax = fig.add_subplot(1,1,1)\n",
    "t = np.arange(0, 256, 1) * 1/200e6\n",
    "ax.plot(t, signal1[:, 0:256].sum(axis=0).real, color=clist[1])\n",
    "\n",
    "ax.set_xlabel('Time (s)')\n",
    "ax.set_ylabel('Voltage (V)')\n",
    "plt.tight_layout()\n",
    "plt.savefig(os.path.join(PLOTPATH, '210804_poster_example_time_signal0.png'))"
   ]
  },
  {
   "cell_type": "code",
   "execution_count": null,
   "id": "5c9644f7",
   "metadata": {},
   "outputs": [],
   "source": [
    "sns.set_theme(context='poster', style='whitegrid')\n",
    "clist = sns.color_palette('deep')\n",
    "fig = plt.figure(figsize=(8,5))\n",
    "\n",
    "ax = fig.add_subplot(1,1,1)\n",
    "t = np.arange(0, 256, 1) * 1/200e6\n",
    "ax.plot(np.fft.fftshift(np.fft.fftfreq(8192, 1/200e6)), abs(np.fft.fftshift(np.fft.fft(signal1[:, 0:8192].sum(axis=0))/8192))**2, color=clist[1], linewidth=4)\n",
    "\n",
    "ax.set_xlabel('Frequency (Hz)')\n",
    "ax.set_ylabel(r'$|V|^2$')\n",
    "plt.tight_layout()\n",
    "plt.savefig(os.path.join(PLOTPATH, '210804_poster_example_freq_signal0_clean.png'))"
   ]
  },
  {
   "cell_type": "code",
   "execution_count": null,
   "id": "aa54baf2",
   "metadata": {},
   "outputs": [],
   "source": [
    "sns.set_theme(context='poster', style='whitegrid')\n",
    "\n",
    "fig = plt.figure(figsize=(9,6))\n",
    "\n",
    "rng = np.random.default_rng()\n",
    "noise = rng.multivariate_normal([0, 0], np.eye(2) * 1.38e-23 * 5 * 50 * 200e6 / 8192, 8192)\n",
    "noise = noise[:, 0] + 1j * noise[:, 1]\n",
    "#noise /= 8192\n",
    "print(noise.shape)\n",
    "\n",
    "ax = fig.add_subplot(1,1,1)\n",
    "t = np.arange(0, 256, 1) * 1/200e6\n",
    "\n",
    "ax.plot(np.fft.fftshift(np.fft.fftfreq(8192, 1/200e6)), abs(noise)**2, linewidth=4, label='Noise')\n",
    "ax.plot(np.fft.fftshift(np.fft.fftfreq(8192, 1/200e6)),\n",
    "        abs(np.fft.fftshift(np.fft.fft(signal1[:, 0:8192].sum(axis=0))/8192))**2, linewidth=4, label='Signal')\n",
    "\n",
    "ax.set_xlabel('Frequency (Hz)')\n",
    "ax.set_ylabel(r'$|V|^2$')\n",
    "\n",
    "plt.legend(loc=2)\n",
    "plt.tight_layout()\n",
    "\n",
    "plt.savefig(os.path.join(PLOTPATH, '210804_poster_example_freq_signal0.png'))"
   ]
  },
  {
   "cell_type": "code",
   "execution_count": null,
   "id": "bcc3cec3",
   "metadata": {},
   "outputs": [],
   "source": [
    "print((abs(np.fft.fftshift(np.fft.fft(signal1[0, 0:8192])/8192)**2).sum()))"
   ]
  },
  {
   "cell_type": "code",
   "execution_count": null,
   "id": "9324c91b",
   "metadata": {},
   "outputs": [],
   "source": [
    "plt.plot(signal1[0, 0:256].real)"
   ]
  },
  {
   "cell_type": "code",
   "execution_count": null,
   "id": "e99cf600",
   "metadata": {},
   "outputs": [],
   "source": [
    "plt.plot(abs(np.fft.fft(signal1[0, 0:8192]) / 8192))"
   ]
  },
  {
   "cell_type": "code",
   "execution_count": null,
   "id": "655eea78",
   "metadata": {},
   "outputs": [],
   "source": []
  }
 ],
 "metadata": {
  "kernelspec": {
   "display_name": "Python 3",
   "language": "python",
   "name": "python3"
  },
  "language_info": {
   "codemirror_mode": {
    "name": "ipython",
    "version": 3
   },
   "file_extension": ".py",
   "mimetype": "text/x-python",
   "name": "python",
   "nbconvert_exporter": "python",
   "pygments_lexer": "ipython3",
   "version": "3.8.10"
  }
 },
 "nbformat": 4,
 "nbformat_minor": 5
}
