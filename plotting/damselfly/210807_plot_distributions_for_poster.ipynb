{
 "cells": [
  {
   "cell_type": "code",
   "execution_count": null,
   "id": "98e8c740",
   "metadata": {},
   "outputs": [],
   "source": [
    "import numpy as np\n",
    "import matplotlib.pyplot as plt\n",
    "import seaborn as sns\n",
    "import pandas as pd\n",
    "import torch\n",
    "import h5py\n",
    "import os\n",
    "import sys\n",
    "import scipy\n",
    "import damselfly as df\n",
    "import pickle as pkl\n",
    "\n",
    "PATH = '/storage/home/adz6/group/project'\n",
    "RESULTPATH = os.path.join(PATH, 'results/damselfly')\n",
    "PLOTPATH = os.path.join(PATH, 'plots/damselfly')\n",
    "DATAPATH = os.path.join(PATH, 'damselfly/data/datasets')\n",
    "SIMDATAPATH = os.path.join(PATH, 'sim_data')\n",
    "\"\"\"\n",
    "Date: 7/23/2021\n",
    "Description: plot distribution of mse loss from autoencoder\n",
    "\"\"\""
   ]
  },
  {
   "cell_type": "markdown",
   "id": "43175264",
   "metadata": {},
   "source": [
    "# exponential distribution"
   ]
  },
  {
   "cell_type": "code",
   "execution_count": null,
   "id": "7f9095e1",
   "metadata": {},
   "outputs": [],
   "source": [
    "rng = np.random.default_rng()\n",
    "\n",
    "samples = rng.exponential(4, 10000) * 8192/200e6"
   ]
  },
  {
   "cell_type": "code",
   "execution_count": null,
   "id": "6e8291d7",
   "metadata": {},
   "outputs": [],
   "source": [
    "sns.set_theme(style='whitegrid', context='poster')\n",
    "fig = plt.figure(figsize=(8,5))\n",
    "\n",
    "ax = fig.add_subplot(1,1,1)\n",
    "\n",
    "hist = ax.hist(samples, 64)\n",
    "\n",
    "ax.set_yscale('log')\n",
    "ax.set_xlabel('Signal Length (s)')\n",
    "ax.set_ylabel('N')\n",
    "ax.set_title('Signal Length Distribution')\n",
    "\n",
    "plt.tight_layout()\n",
    "plt.savefig(os.path.join(PLOTPATH, '210807_expon_distribution_poster.png'))"
   ]
  },
  {
   "cell_type": "markdown",
   "id": "50fe1b1d",
   "metadata": {},
   "source": [
    "# tritium distribution"
   ]
  },
  {
   "cell_type": "code",
   "execution_count": null,
   "id": "c83638b1",
   "metadata": {},
   "outputs": [],
   "source": [
    "path2tritium = os.path.join(SIMDATAPATH, '210615_tritium_energy_spectrum.pkl')"
   ]
  },
  {
   "cell_type": "code",
   "execution_count": null,
   "id": "a302cb1d",
   "metadata": {},
   "outputs": [],
   "source": [
    "with open(path2tritium, 'rb') as infile:\n",
    "    spectrum = pkl.load(infile)"
   ]
  },
  {
   "cell_type": "code",
   "execution_count": null,
   "id": "9b663bae",
   "metadata": {},
   "outputs": [],
   "source": [
    "sns.set_theme(style='whitegrid', context='poster')\n",
    "fig = plt.figure(figsize=(8,5))\n",
    "\n",
    "ax = fig.add_subplot(1,1,1)\n",
    "\n",
    "hist = ax.hist(spectrum, 64)\n",
    "\n",
    "#ax.set_yscale('log')\n",
    "ax.set_xlabel('Electron Energy')\n",
    "ax.set_ylabel('N')\n",
    "ax.set_title('Tritium Beta-decay Spectrum')\n",
    "\n",
    "plt.tight_layout()\n",
    "plt.savefig(os.path.join(PLOTPATH, '210807_tritium_distribution_poster.png'))"
   ]
  },
  {
   "cell_type": "code",
   "execution_count": null,
   "id": "e91cfefe",
   "metadata": {},
   "outputs": [],
   "source": []
  }
 ],
 "metadata": {
  "kernelspec": {
   "display_name": "Python 3",
   "language": "python",
   "name": "python3"
  },
  "language_info": {
   "codemirror_mode": {
    "name": "ipython",
    "version": 3
   },
   "file_extension": ".py",
   "mimetype": "text/x-python",
   "name": "python",
   "nbconvert_exporter": "python",
   "pygments_lexer": "ipython3",
   "version": "3.8.10"
  }
 },
 "nbformat": 4,
 "nbformat_minor": 5
}
