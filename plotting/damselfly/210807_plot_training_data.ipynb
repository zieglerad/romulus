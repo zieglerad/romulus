{
 "cells": [
  {
   "cell_type": "code",
   "execution_count": null,
   "id": "98e8c740",
   "metadata": {},
   "outputs": [],
   "source": [
    "import numpy as np\n",
    "import matplotlib.pyplot as plt\n",
    "import seaborn as sns\n",
    "import pandas as pd\n",
    "import torch\n",
    "import h5py\n",
    "import os\n",
    "import sys\n",
    "import scipy\n",
    "import damselfly as df\n",
    "import pickle as pkl\n",
    "\n",
    "PATH = '/storage/home/adz6/group/project'\n",
    "RESULTPATH = os.path.join(PATH, 'results/damselfly')\n",
    "PLOTPATH = os.path.join(PATH, 'plots/damselfly')\n",
    "DATAPATH = os.path.join(PATH, 'damselfly/data/datasets')\n",
    "TRAINPATH = os.path.join(PATH, 'damselfly/training/checkpoints')\n",
    "\"\"\"\n",
    "Date: 7/23/2021\n",
    "Description: plot distribution of mse loss from autoencoder\n",
    "\"\"\""
   ]
  },
  {
   "cell_type": "markdown",
   "id": "43175264",
   "metadata": {},
   "source": [
    "# plot training"
   ]
  },
  {
   "cell_type": "code",
   "execution_count": null,
   "id": "e8699fc0",
   "metadata": {},
   "outputs": [],
   "source": [
    "#torch.load(os.path.join(TRAINPATH, '210808_dset_name_84_1d2sl4mt_temp10.0_model_cnn_with_circular_pad', 'info.pkl'), map_location=torch.device('cpu'))"
   ]
  },
  {
   "cell_type": "code",
   "execution_count": null,
   "id": "da908baa",
   "metadata": {},
   "outputs": [],
   "source": [
    "with open(os.path.join(TRAINPATH, '210808_dset_name_84_1d2sl4mt_temp10.0_model_cnn_with_circular_pad', 'info.pkl'), 'rb') as infile:\n",
    "    info = pkl.load(infile)"
   ]
  },
  {
   "cell_type": "code",
   "execution_count": null,
   "id": "1a41d949",
   "metadata": {},
   "outputs": [],
   "source": [
    "\n",
    "n_batch = len(info['loss'][0])\n",
    "n_epoch = len(list(info['loss'].keys()))\n",
    "epochs = np.arange(0, n_epoch, 1)\n",
    "loss_batch = np.zeros(n_epoch )\n",
    "acc_batch = np.zeros(n_epoch)\n",
    "val = np.zeros(n_epoch)\n",
    "for i,key in enumerate(info['loss']):\n",
    "    loss_batch[i] = np.array(info['loss'][key]).mean()\n",
    "    acc_batch[i] = np.array(info['acc'][key]).mean()\n",
    "    \n",
    "    val[i] = np.mean(info['val'][key])"
   ]
  },
  {
   "cell_type": "code",
   "execution_count": null,
   "id": "66c3d6af",
   "metadata": {},
   "outputs": [],
   "source": [
    "sns.set_theme(context='poster', style='ticks')\n",
    "clist = sns.color_palette('deep')\n",
    "fig = plt.figure(figsize=(8,5))\n",
    "ax = fig.add_subplot(1,1,1)\n",
    "\n",
    "loss, = ax.plot(loss_batch, color=clist[0], label='Train Loss')\n",
    "ax.set_xlabel('Training Epoch')\n",
    "ax.set_ylabel('Loss')\n",
    "ax2 = ax.twinx()\n",
    "train_acc, = ax2.plot(acc_batch, color=clist[1], label='Train Acc.')\n",
    "ax2.grid()\n",
    "\n",
    "val_acc, = ax2.plot(val, color=clist[2], label='Train Acc.')\n",
    "ax2.set_ylabel('Accuracy')\n",
    "\n",
    "plt.legend([loss, train_acc, val_acc], ['Train Loss', 'Train Acc.', 'Val. Acc.'], loc=5)\n",
    "plt.tight_layout()\n",
    "plt.savefig(os.path.join(PLOTPATH, '210809_dnn_training_loss_poster.png'))"
   ]
  },
  {
   "cell_type": "code",
   "execution_count": null,
   "id": "7f9095e1",
   "metadata": {},
   "outputs": [],
   "source": [
    "rng = np.random.default_rng()\n",
    "\n",
    "samples = rng.exponential(4, 10000) * 8192/200e6"
   ]
  },
  {
   "cell_type": "code",
   "execution_count": null,
   "id": "7f9c95a5",
   "metadata": {},
   "outputs": [],
   "source": []
  },
  {
   "cell_type": "code",
   "execution_count": null,
   "id": "6e8291d7",
   "metadata": {},
   "outputs": [],
   "source": [
    "sns.set_theme(style='whitegrid', context='poster')\n",
    "fig = plt.figure(figsize=(8,5))\n",
    "\n",
    "ax = fig.add_subplot(1,1,1)\n",
    "\n",
    "hist = ax.hist(samples, 64)\n",
    "\n",
    "ax.set_yscale('log')\n",
    "ax.set_xlabel('Signal Length (s)')\n",
    "ax.set_ylabel('N')\n",
    "ax.set_title('Signal Length Distribution')\n",
    "\n",
    "plt.tight_layout()\n",
    "plt.savefig(os.path.join(PLOTPATH, '210807_expon_distribution_poster.png'))"
   ]
  },
  {
   "cell_type": "markdown",
   "id": "50fe1b1d",
   "metadata": {},
   "source": [
    "# tritium distribution"
   ]
  },
  {
   "cell_type": "code",
   "execution_count": null,
   "id": "c83638b1",
   "metadata": {},
   "outputs": [],
   "source": [
    "path2tritium = os.path.join(SIMDATAPATH, '210615_tritium_energy_spectrum.pkl')"
   ]
  },
  {
   "cell_type": "code",
   "execution_count": null,
   "id": "a302cb1d",
   "metadata": {},
   "outputs": [],
   "source": [
    "with open(path2tritium, 'rb') as infile:\n",
    "    spectrum = pkl.load(infile)"
   ]
  },
  {
   "cell_type": "code",
   "execution_count": null,
   "id": "9b663bae",
   "metadata": {},
   "outputs": [],
   "source": [
    "sns.set_theme(style='whitegrid', context='poster')\n",
    "fig = plt.figure(figsize=(8,5))\n",
    "\n",
    "ax = fig.add_subplot(1,1,1)\n",
    "\n",
    "hist = ax.hist(spectrum, 64)\n",
    "\n",
    "#ax.set_yscale('log')\n",
    "ax.set_xlabel('Electron Energy')\n",
    "ax.set_ylabel('N')\n",
    "ax.set_title('Tritium Beta-decay Spectrum')\n",
    "\n",
    "plt.tight_layout()\n",
    "plt.savefig(os.path.join(PLOTPATH, '210807_tritium_distribution_poster.png'))"
   ]
  },
  {
   "cell_type": "code",
   "execution_count": null,
   "id": "e91cfefe",
   "metadata": {},
   "outputs": [],
   "source": []
  }
 ],
 "metadata": {
  "kernelspec": {
   "display_name": "Python 3",
   "language": "python",
   "name": "python3"
  },
  "language_info": {
   "codemirror_mode": {
    "name": "ipython",
    "version": 3
   },
   "file_extension": ".py",
   "mimetype": "text/x-python",
   "name": "python",
   "nbconvert_exporter": "python",
   "pygments_lexer": "ipython3",
   "version": "3.8.10"
  }
 },
 "nbformat": 4,
 "nbformat_minor": 5
}
