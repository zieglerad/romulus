{
 "cells": [
  {
   "cell_type": "code",
   "execution_count": null,
   "id": "98e8c740",
   "metadata": {},
   "outputs": [],
   "source": [
    "import numpy as np\n",
    "import matplotlib.pyplot as plt\n",
    "import seaborn as sns\n",
    "import pandas as pd\n",
    "import torch\n",
    "import h5py\n",
    "import os\n",
    "import sys\n",
    "import scipy\n",
    "import damselfly as df\n",
    "import pickle as pkl\n",
    "import scipy.integrate\n",
    "\n",
    "PATH = '/storage/home/adz6/group/project'\n",
    "RESULTPATH = os.path.join(PATH, 'results/damselfly')\n",
    "PLOTPATH = os.path.join(PATH, 'plots/damselfly')\n",
    "DATAPATH = os.path.join(PATH, 'damselfly/data/datasets')\n",
    "TRAINPATH = os.path.join(PATH, 'damselfly/training/checkpoints')\n",
    "\n",
    "def df_roc(test_output):\n",
    "\n",
    "    noise_output = test_output[np.argwhere(test_output[:, 0] == 0).squeeze(), :]\n",
    "    signal_output = test_output[np.argwhere(test_output[:, 0] == 1).squeeze(), :]\n",
    "    \n",
    "    TPR_array = np.zeros(1801)\n",
    "    FPR_array = np.zeros(1801)\n",
    "    for i, T in enumerate(np.linspace(0, 1, 1801)):\n",
    "\n",
    "        TP = np.argwhere(signal_output[:, 2] >= T).squeeze().size\n",
    "        FP = np.argwhere(noise_output[:, 2] >= T).squeeze().size\n",
    "\n",
    "        TPR = TP / signal_output[:, 0].size\n",
    "        FPR = FP / noise_output[:, 0].size\n",
    "\n",
    "        TPR_array[i] = TPR\n",
    "        FPR_array[i] = FPR\n",
    "        \n",
    "    return TPR_array, FPR_array\n",
    "\"\"\"\n",
    "Date: 7/23/2021\n",
    "Description: plot distribution of mse loss from autoencoder\n",
    "\"\"\""
   ]
  },
  {
   "cell_type": "markdown",
   "id": "43175264",
   "metadata": {},
   "source": [
    "# plot training"
   ]
  },
  {
   "cell_type": "code",
   "execution_count": null,
   "id": "e8699fc0",
   "metadata": {},
   "outputs": [],
   "source": [
    "date = '210812'\n",
    "\n",
    "match_array = np.arange(5, 11, 1) / 10\n",
    "roc_list = []\n",
    "for i, match in enumerate(match_array):\n",
    "    roc_list.append([])\n",
    "    for file in os.listdir(os.path.join(RESULTPATH, 'roc')):\n",
    "        if file.split('_')[0] == date and file.split('mismatch')[-1].split('.npz')[0] == str(match):\n",
    "            roc_list[i].append(np.load(os.path.join(os.path.join(RESULTPATH, 'roc', file)))['fpr'])\n",
    "            roc_list[i].append(np.load(os.path.join(os.path.join(RESULTPATH, 'roc', file)))['tpr'])\n",
    "            \n",
    "roc_list = np.array(roc_list)\n",
    "print(roc_list.shape)"
   ]
  },
  {
   "cell_type": "code",
   "execution_count": null,
   "id": "3f7cfc89",
   "metadata": {},
   "outputs": [],
   "source": [
    "date2 = '210802'\n",
    "df_test_data_output_file = '210802_roc_210729_84_1d2sl4mt.npy'\n",
    "for file in os.listdir(os.path.join(RESULTPATH, 'roc')):\n",
    "    if file == df_test_data_output_file:\n",
    "        df_test_out = np.load(os.path.join(RESULTPATH, 'roc', df_test_data_output_file))"
   ]
  },
  {
   "cell_type": "code",
   "execution_count": null,
   "id": "1204c0d7",
   "metadata": {},
   "outputs": [],
   "source": [
    "df_tpr, df_fpr = df_roc(df_test_out)"
   ]
  },
  {
   "cell_type": "code",
   "execution_count": null,
   "id": "fb7422e6",
   "metadata": {},
   "outputs": [],
   "source": [
    "sns.set_theme(context='talk', style='whitegrid')\n",
    "clist = sns.color_palette('mako', n_colors=match_array.size)\n",
    "fig = plt.figure(figsize=(,6))\n",
    "ax = fig.add_subplot(1,1,1)\n",
    "\n",
    "print(-1 * scipy.integrate.trapezoid(df_tpr, df_fpr))\n",
    "for i in range(roc_list.shape[0]):\n",
    "    ax.plot(roc_list[i, 0, :], roc_list[i, 1, :], label=f'{match_array[i]}', color=clist[i])\n",
    "    print(-1 * scipy.integrate.trapezoid(roc_list[i, 1, :], roc_list[i, 0, :]))\n",
    "    \n",
    "ax.plot(df_fpr, df_tpr, color='tab:red', label='DF')\n",
    "ax.legend(loc=(1.01,0), title='Mean Match')\n",
    "#ax.set_xlim(-0.0001, 0.01)\n",
    "\n",
    "ax.set_xlabel('FPR')\n",
    "ax.set_ylabel('TPR')\n",
    "ax.set_title('Compare DF ROC Curve to MF with Mismatch')\n",
    "\n",
    "plt.tight_layout()\n",
    "#plt.savefig(os.path.join(PLOTPATH, '210812_compare_df_roc_to_mf_with_mismatch.png'))"
   ]
  },
  {
   "cell_type": "code",
   "execution_count": null,
   "id": "b816854a",
   "metadata": {},
   "outputs": [],
   "source": [
    "sns.set_theme(context='poster', style='whitegrid')\n",
    "clist = sns.color_palette('deep')\n",
    "\n",
    "fig = plt.figure(figsize=(9,6))\n",
    "ax = fig.add_subplot(1,1,1)\n",
    "\n",
    "print(-1 * scipy.integrate.trapezoid(df_tpr, df_fpr))\n",
    "\n",
    "#for i in range(roc_list.shape[0]):\n",
    "ax.plot(df_fpr, df_tpr, color=clist[1], label=f'CNN, AUC={np.round(-1 * scipy.integrate.trapezoid(df_tpr, df_fpr), 2)}')\n",
    "ax.plot(roc_list[-1, 0, :], roc_list[-1, 1, :], label=f'MF, AUC={np.round(-1 * scipy.integrate.trapezoid(roc_list[-1, 1, :], roc_list[-1, 0, :]), 2)}', color=clist[0])    \n",
    "ax.legend(loc=4)\n",
    "#ax.set_xlim(-0.0001, 0.01)\n",
    "\n",
    "ax.set_xlabel('False Positive Rate')\n",
    "ax.set_ylabel('True Positive Rate')\n",
    "ax.set_title('ROC Curve CNN vs MF')\n",
    "\n",
    "plt.tight_layout()\n",
    "\n",
    "dummy = np.linspace(0, 1, 20)\n",
    "ax.plot(dummy, dummy, '--', color='grey')\n",
    "plt.savefig(os.path.join(PLOTPATH, '210825_PANIC_roc_curve_updated.png'))"
   ]
  },
  {
   "cell_type": "code",
   "execution_count": null,
   "id": "804635b8",
   "metadata": {},
   "outputs": [],
   "source": []
  }
 ],
 "metadata": {
  "kernelspec": {
   "display_name": "Python 3",
   "language": "python",
   "name": "python3"
  },
  "language_info": {
   "codemirror_mode": {
    "name": "ipython",
    "version": 3
   },
   "file_extension": ".py",
   "mimetype": "text/x-python",
   "name": "python",
   "nbconvert_exporter": "python",
   "pygments_lexer": "ipython3",
   "version": "3.8.10"
  }
 },
 "nbformat": 4,
 "nbformat_minor": 5
}
