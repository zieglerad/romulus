{
 "cells": [
  {
   "cell_type": "code",
   "execution_count": null,
   "id": "98e8c740",
   "metadata": {},
   "outputs": [],
   "source": [
    "import numpy as np\n",
    "import matplotlib.pyplot as plt\n",
    "import seaborn as sns\n",
    "import pandas as pd\n",
    "import torch\n",
    "import h5py\n",
    "import os\n",
    "import sys\n",
    "import scipy\n",
    "import damselfly as df\n",
    "import pickle as pkl\n",
    "import scipy.integrate\n",
    "\n",
    "PATH = '/storage/home/adz6/group/project'\n",
    "RESULTPATH = os.path.join(PATH, 'results/damselfly')\n",
    "PLOTPATH = os.path.join(PATH, 'plots/damselfly')\n",
    "DATAPATH = os.path.join(PATH, 'damselfly/data/datasets')\n",
    "TRAINPATH = os.path.join(PATH, 'damselfly/training/checkpoints')\n",
    "SIMDATAPATH = os.path.join(PATH, 'damselfly/data/sim_data')\n",
    "\n",
    "\n",
    "\"\"\"\n",
    "Date: 7/23/2021\n",
    "Description: plot distribution of mse loss from autoencoder\n",
    "\"\"\""
   ]
  },
  {
   "cell_type": "code",
   "execution_count": null,
   "id": "3a003daf",
   "metadata": {},
   "outputs": [],
   "source": [
    "os.listdir(RESULTPATH)"
   ]
  },
  {
   "cell_type": "code",
   "execution_count": null,
   "id": "3885ef37",
   "metadata": {},
   "outputs": [],
   "source": [
    "energy_regress = np.load(os.path.join(RESULTPATH, '211008_energy_regression_210920_84_1d2sl4mt_partial_spectra_regress.npy'))"
   ]
  },
  {
   "cell_type": "code",
   "execution_count": null,
   "id": "d90c38e8",
   "metadata": {},
   "outputs": [],
   "source": [
    "print(energy_regress.shape)"
   ]
  },
  {
   "cell_type": "code",
   "execution_count": null,
   "id": "47d3e359",
   "metadata": {},
   "outputs": [],
   "source": [
    "plt.hist(energy_regress[400, 0])"
   ]
  },
  {
   "cell_type": "code",
   "execution_count": null,
   "id": "af14fea4",
   "metadata": {},
   "outputs": [],
   "source": [
    "k = 23\n",
    "\n",
    "plt.hist((100 * energy_regress[k, 1:]))\n",
    "print(100 * energy_regress[k, 0], np.mean(100 * energy_regress[k, 1:]))"
   ]
  },
  {
   "cell_type": "code",
   "execution_count": null,
   "id": "4d4bdd88",
   "metadata": {},
   "outputs": [],
   "source": [
    "hist1 = plt.hist(100 * energy_regress[:, 0], 32, histtype='step')\n",
    "hist2 = plt.hist(100 * np.mean(energy_regress[:, 1:], axis=1), 32, histtype='step')\n"
   ]
  },
  {
   "cell_type": "code",
   "execution_count": null,
   "id": "0c63d7f8",
   "metadata": {},
   "outputs": [],
   "source": [
    "h1 = hist1[0] / hist1[0].sum()\n",
    "x1 = hist1[1][1:]\n",
    "h2 = hist2[0] / hist2[0].sum()\n",
    "x2 = hist2[1][1:]\n",
    "plt.plot(x1, h1)\n",
    "plt.plot(x2, h2)"
   ]
  },
  {
   "cell_type": "code",
   "execution_count": null,
   "id": "e4092513",
   "metadata": {},
   "outputs": [],
   "source": [
    "print(np.mean((100 * energy_regress[:, 0]) - (100 * energy_regress[:, 1])), np.std((100 * energy_regress[:, 0]) - (100 * energy_regress[:, 1])))"
   ]
  },
  {
   "cell_type": "code",
   "execution_count": null,
   "id": "d35b3de3",
   "metadata": {},
   "outputs": [],
   "source": [
    "sns.set_theme(context='talk', style='whitegrid')\n",
    "clist = sns.color_palette('deep')\n",
    "freqs = np.fft.fftshift(np.fft.fftfreq(8192, 1/200e6))\n",
    "for k in range(1):\n",
    "    random_n = rng.integers(0, n, 32)\n",
    "    fig = plt.figure(figsize=(8,5))\n",
    "    ax = fig.add_subplot(1,1,1)\n",
    "    for m in random_n:\n",
    "        ax.plot(freqs, abs(h5data['signal'][f'{m}'][0, :])**2, color=clist[0])\n",
    "plt.tight_layout()\n",
    "ax.set_title('Power Spectra from 32 Signals')\n",
    "ax.set_ylabel(r'$|V^2|$')\n",
    "ax.set_xlabel('Frequency (Hz)')\n",
    "\n",
    "plt.savefig(os.path.join(PLOTPATH, '210910_power_spectra_from_32_rand_signals'))\n",
    "#plt.xlim(0,200)"
   ]
  },
  {
   "cell_type": "code",
   "execution_count": null,
   "id": "7563b72e",
   "metadata": {},
   "outputs": [],
   "source": [
    "sns.set_theme(context='talk', style='whitegrid')\n",
    "clist = sns.color_palette('deep')\n",
    "freqs = np.fft.fftshift(np.fft.fftfreq(8192, 1/200e6))\n",
    "\n",
    "fig = plt.figure(figsize=(8,5))\n",
    "ax = fig.add_subplot(1,1,1)\n",
    "\n",
    "x = np.zeros(8192)\n",
    "for i in range(n):\n",
    "    x += abs(h5data['signal'][f'{i}'][0, :])\n",
    "    \n",
    "    \n",
    "sorted_inds = np.flip(np.argsort(x))\n",
    "    \n",
    "ax.plot(freqs, (x / x.sum()))\n",
    "ax.plot(freqs[sorted_inds[0:4096]], (x[sorted_inds[0:4096]]/x.sum()), '.', markersize=5)\n",
    "\n",
    "ax.set_xlabel('Frequency (Hz)')\n",
    "ax.set_ylabel('Probability Density')\n",
    "ax.set_title('Last 100 eV Sample PDF')\n",
    "\n",
    "plt.tight_layout()\n",
    "plt.savefig(os.path.join(PLOTPATH, '210910_last_100eV_sample_pdf_downsample'))\n",
    "#ax.set_xlim(.4e8, .6e8)\n",
    "#print(np.argwhere(x > 0.4e-6).shape)"
   ]
  },
  {
   "cell_type": "code",
   "execution_count": null,
   "id": "58ccb03b",
   "metadata": {},
   "outputs": [],
   "source": [
    "h5data['signal'][f'{i}'][].shape"
   ]
  },
  {
   "cell_type": "code",
   "execution_count": null,
   "id": "0d16212c",
   "metadata": {},
   "outputs": [],
   "source": []
  }
 ],
 "metadata": {
  "kernelspec": {
   "display_name": "Python 3",
   "language": "python",
   "name": "python3"
  },
  "language_info": {
   "codemirror_mode": {
    "name": "ipython",
    "version": 3
   },
   "file_extension": ".py",
   "mimetype": "text/x-python",
   "name": "python",
   "nbconvert_exporter": "python",
   "pygments_lexer": "ipython3",
   "version": "3.8.10"
  }
 },
 "nbformat": 4,
 "nbformat_minor": 5
}
