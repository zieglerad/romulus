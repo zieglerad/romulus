{
 "cells": [
  {
   "cell_type": "code",
   "execution_count": null,
   "id": "7f756dbb",
   "metadata": {},
   "outputs": [],
   "source": [
    "import numpy as np\n",
    "import os\n",
    "import csv\n",
    "import seaborn as sns\n",
    "import matplotlib.pyplot as plt\n",
    "import pandas as pd\n",
    "\n",
    "PATH = '/storage/home/adz6/group/project'\n",
    "DATAPATH = os.path.join(PATH, 'hfss_data')\n",
    "PLOTPATH = os.path.join(PATH, 'plots/hfss')\n",
    "\n",
    "def ReadEigFile(eig_file):\n",
    "    \n",
    "    mode_list = []\n",
    "\n",
    "    with open(eig_file, 'r') as infile:\n",
    "        reader = csv.reader(infile)\n",
    "        for i, item in enumerate(reader):\n",
    "            if i > 6:\n",
    "                _list = []\n",
    "                for j, item2 in enumerate(item[0].split(' ')):\n",
    "                    if item2 != '' and item2 != '+' and item2 != 'j':\n",
    "                        _list.append(float(item2))\n",
    "                #_array = np.zeros(3)\n",
    "                del _list[2]\n",
    "                mode_list.append(_list)\n",
    "\n",
    "    mode_array = np.array(mode_list)\n",
    "    \n",
    "    return mode_array\n",
    "\n",
    "def LoadEigData(path):\n",
    "    _list = []\n",
    "    \n",
    "    for sim in os.listdir(path):\n",
    "        #for file in os.listdir(os.path.join(path, sim)):\n",
    "\n",
    "            _array = ReadEigFile(os.path.join(path, sim))\n",
    "\n",
    "            for line in range(_array.shape[0]):\n",
    "                _entry = {}\n",
    "                _entry['f'], _entry['Q'], _entry['sim'] = _array[line, 1], _array[line, 2], sim\n",
    "\n",
    "                _list.append(_entry)\n",
    "\n",
    "    return pd.DataFrame(_list)\n",
    "    \n"
   ]
  },
  {
   "cell_type": "code",
   "execution_count": null,
   "id": "382532dd",
   "metadata": {},
   "outputs": [],
   "source": [
    "os.listdir(os.path.join(DATAPATH, 'eigenmodes'))"
   ]
  },
  {
   "cell_type": "code",
   "execution_count": null,
   "id": "b2839ac4",
   "metadata": {},
   "outputs": [],
   "source": [
    "path = os.path.join(DATAPATH, 'eigenmodes', '211102_ccd_25ghz_v1_coax_read')\n",
    "\n",
    "eig_data = LoadEigData(path)"
   ]
  },
  {
   "cell_type": "code",
   "execution_count": null,
   "id": "bb1976be",
   "metadata": {},
   "outputs": [],
   "source": [
    "eig_data"
   ]
  },
  {
   "cell_type": "markdown",
   "id": "b7f11025",
   "metadata": {},
   "source": [
    "# make plots"
   ]
  },
  {
   "cell_type": "code",
   "execution_count": null,
   "id": "065252b4",
   "metadata": {},
   "outputs": [],
   "source": [
    "sim = 'coax_load.eig'\n",
    "\n",
    "select_eig_data = eig_data[eig_data['sim'] == sim]\n",
    "\n",
    "sns.set_theme(context='talk', style='whitegrid')\n",
    "fig = plt.figure(figsize = (13,8))\n",
    "ax = fig.add_subplot(1,1,1)\n",
    "\n",
    "frequencies = select_eig_data['f']\n",
    "qs = select_eig_data['Q']\n",
    "\n",
    "ax.plot(frequencies, qs, '.', label='Coax Load', markersize=16)\n",
    "\n",
    "sim = 'short_circuit_coax.eig'\n",
    "\n",
    "select_eig_data = eig_data[eig_data['sim'] == sim]\n",
    "frequencies = select_eig_data['f']\n",
    "qs = select_eig_data['Q']\n",
    "ax.plot(frequencies, qs, '.', label='Short Circuit', markersize=16)\n",
    "\n",
    "\n",
    "ax.set_yscale('log')\n",
    "ax.set_xlabel('Frequency (GHz)')\n",
    "ax.set_ylabel('Log(Q)')\n",
    "ax.legend(loc=0)\n",
    "ax.set_title('CCD 25 GHz Coax Readout Modes')\n",
    "\n",
    "plt.tight_layout()\n",
    "plt.savefig(os.path.join(PLOTPATH, '211102_ccd_25ghz_coax_readout'))"
   ]
  },
  {
   "cell_type": "code",
   "execution_count": null,
   "id": "ecfac798",
   "metadata": {},
   "outputs": [],
   "source": [
    "sns.set_theme(context='talk', style='whitegrid')\n",
    "\n",
    "clist  = sns.color_palette('deep')\n",
    "\n",
    "fig = plt.figure(figsize = (8,5))\n",
    "ax = fig.add_subplot(1,1,1)\n",
    "    \n",
    "#ax = fig.add_subplot(1,1,1)\n",
    "titles = []\n",
    "name = f'210914_skinny_cavity_readout_Q_mode_filter'\n",
    "for i, sim in enumerate(eig_data['sim'].unique()):\n",
    "    if sim == ('skinny_readout_mode_filter.eig'):\n",
    "        print(name)\n",
    "\n",
    "        ax.plot(eig_data[eig_data['sim'] == sim]['f'], eig_data[eig_data['sim'] == sim]['Q'], '.', label='Loaded-Q', color=clist[0], )\n",
    "\n",
    "    if sim == ('ideal_cavity_mode_filter.eig'):\n",
    "        \n",
    "        ax.plot(eig_data[eig_data['sim'] == sim]['f'], eig_data[eig_data['sim'] == sim]['Q'], '.', label='Unloaded-Q', color=clist[1])\n",
    "        \n",
    "    ax.set_title('Mode Filtered Cavity, Skinny Readout')\n",
    "    ax.set_xlabel('Frequency (GHz)')\n",
    "    ax.set_ylabel('Log(Q-Factor)')\n",
    "    ax.set_yscale('log')\n",
    "    ax.set_ylim(10, 1000000)\n",
    "    #ax.set_xlim(0.99,1.035)\n",
    "    ax.set_xticks(np.arange(0.995, 1.0135, 0.003))\n",
    "    ax.legend(loc=4)\n",
    "\n",
    "    \n",
    "plt.savefig(os.path.join(PLOTPATH, name))\n",
    "#ax.legend(loc=(0, 1))"
   ]
  },
  {
   "cell_type": "code",
   "execution_count": null,
   "id": "13274fb4",
   "metadata": {},
   "outputs": [],
   "source": [
    "eig_data"
   ]
  },
  {
   "cell_type": "code",
   "execution_count": null,
   "id": "7d6ae2a8",
   "metadata": {},
   "outputs": [],
   "source": [
    "mode_array"
   ]
  },
  {
   "cell_type": "code",
   "execution_count": null,
   "id": "007edb68",
   "metadata": {},
   "outputs": [],
   "source": []
  }
 ],
 "metadata": {
  "kernelspec": {
   "display_name": "Python 3",
   "language": "python",
   "name": "python3"
  },
  "language_info": {
   "codemirror_mode": {
    "name": "ipython",
    "version": 3
   },
   "file_extension": ".py",
   "mimetype": "text/x-python",
   "name": "python",
   "nbconvert_exporter": "python",
   "pygments_lexer": "ipython3",
   "version": "3.8.10"
  }
 },
 "nbformat": 4,
 "nbformat_minor": 5
}
