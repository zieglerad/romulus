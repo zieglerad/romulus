{
 "cells": [
  {
   "cell_type": "code",
   "execution_count": null,
   "id": "4516cec4",
   "metadata": {},
   "outputs": [],
   "source": [
    "import seaborn as sns\n",
    "import matplotlib.pyplot as plt\n",
    "import numpy as np\n",
    "from pathlib import Path\n",
    "\n"
   ]
  },
  {
   "cell_type": "code",
   "execution_count": null,
   "id": "a683b982",
   "metadata": {},
   "outputs": [],
   "source": [
    "time = np.arange(0, 8192, 1) / 200e6\n",
    "f1 = 1e6\n",
    "f2 = 0.3e6\n",
    "#f3 = 5e6\n",
    "\n",
    "# signal\n",
    "x = (2) * np.exp(1j * (2 * np.pi * f1 * time + np.pi/3))\n",
    "\n",
    "x[0:2048] = 0\n",
    "x[8192-2048:] = 0\n",
    "\n",
    "# noise\n",
    "var = 400\n",
    "noise = np.random.multivariate_normal([0, 0], np.eye(2) * var / 2, 8192)\n",
    "noise = noise[:, 0] + 1j * noise[:, 1]\n",
    "\n",
    "# template\n",
    "norm = 1 / np.sqrt(var * np.vdot(x, x))\n",
    "h = norm * x\n",
    "\n",
    "#np.sum(abs(h * (x)) ** 2)\n",
    "print(np.sum(abs(h.conjugate() * (x)) ** 2))\n",
    "\n",
    "print(np.mean(abs(h.conjugate() * noise) ** 2))\n",
    "\n",
    "\n",
    "print(\"snr = \", np.sqrt(np.sum(abs(h.conjugate() * (x)) ** 2) / np.mean(abs(h.conjugate() * noise) ** 2)))\n",
    "#print(\"mf score = \", np.sum(abs(h.conjugate() * (noise + x))))"
   ]
  },
  {
   "cell_type": "code",
   "execution_count": null,
   "id": "4f7b6521",
   "metadata": {},
   "outputs": [],
   "source": [
    "sns.set_theme(context='poster', style='whitegrid')\n",
    "\n",
    "fig = plt.figure(figsize=(13, 8))\n",
    "ax = fig.add_subplot(1,1,1)\n",
    "\n",
    "ax.plot(time, noise.real, label='Noise')\n",
    "ax.plot(time, np.roll(x.real, 1000), label='Signal')\n",
    "#ax.plot(time, np.roll(x.real, -1500))\n",
    "ax.set_xlim(time[0], time[-1])\n",
    "\n",
    "ax.set_xlabel('Time (AU)')\n",
    "ax.set_xticks(np.linspace(0, 4e-5, 9))\n",
    "ax.set_xticklabels(np.linspace(0, 4, 9))\n",
    "\n",
    "ax.set_ylabel('Amplitude (AU)')\n",
    "ax.set_yticks(np.linspace(-40, 40, 5))\n",
    "ax.set_yticklabels(np.linspace(-1, 1, 5))\n",
    "\n",
    "ax.legend(loc=2)\n"
   ]
  },
  {
   "cell_type": "code",
   "execution_count": null,
   "id": "1f6ef03d",
   "metadata": {},
   "outputs": [],
   "source": [
    "sns.set_theme(context='poster', style='whitegrid')\n",
    "\n",
    "clist = sns.color_palette('deep', n_colors=10)\n",
    "\n",
    "fig = plt.figure(figsize=(13, 8))\n",
    "ax = fig.add_subplot(1,1,1)\n",
    "\n",
    "#ax.plot(time, noise.real, label='Noise')\n",
    "#ax.plot(time, np.roll(x.real, 1000), label='Signal')\n",
    "ax.plot(time, np.roll(x.real, -1500), label='Template', color=clist[2])\n",
    "ax.set_xlim(time[0], time[-1])\n",
    "\n",
    "ax.set_xlabel('Time (AU)')\n",
    "ax.set_xticks(np.linspace(0, 4e-5, 9))\n",
    "ax.set_xticklabels(np.linspace(0, 4, 9))\n",
    "\n",
    "ax.set_ylabel('Amplitude (AU)')\n",
    "ax.set_yticks(np.linspace(-40, 40, 5))\n",
    "ax.set_yticklabels(np.linspace(-1, 1, 5))\n",
    "\n",
    "ax.legend(loc=2)\n"
   ]
  },
  {
   "cell_type": "code",
   "execution_count": null,
   "id": "6889e328",
   "metadata": {},
   "outputs": [],
   "source": [
    "sns.set_theme(context='poster', style='whitegrid')\n",
    "\n",
    "clist = sns.color_palette('deep', n_colors=10)\n",
    "\n",
    "fig = plt.figure(figsize=(13, 8))\n",
    "ax = fig.add_subplot(1,1,1)\n",
    "\n",
    "#ax.plot(time, noise.real, label='Noise')\n",
    "#ax.plot(time, np.roll(x.real, 1000), label='Signal')\n",
    "ax.plot( abs(np.convolve(np.roll(x.real, -1500), noise.real+x.real))/8192 , label='Noise and Signal', color=clist[1])\n",
    "ax.plot( abs(np.convolve(np.roll(x.real, -1500), noise.real))/8192 , label='Noise Only', color=clist[0])\n",
    "#ax.set_xlim(time[0], time[-1])\n",
    "\n",
    "ax.set_xlabel('Signal-Template Time Offset (AU)')\n",
    "ax.set_xticks(np.int32(np.linspace(0, 2*8192, 7)))\n",
    "ax.set_xticklabels(np.int32(np.linspace(-4, 4, 7)))\n",
    "\n",
    "ax.set_ylabel('Amplitude (AU)')\n",
    "#ax.set_yticks(np.linspace(-40, 40, 5))\n",
    "#ax.set_yticklabels(np.linspace(-1, 1, 5))\n",
    "\n",
    "ax.legend(loc=2)\n"
   ]
  },
  {
   "cell_type": "code",
   "execution_count": null,
   "id": "c9efa47d",
   "metadata": {},
   "outputs": [],
   "source": []
  },
  {
   "cell_type": "code",
   "execution_count": null,
   "id": "c7e2de37",
   "metadata": {},
   "outputs": [],
   "source": []
  }
 ],
 "metadata": {
  "kernelspec": {
   "display_name": "Python 3",
   "language": "python",
   "name": "python3"
  },
  "language_info": {
   "codemirror_mode": {
    "name": "ipython",
    "version": 3
   },
   "file_extension": ".py",
   "mimetype": "text/x-python",
   "name": "python",
   "nbconvert_exporter": "python",
   "pygments_lexer": "ipython3",
   "version": "3.8.10"
  }
 },
 "nbformat": 4,
 "nbformat_minor": 5
}
