{
 "cells": [
  {
   "cell_type": "code",
   "execution_count": null,
   "id": "51141118",
   "metadata": {},
   "outputs": [],
   "source": [
    "import numpy as np\n",
    "import mayfly as mf\n",
    "import h5py\n",
    "import pandas as pd\n",
    "import scipy\n",
    "import matplotlib.pyplot as plt\n",
    "import seaborn as sns\n",
    "import os \n",
    "import sys\n",
    "import json\n",
    "import uproot\n",
    "\n",
    "PATH = '/storage/home/adz6/group/project/'\n",
    "RESULTPATH = os.path.join(PATH, 'results/mayfly')\n",
    "PLOTPATH = os.path.join(PATH, 'plots/mayfly')\n",
    "\n",
    "def ToDataFrame(h5file):\n",
    "    entry_list = []\n",
    "    group = h5file['result']\n",
    "    for i, dataset_key in enumerate(group):\n",
    "        entry = {}\n",
    "        for j, item in enumerate(group[dataset_key].attrs):\n",
    "            entry[item] = group[dataset_key].attrs[item]\n",
    "        entry['grid'] = group[dataset_key][:]\n",
    "        entry_list.append(entry)\n",
    "    \n",
    "    return pd.DataFrame(entry_list)"
   ]
  },
  {
   "cell_type": "code",
   "execution_count": null,
   "id": "6f307fbc",
   "metadata": {},
   "outputs": [],
   "source": [
    "os.listdir(RESULTPATH)"
   ]
  },
  {
   "cell_type": "code",
   "execution_count": null,
   "id": "5a8165ac",
   "metadata": {},
   "outputs": [],
   "source": [
    "result_path = os.path.join(RESULTPATH, '210719_long_track_mf_test.h5')"
   ]
  },
  {
   "cell_type": "code",
   "execution_count": null,
   "id": "c4c91cff",
   "metadata": {},
   "outputs": [],
   "source": [
    "h5file = h5py.File(result_path, 'r')\n",
    "datapd = ToDataFrame(h5file)\n",
    "h5file.close()"
   ]
  },
  {
   "cell_type": "code",
   "execution_count": null,
   "id": "4a934bf5",
   "metadata": {},
   "outputs": [],
   "source": [
    "datapd"
   ]
  },
  {
   "cell_type": "code",
   "execution_count": null,
   "id": "10139696",
   "metadata": {},
   "outputs": [],
   "source": [
    "pitch_angles = np.sort(datapd['signal-angle'].unique())\n",
    "energies = np.sort(datapd['signal-energy'].unique())"
   ]
  },
  {
   "cell_type": "code",
   "execution_count": null,
   "id": "fa2c1e19",
   "metadata": {},
   "outputs": [],
   "source": [
    "pitch_angles"
   ]
  },
  {
   "cell_type": "code",
   "execution_count": null,
   "id": "12a619d8",
   "metadata": {},
   "outputs": [],
   "source": [
    "datapd[datapd['signal-angle'] == 89.9]"
   ]
  },
  {
   "cell_type": "code",
   "execution_count": null,
   "id": "d557a6a4",
   "metadata": {},
   "outputs": [],
   "source": [
    "datapd[(datapd['signal-angle'] == 89.9) & (datapd['signal-energy'] == 18590.4)]"
   ]
  },
  {
   "cell_type": "code",
   "execution_count": null,
   "id": "f1bcb8b5",
   "metadata": {},
   "outputs": [],
   "source": [
    "array = datapd[(datapd['signal-angle'] == 89.9) & (datapd['signal-energy'] == 18590.4)]['grid'].item()"
   ]
  },
  {
   "cell_type": "code",
   "execution_count": null,
   "id": "9192020e",
   "metadata": {},
   "outputs": [],
   "source": [
    "plt.imshow(array[0, :, :] * 8192, aspect='auto', extent=(energies[0], energies[-1], pitch_angles[-1], pitch_angles[0])) \n",
    "plt.colorbar()"
   ]
  },
  {
   "cell_type": "code",
   "execution_count": null,
   "id": "27091fea",
   "metadata": {},
   "outputs": [],
   "source": [
    "for item in h5file['result']['50'].attrs:\n",
    "    print(item, h5file['result']['50'].attrs[item])"
   ]
  },
  {
   "cell_type": "code",
   "execution_count": null,
   "id": "9aa94bde",
   "metadata": {},
   "outputs": [],
   "source": []
  }
 ],
 "metadata": {
  "kernelspec": {
   "display_name": "Python 3",
   "language": "python",
   "name": "python3"
  },
  "language_info": {
   "codemirror_mode": {
    "name": "ipython",
    "version": 3
   },
   "file_extension": ".py",
   "mimetype": "text/x-python",
   "name": "python",
   "nbconvert_exporter": "python",
   "pygments_lexer": "ipython3",
   "version": "3.8.10"
  }
 },
 "nbformat": 4,
 "nbformat_minor": 5
}
