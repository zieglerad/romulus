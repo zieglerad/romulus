{
 "cells": [
  {
   "cell_type": "code",
   "execution_count": null,
   "id": "cd71ece1",
   "metadata": {},
   "outputs": [],
   "source": [
    "import numpy as np\n",
    "import mayfly as mf\n",
    "import h5py\n",
    "import pandas as pd\n",
    "import scipy\n",
    "import matplotlib.pyplot as plt\n",
    "import seaborn as sns\n",
    "import os \n",
    "import sys\n",
    "import json\n",
    "\n",
    "PATH = '/storage/home/adz6/group/project/'\n",
    "RESULTPATH = os.path.join(PATH, 'results/mayfly')\n",
    "PLOTPATH = os.path.join(PATH, 'plots/mayfly')\n",
    "DATAPATH = os.path.join(PATH, 'mayfly/data/datasets')\n"
   ]
  },
  {
   "cell_type": "code",
   "execution_count": null,
   "id": "7f44a76e",
   "metadata": {},
   "outputs": [],
   "source": [
    "os.listdir(RESULTPATH)"
   ]
  },
  {
   "cell_type": "code",
   "execution_count": null,
   "id": "b9248fdb",
   "metadata": {},
   "outputs": [],
   "source": [
    "file = '210726_mf_scores_4slice.npz'\n",
    "score_matrix = np.load(os.path.join(RESULTPATH, file))['mat']"
   ]
  },
  {
   "cell_type": "code",
   "execution_count": null,
   "id": "2a5e126b",
   "metadata": {},
   "outputs": [],
   "source": [
    "score_matrix.shape"
   ]
  },
  {
   "cell_type": "code",
   "execution_count": null,
   "id": "b6790123",
   "metadata": {},
   "outputs": [],
   "source": [
    "dataset = '210724_long_track_addendum.h5'\n",
    "data = mf.data.MFDataset(os.path.join(DATAPATH, dataset))"
   ]
  },
  {
   "cell_type": "code",
   "execution_count": null,
   "id": "84a7044d",
   "metadata": {},
   "outputs": [],
   "source": [
    "metadata = pd.DataFrame(data.metadata)"
   ]
  },
  {
   "cell_type": "code",
   "execution_count": null,
   "id": "fda1c7a2",
   "metadata": {},
   "outputs": [],
   "source": [
    "metadata[['theta_min', 'energy']]"
   ]
  },
  {
   "cell_type": "code",
   "execution_count": null,
   "id": "2904db98",
   "metadata": {},
   "outputs": [],
   "source": [
    "energies = np.sort(metadata['energy'].unique())\n",
    "thetas = np.sort(metadata['theta_min'].unique())\n",
    "print(energies, thetas)"
   ]
  },
  {
   "cell_type": "code",
   "execution_count": null,
   "id": "297b5499",
   "metadata": {},
   "outputs": [],
   "source": [
    "signal_energy, signal_theta = 18591.2, 85.1"
   ]
  },
  {
   "cell_type": "code",
   "execution_count": null,
   "id": "9fc62739",
   "metadata": {},
   "outputs": [],
   "source": [
    "signal_ind = metadata[(metadata['theta_min'] == signal_theta) & (metadata['energy'] == signal_energy)].index[0]\n",
    "print(signal_ind, metadata[['theta_min', 'energy']].iloc[signal_ind])"
   ]
  },
  {
   "cell_type": "code",
   "execution_count": null,
   "id": "fcb3ba1a",
   "metadata": {},
   "outputs": [],
   "source": [
    "signal_scores = score_matrix[signal_ind, :]"
   ]
  },
  {
   "cell_type": "code",
   "execution_count": null,
   "id": "1e505f89",
   "metadata": {},
   "outputs": [],
   "source": [
    "mf_signal_score_grid = np.zeros((len(energies), len(thetas)))\n",
    "#template_params = params[signal_ind, :, :]"
   ]
  },
  {
   "cell_type": "code",
   "execution_count": null,
   "id": "f85abcfc",
   "metadata": {},
   "outputs": [],
   "source": [
    "for i, energy in enumerate(energies):\n",
    "    for j, theta in enumerate(thetas):\n",
    "        \n",
    "        #print(metadata[(metadata['theta_min'] == theta) & (metadata['energy'] == energy)].index[0])\n",
    "        try:\n",
    "            index = metadata[(metadata['theta_min'] == theta) & (metadata['energy'] == energy)].index[0]\n",
    "            mf_signal_score_grid[i, j] = signal_scores[index]\n",
    "        except:\n",
    "            print('skipping')\n",
    "            continue\n"
   ]
  },
  {
   "cell_type": "code",
   "execution_count": null,
   "id": "740f1bfc",
   "metadata": {},
   "outputs": [],
   "source": [
    "plt.imshow(mf_signal_score_grid.T, aspect='auto', interpolation='none')\n",
    "plt.colorbar()"
   ]
  },
  {
   "cell_type": "code",
   "execution_count": null,
   "id": "6ec5d7a0",
   "metadata": {},
   "outputs": [],
   "source": [
    "print(energy_grid.shape)\n",
    "print(energy_grid)"
   ]
  },
  {
   "cell_type": "code",
   "execution_count": null,
   "id": "78607644",
   "metadata": {},
   "outputs": [],
   "source": [
    "plt.imshow(score_matrix, interpolation='none')"
   ]
  },
  {
   "cell_type": "code",
   "execution_count": null,
   "id": "dd6d41e1",
   "metadata": {},
   "outputs": [],
   "source": []
  }
 ],
 "metadata": {
  "kernelspec": {
   "display_name": "Python 3",
   "language": "python",
   "name": "python3"
  },
  "language_info": {
   "codemirror_mode": {
    "name": "ipython",
    "version": 3
   },
   "file_extension": ".py",
   "mimetype": "text/x-python",
   "name": "python",
   "nbconvert_exporter": "python",
   "pygments_lexer": "ipython3",
   "version": "3.8.10"
  }
 },
 "nbformat": 4,
 "nbformat_minor": 5
}
