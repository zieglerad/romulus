{
 "cells": [
  {
   "cell_type": "code",
   "execution_count": null,
   "id": "cd71ece1",
   "metadata": {},
   "outputs": [],
   "source": [
    "import numpy as np\n",
    "import mayfly as mf\n",
    "import h5py\n",
    "import pandas as pd\n",
    "import scipy\n",
    "import matplotlib.pyplot as plt\n",
    "import seaborn as sns\n",
    "import os \n",
    "import sys\n",
    "import json\n",
    "\n",
    "PATH = '/storage/home/adz6/group/project/'\n",
    "RESULTPATH = os.path.join(PATH, 'results/mayfly')\n",
    "PLOTPATH = os.path.join(PATH, 'plots/mayfly')\n",
    "DATAPATH = os.path.join(PATH, 'mayfly/data/datasets')\n"
   ]
  },
  {
   "cell_type": "code",
   "execution_count": null,
   "id": "7f44a76e",
   "metadata": {},
   "outputs": [],
   "source": [
    "os.listdir(DATAPATH)"
   ]
  },
  {
   "cell_type": "code",
   "execution_count": null,
   "id": "b6790123",
   "metadata": {},
   "outputs": [],
   "source": [
    "dataset = '211002_mf_84_100_slice8192.h5'\n",
    "data = mf.data.MFDataset(os.path.join(DATAPATH, dataset))"
   ]
  },
  {
   "cell_type": "code",
   "execution_count": null,
   "id": "84a7044d",
   "metadata": {},
   "outputs": [],
   "source": [
    "metadata = pd.DataFrame(data.metadata)"
   ]
  },
  {
   "cell_type": "code",
   "execution_count": null,
   "id": "fda1c7a2",
   "metadata": {},
   "outputs": [],
   "source": [
    "metadata[['theta_min', 'energy']]"
   ]
  },
  {
   "cell_type": "code",
   "execution_count": null,
   "id": "450ea7e4",
   "metadata": {},
   "outputs": [],
   "source": [
    "data.data.shape"
   ]
  },
  {
   "cell_type": "code",
   "execution_count": null,
   "id": "0396fa17",
   "metadata": {},
   "outputs": [],
   "source": [
    "antispiral = np.exp(-1j * (np.arange(0, 60, 1) * 2 * np.pi / 60).reshape((60, 1)).repeat(8192, axis=-1))\n",
    "\n",
    "signal = data.data[0, :].reshape((60, 8192))\n",
    "sum_signal = (antispiral * signal).sum(axis=0)"
   ]
  },
  {
   "cell_type": "code",
   "execution_count": null,
   "id": "9bc2b77b",
   "metadata": {},
   "outputs": [],
   "source": [
    "sns.set_theme(context='talk', style='whitegrid')\n",
    "fig = plt.figure(figsize=(13,8))\n",
    "ax = fig.add_subplot(1,1,1)\n",
    "\n",
    "t = np.arange(0, 8192, 1) / 200e6\n",
    "\n",
    "var = 1.38e-23 * 10 * 50 * 200e6\n",
    "rng = np.random.default_rng()\n",
    "noise = rng.multivariate_normal([0, 0], np.eye(2) * var / 2, 8192)\n",
    "noise = noise[:, 0] + 1j * noise[:, 1]\n",
    "\n",
    "ax.plot(t, noise.real, label='noise')\n",
    "ax.plot(t, sum_signal.real, label='signal')\n",
    "\n",
    "#ax.plot(abs(np.fft.fft(noise)) / 8192)\n",
    "#ax.plot(abs(np.fft.fftshift(np.fft.fft(sum_signal))) / 8192)\n",
    "\n",
    "ax.set_xlim(t[0], t[1024])\n",
    "ax.set_ylabel('V')\n",
    "ax.set_xlabel('Time (s)')\n",
    "\n",
    "ax.legend(loc=1)\n",
    "\n",
    "plt.tight_layout()\n",
    "name = '211018_example_signal_in_noise'\n",
    "plt.savefig(os.path.join(PLOTPATH, name))"
   ]
  },
  {
   "cell_type": "code",
   "execution_count": null,
   "id": "3db74f1a",
   "metadata": {},
   "outputs": [],
   "source": []
  },
  {
   "cell_type": "code",
   "execution_count": null,
   "id": "21ba4fb1",
   "metadata": {},
   "outputs": [],
   "source": []
  }
 ],
 "metadata": {
  "kernelspec": {
   "display_name": "Python 3",
   "language": "python",
   "name": "python3"
  },
  "language_info": {
   "codemirror_mode": {
    "name": "ipython",
    "version": 3
   },
   "file_extension": ".py",
   "mimetype": "text/x-python",
   "name": "python",
   "nbconvert_exporter": "python",
   "pygments_lexer": "ipython3",
   "version": "3.8.10"
  }
 },
 "nbformat": 4,
 "nbformat_minor": 5
}
