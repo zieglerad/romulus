{
 "cells": [
  {
   "cell_type": "code",
   "execution_count": null,
   "id": "20f78c15",
   "metadata": {},
   "outputs": [],
   "source": [
    "import numpy as np\n",
    "import mayfly as mf\n",
    "import h5py\n",
    "import pandas as pd\n",
    "import scipy\n",
    "import matplotlib.pyplot as plt\n",
    "import matplotlib\n",
    "import seaborn as sns\n",
    "import os \n",
    "import sys\n",
    "import json\n",
    "import scipy.signal\n",
    "import scipy.stats\n",
    "import scipy.interpolate\n",
    "import pickle as pkl\n",
    "import scipy.optimize\n",
    "\n",
    "PATH = '/storage/home/adz6/group/project/'\n",
    "RESULTPATH = os.path.join(PATH, 'results/mayfly')\n",
    "PLOTPATH = os.path.join(PATH, 'plots/mayfly')\n",
    "DATAPATH = os.path.join(PATH, 'datasets/data')\n",
    "METADATAPATH = os.path.join(PATH, 'datasets/metadata')"
   ]
  },
  {
   "cell_type": "markdown",
   "id": "6f716aee",
   "metadata": {},
   "source": [
    "# load data"
   ]
  },
  {
   "cell_type": "code",
   "execution_count": null,
   "id": "e755e9a7",
   "metadata": {},
   "outputs": [],
   "source": [
    "os.listdir(os.path.join(METADATAPATH))"
   ]
  },
  {
   "cell_type": "code",
   "execution_count": null,
   "id": "d36925bd",
   "metadata": {},
   "outputs": [],
   "source": [
    "#test_data = mf.data.MFDataset(os.path.join(DATAPATH, '210930_87_18595_energy_angle_test_slice8192.h5'))\n",
    "dataset = mf.data.MFDataset(os.path.join(METADATAPATH,'211112_84_25_2cm_meta.h5'))\n",
    "\n",
    "#beamforming_result = np.load(os.path.join(RESULTPATH,'211005_mf_84_100_template_ideal_scores_bottom_tri.npy'))"
   ]
  },
  {
   "cell_type": "markdown",
   "id": "0bb675a2",
   "metadata": {},
   "source": [
    "# load meta data"
   ]
  },
  {
   "cell_type": "code",
   "execution_count": null,
   "id": "bd33834b",
   "metadata": {},
   "outputs": [],
   "source": [
    "metadata = pd.DataFrame(dataset.metadata)\n",
    "\n",
    "#dataset.metadata\n",
    "#test_metadata = pd.DataFrame(test_data.metadata)"
   ]
  },
  {
   "cell_type": "code",
   "execution_count": null,
   "id": "7b8598dc",
   "metadata": {},
   "outputs": [],
   "source": []
  },
  {
   "cell_type": "code",
   "execution_count": null,
   "id": "01c327c1",
   "metadata": {},
   "outputs": [],
   "source": [
    "energy_array = metadata['energy'].array\n",
    "angle_array = metadata['theta_min'].array\n",
    "\n",
    "#test_energies = np.array(test_metadata['energy'].array).squeeze()\n",
    "#test_angles = np.array(test_metadata['theta_min'].array).squeeze()\n",
    "\n",
    "unique_energy = np.sort(np.unique(metadata['energy'].array))\n",
    "unique_angle = np.sort(np.unique(metadata['theta_min'].array))\n",
    "\n",
    "energy_grid, angle_grid = np.meshgrid(unique_energy, unique_angle)\n",
    "\n",
    "sorting_indexes = []\n",
    "\n",
    "for i, pair in enumerate(zip(energy_grid.flatten(), angle_grid.flatten())):\n",
    "    \n",
    "    sorting_indexes.append(metadata[(metadata['energy'] == pair[0]) & (metadata['theta_min'] == pair[1])].index[0])\n",
    "    \n",
    "sorting_indexes = np.array(sorting_indexes)\n",
    "\n",
    "print(sorting_indexes.shape)"
   ]
  },
  {
   "cell_type": "code",
   "execution_count": null,
   "id": "7be7ee3c",
   "metadata": {},
   "outputs": [],
   "source": [
    "print(unique_energy, unique_angle)"
   ]
  },
  {
   "cell_type": "code",
   "execution_count": null,
   "id": "da0704c1",
   "metadata": {},
   "outputs": [],
   "source": [
    "grad_b_omega = np.array(metadata['gradb_omega'].iloc[sorting_indexes].array).reshape(energy_grid.shape)"
   ]
  },
  {
   "cell_type": "code",
   "execution_count": null,
   "id": "1e691166",
   "metadata": {},
   "outputs": [],
   "source": [
    "fig = plt.figure(figsize=(13,8))\n",
    "ax = fig.add_subplot(1,1,1)\n",
    "sns.set_theme(context='talk', style='ticks')\n",
    "cmap = sns.color_palette('vlag', as_cmap=True)\n",
    "\n",
    "img = ax.imshow(grad_b_omega / (2 * np.pi), cmap=cmap, extent=(18575, 18600, 90, 84), aspect='auto')\n",
    "\n",
    "fig.colorbar(img)"
   ]
  },
  {
   "cell_type": "markdown",
   "id": "36b5b61c",
   "metadata": {},
   "source": [
    "# remove grad-b shift, do beamforming, signal 1"
   ]
  },
  {
   "cell_type": "code",
   "execution_count": null,
   "id": "df580aa8",
   "metadata": {},
   "outputs": [],
   "source": [
    "signal_energy = 18595\n",
    "signal_angle = 89.5 \n",
    "\n",
    "index = template_metadata[(template_metadata['energy'] == signal_energy) & (template_metadata['theta_min'] == signal_angle)].index[0]\n",
    "\n",
    "signal = template_data.data[index, :].reshape((60, 8192 * 3))\n",
    "\n",
    "\n",
    "ngrid = 21\n",
    "x_pos_range = np.linspace(-0.01, -0.03, ngrid)\n",
    "y_pos_range = np.linspace(-0.01, 0.01, ngrid)\n",
    "grad_b_freq = 2.5e3\n",
    "\n",
    "shifted_signal = GradBShift(signal, 0.02, 0.00, -grad_b_freq)\n",
    "#shifted_signal = GradBShift(signal, 0.02, 0.00, grad_b_freq)\n",
    "\n",
    "#pos_beam = np.linspace(-xpos_range, pos_range, ngrid)\n",
    "\n",
    "sum_signal = ShiftAndSum(shifted_signal, x_pos_range, y_pos_range, 0)"
   ]
  }
 ],
 "metadata": {
  "kernelspec": {
   "display_name": "Python 3",
   "language": "python",
   "name": "python3"
  },
  "language_info": {
   "codemirror_mode": {
    "name": "ipython",
    "version": 3
   },
   "file_extension": ".py",
   "mimetype": "text/x-python",
   "name": "python",
   "nbconvert_exporter": "python",
   "pygments_lexer": "ipython3",
   "version": "3.8.10"
  }
 },
 "nbformat": 4,
 "nbformat_minor": 5
}
