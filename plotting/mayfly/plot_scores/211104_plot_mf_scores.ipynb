{
 "cells": [
  {
   "cell_type": "code",
   "execution_count": null,
   "id": "51141118",
   "metadata": {},
   "outputs": [],
   "source": [
    "import numpy as np\n",
    "import mayfly as mf\n",
    "import h5py\n",
    "import pandas as pd\n",
    "import scipy\n",
    "import matplotlib.pyplot as plt\n",
    "import matplotlib\n",
    "import seaborn as sns\n",
    "import os \n",
    "import sys\n",
    "import json\n",
    "import scipy.signal\n",
    "import scipy.stats\n",
    "import scipy.interpolate\n",
    "import pickle as pkl\n",
    "import scipy.optimize\n",
    "\n",
    "PATH = '/storage/home/adz6/group/project/'\n",
    "RESULTPATH = os.path.join(PATH, 'results/mayfly')\n",
    "PLOTPATH = os.path.join(PATH, 'plots/mayfly')\n",
    "DATAPATH = os.path.join(PATH, 'datasets/data')\n",
    "\n",
    "\n",
    "def linear_fit(x, a, b):\n",
    "    \n",
    "    return a + b * x\n",
    "\n"
   ]
  },
  {
   "cell_type": "markdown",
   "id": "bf1a37f9",
   "metadata": {},
   "source": [
    "# load data"
   ]
  },
  {
   "cell_type": "code",
   "execution_count": null,
   "id": "08ba1661",
   "metadata": {},
   "outputs": [],
   "source": [
    "os.listdir(os.path.join(RESULTPATH, 'scores'))"
   ]
  },
  {
   "cell_type": "code",
   "execution_count": null,
   "id": "c51aebd2",
   "metadata": {},
   "outputs": [],
   "source": [
    "os.listdir(os.path.join(DATAPATH))"
   ]
  },
  {
   "cell_type": "code",
   "execution_count": null,
   "id": "6194caa4",
   "metadata": {},
   "outputs": [],
   "source": [
    "test_data = mf.data.MFDataset(os.path.join(DATAPATH, '211106_84_2cm_low_energy.h5'))\n",
    "template_data = mf.data.MFDataset(os.path.join(DATAPATH, '211027_84_25_2cm.h5'))\n",
    "\n",
    "#beamforming_result = np.load(os.path.join(RESULTPATH,'211005_mf_84_100_template_ideal_scores_bottom_tri.npy'))"
   ]
  },
  {
   "cell_type": "code",
   "execution_count": null,
   "id": "4c8f496d",
   "metadata": {},
   "outputs": [],
   "source": [
    "template_metadata = pd.DataFrame(template_data.metadata)\n",
    "test_metadata = pd.DataFrame(test_data.metadata)"
   ]
  },
  {
   "cell_type": "code",
   "execution_count": null,
   "id": "f9f0b9b1",
   "metadata": {},
   "outputs": [],
   "source": [
    "scores = np.load(os.path.join(RESULTPATH, 'scores', '211106_84_25_2cm_low_energy_on_template.npy'))"
   ]
  },
  {
   "cell_type": "markdown",
   "id": "27809301",
   "metadata": {},
   "source": [
    "# pick signal, sort scores with metadata, normalize"
   ]
  },
  {
   "cell_type": "code",
   "execution_count": null,
   "id": "f0dace6b",
   "metadata": {},
   "outputs": [],
   "source": [
    "test_energy, test_angles = np.sort(test_metadata['energy'].array.unique()), np.sort(test_metadata['theta_min'].array.unique())\n",
    "print(test_angles, test_energy)"
   ]
  },
  {
   "cell_type": "code",
   "execution_count": null,
   "id": "61a0fa55",
   "metadata": {},
   "outputs": [],
   "source": [
    "plt.plot(scores.max(axis=-1))\n",
    "#plt.xlim(100, 200)\n",
    "print(np.argwhere(scores.max(axis=-1)>=2e-10))"
   ]
  },
  {
   "cell_type": "code",
   "execution_count": null,
   "id": "1ed5455e",
   "metadata": {},
   "outputs": [],
   "source": [
    "signal_angle = 84.5\n",
    "signal_energy = 17574\n",
    "var = 1.38e-23 * 10 * 50 * 200e6\n",
    "nslice = 8192\n",
    "\n",
    "#signal_index = template_metadata[(template_metadata['energy'] == signal_energy) & (template_metadata['theta_min'] == signal_angle)].index[0]\n",
    "signal_index = test_metadata[(test_metadata['energy'] == signal_energy) & (test_metadata['theta_min'] == signal_angle)].index[0]\n",
    "\n",
    "#signal_index = sorted_inds[355]\n",
    "#signal_angle = test_metadata.iloc[signal_index]['theta_min']\n",
    "#signal_energy = test_metadata.iloc[signal_index]['energy']\n",
    "print(signal_index, signal_angle, signal_energy)\n",
    "\n",
    "#sns.set_theme(style='ticks', context='talk')\n",
    "#fig = plt.figure(figsize=(13,13))\n",
    "#ax = fig.add_subplot(1,1,1)\n",
    "\n",
    "#img = ax.imshow(scores[signal_index, :].reshape(121, 101), aspect='auto', interpolation='none')\n",
    "#cbar = fig.colorbar(img)\n",
    "\n",
    "#signal = template_data.data[signal_index, :]\n",
    "#sample_inds = np.arange(0, 60 * 3 * nslice, 1).reshape((60, 3 * nslice))[:, 0:3*nslice].flatten()\n",
    "\n",
    "signal = test_data.data[signal_index, :]\n",
    "norm = abs(1 / np.sqrt(var * np.vdot(signal[sample_inds], signal[sample_inds])))\n",
    "\n",
    "energy_array = template_metadata['energy'].array\n",
    "angle_array = template_metadata['theta_min'].array\n",
    "\n",
    "#test_energies = np.array(test_metadata['energy'].array).squeeze()\n",
    "#test_angles = np.array(test_metadata['theta_min'].array).squeeze()\n",
    "\n",
    "unique_energy = np.sort(np.unique(template_metadata['energy'].array))\n",
    "unique_angle = np.sort(np.unique(template_metadata['theta_min'].array))\n",
    "\n",
    "energy_grid, angle_grid = np.meshgrid(unique_energy, unique_angle)\n",
    "sorting_indexes = []\n",
    "\n",
    "for i, pair in enumerate(zip(energy_grid.flatten(), angle_grid.flatten())):\n",
    "    \n",
    "    sorting_indexes.append(template_metadata[(template_metadata['energy'] == pair[0]) & (template_metadata['theta_min'] == pair[1])].index[0])\n",
    "    \n",
    "sorting_indexes = np.array(sorting_indexes)\n",
    "\n",
    "#print(sorting_indexes.shape)\n",
    "\n",
    "sorted_scores = (scores[signal_index, sorting_indexes] * norm).reshape((energy_grid.shape))\n",
    "\n",
    "\n",
    "#template = signal * norm\n",
    "\n",
    "\n",
    "#signals = template_data.data[:]\n",
    "#scores = np.matmul(signals, template.reshape((template.size, 1)).conjugate())\n",
    "\n",
    "#templates = (signals.T * norm).T\n",
    "\n",
    "#print(scores.shape)"
   ]
  },
  {
   "cell_type": "markdown",
   "id": "2f6c3342",
   "metadata": {},
   "source": [
    "# plot"
   ]
  },
  {
   "cell_type": "code",
   "execution_count": null,
   "id": "65f835e5",
   "metadata": {},
   "outputs": [],
   "source": [
    "sns.set_theme(style='ticks', context='talk')\n",
    "cmap = sns.color_palette('mako_r', as_cmap=True)\n",
    "fig = plt.figure(figsize=(13,8))\n",
    "\n",
    "from matplotlib.colors import LogNorm\n",
    "\n",
    "ax = fig.add_subplot(1,1,1)\n",
    "img = ax.imshow(sorted_scores, aspect='auto', interpolation='none', cmap=cmap, \n",
    "                norm=None, extent=(18575, 18600, 90, 84))\n",
    "cbar = fig.colorbar(img)\n",
    "\n",
    "ax.set_xlabel('Energy (eV)')\n",
    "ax.set_ylabel('Pitch Angle (deg)')\n",
    "name = f'211109_offaxis2cm_low_energy_3timeslice_pa{signal_angle}_energy{signal_energy}.png'\n",
    "#ax.plot(signal_energy, signal_angle, 'r.')\n",
    "\n",
    "plt.tight_layout()\n",
    "\n",
    "plt.savefig(os.path.join(PLOTPATH, name))"
   ]
  },
  {
   "cell_type": "code",
   "execution_count": null,
   "id": "3156150a",
   "metadata": {},
   "outputs": [],
   "source": []
  },
  {
   "cell_type": "code",
   "execution_count": null,
   "id": "a523f1bb",
   "metadata": {},
   "outputs": [],
   "source": []
  }
 ],
 "metadata": {
  "kernelspec": {
   "display_name": "Python 3",
   "language": "python",
   "name": "python3"
  },
  "language_info": {
   "codemirror_mode": {
    "name": "ipython",
    "version": 3
   },
   "file_extension": ".py",
   "mimetype": "text/x-python",
   "name": "python",
   "nbconvert_exporter": "python",
   "pygments_lexer": "ipython3",
   "version": "3.8.10"
  }
 },
 "nbformat": 4,
 "nbformat_minor": 5
}
