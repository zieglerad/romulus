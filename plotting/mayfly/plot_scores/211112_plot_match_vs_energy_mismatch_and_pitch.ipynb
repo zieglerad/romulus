{
 "cells": [
  {
   "cell_type": "code",
   "execution_count": 1,
   "id": "51141118",
   "metadata": {},
   "outputs": [],
   "source": [
    "import numpy as np\n",
    "import mayfly as mf\n",
    "import h5py\n",
    "import pandas as pd\n",
    "import scipy\n",
    "import matplotlib.pyplot as plt\n",
    "import matplotlib\n",
    "import seaborn as sns\n",
    "import os \n",
    "import sys\n",
    "import json\n",
    "import scipy.signal\n",
    "import scipy.stats\n",
    "import scipy.interpolate\n",
    "import pickle as pkl\n",
    "import scipy.optimize\n",
    "\n",
    "PATH = '/storage/home/adz6/group/project/'\n",
    "RESULTPATH = os.path.join(PATH, 'results/mayfly')\n",
    "PLOTPATH = os.path.join(PATH, 'plots/mayfly')\n",
    "DATAPATH = os.path.join(PATH, 'datasets/data')\n",
    "\n",
    "\n",
    "def linear_fit(x, a, b):\n",
    "    \n",
    "    return a + b * x\n",
    "\n"
   ]
  },
  {
   "cell_type": "markdown",
   "id": "bf1a37f9",
   "metadata": {},
   "source": [
    "# load data"
   ]
  },
  {
   "cell_type": "code",
   "execution_count": 2,
   "id": "08ba1661",
   "metadata": {},
   "outputs": [
    {
     "data": {
      "text/plain": [
       "['210610_epa_grid_self_scores.pkl',\n",
       " '210810_mf_scores_84_100.npy',\n",
       " '210810_mf_scores_84_100_2.npy',\n",
       " '211005_mf_84_100_template_ideal_scores_bottom_tri.npy',\n",
       " '211007_mf_84_100_test_scores.npy',\n",
       " '211104_84_25_2cm_template_on_template.npy',\n",
       " '211106_84_25_2cm_low_energy_on_template.npy',\n",
       " '211106_84_25_2cm_random_on_template.npy',\n",
       " '211108_84_25_2cm_template_on_template_1slice.npy',\n",
       " '211112_84_25_self_scores.npy',\n",
       " '211112_84_2cm_low_energy_self_scores.npy',\n",
       " '220124_sens_est_dense_grid_84.5_0cm_template_scores_nslice2',\n",
       " '220124_sens_est_dense_grid_84.5_1cm_template_scores_nslice2',\n",
       " '220124_sens_est_dense_grid_84.5_4cm_template_scores_nslice2',\n",
       " '220124_sens_est_dense_grid_86.0_1cm_template_only_scores_nslice2_nsample1024.npy',\n",
       " '220124_sens_est_dense_grid_86.0_1cm_template_only_scores_nslice2_nsample2048.npy',\n",
       " '220124_sens_est_dense_grid_86.0_1cm_template_only_scores_nslice2_nsample4096.npy',\n",
       " '220124_sens_est_dense_grid_86.0_1cm_template_only_scores_nslice2_nsample8192.npy',\n",
       " '220124_sens_est_dense_grid_86.0_1cm_template_scores_nslice2_random',\n",
       " '220124_sens_est_dense_grid_86.0_2cm_template_only_scores_nslice2_nsample1024.npy',\n",
       " '220124_sens_est_dense_grid_86.0_2cm_template_only_scores_nslice2_nsample2048.npy',\n",
       " '220124_sens_est_dense_grid_86.0_2cm_template_only_scores_nslice2_nsample4096.npy',\n",
       " '220124_sens_est_dense_grid_86.0_2cm_template_only_scores_nslice2_nsample8192.npy',\n",
       " '220124_sens_est_dense_grid_86.0_2cm_template_scores_nslice2_random',\n",
       " '220124_sens_est_dense_grid_86.0_3cm_template_only_scores_nslice2_nsample1024.npy',\n",
       " '220124_sens_est_dense_grid_86.0_3cm_template_only_scores_nslice2_nsample2048.npy',\n",
       " '220124_sens_est_dense_grid_86.0_3cm_template_only_scores_nslice2_nsample4096.npy',\n",
       " '220124_sens_est_dense_grid_86.0_3cm_template_only_scores_nslice2_nsample8192.npy',\n",
       " '220124_sens_est_dense_grid_86.0_3cm_template_scores_nslice2_random',\n",
       " '220124_sens_est_dense_grid_86.0_4cm_template_only_scores_nslice2_nsample1024.npy',\n",
       " '220124_sens_est_dense_grid_86.0_4cm_template_only_scores_nslice2_nsample2048.npy',\n",
       " '220124_sens_est_dense_grid_86.0_4cm_template_only_scores_nslice2_nsample4096.npy',\n",
       " '220124_sens_est_dense_grid_86.0_4cm_template_only_scores_nslice2_nsample8192.npy',\n",
       " '220124_sens_est_dense_grid_86.0_4cm_template_scores_nslice2_random',\n",
       " '220124_sens_est_dense_grid_87.0_0cm_template_scores_nslice2',\n",
       " '220124_sens_est_dense_grid_87.0_0cm_template_scores_nslice2_random',\n",
       " '220124_sens_est_dense_grid_87.0_1cm_template_scores_nslice2',\n",
       " '220124_sens_est_dense_grid_87.0_1cm_template_scores_nslice2_random',\n",
       " '220124_sens_est_dense_grid_87.0_2cm_template_scores_nslice2',\n",
       " '220124_sens_est_dense_grid_87.0_2cm_template_scores_nslice2_random',\n",
       " '220124_sens_est_dense_grid_87.0_3cm_template_scores_nslice2',\n",
       " '220124_sens_est_dense_grid_87.0_3cm_template_scores_nslice2_random',\n",
       " '220124_sens_est_dense_grid_87.0_4cm_template_scores_nslice2',\n",
       " '220124_sens_est_dense_grid_87.0_4cm_template_scores_nslice2_random',\n",
       " '220124_sens_est_dense_grid_88.0_0cm_template_scores_nslice2',\n",
       " '220124_sens_est_dense_grid_88.0_0cm_template_scores_nslice2_random',\n",
       " '220124_sens_est_dense_grid_88.0_1cm_template_scores_nslice2',\n",
       " '220124_sens_est_dense_grid_88.0_1cm_template_scores_nslice2_random',\n",
       " '220124_sens_est_dense_grid_88.0_2cm_template_scores_nslice2',\n",
       " '220124_sens_est_dense_grid_88.0_2cm_template_scores_nslice2_random',\n",
       " '220124_sens_est_dense_grid_88.0_3cm_template_scores_nslice2',\n",
       " '220124_sens_est_dense_grid_88.0_3cm_template_scores_nslice2_random',\n",
       " '220124_sens_est_dense_grid_88.0_4cm_template_scores_nslice2',\n",
       " '220124_sens_est_dense_grid_88.0_4cm_template_scores_nslice2_random',\n",
       " '220124_sens_est_dense_grid_89.5_0cm_template_scores_nslice2',\n",
       " '220124_sens_est_dense_grid_89.5_1cm_template_scores_nslice2',\n",
       " '220124_sens_est_dense_grid_89.5_2cm_template_scores_nslice2',\n",
       " '220124_sens_est_dense_grid_89.5_4cm_template_scores_nslice2']"
      ]
     },
     "execution_count": 2,
     "metadata": {},
     "output_type": "execute_result"
    }
   ],
   "source": [
    "os.listdir(os.path.join(RESULTPATH, 'scores'))"
   ]
  },
  {
   "cell_type": "code",
   "execution_count": 3,
   "id": "c51aebd2",
   "metadata": {},
   "outputs": [
    {
     "data": {
      "text/plain": [
       "['211105_84_25_2cm_random.h5',\n",
       " '211116_grad_b_est.h5',\n",
       " '220405_dl_grid_87deg_10sec_range_10eV_range_20mm_10mm_range_train.h5',\n",
       " '220414_dl_grid_84to90_1to45mm.h5',\n",
       " '220416_dl_grid_87.5deg_10sec_range_10eV_range_20mm_10mm_range_train.h5',\n",
       " '220523_dl_grid_84to90_1to45mm_test.h5',\n",
       " '220523_dl_grid_84to90_1to45mm_validation.h5',\n",
       " '220604_dl_grid_85to88_5mm.h5',\n",
       " '220604_dl_grid_85to88_5mm_new.h5',\n",
       " '220609_dl_test_data_85to88deg_18575to18580ev_5mm_random.h5',\n",
       " '220619_dl_test_data_85to88deg_18575to18580ev_5mm_random.h5',\n",
       " '220819_modify_file.py',\n",
       " '220820_combine_files.py',\n",
       " '220826_dl_test_data_88to90deg_18575to18580ev_5mm_random.h5',\n",
       " '220826_dl_train_data_88to90deg_18575to18580ev_5mm_random.h5',\n",
       " '220901_dl_test_data_85to90deg_5mm.h5',\n",
       " '220901_dl_train_data_85to90deg_5mm.h5',\n",
       " '220913_dl_grid_data_88to90',\n",
       " '220913_dl_grid_data_88to90deg_18575to18580ev_5mm.h5',\n",
       " '220914_dl_grid_data_88to90',\n",
       " '220922_dl_grid_data_85to90deg_18575to18580ev_5mm.h5',\n",
       " '221024_test_signal.npy',\n",
       " '221024_test_signal_2.npy',\n",
       " '230119_cleaned_phase_errors.npy',\n",
       " '230119_cleaned_phase_errors_single_freq.npy',\n",
       " '230214_grad_b_est_v_sum_square_grid.npy',\n",
       " '230412_jugaad_analysis',\n",
       " '90D_sims',\n",
       " 'bf',\n",
       " 'cresana_magphase.npy',\n",
       " 'cresana_sims.tar.gz',\n",
       " 'dense_template_grid',\n",
       " 'dense_template_random',\n",
       " 'dl',\n",
       " 'lab',\n",
       " 'pca',\n",
       " 'test.png']"
      ]
     },
     "execution_count": 3,
     "metadata": {},
     "output_type": "execute_result"
    }
   ],
   "source": [
    "os.listdir(os.path.join(DATAPATH))"
   ]
  },
  {
   "cell_type": "code",
   "execution_count": 4,
   "id": "6194caa4",
   "metadata": {},
   "outputs": [
    {
     "ename": "FileNotFoundError",
     "evalue": "[Errno 2] Unable to open file (unable to open file: name = '/storage/home/adz6/group/project/datasets/data/211106_84_2cm_low_energy.h5', errno = 2, error message = 'No such file or directory', flags = 0, o_flags = 0)",
     "output_type": "error",
     "traceback": [
      "\u001b[0;31m---------------------------------------------------------------------------\u001b[0m",
      "\u001b[0;31mFileNotFoundError\u001b[0m                         Traceback (most recent call last)",
      "Cell \u001b[0;32mIn[4], line 1\u001b[0m\n\u001b[0;32m----> 1\u001b[0m template_data \u001b[38;5;241m=\u001b[39m \u001b[43mmf\u001b[49m\u001b[38;5;241;43m.\u001b[39;49m\u001b[43mdata\u001b[49m\u001b[38;5;241;43m.\u001b[39;49m\u001b[43mMFDataset\u001b[49m\u001b[43m(\u001b[49m\u001b[43mos\u001b[49m\u001b[38;5;241;43m.\u001b[39;49m\u001b[43mpath\u001b[49m\u001b[38;5;241;43m.\u001b[39;49m\u001b[43mjoin\u001b[49m\u001b[43m(\u001b[49m\u001b[43mDATAPATH\u001b[49m\u001b[43m,\u001b[49m\u001b[43m \u001b[49m\u001b[38;5;124;43m'\u001b[39;49m\u001b[38;5;124;43m211106_84_2cm_low_energy.h5\u001b[39;49m\u001b[38;5;124;43m'\u001b[39;49m\u001b[43m)\u001b[49m\u001b[43m)\u001b[49m\n",
      "File \u001b[0;32m~/group/project/mayfly/mayfly/data.py:23\u001b[0m, in \u001b[0;36mMFDataset.__init__\u001b[0;34m(self, filepath)\u001b[0m\n\u001b[1;32m     20\u001b[0m \u001b[38;5;28mself\u001b[39m\u001b[38;5;241m.\u001b[39mmetadata \u001b[38;5;241m=\u001b[39m {}\n\u001b[1;32m     21\u001b[0m \u001b[38;5;28mself\u001b[39m\u001b[38;5;241m.\u001b[39mshape \u001b[38;5;241m=\u001b[39m ()\n\u001b[0;32m---> 23\u001b[0m \u001b[38;5;28;43mself\u001b[39;49m\u001b[38;5;241;43m.\u001b[39;49m\u001b[43m_load_data\u001b[49m\u001b[43m(\u001b[49m\u001b[43mfilepath\u001b[49m\u001b[43m)\u001b[49m\n\u001b[1;32m     24\u001b[0m \u001b[38;5;28mself\u001b[39m\u001b[38;5;241m.\u001b[39m_load_meta_data(filepath)\n",
      "File \u001b[0;32m~/group/project/mayfly/mayfly/data.py:28\u001b[0m, in \u001b[0;36mMFDataset._load_data\u001b[0;34m(self, filepath)\u001b[0m\n\u001b[1;32m     26\u001b[0m \u001b[38;5;28;01mdef\u001b[39;00m \u001b[38;5;21m_load_data\u001b[39m(\u001b[38;5;28mself\u001b[39m, filepath):\n\u001b[0;32m---> 28\u001b[0m     h5file \u001b[38;5;241m=\u001b[39m \u001b[43mh5py\u001b[49m\u001b[38;5;241;43m.\u001b[39;49m\u001b[43mFile\u001b[49m\u001b[43m(\u001b[49m\u001b[43mfilepath\u001b[49m\u001b[43m,\u001b[49m\u001b[43m \u001b[49m\u001b[38;5;124;43m'\u001b[39;49m\u001b[38;5;124;43mr\u001b[39;49m\u001b[38;5;124;43m'\u001b[39;49m\u001b[43m)\u001b[49m\n\u001b[1;32m     29\u001b[0m     h5data \u001b[38;5;241m=\u001b[39m h5file[\u001b[38;5;124m'\u001b[39m\u001b[38;5;124mdata\u001b[39m\u001b[38;5;124m'\u001b[39m]\n\u001b[1;32m     30\u001b[0m     \u001b[38;5;66;03m#print(h5data)\u001b[39;00m\n",
      "File \u001b[0;32m~/.conda/envs/dmnu/lib/python3.10/site-packages/h5py/_hl/files.py:533\u001b[0m, in \u001b[0;36mFile.__init__\u001b[0;34m(self, name, mode, driver, libver, userblock_size, swmr, rdcc_nslots, rdcc_nbytes, rdcc_w0, track_order, fs_strategy, fs_persist, fs_threshold, fs_page_size, page_buf_size, min_meta_keep, min_raw_keep, locking, alignment_threshold, alignment_interval, **kwds)\u001b[0m\n\u001b[1;32m    525\u001b[0m     fapl \u001b[38;5;241m=\u001b[39m make_fapl(driver, libver, rdcc_nslots, rdcc_nbytes, rdcc_w0,\n\u001b[1;32m    526\u001b[0m                      locking, page_buf_size, min_meta_keep, min_raw_keep,\n\u001b[1;32m    527\u001b[0m                      alignment_threshold\u001b[38;5;241m=\u001b[39malignment_threshold,\n\u001b[1;32m    528\u001b[0m                      alignment_interval\u001b[38;5;241m=\u001b[39malignment_interval,\n\u001b[1;32m    529\u001b[0m                      \u001b[38;5;241m*\u001b[39m\u001b[38;5;241m*\u001b[39mkwds)\n\u001b[1;32m    530\u001b[0m     fcpl \u001b[38;5;241m=\u001b[39m make_fcpl(track_order\u001b[38;5;241m=\u001b[39mtrack_order, fs_strategy\u001b[38;5;241m=\u001b[39mfs_strategy,\n\u001b[1;32m    531\u001b[0m                      fs_persist\u001b[38;5;241m=\u001b[39mfs_persist, fs_threshold\u001b[38;5;241m=\u001b[39mfs_threshold,\n\u001b[1;32m    532\u001b[0m                      fs_page_size\u001b[38;5;241m=\u001b[39mfs_page_size)\n\u001b[0;32m--> 533\u001b[0m     fid \u001b[38;5;241m=\u001b[39m \u001b[43mmake_fid\u001b[49m\u001b[43m(\u001b[49m\u001b[43mname\u001b[49m\u001b[43m,\u001b[49m\u001b[43m \u001b[49m\u001b[43mmode\u001b[49m\u001b[43m,\u001b[49m\u001b[43m \u001b[49m\u001b[43muserblock_size\u001b[49m\u001b[43m,\u001b[49m\u001b[43m \u001b[49m\u001b[43mfapl\u001b[49m\u001b[43m,\u001b[49m\u001b[43m \u001b[49m\u001b[43mfcpl\u001b[49m\u001b[43m,\u001b[49m\u001b[43m \u001b[49m\u001b[43mswmr\u001b[49m\u001b[38;5;241;43m=\u001b[39;49m\u001b[43mswmr\u001b[49m\u001b[43m)\u001b[49m\n\u001b[1;32m    535\u001b[0m \u001b[38;5;28;01mif\u001b[39;00m \u001b[38;5;28misinstance\u001b[39m(libver, \u001b[38;5;28mtuple\u001b[39m):\n\u001b[1;32m    536\u001b[0m     \u001b[38;5;28mself\u001b[39m\u001b[38;5;241m.\u001b[39m_libver \u001b[38;5;241m=\u001b[39m libver\n",
      "File \u001b[0;32m~/.conda/envs/dmnu/lib/python3.10/site-packages/h5py/_hl/files.py:226\u001b[0m, in \u001b[0;36mmake_fid\u001b[0;34m(name, mode, userblock_size, fapl, fcpl, swmr)\u001b[0m\n\u001b[1;32m    224\u001b[0m     \u001b[38;5;28;01mif\u001b[39;00m swmr \u001b[38;5;129;01mand\u001b[39;00m swmr_support:\n\u001b[1;32m    225\u001b[0m         flags \u001b[38;5;241m|\u001b[39m\u001b[38;5;241m=\u001b[39m h5f\u001b[38;5;241m.\u001b[39mACC_SWMR_READ\n\u001b[0;32m--> 226\u001b[0m     fid \u001b[38;5;241m=\u001b[39m \u001b[43mh5f\u001b[49m\u001b[38;5;241;43m.\u001b[39;49m\u001b[43mopen\u001b[49m\u001b[43m(\u001b[49m\u001b[43mname\u001b[49m\u001b[43m,\u001b[49m\u001b[43m \u001b[49m\u001b[43mflags\u001b[49m\u001b[43m,\u001b[49m\u001b[43m \u001b[49m\u001b[43mfapl\u001b[49m\u001b[38;5;241;43m=\u001b[39;49m\u001b[43mfapl\u001b[49m\u001b[43m)\u001b[49m\n\u001b[1;32m    227\u001b[0m \u001b[38;5;28;01melif\u001b[39;00m mode \u001b[38;5;241m==\u001b[39m \u001b[38;5;124m'\u001b[39m\u001b[38;5;124mr+\u001b[39m\u001b[38;5;124m'\u001b[39m:\n\u001b[1;32m    228\u001b[0m     fid \u001b[38;5;241m=\u001b[39m h5f\u001b[38;5;241m.\u001b[39mopen(name, h5f\u001b[38;5;241m.\u001b[39mACC_RDWR, fapl\u001b[38;5;241m=\u001b[39mfapl)\n",
      "File \u001b[0;32mh5py/_objects.pyx:54\u001b[0m, in \u001b[0;36mh5py._objects.with_phil.wrapper\u001b[0;34m()\u001b[0m\n",
      "File \u001b[0;32mh5py/_objects.pyx:55\u001b[0m, in \u001b[0;36mh5py._objects.with_phil.wrapper\u001b[0;34m()\u001b[0m\n",
      "File \u001b[0;32mh5py/h5f.pyx:106\u001b[0m, in \u001b[0;36mh5py.h5f.open\u001b[0;34m()\u001b[0m\n",
      "\u001b[0;31mFileNotFoundError\u001b[0m: [Errno 2] Unable to open file (unable to open file: name = '/storage/home/adz6/group/project/datasets/data/211106_84_2cm_low_energy.h5', errno = 2, error message = 'No such file or directory', flags = 0, o_flags = 0)"
     ]
    }
   ],
   "source": [
    "template_data = mf.data.MFDataset(os.path.join(DATAPATH, '211106_84_2cm_low_energy.h5'))\n",
    "\n",
    "#beamforming_result = np.load(os.path.join(RESULTPATH,'211005_mf_84_100_template_ideal_scores_bottom_tri.npy'))"
   ]
  },
  {
   "cell_type": "code",
   "execution_count": null,
   "id": "4c8f496d",
   "metadata": {},
   "outputs": [],
   "source": [
    "template_metadata = pd.DataFrame(template_data.metadata)"
   ]
  },
  {
   "cell_type": "code",
   "execution_count": null,
   "id": "ae3d46e4",
   "metadata": {},
   "outputs": [],
   "source": [
    "scores.argmax(axis=-1).shape"
   ]
  },
  {
   "cell_type": "code",
   "execution_count": 5,
   "id": "f9f0b9b1",
   "metadata": {},
   "outputs": [],
   "source": [
    "scores = np.load(os.path.join(RESULTPATH, 'scores', '211106_84_25_2cm_low_energy_on_template.npy'))\n",
    "ideal_scores = np.load(os.path.join(RESULTPATH, 'scores', '211112_84_25_self_scores.npy'))\n",
    "\n",
    "\n",
    "match = scores.max(axis=-1) / ideal_scores[scores.argmax(axis=-1)]"
   ]
  },
  {
   "cell_type": "code",
   "execution_count": 9,
   "id": "0fa2343c",
   "metadata": {},
   "outputs": [
    {
     "data": {
      "text/plain": [
       "(12186, 12221)"
      ]
     },
     "execution_count": 9,
     "metadata": {},
     "output_type": "execute_result"
    }
   ],
   "source": [
    "scores.shape"
   ]
  },
  {
   "cell_type": "markdown",
   "id": "27809301",
   "metadata": {},
   "source": [
    "# pick signal, sort scores with metadata, normalize"
   ]
  },
  {
   "cell_type": "code",
   "execution_count": 6,
   "id": "1ed5455e",
   "metadata": {},
   "outputs": [
    {
     "ename": "NameError",
     "evalue": "name 'template_metadata' is not defined",
     "output_type": "error",
     "traceback": [
      "\u001b[0;31m---------------------------------------------------------------------------\u001b[0m",
      "\u001b[0;31mNameError\u001b[0m                                 Traceback (most recent call last)",
      "Cell \u001b[0;32mIn[6], line 1\u001b[0m\n\u001b[0;32m----> 1\u001b[0m energy_array \u001b[38;5;241m=\u001b[39m \u001b[43mtemplate_metadata\u001b[49m[\u001b[38;5;124m'\u001b[39m\u001b[38;5;124menergy\u001b[39m\u001b[38;5;124m'\u001b[39m]\u001b[38;5;241m.\u001b[39marray\n\u001b[1;32m      2\u001b[0m angle_array \u001b[38;5;241m=\u001b[39m template_metadata[\u001b[38;5;124m'\u001b[39m\u001b[38;5;124mtheta_min\u001b[39m\u001b[38;5;124m'\u001b[39m]\u001b[38;5;241m.\u001b[39marray\n\u001b[1;32m      4\u001b[0m unique_energy \u001b[38;5;241m=\u001b[39m np\u001b[38;5;241m.\u001b[39msort(np\u001b[38;5;241m.\u001b[39munique(template_metadata[\u001b[38;5;124m'\u001b[39m\u001b[38;5;124menergy\u001b[39m\u001b[38;5;124m'\u001b[39m]\u001b[38;5;241m.\u001b[39marray))\n",
      "\u001b[0;31mNameError\u001b[0m: name 'template_metadata' is not defined"
     ]
    }
   ],
   "source": [
    "\n",
    "\n",
    "energy_array = template_metadata['energy'].array\n",
    "angle_array = template_metadata['theta_min'].array\n",
    "\n",
    "unique_energy = np.sort(np.unique(template_metadata['energy'].array))\n",
    "unique_angle = np.sort(np.unique(template_metadata['theta_min'].array))\n",
    "\n",
    "energy_grid, angle_grid = np.meshgrid(unique_energy, unique_angle)\n",
    "\n",
    "sorted_match = np.zeros(energy_grid.shape).flatten()\n",
    "\n",
    "for i, pair in enumerate(zip(energy_grid.flatten(), angle_grid.flatten())):\n",
    "    \n",
    "    try:\n",
    "        index = template_metadata[(template_metadata['energy'] == pair[0]) & (template_metadata['theta_min'] == pair[1])].index[0]\n",
    "        sorted_match[i] = match[index]\n",
    "    except:\n",
    "        sorted_match[i] = 0.0\n",
    "        \n",
    "sorted_match = sorted_match.reshape(energy_grid.shape)"
   ]
  },
  {
   "cell_type": "markdown",
   "id": "2f6c3342",
   "metadata": {},
   "source": [
    "# plot"
   ]
  },
  {
   "cell_type": "code",
   "execution_count": null,
   "id": "65f835e5",
   "metadata": {},
   "outputs": [],
   "source": [
    "sns.set_theme(style='ticks', context='talk')\n",
    "cmap = sns.color_palette('mako', as_cmap=True)\n",
    "fig = plt.figure(figsize=(13,8))\n",
    "\n",
    "from matplotlib.colors import LogNorm\n",
    "\n",
    "ax = fig.add_subplot(1,1,1)\n",
    "img = ax.imshow(sorted_match, aspect='auto', interpolation='none', cmap=cmap, \n",
    "                norm=None, extent=(17574 - 18575, 18574 - 18575, 90, 84))\n",
    "cbar = fig.colorbar(img)\n",
    "\n",
    "ax.set_xlabel('Energy Below Window(eV)')\n",
    "ax.set_ylabel('Pitch Angle (deg)')\n",
    "name = f'211112_offaxis2cm_low_energy_3timeslice_match_ratio_25eV_window.png'\n",
    "#ax.plot(signal_energy, signal_angle, 'r.')\n",
    "\n",
    "plt.tight_layout()\n",
    "\n",
    "#plt.savefig(os.path.join(PLOTPATH, name))"
   ]
  },
  {
   "cell_type": "markdown",
   "id": "c91444dd",
   "metadata": {},
   "source": [
    "# plot qualitative"
   ]
  },
  {
   "cell_type": "code",
   "execution_count": null,
   "id": "a523f1bb",
   "metadata": {},
   "outputs": [],
   "source": [
    "sns.set_theme(style='ticks', context='talk')\n",
    "cmap = sns.color_palette('mako', as_cmap=True)\n",
    "fig = plt.figure(figsize=(13,8))\n",
    "\n",
    "from matplotlib.colors import LogNorm\n",
    "\n",
    "ax = fig.add_subplot(1,1,1)\n",
    "img = ax.imshow(sorted_match, aspect='auto', interpolation='none', cmap='Paired', \n",
    "                norm=None, extent=(17574 - 18575, 18574 - 18575, 90, 84))\n",
    "cbar = fig.colorbar(img)\n",
    "\n",
    "ax.set_xlabel('Energy Below Window(eV)')\n",
    "ax.set_ylabel('Pitch Angle (deg)')\n",
    "name = f'211112_offaxis2cm_low_energy_3timeslice_match_ratio_25eV_window_qualitative.png'\n",
    "#ax.plot(signal_energy, signal_angle, 'r.')\n",
    "\n",
    "plt.tight_layout()\n",
    "\n",
    "#plt.savefig(os.path.join(PLOTPATH, name))"
   ]
  },
  {
   "cell_type": "code",
   "execution_count": null,
   "id": "7aea2ca6",
   "metadata": {},
   "outputs": [],
   "source": [
    "x\n",
    "\n",
    "sorted_match[np.argwhere(sorted_match>0.8)[]].shape"
   ]
  },
  {
   "cell_type": "code",
   "execution_count": null,
   "id": "6de74523",
   "metadata": {},
   "outputs": [],
   "source": []
  }
 ],
 "metadata": {
  "kernelspec": {
   "display_name": "Python 3 (ipykernel)",
   "language": "python",
   "name": "python3"
  },
  "language_info": {
   "codemirror_mode": {
    "name": "ipython",
    "version": 3
   },
   "file_extension": ".py",
   "mimetype": "text/x-python",
   "name": "python",
   "nbconvert_exporter": "python",
   "pygments_lexer": "ipython3",
   "version": "3.10.9"
  }
 },
 "nbformat": 4,
 "nbformat_minor": 5
}
