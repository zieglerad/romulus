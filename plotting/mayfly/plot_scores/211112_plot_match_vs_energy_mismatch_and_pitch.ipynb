{
 "cells": [
  {
   "cell_type": "code",
   "execution_count": null,
   "id": "51141118",
   "metadata": {},
   "outputs": [],
   "source": [
    "import numpy as np\n",
    "import mayfly as mf\n",
    "import h5py\n",
    "import pandas as pd\n",
    "import scipy\n",
    "import matplotlib.pyplot as plt\n",
    "import matplotlib\n",
    "import seaborn as sns\n",
    "import os \n",
    "import sys\n",
    "import json\n",
    "import scipy.signal\n",
    "import scipy.stats\n",
    "import scipy.interpolate\n",
    "import pickle as pkl\n",
    "import scipy.optimize\n",
    "\n",
    "PATH = '/storage/home/adz6/group/project/'\n",
    "RESULTPATH = os.path.join(PATH, 'results/mayfly')\n",
    "PLOTPATH = os.path.join(PATH, 'plots/mayfly')\n",
    "DATAPATH = os.path.join(PATH, 'datasets/data')\n",
    "\n",
    "\n",
    "def linear_fit(x, a, b):\n",
    "    \n",
    "    return a + b * x\n",
    "\n"
   ]
  },
  {
   "cell_type": "markdown",
   "id": "bf1a37f9",
   "metadata": {},
   "source": [
    "# load data"
   ]
  },
  {
   "cell_type": "code",
   "execution_count": null,
   "id": "08ba1661",
   "metadata": {},
   "outputs": [],
   "source": [
    "os.listdir(os.path.join(RESULTPATH, 'scores'))"
   ]
  },
  {
   "cell_type": "code",
   "execution_count": null,
   "id": "c51aebd2",
   "metadata": {},
   "outputs": [],
   "source": [
    "os.listdir(os.path.join(DATAPATH))"
   ]
  },
  {
   "cell_type": "code",
   "execution_count": null,
   "id": "6194caa4",
   "metadata": {},
   "outputs": [],
   "source": [
    "template_data = mf.data.MFDataset(os.path.join(DATAPATH, '211106_84_2cm_low_energy.h5'))\n",
    "\n",
    "#beamforming_result = np.load(os.path.join(RESULTPATH,'211005_mf_84_100_template_ideal_scores_bottom_tri.npy'))"
   ]
  },
  {
   "cell_type": "code",
   "execution_count": null,
   "id": "4c8f496d",
   "metadata": {},
   "outputs": [],
   "source": [
    "template_metadata = pd.DataFrame(template_data.metadata)"
   ]
  },
  {
   "cell_type": "code",
   "execution_count": null,
   "id": "ae3d46e4",
   "metadata": {},
   "outputs": [],
   "source": [
    "scores.argmax(axis=-1).shape"
   ]
  },
  {
   "cell_type": "code",
   "execution_count": null,
   "id": "f9f0b9b1",
   "metadata": {},
   "outputs": [],
   "source": [
    "scores = np.load(os.path.join(RESULTPATH, 'scores', '211106_84_25_2cm_low_energy_on_template.npy'))\n",
    "ideal_scores = np.load(os.path.join(RESULTPATH, 'scores', '211112_84_25_self_scores.npy'))\n",
    "\n",
    "\n",
    "match = scores.max(axis=-1) / ideal_scores[scores.argmax(axis=-1)]"
   ]
  },
  {
   "cell_type": "markdown",
   "id": "27809301",
   "metadata": {},
   "source": [
    "# pick signal, sort scores with metadata, normalize"
   ]
  },
  {
   "cell_type": "code",
   "execution_count": null,
   "id": "1ed5455e",
   "metadata": {},
   "outputs": [],
   "source": [
    "\n",
    "\n",
    "energy_array = template_metadata['energy'].array\n",
    "angle_array = template_metadata['theta_min'].array\n",
    "\n",
    "unique_energy = np.sort(np.unique(template_metadata['energy'].array))\n",
    "unique_angle = np.sort(np.unique(template_metadata['theta_min'].array))\n",
    "\n",
    "energy_grid, angle_grid = np.meshgrid(unique_energy, unique_angle)\n",
    "\n",
    "sorted_match = np.zeros(energy_grid.shape).flatten()\n",
    "\n",
    "for i, pair in enumerate(zip(energy_grid.flatten(), angle_grid.flatten())):\n",
    "    \n",
    "    try:\n",
    "        index = template_metadata[(template_metadata['energy'] == pair[0]) & (template_metadata['theta_min'] == pair[1])].index[0]\n",
    "        sorted_match[i] = match[index]\n",
    "    except:\n",
    "        sorted_match[i] = 0.0\n",
    "        \n",
    "sorted_match = sorted_match.reshape(energy_grid.shape)"
   ]
  },
  {
   "cell_type": "markdown",
   "id": "2f6c3342",
   "metadata": {},
   "source": [
    "# plot"
   ]
  },
  {
   "cell_type": "code",
   "execution_count": null,
   "id": "65f835e5",
   "metadata": {},
   "outputs": [],
   "source": [
    "sns.set_theme(style='ticks', context='talk')\n",
    "cmap = sns.color_palette('mako', as_cmap=True)\n",
    "fig = plt.figure(figsize=(13,8))\n",
    "\n",
    "from matplotlib.colors import LogNorm\n",
    "\n",
    "ax = fig.add_subplot(1,1,1)\n",
    "img = ax.imshow(sorted_match, aspect='auto', interpolation='none', cmap=cmap, \n",
    "                norm=None, extent=(17574 - 18575, 18574 - 18575, 90, 84))\n",
    "cbar = fig.colorbar(img)\n",
    "\n",
    "ax.set_xlabel('Energy Below Window(eV)')\n",
    "ax.set_ylabel('Pitch Angle (deg)')\n",
    "name = f'211112_offaxis2cm_low_energy_3timeslice_match_ratio_25eV_window.png'\n",
    "#ax.plot(signal_energy, signal_angle, 'r.')\n",
    "\n",
    "plt.tight_layout()\n",
    "\n",
    "#plt.savefig(os.path.join(PLOTPATH, name))"
   ]
  },
  {
   "cell_type": "markdown",
   "id": "c91444dd",
   "metadata": {},
   "source": [
    "# plot qualitative"
   ]
  },
  {
   "cell_type": "code",
   "execution_count": null,
   "id": "a523f1bb",
   "metadata": {},
   "outputs": [],
   "source": [
    "sns.set_theme(style='ticks', context='talk')\n",
    "cmap = sns.color_palette('mako', as_cmap=True)\n",
    "fig = plt.figure(figsize=(13,8))\n",
    "\n",
    "from matplotlib.colors import LogNorm\n",
    "\n",
    "ax = fig.add_subplot(1,1,1)\n",
    "img = ax.imshow(sorted_match, aspect='auto', interpolation='none', cmap='Paired', \n",
    "                norm=None, extent=(17574 - 18575, 18574 - 18575, 90, 84))\n",
    "cbar = fig.colorbar(img)\n",
    "\n",
    "ax.set_xlabel('Energy Below Window(eV)')\n",
    "ax.set_ylabel('Pitch Angle (deg)')\n",
    "name = f'211112_offaxis2cm_low_energy_3timeslice_match_ratio_25eV_window_qualitative.png'\n",
    "#ax.plot(signal_energy, signal_angle, 'r.')\n",
    "\n",
    "plt.tight_layout()\n",
    "\n",
    "#plt.savefig(os.path.join(PLOTPATH, name))"
   ]
  },
  {
   "cell_type": "code",
   "execution_count": null,
   "id": "7aea2ca6",
   "metadata": {},
   "outputs": [],
   "source": [
    "x\n",
    "\n",
    "sorted_match[np.argwhere(sorted_match>0.8)[]].shape"
   ]
  },
  {
   "cell_type": "code",
   "execution_count": null,
   "id": "6de74523",
   "metadata": {},
   "outputs": [],
   "source": []
  }
 ],
 "metadata": {
  "kernelspec": {
   "display_name": "Python 3",
   "language": "python",
   "name": "python3"
  },
  "language_info": {
   "codemirror_mode": {
    "name": "ipython",
    "version": 3
   },
   "file_extension": ".py",
   "mimetype": "text/x-python",
   "name": "python",
   "nbconvert_exporter": "python",
   "pygments_lexer": "ipython3",
   "version": "3.8.10"
  }
 },
 "nbformat": 4,
 "nbformat_minor": 5
}
