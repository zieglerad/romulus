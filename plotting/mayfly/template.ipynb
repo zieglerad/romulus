{
 "cells": [
  {
   "cell_type": "code",
   "execution_count": null,
   "id": "51141118",
   "metadata": {},
   "outputs": [],
   "source": [
    "import numpy as np\n",
    "import mayfly as mf\n",
    "import h5py\n",
    "import pandas as pf\n",
    "import scipy\n",
    "import matplotlib.pyplot as plt\n",
    "import seaborn as sns\n",
    "import os \n",
    "import sys\n",
    "import json\n",
    "\n",
    "PATH = '/storage/home/adz6/group/project/'\n",
    "RESULTPATH = os.path.join(PATH, 'results/mayfly')\n",
    "PLOTPATH = os.path.join(PATH, 'plots/mayfly')\n",
    "\n"
   ]
  }
 ],
 "metadata": {
  "kernelspec": {
   "display_name": "Python 3",
   "language": "python",
   "name": "python3"
  },
  "language_info": {
   "codemirror_mode": {
    "name": "ipython",
    "version": 3
   },
   "file_extension": ".py",
   "mimetype": "text/x-python",
   "name": "python",
   "nbconvert_exporter": "python",
   "pygments_lexer": "ipython3",
   "version": "3.8.10"
  }
 },
 "nbformat": 4,
 "nbformat_minor": 5
}
