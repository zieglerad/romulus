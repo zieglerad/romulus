{
 "cells": [
  {
   "cell_type": "code",
   "execution_count": null,
   "id": "b207376f",
   "metadata": {},
   "outputs": [],
   "source": [
    "import moth\n",
    "import os\n",
    "import sys\n",
    "import numpy as np\n",
    "import pandas as pd\n",
    "import matplotlib.pyplot as plt\n",
    "import seaborn as sns\n",
    "import scipy\n",
    "\n",
    "\n",
    "PATH = '/storage/home/adz6/group/project'\n",
    "VNADATAPATH = os.path.join(PATH, 'vna_data')\n",
    "MOTHPATH = os.path.join(PATH, 'moth')\n",
    "MOTHDATA = os.path.join(MOTHPATH, 'data/datasets')\n"
   ]
  },
  {
   "cell_type": "code",
   "execution_count": null,
   "id": "075e98dc",
   "metadata": {},
   "outputs": [],
   "source": [
    "moth_dataset_name = '210701_cres1_antenna_pattern_calibration.h5'\n",
    "cres1_data = moth.data.MothData(os.path.join(MOTHDATA, moth_dataset_name))"
   ]
  },
  {
   "cell_type": "code",
   "execution_count": null,
   "id": "27756560",
   "metadata": {},
   "outputs": [],
   "source": [
    "frequencies[3000]"
   ]
  },
  {
   "cell_type": "code",
   "execution_count": null,
   "id": "001a80b9",
   "metadata": {},
   "outputs": [],
   "source": [
    "frequencies = np.int64(list(cres1_data.data.keys()))\n",
    "\n",
    "frequency = frequencies[500]\n",
    "radius = 10.0\n",
    "\n",
    "dataframe = cres1_data.data[frequency]\n",
    "\n",
    "pattern_data = dataframe[dataframe['r'] == radius]\n"
   ]
  },
  {
   "cell_type": "code",
   "execution_count": null,
   "id": "10ac1ac4",
   "metadata": {},
   "outputs": [],
   "source": [
    "theta_vec = np.sort(pattern_data['theta'].unique())\n",
    "z_vec = np.sort(pattern_data['z'].unique())\n",
    "\n",
    "theta_grid, z_grid = np.meshgrid(theta_vec, z_vec)\n",
    "\n",
    "s_grid = np.zeros(theta_grid.shape, dtype=np.complex128)\n",
    "\n",
    "for i in range(theta_grid.shape[0]):\n",
    "    for j in range(theta_grid.shape[1]):\n",
    "        try:\n",
    "            s_grid[i, j] = pattern_data[(pattern_data['theta'] == theta_grid[i, j]) & (pattern_data['z'] == z_grid[i, j])]['s-param'].item()\n",
    "        except ValueError:\n",
    "            print(f'({theta_grid[i, j]}, {z_grid[i, j]}) is NaN')\n",
    "            s_grid[i, j] = np.nan\n",
    "            \n",
    "s_mag_grid = 10 * np.log10(abs(s_grid))\n",
    "s_phase_grid = np.angle(s_grid)\n",
    "\n",
    "theta_grid = np.radians(theta_grid)\n",
    "\n",
    "s_mag_grid[np.argwhere(np.isnan(s_mag_grid))[:, 0], np.argwhere(np.isnan(s_mag_grid))[:, 1]] = np.mean(\n",
    "    s_mag_grid[np.argwhere(~np.isnan(s_mag_grid))[:, 0], np.argwhere(~np.isnan(s_mag_grid))[:, 1]])\n",
    "\n",
    "s_phase_grid[np.argwhere(np.isnan(s_phase_grid))[:, 0], np.argwhere(np.isnan(s_phase_grid))[:, 1]] = 0\n",
    "\n",
    "s_phase_grid = np.unwrap(s_phase_grid)\n",
    "s_phase_grid -= np.mean(s_phase_grid[:, 0])"
   ]
  },
  {
   "cell_type": "code",
   "execution_count": null,
   "id": "fb5474db",
   "metadata": {},
   "outputs": [],
   "source": [
    "fig = plt.figure(figsize=(13, 8))\n",
    "sns.set_theme(context='talk', style='ticks')\n",
    "cmap = sns.color_palette(palette='mako', as_cmap=True)\n",
    "\n",
    "#print(cmap)\n",
    "ax = fig.add_subplot(1,1,1, projection='3d')\n",
    "ax.view_init(30, -60)\n",
    "\n",
    "#ax.plot3D(x,y,z, '.')\n",
    "plot = ax.plot_surface(theta_grid, z_grid, s_mag_grid, cmap=cmap )\n",
    "\n",
    "ax.set_zlim(-50, -10)\n",
    "\n",
    "ax.set_ylabel('Axial Position from PCB (cm)', labelpad=16)\n",
    "ax.set_xlabel('Angle (rad)', labelpad=10)\n",
    "ax.set_zlabel('Calibrated\\n S-Param Magnitude (dB)', labelpad=16)\n",
    "\n",
    "plot.set_linewidth(.1)\n",
    "\n",
    "plt.tight_layout()\n",
    "\n",
    "fig = plt.figure(figsize=(13, 8))\n",
    "ax = fig.add_subplot(1,1,1, projection='3d')\n",
    "ax.view_init(0, 270)\n",
    "\n",
    "#ax.plot3D(x,y,z, '.')\n",
    "plot = ax.plot_surface(theta_grid, z_grid, s_mag_grid, cmap=cmap )\n",
    "\n",
    "#ax.set_ylabel('Axial Position from PCB (cm)', labelpad=16)\n",
    "ax.set_xlabel('Angle (rad)', labelpad=10)\n",
    "ax.set_zlabel('Calibrated\\n S-Param Magnitude (dB)', labelpad=32)\n",
    "ax.tick_params(axis = 'z', pad = 10)\n",
    "plot.set_linewidth(.1)\n",
    "\n",
    "\n",
    "ax.set_zlim(-50, -10)\n",
    "plt.tight_layout()\n",
    "\n",
    "fig = plt.figure(figsize=(13, 8))\n",
    "ax = fig.add_subplot(1,1,1, projection='3d')\n",
    "ax.view_init(90, 270)\n",
    "\n",
    "#ax.plot3D(x,y,z, '.')\n",
    "plot = ax.plot_surface(theta_grid, z_grid, s_mag_grid, cmap=cmap )\n",
    "\n",
    "ax.set_ylabel('Axial Position from PCB (cm)', labelpad=36)\n",
    "ax.set_xlabel('Angle (rad)', labelpad=16)\n",
    "#ax.set_zlabel('Calibrated\\n S-Param Magnitude (dB)', labelpad=16)\n",
    "ax.tick_params(pad = 14)\n",
    "plot.set_linewidth(.1)\n",
    "\n",
    "\n",
    "ax.set_zlim(-50, -10)\n",
    "plt.tight_layout()"
   ]
  },
  {
   "cell_type": "code",
   "execution_count": null,
   "id": "70f92782",
   "metadata": {},
   "outputs": [],
   "source": [
    "ax.tick_params"
   ]
  },
  {
   "cell_type": "code",
   "execution_count": null,
   "id": "656a32d0",
   "metadata": {},
   "outputs": [],
   "source": [
    "fig = plt.figure(figsize=(13, 8))\n",
    "cmap = sns.color_palette(palette='mako', as_cmap=True)\n",
    "#print(cmap)\n",
    "ax = fig.add_subplot(1,1,1, projection='3d')\n",
    "ax.view_init(30, -60)\n",
    "\n",
    "#ax.plot3D(x,y,z, '.')\n",
    "ax.plot_surface(theta_grid, z_grid, s_phase_grid, cmap=cmap )\n",
    "\n",
    "ax.set_zlim(0, 2*np.pi)\n",
    "plt.tight_layout()\n",
    "\n",
    "fig = plt.figure(figsize=(13, 8))\n",
    "cmap = sns.color_palette(palette='mako', as_cmap=True)\n",
    "#print(cmap)\n",
    "ax = fig.add_subplot(1,1,1, projection='3d')\n",
    "ax.view_init(0, -90)\n",
    "ax.set_zlim(0, 2*np.pi)\n",
    "\n",
    "\n",
    "#ax.plot3D(x,y,z, '.')\n",
    "ax.plot_surface(theta_grid, z_grid, s_phase_grid, cmap=cmap )\n",
    "\n",
    "#ax.set_zlim(-50, -10)\n",
    "plt.tight_layout()\n",
    "\n",
    "fig = plt.figure(figsize=(13, 8))\n",
    "cmap = sns.color_palette(palette='mako', as_cmap=True)\n",
    "#print(cmap)\n",
    "ax = fig.add_subplot(1,1,1, projection='3d')\n",
    "ax.view_init(90, 270)\n",
    "\n",
    "#ax.plot3D(x,y,z, '.')\n",
    "ax.plot_surface(theta_grid, z_grid, s_phase_grid, cmap=cmap )\n",
    "\n",
    "#ax.set_zlim(-50, -10)\n",
    "plt.tight_layout()"
   ]
  },
  {
   "cell_type": "code",
   "execution_count": null,
   "id": "e8e9b257",
   "metadata": {},
   "outputs": [],
   "source": [
    "spline_interpolation = scipy.interpolate.RectBivariateSpline(theta_vec, z_vec, s_mag_grid.T)\n",
    "\n",
    "interp_theta = np.radians(np.linspace(0, 360, 201))\n",
    "interp_z  = np.linspace(-1, 1, 201)\n",
    "\n",
    "interp_s = spline_interpolation.__call__(interp_theta, interp_z)\n",
    "print(interp_s)"
   ]
  },
  {
   "cell_type": "code",
   "execution_count": null,
   "id": "082c15e0",
   "metadata": {},
   "outputs": [],
   "source": [
    "interp_grid_theta, interp_grid_z = np.meshgrid(interp_theta, interp_z)\n",
    "\n",
    "fig = plt.figure(figsize=(13, 8))\n",
    "cmap = sns.color_palette()\n",
    "#print(cmap)\n",
    "ax = fig.add_subplot(1,1,1, projection='3d')\n",
    "\n",
    "#ax.plot3D(x,y,z, '.')\n",
    "ax.plot_surface(interp_grid_theta, interp_grid_z, interp_s, color = cmap[0] )\n",
    "\n",
    "ax.set_zlim(-50, -10)\n"
   ]
  },
  {
   "cell_type": "code",
   "execution_count": null,
   "id": "d190e894",
   "metadata": {},
   "outputs": [],
   "source": [
    "theta_vec = np.sort(pattern_data['theta'].unique())\n",
    "z_vec = np.sort(pattern_data['z'].unique())\n",
    "\n",
    "theta_grid, z_grid, s_grid = np.zeros((theta_vec.size, z_vec.size)), np.zeros((theta_vec.size, z_vec.size)), np.zeros((theta_vec.size, z_vec.size), dtype=np.complex128)\n",
    "\n",
    "for i, theta in enumerate(theta_vec):\n",
    "    for j, z in enumerate(z_vec):\n",
    "        theta_grid[i, j] = theta\n",
    "        z_grid[i, j] = z\n",
    "        #print(theta, z, pattern_data[(pattern_data['theta'] == theta) & (pattern_data['z'] == z)]['s-param'])\n",
    "        try:\n",
    "            s_grid[i, j] = pattern_data[(pattern_data['theta'] == theta) & (pattern_data['z'] == z)]['s-param'].item()\n",
    "        except ValueError:\n",
    "            print(f'({theta}, {z}) is NaN')\n",
    "            s_grid[i, j] = np.nan\n",
    "            \n",
    "s_grid = 10 * np.log10(abs(s_grid)) # convert to dB\n",
    "\n",
    "x_grid = s_grid * np.cos(theta_grid)\n",
    "y_grid = s_grid * np.sin(theta_grid)"
   ]
  },
  {
   "cell_type": "code",
   "execution_count": null,
   "id": "182bbbba",
   "metadata": {},
   "outputs": [],
   "source": [
    "r = np.array(10 * np.log10(abs(pattern_data['s-param']))) # the value\n",
    "\n",
    "theta = np.array(np.radians(pattern_data['theta']))\n",
    "z = np.array(pattern_data['z'])\n",
    "\n",
    "points = np.array([theta, z]).T\n",
    "print(points.shape)\n",
    "\n",
    "plot_z = np.linspace(-1, 1, 15)\n",
    "plot_theta = np.radians(np.arange(0, 360, 1))\n"
   ]
  },
  {
   "cell_type": "code",
   "execution_count": null,
   "id": "922e05d6",
   "metadata": {},
   "outputs": [],
   "source": [
    "z_grid, theta_grid = np.meshgrid(z, theta)\n",
    "\n",
    "r_grid = r.reshape(r.size, 1).repeat(r.size, axis=1)\n",
    "\n",
    "x_grid = r_grid * np.cos(theta_grid)\n",
    "y_grid = r_grid * np.sin(theta_grid)"
   ]
  },
  {
   "cell_type": "code",
   "execution_count": null,
   "id": "b9928abf",
   "metadata": {},
   "outputs": [],
   "source": [
    "print(theta_grid[:, 0])\n",
    "print(r_grid[:, 0])\n",
    "print(z_grid[0, :])"
   ]
  },
  {
   "cell_type": "code",
   "execution_count": null,
   "id": "4beb498b",
   "metadata": {},
   "outputs": [],
   "source": [
    "fig = plt.figure()\n",
    "\n",
    "ax = fig.add_subplot(1,1,1, projection='3d')\n",
    "\n",
    "#x.plot3D(x,y,z, '.')\n",
    "ax.plot_surface(x_grid, y_grid, z_grid)\n"
   ]
  },
  {
   "cell_type": "code",
   "execution_count": null,
   "id": "6401c426",
   "metadata": {},
   "outputs": [],
   "source": [
    "scipy.interpolate.griddata(points, r, (grid_points[:, 0], grid_points[:, 1]))"
   ]
  },
  {
   "cell_type": "code",
   "execution_count": null,
   "id": "590d9f7c",
   "metadata": {},
   "outputs": [],
   "source": [
    "fig = plt.figure()\n",
    "\n",
    "ax = fig.add_subplot(1,1,1, projection='3d')\n",
    "\n",
    "#x.plot3D(x,y,z, '.')\n",
    "ax.plot_surface(xgrid[0, :], ygrid[0, :], zgrid[0, :])\n",
    "\n",
    "#ax.set_xlim(-1e-2, 1e-2)\n",
    "#ax.set_ylim(-1e-2, 1e-2)"
   ]
  },
  {
   "cell_type": "code",
   "execution_count": null,
   "id": "6ec81874",
   "metadata": {},
   "outputs": [],
   "source": [
    "#xgrid.shape\n",
    "xgrid"
   ]
  },
  {
   "cell_type": "code",
   "execution_count": null,
   "id": "1931efc0",
   "metadata": {},
   "outputs": [],
   "source": [
    "power = PowerVsAngleSingleFreq(3000, angles, pattern_data)"
   ]
  },
  {
   "cell_type": "code",
   "execution_count": null,
   "id": "038c823e",
   "metadata": {},
   "outputs": [],
   "source": [
    "plt.plot(angles, 10 * np.log10(abs(power)))\n",
    "plt.ylim(-50, -20)"
   ]
  },
  {
   "cell_type": "code",
   "execution_count": null,
   "id": "448dc40e",
   "metadata": {},
   "outputs": [],
   "source": [
    "plt.plot(angles, np.angle(power))"
   ]
  },
  {
   "cell_type": "code",
   "execution_count": null,
   "id": "ba0517c0",
   "metadata": {},
   "outputs": [],
   "source": []
  }
 ],
 "metadata": {
  "kernelspec": {
   "display_name": "Python 3",
   "language": "python",
   "name": "python3"
  },
  "language_info": {
   "codemirror_mode": {
    "name": "ipython",
    "version": 3
   },
   "file_extension": ".py",
   "mimetype": "text/x-python",
   "name": "python",
   "nbconvert_exporter": "python",
   "pygments_lexer": "ipython3",
   "version": "3.8.10"
  }
 },
 "nbformat": 4,
 "nbformat_minor": 5
}
