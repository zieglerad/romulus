{
 "cells": [
  {
   "cell_type": "code",
   "execution_count": null,
   "id": "b207376f",
   "metadata": {},
   "outputs": [],
   "source": [
    "import moth\n",
    "import os\n",
    "import sys\n",
    "import numpy as np\n",
    "import pandas as pd\n",
    "import matplotlib.pyplot as plt\n",
    "import seaborn as sns\n",
    "import scipy\n",
    "from matplotlib.animation import FuncAnimation\n",
    "\n",
    "\n",
    "PATH = '/storage/home/adz6/group/project'\n",
    "VNADATAPATH = os.path.join(PATH, 'vna_data')\n",
    "MOTHPATH = os.path.join(PATH, 'moth')\n",
    "MOTHDATA = os.path.join(MOTHPATH, 'data/datasets')\n",
    "MOTHRESULTS = os.path.join(PATH, 'results/moth')\n",
    "MOTHPLOT = os.path.join(PATH, 'plots/moth')\n",
    "DAQDATAPATH = os.path.join(PATH, 'daq_data')\n"
   ]
  },
  {
   "cell_type": "code",
   "execution_count": null,
   "id": "ddc563ea",
   "metadata": {},
   "outputs": [],
   "source": [
    "os.listdir(MOTHRESULTS)"
   ]
  },
  {
   "cell_type": "code",
   "execution_count": null,
   "id": "075e98dc",
   "metadata": {},
   "outputs": [],
   "source": [
    "os.listdir(MOTHRESULTS)\n",
    "beamforming_data = []\n",
    "\n",
    "datadir = '210911_cres_antenna_single_channel_offaxis_range'\n",
    "acq = os.listdir(os.path.join(DAQDATAPATH, datadir))\n",
    "\n",
    "#nacq = []\n",
    "#for iacq in acq:\n",
    "#    nacq.append(int(iacq))\n",
    "\n",
    "#for i, file in enumerate(os.listdir(MOTHRESULTS)):\n",
    "    \n",
    "beamforming_data = np.load(os.path.join(MOTHRESULTS,'211019_cres_antenna_offaxis_range_beamforming_calib_120ch_0_no_anti_spiral.npy'))\n",
    "    \n",
    "\n",
    "    \n"
   ]
  },
  {
   "cell_type": "code",
   "execution_count": null,
   "id": "6212bdb6",
   "metadata": {},
   "outputs": [],
   "source": [
    "print(np.max(beamforming_data[0, :, :]), np.min(beamforming_data[0, :, :]))"
   ]
  },
  {
   "cell_type": "markdown",
   "id": "7760c301",
   "metadata": {},
   "source": [
    "# plot gif"
   ]
  },
  {
   "cell_type": "code",
   "execution_count": null,
   "id": "27756560",
   "metadata": {},
   "outputs": [],
   "source": [
    "sns.set_theme(context='talk', style='ticks')\n",
    "fig = plt.figure(figsize=(8,8))\n",
    "ax = fig.add_subplot(1,1,1)\n",
    "\n",
    "cmap = sns.color_palette('mako_r', as_cmap=True)\n",
    "\n",
    "img = ax.imshow(beamforming_data[0, :, :], cmap=cmap, extent = (-3, 3, 3, -3))\n",
    "ax.set_xlabel('X-Position (cm)')\n",
    "ax.set_ylabel('Y-Position (cm)')\n",
    "ax.set_title('Locust Off-axis Position Reconstruction')\n",
    "\n",
    "\n",
    "cbar = fig.colorbar(img, label=r'Power ($|V^2|$)')\n",
    "\n",
    "\n",
    "def animate(i):\n",
    "    img.set_data(beamforming_data[i, :, :])\n",
    "    \n",
    "    return img,\n",
    "\n",
    "ani = FuncAnimation(\n",
    "    fig, animate, frames=np.arange(0, 16, 1), blit=True, interval=200)\n",
    "ani.save(os.path.join(MOTHPLOT, '211019_offaxis_range_beamforming_120ch_no_antispiral.gif'))\n",
    "#ani.save('/Users/ziegler/plots/test_movie.gif')\n",
    "plt.show()\n"
   ]
  },
  {
   "cell_type": "markdown",
   "id": "b7daa0d7",
   "metadata": {},
   "source": [
    "# plot still"
   ]
  },
  {
   "cell_type": "code",
   "execution_count": null,
   "id": "ba0517c0",
   "metadata": {},
   "outputs": [],
   "source": [
    "frame = 20\n",
    "\n",
    "sns.set_theme(context='talk', style='ticks')\n",
    "fig = plt.figure(figsize=(8,8))\n",
    "ax = fig.add_subplot(1,1,1)\n",
    "\n",
    "cmap = sns.color_palette('mako', as_cmap=True)\n",
    "\n",
    "img = ax.imshow(beamforming_data[frame, :, :], cmap=cmap, extent=(-3, 3, -3, 3))\n",
    "ax.set_xlabel('X-Position (cm)')\n",
    "ax.set_ylabel('Y-Position (cm)')\n",
    "ax.set_title('CRES Antenna Position Reconstruction\\n No Anti-Spiral Phase Shift')\n",
    "\n",
    "\n",
    "cbar = fig.colorbar(img, label=r'Power ($|V^2|$)')\n",
    "\n",
    "plt.savefig(os.path.join(MOTHPLOT, '210913_offaxis_range_beamforming_mako_offaxis'))"
   ]
  },
  {
   "cell_type": "code",
   "execution_count": null,
   "id": "4859244b",
   "metadata": {},
   "outputs": [],
   "source": []
  }
 ],
 "metadata": {
  "kernelspec": {
   "display_name": "Python 3",
   "language": "python",
   "name": "python3"
  },
  "language_info": {
   "codemirror_mode": {
    "name": "ipython",
    "version": 3
   },
   "file_extension": ".py",
   "mimetype": "text/x-python",
   "name": "python",
   "nbconvert_exporter": "python",
   "pygments_lexer": "ipython3",
   "version": "3.8.10"
  }
 },
 "nbformat": 4,
 "nbformat_minor": 5
}
