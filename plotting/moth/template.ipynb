{
 "cells": [
  {
   "cell_type": "code",
   "execution_count": null,
   "id": "ce464a70",
   "metadata": {},
   "outputs": [],
   "source": [
    "import moth\n",
    "import os\n",
    "import sys\n",
    "import numpy as np\n",
    "import pandas as pd\n",
    "import matplotlib.pyplot as plt\n",
    "import seaborn as sns\n",
    "\n",
    "PATH = '/storage/home/adz6/group/project'\n",
    "VNADATAPATH = os.path.join(PATH, 'vna_data')\n",
    "MOTHPATH = os.path.join(PATH, 'moth')\n",
    "MOTHDATA = os.path.join(MOTHPATH, 'data/datasets')\n",
    "\n"
   ]
  }
 ],
 "metadata": {
  "kernelspec": {
   "display_name": "Python 3",
   "language": "python",
   "name": "python3"
  },
  "language_info": {
   "codemirror_mode": {
    "name": "ipython",
    "version": 3
   },
   "file_extension": ".py",
   "mimetype": "text/x-python",
   "name": "python",
   "nbconvert_exporter": "python",
   "pygments_lexer": "ipython3",
   "version": "3.8.10"
  }
 },
 "nbformat": 4,
 "nbformat_minor": 5
}
